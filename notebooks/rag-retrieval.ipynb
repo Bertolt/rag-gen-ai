{
 "cells": [
  {
   "cell_type": "code",
   "execution_count": 80,
   "id": "2d1bd524",
   "metadata": {},
   "outputs": [
    {
     "name": "stdout",
     "output_type": "stream",
     "text": [
      "Name: pinecone\n",
      "Version: 6.0.2\n",
      "Summary: Pinecone client and SDK\n",
      "Home-page: https://www.pinecone.io\n",
      "Author: Pinecone Systems, Inc.\n",
      "Author-email: support@pinecone.io\n",
      "License: Apache-2.0\n",
      "Location: c:\\Users\\kadda\\github_repos\\rag-gen-ai\\.venv\\Lib\\site-packages\n",
      "Requires: certifi, pinecone-plugin-interface, python-dateutil, typing-extensions, urllib3\n",
      "Required-by: \n"
     ]
    }
   ],
   "source": [
    "# Debug pinecone installation\n",
    "!pip show pinecone"
   ]
  },
  {
   "cell_type": "code",
   "execution_count": 81,
   "id": "93a94805",
   "metadata": {},
   "outputs": [
    {
     "name": "stdout",
     "output_type": "stream",
     "text": [
      "c:\\Users\\kadda\\github_repos\\rag-gen-ai\\.venv\\Scripts\\python.exe\n",
      "['C:\\\\Users\\\\kadda\\\\AppData\\\\Local\\\\Programs\\\\Python\\\\Python313\\\\python313.zip', 'C:\\\\Users\\\\kadda\\\\AppData\\\\Local\\\\Programs\\\\Python\\\\Python313\\\\DLLs', 'C:\\\\Users\\\\kadda\\\\AppData\\\\Local\\\\Programs\\\\Python\\\\Python313\\\\Lib', 'C:\\\\Users\\\\kadda\\\\AppData\\\\Local\\\\Programs\\\\Python\\\\Python313', 'c:\\\\Users\\\\kadda\\\\github_repos\\\\rag-gen-ai\\\\.venv', '', 'c:\\\\Users\\\\kadda\\\\github_repos\\\\rag-gen-ai\\\\.venv\\\\Lib\\\\site-packages', 'c:\\\\Users\\\\kadda\\\\github_repos\\\\rag-gen-ai\\\\.venv\\\\Lib\\\\site-packages\\\\win32', 'c:\\\\Users\\\\kadda\\\\github_repos\\\\rag-gen-ai\\\\.venv\\\\Lib\\\\site-packages\\\\win32\\\\lib', 'c:\\\\Users\\\\kadda\\\\github_repos\\\\rag-gen-ai\\\\.venv\\\\Lib\\\\site-packages\\\\Pythonwin']\n"
     ]
    }
   ],
   "source": [
    "import sys\n",
    "print(sys.executable)\n",
    "print(sys.path)"
   ]
  },
  {
   "cell_type": "code",
   "execution_count": 82,
   "id": "1531095a",
   "metadata": {},
   "outputs": [],
   "source": [
    "from openai import OpenAI\n",
    "from pinecone import Pinecone, ServerlessSpec\n",
    "from bs4 import BeautifulSoup\n",
    "\n",
    "import hashlib\n",
    "import os\n",
    "from dotenv import load_dotenv\n",
    "\n",
    "from datetime import datetime\n",
    "\n",
    "from tqdm import tqdm"
   ]
  },
  {
   "cell_type": "code",
   "execution_count": 83,
   "id": "d3ba2f27",
   "metadata": {},
   "outputs": [
    {
     "name": "stdout",
     "output_type": "stream",
     "text": [
      "API key loaded: pcsk_pxt...\n",
      "<pinecone.control.pinecone.Pinecone object at 0x000002673D9A16E0>\n"
     ]
    }
   ],
   "source": [
    "load_dotenv()\n",
    "# Retrieve the Pinecone API key from user data\n",
    "pinecone_api_key = os.environ.get(\"PINECONE_API_KEY\")\n",
    "\n",
    "print(f\"API key loaded: {pinecone_api_key[:8]}...\" if pinecone_api_key else \"No API key found\")\n",
    "\n",
    "# Initialize the OpenAI client\n",
    "openai_client = OpenAI(\n",
    "    api_key=os.environ.get(\"OPENAI_API_KEY\")\n",
    ")\n",
    "\n",
    "# Define constants [vector size, embedding engine] small: 1536 medium: 4096 large: 12288\n",
    "ENGINE = 'text-embedding-3-small'\n",
    "\n",
    "# Initialize Pinecone client\n",
    "pc = Pinecone(\n",
    "    pinecone_api_key=pinecone_api_key\n",
    ")\n",
    "print(pc)"
   ]
  },
  {
   "cell_type": "code",
   "execution_count": 84,
   "id": "9e073d60",
   "metadata": {},
   "outputs": [
    {
     "data": {
      "text/plain": [
       "(1536, 2)"
      ]
     },
     "execution_count": 84,
     "metadata": {},
     "output_type": "execute_result"
    }
   ],
   "source": [
    "INDEX_NAME = 'semantic-search-rag-index' # name of the collection of documents\n",
    "NAMESPACE = 'default' # split the documents into namespaces. default is 'default'\n",
    "\n",
    "def get_embeddings(text, engine=ENGINE):\n",
    "    \"\"\"\n",
    "    Get the embeddings for a given text using OpenAI's API.\n",
    "    \"\"\"\n",
    "    response = openai_client.embeddings.create(\n",
    "            input=text,\n",
    "            model=engine\n",
    "        )\n",
    "    return [data.embedding for data in list(response.data)]\n",
    "\n",
    "def get_embedding(text, engine=ENGINE):\n",
    "    \"\"\"\n",
    "    Get the embedding for a given text using OpenAI's API.\n",
    "    Use the get_embeddings function to get the embedding for a single text\n",
    "    \"\"\"\n",
    "    return get_embeddings(text, engine)[0]\n",
    "\n",
    "len(get_embedding(\"Hello world!\")), len(get_embeddings([\"Hello world!\", \"Servus Welt\"]))\n"
   ]
  },
  {
   "cell_type": "code",
   "execution_count": 85,
   "id": "1799c7c3",
   "metadata": {},
   "outputs": [
    {
     "data": {
      "text/plain": [
       "<pinecone.data.index.Index at 0x2673b7cfbd0>"
      ]
     },
     "execution_count": 85,
     "metadata": {},
     "output_type": "execute_result"
    }
   ],
   "source": [
    "if INDEX_NAME not in pc.list_indexes().names():\n",
    "    # Create the index if it doesn't exist\n",
    "    pc.create_index(\n",
    "        name=INDEX_NAME, # name of the index\n",
    "        dimension=1536, # dimension of the embedding for OpenAI's text-embedding-3-small\n",
    "        metric='cosine', # metric for similarity search\n",
    "        spec=ServerlessSpec(\n",
    "            cloud='aws',\n",
    "            region='us-east-1',\n",
    "        )\n",
    "    )\n",
    "\n",
    "# Store the index as variable\n",
    "index = pc.Index(INDEX_NAME)\n",
    "index"
   ]
  },
  {
   "cell_type": "code",
   "execution_count": 86,
   "id": "2985baa8",
   "metadata": {},
   "outputs": [
    {
     "data": {
      "text/plain": [
       "{'dimension': 1536,\n",
       " 'index_fullness': 0.0,\n",
       " 'metric': 'cosine',\n",
       " 'namespaces': {},\n",
       " 'total_vector_count': 0,\n",
       " 'vector_type': 'dense'}"
      ]
     },
     "execution_count": 86,
     "metadata": {},
     "output_type": "execute_result"
    }
   ],
   "source": [
    "index.describe_index_stats()"
   ]
  },
  {
   "cell_type": "code",
   "execution_count": 87,
   "id": "a4c743f8",
   "metadata": {},
   "outputs": [
    {
     "data": {
      "text/plain": [
       "'ae76cc4dfd345ecaeea9b8ba0d5c3437'"
      ]
     },
     "execution_count": 87,
     "metadata": {},
     "output_type": "execute_result"
    }
   ],
   "source": [
    "def my_hash(s):\n",
    "    # Return the MD5 hash of the input string as a hexadecimal string\n",
    "    # depending the vectorDB, We need to know how to upload the data to Pinecone and read\n",
    "    # Compressed version of the text\n",
    "    return hashlib.md5(s.encode()).hexdigest()\n",
    "\n",
    "my_hash('I love to hash it')"
   ]
  },
  {
   "cell_type": "code",
   "execution_count": 88,
   "id": "ecec6f44",
   "metadata": {},
   "outputs": [],
   "source": [
    "def prepare_data_for_pinecone(texts, engine=ENGINE, urls=None):\n",
    "    \"\"\"\n",
    "    Prepare the data for Pinecone by creating a list of tuples with the ID, embedding, and metadata.\n",
    "    \"\"\"\n",
    "\n",
    "    now = datetime.now()\n",
    "\n",
    "    # Generate vector embeddings for each string in the input list, using the specified engine\n",
    "    embeddings = get_embeddings(texts, engine)\n",
    "\n",
    "    # Create tuples of (hash, embedding, metadata) for each input string and its corresponding vector embedding\n",
    "    # The my_hash() function is used to generate a unique hash for each string, and the datetime.utcnow() \n",
    "    # function is used to generate the current UTC date and time\n",
    "    responses = [\n",
    "        (\n",
    "            my_hash(text),  # A unique ID for each string, generated using the my_hash() function\n",
    "            embedding,  # The vector embedding of the string\n",
    "            dict(text=text, date_uploaded=now.isoformat())  # A dictionary of metadata, including the original text and the current UTC date and time\n",
    "        )\n",
    "        for text, embedding in zip(texts, embeddings)  # Iterate over each input string and its corresponding vector embedding\n",
    "    ]\n",
    "\n",
    "    if urls and len(urls) == len(texts):\n",
    "        for response, url in zip(responses, urls):\n",
    "            response[-1]['url'] = url\n",
    "\n",
    "    return responses\n",
    "    "
   ]
  },
  {
   "cell_type": "code",
   "execution_count": 89,
   "id": "1d550031",
   "metadata": {},
   "outputs": [],
   "source": [
    "texts = ['hi']"
   ]
  },
  {
   "cell_type": "code",
   "execution_count": 90,
   "id": "880e8680",
   "metadata": {},
   "outputs": [
    {
     "name": "stdout",
     "output_type": "stream",
     "text": [
      "ID:   49f68a5c8493ec2c0bf489821c21fc3b \n",
      "LEN:  1536 \n",
      "META: {'text': 'hi', 'date_uploaded': '2025-05-16T13:26:45.756376'}\n"
     ]
    }
   ],
   "source": [
    "_id, embedding, metadata = prepare_data_for_pinecone(texts)[0]\n",
    "\n",
    "print('ID:  ',_id, '\\nLEN: ', len(embedding), '\\nMETA:', metadata)"
   ]
  },
  {
   "cell_type": "code",
   "execution_count": 91,
   "id": "58177b36",
   "metadata": {},
   "outputs": [
    {
     "name": "stdout",
     "output_type": "stream",
     "text": [
      "ID:   49f68a5c8493ec2c0bf489821c21fc3b \n",
      "LEN:  1536 \n",
      "META: {'text': 'hi', 'date_uploaded': '2025-05-16T13:26:46.077622', 'url': 'fake.url'}\n"
     ]
    }
   ],
   "source": [
    "urls = ['fake.url']\n",
    "_id, embedding, metadata = prepare_data_for_pinecone(texts, urls=urls)[0]\n",
    "\n",
    "print('ID:  ',_id, '\\nLEN: ', len(embedding), '\\nMETA:', metadata)"
   ]
  },
  {
   "cell_type": "code",
   "execution_count": 92,
   "id": "d605d908",
   "metadata": {},
   "outputs": [],
   "source": [
    "def upload_texts_to_pinecone(texts, namespace=NAMESPACE, batch_size=None, show_progress_bar=False, urls=None):\n",
    "    # Call the prepare_data_for_pinecone function to prepare the input texts for indexing\n",
    "    total_upserted = 0\n",
    "    if not batch_size:\n",
    "        batch_size = len(texts)\n",
    "\n",
    "    _range = range(0, len(texts), batch_size)\n",
    "    for i in tqdm(_range) if show_progress_bar else _range:\n",
    "        text_batch = texts[i: i + batch_size]\n",
    "        if urls:\n",
    "            url_batch = urls[i: i + batch_size]\n",
    "            prepared_texts = prepare_data_for_pinecone(text_batch, urls=url_batch)\n",
    "        else:\n",
    "            prepared_texts = prepare_data_for_pinecone(text_batch)\n",
    "\n",
    "\n",
    "        # Use the upsert() method of the index object to upload the prepared texts to Pinecone\n",
    "        total_upserted += index.upsert(\n",
    "            vectors=prepared_texts,\n",
    "            namespace=namespace\n",
    "        )['upserted_count']\n",
    "\n",
    "\n",
    "    return total_upserted"
   ]
  },
  {
   "cell_type": "code",
   "execution_count": 93,
   "id": "c2bcd159",
   "metadata": {},
   "outputs": [
    {
     "data": {
      "text/plain": [
       "{'dimension': 1536,\n",
       " 'index_fullness': 0.0,\n",
       " 'metric': 'cosine',\n",
       " 'namespaces': {'default': {'vector_count': 1}},\n",
       " 'total_vector_count': 1,\n",
       " 'vector_type': 'dense'}"
      ]
     },
     "execution_count": 93,
     "metadata": {},
     "output_type": "execute_result"
    }
   ],
   "source": [
    "# Call the upload_texts_to_pinecone() function with the input texts\n",
    "upload_texts_to_pinecone(texts)\n",
    "\n",
    "index.describe_index_stats()"
   ]
  },
  {
   "cell_type": "code",
   "execution_count": 94,
   "id": "79e4179b",
   "metadata": {},
   "outputs": [],
   "source": [
    "def query_from_pinecone(query, top_k=3, include_metadata=True):\n",
    "    # get embedding from THE SAME embedder as the documents\n",
    "    query_embedding = get_embedding(query, engine=ENGINE)\n",
    "\n",
    "    return index.query(\n",
    "      vector=query_embedding,\n",
    "      top_k=top_k,\n",
    "      namespace=NAMESPACE,\n",
    "      include_metadata=include_metadata   # gets the metadata (dates, text, etc)\n",
    "    ).get('matches')"
   ]
  },
  {
   "cell_type": "code",
   "execution_count": 95,
   "id": "432d8b65",
   "metadata": {},
   "outputs": [
    {
     "data": {
      "text/plain": [
       "[{'id': '49f68a5c8493ec2c0bf489821c21fc3b',\n",
       "  'metadata': {'date_uploaded': '2025-05-16T13:26:46.436875', 'text': 'hi'},\n",
       "  'score': 0.808478475,\n",
       "  'values': []}]"
      ]
     },
     "execution_count": 95,
     "metadata": {},
     "output_type": "execute_result"
    }
   ],
   "source": [
    "query_from_pinecone('hello')\n"
   ]
  },
  {
   "cell_type": "code",
   "execution_count": 96,
   "id": "79ab1a28",
   "metadata": {},
   "outputs": [
    {
     "data": {
      "text/plain": [
       "{}"
      ]
     },
     "execution_count": 96,
     "metadata": {},
     "output_type": "execute_result"
    }
   ],
   "source": [
    "def delete_texts_from_pinecone(texts, namespace=NAMESPACE):\n",
    "    # Compute the hash (id) for each text\n",
    "    hashes = [hashlib.md5(text.encode()).hexdigest() for text in texts]\n",
    "\n",
    "    # The ids parameter is used to specify the list of IDs (hashes) to delete\n",
    "    return index.delete(ids=hashes, namespace=namespace)\n",
    "\n",
    "# delete our text\n",
    "delete_texts_from_pinecone(texts)"
   ]
  },
  {
   "cell_type": "code",
   "execution_count": 97,
   "id": "a14ba9af",
   "metadata": {},
   "outputs": [
    {
     "data": {
      "text/plain": [
       "{'dimension': 1536,\n",
       " 'index_fullness': 0.0,\n",
       " 'metric': 'cosine',\n",
       " 'namespaces': {},\n",
       " 'total_vector_count': 0,\n",
       " 'vector_type': 'dense'}"
      ]
     },
     "execution_count": 97,
     "metadata": {},
     "output_type": "execute_result"
    }
   ],
   "source": [
    "index.describe_index_stats()\n"
   ]
  },
  {
   "cell_type": "code",
   "execution_count": 167,
   "id": "c5f96860",
   "metadata": {},
   "outputs": [
    {
     "name": "stdout",
     "output_type": "stream",
     "text": [
      "https://www.muenchen.de\n",
      "https://www.muenchen.de/en/events/\n"
     ]
    }
   ],
   "source": [
    "# specific of the website strucutre munchen.de\n",
    "# https://www.muenchen.de/en/events/\n",
    "base_url = 'https://www.muenchen.de'\n",
    "event_url = f'{base_url}/en/events/'\n",
    "print(base_url)\n",
    "print(event_url)"
   ]
  },
  {
   "cell_type": "code",
   "execution_count": 170,
   "id": "58d9e322",
   "metadata": {},
   "outputs": [
    {
     "data": {
      "text/plain": [
       "20"
      ]
     },
     "execution_count": 170,
     "metadata": {},
     "output_type": "execute_result"
    }
   ],
   "source": [
    "import requests\n",
    "import re\n",
    "\n",
    "def find_links_with_pattern(url, pattern):\n",
    "    # Send a GET request to the URL\n",
    "    response = requests.get(url)\n",
    "    \n",
    "    # Create a BeautifulSoup object\n",
    "    soup = BeautifulSoup(response.text, 'html.parser')\n",
    "    \n",
    "    # Compile the regex pattern\n",
    "    regex = re.compile(pattern)\n",
    "    \n",
    "    # Find all 'a' tags with href attribute matching the pattern\n",
    "    links = soup.find_all('a', href=regex)\n",
    "    \n",
    "    # Extract and return the href values\n",
    "    return [link.get('href') for link in links]\n",
    "\n",
    "# Example usage\n",
    "pattern = r'^/en/node/'\n",
    "\n",
    "matching_links = find_links_with_pattern(event_url, pattern)\n",
    "len(matching_links)"
   ]
  },
  {
   "cell_type": "code",
   "execution_count": 171,
   "id": "3bf6a421",
   "metadata": {},
   "outputs": [
    {
     "name": "stderr",
     "output_type": "stream",
     "text": [
      "100%|██████████| 20/20 [00:03<00:00,  5.46it/s]"
     ]
    },
    {
     "name": "stdout",
     "output_type": "stream",
     "text": [
      "['https://www.muenchen.de/sehenswuerdigkeiten/museen/museum-urban-and-contemporary-art-muca', 'https://www.muenchen.de/sehenswuerdigkeiten/museen/infopoint-museen-schloesser-bayern', 'https://www.muenchen.de/sehenswuerdigkeiten/museen/kunsthalle-muenchen', 'https://www.muenchen.de/sehenswuerdigkeiten/tourismus', 'https://www.muenchen.de/sehenswuerdigkeiten/museen/ns-dokumentationszentrum-muenchen', 'https://www.muenchen.de/sehenswuerdigkeiten/museen/zentralinstitut-fuer-kunstgeschichte', 'https://www.muenchen.de/sehenswuerdigkeiten/museen/bayerische-staatsbibliothek', 'https://www.muenchen.de/sehenswuerdigkeiten/museen/museum-brandhorst', 'https://www.muenchen.de/sehenswuerdigkeiten/museen/amuseum-of-contemporary-art', 'https://www.muenchen.de/sehenswuerdigkeiten/museen/muenchner-stadtmuseum', 'https://www.muenchen.de/sehenswuerdigkeiten/museum-mineralogia-muenchen', 'https://www.muenchen.de/sehenswuerdigkeiten/museen/galerie-bezirk-oberbayern', 'https://www.muenchen.de/sehenswuerdigkeiten/museen/archaeologische-staatssammlung', 'https://www.muenchen.de/sehenswuerdigkeiten/haus-der-kunst', 'https://www.muenchen.de/sehenswuerdigkeiten/museen/kindermuseum-muenchen', 'https://www.muenchen.de/sehenswuerdigkeiten/webcam-live-aus-muenchen-marienplatz-olympiapark-und-mehr', 'https://www.muenchen.de/sehenswuerdigkeiten/museen/lenbachhaus-muenchen', 'https://www.muenchen.de/sehenswuerdigkeiten/museen/juedisches-museum-muenchen']\n"
     ]
    },
    {
     "name": "stderr",
     "output_type": "stream",
     "text": [
      "\n"
     ]
    },
    {
     "data": {
      "text/plain": [
       "18"
      ]
     },
     "execution_count": 171,
     "metadata": {},
     "output_type": "execute_result"
    }
   ],
   "source": [
    "urls = []\n",
    "\n",
    "from bs4 import BeautifulSoup\n",
    "import requests\n",
    "\n",
    "for matching_link in tqdm(matching_links):\n",
    "    r = requests.get(base_url + matching_link)\n",
    "    soup = BeautifulSoup(r.content, 'html.parser')\n",
    "    for link in soup.find_all('a'):\n",
    "        if 'href' in link.attrs:\n",
    "            if link['href'].startswith('/') and 'sehenswuerdigkeiten' in link['href']:\n",
    "                urls.append(base_url + link['href'])\n",
    "    \n",
    "urls = list(set([u.lower().strip() for u in urls]))\n",
    "print(urls)\n",
    "len(urls)"
   ]
  },
  {
   "cell_type": "code",
   "execution_count": 172,
   "id": "81ef7102",
   "metadata": {},
   "outputs": [
    {
     "name": "stdout",
     "output_type": "stream",
     "text": [
      "https://www.muenchen.de/sehenswuerdigkeiten/museen/museum-urban-and-contemporary-art-muca\n",
      "https://www.muenchen.de/sehenswuerdigkeiten/museen/infopoint-museen-schloesser-bayern\n",
      "https://www.muenchen.de/sehenswuerdigkeiten/museen/kunsthalle-muenchen\n",
      "https://www.muenchen.de/sehenswuerdigkeiten/tourismus\n",
      "https://www.muenchen.de/sehenswuerdigkeiten/museen/ns-dokumentationszentrum-muenchen\n",
      "https://www.muenchen.de/sehenswuerdigkeiten/museen/zentralinstitut-fuer-kunstgeschichte\n",
      "https://www.muenchen.de/sehenswuerdigkeiten/museen/bayerische-staatsbibliothek\n",
      "https://www.muenchen.de/sehenswuerdigkeiten/museen/museum-brandhorst\n",
      "https://www.muenchen.de/sehenswuerdigkeiten/museen/amuseum-of-contemporary-art\n",
      "https://www.muenchen.de/sehenswuerdigkeiten/museen/muenchner-stadtmuseum\n",
      "https://www.muenchen.de/sehenswuerdigkeiten/museum-mineralogia-muenchen\n",
      "https://www.muenchen.de/sehenswuerdigkeiten/museen/galerie-bezirk-oberbayern\n",
      "https://www.muenchen.de/sehenswuerdigkeiten/museen/archaeologische-staatssammlung\n",
      "https://www.muenchen.de/sehenswuerdigkeiten/haus-der-kunst\n",
      "https://www.muenchen.de/sehenswuerdigkeiten/museen/kindermuseum-muenchen\n",
      "https://www.muenchen.de/sehenswuerdigkeiten/webcam-live-aus-muenchen-marienplatz-olympiapark-und-mehr\n",
      "https://www.muenchen.de/sehenswuerdigkeiten/museen/lenbachhaus-muenchen\n",
      "https://www.muenchen.de/sehenswuerdigkeiten/museen/juedisches-museum-muenchen\n"
     ]
    }
   ],
   "source": [
    "for url in urls:\n",
    "    print(url)"
   ]
  },
  {
   "cell_type": "code",
   "execution_count": 173,
   "id": "ff95d943",
   "metadata": {},
   "outputs": [
    {
     "name": "stderr",
     "output_type": "stream",
     "text": [
      "<>:10: SyntaxWarning: invalid escape sequence '\\('\n",
      "<>:10: SyntaxWarning: invalid escape sequence '\\('\n",
      "C:\\Users\\kadda\\AppData\\Local\\Temp\\ipykernel_24732\\3984159232.py:10: SyntaxWarning: invalid escape sequence '\\('\n",
      "  \"Skip to content\", \"Skip to main content\", \"Menu\", \"Sign in\", \"Print\", \"Views:\", \"Comments \\(0\\)\",\n"
     ]
    }
   ],
   "source": [
    "import re\n",
    "\n",
    "def clean_string(text):  # courtesy of Claude 3.5 Sonnet\n",
    "    # Remove extra whitespace, including newlines\n",
    "    text = re.sub(r'\\s+', ' ', text)\n",
    "    # Remove any leading/trailing whitespace\n",
    "    text = text.strip()\n",
    "    # Remove common filler phrases\n",
    "    filler_phrases = [\n",
    "        \"Skip to content\", \"Skip to main content\", \"Menu\", \"Sign in\", \"Print\", \"Views:\", \"Comments \\(0\\)\",\n",
    "        \"Footer menu\", \"Give us Feedback.\", \"Did this answer your question?\", \"No Yes No\", \"Thanks for your feedback.\",\n",
    "        \"City Hall\", \"Events\", \"Culture, Leisure\", \"Restaurants\", \"Shopping\", \"Sights\", \"Tourism\", \n",
    "        \"Hotels\", \"Business\", \"Living\", \"Transportation\", \"Citizen service\", \"English\", \"Branchenbuch\", \n",
    "        \"Anzeige\", \"Search\", \"muenchen.de\", \"Das offizielle Stadtportal\", \"Home\"\n",
    "    ]\n",
    "    for phrase in filler_phrases:\n",
    "        text = re.sub(phrase, '', text, flags=re.IGNORECASE)\n",
    "    # Remove any remaining brackets and their contents\n",
    "    text = re.sub(r'\\[.*?\\]', '', text)\n",
    "    # Remove any remaining parentheses and their contents\n",
    "    text = re.sub(r'\\(.*?\\)', '', text)\n",
    "    # Remove any URLs\n",
    "    text = re.sub(r'http\\S+', '', text)\n",
    "    # Remove any remaining special characters\n",
    "    text = re.sub(r'[^\\w\\s\\.\\,\\?\\!]', '', text)\n",
    "    # Remove extra spaces that may have been created\n",
    "    text = re.sub(r'\\s+', ' ', text).strip()\n",
    "    return text"
   ]
  },
  {
   "cell_type": "code",
   "execution_count": 174,
   "id": "643e7359",
   "metadata": {},
   "outputs": [
    {
     "name": "stderr",
     "output_type": "stream",
     "text": [
      "100%|██████████| 18/18 [00:21<00:00,  1.20s/it]\n"
     ]
    }
   ],
   "source": [
    "import requests\n",
    "\n",
    "event_docs = []\n",
    "for url in tqdm(urls):\n",
    "    r = requests.get(url)\n",
    "    soup = BeautifulSoup(r.content, 'html.parser')\n",
    "    body = clean_string(soup.find('body').get_text())\n",
    "    event_docs.append(dict(text=body, url=url))"
   ]
  },
  {
   "cell_type": "code",
   "execution_count": 175,
   "id": "242b1e51",
   "metadata": {},
   "outputs": [
    {
     "data": {
      "text/plain": [
       "{'text': 'Suche Close Suchbegriff eingeben Suche Menü Close Navigation Sprache Rathaus Zum Rathaus Politik und Beteiligung Stadtverwaltung Presse und Medien Karriere bei der Stadt Finanzen und Vergabe München im Portrait Projekte und Initiativen Veranstaltungen Freizeit Sehenswertes Verkehr Jobs Leben Bürgerservice Zu den Services Wohnen und Meldewesen Verkehr und Mobilität Ausland und Migration Gesundheit und Soziales Familie und Kind Schule und Bildung Wirtschaft und Gewerbe Branchen und Berufe Engagement und Freizeit Aktuelle SpracheDeutsch Français Italiano Español Русский العربية 中文 Sehenswürdigkeiten Museen Museum of Urban and Contemporary Art Museum of Urban and Contemporary Art Entdeckt StreetArt im MUCA Museum of Urban and Contemporary Art Infos zu Ausstellungen und mehr Das Museum of Urban and Contemporary Art zeigt auf drei Etagen und in einem angrenzenden Bunker die Werke internationaler Künstlerinnen der Urban Art Szene. Im MUCA läuft derzeit die Ausstellung Strata mit Werken des portugiesischen Künstlers Vhils. Adresse und Öffnungszeiten Hotterstraße 12 , 80331 München Anfahrt MUCA Weitere Aktionen Teilen auf Facebook Teilen via WhatsApp Kopieren Jose Pando Lucas Schaut euch Strata an Vom 12. März bis 30. November 2025 könnt ihr den portugiesischen Künstler Vhils und seine Werke aus Beton, Holz, Metall und Papier erleben. Erfahrt hier mehr Warum lohnt sich ein Besuch im MUCA? Alexander Silva Vhils Cityscape Munich Das MUCA ist Deutschlands erstes Museum für Urban Art. Es möchte einen Beitrag dazu leisten, die Urban Street Art Szene kunsthistorisch einzuordnen und sie als eigene Kunstrichtung anzuerkennen.Was ist geboten? Es gibt wechselnde Sonderausstellungen mit den Werken renommierter, international gefeierter Künstlerinnen.Was ist besonders? Auch von außen ist das Museum of Urban and Contemporary Art ein Hingucker Die Fassaden des Museums sind mit großflächigen Kunstwerken verziert. Vielseitige KunstPlattform mit Ausstellungen zu Urban Art Die Philosophie von MUCA sieht es vor, als offene Institution für Kunstbegeisterte zu fungieren. Konzipiert als moderner Ort der Begegnung treffen hier Urban und Contemporary Art aufeinander und finden eine Plattform in der Museumslandschaft. Es gibt Kunsterlebnisebenen und MoodAreas, wobei international renommierte Künstlerinnen ebenso vertreten sind wie neue und experimentelle Formate. Zu den beliebtesten Bereichen zählenDie Fassade des Museums Parallel zur Ausstellung The Weight of Things des britischen Künstlers Damien Hirst ist auf der MUCA Giant Wall ein riesiges Spotgemälde aus 540 verschiedenen Farben entstanden Ein farbenfrohes Highlight, nicht nur für das MUCA Museum, sondern auch für die Münchner Altstadt Externer Beitrag Ich möchte eingebundene YouTube Inhalte auf sehen. Hierbei werden personenbezogene Daten an YouTube übertragen. Diese Einstellung kann jederzeit mit Wirkung für die Zukunft auf der Seite Datenschutz durch Anklicken des OptOutButtons geändert werden. Beitrag laden YouTube Video abspielen Beitrag auf YouTube ansehen. Der MUCABunker Der ehemalige Luftschutzbunker von 1941 wurde nach dem Zweiten Weltkrieg mehrfach umfunktioniert Er diente bereits als Bunkerhotel und als Nachtclub und nun als KunstBunker.Das MUCA Haupthaus Hier finden die Wechselausstellungen des Hauses statt .Die MUCA Collection Im MUCA Haupthaus befindet sich auch die Sammlung zahlreiche Werke renommierter, international gefeierter Künstlerinnen. Mit über 1.200 Werken und Objekten zählt die MUCA Sammlung zu einer der bedeutendsten Sammlungen Europas im Bereich Urban Art. MUCA Die wichtigsten Infos auf einen Blick Lage Zentral zwischen Frauenkirche und AsamkircheMuseumsKategorie KunstmuseumKinderprogramm Sprayen, taggen, cutten Bei den Kinder Workshops kann man seiner Kreativität freien Lauf lassen.Empfohlene Aufenthaltsdauer 1 bis 2 StundenAnfahrt SBahn zum Marienplatz oder Stachus oder U3U6 zum Sendlinger TorParken PschorrGarage, CityParkhaus und Tiefgarage Oberanger Previous slide View image in modal View image in modal View image in modal View image in modal Next slide Führungen, Workshops und Kinderprogramm Führungen AfterWork Führungen, Themenführungen, Familienführungen, Kinderführungen, Privatführungen Für Kinder und Jugendliche GraffitiWorkshops, Kreativwerkstatt und Kindergeburtstag feiern Mit der MUCA Fahrradtour erfährt man interessante Fakten über die Entstehungsgeschichte von Street Art, sieht Kunstwerke von renommierten Künstlerinnen und versteckte Graffitis abseits gängiger Stadtführer. Museumsshop und Restaurant Nach dem Museumsbesuch kann im Museumsshop eine Auswahl an Kunstbüchern und s erworben werden. Auch ein MuseumsRestaurant befindet sich im ehemaligen Umspannwerk. Eintrittspreise Regulär 12,00 Euro Ermäßigt 9,00 Euro Kinder unter 12 Jahren Eintritt frei OnlineAngebot Auf der Website des MUCA gibt es eine virtuelle Tour durch die Ausstellungsräume. Zudem bietet das Museum Workshops, Führungen und Interviews auch via Video und Podcasts an. Barrierefreiheit und Angebote für Menschen mit Behinderung Der Museumseingang ist über eine Rampe barrierefrei erreichbar. Das Gebäude ist jedoch nicht im vollen Umfang barrierefrei. Um individuelle Anforderungen zu besprechen, bittet das Museum um vorherige Kontaktaufnahme. Geschichte des Museums of Urban and Contemporary Art MUCA Nach einjähriger Umbauphase entstand 2016 im ehemaligen Umspannwerk der Stadtwerke München das heutige MUCA Deutschlands erstes Museum für Urban Art. Gegründet durch die beiden Kunstliebhaber und Ehepartner Stephanie und Christian Utz, will das Privatmuseum die Urban Art in den zeitgenössischen Kunstdiskurs einfügen. Besonderes Augenmerk liegt dabei auf der hauseigenen Sammlung. Das MUCA hat sich stets zum Ziel gesetzt, Bewahrer von Kunstwerken zu sein, die aus dem flüchtigen, städtischen Ökosystem stammen. Die Anfänge der MUCA Sammlung reichen zurück in das Jahr 1998. Heute zählen zur MUCA Sammlung bedeutende Werke von Künstlerninnen aus den Bereichen der Urban und Contemporary Art. In Kooperation mit dem Kulturreferat und den Museen Dieser Beitrag über die Münchner Museen wird vom Kulturreferat der Landeshauptstadt München gefördert und ist in Kooperation mit der Landesstelle für die nichtstaatlichen Museen in Bayern konzipiert worden. Die Inhalte wurden zwischen den beteiligten Museen und , dem offiziellen Stadtportal, abgestimmt. Auf einen Blick Museum of Urban and Contemporary Art Hotterstraße 12 80331 München Tel 4989215524310 Fax 4989215524319 infomuca.eu Korrektur vorschlagen 1 30 von 146 Veranstaltungen 16 Mai bis 30 Nov. Vhils Strata Fr. 16.05.2025 1000 1800 Uhr Museum of Urban and Contemporary Art 16 Mai bis 30 Nov. Vhils Strata Sa. 17.05.2025 1000 1800 Uhr Museum of Urban and Contemporary Art 16 Mai bis 30 Nov. Vhils Strata So. 18.05.2025 1000 1800 Uhr Museum of Urban and Contemporary Art 16 Mai bis 30 Nov. Vhils Strata Mi. 21.05.2025 1000 1800 Uhr Museum of Urban and Contemporary Art 16 Mai bis 30 Nov. Vhils Strata Do. 22.05.2025 1000 2000 Uhr Museum of Urban and Contemporary Art 16 Mai bis 30 Nov. Vhils Strata Fr. 23.05.2025 1000 1800 Uhr Museum of Urban and Contemporary Art 16 Mai bis 30 Nov. Vhils Strata Sa. 24.05.2025 1000 1800 Uhr Museum of Urban and Contemporary Art 16 Mai bis 30 Nov. Vhils Strata So. 25.05.2025 1000 1800 Uhr Museum of Urban and Contemporary Art 16 Mai bis 30 Nov. Vhils Strata Mi. 28.05.2025 1000 1800 Uhr Museum of Urban and Contemporary Art 16 Mai bis 30 Nov. Vhils Strata Do. 29.05.2025 1000 2000 Uhr Museum of Urban and Contemporary Art 16 Mai bis 30 Nov. Vhils Strata Fr. 30.05.2025 1000 1800 Uhr Museum of Urban and Contemporary Art 16 Mai bis 30 Nov. Vhils Strata Sa. 31.05.2025 1000 1800 Uhr Museum of Urban and Contemporary Art 16 Mai bis 30 Nov. Vhils Strata So. 01.06.2025 1000 1800 Uhr Museum of Urban and Contemporary Art 01 Juni bis 19 Juli Familienführung zu Vhils Strata im MUCA So. 01.06.2025 1600 1700 Uhr Museum of Urban and Contemporary Art 16 Mai bis 30 Nov. Vhils Strata Mi. 04.06.2025 1000 1800 Uhr Museum of Urban and Contemporary Art 16 Mai bis 30 Nov. Vhils Strata Do. 05.06.2025 1000 2000 Uhr Museum of Urban and Contemporary Art 16 Mai bis 30 Nov. Vhils Strata Fr. 06.06.2025 1000 1800 Uhr Museum of Urban and Contemporary Art 16 Mai bis 30 Nov. Vhils Strata Sa. 07.06.2025 1000 1800 Uhr Museum of Urban and Contemporary Art 16 Mai bis 30 Nov. Vhils Strata So. 08.06.2025 1000 1800 Uhr Museum of Urban and Contemporary Art 16 Mai bis 30 Nov. Vhils Strata Mi. 11.06.2025 1000 1800 Uhr Museum of Urban and Contemporary Art 16 Mai bis 30 Nov. Vhils Strata Do. 12.06.2025 1000 2000 Uhr Museum of Urban and Contemporary Art 16 Mai bis 30 Nov. Vhils Strata Fr. 13.06.2025 1000 1800 Uhr Museum of Urban and Contemporary Art 16 Mai bis 30 Nov. Vhils Strata Sa. 14.06.2025 1000 1800 Uhr Museum of Urban and Contemporary Art 16 Mai bis 30 Nov. Vhils Strata So. 15.06.2025 1000 1800 Uhr Museum of Urban and Contemporary Art 16 Mai bis 30 Nov. Vhils Strata Mi. 18.06.2025 1000 1800 Uhr Museum of Urban and Contemporary Art 16 Mai bis 30 Nov. Vhils Strata Do. 19.06.2025 1000 2000 Uhr Museum of Urban and Contemporary Art 16 Mai bis 30 Nov. Vhils Strata Fr. 20.06.2025 1000 1800 Uhr Museum of Urban and Contemporary Art 16 Mai bis 30 Nov. Vhils Strata Sa. 21.06.2025 1000 1800 Uhr Museum of Urban and Contemporary Art 16 Mai bis 30 Nov. Vhils Strata So. 22.06.2025 1000 1800 Uhr Museum of Urban and Contemporary Art 16 Mai bis 30 Nov. Vhils Strata Mi. 25.06.2025 1000 1800 Uhr Museum of Urban and Contemporary Art Seitennummerierung Erste Seite 1 Seite 2 Seite 3 Seite 4 Seite 5 Letzte Seite Nächste Seite Fliegender Brief als Newsletter! Mit aktuellen Highlights, Tipps und Infos. EMail Adresse Rechtsgrundlage für die Verarbeitung Eurer EMail Adresse ist Art. 6 Abs. 1 a DSGVO in Verbindung mit Eurer Einwilligung. Ihr könnte Eure Einwilligung jederzeit mit Wirkung für die Zukunft widerrufen, am Einfachsten durch Anklicken des Abmeldelinks am Ende des entsprechenden EMailNewsletters. Alle weiteren Informationen zum Schutz Eurer personenbezogenen Daten findet Ihr in der Datenschutzerklärung Anmelden auf Facebook auf Instagram auf YouTube auf X Services Stadtplan Fahrplan Kultur us MStrom Bürgerservice Webcam Stadtteile Landkreise Umland Kontakt und mehr Kontakt, Presse, Werbung, Impressum, AGB, Datenschutz, Interessante Links zu München Leichte Sprache, Barrierefreiheit Weitere MetropolWebseiten Berlin, Hamburg, Köln, Opendi 2025 Portal München Betriebs GmbH Co. KG Ein Service der Landeshauptstadt München und der Stadtwerke München GmbH',\n",
       " 'url': 'https://www.muenchen.de/sehenswuerdigkeiten/museen/museum-urban-and-contemporary-art-muca'}"
      ]
     },
     "execution_count": 175,
     "metadata": {},
     "output_type": "execute_result"
    }
   ],
   "source": [
    "event_docs[0]"
   ]
  },
  {
   "cell_type": "code",
   "execution_count": 176,
   "id": "26c18c1b",
   "metadata": {},
   "outputs": [
    {
     "name": "stderr",
     "output_type": "stream",
     "text": [
      "100%|██████████| 2/2 [00:04<00:00,  2.34s/it]\n"
     ]
    },
    {
     "data": {
      "text/plain": [
       "18"
      ]
     },
     "execution_count": 176,
     "metadata": {},
     "output_type": "execute_result"
    }
   ],
   "source": [
    "BATCH_SIZE = 16\n",
    "upload_texts_to_pinecone(\n",
    "    texts=[g['text'] for g in event_docs],\n",
    "    batch_size=BATCH_SIZE, show_progress_bar=True, \n",
    "    urls=[g['url'] for g in event_docs]\n",
    ")"
   ]
  },
  {
   "cell_type": "code",
   "execution_count": 177,
   "id": "24b22f9b",
   "metadata": {},
   "outputs": [
    {
     "data": {
      "text/plain": [
       "{'dimension': 1536,\n",
       " 'index_fullness': 0.0,\n",
       " 'metric': 'cosine',\n",
       " 'namespaces': {'default': {'vector_count': 18}},\n",
       " 'total_vector_count': 18,\n",
       " 'vector_type': 'dense'}"
      ]
     },
     "execution_count": 177,
     "metadata": {},
     "output_type": "execute_result"
    }
   ],
   "source": [
    "index.describe_index_stats()\n"
   ]
  },
  {
   "cell_type": "code",
   "execution_count": 183,
   "id": "4cbee354",
   "metadata": {},
   "outputs": [
    {
     "name": "stdout",
     "output_type": "stream",
     "text": [
      "https://www.muenchen.de/sehenswuerdigkeiten/museen/lenbachhaus-muenchen 0.483780771 hauptstadt München und der Stadtwerke München GmbH\n",
      "https://www.muenchen.de/sehenswuerdigkeiten/museen/museum-brandhorst 0.428482056 hauptstadt München und der Stadtwerke München GmbH\n",
      "https://www.muenchen.de/sehenswuerdigkeiten/museen/museum-urban-and-contemporary-art-muca 0.399327487 hauptstadt München und der Stadtwerke München GmbH\n",
      "https://www.muenchen.de/sehenswuerdigkeiten/haus-der-kunst 0.391690969 hauptstadt München und der Stadtwerke München GmbH\n",
      "https://www.muenchen.de/sehenswuerdigkeiten/museen/amuseum-of-contemporary-art 0.385513335 hauptstadt München und der Stadtwerke München GmbH\n",
      "https://www.muenchen.de/sehenswuerdigkeiten/museen/galerie-bezirk-oberbayern 0.383822173 hauptstadt München und der Stadtwerke München GmbH\n",
      "https://www.muenchen.de/sehenswuerdigkeiten/museen/zentralinstitut-fuer-kunstgeschichte 0.377721131 hauptstadt München und der Stadtwerke München GmbH\n",
      "https://www.muenchen.de/sehenswuerdigkeiten/museen/infopoint-museen-schloesser-bayern 0.37762031 hauptstadt München und der Stadtwerke München GmbH\n",
      "https://www.muenchen.de/sehenswuerdigkeiten/museen/juedisches-museum-muenchen 0.377208441 hauptstadt München und der Stadtwerke München GmbH\n",
      "https://www.muenchen.de/sehenswuerdigkeiten/museen/ns-dokumentationszentrum-muenchen 0.376976579 hauptstadt München und der Stadtwerke München GmbH\n"
     ]
    }
   ],
   "source": [
    "query = 'Ich will die Blaue Reiter bild von Franz Marc besuchen'\n",
    "\n",
    "results = query_from_pinecone(query, top_k=10)\n",
    "for result in results:\n",
    "    print(result['metadata']['url'], result['score'], result['metadata']['text'][-50:])"
   ]
  },
  {
   "cell_type": "code",
   "execution_count": null,
   "id": "0712619b",
   "metadata": {},
   "outputs": [],
   "source": []
  }
 ],
 "metadata": {
  "kernelspec": {
   "display_name": ".venv",
   "language": "python",
   "name": "python3"
  },
  "language_info": {
   "codemirror_mode": {
    "name": "ipython",
    "version": 3
   },
   "file_extension": ".py",
   "mimetype": "text/x-python",
   "name": "python",
   "nbconvert_exporter": "python",
   "pygments_lexer": "ipython3",
   "version": "3.13.3"
  }
 },
 "nbformat": 4,
 "nbformat_minor": 5
}
