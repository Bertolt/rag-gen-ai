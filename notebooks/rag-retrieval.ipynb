{
 "cells": [
  {
   "cell_type": "markdown",
   "id": "a9dd78fb",
   "metadata": {},
   "source": [
    "# Put the R in RAG"
   ]
  },
  {
   "cell_type": "code",
   "execution_count": 3,
   "id": "2d1bd524",
   "metadata": {},
   "outputs": [
    {
     "name": "stdout",
     "output_type": "stream",
     "text": [
      "Name: pinecone\n",
      "Version: 6.0.2\n",
      "Summary: Pinecone client and SDK\n",
      "Home-page: https://www.pinecone.io\n",
      "Author: Pinecone Systems, Inc.\n",
      "Author-email: support@pinecone.io\n",
      "License: Apache-2.0\n",
      "Location: c:\\Users\\kadda\\github_repos\\rag-gen-ai\\.venv\\Lib\\site-packages\n",
      "Requires: certifi, pinecone-plugin-interface, python-dateutil, typing-extensions, urllib3\n",
      "Required-by: \n"
     ]
    }
   ],
   "source": [
    "# Debug pinecone installation\n",
    "!pip show pinecone"
   ]
  },
  {
   "cell_type": "code",
   "execution_count": 4,
   "id": "1531095a",
   "metadata": {},
   "outputs": [
    {
     "name": "stderr",
     "output_type": "stream",
     "text": [
      "c:\\Users\\kadda\\github_repos\\rag-gen-ai\\.venv\\Lib\\site-packages\\tqdm\\auto.py:21: TqdmWarning: IProgress not found. Please update jupyter and ipywidgets. See https://ipywidgets.readthedocs.io/en/stable/user_install.html\n",
      "  from .autonotebook import tqdm as notebook_tqdm\n"
     ]
    }
   ],
   "source": [
    "from openai import OpenAI\n",
    "from pinecone import Pinecone, ServerlessSpec\n",
    "from bs4 import BeautifulSoup\n",
    "\n",
    "import hashlib\n",
    "import os\n",
    "from dotenv import load_dotenv\n",
    "\n",
    "from datetime import datetime\n",
    "\n",
    "from tqdm import tqdm"
   ]
  },
  {
   "cell_type": "code",
   "execution_count": 5,
   "id": "d3ba2f27",
   "metadata": {},
   "outputs": [
    {
     "name": "stdout",
     "output_type": "stream",
     "text": [
      "API key loaded: pcs...\n"
     ]
    }
   ],
   "source": [
    "load_dotenv()\n",
    "# Retrieve the Pinecone API key from user data\n",
    "pinecone_api_key = os.environ.get(\"PINECONE_API_KEY\")\n",
    "\n",
    "print(f\"API key loaded: {pinecone_api_key[:3]}...\" if pinecone_api_key else \"No API key found\")\n",
    "\n",
    "# Initialize the OpenAI client\n",
    "openai_client = OpenAI(\n",
    "    api_key=os.environ.get(\"OPENAI_API_KEY\")\n",
    ")\n",
    "\n",
    "# Define constants [vector size, embedding engine] small: 1536 medium: 4096 large: 12288\n",
    "ENGINE = 'text-embedding-3-small'\n",
    "\n",
    "# Initialize Pinecone client\n",
    "pc = Pinecone(\n",
    "    pinecone_api_key=pinecone_api_key\n",
    ")"
   ]
  },
  {
   "cell_type": "code",
   "execution_count": 6,
   "id": "9e073d60",
   "metadata": {},
   "outputs": [
    {
     "data": {
      "text/plain": [
       "(1536, 2)"
      ]
     },
     "execution_count": 6,
     "metadata": {},
     "output_type": "execute_result"
    }
   ],
   "source": [
    "INDEX_NAME = 'semantic-search-rag-index' # name of the collection of documents\n",
    "NAMESPACE = 'default' # split the documents into namespaces. default is 'default'\n",
    "\n",
    "def get_embeddings(text, engine=ENGINE):\n",
    "    \"\"\"\n",
    "    Get the embeddings for a given text using OpenAI's API.\n",
    "    \"\"\"\n",
    "    response = openai_client.embeddings.create(\n",
    "            input=text,\n",
    "            model=engine\n",
    "        )\n",
    "    return [data.embedding for data in list(response.data)]\n",
    "\n",
    "def get_embedding(text, engine=ENGINE):\n",
    "    \"\"\"\n",
    "    Get the embedding for a given text using OpenAI's API.\n",
    "    Use the get_embeddings function to get the embedding for a single text\n",
    "    \"\"\"\n",
    "    return get_embeddings(text, engine)[0]\n",
    "\n",
    "len(get_embedding(\"Hello world!\")), len(get_embeddings([\"Hello world!\", \"Servus Welt\"]))\n"
   ]
  },
  {
   "cell_type": "code",
   "execution_count": 7,
   "id": "1799c7c3",
   "metadata": {},
   "outputs": [
    {
     "data": {
      "text/plain": [
       "<pinecone.data.index.Index at 0x1f21f15af90>"
      ]
     },
     "execution_count": 7,
     "metadata": {},
     "output_type": "execute_result"
    }
   ],
   "source": [
    "if INDEX_NAME not in pc.list_indexes().names():\n",
    "    # Create the index if it doesn't exist\n",
    "    pc.create_index(\n",
    "        name=INDEX_NAME, # name of the index\n",
    "        dimension=1536, # dimension of the embedding for OpenAI's text-embedding-3-small\n",
    "        metric='cosine', # metric for similarity search\n",
    "        spec=ServerlessSpec(\n",
    "            cloud='aws',\n",
    "            region='us-east-1',\n",
    "        )\n",
    "    )\n",
    "\n",
    "# Store the index as variable\n",
    "index = pc.Index(INDEX_NAME)\n",
    "index"
   ]
  },
  {
   "cell_type": "code",
   "execution_count": 8,
   "id": "2985baa8",
   "metadata": {},
   "outputs": [
    {
     "data": {
      "text/plain": [
       "{'dimension': 1536,\n",
       " 'index_fullness': 0.0,\n",
       " 'metric': 'cosine',\n",
       " 'namespaces': {'default': {'vector_count': 43}},\n",
       " 'total_vector_count': 43,\n",
       " 'vector_type': 'dense'}"
      ]
     },
     "execution_count": 8,
     "metadata": {},
     "output_type": "execute_result"
    }
   ],
   "source": [
    "index.describe_index_stats()"
   ]
  },
  {
   "cell_type": "code",
   "execution_count": 9,
   "id": "a4c743f8",
   "metadata": {},
   "outputs": [
    {
     "data": {
      "text/plain": [
       "'ae76cc4dfd345ecaeea9b8ba0d5c3437'"
      ]
     },
     "execution_count": 9,
     "metadata": {},
     "output_type": "execute_result"
    }
   ],
   "source": [
    "def my_hash(s):\n",
    "    # Return the MD5 hash of the input string as a hexadecimal string\n",
    "    # depending the vectorDB, We need to know how to upload the data to Pinecone and read\n",
    "    # Compressed version of the text\n",
    "    return hashlib.md5(s.encode()).hexdigest()\n",
    "\n",
    "my_hash('I love to hash it')"
   ]
  },
  {
   "cell_type": "code",
   "execution_count": 10,
   "id": "ecec6f44",
   "metadata": {},
   "outputs": [],
   "source": [
    "def prepare_data_for_pinecone(texts, engine=ENGINE, urls=None):\n",
    "    \"\"\"\n",
    "    Prepare the data for Pinecone by creating a list of tuples with the ID, embedding, and metadata.\n",
    "    \"\"\"\n",
    "\n",
    "    now = datetime.now()\n",
    "\n",
    "    # Generate vector embeddings for each string in the input list, using the specified engine\n",
    "    embeddings = get_embeddings(texts, engine)\n",
    "\n",
    "    # Create tuples of (hash, embedding, metadata) for each input string and its corresponding vector embedding\n",
    "    # The my_hash() function is used to generate a unique hash for each string, and the datetime.utcnow() \n",
    "    # function is used to generate the current UTC date and time\n",
    "    responses = [\n",
    "        (\n",
    "            my_hash(text),  # A unique ID for each string, generated using the my_hash() function\n",
    "            embedding,  # The vector embedding of the string\n",
    "            dict(text=text, date_uploaded=now.isoformat())  # A dictionary of metadata, including the original text and the current UTC date and time\n",
    "        )\n",
    "        for text, embedding in zip(texts, embeddings)  # Iterate over each input string and its corresponding vector embedding\n",
    "    ]\n",
    "\n",
    "    if urls and len(urls) == len(texts):\n",
    "        for response, url in zip(responses, urls):\n",
    "            response[-1]['url'] = url\n",
    "\n",
    "    return responses\n",
    "    "
   ]
  },
  {
   "cell_type": "code",
   "execution_count": 11,
   "id": "1d550031",
   "metadata": {},
   "outputs": [],
   "source": [
    "texts = ['hi']"
   ]
  },
  {
   "cell_type": "code",
   "execution_count": 12,
   "id": "880e8680",
   "metadata": {},
   "outputs": [
    {
     "name": "stdout",
     "output_type": "stream",
     "text": [
      "ID:   49f68a5c8493ec2c0bf489821c21fc3b \n",
      "LEN:  1536 \n",
      "META: {'text': 'hi', 'date_uploaded': '2025-05-20T11:53:39.761335'}\n"
     ]
    }
   ],
   "source": [
    "_id, embedding, metadata = prepare_data_for_pinecone(texts)[0]\n",
    "\n",
    "print('ID:  ',_id, '\\nLEN: ', len(embedding), '\\nMETA:', metadata)"
   ]
  },
  {
   "cell_type": "code",
   "execution_count": 13,
   "id": "58177b36",
   "metadata": {},
   "outputs": [
    {
     "name": "stdout",
     "output_type": "stream",
     "text": [
      "ID:   49f68a5c8493ec2c0bf489821c21fc3b \n",
      "LEN:  1536 \n",
      "META: {'text': 'hi', 'date_uploaded': '2025-05-20T11:53:41.231853', 'url': 'fake.url'}\n"
     ]
    }
   ],
   "source": [
    "urls = ['fake.url']\n",
    "_id, embedding, metadata = prepare_data_for_pinecone(texts, urls=urls)[0]\n",
    "\n",
    "print('ID:  ',_id, '\\nLEN: ', len(embedding), '\\nMETA:', metadata)"
   ]
  },
  {
   "cell_type": "code",
   "execution_count": 34,
   "id": "d605d908",
   "metadata": {},
   "outputs": [],
   "source": [
    "def upload_texts_to_pinecone(texts, namespace=NAMESPACE, batch_size=None, show_progress_bar=False, urls=None):\n",
    "    # Call the prepare_data_for_pinecone function to prepare the input texts for indexing\n",
    "    total_upserted = 0\n",
    "    if not batch_size:\n",
    "        batch_size = len(texts)\n",
    "\n",
    "    _range = range(0, len(texts), batch_size)\n",
    "    for i in tqdm(_range) if show_progress_bar else _range:\n",
    "        text_batch = texts[i: i + batch_size]\n",
    "        if urls:\n",
    "            url_batch = urls[i: i + batch_size]\n",
    "            prepared_texts = prepare_data_for_pinecone(text_batch, urls=url_batch)\n",
    "        else:\n",
    "            prepared_texts = prepare_data_for_pinecone(text_batch)\n",
    "\n",
    "\n",
    "        # Use the upsert() method of the index object to upload the prepared texts to Pinecone\n",
    "        total_upserted += index.upsert(\n",
    "            vectors=prepared_texts,\n",
    "            namespace=namespace\n",
    "        )['upserted_count']\n",
    "\n",
    "\n",
    "    return total_upserted"
   ]
  },
  {
   "cell_type": "code",
   "execution_count": 104,
   "id": "c2bcd159",
   "metadata": {},
   "outputs": [
    {
     "data": {
      "text/plain": [
       "{'dimension': 1536,\n",
       " 'index_fullness': 0.0,\n",
       " 'metric': 'cosine',\n",
       " 'namespaces': {'default': {'vector_count': 44}},\n",
       " 'total_vector_count': 44,\n",
       " 'vector_type': 'dense'}"
      ]
     },
     "execution_count": 104,
     "metadata": {},
     "output_type": "execute_result"
    }
   ],
   "source": [
    "# Call the upload_texts_to_pinecone() function with the input texts\n",
    "upload_texts_to_pinecone(texts)\n",
    "\n",
    "index.describe_index_stats()"
   ]
  },
  {
   "cell_type": "code",
   "execution_count": 40,
   "id": "79e4179b",
   "metadata": {},
   "outputs": [],
   "source": [
    "def query_from_pinecone(query, top_k=3, include_metadata=True):\n",
    "    # get embedding from THE SAME embedder as the documents\n",
    "    query_embedding = get_embedding(query, engine=ENGINE)\n",
    "\n",
    "    return index.query(\n",
    "      vector=query_embedding,\n",
    "      top_k=top_k,\n",
    "      namespace=NAMESPACE,\n",
    "      include_metadata=include_metadata   # gets the metadata (dates, text, etc)\n",
    "    ).get('matches')"
   ]
  },
  {
   "cell_type": "code",
   "execution_count": 106,
   "id": "432d8b65",
   "metadata": {},
   "outputs": [
    {
     "data": {
      "text/plain": [
       "[{'id': '49f68a5c8493ec2c0bf489821c21fc3b',\n",
       "  'metadata': {'date_uploaded': '2025-05-19T16:45:46.217473', 'text': 'hi'},\n",
       "  'score': 0.808450818,\n",
       "  'values': []},\n",
       " {'id': '5e854f4638ce8ad012d67c38bb16ad4d',\n",
       "  'metadata': {'date_uploaded': '2025-05-16T15:21:42.222583',\n",
       "               'text': 'Suche Close Suchbegriff eingeben Suche Menü Close '\n",
       "                       'Navigation Sprache Rathaus Zum Rathaus Politik und '\n",
       "                       'Beteiligung Stadtverwaltung Presse und Medien Karriere '\n",
       "                       'bei der Stadt Finanzen und Vergabe München im Portrait '\n",
       "                       'Projekte und Initiativen Veranstaltungen Freizeit '\n",
       "                       'Sehenswertes Verkehr Jobs Leben Bürgerservice Zu den '\n",
       "                       'Services Wohnen und Meldewesen Verkehr und Mobilität '\n",
       "                       'Ausland und Migration Gesundheit und Soziales Familie '\n",
       "                       'und Kind Schule und Bildung Wirtschaft und Gewerbe '\n",
       "                       'Branchen und Berufe Engagement und Freizeit Aktuelle '\n",
       "                       'SpracheDeutsch Français Italiano Español Русский '\n",
       "                       'العربية 中文 Sehenswürdigkeiten Museen Kunsthalle München '\n",
       "                       'Kunsthalle München Ein vielfältiges Kunstprogramm im '\n",
       "                       'Herzen der Stadt Kunsthalle München Ausstellungen aus '\n",
       "                       'Malerei, Fotografie und Design Drei bis vier '\n",
       "                       'Ausstellungen zeigt die international renommierte '\n",
       "                       'Kunsthalle in den Münchner Fünf Höfen jedes Jahr. Dabei '\n",
       "                       'werden alle Facetten der Kunst beleuchtet. Adresse und '\n",
       "                       'Öffnungszeiten Theatinerstr. 8 , 80333 München '\n",
       "                       'Öffnungszeiten Fr geöffnet 1000 2000 Mo 1000 2000 Di '\n",
       "                       '1000 2000 Mi 1000 2000 Do 1000 2000 Fr 1000 2000 Sa '\n",
       "                       '1000 2000 So 1000 2000 Hinweis An jedem dritten '\n",
       "                       'Mittwoch des Monats ist die Ausstellung zur Afterwork '\n",
       "                       'bis 22 Uhr geöffnet. Sonderöffnung für Schulklassen '\n",
       "                       'jeden Mittwoch von 910 Uhr Anfahrt Kunsthalle München '\n",
       "                       'Weitere Aktionen Teilen auf Facebook Teilen via '\n",
       "                       'WhatsApp Kopieren Jeffrey Milstein Schaut euch '\n",
       "                       'Civilization an Von 11.04.24.8.25 folgt die Kunsthalle '\n",
       "                       'München den Spuren der Menschheit rund um den Globus '\n",
       "                       'aus dem Blickwinkel von über 100 international '\n",
       "                       'renommierten Fotografinnen. Erfahrt mehr Wissenswertes '\n",
       "                       'über einen Besuch in der Kunsthalle Das Programm der '\n",
       "                       'Kunsthalle München umfasst verschiedenste Epochen und '\n",
       "                       'Kunststile Von Malerei über Design und Mode bis zur '\n",
       "                       'Fotografie war hier schon Vieles zu sehen. Das Spektrum '\n",
       "                       'reicht von Pompeji bis Peter Lindbergh.Was ist geboten? '\n",
       "                       'Die Kunsthalle München hat keine eigene Sammlung, '\n",
       "                       'sondern veranstaltet Wechselausstellungen. Die '\n",
       "                       'inhaltlichen Möglichkeiten sind somit unbegrenzt. Das '\n",
       "                       'Themenspektrum reicht von der Kunst der Antike bis zur '\n",
       "                       'Gegenwart.Was ist besonders? Sowohl die Architektur des '\n",
       "                       'Gebäudes in den Fünf Höfen von Herzog de Meuron, als '\n",
       "                       'auch die oft aufwendig inszenierten Kunstausstellungen. '\n",
       "                       'Und Dienstags gibts 50 Prozent Rabatt auf alle '\n",
       "                       'Eintrittspreise. Auf einen Blick Die wichtigsten Infos '\n",
       "                       'zur Kunsthalle München Lage In den Fünf Höfen, zwischen '\n",
       "                       'Odeonsplatz und Marienplatz MuseumsKategorie Kunst '\n",
       "                       'Kinderprogramm Zu jeder Ausstellung gibts ein '\n",
       "                       'umfangreiches Führungsprogramm und Specials für Kinder '\n",
       "                       'und Jugendliche. Empfohlene Aufenthaltsdauer 1 bis 2 '\n",
       "                       'Stunden Anfahrt Alle SBahnen bzw. U3U6 bis Marienplatz, '\n",
       "                       'U3U4U5U6 oder Bus 100 bis Odeonsplatz, Tram 19 bis '\n",
       "                       'Theatinerstraße Parken Tiefgarage vor der Oper oder in '\n",
       "                       'der Parkgarage am Salvatorplatz Einige bisherige '\n",
       "                       'AusstellungsHighlights Zwischen 250.000 bis 300.000 '\n",
       "                       'Gäste besuchen die Kunsthalle München jährlich. Sie ist '\n",
       "                       'eines der beliebtesten Ausstellungshäuser in ganz '\n",
       "                       'Deutschland. Kunst und Kulturen der ganzen Welt finden '\n",
       "                       'hier ihren glanzvollen Auftritt, ob Malerei, Skulptur, '\n",
       "                       'Grafik, Fotografie, Kunsthandwerk oder Design. Als '\n",
       "                       'wichtigstes Kriterium für die Auswahl der '\n",
       "                       'Ausstellungsthemen gilt die künstlerische Qualität. Zu '\n",
       "                       'den Highlights zählten u.a. bereits Thierry Mugler , '\n",
       "                       'Samurai , Velázquez und Spaniens Goldene Zeit , Keith '\n",
       "                       'Haring und DixBeckmann sowie die Ausstellung JR '\n",
       "                       'Chronicles , die bisher größte Retrospektive des '\n",
       "                       'französischen FotoKünstlers JR. Zuletzt war die '\n",
       "                       'Ausstellung ViktorRolf. Fashion Statements zu sehen die '\n",
       "                       'erste große Retrospektive des niederländischen '\n",
       "                       'Designerduos in Deutschland. Previous slide View image '\n",
       "                       'in modal View image in modal View image in modal View '\n",
       "                       'image in modal View image in modal View image in modal '\n",
       "                       'View image in modal View image in modal View image in '\n",
       "                       'modal View image in modal View image in modal View '\n",
       "                       'image in modal Next slide Führungsprogramm durch die '\n",
       "                       'Ausstellungen Die Kunsthalle München bietet zu jeder '\n",
       "                       'Ausstellung ein breites Führungsangebot Öffentliche '\n",
       "                       'Führungen Die Münchner Volkshochschule bietet zu jeder '\n",
       "                       'Ausstellung öffentliche Führungen an Immer am Montag, '\n",
       "                       'Mittwoch, Donnerstag und Freitag. AudioFührungen Eine '\n",
       "                       'AudioTour in deutscher oder englischer Sprache führt '\n",
       "                       'euch anhand ausgewählter Exponate durch die '\n",
       "                       'Ausstellung. AfterworkFührungen Jeden dritten Mittwoch '\n",
       "                       'im Monat finden ab ca. 18 Uhr AfterworkFührungen statt. '\n",
       "                       'Die Ausstellung ist bis 22 Uhr geöffnet. '\n",
       "                       'Kuratorinnenführungen Die Kuratorinnen führen an '\n",
       "                       'mehreren Terminen selbst durch die aktuelle '\n",
       "                       'Ausstellung. Private Führungen Die Kunsthalle München '\n",
       "                       'vermittelt auch für private Gruppen '\n",
       "                       'Kunsthistorikerinnen oder Expertinnen aus verschiedenen '\n",
       "                       'Fachbereichen für Touren auf Deutsch oder in '\n",
       "                       'ausgewählten Fremdsprachen. Eine Anmeldung vorab ist '\n",
       "                       'erforderlich. Kinderprogramm und Begleitheft Robert '\n",
       "                       'Haas, Kunsthalle München Die jungen Besucherinnen '\n",
       "                       'werden in der Kunsthalle München spielerisch durch die '\n",
       "                       'aktuelle Ausstellung geführt Für Kinder von 8 bis 12 '\n",
       "                       'Jahren gibt es an der Kasse ein kostenloses Heft, das '\n",
       "                       'spielerisch durch die Ausstellung führt. Zudem gibt es '\n",
       "                       'ein regelmäßiges Führungsprogramm. Angeboten werden '\n",
       "                       'Kinderführungen in den Ferien für Kinder im Alter von 6 '\n",
       "                       'bis 12 Jahren . Kunst mit Baby Eine Stunde raus aus dem '\n",
       "                       'Alltagstrott und rein ins Museum. Babygerechte '\n",
       "                       'Führungen für Vätern und Mütter mit Kindern bis ein '\n",
       "                       'Jahr Sonderöffnungszeiten für Schulklassen Für '\n",
       "                       'Schulgruppen gibt es nach Anmeldung zusätzliche Termine '\n",
       "                       'mittwochs von 9 bis 10 Uhr. Museumsshop und Café Das '\n",
       "                       'CaféRestaurant Theatiner 8 bietet einen tollen Ausblick '\n",
       "                       'auf die Hängenden Gärten und die besondere Architektur '\n",
       "                       'des Gebäudes. Im Shop der Kunsthalle München findet man '\n",
       "                       'passend zur jeweiligen Ausstellung ein eigens '\n",
       "                       'zusammengestelltes Sortiment an Produkten. '\n",
       "                       'Eintrittspreise der Kunsthalle München Die '\n",
       "                       'Eintrittspreise der Kunsthalle München richten sich '\n",
       "                       'immer nach der jeweiligen Ausstellung. Ermäßigungen '\n",
       "                       'gibt es für Seniorinnen, Kinder und Jugendliche, '\n",
       "                       'Schülerinnen, Studierende, Auszubildende sowie '\n",
       "                       'Arbeitslose und Menschen mit Behinderung.Am Dienstag '\n",
       "                       'reduzieren sich alle Eintrittspreise um die Hälfte . '\n",
       "                       'Veranstaltungen und ClubMusik, Afterwork Co Michael '\n",
       "                       'Naumann Tiefenpixel Ausstellungsansicht Thierry Mugler '\n",
       "                       'Couturissime, Kunsthalle München Zu jeder Ausstellung '\n",
       "                       'gibt es ein umfangreiches Begleitprogramm Vorträge '\n",
       "                       'Talks mit interessanten Referentinnen beleuchten '\n",
       "                       'verschiedene Aspekte rund um das Thema der Ausstellung. '\n",
       "                       'AfterworkKH Jeden dritten Mittwoch im Monat die '\n",
       "                       'Ausstellung bis 22 Uhr besuchen und den Abend '\n",
       "                       'anschließend im CaféRestaurant Theatiner8 ausklingen '\n",
       "                       'lassen. ReAct! Kunst Club Einmal pro Ausstellung tun '\n",
       "                       'sich zudem die Kunsthalle München und der Club Harry '\n",
       "                       'Klein zusammen, um Kunst neu erlebbar zu machen. Die '\n",
       "                       'Ausstellung ist bis 23 Uhr geöffnet, Visual Artists und '\n",
       "                       'DJs sorgen auf der Tanzfläche im Café der Kunsthalle '\n",
       "                       'für den passenden Sound bis Mitternacht. Danach wird im '\n",
       "                       'Harry Klein bis spät in die Nacht weitergefeiert. '\n",
       "                       'OnlineAngebot Unter www.kunsthallemuc.de sind unter '\n",
       "                       'anderem die Ausstellungen Thierry Mugler Couturissime, '\n",
       "                       'Mit Leib und Seele. Münchner Rokoko und Du bist Faust. '\n",
       "                       'Goethes Drama in der Kunst als 360Rundgang virtuell '\n",
       "                       'erlebbar. Architektur Herzog de Meurons Museumsgebäude '\n",
       "                       'in den Fünf Höfen Kunsthalle München Auch die '\n",
       "                       'Architektur des Museumsgebäudes ist außergewöhnlich und '\n",
       "                       'preisgekrönt Die Kunsthalle München befindet sich im '\n",
       "                       'zweiten Obergeschoss der Fünf Höfe. Für die Architektur '\n",
       "                       'der Kunsthalle München wie auch für die gesamten Fünf '\n",
       "                       'Höfe sind die Schweizer Architekten Herzog de Meuron '\n",
       "                       'verantwortlich. Die Blickwinkel, etwa auf den Perusahof '\n",
       "                       'oder die Salvatorpassage, sind schon beim Gang zur '\n",
       "                       'Kunsthalle ungewohnt. Auch vom Café oder Shop aus hat '\n",
       "                       'man eine interessante Perspektive auf die '\n",
       "                       'außergewöhnliche Architektur der Fünf Höfe. Ihr '\n",
       "                       'Ensemble mitten in der Münchner Altstadt ist ein '\n",
       "                       'preisgekröntes Beispiel für die neuere Architektur in '\n",
       "                       'München. Barrierefreiheit und Angebote für Menschen mit '\n",
       "                       'Behinderung Sämtliche Räumlichkeiten der Kunsthalle '\n",
       "                       'München sind barrierefrei zugänglich. Zwei Aufzüge '\n",
       "                       'gewährleisten den Zugang zu den Ausstellungräumen, dem '\n",
       "                       'Shop, dem Café sowie der Garderobe und den Toiletten. '\n",
       "                       'BehindertenParkplätze in der Nähe sind vorhanden In der '\n",
       "                       'Prannerstraße 7 sowie am Salvatorplatz 2. Ein '\n",
       "                       'behindertengerechtes WC befindet sich direkt auf der '\n",
       "                       'Ausstellungsebene. Führungen Induktionsschleifen für '\n",
       "                       'Hörgeräte für den Audioguide sind auf Anfrage '\n",
       "                       'erhältlich. Alle Ausstellungstexte und Beschriftungen '\n",
       "                       'sind kontrastreich, gut lesbar und werden auch in '\n",
       "                       'einfacher Sprache angeboten. MuseumsGeschichte '\n",
       "                       'Eröffnung im Jahr 1985 Kunsthalle München Seit 2001 '\n",
       "                       'befindet sich die Kunsthalle München in ihren jetzigen '\n",
       "                       'Räume in den Fünf Höfen Die HypoKulturstiftung wurde im '\n",
       "                       'Jahr 1983 anlässlich des 150jährigen Firmenjubiläums '\n",
       "                       'der damaligen Wechsel und Hypothekenbank gegründet. Am '\n",
       "                       '14.6.1985 öffnete dann die Kunsthalle München ihre '\n",
       "                       'Pforten, die sich auch damals schon zwischen Marien und '\n",
       "                       'Odeonsplatz befand. Im Jahr 2001 wurden dann die '\n",
       "                       'jetzigen Räume in den Fünf Höfen bezogen, deren '\n",
       "                       'Ausstellungsfläche ungefähr ein Drittel größer ist als '\n",
       "                       'in der bisherigen Kunsthalle. In Kooperation mit dem '\n",
       "                       'Kulturreferat und den Museen Dieser Beitrag über die '\n",
       "                       'Münchner Museen wird vom Kulturreferat der '\n",
       "                       'Landeshauptstadt München gefördert und ist in '\n",
       "                       'Kooperation mit der Landesstelle für die '\n",
       "                       'nichtstaatlichen Museen in Bayern konzipiert worden. '\n",
       "                       'Die Inhalte wurden zwischen den beteiligten Museen und '\n",
       "                       ', dem offiziellen Stadtportal, abgestimmt. Das könnte '\n",
       "                       'euch auch interessieren Münchens Top Sehenswürdigkeiten '\n",
       "                       'Die Highlights von Marienplatz bis Frauenkirche So wird '\n",
       "                       'das Wetter Sonne oder Regen? Die Wetterprognose Webcams '\n",
       "                       'mit LiveBildern in München Was am Marienplatz, im '\n",
       "                       'Olympiapark und an der Isar zu sehen ist Auf einen '\n",
       "                       'Blick Kunsthalle München Theatinerstr. 8 80333 München '\n",
       "                       'Tel 4989224412 kontaktkunsthallemuc.de Korrektur '\n",
       "                       'vorschlagen Öffnungszeiten This is a carousel with '\n",
       "                       'rotating cards. Use the previous and next buttons to '\n",
       "                       'navigate, and Enter to activate cards. Vorheriger Slide '\n",
       "                       'Mo 1000 2000 Di 1000 2000 Mi 1000 2000 Do 1000 2000 Fr '\n",
       "                       '1000 2000 Sa 1000 2000 So 1000 2000 Nächster Slide 1 30 '\n",
       "                       'von 101 Veranstaltungen 16 Mai bis 24 Aug Civilization '\n",
       "                       'Wie wir heute leben Fr. 16.05.2025 1000 2000 Uhr '\n",
       "                       'Kunsthalle München 16 Mai bis 24 Aug Civilization Wie '\n",
       "                       'wir heute leben Sa. 17.05.2025 1000 2000 Uhr Kunsthalle '\n",
       "                       'München 16 Mai bis 24 Aug Civilization Wie wir heute '\n",
       "                       'leben So. 18.05.2025 1000 2000 Uhr Kunsthalle München '\n",
       "                       '16 Mai bis 24 Aug Civilization Wie wir heute leben Mo. '\n",
       "                       '19.05.2025 1000 2000 Uhr Kunsthalle München 16 Mai bis '\n",
       "                       '24 Aug Civilization Wie wir heute leben Di. 20.05.2025 '\n",
       "                       '1000 2000 Uhr Kunsthalle München 16 Mai bis 24 Aug '\n",
       "                       'Civilization Wie wir heute leben Mi. 21.05.2025 1000 '\n",
       "                       '2000 Uhr Kunsthalle München 16 Mai bis 24 Aug '\n",
       "                       'Civilization Wie wir heute leben Do. 22.05.2025 1000 '\n",
       "                       '2000 Uhr Kunsthalle München 16 Mai bis 24 Aug '\n",
       "                       'Civilization Wie wir heute leben Fr. 23.05.2025 1000 '\n",
       "                       '2000 Uhr Kunsthalle München 16 Mai bis 24 Aug '\n",
       "                       'Civilization Wie wir heute leben Sa. 24.05.2025 1000 '\n",
       "                       '2000 Uhr Kunsthalle München 16 Mai bis 24 Aug '\n",
       "                       'Civilization Wie wir heute leben So. 25.05.2025 1000 '\n",
       "                       '2000 Uhr Kunsthalle München 16 Mai bis 24 Aug '\n",
       "                       'Civilization Wie wir heute leben Mo. 26.05.2025 1000 '\n",
       "                       '2000 Uhr Kunsthalle München 16 Mai bis 24 Aug '\n",
       "                       'Civilization Wie wir heute leben Di. 27.05.2025 1000 '\n",
       "                       '2000 Uhr Kunsthalle München 16 Mai bis 24 Aug '\n",
       "                       'Civilization Wie wir heute leben Mi. 28.05.2025 1000 '\n",
       "                       '2000 Uhr Kunsthalle München 16 Mai bis 24 Aug '\n",
       "                       'Civilization Wie wir heute leben Do. 29.05.2025 1000 '\n",
       "                       '2000 Uhr Kunsthalle München 16 Mai bis 24 Aug '\n",
       "                       'Civilization Wie wir heute leben Fr. 30.05.2025 1000 '\n",
       "                       '2000 Uhr Kunsthalle München 16 Mai bis 24 Aug '\n",
       "                       'Civilization Wie wir heute leben Sa. 31.05.2025 1000 '\n",
       "                       '2000 Uhr Kunsthalle München 16 Mai bis 24 Aug '\n",
       "                       'Civilization Wie wir heute leben So. 01.06.2025 1000 '\n",
       "                       '2000 Uhr Kunsthalle München 16 Mai bis 24 Aug '\n",
       "                       'Civilization Wie wir heute leben Mo. 02.06.2025 1000 '\n",
       "                       '2000 Uhr Kunsthalle München 16 Mai bis 24 Aug '\n",
       "                       'Civilization Wie wir heute leben Di. 03.06.2025 1000 '\n",
       "                       '2000 Uhr Kunsthalle München 16 Mai bis 24 Aug '\n",
       "                       'Civilization Wie wir heute leben Mi. 04.06.2025 1000 '\n",
       "                       '2000 Uhr Kunsthalle München 16 Mai bis 24 Aug '\n",
       "                       'Civilization Wie wir heute leben Do. 05.06.2025 1000 '\n",
       "                       '2000 Uhr Kunsthalle München 16 Mai bis 24 Aug '\n",
       "                       'Civilization Wie wir heute leben Fr. 06.06.2025 1000 '\n",
       "                       '2000 Uhr Kunsthalle München 16 Mai bis 24 Aug '\n",
       "                       'Civilization Wie wir heute leben Sa. 07.06.2025 1000 '\n",
       "                       '2000 Uhr Kunsthalle München 16 Mai bis 24 Aug '\n",
       "                       'Civilization Wie wir heute leben So. 08.06.2025 1000 '\n",
       "                       '2000 Uhr Kunsthalle München 16 Mai bis 24 Aug '\n",
       "                       'Civilization Wie wir heute leben Mo. 09.06.2025 1000 '\n",
       "                       '2000 Uhr Kunsthalle München 16 Mai bis 24 Aug '\n",
       "                       'Civilization Wie wir heute leben Di. 10.06.2025 1000 '\n",
       "                       '2000 Uhr Kunsthalle München 16 Mai bis 24 Aug '\n",
       "                       'Civilization Wie wir heute leben Mi. 11.06.2025 1000 '\n",
       "                       '2000 Uhr Kunsthalle München 16 Mai bis 24 Aug '\n",
       "                       'Civilization Wie wir heute leben Do. 12.06.2025 1000 '\n",
       "                       '2000 Uhr Kunsthalle München 16 Mai bis 24 Aug '\n",
       "                       'Civilization Wie wir heute leben Fr. 13.06.2025 1000 '\n",
       "                       '2000 Uhr Kunsthalle München 16 Mai bis 24 Aug '\n",
       "                       'Civilization Wie wir heute leben Sa. 14.06.2025 1000 '\n",
       "                       '2000 Uhr Kunsthalle München Seitennummerierung Erste '\n",
       "                       'Seite 1 Seite 2 Seite 3 Seite 4 Letzte Seite Nächste '\n",
       "                       'Seite Fliegender Brief als Newsletter! Mit aktuellen '\n",
       "                       'Highlights, Tipps und Infos. EMail Adresse '\n",
       "                       'Rechtsgrundlage für die Verarbeitung Eurer EMail '\n",
       "                       'Adresse ist Art. 6 Abs. 1 a DSGVO in Verbindung mit '\n",
       "                       'Eurer Einwilligung. Ihr könnte Eure Einwilligung '\n",
       "                       'jederzeit mit Wirkung für die Zukunft widerrufen, am '\n",
       "                       'Einfachsten durch Anklicken des Abmeldelinks am Ende '\n",
       "                       'des entsprechenden EMailNewsletters. Alle weiteren '\n",
       "                       'Informationen zum Schutz Eurer personenbezogenen Daten '\n",
       "                       'findet Ihr in der Datenschutzerklärung Anmelden auf '\n",
       "                       'Facebook auf Instagram auf YouTube auf X Services '\n",
       "                       'Stadtplan Fahrplan Kultur us MStrom Bürgerservice '\n",
       "                       'Webcam Stadtteile Landkreise Umland Kontakt und mehr '\n",
       "                       'Kontakt, Presse, Werbung, Impressum, AGB, Datenschutz, '\n",
       "                       'Interessante Links zu München Leichte Sprache, '\n",
       "                       'Barrierefreiheit Weitere MetropolWebseiten Berlin, '\n",
       "                       'Hamburg, Köln, Opendi 2025 Portal München Betriebs GmbH '\n",
       "                       'Co. KG Ein Service der Landeshauptstadt München und der '\n",
       "                       'Stadtwerke München GmbH',\n",
       "               'url': 'https://www.muenchen.de/sehenswuerdigkeiten/museen/kunsthalle-muenchen'},\n",
       "  'score': 0.213538259,\n",
       "  'values': []},\n",
       " {'id': '2ad50efc7920ce1336db608ed265bf71',\n",
       "  'metadata': {'date_uploaded': '2025-05-19T15:09:42.005691',\n",
       "               'text': 'Suche Close Suchbegriff eingeben Suche Menü Close '\n",
       "                       'Navigation Sprache Rathaus Zum Rathaus Politik und '\n",
       "                       'Beteiligung Stadtverwaltung Presse und Medien Karriere '\n",
       "                       'bei der Stadt Finanzen und Vergabe München im Portrait '\n",
       "                       'Projekte und Initiativen Veranstaltungen Freizeit '\n",
       "                       'Sehenswertes Verkehr Jobs Leben Bürgerservice Zu den '\n",
       "                       'Services Wohnen und Meldewesen Verkehr und Mobilität '\n",
       "                       'Ausland und Migration Gesundheit und Soziales Familie '\n",
       "                       'und Kind Schule und Bildung Wirtschaft und Gewerbe '\n",
       "                       'Branchen und Berufe Engagement und Freizeit Aktuelle '\n",
       "                       'SpracheDeutsch Français Italiano Español Русский '\n",
       "                       'العربية 中文 Sehenswürdigkeiten Museen Kunsthalle München '\n",
       "                       'Kunsthalle München Ein vielfältiges Kunstprogramm im '\n",
       "                       'Herzen der Stadt Kunsthalle München Ausstellungen aus '\n",
       "                       'Malerei, Fotografie und Design Drei bis vier '\n",
       "                       'Ausstellungen zeigt die international renommierte '\n",
       "                       'Kunsthalle in den Münchner Fünf Höfen jedes Jahr. Dabei '\n",
       "                       'werden alle Facetten der Kunst beleuchtet. Adresse und '\n",
       "                       'Öffnungszeiten Theatinerstr. 8 , 80333 München '\n",
       "                       'Öffnungszeiten Mo geöffnet 1000 2000 Mo 1000 2000 Di '\n",
       "                       '1000 2000 Mi 1000 2000 Do 1000 2000 Fr 1000 2000 Sa '\n",
       "                       '1000 2000 So 1000 2000 Hinweis An jedem dritten '\n",
       "                       'Mittwoch des Monats ist die Ausstellung zur Afterwork '\n",
       "                       'bis 22 Uhr geöffnet. Sonderöffnung für Schulklassen '\n",
       "                       'jeden Mittwoch von 910 Uhr Anfahrt Kunsthalle München '\n",
       "                       'Weitere Aktionen Teilen auf Facebook Teilen via '\n",
       "                       'WhatsApp Kopieren Jeffrey Milstein Schaut euch '\n",
       "                       'Civilization an Von 11.04.24.8.25 folgt die Kunsthalle '\n",
       "                       'München den Spuren der Menschheit rund um den Globus '\n",
       "                       'aus dem Blickwinkel von über 100 international '\n",
       "                       'renommierten Fotografinnen. Erfahrt mehr Wissenswertes '\n",
       "                       'über einen Besuch in der Kunsthalle Das Programm der '\n",
       "                       'Kunsthalle München umfasst verschiedenste Epochen und '\n",
       "                       'Kunststile Von Malerei über Design und Mode bis zur '\n",
       "                       'Fotografie war hier schon Vieles zu sehen. Das Spektrum '\n",
       "                       'reicht von Pompeji bis Peter Lindbergh.Was ist geboten? '\n",
       "                       'Die Kunsthalle München hat keine eigene Sammlung, '\n",
       "                       'sondern veranstaltet Wechselausstellungen. Die '\n",
       "                       'inhaltlichen Möglichkeiten sind somit unbegrenzt. Das '\n",
       "                       'Themenspektrum reicht von der Kunst der Antike bis zur '\n",
       "                       'Gegenwart.Was ist besonders? Sowohl die Architektur des '\n",
       "                       'Gebäudes in den Fünf Höfen von Herzog de Meuron, als '\n",
       "                       'auch die oft aufwendig inszenierten Kunstausstellungen. '\n",
       "                       'Und Dienstags gibts 50 Prozent Rabatt auf alle '\n",
       "                       'Eintrittspreise. Auf einen Blick Die wichtigsten Infos '\n",
       "                       'zur Kunsthalle München Lage In den Fünf Höfen, zwischen '\n",
       "                       'Odeonsplatz und Marienplatz MuseumsKategorie Kunst '\n",
       "                       'Kinderprogramm Zu jeder Ausstellung gibts ein '\n",
       "                       'umfangreiches Führungsprogramm und Specials für Kinder '\n",
       "                       'und Jugendliche. Empfohlene Aufenthaltsdauer 1 bis 2 '\n",
       "                       'Stunden Anfahrt Alle SBahnen bzw. U3U6 bis Marienplatz, '\n",
       "                       'U3U4U5U6 oder Bus 100 bis Odeonsplatz, Tram 19 bis '\n",
       "                       'Theatinerstraße Parken Tiefgarage vor der Oper oder in '\n",
       "                       'der Parkgarage am Salvatorplatz Einige bisherige '\n",
       "                       'AusstellungsHighlights Zwischen 250.000 bis 300.000 '\n",
       "                       'Gäste besuchen die Kunsthalle München jährlich. Sie ist '\n",
       "                       'eines der beliebtesten Ausstellungshäuser in ganz '\n",
       "                       'Deutschland. Kunst und Kulturen der ganzen Welt finden '\n",
       "                       'hier ihren glanzvollen Auftritt, ob Malerei, Skulptur, '\n",
       "                       'Grafik, Fotografie, Kunsthandwerk oder Design. Als '\n",
       "                       'wichtigstes Kriterium für die Auswahl der '\n",
       "                       'Ausstellungsthemen gilt die künstlerische Qualität. Zu '\n",
       "                       'den Highlights zählten u.a. bereits Thierry Mugler , '\n",
       "                       'Samurai , Velázquez und Spaniens Goldene Zeit , Keith '\n",
       "                       'Haring und DixBeckmann sowie die Ausstellung JR '\n",
       "                       'Chronicles , die bisher größte Retrospektive des '\n",
       "                       'französischen FotoKünstlers JR. Zuletzt war die '\n",
       "                       'Ausstellung ViktorRolf. Fashion Statements zu sehen die '\n",
       "                       'erste große Retrospektive des niederländischen '\n",
       "                       'Designerduos in Deutschland. Previous slide View image '\n",
       "                       'in modal View image in modal View image in modal View '\n",
       "                       'image in modal View image in modal View image in modal '\n",
       "                       'View image in modal View image in modal View image in '\n",
       "                       'modal View image in modal View image in modal View '\n",
       "                       'image in modal Next slide Führungsprogramm durch die '\n",
       "                       'Ausstellungen Die Kunsthalle München bietet zu jeder '\n",
       "                       'Ausstellung ein breites Führungsangebot Öffentliche '\n",
       "                       'Führungen Die Münchner Volkshochschule bietet zu jeder '\n",
       "                       'Ausstellung öffentliche Führungen an Immer am Montag, '\n",
       "                       'Mittwoch, Donnerstag und Freitag. AudioFührungen Eine '\n",
       "                       'AudioTour in deutscher oder englischer Sprache führt '\n",
       "                       'euch anhand ausgewählter Exponate durch die '\n",
       "                       'Ausstellung. AfterworkFührungen Jeden dritten Mittwoch '\n",
       "                       'im Monat finden ab ca. 18 Uhr AfterworkFührungen statt. '\n",
       "                       'Die Ausstellung ist bis 22 Uhr geöffnet. '\n",
       "                       'Kuratorinnenführungen Die Kuratorinnen führen an '\n",
       "                       'mehreren Terminen selbst durch die aktuelle '\n",
       "                       'Ausstellung. Private Führungen Die Kunsthalle München '\n",
       "                       'vermittelt auch für private Gruppen '\n",
       "                       'Kunsthistorikerinnen oder Expertinnen aus verschiedenen '\n",
       "                       'Fachbereichen für Touren auf Deutsch oder in '\n",
       "                       'ausgewählten Fremdsprachen. Eine Anmeldung vorab ist '\n",
       "                       'erforderlich. Kinderprogramm und Begleitheft Robert '\n",
       "                       'Haas, Kunsthalle München Die jungen Besucherinnen '\n",
       "                       'werden in der Kunsthalle München spielerisch durch die '\n",
       "                       'aktuelle Ausstellung geführt Für Kinder von 8 bis 12 '\n",
       "                       'Jahren gibt es an der Kasse ein kostenloses Heft, das '\n",
       "                       'spielerisch durch die Ausstellung führt. Zudem gibt es '\n",
       "                       'ein regelmäßiges Führungsprogramm. Angeboten werden '\n",
       "                       'Kinderführungen in den Ferien für Kinder im Alter von 6 '\n",
       "                       'bis 12 Jahren . Kunst mit Baby Eine Stunde raus aus dem '\n",
       "                       'Alltagstrott und rein ins Museum. Babygerechte '\n",
       "                       'Führungen für Vätern und Mütter mit Kindern bis ein '\n",
       "                       'Jahr Sonderöffnungszeiten für Schulklassen Für '\n",
       "                       'Schulgruppen gibt es nach Anmeldung zusätzliche Termine '\n",
       "                       'mittwochs von 9 bis 10 Uhr. Museumsshop und Café Das '\n",
       "                       'CaféRestaurant Theatiner 8 bietet einen tollen Ausblick '\n",
       "                       'auf die Hängenden Gärten und die besondere Architektur '\n",
       "                       'des Gebäudes. Im Shop der Kunsthalle München findet man '\n",
       "                       'passend zur jeweiligen Ausstellung ein eigens '\n",
       "                       'zusammengestelltes Sortiment an Produkten. '\n",
       "                       'Eintrittspreise der Kunsthalle München Die '\n",
       "                       'Eintrittspreise der Kunsthalle München richten sich '\n",
       "                       'immer nach der jeweiligen Ausstellung. Ermäßigungen '\n",
       "                       'gibt es für Seniorinnen, Kinder und Jugendliche, '\n",
       "                       'Schülerinnen, Studierende, Auszubildende sowie '\n",
       "                       'Arbeitslose und Menschen mit Behinderung.Am Dienstag '\n",
       "                       'reduzieren sich alle Eintrittspreise um die Hälfte . '\n",
       "                       'Veranstaltungen und ClubMusik, Afterwork Co Michael '\n",
       "                       'Naumann Tiefenpixel Ausstellungsansicht Thierry Mugler '\n",
       "                       'Couturissime, Kunsthalle München Zu jeder Ausstellung '\n",
       "                       'gibt es ein umfangreiches Begleitprogramm Vorträge '\n",
       "                       'Talks mit interessanten Referentinnen beleuchten '\n",
       "                       'verschiedene Aspekte rund um das Thema der Ausstellung. '\n",
       "                       'AfterworkKH Jeden dritten Mittwoch im Monat die '\n",
       "                       'Ausstellung bis 22 Uhr besuchen und den Abend '\n",
       "                       'anschließend im CaféRestaurant Theatiner8 ausklingen '\n",
       "                       'lassen. ReAct! Kunst Club Einmal pro Ausstellung tun '\n",
       "                       'sich zudem die Kunsthalle München und der Club Harry '\n",
       "                       'Klein zusammen, um Kunst neu erlebbar zu machen. Die '\n",
       "                       'Ausstellung ist bis 23 Uhr geöffnet, Visual Artists und '\n",
       "                       'DJs sorgen auf der Tanzfläche im Café der Kunsthalle '\n",
       "                       'für den passenden Sound bis Mitternacht. Danach wird im '\n",
       "                       'Harry Klein bis spät in die Nacht weitergefeiert. '\n",
       "                       'OnlineAngebot Unter www.kunsthallemuc.de sind unter '\n",
       "                       'anderem die Ausstellungen Thierry Mugler Couturissime, '\n",
       "                       'Mit Leib und Seele. Münchner Rokoko und Du bist Faust. '\n",
       "                       'Goethes Drama in der Kunst als 360Rundgang virtuell '\n",
       "                       'erlebbar. Architektur Herzog de Meurons Museumsgebäude '\n",
       "                       'in den Fünf Höfen Kunsthalle München Auch die '\n",
       "                       'Architektur des Museumsgebäudes ist außergewöhnlich und '\n",
       "                       'preisgekrönt Die Kunsthalle München befindet sich im '\n",
       "                       'zweiten Obergeschoss der Fünf Höfe. Für die Architektur '\n",
       "                       'der Kunsthalle München wie auch für die gesamten Fünf '\n",
       "                       'Höfe sind die Schweizer Architekten Herzog de Meuron '\n",
       "                       'verantwortlich. Die Blickwinkel, etwa auf den Perusahof '\n",
       "                       'oder die Salvatorpassage, sind schon beim Gang zur '\n",
       "                       'Kunsthalle ungewohnt. Auch vom Café oder Shop aus hat '\n",
       "                       'man eine interessante Perspektive auf die '\n",
       "                       'außergewöhnliche Architektur der Fünf Höfe. Ihr '\n",
       "                       'Ensemble mitten in der Münchner Altstadt ist ein '\n",
       "                       'preisgekröntes Beispiel für die neuere Architektur in '\n",
       "                       'München. Barrierefreiheit und Angebote für Menschen mit '\n",
       "                       'Behinderung Sämtliche Räumlichkeiten der Kunsthalle '\n",
       "                       'München sind barrierefrei zugänglich. Zwei Aufzüge '\n",
       "                       'gewährleisten den Zugang zu den Ausstellungräumen, dem '\n",
       "                       'Shop, dem Café sowie der Garderobe und den Toiletten. '\n",
       "                       'BehindertenParkplätze in der Nähe sind vorhanden In der '\n",
       "                       'Prannerstraße 7 sowie am Salvatorplatz 2. Ein '\n",
       "                       'behindertengerechtes WC befindet sich direkt auf der '\n",
       "                       'Ausstellungsebene. Führungen Induktionsschleifen für '\n",
       "                       'Hörgeräte für den Audioguide sind auf Anfrage '\n",
       "                       'erhältlich. Alle Ausstellungstexte und Beschriftungen '\n",
       "                       'sind kontrastreich, gut lesbar und werden auch in '\n",
       "                       'einfacher Sprache angeboten. MuseumsGeschichte '\n",
       "                       'Eröffnung im Jahr 1985 Kunsthalle München Seit 2001 '\n",
       "                       'befindet sich die Kunsthalle München in ihren jetzigen '\n",
       "                       'Räume in den Fünf Höfen Die HypoKulturstiftung wurde im '\n",
       "                       'Jahr 1983 anlässlich des 150jährigen Firmenjubiläums '\n",
       "                       'der damaligen Wechsel und Hypothekenbank gegründet. Am '\n",
       "                       '14.6.1985 öffnete dann die Kunsthalle München ihre '\n",
       "                       'Pforten, die sich auch damals schon zwischen Marien und '\n",
       "                       'Odeonsplatz befand. Im Jahr 2001 wurden dann die '\n",
       "                       'jetzigen Räume in den Fünf Höfen bezogen, deren '\n",
       "                       'Ausstellungsfläche ungefähr ein Drittel größer ist als '\n",
       "                       'in der bisherigen Kunsthalle. In Kooperation mit dem '\n",
       "                       'Kulturreferat und den Museen Dieser Beitrag über die '\n",
       "                       'Münchner Museen wird vom Kulturreferat der '\n",
       "                       'Landeshauptstadt München gefördert und ist in '\n",
       "                       'Kooperation mit der Landesstelle für die '\n",
       "                       'nichtstaatlichen Museen in Bayern konzipiert worden. '\n",
       "                       'Die Inhalte wurden zwischen den beteiligten Museen und '\n",
       "                       ', dem offiziellen Stadtportal, abgestimmt. Das könnte '\n",
       "                       'euch auch interessieren Münchens Top Sehenswürdigkeiten '\n",
       "                       'Die Highlights von Marienplatz bis Frauenkirche So wird '\n",
       "                       'das Wetter Sonne oder Regen? Die Wetterprognose Webcams '\n",
       "                       'mit LiveBildern in München Was am Marienplatz, im '\n",
       "                       'Olympiapark und an der Isar zu sehen ist Auf einen '\n",
       "                       'Blick Kunsthalle München Theatinerstr. 8 80333 München '\n",
       "                       'Tel 4989224412 kontaktkunsthallemuc.de Korrektur '\n",
       "                       'vorschlagen Öffnungszeiten This is a carousel with '\n",
       "                       'rotating cards. Use the previous and next buttons to '\n",
       "                       'navigate, and Enter to activate cards. Vorheriger Slide '\n",
       "                       'Mo 1000 2000 Di 1000 2000 Mi 1000 2000 Do 1000 2000 Fr '\n",
       "                       '1000 2000 Sa 1000 2000 So 1000 2000 Nächster Slide 1 30 '\n",
       "                       'von 98 Veranstaltungen 19 Mai bis 24 Aug Civilization '\n",
       "                       'Wie wir heute leben Mo. 19.05.2025 1000 2000 Uhr '\n",
       "                       'Kunsthalle München 19 Mai bis 24 Aug Civilization Wie '\n",
       "                       'wir heute leben Di. 20.05.2025 1000 2000 Uhr Kunsthalle '\n",
       "                       'München 19 Mai bis 24 Aug Civilization Wie wir heute '\n",
       "                       'leben Mi. 21.05.2025 1000 2000 Uhr Kunsthalle München '\n",
       "                       '19 Mai bis 24 Aug Civilization Wie wir heute leben Do. '\n",
       "                       '22.05.2025 1000 2000 Uhr Kunsthalle München 19 Mai bis '\n",
       "                       '24 Aug Civilization Wie wir heute leben Fr. 23.05.2025 '\n",
       "                       '1000 2000 Uhr Kunsthalle München 19 Mai bis 24 Aug '\n",
       "                       'Civilization Wie wir heute leben Sa. 24.05.2025 1000 '\n",
       "                       '2000 Uhr Kunsthalle München 19 Mai bis 24 Aug '\n",
       "                       'Civilization Wie wir heute leben So. 25.05.2025 1000 '\n",
       "                       '2000 Uhr Kunsthalle München 19 Mai bis 24 Aug '\n",
       "                       'Civilization Wie wir heute leben Mo. 26.05.2025 1000 '\n",
       "                       '2000 Uhr Kunsthalle München 19 Mai bis 24 Aug '\n",
       "                       'Civilization Wie wir heute leben Di. 27.05.2025 1000 '\n",
       "                       '2000 Uhr Kunsthalle München 19 Mai bis 24 Aug '\n",
       "                       'Civilization Wie wir heute leben Mi. 28.05.2025 1000 '\n",
       "                       '2000 Uhr Kunsthalle München 19 Mai bis 24 Aug '\n",
       "                       'Civilization Wie wir heute leben Do. 29.05.2025 1000 '\n",
       "                       '2000 Uhr Kunsthalle München 19 Mai bis 24 Aug '\n",
       "                       'Civilization Wie wir heute leben Fr. 30.05.2025 1000 '\n",
       "                       '2000 Uhr Kunsthalle München 19 Mai bis 24 Aug '\n",
       "                       'Civilization Wie wir heute leben Sa. 31.05.2025 1000 '\n",
       "                       '2000 Uhr Kunsthalle München 19 Mai bis 24 Aug '\n",
       "                       'Civilization Wie wir heute leben So. 01.06.2025 1000 '\n",
       "                       '2000 Uhr Kunsthalle München 19 Mai bis 24 Aug '\n",
       "                       'Civilization Wie wir heute leben Mo. 02.06.2025 1000 '\n",
       "                       '2000 Uhr Kunsthalle München 19 Mai bis 24 Aug '\n",
       "                       'Civilization Wie wir heute leben Di. 03.06.2025 1000 '\n",
       "                       '2000 Uhr Kunsthalle München 19 Mai bis 24 Aug '\n",
       "                       'Civilization Wie wir heute leben Mi. 04.06.2025 1000 '\n",
       "                       '2000 Uhr Kunsthalle München 19 Mai bis 24 Aug '\n",
       "                       'Civilization Wie wir heute leben Do. 05.06.2025 1000 '\n",
       "                       '2000 Uhr Kunsthalle München 19 Mai bis 24 Aug '\n",
       "                       'Civilization Wie wir heute leben Fr. 06.06.2025 1000 '\n",
       "                       '2000 Uhr Kunsthalle München 19 Mai bis 24 Aug '\n",
       "                       'Civilization Wie wir heute leben Sa. 07.06.2025 1000 '\n",
       "                       '2000 Uhr Kunsthalle München 19 Mai bis 24 Aug '\n",
       "                       'Civilization Wie wir heute leben So. 08.06.2025 1000 '\n",
       "                       '2000 Uhr Kunsthalle München 19 Mai bis 24 Aug '\n",
       "                       'Civilization Wie wir heute leben Mo. 09.06.2025 1000 '\n",
       "                       '2000 Uhr Kunsthalle München 19 Mai bis 24 Aug '\n",
       "                       'Civilization Wie wir heute leben Di. 10.06.2025 1000 '\n",
       "                       '2000 Uhr Kunsthalle München 19 Mai bis 24 Aug '\n",
       "                       'Civilization Wie wir heute leben Mi. 11.06.2025 1000 '\n",
       "                       '2000 Uhr Kunsthalle München 19 Mai bis 24 Aug '\n",
       "                       'Civilization Wie wir heute leben Do. 12.06.2025 1000 '\n",
       "                       '2000 Uhr Kunsthalle München 19 Mai bis 24 Aug '\n",
       "                       'Civilization Wie wir heute leben Fr. 13.06.2025 1000 '\n",
       "                       '2000 Uhr Kunsthalle München 19 Mai bis 24 Aug '\n",
       "                       'Civilization Wie wir heute leben Sa. 14.06.2025 1000 '\n",
       "                       '2000 Uhr Kunsthalle München 19 Mai bis 24 Aug '\n",
       "                       'Civilization Wie wir heute leben So. 15.06.2025 1000 '\n",
       "                       '2000 Uhr Kunsthalle München 19 Mai bis 24 Aug '\n",
       "                       'Civilization Wie wir heute leben Mo. 16.06.2025 1000 '\n",
       "                       '2000 Uhr Kunsthalle München 19 Mai bis 24 Aug '\n",
       "                       'Civilization Wie wir heute leben Di. 17.06.2025 1000 '\n",
       "                       '2000 Uhr Kunsthalle München Seitennummerierung Erste '\n",
       "                       'Seite 1 Seite 2 Seite 3 Seite 4 Letzte Seite Nächste '\n",
       "                       'Seite Fliegender Brief als Newsletter! Mit aktuellen '\n",
       "                       'Highlights, Tipps und Infos. EMail Adresse '\n",
       "                       'Rechtsgrundlage für die Verarbeitung Eurer EMail '\n",
       "                       'Adresse ist Art. 6 Abs. 1 a DSGVO in Verbindung mit '\n",
       "                       'Eurer Einwilligung. Ihr könnte Eure Einwilligung '\n",
       "                       'jederzeit mit Wirkung für die Zukunft widerrufen, am '\n",
       "                       'Einfachsten durch Anklicken des Abmeldelinks am Ende '\n",
       "                       'des entsprechenden EMailNewsletters. Alle weiteren '\n",
       "                       'Informationen zum Schutz Eurer personenbezogenen Daten '\n",
       "                       'findet Ihr in der Datenschutzerklärung Anmelden auf '\n",
       "                       'Facebook auf Instagram auf YouTube auf X Services '\n",
       "                       'Stadtplan Fahrplan Kultur us MStrom Bürgerservice '\n",
       "                       'Webcam Stadtteile Landkreise Umland Kontakt und mehr '\n",
       "                       'Kontakt, Presse, Werbung, Impressum, AGB, Datenschutz, '\n",
       "                       'Interessante Links zu München Leichte Sprache, '\n",
       "                       'Barrierefreiheit Weitere MetropolWebseiten Berlin, '\n",
       "                       'Hamburg, Köln, Opendi 2025 Portal München Betriebs GmbH '\n",
       "                       'Co. KG Ein Service der Landeshauptstadt München und der '\n",
       "                       'Stadtwerke München GmbH',\n",
       "               'url': 'https://www.muenchen.de/sehenswuerdigkeiten/museen/kunsthalle-muenchen'},\n",
       "  'score': 0.213150129,\n",
       "  'values': []}]"
      ]
     },
     "execution_count": 106,
     "metadata": {},
     "output_type": "execute_result"
    }
   ],
   "source": [
    "query_from_pinecone('hello')\n"
   ]
  },
  {
   "cell_type": "code",
   "execution_count": 107,
   "id": "79ab1a28",
   "metadata": {},
   "outputs": [
    {
     "data": {
      "text/plain": [
       "{}"
      ]
     },
     "execution_count": 107,
     "metadata": {},
     "output_type": "execute_result"
    }
   ],
   "source": [
    "def delete_texts_from_pinecone(texts, namespace=NAMESPACE):\n",
    "    # Compute the hash (id) for each text\n",
    "    hashes = [hashlib.md5(text.encode()).hexdigest() for text in texts]\n",
    "\n",
    "    # The ids parameter is used to specify the list of IDs (hashes) to delete\n",
    "    return index.delete(ids=hashes, namespace=namespace)\n",
    "\n",
    "# delete our text\n",
    "delete_texts_from_pinecone(texts)"
   ]
  },
  {
   "cell_type": "code",
   "execution_count": 108,
   "id": "a14ba9af",
   "metadata": {},
   "outputs": [
    {
     "data": {
      "text/plain": [
       "{'dimension': 1536,\n",
       " 'index_fullness': 0.0,\n",
       " 'metric': 'cosine',\n",
       " 'namespaces': {'default': {'vector_count': 43}},\n",
       " 'total_vector_count': 43,\n",
       " 'vector_type': 'dense'}"
      ]
     },
     "execution_count": 108,
     "metadata": {},
     "output_type": "execute_result"
    }
   ],
   "source": [
    "index.describe_index_stats()\n"
   ]
  },
  {
   "cell_type": "code",
   "execution_count": 14,
   "id": "c5f96860",
   "metadata": {},
   "outputs": [
    {
     "name": "stdout",
     "output_type": "stream",
     "text": [
      "https://www.muenchen.de\n",
      "https://www.muenchen.de/en/events/\n"
     ]
    }
   ],
   "source": [
    "# specific of the website strucutre munchen.de\n",
    "# https://www.muenchen.de/en/events/\n",
    "base_url = 'https://www.muenchen.de'\n",
    "event_url = f'{base_url}/en/events/'\n",
    "print(base_url)\n",
    "print(event_url)"
   ]
  },
  {
   "cell_type": "code",
   "execution_count": 21,
   "id": "58d9e322",
   "metadata": {},
   "outputs": [
    {
     "data": {
      "text/plain": [
       "17"
      ]
     },
     "execution_count": 21,
     "metadata": {},
     "output_type": "execute_result"
    }
   ],
   "source": [
    "import requests\n",
    "import re\n",
    "\n",
    "def find_links_with_pattern(url, pattern):\n",
    "    # Send a GET request to the URL\n",
    "    response = requests.get(url)\n",
    "    \n",
    "    # Create a BeautifulSoup object\n",
    "    soup = BeautifulSoup(response.text, 'html.parser')\n",
    "    \n",
    "    # Compile the regex pattern\n",
    "    regex = re.compile(pattern)\n",
    "    \n",
    "    # Find all 'a' tags with href attribute matching the pattern\n",
    "    links = soup.find_all('a', href=regex)\n",
    "    \n",
    "    # Extract and return the href values\n",
    "    return [link.get('href') for link in links]\n",
    "\n",
    "# Example usage\n",
    "pattern = r'^/en/node/'\n",
    "\n",
    "matching_links = find_links_with_pattern(event_url, pattern)\n",
    "len(matching_links)"
   ]
  },
  {
   "cell_type": "code",
   "execution_count": 26,
   "id": "7acdad73",
   "metadata": {},
   "outputs": [],
   "source": [
    "urls = []"
   ]
  },
  {
   "cell_type": "code",
   "execution_count": 28,
   "id": "e24d50cd",
   "metadata": {},
   "outputs": [
    {
     "name": "stdout",
     "output_type": "stream",
     "text": [
      "https://www.muenchen.de/en/node/100789\n",
      "https://www.muenchen.de/en/node/97367\n",
      "https://www.muenchen.de/en/node/98241\n",
      "https://www.muenchen.de/en/node/100046\n",
      "https://www.muenchen.de/en/node/94241\n",
      "https://www.muenchen.de/en/node/99903\n",
      "https://www.muenchen.de/en/node/93196\n",
      "https://www.muenchen.de/en/node/99414\n",
      "https://www.muenchen.de/en/node/91505\n",
      "https://www.muenchen.de/en/node/100464\n",
      "https://www.muenchen.de/en/node/96219\n",
      "https://www.muenchen.de/en/node/93314\n",
      "https://www.muenchen.de/en/node/67524\n",
      "https://www.muenchen.de/en/node/101130\n",
      "https://www.muenchen.de/en/node/89285\n",
      "https://www.muenchen.de/en/node/18705\n",
      "https://www.muenchen.de/en/node/92909\n"
     ]
    }
   ],
   "source": [
    "for link in matching_links:\n",
    "    urls.append(f'{base_url}{link}')\n",
    "    print(f'{base_url}{link}')\n"
   ]
  },
  {
   "cell_type": "code",
   "execution_count": 24,
   "id": "3bf6a421",
   "metadata": {},
   "outputs": [
    {
     "name": "stderr",
     "output_type": "stream",
     "text": [
      "100%|██████████| 17/17 [00:40<00:00,  2.40s/it]\n"
     ]
    },
    {
     "data": {
      "text/plain": [
       "32"
      ]
     },
     "execution_count": 24,
     "metadata": {},
     "output_type": "execute_result"
    }
   ],
   "source": [
    "from bs4 import BeautifulSoup\n",
    "import requests\n",
    "\n",
    "for matching_link in tqdm(matching_links):\n",
    "    full_link = base_url + matching_link\n",
    "    r = requests.get(full_link)\n",
    "    soup = BeautifulSoup(r.content, 'html.parser')\n",
    "    for link in soup.find_all('a'):\n",
    "        if 'href' in link.attrs:\n",
    "            if link['href'].startswith('/') and 'sehenswuerdigkeiten' in link['href']:\n",
    "                urls.append(base_url + link['href'])\n",
    "    \n",
    "urls = list(set([u.lower().strip() for u in urls]))\n",
    "len(urls)"
   ]
  },
  {
   "cell_type": "code",
   "execution_count": 29,
   "id": "81ef7102",
   "metadata": {},
   "outputs": [
    {
     "name": "stdout",
     "output_type": "stream",
     "text": [
      "https://www.muenchen.de/en/node/100789\n",
      "https://www.muenchen.de/en/node/97367\n",
      "https://www.muenchen.de/en/node/98241\n",
      "https://www.muenchen.de/en/node/100046\n",
      "https://www.muenchen.de/en/node/94241\n",
      "https://www.muenchen.de/en/node/99903\n",
      "https://www.muenchen.de/en/node/93196\n",
      "https://www.muenchen.de/en/node/99414\n",
      "https://www.muenchen.de/en/node/91505\n",
      "https://www.muenchen.de/en/node/100464\n",
      "https://www.muenchen.de/en/node/96219\n",
      "https://www.muenchen.de/en/node/93314\n",
      "https://www.muenchen.de/en/node/67524\n",
      "https://www.muenchen.de/en/node/101130\n",
      "https://www.muenchen.de/en/node/89285\n",
      "https://www.muenchen.de/en/node/18705\n",
      "https://www.muenchen.de/en/node/92909\n"
     ]
    }
   ],
   "source": [
    "for url in urls:\n",
    "    print(url)"
   ]
  },
  {
   "cell_type": "code",
   "execution_count": 30,
   "id": "ff95d943",
   "metadata": {},
   "outputs": [],
   "source": [
    "import re\n",
    "\n",
    "def clean_string(text):  # courtesy of Claude 3.5 Sonnet\n",
    "    # Remove extra whitespace, including newlines\n",
    "    text = re.sub(r'\\s+', ' ', text)\n",
    "    # Remove any leading/trailing whitespace\n",
    "    text = text.strip()\n",
    "    # Remove common filler phrases\n",
    "    filler_phrases = [\n",
    "        \"Skip to content\", \"Skip to main content\", \"Menu\", \"Sign in\", \"Print\", \"Views:\", \"Comments\",\n",
    "        \"Footer menu\", \"Give us Feedback.\", \"Did this answer your question?\", \"No Yes No\", \"Thanks for your feedback.\", \"Events\", \"Culture, Leisure\", \"Restaurants\", \"Shopping\", \"Sights\", \"Tourism\", \n",
    "        \"Hotels\", \"Business\", \"Living\", \"Transportation\", \"Citizen service\", \"English\", \"Branchenbuch\", \n",
    "        \"Anzeige\", \"Search\", \"muenchen.de\", \"Das offizielle Stadtportal\", \"Home\"\n",
    "    ]\n",
    "    for phrase in filler_phrases:\n",
    "        text = re.sub(phrase, '', text, flags=re.IGNORECASE)\n",
    "    # Remove any remaining brackets and their contents\n",
    "    text = re.sub(r'\\[.*?\\]', '', text)\n",
    "    # Remove any remaining parentheses and their contents\n",
    "    text = re.sub(r'\\(.*?\\)', '', text)\n",
    "    # Remove any URLs\n",
    "    text = re.sub(r'http\\S+', '', text)\n",
    "    # Remove any remaining special characters\n",
    "    text = re.sub(r'[^\\w\\s\\.\\,\\?\\!]', '', text)\n",
    "    # Remove extra spaces that may have been created\n",
    "    text = re.sub(r'\\s+', ' ', text).strip()\n",
    "    print(text)\n",
    "    return text"
   ]
  },
  {
   "cell_type": "code",
   "execution_count": 31,
   "id": "643e7359",
   "metadata": {},
   "outputs": [
    {
     "name": "stderr",
     "output_type": "stream",
     "text": [
      "  6%|▌         | 1/17 [00:00<00:01,  8.77it/s]"
     ]
    },
    {
     "name": "stdout",
     "output_type": "stream",
     "text": [
      "https://www.muenchen.de/en/node/100789\n",
      "Ad Ausstellung in der Galerie Bezirk Oberbayern CarstenCaren Lewerentz und Susanne Winter Werden Vom 7. Mai bis 11. September 2025 ist die Ausstellung Werden in der Galerie Bezirk Oberbayern zu sehen. Die Arbeiten der Textilkünstlerin Susanne Winter und des Bildhauers CarstenCaren Lewerentz stehen für Wandel, Veränderung und Entfaltung und für die Frage nach Identität Wer bin ich? Und Was bin ich? Datum und Veranstaltungsort 20.05.2025 1000 until 1900 h Galerie Bezirk Oberbayern VGBildKunstBonn More actions Share on Facebook Share via WhatsApp Copy link CarstenCaren Lewerentz Skulpturen zwischen Identität und Leere CarstenCaren Lewerentz Skulpturen und Plastiken zeigen abgelegte Kleidung in Holz und Bronze. Sie sind Sinnbild für leere, verlassene menschliche Hüllen, denen Veränderung und Neues folgen kann und sie sind zugleich Zeugnisse persönlicher Entfaltung von Identität. Für Lewerentz bildet jedes Textil als zweite Haut des Menschen eine Verbindungslinie zwischen innerem und äußerem Sein. Aus der persönlichen Disharmonie zwischen Körper und innerem Wesen wurde für den Bildhauer das Kleidungsstück zu einem existentiellen Ausdruck seiner Kunst. Bild oben CarstenCaren Lewerentz, PRÄLUDIUM UND FUGE, 2009, Zirbelkiefer, 2010x39x36 cm Veranstaltungen zur Ausstellung 7. Mai 2025, 18 Uhr Vernissage 23. Mai 2025, 151730 Uhr KreativWorkshop Kunstbegegnungen 3. Juni 2025, 18301915 Uhr Führung in leicht verständlicher Sprache 27. Juni 2025, 181930 Uhr Tastführung zur Originalwerken der Ausstellung 23. Juli 2025, 1819 Uhr Museum SignerFührung Der Eintritt zur Ausstellung und den Veranstaltungen ist frei. Susanne Winter Materialbetonte Farblandschaften Stefan Rosenboom Susanne Winter Tintenschüttung, 2023, Tinte auf Aquarellpapier, 130x130 cm. Für ihre materialbetonten Farblandschaften arbeitet Susanne Winter mit Nähmaschine und Sticknadel auf Papier. Durch das Hin und Her der Fäden, durch Verdichtungen und Verknotungen entstehen Fadenzeichnungen mit farbigen Flächen und griffigen Formen. In ihren neuen Arbeiten experimentiert sie mit selbstgewonnenen Naturfarben aus Pflanzen, Wurzeln und Blättern und bringt diese durch Schütten auf Papier. Lenkung und Zufall wechseln sich beim Fluss der Farben ab. So zeigen sich Spuren von Wegen und Umwegen als Sinnbild für das Werden. Teil der Ausstellung ist ein großes, partizipatives Stickbild der Künstlerin, dessen Werden Besuchende mitgestalten können. In cooperation with the cultural department and the museums This article about Munichs museums is sponsored by the Cultural Department of the City of Munich and was conceived in cooperation with the State Agency for NonState Museums in Bavaria. The content has been coordinated between the participating museums and , the official city portal. This might also interest you Dates Tue , 20. May 2025 1000 Galerie Bezirk Oberbayern Wed , 21. May 2025 1000 Galerie Bezirk Oberbayern Thu , 22. May 2025 1000 Galerie Bezirk Oberbayern Fri , 23. May 2025 1000 Galerie Bezirk Oberbayern Mon , 26. May 2025 1000 Galerie Bezirk Oberbayern Tue , 27. May 2025 1000 Galerie Bezirk Oberbayern Wed , 28. May 2025 1000 Galerie Bezirk Oberbayern Fri , 30. May 2025 1000 Galerie Bezirk Oberbayern Mon , 02. June 2025 1000 Galerie Bezirk Oberbayern Tue , 03. June 2025 1000 Galerie Bezirk Oberbayern Wed , 04. June 2025 1000 Galerie Bezirk Oberbayern Thu , 05. June 2025 1000 Galerie Bezirk Oberbayern Fri , 06. June 2025 1000 Galerie Bezirk Oberbayern Tue , 10. June 2025 1000 Galerie Bezirk Oberbayern Wed , 11. June 2025 1000 Galerie Bezirk Oberbayern Thu , 12. June 2025 1000 Galerie Bezirk Oberbayern Fri , 13. June 2025 1000 Galerie Bezirk Oberbayern Mon , 16. June 2025 1000 Galerie Bezirk Oberbayern Tue , 17. June 2025 1000 Galerie Bezirk Oberbayern Wed , 18. June 2025 1000 Galerie Bezirk Oberbayern Fri , 20. June 2025 1000 Galerie Bezirk Oberbayern Mon , 23. June 2025 1000 Galerie Bezirk Oberbayern Tue , 24. June 2025 1000 Galerie Bezirk Oberbayern Wed , 25. June 2025 1000 Galerie Bezirk Oberbayern Thu , 26. June 2025 1000 Galerie Bezirk Oberbayern Fri , 27. June 2025 1000 Galerie Bezirk Oberbayern Mon , 30. June 2025 1000 Galerie Bezirk Oberbayern Tue , 01. July 2025 1000 Galerie Bezirk Oberbayern Wed , 02. July 2025 1000 Galerie Bezirk Oberbayern Thu , 03. July 2025 1000 Galerie Bezirk Oberbayern Fri , 04. July 2025 1000 Galerie Bezirk Oberbayern Mon , 07. July 2025 1000 Galerie Bezirk Oberbayern Tue , 08. July 2025 1000 Galerie Bezirk Oberbayern Wed , 09. July 2025 1000 Galerie Bezirk Oberbayern Thu , 10. July 2025 1000 Galerie Bezirk Oberbayern Fri , 11. July 2025 1000 Galerie Bezirk Oberbayern Mon , 14. July 2025 1000 Galerie Bezirk Oberbayern Tue , 15. July 2025 1000 Galerie Bezirk Oberbayern Wed , 16. July 2025 1000 Galerie Bezirk Oberbayern Thu , 17. July 2025 1000 Galerie Bezirk Oberbayern Fri , 18. July 2025 1000 Galerie Bezirk Oberbayern Mon , 21. July 2025 1000 Galerie Bezirk Oberbayern Tue , 22. July 2025 1000 Galerie Bezirk Oberbayern Wed , 23. July 2025 1000 Galerie Bezirk Oberbayern Thu , 24. July 2025 1000 Galerie Bezirk Oberbayern Fri , 25. July 2025 1000 Galerie Bezirk Oberbayern Mon , 28. July 2025 1000 Galerie Bezirk Oberbayern Tue , 29. July 2025 1000 Galerie Bezirk Oberbayern Wed , 30. July 2025 1000 Galerie Bezirk Oberbayern Thu , 31. July 2025 1000 Galerie Bezirk Oberbayern Fri , 01. August 2025 1000 Galerie Bezirk Oberbayern Mon , 04. August 2025 1000 Galerie Bezirk Oberbayern Tue , 05. August 2025 1000 Galerie Bezirk Oberbayern Wed , 06. August 2025 1000 Galerie Bezirk Oberbayern Thu , 07. August 2025 1000 Galerie Bezirk Oberbayern Fri , 08. August 2025 1000 Galerie Bezirk Oberbayern Mon , 11. August 2025 1000 Galerie Bezirk Oberbayern Tue , 12. August 2025 1000 Galerie Bezirk Oberbayern Wed , 13. August 2025 1000 Galerie Bezirk Oberbayern Thu , 14. August 2025 1000 Galerie Bezirk Oberbayern Mon , 18. August 2025 1000 Galerie Bezirk Oberbayern Tue , 19. August 2025 1000 Galerie Bezirk Oberbayern Wed , 20. August 2025 1000 Galerie Bezirk Oberbayern Thu , 21. August 2025 1000 Galerie Bezirk Oberbayern Fri , 22. August 2025 1000 Galerie Bezirk Oberbayern Mon , 25. August 2025 1000 Galerie Bezirk Oberbayern Tue , 26. August 2025 1000 Galerie Bezirk Oberbayern Wed , 27. August 2025 1000 Galerie Bezirk Oberbayern Thu , 28. August 2025 1000 Galerie Bezirk Oberbayern Fri , 29. August 2025 1000 Galerie Bezirk Oberbayern Mon , 01. September 2025 1000 Galerie Bezirk Oberbayern Tue , 02. September 2025 1000 Galerie Bezirk Oberbayern Wed , 03. September 2025 1000 Galerie Bezirk Oberbayern Thu , 04. September 2025 1000 Galerie Bezirk Oberbayern Fri , 05. September 2025 1000 Galerie Bezirk Oberbayern Mon , 08. September 2025 1000 Galerie Bezirk Oberbayern Tue , 09. September 2025 1000 Galerie Bezirk Oberbayern Wed , 10. September 2025 1000 Galerie Bezirk Oberbayern Thu , 11. September 2025 1000 Galerie Bezirk Oberbayern\n",
      "https://www.muenchen.de/en/node/97367\n"
     ]
    },
    {
     "name": "stderr",
     "output_type": "stream",
     "text": [
      " 18%|█▊        | 3/17 [00:00<00:01, 11.33it/s]"
     ]
    },
    {
     "name": "stdout",
     "output_type": "stream",
     "text": [
      "Ad Ausstellung im Museum Brandhorst Fünf Freunde. John Cage, Merce Cunningham, Jasper Johns, Robert Rauschenberg, Cy Twombly Unter dem Titel Fünf Freunde nimmt das Museum Brandhorst vom 10. April bis 17. August 2025 einen Künstlerkreis in den Fokus, der die Kunst der Nachkriegszeit in Musik, Tanz, Malerei, Skulptur und Zeichnung entscheidend geprägt hat. Datum und Veranstaltungsort 20.05.2025 1000 until 1800 h Museum Brandhorst Design Parat.cc More actions Share on Facebook Share via WhatsApp Copy link Darum geht es in der Ausstellung John Cage , Merce Cunningham , Jasper Johns , Robert Rauschenberg und Cy Twombly schufen durch ihren intimen Austausch eine besondere Verbindung zwischen den künstlerischen Gattungen und Medien. Mit über hundertfünfzig Kunstwerken, Partituren, Bühnenrequisiten, Kostümen, Fotografien und Archivalien ermöglicht die Schau einen Einblick in das Zusammenspiel der fünf Künstlerfreunde. Das Museum Brandhorst rückt damit auch Cy Twomblys Schaffen, das einen zentralen Sammlungsschwerpunkt bildet, in ein neues Licht. Insgesamt spannt die Ausstellung den Bogen von den 1940er bis in die späten 1970erJahre. Eine Ära, in der die Verflechtung von Kunst, Freundschaft und Liebe zu einem entscheidenden Movens des Schaffens der Künstlergruppe wurde. Die Entstehung der Künstlergruppe Während Cage und Cunningham bereits seit den frühen 1940erJahren eine berufliche und romantische Beziehung führten, lernten sich Rauschenberg und Twombly im Frühjahr 1951 in New York kennen. Ab dem Sommer besuchten sie gemeinsam das legendäre Black Mountain College in North Carolina, wo Cunningham und Cage unterrichteten. Rasch entstanden dort enge Verbindungen zwischen den Vieren. Cage verfasste Texte zu den Künstlern, sammelte ihre Werke und seine Theorien flossen wiederum in deren Arbeiten ein. Bilder, Geräusche und Bewegungen aus dem Alltag, die mittels Zufallsoperationen verschränkt wurden, ergaben ein konzeptuelles Grundgerüst. Am Black Mountain College arbeiteten Twombly und Rauschenberg gemeinsam an einer Serie von monochromen White Paintings die bisher allein Rauschenberg zugeschrieben wurden. Nach einer gemeinsamen Reise durch Europa und Nordafrika 195253 teilten sie sich ein Atelier in der New Yorker Fulton Street. Hier entwickelten sie ihre jeweilige Formensprache Rauschenberg in seinen Combine Paintings und Twombly in seinen graffitiähnlichen Kritzeleien. Kurz darauf, 1954, kam Jasper Johns in den Freundeskreis. Bis 1961 arbeiteten Rauschenberg und Johns Seite an Seite und etablierten, was später als Painting As Object kanonisiert wurde. Festival Fünf Freunde Ergänzend zur Ausstellung findet das Festival Fünf Freunde mit Tanzaufführungen und Konzerten im Rosensaal von Cy Twombly statt, welches die Werke von Merce Cunningham und John Cage in den Mittelpunkt rückt. Erfahrt hier mehr Politische Rahmenbedingungen und queere Aspekte Foto Robert Rauschenberg, Robert Rauschenberg Foundation Archives, New York Der Fokus der Ausstellung auf den freundschaftlichen und künstlerischen Beziehungen lässt die queeren Aspekte in ihrer Kunst hervortreten. In den Arbeiten finden sich zahlreiche versteckte Referenzen auf nichtheteronormatives Begehren. Die Künstlergruppe brach mit der von Machismo geprägten Rhetorik der Abstrakten Expressionisten. Viele Werke in der Schau nehmen Bezug auf queere Protagonisten der Kunst, Musik und Literaturgeschichte, darunter Frank OHara, Hart Crane oder die antike Dichterin Sappho. Die Künstler verhandelten durch Codes ihre eigene Sexualität und dies in der repressiven McCarthyÄra. Der politische Kontext des Kalten Kriegs und die zunehmende Technologisierung der Gesellschaft durchdrangen die Arbeiten aller fünf Künstler. Rauschenberg pflegte einen geradezu obsessiven Umgang mit amerikanischen Symbolen Johns berühmteste Arbeiten sind Appropriationen der amerikanischen Flagge und Zielscheiben, die auf Staatsräson und Militärwesen verweisen Cage beschäftigte sich mit dem Anarchismus bei Henry David Thoreau und war fasziniert von medientheoretischen Konzepten wie dem Global Village. Twomblys vermeintlich entrückte Antikenbezüge in den Gemälden der 1960erJahre rekurrieren oft auf konkrete politischhistorische Ereignisse wie die Ermordung von John F. Kennedy oder die KubaKrise. Insbesondere Twombly und Rauschenberg reagierten in ihrem bildnerischen Schaffen auf die Entwicklung der Raumfahrt, so entstand Rauschenbergs Stoned Moon Book 1970 gar im Auftrag der NASA. 1968 schuf Twombly das Gemälde Orion III, das die Planzeichnung eines neuartigen, mit Nuklearenergie angetriebenen Raketensystems aufgreift. In Kooperation mit dem Kulturreferat und den Museen Dieser Beitrag wird vom Kulturreferat der LHM gefördert. Dates Tue , 20. May 2025 1000 Museum Brandhorst Wed , 21. May 2025 1000 Museum Brandhorst Thu , 22. May 2025 1000 Museum Brandhorst Fri , 23. May 2025 1000 Museum Brandhorst Sat , 24. May 2025 1000 Museum Brandhorst Sun , 25. May 2025 1000 Museum Brandhorst Tue , 27. May 2025 1000 Museum Brandhorst Wed , 28. May 2025 1000 Museum Brandhorst Thu , 29. May 2025 1000 Museum Brandhorst Fri , 30. May 2025 1000 Museum Brandhorst Sat , 31. May 2025 1000 Museum Brandhorst Sun , 01. June 2025 1000 Museum Brandhorst Tue , 03. June 2025 1000 Museum Brandhorst Wed , 04. June 2025 1000 Museum Brandhorst Thu , 05. June 2025 1000 Museum Brandhorst Fri , 06. June 2025 1000 Museum Brandhorst Sat , 07. June 2025 1000 Museum Brandhorst Sun , 08. June 2025 1000 Museum Brandhorst Mon , 09. June 2025 1000 Museum Brandhorst Tue , 10. June 2025 1000 Museum Brandhorst Wed , 11. June 2025 1000 Museum Brandhorst Thu , 12. June 2025 1000 Museum Brandhorst Fri , 13. June 2025 1000 Museum Brandhorst Sat , 14. June 2025 1000 Museum Brandhorst Sun , 15. June 2025 1000 Museum Brandhorst Tue , 17. June 2025 1000 Museum Brandhorst Wed , 18. June 2025 1000 Museum Brandhorst Thu , 19. June 2025 1000 Museum Brandhorst Fri , 20. June 2025 1000 Museum Brandhorst Sat , 21. June 2025 1000 Museum Brandhorst Sun , 22. June 2025 1000 Museum Brandhorst Tue , 24. June 2025 1000 Museum Brandhorst Wed , 25. June 2025 1000 Museum Brandhorst Thu , 26. June 2025 1000 Museum Brandhorst Fri , 27. June 2025 1000 Museum Brandhorst Sat , 28. June 2025 1000 Museum Brandhorst Sun , 29. June 2025 1000 Museum Brandhorst Tue , 01. July 2025 1000 Museum Brandhorst Wed , 02. July 2025 1000 Museum Brandhorst Thu , 03. July 2025 1000 Museum Brandhorst Fri , 04. July 2025 1000 Museum Brandhorst Sat , 05. July 2025 1000 Museum Brandhorst Sun , 06. July 2025 1000 Museum Brandhorst Tue , 08. July 2025 1000 Museum Brandhorst Wed , 09. July 2025 1000 Museum Brandhorst Thu , 10. July 2025 1000 Museum Brandhorst Fri , 11. July 2025 1000 Museum Brandhorst Sat , 12. July 2025 1000 Museum Brandhorst Sun , 13. July 2025 1000 Museum Brandhorst Tue , 15. July 2025 1000 Museum Brandhorst Wed , 16. July 2025 1000 Museum Brandhorst Thu , 17. July 2025 1000 Museum Brandhorst Fri , 18. July 2025 1000 Museum Brandhorst Sat , 19. July 2025 1000 Museum Brandhorst Sun , 20. July 2025 1000 Museum Brandhorst Tue , 22. July 2025 1000 Museum Brandhorst Wed , 23. July 2025 1000 Museum Brandhorst Thu , 24. July 2025 1000 Museum Brandhorst Fri , 25. July 2025 1000 Museum Brandhorst Sat , 26. July 2025 1000 Museum Brandhorst Sun , 27. July 2025 1000 Museum Brandhorst Tue , 29. July 2025 1000 Museum Brandhorst Wed , 30. July 2025 1000 Museum Brandhorst Thu , 31. July 2025 1000 Museum Brandhorst Fri , 01. August 2025 1000 Museum Brandhorst Sat , 02. August 2025 1000 Museum Brandhorst Sun , 03. August 2025 1000 Museum Brandhorst Tue , 05. August 2025 1000 Museum Brandhorst Wed , 06. August 2025 1000 Museum Brandhorst Thu , 07. August 2025 1000 Museum Brandhorst Fri , 08. August 2025 1000 Museum Brandhorst Sat , 09. August 2025 1000 Museum Brandhorst Sun , 10. August 2025 1000 Museum Brandhorst Tue , 12. August 2025 1000 Museum Brandhorst Wed , 13. August 2025 1000 Museum Brandhorst Thu , 14. August 2025 1000 Museum Brandhorst Fri , 15. August 2025 1000 Museum Brandhorst Sat , 16. August 2025 1000 Museum Brandhorst Sun , 17. August 2025 1000 Museum Brandhorst\n",
      "https://www.muenchen.de/en/node/98241\n",
      "Ad Ausstellung im Lenbachhaus München Was zu verschwinden droht, wird Bild. In der Ausstellung Was zu verschwinden droht, wird Bild widmet sich das Lenbachhaus seit 4. März 2025 dem Thema Vergänglichkeit Gerade in Zeiten des Klimawandels eine äußerst relevante und aktuelle Thematik. Datum und Veranstaltungsort 20.05.2025 1000 until 1800 h Lenbachhaus München Städtische Galerie im Lenbachhaus und Kunstbau More actions Share on Facebook Share via WhatsApp Copy link Mensch Natur Kunst Es ist ein Gemeinplatz, erschreckend und faszinierend zugleich Alles, was in Bildern festgehalten wurde, existiert nicht mehr oder nicht mehr in der dargestellten Form. In der Kunst findet sich das Thema Vergänglichkeit oft sinnbildlich umgesetzt, als Memento Mori oder melancholische Meditation über das Verschwinden von Dingen. Auch Bilder von Träumen, Begegnungen mit Menschen, Erkundungen der Natur zeigen nur vorübergehende Momente. Manchmal wird das Flüchtige explizit zum Thema einer Darstellung, die es trotzdem festzuhalten sucht Wolken wandeln sich ständig, Schnee schmilzt bald, Bäume blühen nur kurze Zeit. In Zeiten des Klimawandels ist das Bewusstsein dafür, dass sich unsere gesamte Umwelt rasant verändert, allgegenwärtig geworden. Deshalb betrachten wir insbesondere Werke der Landschaftskunst heute mit anderen Augen. Sie zeigen eine Natur, die immer schon von Menschen beeinflusst war. Eine Landschaft ist nicht mehr nur ein schöner Anblick, sondern ein bedrohtes Ökosystem. Die Ausstellung ist um derartige Augenblicke des Erkennens gebaut. Sie zeigt bekannte wie auch selten oder bisher noch nie gezeigte Werke des 19. und 20. Jahrhunderts aus den Sammlungen des Lenbachhauses, des Historischen Vereins von Oberbayern, der Christoph Heilmann Stiftung, der Münchener Secession, der Gabriele Münter und Johannes EichnerStiftung, der KiCo Stiftung und des Förderverein Lenbachhaus e. V. Die Kunst arbeitet mit Vergänglichem und mit dem Wissen um Vergänglichkeit. Darin trifft sie sich mit der Idee des Museums, das Kunstwerke sammelt, bewahren wie auch vermitteln will. Mit Werken von Albrecht Adam, AntoineLouis Barye, Joseph Beaume, Rosa MarieRosalie Bonheur, Heinrich Bürkel, Maria CasparFilser, Lovis Corinth, JeanBaptiste Camille Corot, Johan Christian Dahl, AlexandreGabriel Decamps, Narcisse Virgilio Diaz de la Peña, Jules Luis Dupré, Maria Eichhorn, Thomas Fearnley, Thomas Theodor Heine, Jacques Hérold, Wilhelm Jakob Hertling, Paul Hoecker, Wassily Kandinsky, Wilhelm Leibl, Franz Marc, PierreJules Mêne, Christiane Möbus, Christian Ernst Bernhard Morgenstern, Gabriele Münter, Jean Bloé Niestlé, Blinky Palermo, Leo Putz, Gerhard Richter, Richard Riemerschmid, Carl Rottmann, Théodore Rousseau, Eduard Schleich d. Ä., Johann Sperl, Carl Spitzweg, Toni Stadler, Wilhelm Trübner, Timm Ulrichs, Johann Georg von Dillis, Wilhelm von Kobell, Franz von Lenbach, Gabriel von Max, Max Joseph Wagenbauer, Fritz Winter In Kooperation mit dem Kulturreferat und den Museen Dieser Beitrag wird vom Kulturreferat der LHM gefördert. Dates Tue , 20. May 2025 1000 Lenbachhaus München Wed , 21. May 2025 1000 Lenbachhaus München Thu , 22. May 2025 1000 Lenbachhaus München Fri , 23. May 2025 1000 Lenbachhaus München Sat , 24. May 2025 1000 Lenbachhaus München Sun , 25. May 2025 1000 Lenbachhaus München Sun , 25. May 2025 1000 Lenbachhaus München Tue , 27. May 2025 1000 Lenbachhaus München Wed , 28. May 2025 1000 Lenbachhaus München Thu , 29. May 2025 1000 Lenbachhaus München Fri , 30. May 2025 1000 Lenbachhaus München Sat , 31. May 2025 1000 Lenbachhaus München Sun , 01. June 2025 1000 Lenbachhaus München Tue , 03. June 2025 1000 Lenbachhaus München Wed , 04. June 2025 1000 Lenbachhaus München Thu , 05. June 2025 1000 Lenbachhaus München Fri , 06. June 2025 1000 Lenbachhaus München Sat , 07. June 2025 1000 Lenbachhaus München Sun , 08. June 2025 1000 Lenbachhaus München Tue , 10. June 2025 1000 Lenbachhaus München Wed , 11. June 2025 1000 Lenbachhaus München Thu , 12. June 2025 1000 Lenbachhaus München Fri , 13. June 2025 1000 Lenbachhaus München Sat , 14. June 2025 1000 Lenbachhaus München Sun , 15. June 2025 1000 Lenbachhaus München Tue , 17. June 2025 1000 Lenbachhaus München Wed , 18. June 2025 1000 Lenbachhaus München Thu , 19. June 2025 1000 Lenbachhaus München Fri , 20. June 2025 1000 Lenbachhaus München Sat , 21. June 2025 1000 Lenbachhaus München Sun , 22. June 2025 1000 Lenbachhaus München Sat , 28. June 2025 1000 Lenbachhaus München Sun , 29. June 2025 1000 Lenbachhaus München\n",
      "https://www.muenchen.de/en/node/100046\n"
     ]
    },
    {
     "name": "stderr",
     "output_type": "stream",
     "text": [
      " 35%|███▌      | 6/17 [00:00<00:01,  8.21it/s]"
     ]
    },
    {
     "name": "stdout",
     "output_type": "stream",
     "text": [
      "Ad Intervention zur Dauerausstellung im NSDokuzentrum Erinnerung ist... Am 8. Mai 2025 wurde das NSDokuzentrum in München nach einem Umbau wiedereröffnet. Für ein Jahr werden mit der Intervention Erinnerung ist... ausgewählte Objekte die Dauerausstellung München und der Nationalsozialismus ergänzen und durch neue Geschichten weitererzählen. Datum und Veranstaltungsort 20.05.2025 1000 until 1900 h NSDokumentationszentrum München nsdoku More actions Share on Facebook Share via WhatsApp Copy link Über die Intervention und ihre Geschichten Ein Hut, eine Marionette, ein Tablettenröhrchen, ein Bierkrug. Welche Erinnerungen haften diesen Dingen an, welche Geschichten können sie erzählen? Was wollen wir mit und von ihnen erfahren? In der Intervention schaffen große und kleine, alltägliche und ungewöhnliche Dinge sinnliche Zugänge und ermöglichen einen anderen Blick auf die Vergangenheit. Konkrete Gegenstände und individuelle Perspektiven machen übergeordnete Themen greifbar. Anlässlich des zehnjährigen Bestehens des N SDokumentationszentrums lädt Erinnerung ist Besucherinnen zu einem gemeinsamen Nachdenken darüber ein, wie schwierige und schmerzhafte Erfahrungen dargestellt, vermittelt, rezipiert und gedeutet werden können. Rundgänge mit den beiden Kuratorinnen Karolina Kühn und UllaBritta Vollhardt finden am 8. und 13. Mai, 3. Juni, 8. Juli, 16. September, 7. Oktober, 4. November und 9. Dezember 2025, jeweils um 1730 Uhr statt. Mehr zum Jubiläumsprogramm im NSDokuzentrum In cooperation with the cultural department and the museums This article about Munichs museums is sponsored by the Cultural Department of the City of Munich and was conceived in cooperation with the State Agency for NonState Museums in Bavaria. The content has been coordinated between the participating museums and , the official city portal. This might also interest you Dates Tue , 20. May 2025 1000 NSDokumentationszentrum München Wed , 21. May 2025 1000 NSDokumentationszentrum München Thu , 22. May 2025 1000 NSDokumentationszentrum München Fri , 23. May 2025 1000 NSDokumentationszentrum München Sat , 24. May 2025 1000 NSDokumentationszentrum München Sun , 25. May 2025 1000 NSDokumentationszentrum München Tue , 27. May 2025 1000 NSDokumentationszentrum München Wed , 28. May 2025 1000 NSDokumentationszentrum München Thu , 29. May 2025 1000 NSDokumentationszentrum München Fri , 30. May 2025 1000 NSDokumentationszentrum München Sat , 31. May 2025 1000 NSDokumentationszentrum München Sun , 01. June 2025 1000 NSDokumentationszentrum München Tue , 03. June 2025 1000 NSDokumentationszentrum München Wed , 04. June 2025 1000 NSDokumentationszentrum München Thu , 05. June 2025 1000 NSDokumentationszentrum München Fri , 06. June 2025 1000 NSDokumentationszentrum München Sat , 07. June 2025 1000 NSDokumentationszentrum München Sun , 08. June 2025 1000 NSDokumentationszentrum München Tue , 10. June 2025 1000 NSDokumentationszentrum München Wed , 11. June 2025 1000 NSDokumentationszentrum München Thu , 12. June 2025 1000 NSDokumentationszentrum München Fri , 13. June 2025 1000 NSDokumentationszentrum München Sat , 14. June 2025 1000 NSDokumentationszentrum München Sun , 15. June 2025 1000 NSDokumentationszentrum München Tue , 17. June 2025 1000 NSDokumentationszentrum München Wed , 18. June 2025 1000 NSDokumentationszentrum München Thu , 19. June 2025 1000 NSDokumentationszentrum München Fri , 20. June 2025 1000 NSDokumentationszentrum München Sat , 21. June 2025 1000 NSDokumentationszentrum München Sun , 22. June 2025 1000 NSDokumentationszentrum München Tue , 24. June 2025 1000 NSDokumentationszentrum München Wed , 25. June 2025 1000 NSDokumentationszentrum München Thu , 26. June 2025 1000 NSDokumentationszentrum München Fri , 27. June 2025 1000 NSDokumentationszentrum München Sat , 28. June 2025 1000 NSDokumentationszentrum München Sun , 29. June 2025 1000 NSDokumentationszentrum München Tue , 01. July 2025 1000 NSDokumentationszentrum München Wed , 02. July 2025 1000 NSDokumentationszentrum München Thu , 03. July 2025 1000 NSDokumentationszentrum München Fri , 04. July 2025 1000 NSDokumentationszentrum München Sat , 05. July 2025 1000 NSDokumentationszentrum München Sun , 06. July 2025 1000 NSDokumentationszentrum München Tue , 08. July 2025 1000 NSDokumentationszentrum München Wed , 09. July 2025 1000 NSDokumentationszentrum München Thu , 10. July 2025 1000 NSDokumentationszentrum München Fri , 11. July 2025 1000 NSDokumentationszentrum München Sat , 12. July 2025 1000 NSDokumentationszentrum München Sun , 13. July 2025 1000 NSDokumentationszentrum München Tue , 15. July 2025 1000 NSDokumentationszentrum München Wed , 16. July 2025 1000 NSDokumentationszentrum München Thu , 17. July 2025 1000 NSDokumentationszentrum München Fri , 18. July 2025 1000 NSDokumentationszentrum München Sat , 19. July 2025 1000 NSDokumentationszentrum München Sun , 20. July 2025 1000 NSDokumentationszentrum München Tue , 22. July 2025 1000 NSDokumentationszentrum München Wed , 23. July 2025 1000 NSDokumentationszentrum München Thu , 24. July 2025 1000 NSDokumentationszentrum München Fri , 25. July 2025 1000 NSDokumentationszentrum München Sat , 26. July 2025 1000 NSDokumentationszentrum München Sun , 27. July 2025 1000 NSDokumentationszentrum München Tue , 29. July 2025 1000 NSDokumentationszentrum München Wed , 30. July 2025 1000 NSDokumentationszentrum München Thu , 31. July 2025 1000 NSDokumentationszentrum München Fri , 01. August 2025 1000 NSDokumentationszentrum München Sat , 02. August 2025 1000 NSDokumentationszentrum München Sun , 03. August 2025 1000 NSDokumentationszentrum München Tue , 05. August 2025 1000 NSDokumentationszentrum München Wed , 06. August 2025 1000 NSDokumentationszentrum München Thu , 07. August 2025 1000 NSDokumentationszentrum München Fri , 08. August 2025 1000 NSDokumentationszentrum München Sat , 09. August 2025 1000 NSDokumentationszentrum München Sun , 10. August 2025 1000 NSDokumentationszentrum München Tue , 12. August 2025 1000 NSDokumentationszentrum München Wed , 13. August 2025 1000 NSDokumentationszentrum München Thu , 14. August 2025 1000 NSDokumentationszentrum München Fri , 15. August 2025 1000 NSDokumentationszentrum München Sat , 16. August 2025 1000 NSDokumentationszentrum München Sun , 17. August 2025 1000 NSDokumentationszentrum München Tue , 19. August 2025 1000 NSDokumentationszentrum München Wed , 20. August 2025 1000 NSDokumentationszentrum München Thu , 21. August 2025 1000 NSDokumentationszentrum München Fri , 22. August 2025 1000 NSDokumentationszentrum München Sat , 23. August 2025 1000 NSDokumentationszentrum München Sun , 24. August 2025 1000 NSDokumentationszentrum München Tue , 26. August 2025 1000 NSDokumentationszentrum München Wed , 27. August 2025 1000 NSDokumentationszentrum München Thu , 28. August 2025 1000 NSDokumentationszentrum München Fri , 29. August 2025 1000 NSDokumentationszentrum München Sat , 30. August 2025 1000 NSDokumentationszentrum München Sun , 31. August 2025 1000 NSDokumentationszentrum München Tue , 02. September 2025 1000 NSDokumentationszentrum München Wed , 03. September 2025 1000 NSDokumentationszentrum München Thu , 04. September 2025 1000 NSDokumentationszentrum München Fri , 05. September 2025 1000 NSDokumentationszentrum München Sat , 06. September 2025 1000 NSDokumentationszentrum München Sun , 07. September 2025 1000 NSDokumentationszentrum München Tue , 09. September 2025 1000 NSDokumentationszentrum München Wed , 10. September 2025 1000 NSDokumentationszentrum München Thu , 11. September 2025 1000 NSDokumentationszentrum München Fri , 12. September 2025 1000 NSDokumentationszentrum München\n",
      "https://www.muenchen.de/en/node/94241\n",
      "Ad Ausstellung mit der Großen Welle Farben Japans Holzschnitte aus der Sammlung der Bayerischen Staatsbibliothek Erstmals präsentiert die Bayerische Staatsbibliothek ihre japanischen Farbholzschnitte in einer Ausstellung Von 27. März bis 6. Juli 2025 sind Werke bekannter japanischer Künstler wie Utamaro, Hiroshige, Yoshitoshi, Hasui oder Hokusai zu sehen. Ein Highlight der Ausstellung bilden drei Farbholzschnitte aus Hokusais berühmter Holzschnittserie Sechsunddreißig Ansichten des Berges Fuji, darunter die weltbekannte Große Welle. Datum und Veranstaltungsort 20.05.2025 1000 until 1800 h Bayerische Staatsbibliothek Bayerische Staatsbibliothek More actions Share on Facebook Share via WhatsApp Copy link Originalexponate und großformatige Reproduktionen Künstlerische Exzellenz in Verbindung mit handwerklichem Können zeichnen den japanischen Farbholzschnitt aus. Die Bandbreite der Motive reicht von ausdruckstarken Theaterszenen, reizenden Schönheiten über urbane Szenen bis hin zu kontemplativen Landschaften sowie detailreichen Pflanzen und Tierdarstellungen. In den rund 130 Werken werden die vielfältigen kulturhistorischen Bezüge und besonderen Stilmerkmale des Holzschnitts sichtbar. Der zeitliche Bogen spannt sich von der Mitte des 18. Jahrhunderts bis zu den shinhanga , den sogenannten Neuen Drucken des 20. Jahrhunderts. Die Originalexponate werden begleitet durch thematische Stationen mit großformatigen Reproduktionen, in denen die Detailfülle der Holzschnitte sichtbar wird. Die Ausstellung streift am Rande auch das Thema Manga und Anime. Öffnungszeiten Sonntag bis Freitag 1018 Uhr, an Samstagen und Feiertagen geschlossen. Führungen Kostenlose Führungen jeden Dienstag um 1630 Uhr In cooperation with the cultural department and the museums This article about Munichs museums is sponsored by the Cultural Department of the City of Munich and was conceived in cooperation with the State Agency for NonState Museums in Bavaria. The content has been coordinated between the participating museums and , the official city portal. This might also interest you Dates Tue , 20. May 2025 1000 Bayerische Staatsbibliothek Wed , 21. May 2025 1000 Bayerische Staatsbibliothek Thu , 22. May 2025 1000 Bayerische Staatsbibliothek Fri , 23. May 2025 1000 Bayerische Staatsbibliothek Sun , 25. May 2025 1000 Bayerische Staatsbibliothek Mon , 26. May 2025 1000 Bayerische Staatsbibliothek Tue , 27. May 2025 1000 Bayerische Staatsbibliothek Wed , 28. May 2025 1000 Bayerische Staatsbibliothek Fri , 30. May 2025 1000 Bayerische Staatsbibliothek Sun , 01. June 2025 1000 Bayerische Staatsbibliothek Mon , 02. June 2025 1000 Bayerische Staatsbibliothek Tue , 03. June 2025 1000 Bayerische Staatsbibliothek Wed , 04. June 2025 1000 Bayerische Staatsbibliothek Thu , 05. June 2025 1000 Bayerische Staatsbibliothek Fri , 06. June 2025 1000 Bayerische Staatsbibliothek Sun , 08. June 2025 1000 Bayerische Staatsbibliothek Tue , 10. June 2025 1000 Bayerische Staatsbibliothek Wed , 11. June 2025 1000 Bayerische Staatsbibliothek Thu , 12. June 2025 1000 Bayerische Staatsbibliothek Fri , 13. June 2025 1000 Bayerische Staatsbibliothek Sun , 15. June 2025 1000 Bayerische Staatsbibliothek Mon , 16. June 2025 1000 Bayerische Staatsbibliothek Tue , 17. June 2025 1000 Bayerische Staatsbibliothek Wed , 18. June 2025 1000 Bayerische Staatsbibliothek Fri , 20. June 2025 1000 Bayerische Staatsbibliothek Sun , 22. June 2025 1000 Bayerische Staatsbibliothek Mon , 23. June 2025 1000 Bayerische Staatsbibliothek Tue , 24. June 2025 1000 Bayerische Staatsbibliothek Wed , 25. June 2025 1000 Bayerische Staatsbibliothek Thu , 26. June 2025 1000 Bayerische Staatsbibliothek Fri , 27. June 2025 1000 Bayerische Staatsbibliothek Sun , 29. June 2025 1000 Bayerische Staatsbibliothek Mon , 30. June 2025 1000 Bayerische Staatsbibliothek Tue , 01. July 2025 1000 Bayerische Staatsbibliothek Wed , 02. July 2025 1000 Bayerische Staatsbibliothek Thu , 03. July 2025 1000 Bayerische Staatsbibliothek Fri , 04. July 2025 1000 Bayerische Staatsbibliothek Sun , 06. July 2025 1000 Bayerische Staatsbibliothek\n",
      "https://www.muenchen.de/en/node/99903\n",
      "Ad Videoinstallation im NSDokuzentrum overexposedunderexposed Mit der Videoinstallation overexposedunderexposed untersuchen Mila Zhluktenko und Daniel Asadi Faezi acht Orte in München, die eine Geschichte terroristischer Gewalt in sich tragen. Vom 8. Mai bis zum 19. Oktober 2025 ist die Installation im NSDokuzentrum in München zu sehen. Datum und Veranstaltungsort 20.05.2025 1000 until 1900 h NSDokumentationszentrum München nsdoku More actions Share on Facebook Share via WhatsApp Copy link Über die Installation Orte des Terrors in München An den über das Stadtgebiet verstreut liegenden Orten wurden Menschen aus rechtsextremen, rassistischen und antisemitischen Motiven getötet, verletzt und traumatisiert. Manche der Taten sind weit über die Grenzen der Stadt hinaus bekannt, andere sind bis heute nicht im kollektiven Gedächtnis verankert. Um Aufklärung dieser Verbrechen und um Erinnerung an die Opfer wird zum Teil noch gerungen. Jeder Terrorakt hat seine eigene komplizierte Geschichte und doch stehen sie in Beziehung zueinander. Ein Netz teils unsichtbarer Linien verbindet die Ereignisse auch mit der nationalsozialistischen Vergangenheit. overexposedunderexposed schafft einen konzentrierten Raum, der ein Innehalten und Nachdenken ermöglicht. Wie kann eine Stadt zu einer gemeinsamen Auseinandersetzung mit diesen Terroranschlägen finden? Wie kann an die Opfer erinnert werden? Die Kamera fängt die acht Orte nacheinander zum jeweiligen Tatzeitpunkt ein. Es entsteht eine kontinuierliche Erzählung, die dem Verlauf eines Tages folgt und die zurückliegenden Ereignisse vergegenwärtigt. Offizielles Opening mit einem Gespräch mit den beiden Künstlerinnen ist am 22. Mai um 19 Uhr. Der Eintritt ist frei. Mehr zum Jubiläumsprogramm im NSDokuzentrum Über die Künstlerinnen Die Filmemacherinnen Daniel Asadi Faezi und Mila Zhluktenko sind Absolventinnen der Hochschule für Film und Fernsehen München. In gemeinsamen Projekten erkunden sie nonfiktionale Erzählformate. Ein wiederkehrendes Thema ihrer Arbeit sind Orte, deren komplizierte Geschichte und die damit verwobenen Lebensrealitäten. Ihre in CoRegie realisierten Kurzfilme waren bereits auf mehreren internationalen Festivals zu sehen und wurden ausgezeichnet. In cooperation with the cultural department and the museums This article about Munichs museums is sponsored by the Cultural Department of the City of Munich and was conceived in cooperation with the State Agency for NonState Museums in Bavaria. The content has been coordinated between the participating museums and , the official city portal. This might also interest you Dates Tue , 20. May 2025 1000 NSDokumentationszentrum München Wed , 21. May 2025 1000 NSDokumentationszentrum München Thu , 22. May 2025 1000 NSDokumentationszentrum München Fri , 23. May 2025 1000 NSDokumentationszentrum München Sat , 24. May 2025 1000 NSDokumentationszentrum München Sun , 25. May 2025 1000 NSDokumentationszentrum München Tue , 27. May 2025 1000 NSDokumentationszentrum München Wed , 28. May 2025 1000 NSDokumentationszentrum München Thu , 29. May 2025 1000 NSDokumentationszentrum München Fri , 30. May 2025 1000 NSDokumentationszentrum München Sat , 31. May 2025 1000 NSDokumentationszentrum München Sun , 01. June 2025 1000 NSDokumentationszentrum München Tue , 03. June 2025 1000 NSDokumentationszentrum München Wed , 04. June 2025 1000 NSDokumentationszentrum München Thu , 05. June 2025 1000 NSDokumentationszentrum München Fri , 06. June 2025 1000 NSDokumentationszentrum München Sat , 07. June 2025 1000 NSDokumentationszentrum München Sun , 08. June 2025 1000 NSDokumentationszentrum München Tue , 10. June 2025 1000 NSDokumentationszentrum München Wed , 11. June 2025 1000 NSDokumentationszentrum München Thu , 12. June 2025 1000 NSDokumentationszentrum München Fri , 13. June 2025 1000 NSDokumentationszentrum München Sat , 14. June 2025 1000 NSDokumentationszentrum München Sun , 15. June 2025 1000 NSDokumentationszentrum München Tue , 17. June 2025 1000 NSDokumentationszentrum München Wed , 18. June 2025 1000 NSDokumentationszentrum München Thu , 19. June 2025 1000 NSDokumentationszentrum München Fri , 20. June 2025 1000 NSDokumentationszentrum München Sat , 21. June 2025 1000 NSDokumentationszentrum München Sun , 22. June 2025 1000 NSDokumentationszentrum München Tue , 24. June 2025 1000 NSDokumentationszentrum München Wed , 25. June 2025 1000 NSDokumentationszentrum München Thu , 26. June 2025 1000 NSDokumentationszentrum München Fri , 27. June 2025 1000 NSDokumentationszentrum München Sat , 28. June 2025 1000 NSDokumentationszentrum München Sun , 29. June 2025 1000 NSDokumentationszentrum München Tue , 01. July 2025 1000 NSDokumentationszentrum München Wed , 02. July 2025 1000 NSDokumentationszentrum München Thu , 03. July 2025 1000 NSDokumentationszentrum München Fri , 04. July 2025 1000 NSDokumentationszentrum München Sat , 05. July 2025 1000 NSDokumentationszentrum München Sun , 06. July 2025 1000 NSDokumentationszentrum München Tue , 08. July 2025 1000 NSDokumentationszentrum München Wed , 09. July 2025 1000 NSDokumentationszentrum München Thu , 10. July 2025 1000 NSDokumentationszentrum München Fri , 11. July 2025 1000 NSDokumentationszentrum München Sat , 12. July 2025 1000 NSDokumentationszentrum München Sun , 13. July 2025 1000 NSDokumentationszentrum München Tue , 15. July 2025 1000 NSDokumentationszentrum München Wed , 16. July 2025 1000 NSDokumentationszentrum München Thu , 17. July 2025 1000 NSDokumentationszentrum München Fri , 18. July 2025 1000 NSDokumentationszentrum München Sat , 19. July 2025 1000 NSDokumentationszentrum München Sun , 20. July 2025 1000 NSDokumentationszentrum München Tue , 22. July 2025 1000 NSDokumentationszentrum München Wed , 23. July 2025 1000 NSDokumentationszentrum München Thu , 24. July 2025 1000 NSDokumentationszentrum München Fri , 25. July 2025 1000 NSDokumentationszentrum München Sat , 26. July 2025 1000 NSDokumentationszentrum München Sun , 27. July 2025 1000 NSDokumentationszentrum München Tue , 29. July 2025 1000 NSDokumentationszentrum München Wed , 30. July 2025 1000 NSDokumentationszentrum München Thu , 31. July 2025 1000 NSDokumentationszentrum München Fri , 01. August 2025 1000 NSDokumentationszentrum München Sat , 02. August 2025 1000 NSDokumentationszentrum München Sun , 03. August 2025 1000 NSDokumentationszentrum München Tue , 05. August 2025 1000 NSDokumentationszentrum München Wed , 06. August 2025 1000 NSDokumentationszentrum München Thu , 07. August 2025 1000 NSDokumentationszentrum München Fri , 08. August 2025 1000 NSDokumentationszentrum München Sat , 09. August 2025 1000 NSDokumentationszentrum München Sun , 10. August 2025 1000 NSDokumentationszentrum München Tue , 12. August 2025 1000 NSDokumentationszentrum München Wed , 13. August 2025 1000 NSDokumentationszentrum München Thu , 14. August 2025 1000 NSDokumentationszentrum München Fri , 15. August 2025 1000 NSDokumentationszentrum München Sat , 16. August 2025 1000 NSDokumentationszentrum München Sun , 17. August 2025 1000 NSDokumentationszentrum München Tue , 19. August 2025 1000 NSDokumentationszentrum München Wed , 20. August 2025 1000 NSDokumentationszentrum München Thu , 21. August 2025 1000 NSDokumentationszentrum München Fri , 22. August 2025 1000 NSDokumentationszentrum München Sat , 23. August 2025 1000 NSDokumentationszentrum München Sun , 24. August 2025 1000 NSDokumentationszentrum München Tue , 26. August 2025 1000 NSDokumentationszentrum München Wed , 27. August 2025 1000 NSDokumentationszentrum München Thu , 28. August 2025 1000 NSDokumentationszentrum München Fri , 29. August 2025 1000 NSDokumentationszentrum München Sat , 30. August 2025 1000 NSDokumentationszentrum München Sun , 31. August 2025 1000 NSDokumentationszentrum München Tue , 02. September 2025 1000 NSDokumentationszentrum München Wed , 03. September 2025 1000 NSDokumentationszentrum München Thu , 04. September 2025 1000 NSDokumentationszentrum München Fri , 05. September 2025 1000 NSDokumentationszentrum München Sat , 06. September 2025 1000 NSDokumentationszentrum München Sun , 07. September 2025 1000 NSDokumentationszentrum München Tue , 09. September 2025 1000 NSDokumentationszentrum München Wed , 10. September 2025 1000 NSDokumentationszentrum München Thu , 11. September 2025 1000 NSDokumentationszentrum München Fri , 12. September 2025 1000 NSDokumentationszentrum München\n",
      "https://www.muenchen.de/en/node/93196\n"
     ]
    },
    {
     "name": "stderr",
     "output_type": "stream",
     "text": [
      " 47%|████▋     | 8/17 [00:00<00:01,  8.67it/s]"
     ]
    },
    {
     "name": "stdout",
     "output_type": "stream",
     "text": [
      "Ad Sonderausstellung in der Archäologischen Staatssammlung Planet Africa Eine archäologische Zeitreise Von 16. Mai bis 28. September 2025 gastiert die Ausstellung Planet Africa Eine archäologische Zeitreise an der Archäologischen Staatssammlung. Dieses innovative, kontinentübergreifende Ausstellungsprojekt der Staatlichen Museen zu Berlin und des Deutschen Archäologischen Instituts hat die afrikanische Archäologie zum Fokus. Zur Ausstellung gibt es ein umfangreiches Begleitprogramm. Datum und Veranstaltungsort 20.05.2025 1000 until 1700 h Archäologische Staatssammlung Doris Fleischer More actions Share on Facebook Share via WhatsApp Copy link Darum geht es in der Ausstellung Afrika ist der Kontinent mit der längsten Anwesenheit des Menschen. Hier lagen unsere Ursprünge und die unserer evolutionären Vorfahren, die sich fortwährenden Veränderungen der Lebensräume anpassten und dafür neue Überlebensstrategien entwickelten. Von Afrika aus wurden über die Jahrtausende hinweg neue Kulturtechniken und Ernährungsstrategien in die Welt getragen. Archäologische Funde, Bildwerke und Schriftzeugnisse bieten Einblicke in Kunst, Handwerk, Technik und Umwelt vergangener Zeiten und belegen Austausch über große Entfernungen. Ausgrabungen von Siedlungen enthüllen städtische Strukturen, während gleichzeitig vielfältige mobile Lebensformen existierten. Begleitprogramm zur Ausstellung Vorträge 5. Juni 2025, 18 Uhr Unsere afrikanischen Ursprünge Wie Klimawandel, Anpassung und Migration uns zu dem gemacht haben, was wir heute sind Prof. Dr. Katerina Harvati, Professorin für Paläoanthropologie und Direktorin des Senckenberg Centre for Human Evolution and Palaeoenvironment an der Universität Tübingen Afrika spielte eine zentrale Rolle in der Entstehungsgeschichte des Menschen. Nicht nur die ersten paar Millionen Jahre früher menschlicher Evolution fanden auf diesem Kontinent statt, er ist auch die Wiege unserer eigenen Spezies, Homo sapiens. In diesem Vortrag wird ein Überblick über unsere afrikanischen Wurzeln gegeben und gezeigt, wie sie uns bis heute prägen. 12. Juni 2025, 18 Uhr Sabas Erbe Das Hochland Äthiopiens vor 3000 Jahren Dr. Iris Gerlach, Leiterin der Außenstelle Sanaa der OrientAbteilung des DAI Das Hochland Äthiopiens stand vor 3000 Jahren mit dem Königreich von Saba im heutigen Jemen in engem kulturellen Kontakt. Sabäer überquerten das Rote Meer, siedelten in den fruchtbaren äthiopischen Tälern und handelten dort mit Weihrauch und Gold. Sie brachten nicht nur ihre Schrift und Sprache und eigenen Götter mit, sondern führten auch technische Innovationen wie die Metallurgie ein. Mehrstöckige Palastbauten und monumentale Tempelanlagen zeugen von dem Erfolg dieser neuen Gesellschaft. 18. September 2025, 18 Uhr Das Geheimnis der NokKultur in Nigeria Frühe Kunst in Afrika Dr. Gabriele Franke, Institut für Archäologische Wissenschaften, Goethe Universität Frankfurt Im ersten Jahrtausend vor Christus entstanden in Zentralnigeria kunstvolle Tonfiguren, die in den 1940er Jahren zufällig entdeckt wurden. Sie sind die ältesten großformatigen Skulpturen im subsaharischen Afrika. Die GoetheUniversität Frankfurt hat von 2005 bis 2020 die Spuren der Nok genannten Kultur erforscht und neue Erkenntnisse zur Lebensweise dieser frühen Bauern gewonnen. Auch das Rätsel der Tonfiguren konnte gelüftet werden. Der Vortrag wird auf wesentliche Forschungsaspekte eingehen. Hinweis zu den Vorträgen Eintritt frei , keine Anmeldung nötig, Plätze vor Ort begrenzt. Hier gehts zur Übersicht zum gesamten Begleitprogramm Workshops 25. Mai 2025, 1017 Uhr Bogenbaukurs Dr. Robert Graf, Archäologe und Archäotechniker, Archando Die Jagd mit Pfeil und Bogen war bei den meisten afrikanischen Kulturen zu jeder Epoche elementar wichtig. Die große Kunst des Bogenbaus bestand dabei darin, unter einfachsten Bedingungen sowie mit minimalem Werkzeugeinsatz leistungsstarke Bögen zu fertigen. Dieser Tradition zu folgen, übt eine ganz besondere Faszination aus. Am Kurstag entstehen unter Anleitung ein Holzbogen mit Sehne und ein traditioneller Pfeil. Quasi nebenbei gibt der Workshopleiter zudem theoretische Einblicke in die uralte Kunst. Anmeldung bis 22. Mai über buchungarchaeologie.bayern , Kosten Euro 72,. Treffpunkt Museumswerkstatt. 8. Juni, 6. Juli und 28. September, 1416 Uhr Upcycling Familiensonntage mit dem Museumspädagogischen Zentrum , ab 5 Jahren Bei den Familiensonntagen besteht die Möglichkeit zum Rundgang durch die Sonderausstellung. In der Museumswerkstatt steht das Thema Upcycling im Fokus. Aus Milch und Safttüten werden Geldbeutel, Joghurtbecher verwandeln sich in kleine Spiele, aus ausgedienten Behältern werden Musikinstrumente, die bei Wunsch zu einem kleinen Orchester zusammengebaut werden können. Gemeinsam werden neue Ideen entwickelt und in der Museumswerkstatt umgesetzt. Bitte ausgespülte Milch und Safttüten, Plastikflaschen, Waschmittelkanister, Spülmittelflaschen, Joghurtbecher und viele Ideen mitbringen. Für Familien mit Kindern von 5 bis 12 Jahren Dauer 60 Minuten Führung plus 120 Minuten Workshop Materialkosten Euro 3, bis 5,. Treffpunkt Museumswerkstatt. Buchbar unter 089 954115220, 21 oder 22 oder buchungmpzbayern.de 28. Juni 2025, 14.3016.30 Uhr SchnupperTanzworkshop Afrofusion eine getanzte museale Erfahrung African Dance trifft auf europäische Tanzkunst, traditionelle Bewegungen und Tänze aus dem westlichen Afrika auf Übungen für mehr Körperbewusstsein und Bewegungsvielfalt. Wer Freude an Bewegung und anderen Kulturen hat, ist in diesem Schnupperworkshop mit der Ethnologin Daniela Stenger richtig. Seit mehreren Jahrzehnten unterrichtet sie bereits afrikanischen Tanz und hat ihren ganz eigenen Stil entwickelt. Es gibt keine Altersbegrenzung, einfach vorbei kommen. Treffpunkt Forum Museum . Bitte mitbringen Bequeme Kleidung. Getanzt wird barfuß oder in Socken Turnschuhe nur mit heller Sohle! Keine Anmeldung nötig, Plätze vor Ort begrenzt. Kosten Euro 4,. 13. Juli 2025, 1013 Uhr Auf den Spuren unserer Vorfahren, mit der MVHS In der Ausstellung erfahren kleine Gäste, welche Wege wandernde Gruppen in der Steinzeit auf sich nahmen, um unbekannte Gegenden zu erkunden. Was für ein Entdeckergeist! Doch Was trieb sie an? Modernste Untersuchungsmethoden zeigen, dass weit verzweigte Verwandtschaftsbezüge zu uns bestehen und wir es diesen Menschen zu verdanken haben, dass der Homo sapiens auf der ganzen Welt Fuß fassen konnte. In der Werkstatt entsteht leckerer Reiseproviant und ein kleines Säckchen mit notwendigem ReiseWerkzeug aus Feuerstein. Treffpunkt Museumswerkstatt. Details und Buchung über www.mvhs.de 3. August 2025, 1517 Uhr TrommelSchnupperWorkshop mit Cheikh Bangoura Sommerzeit ist Musikzeit. Was wäre da passender, als im Rahmen der aktuellen AfrikaAusstellung selbst Musik zu machen? Wer traditionelle westafrikanische Beats austesten möchte, ist an der Djembe, einer Art Bechertrommel, genau richtig. Freude und Spaß garantiert! Cheikh Bangoura, Tänzer und Trommler aus dem Senegal, unterrichtet seit über 20 Jahren Rhythmen aus Westafrika. Mit viel Erfahrung, Geduld und Freude gibt er sein Wissen in Europa weiter und freut sich auf den gemeinsamen Schnupperworkshop. Max. 12 Teilnehmer, Anmeldung unter buchungarchaeologie.bayern Kosten Euro 7,. 7. September 2025, 15 Uhr Geschichtenerzählerin Katharina Ritter zu Gast in der Archäologischen Staatssammlung Mythen und Geschichten aus Afrika Wer eine Geschichte hört, ein uraltes Märchen vielleicht, kann gleich viel einfacher in die Zeit eintauchen, in der die ersten Menschen jagend und sammelnd durch die weiten Gebiete Afrikas gewandert sind. Katharina Ritter erzählt spannenden Mythen und Geschichten von den Völkern Afrikas. Für ihre Zuhörerschar hat sie in Sammlungen mit afrikanischen Märchen und Mythen gebuddelt. Gemeinsam mit ihr dürfen Gäste in die Vergangenheit reisen, seltsame Rätsel lösen und dann kurz in die Sonderausstellung wandern. Katharina Ritter erzählt interaktiv und spannend für die ganze Familie mit Kindern ab 6 Jahren . Bitte Neugierde und Ohren mitbringen! Keine Anmeldung erforderlich, Plätze vor Ort begrenzt Dauer ca. 1 Stunde Kosten 7 Euro für Erwachsene, 3 Euro für Kinder zzgl. Eintritt. Ort Forum Museum . 21. September 2025, 1017 Uhr PfeilspitzenAmulette fertigen Dr. Robert Graf, Archäologe und Archäotechniker, Archando Pfeilspitzen zur Bogenjagd waren in den meisten afrikanischen Kulturen zu jeder Epoche elementar wichtig. Sie finden sich heute mancherorts zu Tausenden bei archäologischen Ausgrabungen. Diese häufig aus Feuerstein hergestellten Projektile sind nicht nur gefährlich scharf, sondern aus ästhetischer Sicht auch wunderschön, wenn man sie als Amulett trägt. In relativ kurzer Zeit stellen Gäste im Workshop unter Anleitung Pfeilspitzen aus Feuerstein her, die später als Anhänger an einem Band getragen werden können. Kinder unter 14 Jahren kommen bitte in Begleitung eines Erwachsenen. Dauer etwa 30 Minuten, eine Teilnahme ist jederzeit innerhalb des genannten Zeitraums möglich. Treffpunkt Museumswerkstatt. Keine Anmeldung nötig, offenes Programm, Plätze vor Ort begrenzt, evtl. fallen kurze Wartezeiten an Kosten Euro 7,. Angebote für Lehrkräfte Schulklassen mit dem Museumspädagogischen Zentrum SchulklassenAngebote Führung mit Workshop Bei dem Ausstellungsprojekt Planet Africa steht die Archäologie und damit die Geschichte des Kontinents Afrika im Mittelpunkt. Dadurch, dass die Ausstellung sowohl in Deutschland als auch in Afrika gezeigt wird, stehen ein ständiger Austausch und aktuelle Diskurse im Vordergrund. Der Rundgang durch die Sonderausstellung gibt einen Einblick in Kunst, Handwerk, Technik und Umwelt Afrikas. Die Geschichte wird so lebendig und greifbar. Kosten Euro 100, zzgl. Materialgebühr. Buchbar auf Anfrage unter 089 954115220, 21 oder 22 oder buchungmpzbayern.de Lehrerfortbildung In Kombination mit der neuen Dauerausstellung wird die Sonderausstellung zur idealen Ergänzung. Mit dem Schwerpunkt auf die Entwicklung der Menschheit werden unterschiedliche Themen besprochen. Die Fortbildung beinhaltet 120 Minuten Führung mit Einblick in die praktischen Angebote. Kosten keine. Buchbar auf Anfrage unter 089 954115220, 21 oder 22 oder buchungmpzbayern.de Führungsangebote Führungen mit dem FührungsPool Einstündige Führung für Gruppen ab acht Personen durch die Sonderausstellung, buchbar auf Anfrage unter buchungarchaeologie.bayern Kosten werktags Euro 85, bzw. 95, , WochenendeFeiertag 95, bzw. 105, zzgl. Eintritt. Eins zu EinsGespräche Ein Gast, ein Guide. Versierte Kulturvermittlerinnen laden zum außergewöhnlichen Dialog in die Sonderausstellung ein. Buchbare Termine 24. Mai 14. Juni 5. Juli 2. August 13. September , jeweils um 14 Uhr. Anmeldung mindestens eine Woche vorab über buchungarchaeologie.bayern Kosten 85 Euro zzgl. Eintritt, zu zahlen direkt vor Ort , Stichwort 11. Treffpunkt Foyer. Sonntagsführungen für Individualgäste mit der Münchner Volkshochschule ab 18. Mai, jeweils um 14 Uhr Überblicksführung durch die Dauerausstellung mit zusätzlichem Einblick in die Sonderausstellung, buchbar über www.mvhs.de . Treffpunkt Foyer. Inklusive Führungen in einfacher Sprache Vermittelt wird die Sonderausstellung in einfacher Sprache. Das Angebot ist für Erwachsene, Jugendliche und Kinder geeignet maximal zehn Personen. Termine am 4. Juli und am 19. September, jeweils um 15 Uhr. Auf Anfrage für Gruppen auch an anderen Terminen buchbar. Treffpunkt Foyer. Buchbar unter 089 954115220, 21 oder 22 oder buchungmpzbayern.de Kindergeburtstag im Museum! Abenteuer Archäologie Afrika die Wiege der Menschheit? Mit dem Museumspädagogischen Zentrum Führung plus Workshop Upcycling Bei einem gemeinsamen Rundgang durch die Sonderausstellung stehen unterschiedliche SchwerpunktThemen im Mittelpunkt. Mögliche Beispiele sind Menschheitsentwicklung, Techniken, Umwelt bzw. die neuesten Entwicklungen in Afrika. Welche Einflüsse auf unsere heutige Welt gab und gibt es? Welche Auswirkungen sind aktuell zu spüren? Kosten ab Euro 130, zzgl. Materialkosten Euro 5,. Buchbar auf Anfrage unter 089 954115220, 21 oder 22 oder buchungmpzbayern.de In Kooperation mit dem Kulturreferat und den Museen Dieser Beitrag wird vom Kulturreferat der LHM gefördert. Dates Tue , 20. May 2025 1000 Archäologische Staatssammlung Wed , 21. May 2025 1000 Archäologische Staatssammlung Thu , 22. May 2025 1000 Archäologische Staatssammlung Fri , 23. May 2025 1000 Archäologische Staatssammlung Sat , 24. May 2025 1000 Archäologische Staatssammlung Sun , 25. May 2025 1000 Archäologische Staatssammlung Tue , 27. May 2025 1000 Archäologische Staatssammlung Wed , 28. May 2025 1000 Archäologische Staatssammlung Thu , 29. May 2025 1000 Archäologische Staatssammlung Fri , 30. May 2025 1000 Archäologische Staatssammlung Sat , 31. May 2025 1000 Archäologische Staatssammlung Sun , 01. June 2025 1000 Archäologische Staatssammlung Tue , 03. June 2025 1000 Archäologische Staatssammlung Wed , 04. June 2025 1000 Archäologische Staatssammlung Thu , 05. June 2025 1000 Archäologische Staatssammlung Fri , 06. June 2025 1000 Archäologische Staatssammlung Sat , 07. June 2025 1000 Archäologische Staatssammlung Sun , 08. June 2025 1000 Archäologische Staatssammlung Tue , 10. June 2025 1000 Archäologische Staatssammlung Wed , 11. June 2025 1000 Archäologische Staatssammlung Thu , 12. June 2025 1000 Archäologische Staatssammlung Fri , 13. June 2025 1000 Archäologische Staatssammlung Sat , 14. June 2025 1000 Archäologische Staatssammlung Sun , 15. June 2025 1000 Archäologische Staatssammlung Tue , 17. June 2025 1000 Archäologische Staatssammlung Wed , 18. June 2025 1000 Archäologische Staatssammlung Thu , 19. June 2025 1000 Archäologische Staatssammlung Fri , 20. June 2025 1000 Archäologische Staatssammlung Sat , 21. June 2025 1000 Archäologische Staatssammlung Sun , 22. June 2025 1000 Archäologische Staatssammlung Tue , 24. June 2025 1000 Archäologische Staatssammlung Wed , 25. June 2025 1000 Archäologische Staatssammlung Thu , 26. June 2025 1000 Archäologische Staatssammlung Fri , 27. June 2025 1000 Archäologische Staatssammlung Sat , 28. June 2025 1000 Archäologische Staatssammlung Sun , 29. June 2025 1000 Archäologische Staatssammlung Tue , 01. July 2025 1000 Archäologische Staatssammlung Wed , 02. July 2025 1000 Archäologische Staatssammlung Thu , 03. July 2025 1000 Archäologische Staatssammlung Fri , 04. July 2025 1000 Archäologische Staatssammlung Sat , 05. July 2025 1000 Archäologische Staatssammlung Sun , 06. July 2025 1000 Archäologische Staatssammlung Tue , 08. July 2025 1000 Archäologische Staatssammlung Wed , 09. July 2025 1000 Archäologische Staatssammlung Thu , 10. July 2025 1000 Archäologische Staatssammlung Fri , 11. July 2025 1000 Archäologische Staatssammlung Sat , 12. July 2025 1000 Archäologische Staatssammlung Sun , 13. July 2025 1000 Archäologische Staatssammlung Tue , 15. July 2025 1000 Archäologische Staatssammlung Wed , 16. July 2025 1000 Archäologische Staatssammlung Thu , 17. July 2025 1000 Archäologische Staatssammlung Fri , 18. July 2025 1000 Archäologische Staatssammlung Sat , 19. July 2025 1000 Archäologische Staatssammlung Sun , 20. July 2025 1000 Archäologische Staatssammlung Tue , 22. July 2025 1000 Archäologische Staatssammlung Wed , 23. July 2025 1000 Archäologische Staatssammlung Thu , 24. July 2025 1000 Archäologische Staatssammlung Fri , 25. July 2025 1000 Archäologische Staatssammlung Sat , 26. July 2025 1000 Archäologische Staatssammlung Sun , 27. July 2025 1000 Archäologische Staatssammlung Tue , 29. July 2025 1000 Archäologische Staatssammlung Wed , 30. July 2025 1000 Archäologische Staatssammlung Thu , 31. July 2025 1000 Archäologische Staatssammlung Fri , 01. August 2025 1000 Archäologische Staatssammlung Sat , 02. August 2025 1000 Archäologische Staatssammlung Sun , 03. August 2025 1000 Archäologische Staatssammlung Tue , 05. August 2025 1000 Archäologische Staatssammlung Wed , 06. August 2025 1000 Archäologische Staatssammlung Thu , 07. August 2025 1000 Archäologische Staatssammlung Fri , 08. August 2025 1000 Archäologische Staatssammlung Sat , 09. August 2025 1000 Archäologische Staatssammlung Sun , 10. August 2025 1000 Archäologische Staatssammlung Tue , 12. August 2025 1000 Archäologische Staatssammlung Wed , 13. August 2025 1000 Archäologische Staatssammlung Thu , 14. August 2025 1000 Archäologische Staatssammlung Fri , 15. August 2025 1000 Archäologische Staatssammlung Sat , 16. August 2025 1000 Archäologische Staatssammlung Sun , 17. August 2025 1000 Archäologische Staatssammlung Tue , 19. August 2025 1000 Archäologische Staatssammlung Wed , 20. August 2025 1000 Archäologische Staatssammlung Thu , 21. August 2025 1000 Archäologische Staatssammlung Fri , 22. August 2025 1000 Archäologische Staatssammlung Sat , 23. August 2025 1000 Archäologische Staatssammlung Sun , 24. August 2025 1000 Archäologische Staatssammlung Tue , 26. August 2025 1000 Archäologische Staatssammlung Wed , 27. August 2025 1000 Archäologische Staatssammlung Thu , 28. August 2025 1000 Archäologische Staatssammlung Fri , 29. August 2025 1000 Archäologische Staatssammlung Sat , 30. August 2025 1000 Archäologische Staatssammlung Sun , 31. August 2025 1000 Archäologische Staatssammlung Tue , 02. September 2025 1000 Archäologische Staatssammlung Wed , 03. September 2025 1000 Archäologische Staatssammlung Thu , 04. September 2025 1000 Archäologische Staatssammlung Fri , 05. September 2025 1000 Archäologische Staatssammlung Sat , 06. September 2025 1000 Archäologische Staatssammlung Sun , 07. September 2025 1000 Archäologische Staatssammlung Tue , 09. September 2025 1000 Archäologische Staatssammlung Wed , 10. September 2025 1000 Archäologische Staatssammlung Thu , 11. September 2025 1000 Archäologische Staatssammlung Fri , 12. September 2025 1000 Archäologische Staatssammlung\n",
      "https://www.muenchen.de/en/node/99414\n",
      "Ad Ausstellung im Jüdischen Museum München bis 1. März 2026 Die Dritte Generation. Der Holocaust im familiären Gedächtnis 80 Jahre nach dem Holocaust beleuchtet die Die Dritte Generation. Der Holocaust im familiären Gedächtnis transgenerationale Traumata und das emotionale Erbe der Überlebenden. Die Ausstellung im Jüdischen Museum München läuft bis zum 1. März 2026. Datum und Veranstaltungsort 20.05.2025 1000 until 1800 h Jüdisches Museum München Eva Jünger Jüdisches Museum München More actions Share on Facebook Share via WhatsApp Copy link Generationenübergreifende Geschichten und Traumata im Blickpunkt Wie Erinnern, wenn kaum noch Zeitzeuginnen befragt werden können, die den Holocaust unmittelbar erlebt haben? An diese Frage knüpft die Ausstellung Die Dritte Generation. Der Holocaust im familiären Gedächtnis an. Überlebende des Holocaust haben ihre Geschichten, aber auch ihre Traumata an ihre Kinder und Enkelkinder weitergegeben. Während die Zweite Generation mit den psychischen und physischen Verletzungen ihrer Eltern aufwuchs, blickt die Dritte Generation aus einer größeren zeitlichen Distanz auf die Familiengeschichte, in der Erinnerung und Schweigen, Familienmythen und geheimnisse, erdrückendes oder fehlendes Familienerbe allgegenwärtig sind. Bewältigung und Auseinandersetzung mit dem Erbe des Holocaust Die Ausstellung erkundet verschiedene Strategien der Bewältigung und Auseinandersetzung mit dem Erbe des Holocaust. Dabei nimmt sie auch das Ringen um gesellschaftliche Anerkennung des Holocaust bei Sintizze und Romnja genauer in den Blick. Sie erzählt vorrangig anhand künstlerischer Arbeiten vom Archivieren und nicht mehr SchweigenWollen, von Aneignung und Abgrenzung, vom bewussten Erinnern und VergessenWollen, von der Allgegenwärtigkeit des Holocaust und den großen Lücken in den Familiengeschichten sowie den Versuchen, diese zu füllen. Die Ausstellung wurde zunächst im Jüdischen Museum Wien realisiert und wird nun in ihrer zweiten Station im Jüdischen Museum München angepasst und erweitert. Dabei wurde auch eine lokale Perspektive stärker herausgearbeitet. Münchner Künstlerinnen zeigen mit ihren Arbeiten, wie sehr der Holocaust bis in ihr heutiges Sein hineinwirkt. Das Thema Provenienz und Restitution und das Handling mit der lückenhaften Hinterlassenschaft mancher Objekte in unserer Sammlung sowie der Umgang mit diesem familiären Erbe wird in der Münchner Schau durch mehrere Arbeiten herausgestellt. Jeden Samstag und Sonntag finden um 1330 Uhr öffentliche Rundgänge statt. In cooperation with the cultural department and the museums This article about Munichs museums is sponsored by the Cultural Department of the City of Munich and was conceived in cooperation with the State Agency for NonState Museums in Bavaria. The content has been coordinated between the participating museums and , the official city portal. Dates Tue , 20. May 2025 1000 Jüdisches Museum München Wed , 21. May 2025 1000 Jüdisches Museum München Thu , 22. May 2025 1000 Jüdisches Museum München Fri , 23. May 2025 1000 Jüdisches Museum München Sat , 24. May 2025 1000 Jüdisches Museum München Sun , 25. May 2025 1000 Jüdisches Museum München Tue , 27. May 2025 1000 Jüdisches Museum München Wed , 28. May 2025 1000 Jüdisches Museum München Thu , 29. May 2025 1000 Jüdisches Museum München Fri , 30. May 2025 1000 Jüdisches Museum München Sat , 31. May 2025 1000 Jüdisches Museum München Sun , 01. June 2025 1000 Jüdisches Museum München Tue , 03. June 2025 1000 Jüdisches Museum München Wed , 04. June 2025 1000 Jüdisches Museum München Thu , 05. June 2025 1000 Jüdisches Museum München Fri , 06. June 2025 1000 Jüdisches Museum München Sat , 07. June 2025 1000 Jüdisches Museum München Sun , 08. June 2025 1000 Jüdisches Museum München Tue , 10. June 2025 1000 Jüdisches Museum München Wed , 11. June 2025 1000 Jüdisches Museum München Thu , 12. June 2025 1000 Jüdisches Museum München Fri , 13. June 2025 1000 Jüdisches Museum München Sat , 14. June 2025 1000 Jüdisches Museum München Sun , 15. June 2025 1000 Jüdisches Museum München Tue , 17. June 2025 1000 Jüdisches Museum München Wed , 18. June 2025 1000 Jüdisches Museum München Thu , 19. June 2025 1000 Jüdisches Museum München Fri , 20. June 2025 1000 Jüdisches Museum München Sat , 21. June 2025 1000 Jüdisches Museum München Sun , 22. June 2025 1000 Jüdisches Museum München Tue , 24. June 2025 1000 Jüdisches Museum München Wed , 25. June 2025 1000 Jüdisches Museum München Thu , 26. June 2025 1000 Jüdisches Museum München Fri , 27. June 2025 1000 Jüdisches Museum München Sat , 28. June 2025 1000 Jüdisches Museum München Sun , 29. June 2025 1000 Jüdisches Museum München Tue , 01. July 2025 1000 Jüdisches Museum München Wed , 02. July 2025 1000 Jüdisches Museum München Thu , 03. July 2025 1000 Jüdisches Museum München Fri , 04. July 2025 1000 Jüdisches Museum München Sat , 05. July 2025 1000 Jüdisches Museum München Sun , 06. July 2025 1000 Jüdisches Museum München Tue , 08. July 2025 1000 Jüdisches Museum München Wed , 09. July 2025 1000 Jüdisches Museum München Thu , 10. July 2025 1000 Jüdisches Museum München Fri , 11. July 2025 1000 Jüdisches Museum München Sat , 12. July 2025 1000 Jüdisches Museum München Sun , 13. July 2025 1000 Jüdisches Museum München Tue , 15. July 2025 1000 Jüdisches Museum München Wed , 16. July 2025 1000 Jüdisches Museum München Thu , 17. July 2025 1000 Jüdisches Museum München Fri , 18. July 2025 1000 Jüdisches Museum München Sat , 19. July 2025 1000 Jüdisches Museum München Sun , 20. July 2025 1000 Jüdisches Museum München Tue , 22. July 2025 1000 Jüdisches Museum München Wed , 23. July 2025 1000 Jüdisches Museum München Thu , 24. July 2025 1000 Jüdisches Museum München Fri , 25. July 2025 1000 Jüdisches Museum München Sat , 26. July 2025 1000 Jüdisches Museum München Sun , 27. July 2025 1000 Jüdisches Museum München Tue , 29. July 2025 1000 Jüdisches Museum München Wed , 30. July 2025 1000 Jüdisches Museum München Thu , 31. July 2025 1000 Jüdisches Museum München Fri , 01. August 2025 1000 Jüdisches Museum München Sat , 02. August 2025 1000 Jüdisches Museum München Sun , 03. August 2025 1000 Jüdisches Museum München Tue , 05. August 2025 1000 Jüdisches Museum München Wed , 06. August 2025 1000 Jüdisches Museum München Thu , 07. August 2025 1000 Jüdisches Museum München Fri , 08. August 2025 1000 Jüdisches Museum München Sat , 09. August 2025 1000 Jüdisches Museum München Sun , 10. August 2025 1000 Jüdisches Museum München Tue , 12. August 2025 1000 Jüdisches Museum München Wed , 13. August 2025 1000 Jüdisches Museum München Thu , 14. August 2025 1000 Jüdisches Museum München Fri , 15. August 2025 1000 Jüdisches Museum München Sat , 16. August 2025 1000 Jüdisches Museum München Sun , 17. August 2025 1000 Jüdisches Museum München Tue , 19. August 2025 1000 Jüdisches Museum München Wed , 20. August 2025 1000 Jüdisches Museum München Thu , 21. August 2025 1000 Jüdisches Museum München Fri , 22. August 2025 1000 Jüdisches Museum München Sat , 23. August 2025 1000 Jüdisches Museum München Sun , 24. August 2025 1000 Jüdisches Museum München Tue , 26. August 2025 1000 Jüdisches Museum München Wed , 27. August 2025 1000 Jüdisches Museum München Thu , 28. August 2025 1000 Jüdisches Museum München Fri , 29. August 2025 1000 Jüdisches Museum München Sat , 30. August 2025 1000 Jüdisches Museum München Sun , 31. August 2025 1000 Jüdisches Museum München Tue , 02. September 2025 1000 Jüdisches Museum München Wed , 03. September 2025 1000 Jüdisches Museum München Thu , 04. September 2025 1000 Jüdisches Museum München Fri , 05. September 2025 1000 Jüdisches Museum München Sat , 06. September 2025 1000 Jüdisches Museum München Sun , 07. September 2025 1000 Jüdisches Museum München Tue , 09. September 2025 1000 Jüdisches Museum München Wed , 10. September 2025 1000 Jüdisches Museum München Thu , 11. September 2025 1000 Jüdisches Museum München Fri , 12. September 2025 1000 Jüdisches Museum München\n",
      "https://www.muenchen.de/en/node/91505\n",
      "Ad Tickets für die Schau in der Kleinen Olympiahalle Körperwelten in München Am Puls der Zeit Einblicke, die unter die Haut gehen Vom 11. April bis zum 14. September 2025 ist die Ausstellung Körperwelten in der Kleinen Olympiahalle zu sehen. Unter dem Titel Am Puls der Zeit ermöglicht die Plastinatschau einen neuen Blick auf die Herausforderungen des Menschen im 21. Jahrhundert. Datum und Veranstaltungsort 20.05.2025 1000 until 1800 h Kleine Olympiahalle Tickets Holger BergKörperwelten More actions Share on Facebook Share via WhatsApp Copy link Gunther von Hagens Plastinate in einer neuen Ausstellung Zum dritten Mal schauen die Körperwelten in München vorbei diesmal mit einem hochaktuellen Thema Wie verletzlich ist der Mensch und welche Potenziale hat er? Plastinator Dr. Gunther von Hagens und Kuratorin Dr. Angelina Whalley regen die Besucherinnen dazu an, ihre Gesundheit bewusster wahrzunehmen und die Auswirkungen des modernen Lebensstils zu hinterfragen. Neben Aspekten wie Ernährung, Bewegung und Immunstärkung vermittelt die Ausstellung Ansätze für ein gesundes und langes Leben. Echte menschliche Exponate, darunter Ganzkörperplastinate, geben detaillierte Einblicke in Anatomie, Funktion und Zusammenspiel der Organe. Auch häufige Krankheiten und ihre Entstehung werden anschaulich erklärt. Mehr zu Veranstaltungen Dates Tue , 20. May 2025 1000 Kleine Olympiahalle Tickets Wed , 21. May 2025 1000 Kleine Olympiahalle Tickets Thu , 22. May 2025 1000 Kleine Olympiahalle Tickets Fri , 23. May 2025 1000 Kleine Olympiahalle Tickets Sat , 24. May 2025 1000 Kleine Olympiahalle Tickets Sun , 25. May 2025 1000 Kleine Olympiahalle Tickets Mon , 26. May 2025 1000 Kleine Olympiahalle Tickets Tue , 27. May 2025 1000 Kleine Olympiahalle Tickets Wed , 28. May 2025 1000 Kleine Olympiahalle Tickets Thu , 29. May 2025 1000 Kleine Olympiahalle Tickets Fri , 30. May 2025 1000 Kleine Olympiahalle Tickets Sat , 31. May 2025 1000 Kleine Olympiahalle Tickets Sun , 01. June 2025 1000 Kleine Olympiahalle Tickets Mon , 02. June 2025 1000 Kleine Olympiahalle Tickets Tue , 03. June 2025 1000 Kleine Olympiahalle Tickets Wed , 04. June 2025 1000 Kleine Olympiahalle Tickets Thu , 05. June 2025 1000 Kleine Olympiahalle Tickets Fri , 06. June 2025 1000 Kleine Olympiahalle Tickets Sat , 07. June 2025 1000 Kleine Olympiahalle Tickets Sun , 08. June 2025 1000 Kleine Olympiahalle Tickets Mon , 09. June 2025 1000 Kleine Olympiahalle Tickets Tue , 10. June 2025 1000 Kleine Olympiahalle Tickets Wed , 11. June 2025 1000 Kleine Olympiahalle Tickets Thu , 12. June 2025 1000 Kleine Olympiahalle Tickets Fri , 13. June 2025 1000 Kleine Olympiahalle Tickets Sat , 14. June 2025 1000 Kleine Olympiahalle Tickets Sun , 15. June 2025 1000 Kleine Olympiahalle Tickets Mon , 16. June 2025 1000 Kleine Olympiahalle Tickets Tue , 17. June 2025 1000 Kleine Olympiahalle Tickets Wed , 18. June 2025 1000 Kleine Olympiahalle Tickets Thu , 19. June 2025 1000 Kleine Olympiahalle Tickets Fri , 20. June 2025 1000 Kleine Olympiahalle Tickets Sat , 21. June 2025 1000 Kleine Olympiahalle Tickets Sun , 22. June 2025 1000 Kleine Olympiahalle Tickets Mon , 23. June 2025 1000 Kleine Olympiahalle Tickets Tue , 24. June 2025 1000 Kleine Olympiahalle Tickets Wed , 25. June 2025 1000 Kleine Olympiahalle Tickets Thu , 26. June 2025 1000 Kleine Olympiahalle Tickets Fri , 27. June 2025 1000 Kleine Olympiahalle Tickets Sat , 28. June 2025 1000 Kleine Olympiahalle Tickets Sun , 29. June 2025 1000 Kleine Olympiahalle Tickets Mon , 30. June 2025 1000 Kleine Olympiahalle Tickets Tue , 01. July 2025 1000 Kleine Olympiahalle Tickets Wed , 02. July 2025 1000 Kleine Olympiahalle Tickets Thu , 03. July 2025 1000 Kleine Olympiahalle Tickets Fri , 04. July 2025 1000 Kleine Olympiahalle Tickets Sat , 05. July 2025 1000 Kleine Olympiahalle Tickets Sun , 06. July 2025 1000 Kleine Olympiahalle Tickets Mon , 07. July 2025 1000 Kleine Olympiahalle Tickets Tue , 08. July 2025 1000 Kleine Olympiahalle Tickets Wed , 09. July 2025 1000 Kleine Olympiahalle Tickets Thu , 10. July 2025 1000 Kleine Olympiahalle Tickets Fri , 11. July 2025 1000 Kleine Olympiahalle Tickets Sat , 12. July 2025 1000 Kleine Olympiahalle Tickets Sun , 13. July 2025 1000 Kleine Olympiahalle Tickets Mon , 14. July 2025 1000 Kleine Olympiahalle Tickets Tue , 15. July 2025 1000 Kleine Olympiahalle Tickets Wed , 16. July 2025 1000 Kleine Olympiahalle Tickets Thu , 17. July 2025 1000 Kleine Olympiahalle Tickets Fri , 18. July 2025 1000 Kleine Olympiahalle Tickets Sun , 20. July 2025 1000 Kleine Olympiahalle Tickets Mon , 21. July 2025 1000 Kleine Olympiahalle Tickets Tue , 22. July 2025 1000 Kleine Olympiahalle Tickets Wed , 23. July 2025 1000 Kleine Olympiahalle Tickets Thu , 24. July 2025 1000 Kleine Olympiahalle Tickets Fri , 25. July 2025 1000 Kleine Olympiahalle Tickets Sat , 26. July 2025 1000 Kleine Olympiahalle Tickets Sun , 27. July 2025 1000 Kleine Olympiahalle Tickets Mon , 28. July 2025 1000 Kleine Olympiahalle Tickets Tue , 29. July 2025 1000 Kleine Olympiahalle Tickets Wed , 30. July 2025 1000 Kleine Olympiahalle Tickets Thu , 31. July 2025 1000 Kleine Olympiahalle Tickets Fri , 01. August 2025 1000 Kleine Olympiahalle Tickets Sat , 02. August 2025 1000 Kleine Olympiahalle Tickets Sun , 03. August 2025 1000 Kleine Olympiahalle Tickets Mon , 04. August 2025 1000 Kleine Olympiahalle Tickets Tue , 05. August 2025 1000 Kleine Olympiahalle Tickets Wed , 06. August 2025 1000 Kleine Olympiahalle Tickets Thu , 07. August 2025 1000 Kleine Olympiahalle Tickets Fri , 08. August 2025 1000 Kleine Olympiahalle Tickets Sat , 09. August 2025 1000 Kleine Olympiahalle Tickets Sun , 10. August 2025 1000 Kleine Olympiahalle Tickets Mon , 11. August 2025 1000 Kleine Olympiahalle Tickets Tue , 12. August 2025 1000 Kleine Olympiahalle Tickets Wed , 13. August 2025 1000 Kleine Olympiahalle Tickets Thu , 14. August 2025 1000 Kleine Olympiahalle Tickets Fri , 15. August 2025 1000 Kleine Olympiahalle Tickets Sat , 16. August 2025 1000 Kleine Olympiahalle Tickets Sun , 17. August 2025 1000 Kleine Olympiahalle Tickets Mon , 18. August 2025 1000 Kleine Olympiahalle Tickets Tue , 19. August 2025 1000 Kleine Olympiahalle Tickets Wed , 20. August 2025 1000 Kleine Olympiahalle Tickets Thu , 21. August 2025 1000 Kleine Olympiahalle Tickets Fri , 22. August 2025 1000 Kleine Olympiahalle Tickets Sat , 23. August 2025 1000 Kleine Olympiahalle Tickets Sun , 24. August 2025 1000 Kleine Olympiahalle Tickets Mon , 25. August 2025 1000 Kleine Olympiahalle Tickets Tue , 26. August 2025 1000 Kleine Olympiahalle Tickets Wed , 27. August 2025 1000 Kleine Olympiahalle Tickets Thu , 28. August 2025 1000 Kleine Olympiahalle Tickets\n"
     ]
    },
    {
     "name": "stderr",
     "output_type": "stream",
     "text": [
      " 65%|██████▍   | 11/17 [00:01<00:00, 11.13it/s]"
     ]
    },
    {
     "name": "stdout",
     "output_type": "stream",
     "text": [
      "https://www.muenchen.de/en/node/100464\n",
      "Ad Infopoint im Alten Hof stellt Jubiläumsausstellung des Garmischer Museums vor Ausstellung im Infopoint 100 Jahre Museum Werdenfels Lust auf einen Museumsausflug nach Oberbayern? Das Museum Werdenfels in GarmischPartenkirchen feiert sein 100jähriges Jubiläum mit einer Ausstellung, die Sammelleidenschaft und das immer wieder totgesagte Kulturhistorische Museum als spannenden Freiraum feiert. Der Infopoint Museen Schlösser in Bayern stellt bis zum 31. Mai 2025 diese Ausstellung und das Museum mit großen bunte Bildfahnen und einer Auswahl von außergewöhnlichen Objekten im Alten Hof München vor. Dort könnt ihr schon mal reinschnuppern! Datum und Veranstaltungsort 20.05.2025 1000 until 1800 h Infopoint Museen Schlösser in Bayern Museum Werdenfels More actions Share on Facebook Share via WhatsApp Copy link Die Jubiläumsausstellung im Museum Werdenfels Tausende Objekte und noch viel mehr Geschichte Kultur, Kunst und Tradition von 5000 v. Chr. bis heute Unter diesem Titel präsentiert das Museum Werdenfels anlässlich seines 100jährigen Jubiläums eine außergewöhnliche Ausstellung. Bis zum 9. November 2025 werden in GarmischPartenkirchen 200 kunsthistorische und alltägliche Dinge in den Mittelpunkt gestellt 100 Objekte, die der Mensch am Körper tragen kann und 100 Objekte, mit denen er Räume füllte und sich Welten erschuf. Dabei rücken nicht allein die Objekte selbst in den Fokus, sondern vor allem ihre Geschichte, ihre Bedeutung und ihre sinnliche Wirkung jenseits bloßer Erklärungen. Im Sonderausstellungsraum sind dazu historische Gewandstücke, Hüte, Schmuck, Gürtel, Schuhe in einer großen, raumfüllenden Installation eingerichtet. Zeitgenössische Künstler setzen mit ihren kreativen Interventionen spannende Akzente, verfremden Räume oder interpretieren einzelne Stücke neu. Das gesamte Museum wird dabei sowohl zum Wissensraum als auch zu einem Ort lebendiger Erfahrung für die Besucherinnen. Über das Museum in Garmisch Das Museum Werdenfels , eröffnet im Jahr 1925, blickt auf eine bewegte und abwechslungsreiche Geschichte zurück. Hervorgegangen ist es aus einer kleinen Muster und Altertümersammlung der Partenkirchner Fachschule für Holzschnitzerei, deren Ursprung bis ins Jahr 1895 zurückreicht und die ursprünglich etwa 300 Exponate umfasste. Im Laufe der Jahrzehnte wuchs die Sammlung stetig auf heute weit über 10.000 Objekte an. Dabei wurde das Museum mehrfach erweitert, wechselte seinen Standort und entwickelte sich zu einem zentralen Ort, an dem Tradition lebendig bewahrt wird und mit der Gegenwart in einen inspirierenden Dialog tritt. Natürlich können sich KunstInteressierte im Infopoint Museen Schlösser in Bayern im Alten Hof auch über weitere aktuelle Ausstellungen und Ausflugsideen informieren. Das Zentrum in der Nähe vom Marienplatz bietet Museumstipps und Empfehlungen zu den rund 1.300 Museen und Schlössern in Bayern. In cooperation with the cultural department and the museums This article about Munichs museums is sponsored by the Cultural Department of the City of Munich and was conceived in cooperation with the State Agency for NonState Museums in Bavaria. The content has been coordinated between the participating museums and , the official city portal. This might also interest you Dates Tue , 20. May 2025 1000 Infopoint Museen Schlösser in Bayern Wed , 21. May 2025 1000 Infopoint Museen Schlösser in Bayern Thu , 22. May 2025 1000 Infopoint Museen Schlösser in Bayern Fri , 23. May 2025 1000 Infopoint Museen Schlösser in Bayern Sat , 24. May 2025 1000 Infopoint Museen Schlösser in Bayern Mon , 26. May 2025 1000 Infopoint Museen Schlösser in Bayern Tue , 27. May 2025 1000 Infopoint Museen Schlösser in Bayern Wed , 28. May 2025 1000 Infopoint Museen Schlösser in Bayern Thu , 29. May 2025 1000 Infopoint Museen Schlösser in Bayern Fri , 30. May 2025 1000 Infopoint Museen Schlösser in Bayern Sat , 31. May 2025 1000 Infopoint Museen Schlösser in Bayern\n",
      "https://www.muenchen.de/en/node/96219\n",
      "Ad Zentralinstitut für Kunstgeschichte Ausstellung über die Poesie eines Archivs Die Unterlagen befinden sich im Zustand der Ablage Wie poetisch kann Verwaltung sein? Acht Künstlerinnen haben sich mit dem Archiv des Künstlerverbund im Haus der Kunst e.V. auseinandergesetzt. Vom 20. März bis 4. Juli 2025 sind ihre Arbeiten unter dem Titel Die Unterlagen befinden sich im Zustand der Ablage nun in einer Sonderausstellung im Zentralinstitut für Kunstgeschichte zu sehen. Datum und Veranstaltungsort 20.05.2025 1000 until 2000 h Zentralinstitut für Kunstgeschichte Raimund Ritz More actions Share on Facebook Share via WhatsApp Copy link Das ist im Zentralinstitut für Kunstgeschichte zu sehen Acht Künstlerinnen setzen sich mit der derzeitigen dornröschenhaften Situation des Magazins im Haus der Kunst auseinander und entwickeln vielfältige Arbeiten zum Thema. Die künstlerischen Positionen bewegen sich im Spannungsfeld zwischen Archivwesen und Kunst, Geschichte und Gegenwart, historischer Faktenlage und Interpretation. Ihre Arbeiten werden im Dialog mit erstmals öffentlich gezeigten, ausgewählten und kommentierten historischen Dokumenten und Artefakten aus dem Archiv in der Ausstellung im Zentralinstitut für Kunstgeschichte präsentiert. Die Ausstellung ist Teil des Programms der Reihe Public History München 1945 2025 Stunde Null? Wie wir wurden, was wir sind des Kulturreferats der Landeshauptstadt München. Teilnehmende Künstlerinnen Albert Coers, Petra Gerschner, Esther Glück, Andreas Huber, Christoph Nicolaus und Rasha Ragab, Günter Nosch, Stefanie Unruh Über den Künstlerverbund und das Archiv Der Künstlerverbund im Haus der Kunst e.V. ist Nachfolger der 1948 gegründeten Ausstellungsleitung München e.V., die von 1949 bis 2011 die Großen Münchner Kunstausstellungen und weit über 100 Sonderausstellungen im Haus der Kunst ausrichtete. Sie war maßgeblich an der Wiederaufnahme des Ausstellungsbetriebs in München nach Ende des Nationalsozialismus beteiligt. Die kunsthistorische Bedeutung des Archivs Das Archiv der Ausstellungsleitung enthält Quellen aus den Jahren 1948 bis heute. Darunter Korrespondenz, Protokolle, Ausstellerpapiere, Unterlagen zu An und Verkäufen von Kunstobjekten und zu Leihverkehr mit Privatsammlerinnen und sammlern und Museen Zeitungsausschnitte, Organisationsunterlagen zum Münchner Künstlerfasching Fotografien, Klischees und Reprovorlagen sowie Plakate und Kataloge zu den Ausstellungen im Haus der Kunst seit 1949 Das im Haus der Kunst aufbewahrte Archiv ist der Öffentlichkeit nicht zugänglich und wurde bisher noch nicht wissenschaftlich bearbeitet oder ausgewertet. Die Unterlagen bieten vielfältige Anknüpfungspunkte für kunsthistorische Forschungsfragen vom Ausstellungswesen der Nachkriegszeit über Kunstmarkt und Provenienzforschung bis zu Künstlervereinen. Öffentliche Führungen durch die Ausstellung Dienstag, 25. März 2025, 1100 Uhr Führung mit der Kunsthistorikerin Julia Reich und dem Kurator Raimund Ritz Dienstag, 13. Mai 2025, 1100 Uhr Führung mit der Künstlerin Petra Gerschner und dem Kunsthistoriker Christian Fuhrmeister Dienstag, 24. Juni 2025, 1100 Uhr Führung mit der Präsidentin des Künstlerverbund im Haus der Kunst München e.V. Regina HellwigSchmid und der Kunsthistorikerin Julia Reich Die Teilnahme ist kostenfrei. In cooperation with the cultural department and the museums This article about Munichs museums is sponsored by the Cultural Department of the City of Munich and was conceived in cooperation with the State Agency for NonState Museums in Bavaria. The content has been coordinated between the participating museums and , the official city portal. This might also interest you Dates Tue , 20. May 2025 1000 Zentralinstitut für Kunstgeschichte Wed , 21. May 2025 1000 Zentralinstitut für Kunstgeschichte Thu , 22. May 2025 1000 Zentralinstitut für Kunstgeschichte Fri , 23. May 2025 1000 Zentralinstitut für Kunstgeschichte Mon , 26. May 2025 1000 Zentralinstitut für Kunstgeschichte Tue , 27. May 2025 1000 Zentralinstitut für Kunstgeschichte Wed , 28. May 2025 1000 Zentralinstitut für Kunstgeschichte Fri , 30. May 2025 1000 Zentralinstitut für Kunstgeschichte Mon , 02. June 2025 1000 Zentralinstitut für Kunstgeschichte Tue , 03. June 2025 1000 Zentralinstitut für Kunstgeschichte Wed , 04. June 2025 1000 Zentralinstitut für Kunstgeschichte Thu , 05. June 2025 1000 Zentralinstitut für Kunstgeschichte Fri , 06. June 2025 1000 Zentralinstitut für Kunstgeschichte Tue , 10. June 2025 1000 Zentralinstitut für Kunstgeschichte Wed , 11. June 2025 1000 Zentralinstitut für Kunstgeschichte Thu , 12. June 2025 1000 Zentralinstitut für Kunstgeschichte Fri , 13. June 2025 1000 Zentralinstitut für Kunstgeschichte Mon , 16. June 2025 1000 Zentralinstitut für Kunstgeschichte Tue , 17. June 2025 1000 Zentralinstitut für Kunstgeschichte Wed , 18. June 2025 1000 Zentralinstitut für Kunstgeschichte Fri , 20. June 2025 1000 Zentralinstitut für Kunstgeschichte Mon , 23. June 2025 1000 Zentralinstitut für Kunstgeschichte Tue , 24. June 2025 1000 Zentralinstitut für Kunstgeschichte Wed , 25. June 2025 1000 Zentralinstitut für Kunstgeschichte Thu , 26. June 2025 1000 Zentralinstitut für Kunstgeschichte Fri , 27. June 2025 1000 Zentralinstitut für Kunstgeschichte Mon , 30. June 2025 1000 Zentralinstitut für Kunstgeschichte Tue , 01. July 2025 1000 Zentralinstitut für Kunstgeschichte Wed , 02. July 2025 1000 Zentralinstitut für Kunstgeschichte Thu , 03. July 2025 1000 Zentralinstitut für Kunstgeschichte Fri , 04. July 2025 1000 Zentralinstitut für Kunstgeschichte\n",
      "https://www.muenchen.de/en/node/93314\n",
      "Ad Ausstellung in der Kunsthalle München Civilization Wie wir heute leben Nie lebten mehr Menschen auf der Erde, nie war unser Einfluss auf den Planeten größer, nie waren wir enger vernetzt unsere Gesellschaft wandelt sich immer rasanter. Vom 11. April bis 24. August 2025 folgt die Ausstellung Civilization in der Kunsthalle München den sichtbaren Spuren der Menschheit rund um den Globus aus dem Blickwinkel von über 100 international renommierten Fotografinnen. Datum und Veranstaltungsort 20.05.2025 1000 until 2000 h Kunsthalle München Jeffrey Milstein More actions Share on Facebook Share via WhatsApp Copy link Foto oben Jeffrey Milstein, Newark 8 Terminal B, Newark, NJ , 2016, aus der Serie Flughäfen Darum geht es in der Ausstellung Civilization beleuchtet eine Vielzahl von Aspekten unseres ausgesprochen komplexen Zusammenlebens von den großen Errungenschaften der Menschheit bis hin zu unseren kollektiven Fehlschlägen. Sie nimmt dabei die Kulturen aller Kontinente in den Blick von der Art und Weise, wie wir produzieren und konsumieren, wie wir arbeiten und spielen, reisen und wohnen, denken und gestalten, miteinander kooperieren und in Konflikt geraten. In Zeiten, die davon geprägt sind, dass sich Menschen und Meinungen immer weiter voneinander entfernen und dringend notwendiger Konsens immer unmöglicher erscheint, legt diese Ausstellung das Augenmerk auf die Gemeinsamkeiten. Nie zuvor in der Geschichte der Menschheit waren so viele Menschen derart vielfältig miteinander vernetzt und gleichzeitig abhängig voneinander. Die Olympischen Spiele der Neuzeit, der RiesenJumbojet, das Smartphone und Social Media, künstliche Intelligenz ... So kontrovers, wie sie auch diskutiert werden, keines dieser Phänomene wäre ohne das bewahrte Wissen früherer Zeiten und die gemeinsamen Anstrengungen hochqualifizierter, hochausgebildeter und hochmotivierter Menschen möglich gewesen. Choon Man Jo Jo Choon Man, GOLIAT, 2013, aus der Serie INDUSTRY KOREA Das könnt ihr in der Ausstellung sehen Anhand von 230 Fotografien, führt der Ausstellungsparcours in acht Kapiteln auf eine faszinierende Reise durch zentrale Aspekte der Zivilisation Der erste Raum, metaphorisch BIENENSTOCK benannt, versammelt Fotografien, die das oftmals komplexe Zusammenleben der Menschen in den Megacitys der Welt dokumentieren. Dabei zeigen sie nicht nur die architektonischen Besonderheiten und landschaftlichen Gegebenheiten der Städte, sondern auch die vielfältigen Lebensstile der Menschen im urbanen Alltag. Das folgende Kapitel ZUSAMMEN ALLEIN erkundet unser Leben im Spannungsfeld zwischen Individualität und Kollektivität. Es beleuchtet, wie wir als Individuen das Bedürfnis nach Zugehörigkeit und Gemeinschaft verspüren und gleichzeitig versuchen, unsere eigene Identität zu wahren. KONTROLLIEREN beschäftigt sich mit den verschiedenen, für die Allgemeinheit oft nicht sichtbaren Kontexten, in denen Autorität und Macht ausgeübt werden. Die Bewegung von Menschen, Gütern, Finanzen und die dafür notwendigen, höchst perfektionierten Infrastrukturen, die unsere Zivilisation am Laufen halten, thematisiert das Kapitel FLIESSEN . Der folgende Raum BEEINFLUSSEN beleuchtet die verschiedenen Strategien, die zum Einsatz kommen, um Bedürfnisse zu wecken und Menschen in ihrem Verhalten zu manipulieren. BRECHEN nimmt Ursachen und Folgen von Konflikten und Migration sowie die Bruchstellen unserer gesellschaftlichen Strukturen in den Fokus. ENTFLIEHEN zeigt, wie die ausgefeilten Mechanismen der Urlaubs und Freizeitindustrie sowie von Massen es Menschen möglich machen, ihrem Alltag zu entfliehen und sich in Traumwelten zu flüchten. Das abschließende Kapitel ALS NÄCHSTES öffnet den Blick auf die Welt, die im Begriff ist, unsere Zukunft zu werden. Die immer drastischeren Eingriffe des Menschen in seine Umwelt und die mal erschreckenden, mal ermutigenden, aber immer faszinierenden Folgen werfen beispielsweise Fragen nach ethischer Verantwortung im Umgang mit neuen Technologien oder einer notwendigen Anpassungsfähigkeit im Angesicht von ökologischen Herausforderungen auf. Neben renommierten Künstlerinnen wie Candida Höfer, Edward Burtynsky und Thomas Struth sind auch jüngere Fotografinnen in der Mitte ihrer Laufbahn wie Pablo López Luz, ShengWen Lo oder Julia Chamberlain in der Ausstellung vertreten. In Kooperation mit dem Kulturreferat und den Museen Dieser Beitrag wird vom Kulturreferat der LHM gefördert. Dates Tue , 20. May 2025 1000 Kunsthalle München Wed , 21. May 2025 1000 Kunsthalle München Thu , 22. May 2025 1000 Kunsthalle München Fri , 23. May 2025 1000 Kunsthalle München Sat , 24. May 2025 1000 Kunsthalle München Sun , 25. May 2025 1000 Kunsthalle München Mon , 26. May 2025 1000 Kunsthalle München Tue , 27. May 2025 1000 Kunsthalle München Wed , 28. May 2025 1000 Kunsthalle München Thu , 29. May 2025 1000 Kunsthalle München Fri , 30. May 2025 1000 Kunsthalle München Sat , 31. May 2025 1000 Kunsthalle München Sun , 01. June 2025 1000 Kunsthalle München Mon , 02. June 2025 1000 Kunsthalle München Tue , 03. June 2025 1000 Kunsthalle München Wed , 04. June 2025 1000 Kunsthalle München Thu , 05. June 2025 1000 Kunsthalle München Fri , 06. June 2025 1000 Kunsthalle München Sat , 07. June 2025 1000 Kunsthalle München Sun , 08. June 2025 1000 Kunsthalle München Mon , 09. June 2025 1000 Kunsthalle München Tue , 10. June 2025 1000 Kunsthalle München Wed , 11. June 2025 1000 Kunsthalle München Thu , 12. June 2025 1000 Kunsthalle München Fri , 13. June 2025 1000 Kunsthalle München Sat , 14. June 2025 1000 Kunsthalle München Sun , 15. June 2025 1000 Kunsthalle München Mon , 16. June 2025 1000 Kunsthalle München Tue , 17. June 2025 1000 Kunsthalle München Wed , 18. June 2025 1000 Kunsthalle München Thu , 19. June 2025 1000 Kunsthalle München Fri , 20. June 2025 1000 Kunsthalle München Sat , 21. June 2025 1000 Kunsthalle München Sun , 22. June 2025 1000 Kunsthalle München Mon , 23. June 2025 1000 Kunsthalle München Tue , 24. June 2025 1000 Kunsthalle München Wed , 25. June 2025 1000 Kunsthalle München Thu , 26. June 2025 1000 Kunsthalle München Fri , 27. June 2025 1000 Kunsthalle München Sat , 28. June 2025 1000 Kunsthalle München Sun , 29. June 2025 1000 Kunsthalle München Mon , 30. June 2025 1000 Kunsthalle München Tue , 01. July 2025 1000 Kunsthalle München Wed , 02. July 2025 1000 Kunsthalle München Thu , 03. July 2025 1000 Kunsthalle München Fri , 04. July 2025 1000 Kunsthalle München Sat , 05. July 2025 1000 Kunsthalle München Sun , 06. July 2025 1000 Kunsthalle München Mon , 07. July 2025 1000 Kunsthalle München Tue , 08. July 2025 1000 Kunsthalle München Wed , 09. July 2025 1000 Kunsthalle München Thu , 10. July 2025 1000 Kunsthalle München Fri , 11. July 2025 1000 Kunsthalle München Sat , 12. July 2025 1000 Kunsthalle München Sun , 13. July 2025 1000 Kunsthalle München Mon , 14. July 2025 1000 Kunsthalle München Tue , 15. July 2025 1000 Kunsthalle München Wed , 16. July 2025 1000 Kunsthalle München Thu , 17. July 2025 1000 Kunsthalle München Fri , 18. July 2025 1000 Kunsthalle München Sat , 19. July 2025 1000 Kunsthalle München Sun , 20. July 2025 1000 Kunsthalle München Mon , 21. July 2025 1000 Kunsthalle München Tue , 22. July 2025 1000 Kunsthalle München Wed , 23. July 2025 1000 Kunsthalle München Thu , 24. July 2025 1000 Kunsthalle München Fri , 25. July 2025 1000 Kunsthalle München Sat , 26. July 2025 1000 Kunsthalle München Sun , 27. July 2025 1000 Kunsthalle München Mon , 28. July 2025 1000 Kunsthalle München Tue , 29. July 2025 1000 Kunsthalle München Wed , 30. July 2025 1000 Kunsthalle München Thu , 31. July 2025 1000 Kunsthalle München Fri , 01. August 2025 1000 Kunsthalle München Sat , 02. August 2025 1000 Kunsthalle München Sun , 03. August 2025 1000 Kunsthalle München Mon , 04. August 2025 1000 Kunsthalle München Tue , 05. August 2025 1000 Kunsthalle München Wed , 06. August 2025 1000 Kunsthalle München Thu , 07. August 2025 1000 Kunsthalle München Fri , 08. August 2025 1000 Kunsthalle München Sat , 09. August 2025 1000 Kunsthalle München Sun , 10. August 2025 1000 Kunsthalle München Mon , 11. August 2025 1000 Kunsthalle München Tue , 12. August 2025 1000 Kunsthalle München Wed , 13. August 2025 1000 Kunsthalle München Thu , 14. August 2025 1000 Kunsthalle München Fri , 15. August 2025 1000 Kunsthalle München Sat , 16. August 2025 1000 Kunsthalle München Sun , 17. August 2025 1000 Kunsthalle München Mon , 18. August 2025 1000 Kunsthalle München Tue , 19. August 2025 1000 Kunsthalle München Wed , 20. August 2025 1000 Kunsthalle München Thu , 21. August 2025 1000 Kunsthalle München Fri , 22. August 2025 1000 Kunsthalle München Sat , 23. August 2025 1000 Kunsthalle München Sun , 24. August 2025 1000 Kunsthalle München\n",
      "https://www.muenchen.de/en/node/67524\n"
     ]
    },
    {
     "name": "stderr",
     "output_type": "stream",
     "text": [
      " 88%|████████▊ | 15/17 [00:01<00:00, 11.74it/s]"
     ]
    },
    {
     "name": "stdout",
     "output_type": "stream",
     "text": [
      "Ad Ausstellung im Lenbachhaus Der Blaue Reiter Eine neue Sprache Das Lenbachhaus zeigt bis Winter 2025 2026 eine frische Präsentation der Werke des Blauen Reiter unter dem Titel Eine neue Sprache. Da zahlreiche Exponate in die Tate London verliehen sind, ist Platz für eine überraschende Auswahl an Gemälde, Grafiken, Hinterglasbilder, Fotografien und Skulpturen, darunter Neuerwerbungen und selten gezeigte Objekte. Mit ca. 250 Werken führt die Ausstellung von der bewegten Zeit um die Jahrhundertwende bis in die Mitte des 20. Jahrhunderts Datum und Veranstaltungsort 20.05.2025 1000 until 1800 h Lenbachhaus München Städtische Galerie im Lenbachhaus und Kunstbau MünchenRechtsnachfolge der Künstlerin More actions Share on Facebook Share via WhatsApp Copy link Neue Sicht auf den Blauen Reiter mit Werken von Klee, Kandinsky, Marc Zahlreiche Arbeiten waren lange nicht mehr zu sehen, wie die Werke Paul Klees und die dynamischen Abstraktionen Wassily Kandinsky aus dem Jahr 1914. Aktuelle Neuankäufe des Fördervereins des Lenbachhauses werden erstmals präsentiert, darunter Werke von Franz Marc, Maria FranckMarc sowie von dem im Nationalsozialismus verfolgten und ermordeten Künstler Moissey Kogan. Die Entwicklung einer neuen Sprache steht im Fokus der Ausstellung, die den Blick auch auf die unmittelbare Vorgeschichte des Blauen Reiter sowie auf seine Nachwirkungen lenkt So sind etwa die um die Jahrhundertwende in München tätige JugendstilKünstlerin Katharine Schäffner mit ihrem dynamischen und die Abstraktion antizipierenden Druckwerk und Gabriele Münters durchkomponierte Fotografien während ihrer Amerikareise für diese Geschichte ebenso prägend wie die Arbeiten von Adriaan Korteweg und Paul Klee, die in ihren Bildern die Ideen des Blauen Reiter weiterentwickeln. Bild oben Elisabeth Epstein, Selbstporträt, 1911, erworben 2019, Städtische Galerie im Lenbachhaus und Kunstbau München, im Andenken an Jerome Pustilnik, New York City, Rechtsnachfolge der Künstlerin Mehr Infos zum Lenbachhaus In cooperation with the cultural department and the museums This article about Munichs museums is sponsored by the Cultural Department of the City of Munich and was conceived in cooperation with the State Agency for NonState Museums in Bavaria. The content has been coordinated between the participating museums and , the official city portal. This might also interest you Dates Tue , 20. May 2025 1000 Lenbachhaus München Wed , 21. May 2025 1000 Lenbachhaus München Thu , 22. May 2025 1000 Lenbachhaus München Fri , 23. May 2025 1000 Lenbachhaus München Sat , 24. May 2025 1000 Lenbachhaus München Sun , 25. May 2025 1000 Lenbachhaus München Tue , 27. May 2025 1000 Lenbachhaus München Wed , 28. May 2025 1000 Lenbachhaus München Thu , 29. May 2025 1000 Lenbachhaus München Fri , 30. May 2025 1000 Lenbachhaus München Sat , 31. May 2025 1000 Lenbachhaus München Sun , 01. June 2025 1000 Lenbachhaus München Tue , 03. June 2025 1000 Lenbachhaus München Wed , 04. June 2025 1000 Lenbachhaus München Thu , 05. June 2025 1000 Lenbachhaus München Fri , 06. June 2025 1000 Lenbachhaus München Sat , 07. June 2025 1000 Lenbachhaus München Sun , 08. June 2025 1000 Lenbachhaus München Mon , 09. June 2025 1000 Lenbachhaus München Tue , 10. June 2025 1000 Lenbachhaus München Wed , 11. June 2025 1000 Lenbachhaus München Thu , 12. June 2025 1000 Lenbachhaus München Fri , 13. June 2025 1000 Lenbachhaus München Sat , 14. June 2025 1000 Lenbachhaus München Sun , 15. June 2025 1000 Lenbachhaus München Tue , 17. June 2025 1000 Lenbachhaus München Wed , 18. June 2025 1000 Lenbachhaus München Thu , 19. June 2025 1000 Lenbachhaus München Fri , 20. June 2025 1000 Lenbachhaus München Sat , 21. June 2025 1000 Lenbachhaus München Sun , 22. June 2025 1000 Lenbachhaus München Wed , 25. June 2025 1000 Lenbachhaus München Sat , 28. June 2025 1000 Lenbachhaus München Sun , 29. June 2025 1000 Lenbachhaus München\n",
      "https://www.muenchen.de/en/node/101130\n",
      "Ad Sonderausstellung im Zeughaus des Münchner Stadtmuseums What the City. Perspektiven unserer Stadt Das Münchner Stadtmuseum ist trotz Sanierung aktiv! Die Ausstellung What the City im ehemaligen Zeughaus am St.JakobsPlatz setzt sich mit Perspektiven auf die Stadt München, mit ihren historischen Entwicklungen und aktuellen Zukunftsentwürfen auseinander. Ab 15. Mai 2025 lädt das Münchner Stadtmuseum mit interaktiven Stationen, einer WebApp und einem begleitenden Veranstaltungsprogramm zum Entdecken und Mitmachen ein. Der Eintritt ist kostenlos und barrierefrei. Datum und Veranstaltungsort 20.05.2025 1100 until 1900 h Münchner Stadtmuseum Volker Derlath More actions Share on Facebook Share via WhatsApp Copy link Reflexionen über München in zehn Kapiteln What the City. Perspektiven unserer Stadt bringt aktuelle, stadtgeschichtliche Themen aus fast allen Sammlungen des Hauses in einer Ausstellung zusammen. In zehn Kapiteln reflektiert die Ausstellung verschiedene Aspekte und Wahrnehmungen der bayerischen Landeshauptstadt Ist München wirklich die Kunst und Kulturmetropole, als die es bekannt ist? Wie verhält es sich beispielsweise mit Zuschreibungen, München sei reich und traditionsbewusst? Wie lebenswert ist die Stadt für Menschen, die von Armut betroffen sind? Wie führt die queere Community den Kampf um Gleichberechtigung und wie prägen die antirassistischen Bewegungen die Identität der Stadtgesellschaft? Und wie steht es eigentlich um das Münchner Nachtleben? Dies sind nur einige der Fragen, denen die Ausstellung nachspürt. Es werden historische Verbindungslinien aufgegriffen sowie Perspektiven und Erfahrungen von Münchnerinnen vergegenwärtigt. Im Kapitel My City. Mein Ding für die Zukunft der Stadt werden Initiativen, Projekte und Akteurinnen vorgestellt, die sich für ihre Vision einer gemeinschaftlichen, friedlichen, nachhaltigen oder inspirierenden Stadtgesellschaft einsetzen. In cooperation with the cultural department and the museums This article about Munichs museums is sponsored by the Cultural Department of the City of Munich and was conceived in cooperation with the State Agency for NonState Museums in Bavaria. The content has been coordinated between the participating museums and , the official city portal. This might also interest you Dates Tue , 20. May 2025 1100 Münchner Stadtmuseum Wed , 21. May 2025 1100 Münchner Stadtmuseum Thu , 22. May 2025 1100 Münchner Stadtmuseum Fri , 23. May 2025 1100 Münchner Stadtmuseum Sat , 24. May 2025 1100 Münchner Stadtmuseum Sun , 25. May 2025 1100 Münchner Stadtmuseum Tue , 27. May 2025 1100 Münchner Stadtmuseum Wed , 28. May 2025 1100 Münchner Stadtmuseum Thu , 29. May 2025 1100 Münchner Stadtmuseum Fri , 30. May 2025 1100 Münchner Stadtmuseum Sat , 31. May 2025 1100 Münchner Stadtmuseum Sun , 01. June 2025 1100 Münchner Stadtmuseum Tue , 03. June 2025 1100 Münchner Stadtmuseum Wed , 04. June 2025 1100 Münchner Stadtmuseum Thu , 05. June 2025 1100 Münchner Stadtmuseum Fri , 06. June 2025 1100 Münchner Stadtmuseum Sat , 07. June 2025 1100 Münchner Stadtmuseum Sun , 08. June 2025 1100 Münchner Stadtmuseum Tue , 10. June 2025 1100 Münchner Stadtmuseum Wed , 11. June 2025 1100 Münchner Stadtmuseum Thu , 12. June 2025 1100 Münchner Stadtmuseum Fri , 13. June 2025 1100 Münchner Stadtmuseum Sat , 14. June 2025 1100 Münchner Stadtmuseum Sun , 15. June 2025 1100 Münchner Stadtmuseum Tue , 17. June 2025 1100 Münchner Stadtmuseum Wed , 18. June 2025 1100 Münchner Stadtmuseum Thu , 19. June 2025 1100 Münchner Stadtmuseum Fri , 20. June 2025 1100 Münchner Stadtmuseum Sat , 21. June 2025 1100 Münchner Stadtmuseum Sun , 22. June 2025 1100 Münchner Stadtmuseum Tue , 24. June 2025 1100 Münchner Stadtmuseum Wed , 25. June 2025 1100 Münchner Stadtmuseum Thu , 26. June 2025 1100 Münchner Stadtmuseum Fri , 27. June 2025 1100 Münchner Stadtmuseum Sat , 28. June 2025 1100 Münchner Stadtmuseum Sun , 29. June 2025 1100 Münchner Stadtmuseum Tue , 01. July 2025 1100 Münchner Stadtmuseum Wed , 02. July 2025 1100 Münchner Stadtmuseum Thu , 03. July 2025 1100 Münchner Stadtmuseum Fri , 04. July 2025 1100 Münchner Stadtmuseum Sat , 05. July 2025 1100 Münchner Stadtmuseum Sun , 06. July 2025 1100 Münchner Stadtmuseum Tue , 08. July 2025 1100 Münchner Stadtmuseum Wed , 09. July 2025 1100 Münchner Stadtmuseum Thu , 10. July 2025 1100 Münchner Stadtmuseum Fri , 11. July 2025 1100 Münchner Stadtmuseum Sat , 12. July 2025 1100 Münchner Stadtmuseum Sun , 13. July 2025 1100 Münchner Stadtmuseum Tue , 15. July 2025 1100 Münchner Stadtmuseum Wed , 16. July 2025 1100 Münchner Stadtmuseum Thu , 17. July 2025 1100 Münchner Stadtmuseum Fri , 18. July 2025 1100 Münchner Stadtmuseum Sat , 19. July 2025 1100 Münchner Stadtmuseum Sun , 20. July 2025 1100 Münchner Stadtmuseum Tue , 22. July 2025 1100 Münchner Stadtmuseum Wed , 23. July 2025 1100 Münchner Stadtmuseum Thu , 24. July 2025 1100 Münchner Stadtmuseum Fri , 25. July 2025 1100 Münchner Stadtmuseum Sat , 26. July 2025 1100 Münchner Stadtmuseum Sun , 27. July 2025 1100 Münchner Stadtmuseum Tue , 29. July 2025 1100 Münchner Stadtmuseum Wed , 30. July 2025 1100 Münchner Stadtmuseum Thu , 31. July 2025 1100 Münchner Stadtmuseum Fri , 01. August 2025 1100 Münchner Stadtmuseum Sat , 02. August 2025 1100 Münchner Stadtmuseum Sun , 03. August 2025 1100 Münchner Stadtmuseum Tue , 05. August 2025 1100 Münchner Stadtmuseum Wed , 06. August 2025 1100 Münchner Stadtmuseum Thu , 07. August 2025 1100 Münchner Stadtmuseum Fri , 08. August 2025 1100 Münchner Stadtmuseum Sat , 09. August 2025 1100 Münchner Stadtmuseum Sun , 10. August 2025 1100 Münchner Stadtmuseum Tue , 12. August 2025 1100 Münchner Stadtmuseum Wed , 13. August 2025 1100 Münchner Stadtmuseum Thu , 14. August 2025 1100 Münchner Stadtmuseum Fri , 15. August 2025 1100 Münchner Stadtmuseum Sat , 16. August 2025 1100 Münchner Stadtmuseum Sun , 17. August 2025 1100 Münchner Stadtmuseum Tue , 19. August 2025 1100 Münchner Stadtmuseum Wed , 20. August 2025 1100 Münchner Stadtmuseum Thu , 21. August 2025 1100 Münchner Stadtmuseum Fri , 22. August 2025 1100 Münchner Stadtmuseum Sat , 23. August 2025 1100 Münchner Stadtmuseum Sun , 24. August 2025 1100 Münchner Stadtmuseum Tue , 26. August 2025 1100 Münchner Stadtmuseum Wed , 27. August 2025 1100 Münchner Stadtmuseum Thu , 28. August 2025 1100 Münchner Stadtmuseum Fri , 29. August 2025 1100 Münchner Stadtmuseum Sat , 30. August 2025 1100 Münchner Stadtmuseum Sun , 31. August 2025 1100 Münchner Stadtmuseum Tue , 02. September 2025 1100 Münchner Stadtmuseum Wed , 03. September 2025 1100 Münchner Stadtmuseum Thu , 04. September 2025 1100 Münchner Stadtmuseum Fri , 05. September 2025 1100 Münchner Stadtmuseum Sat , 06. September 2025 1100 Münchner Stadtmuseum Sun , 07. September 2025 1100 Münchner Stadtmuseum Tue , 09. September 2025 1100 Münchner Stadtmuseum Wed , 10. September 2025 1100 Münchner Stadtmuseum Thu , 11. September 2025 1100 Münchner Stadtmuseum Fri , 12. September 2025 1100 Münchner Stadtmuseum\n",
      "https://www.muenchen.de/en/node/89285\n",
      "Ad Ausstellung im Museum Mineralogia mit Kunst von Peter Volk GeoArt Minerale, Landschaften, Bilder Taucht ein in die Welt der Geologie und Kunst! Die neue Sonderausstellung GeoArt Minerale, Landschaften, Bilder vereint bis zum 15. Juni 2025 auf eindrucksvolle Weise die Gemälde des Künstlers und Geologen Dr. Peter Volk mit den außergewöhnlichen Schätzen der Mineralogischen Staatssammlung München. Datum und Veranstaltungsort 20.05.2025 1200 until 1600 h Museum Mineralogia München Museum Mineralogia More actions Share on Facebook Share via WhatsApp Copy link Farbenprächtige Verbindung von Kunst und Wissenschaft Dr. Peter Volk, geboren 1955, ist promovierter Geologe und ein Experte in der digitalen Bildbearbeitung. Neben seiner wissenschaftlichen Expertise hat er eine weitere Leidenschaft die Malerei. Schon früh begann er, berufliche Reisen und geologische Studien mit seinem künstlerischen Schaffen zu verknüpfen. Das Ergebnis ist ein beeindruckendes Portfolio an Landschaftsgemälden, die oft die Erdgeschichte der dargestellten Regionen widerspiegeln. In der Ausstellung treffen die kunstvoll gemalten Landschaften von Peter Volk auf die Mineralien und Kristalle, die in denselben geologischen Formationen vorkommen. Diese einzigartige Kombination aus Malerei und Natur zeigt die faszinierende Verbindung zwischen der Schönheit der Erde und ihrer geologischen Struktur. Lasst euch von der Farbenpracht und den Details der Gemälde verzaubern, bestaunt die funkelnden Mineralien und entdeckt, wie eng Kunst und Wissenschaft miteinander verwoben sind. In cooperation with the cultural department and the museums This article about Munichs museums is sponsored by the Cultural Department of the City of Munich and was conceived in cooperation with the State Agency for NonState Museums in Bavaria. The content has been coordinated between the participating museums and , the official city portal. This might also interest you Dates Tue , 20. May 2025 1200 Museum Mineralogia München Wed , 21. May 2025 1200 Museum Mineralogia München Thu , 22. May 2025 1200 Museum Mineralogia München Fri , 23. May 2025 1200 Museum Mineralogia München Sat , 24. May 2025 1300 Museum Mineralogia München Sun , 25. May 2025 1300 Museum Mineralogia München Tue , 27. May 2025 1200 Museum Mineralogia München Wed , 28. May 2025 1200 Museum Mineralogia München Thu , 29. May 2025 1200 Museum Mineralogia München Fri , 30. May 2025 1200 Museum Mineralogia München Sat , 31. May 2025 1300 Museum Mineralogia München Sun , 01. June 2025 1300 Museum Mineralogia München Tue , 03. June 2025 1200 Museum Mineralogia München Wed , 04. June 2025 1200 Museum Mineralogia München Thu , 05. June 2025 1200 Museum Mineralogia München Fri , 06. June 2025 1200 Museum Mineralogia München Sat , 07. June 2025 1300 Museum Mineralogia München Sun , 08. June 2025 1300 Museum Mineralogia München Tue , 10. June 2025 1200 Museum Mineralogia München Wed , 11. June 2025 1200 Museum Mineralogia München Thu , 12. June 2025 1200 Museum Mineralogia München Fri , 13. June 2025 1200 Museum Mineralogia München Sat , 14. June 2025 1300 Museum Mineralogia München Sun , 15. June 2025 1300 Museum Mineralogia München\n",
      "https://www.muenchen.de/en/node/18705\n"
     ]
    },
    {
     "name": "stderr",
     "output_type": "stream",
     "text": [
      "100%|██████████| 17/17 [00:01<00:00, 10.42it/s]"
     ]
    },
    {
     "name": "stdout",
     "output_type": "stream",
     "text": [
      "Ad Kostenlose SchnupperTanzkurse Im Westpark und im Ostpark Tanzen im Park Kostenlos tanzen lernen auf der Wiese Ab 6. Mai 2025 laden das Kulturreferat und der Freizeitsport im Sommer bei schönem Wetter wieder zu Tanzen im Park. Erneut gibt es bis in den September hinein wöchentlich zwei Termine im Ostpark an Dienstagen und im Westpark an Freitagen. Datum und Veranstaltungsort 20.05.2025 1900 until 2000 h Ostpark Kulturreferat München More actions Share on Facebook Share via WhatsApp Copy link Spontan mitmachen Jede Woche gibt es neue Tänze zum Lernen Beim FeierabendTanz darf jeder spontan mitmachen Vorkenntnisse sind nicht erforderlich und auch keine Tanzpartnerin. Los gehts bei schönem Wetter im Ostpark um 19 Uhr und im Westpark um 1915 Uhr und die Kurse dauern rund eine Stunde. Wer Lust hat, wärmt sich vorher beim ebenfalls kostenlosen Angebot von Fit im Park auf. Eine Anmeldung ist nicht nötig und der Eintritt ist frei. Dienstags, ab 6. Mai, 19 bis 20 Uhr Ostpark auf der Gymnastikwiese am See. Bis 2. September 2025. . Freitags, ab 9. Mai, 1915 bis 2015 Uhr Westpark auf der Gymnastikwiese im westlichen Teil. Bis 5. September 2025. Die kurzen Tanzkurse werden in Zusammenarbeit mit Dozentinnen von Vereinen und Tanzstudios angeboten jede Woche gibt es einen kulturell und stilistisch neuen Tanz zum Ausprobieren Ob Bavarian Linedance, ukrainischer Tanz, Salsa oder nordamerikanisches Clogging . Bei schlechtem Wetter fallen die Tanzkurse aus. Jeweils um 17 Uhr wird auf der Website bekanntgegeben, wenn Tanzen im Park witterungsbedingt nicht stattfindet. Städtische Veranstaltung Tanzen im Park ist eine Veranstaltung des Kulturreferats der Landeshauptstadt München in Zusammenarbeit mit dem Freizeitsport des Sportamtes Das könnte euch auch interessieren Dates Tue , 20. May 2025 1900 Ostpark Fri , 23. May 2025 1915 Westpark Tue , 27. May 2025 1900 Ostpark Fri , 30. May 2025 1915 Westpark Tue , 03. June 2025 1900 Ostpark Fri , 06. June 2025 1915 Westpark Tue , 10. June 2025 1900 Ostpark Fri , 13. June 2025 1915 Westpark Tue , 17. June 2025 1900 Ostpark Fri , 20. June 2025 1915 Westpark Tue , 24. June 2025 1900 Ostpark Fri , 27. June 2025 1915 Westpark Tue , 01. July 2025 1900 Ostpark Fri , 04. July 2025 1915 Westpark Tue , 08. July 2025 1900 Ostpark Fri , 11. July 2025 1915 Westpark Tue , 15. July 2025 1900 Ostpark Fri , 18. July 2025 1915 Westpark Tue , 22. July 2025 1900 Ostpark Fri , 25. July 2025 1915 Westpark Tue , 29. July 2025 1900 Ostpark Fri , 01. August 2025 1915 Westpark Tue , 05. August 2025 1900 Ostpark Fri , 08. August 2025 1915 Westpark Tue , 12. August 2025 1900 Ostpark Fri , 15. August 2025 1915 Westpark Tue , 19. August 2025 1900 Ostpark Fri , 22. August 2025 1915 Westpark Tue , 26. August 2025 1900 Ostpark Fri , 29. August 2025 1915 Westpark Tue , 02. September 2025 1900 Ostpark Fri , 05. September 2025 1915 Westpark\n",
      "https://www.muenchen.de/en/node/92909\n",
      "Ad Digitale Ausstellung des Jüdischen Museums München München Displaced ONLINE Das Jüdische Museum München hat für seine Ausstellung München Displaced. Der Rest der Geretteten rund 60 Adressen der jüdischen Nachkriegsgeschichte recherchiert. Seitdem sind viele ehemalige Displaced Persons dem Aufruf des Museums gefolgt und haben ihre Erinnerungen ergänzt. In der OnlineAusstellung München Displaced Online. Jüdische Displaced Persons in München 19451951 macht das Jüdische Museum München seine Recherche nun erstmals auch digital zugänglich. Datum und Veranstaltungsort 21.05.2025 0000 until 2359 h Jüdisches Museum München Jüdisches Museum München Table of contents version More actions Share on Facebook Share via WhatsApp Copy link Jüdische Displaced Persons in München 19451951 In der unmittelbaren Nachkriegszeit wurde München zur Zwischenstation für zehntausende Displaced Persons Menschen, die infolge des Zweiten Weltkriegs aus ihren Heimatländern geflohen sind, deportiert oder vertrieben wurden. Darunter die Gruppe der jüdischen Displaced Persons, die sich selbst Der Rest der Geretteten nannten, hebräisch Scheerit Hapleta. 202324 haben das Jüdische Museum München und das Münchner Stadtmuseum in zwei parallelen Ausstellungen die Erfahrungen und Erzählungen von DPs unterschiedlichster Herkunft in einen lokalhistorischen Zusammenhang gebracht. Die OnlineAusstellung erkundet den Münchner Stadtraum der Nachkriegszeit aus der Perspektive der jüdischen DPs und erzählt von ihren Erfahrungen. Die OnlineAusstellung ist über die Website des Jüdischen Museums München aufrufbar. Die Orte sind darüber hinaus auch über die interaktive Karte der partizipativen OnlinePlattform Jewish Places zu finden. Zur OnlineAusstellung Jewish Displaced Persons in Munich 19451951 Jüdisches Museum München For its exhibition Munich Displaced. The Surviving Remnant, the Jewish Museum Munich carried out re on some 60 addresses of importance in postwar Jewish history. Since then, many former displaced persons have responded to the museums appeal and supplemented these with their own memories. In its online exhibition Munich Displaced Online. Jewish Displaced Persons in Munich 19451951, the Jewish Museum Munich is now making its re available digitally. The online exhibition explores Munichs urban space in the postwar period from the perspective of the Jewish DPs and tells of their experiences. In the immediate postwar period, Munich became a stopover point for tens of thousands of displaced personspeople who had fled, had been deported or driven out of their native countries in the course of World War II. Among these was the group of Jewish displaced persons who called themselves The surviving remnant, Sherit haPletah in Hebrew. In two parallel exhibitions held at the Jewish Museum Munich and the Münchner Stadtmuseum in 202324, the experiences and stories of DPs from a wide range of backgrounds were placed in a local historical context. The online exhibition is available on the website of the Jewish Museum Munich. The locations can also be found on the interactive map of the participatory online platform Jewish Places. To the online exhibition HinweisNote Dieser Beitrag über die Münchner Museen wird vom Kulturreferat der Landeshauptstadt München gefördert und ist in Kooperation mit der Landesstelle für die nichtstaatlichen Museen in Bayern konzipiert worden. Die Inhalte wurden zwischen den beteiligten Museen und , dem offiziellen Stadtportal, abgestimmt. This article about Munichs museums is sponsored by the Cultural Department of the City of Munich and was conceived in cooperation with the State Office for NonState Museums in Bavaria. The content was coordinated between the participating museums and , the official city portal. This might also interest you Dates Wed , 21. May 2025 0000 Jüdisches Museum München Thu , 22. May 2025 0000 Jüdisches Museum München Fri , 23. May 2025 0000 Jüdisches Museum München Sat , 24. May 2025 0000 Jüdisches Museum München Sun , 25. May 2025 0000 Jüdisches Museum München Mon , 26. May 2025 0000 Jüdisches Museum München Tue , 27. May 2025 0000 Jüdisches Museum München Wed , 28. May 2025 0000 Jüdisches Museum München Thu , 29. May 2025 0000 Jüdisches Museum München Fri , 30. May 2025 0000 Jüdisches Museum München Sat , 31. May 2025 0000 Jüdisches Museum München Wed , 31. December 2025 0000 Jüdisches Museum München\n"
     ]
    },
    {
     "name": "stderr",
     "output_type": "stream",
     "text": [
      "\n"
     ]
    }
   ],
   "source": [
    "import requests\n",
    "\n",
    "event_docs = []\n",
    "for url in tqdm(urls):\n",
    "    print(url)\n",
    "    r = requests.get(url)\n",
    "    soup = BeautifulSoup(r.content, 'html.parser')\n",
    "    # Find the main content container\n",
    "    main_content = soup.find('main', id='content')\n",
    "\n",
    "    if main_content:\n",
    "        # Extract text from the main content area\n",
    "        body_text = main_content.get_text(separator=' ', strip=True)\n",
    "        # Clean the extracted text\n",
    "        cleaned_text = clean_string(body_text)\n",
    "        event_docs.append(dict(text=cleaned_text, url=url))\n",
    "    else:\n",
    "         print(\"No content found for URL:\", url)"
   ]
  },
  {
   "cell_type": "code",
   "execution_count": 32,
   "id": "242b1e51",
   "metadata": {},
   "outputs": [
    {
     "data": {
      "text/plain": [
       "{'text': 'Ad Ausstellung in der Galerie Bezirk Oberbayern CarstenCaren Lewerentz und Susanne Winter Werden Vom 7. Mai bis 11. September 2025 ist die Ausstellung Werden in der Galerie Bezirk Oberbayern zu sehen. Die Arbeiten der Textilkünstlerin Susanne Winter und des Bildhauers CarstenCaren Lewerentz stehen für Wandel, Veränderung und Entfaltung und für die Frage nach Identität Wer bin ich? Und Was bin ich? Datum und Veranstaltungsort 20.05.2025 1000 until 1900 h Galerie Bezirk Oberbayern VGBildKunstBonn More actions Share on Facebook Share via WhatsApp Copy link CarstenCaren Lewerentz Skulpturen zwischen Identität und Leere CarstenCaren Lewerentz Skulpturen und Plastiken zeigen abgelegte Kleidung in Holz und Bronze. Sie sind Sinnbild für leere, verlassene menschliche Hüllen, denen Veränderung und Neues folgen kann und sie sind zugleich Zeugnisse persönlicher Entfaltung von Identität. Für Lewerentz bildet jedes Textil als zweite Haut des Menschen eine Verbindungslinie zwischen innerem und äußerem Sein. Aus der persönlichen Disharmonie zwischen Körper und innerem Wesen wurde für den Bildhauer das Kleidungsstück zu einem existentiellen Ausdruck seiner Kunst. Bild oben CarstenCaren Lewerentz, PRÄLUDIUM UND FUGE, 2009, Zirbelkiefer, 2010x39x36 cm Veranstaltungen zur Ausstellung 7. Mai 2025, 18 Uhr Vernissage 23. Mai 2025, 151730 Uhr KreativWorkshop Kunstbegegnungen 3. Juni 2025, 18301915 Uhr Führung in leicht verständlicher Sprache 27. Juni 2025, 181930 Uhr Tastführung zur Originalwerken der Ausstellung 23. Juli 2025, 1819 Uhr Museum SignerFührung Der Eintritt zur Ausstellung und den Veranstaltungen ist frei. Susanne Winter Materialbetonte Farblandschaften Stefan Rosenboom Susanne Winter Tintenschüttung, 2023, Tinte auf Aquarellpapier, 130x130 cm. Für ihre materialbetonten Farblandschaften arbeitet Susanne Winter mit Nähmaschine und Sticknadel auf Papier. Durch das Hin und Her der Fäden, durch Verdichtungen und Verknotungen entstehen Fadenzeichnungen mit farbigen Flächen und griffigen Formen. In ihren neuen Arbeiten experimentiert sie mit selbstgewonnenen Naturfarben aus Pflanzen, Wurzeln und Blättern und bringt diese durch Schütten auf Papier. Lenkung und Zufall wechseln sich beim Fluss der Farben ab. So zeigen sich Spuren von Wegen und Umwegen als Sinnbild für das Werden. Teil der Ausstellung ist ein großes, partizipatives Stickbild der Künstlerin, dessen Werden Besuchende mitgestalten können. In cooperation with the cultural department and the museums This article about Munichs museums is sponsored by the Cultural Department of the City of Munich and was conceived in cooperation with the State Agency for NonState Museums in Bavaria. The content has been coordinated between the participating museums and , the official city portal. This might also interest you Dates Tue , 20. May 2025 1000 Galerie Bezirk Oberbayern Wed , 21. May 2025 1000 Galerie Bezirk Oberbayern Thu , 22. May 2025 1000 Galerie Bezirk Oberbayern Fri , 23. May 2025 1000 Galerie Bezirk Oberbayern Mon , 26. May 2025 1000 Galerie Bezirk Oberbayern Tue , 27. May 2025 1000 Galerie Bezirk Oberbayern Wed , 28. May 2025 1000 Galerie Bezirk Oberbayern Fri , 30. May 2025 1000 Galerie Bezirk Oberbayern Mon , 02. June 2025 1000 Galerie Bezirk Oberbayern Tue , 03. June 2025 1000 Galerie Bezirk Oberbayern Wed , 04. June 2025 1000 Galerie Bezirk Oberbayern Thu , 05. June 2025 1000 Galerie Bezirk Oberbayern Fri , 06. June 2025 1000 Galerie Bezirk Oberbayern Tue , 10. June 2025 1000 Galerie Bezirk Oberbayern Wed , 11. June 2025 1000 Galerie Bezirk Oberbayern Thu , 12. June 2025 1000 Galerie Bezirk Oberbayern Fri , 13. June 2025 1000 Galerie Bezirk Oberbayern Mon , 16. June 2025 1000 Galerie Bezirk Oberbayern Tue , 17. June 2025 1000 Galerie Bezirk Oberbayern Wed , 18. June 2025 1000 Galerie Bezirk Oberbayern Fri , 20. June 2025 1000 Galerie Bezirk Oberbayern Mon , 23. June 2025 1000 Galerie Bezirk Oberbayern Tue , 24. June 2025 1000 Galerie Bezirk Oberbayern Wed , 25. June 2025 1000 Galerie Bezirk Oberbayern Thu , 26. June 2025 1000 Galerie Bezirk Oberbayern Fri , 27. June 2025 1000 Galerie Bezirk Oberbayern Mon , 30. June 2025 1000 Galerie Bezirk Oberbayern Tue , 01. July 2025 1000 Galerie Bezirk Oberbayern Wed , 02. July 2025 1000 Galerie Bezirk Oberbayern Thu , 03. July 2025 1000 Galerie Bezirk Oberbayern Fri , 04. July 2025 1000 Galerie Bezirk Oberbayern Mon , 07. July 2025 1000 Galerie Bezirk Oberbayern Tue , 08. July 2025 1000 Galerie Bezirk Oberbayern Wed , 09. July 2025 1000 Galerie Bezirk Oberbayern Thu , 10. July 2025 1000 Galerie Bezirk Oberbayern Fri , 11. July 2025 1000 Galerie Bezirk Oberbayern Mon , 14. July 2025 1000 Galerie Bezirk Oberbayern Tue , 15. July 2025 1000 Galerie Bezirk Oberbayern Wed , 16. July 2025 1000 Galerie Bezirk Oberbayern Thu , 17. July 2025 1000 Galerie Bezirk Oberbayern Fri , 18. July 2025 1000 Galerie Bezirk Oberbayern Mon , 21. July 2025 1000 Galerie Bezirk Oberbayern Tue , 22. July 2025 1000 Galerie Bezirk Oberbayern Wed , 23. July 2025 1000 Galerie Bezirk Oberbayern Thu , 24. July 2025 1000 Galerie Bezirk Oberbayern Fri , 25. July 2025 1000 Galerie Bezirk Oberbayern Mon , 28. July 2025 1000 Galerie Bezirk Oberbayern Tue , 29. July 2025 1000 Galerie Bezirk Oberbayern Wed , 30. July 2025 1000 Galerie Bezirk Oberbayern Thu , 31. July 2025 1000 Galerie Bezirk Oberbayern Fri , 01. August 2025 1000 Galerie Bezirk Oberbayern Mon , 04. August 2025 1000 Galerie Bezirk Oberbayern Tue , 05. August 2025 1000 Galerie Bezirk Oberbayern Wed , 06. August 2025 1000 Galerie Bezirk Oberbayern Thu , 07. August 2025 1000 Galerie Bezirk Oberbayern Fri , 08. August 2025 1000 Galerie Bezirk Oberbayern Mon , 11. August 2025 1000 Galerie Bezirk Oberbayern Tue , 12. August 2025 1000 Galerie Bezirk Oberbayern Wed , 13. August 2025 1000 Galerie Bezirk Oberbayern Thu , 14. August 2025 1000 Galerie Bezirk Oberbayern Mon , 18. August 2025 1000 Galerie Bezirk Oberbayern Tue , 19. August 2025 1000 Galerie Bezirk Oberbayern Wed , 20. August 2025 1000 Galerie Bezirk Oberbayern Thu , 21. August 2025 1000 Galerie Bezirk Oberbayern Fri , 22. August 2025 1000 Galerie Bezirk Oberbayern Mon , 25. August 2025 1000 Galerie Bezirk Oberbayern Tue , 26. August 2025 1000 Galerie Bezirk Oberbayern Wed , 27. August 2025 1000 Galerie Bezirk Oberbayern Thu , 28. August 2025 1000 Galerie Bezirk Oberbayern Fri , 29. August 2025 1000 Galerie Bezirk Oberbayern Mon , 01. September 2025 1000 Galerie Bezirk Oberbayern Tue , 02. September 2025 1000 Galerie Bezirk Oberbayern Wed , 03. September 2025 1000 Galerie Bezirk Oberbayern Thu , 04. September 2025 1000 Galerie Bezirk Oberbayern Fri , 05. September 2025 1000 Galerie Bezirk Oberbayern Mon , 08. September 2025 1000 Galerie Bezirk Oberbayern Tue , 09. September 2025 1000 Galerie Bezirk Oberbayern Wed , 10. September 2025 1000 Galerie Bezirk Oberbayern Thu , 11. September 2025 1000 Galerie Bezirk Oberbayern',\n",
       " 'url': 'https://www.muenchen.de/en/node/100789'}"
      ]
     },
     "execution_count": 32,
     "metadata": {},
     "output_type": "execute_result"
    }
   ],
   "source": [
    "event_docs[0]"
   ]
  },
  {
   "cell_type": "code",
   "execution_count": 35,
   "id": "26c18c1b",
   "metadata": {},
   "outputs": [
    {
     "name": "stderr",
     "output_type": "stream",
     "text": [
      "100%|██████████| 2/2 [00:03<00:00,  1.95s/it]\n"
     ]
    },
    {
     "data": {
      "text/plain": [
       "17"
      ]
     },
     "execution_count": 35,
     "metadata": {},
     "output_type": "execute_result"
    }
   ],
   "source": [
    "BATCH_SIZE = 16\n",
    "upload_texts_to_pinecone(\n",
    "    texts=[g['text'] for g in event_docs],\n",
    "    batch_size=BATCH_SIZE, show_progress_bar=True, \n",
    "    urls=[g['url'] for g in event_docs]\n",
    ")"
   ]
  },
  {
   "cell_type": "code",
   "execution_count": 38,
   "id": "24b22f9b",
   "metadata": {},
   "outputs": [
    {
     "data": {
      "text/plain": [
       "{'dimension': 1536,\n",
       " 'index_fullness': 0.0,\n",
       " 'metric': 'cosine',\n",
       " 'namespaces': {'default': {'vector_count': 60}},\n",
       " 'total_vector_count': 60,\n",
       " 'vector_type': 'dense'}"
      ]
     },
     "execution_count": 38,
     "metadata": {},
     "output_type": "execute_result"
    }
   ],
   "source": [
    "index.describe_index_stats()\n"
   ]
  },
  {
   "cell_type": "code",
   "execution_count": 45,
   "id": "4cbee354",
   "metadata": {},
   "outputs": [
    {
     "name": "stdout",
     "output_type": "stream",
     "text": [
      "https://www.muenchen.de/sehenswuerdigkeiten/museen/lenbachhaus-muenchen 0.624710858 hauptstadt München und der Stadtwerke München GmbH\n",
      "https://www.muenchen.de/sehenswuerdigkeiten/museen/lenbachhaus-muenchen 0.622111857 hauptstadt München und der Stadtwerke München GmbH\n",
      "https://www.muenchen.de/sehenswuerdigkeiten/museen/lenbachhaus-muenchen 0.57739526 Seite 1 Seite 2 Seite 3 Letzte Seite Nächste Seite\n",
      "https://www.muenchen.de/en/node/98241 0.568593383 nchen Sun , 29. June 2025 1000 Lenbachhaus München\n",
      "https://www.muenchen.de/sehenswuerdigkeiten/museen/infopoint-museen-schloesser-bayern 0.565174043 1000 1800 Uhr Infopoint Museen Schlösser in Bayern\n",
      "https://www.muenchen.de/sehenswuerdigkeiten/museen/archaeologische-staatssammlung 0.564525068 1000 1700 Sa 1000 1700 So 1000 1900 Nächster Slide\n",
      "https://www.muenchen.de/sehenswuerdigkeiten/haus-der-kunst 0.563041747 hauptstadt München und der Stadtwerke München GmbH\n",
      "https://www.muenchen.de/sehenswuerdigkeiten/haus-der-kunst 0.562632143 hauptstadt München und der Stadtwerke München GmbH\n",
      "https://www.muenchen.de/sehenswuerdigkeiten/museen/muenchner-stadtmuseum 0.560514748 hauptstadt München und der Stadtwerke München GmbH\n",
      "https://www.muenchen.de/sehenswuerdigkeiten/museen/infopoint-museen-schloesser-bayern 0.554914176 hauptstadt München und der Stadtwerke München GmbH\n"
     ]
    }
   ],
   "source": [
    "query = 'Ich will Lenbachhaus München besuchen'\n",
    "\n",
    "results = query_from_pinecone(query, top_k=10)\n",
    "for result in results:\n",
    "    print(result['metadata']['url'], result['score'], result['metadata']['text'][-50:])"
   ]
  },
  {
   "cell_type": "markdown",
   "id": "f9699e99",
   "metadata": {},
   "source": [
    "## Using Open Source Embedders"
   ]
  },
  {
   "cell_type": "code",
   "execution_count": 46,
   "id": "c03b0cf2",
   "metadata": {},
   "outputs": [
    {
     "data": {
      "text/plain": [
       "(3, 384)"
      ]
     },
     "execution_count": 46,
     "metadata": {},
     "output_type": "execute_result"
    }
   ],
   "source": [
    "from sentence_transformers import SentenceTransformer, util\n",
    "\n",
    "open_source_embedder = SentenceTransformer('all-MiniLM-L6-v2')\n",
    "\n",
    "open_source_embedder.encode(['hi', 'hello', 'sup']).shape"
   ]
  },
  {
   "cell_type": "code",
   "execution_count": 48,
   "id": "5c781969",
   "metadata": {},
   "outputs": [
    {
     "data": {
      "text/plain": [
       "SentenceTransformer(\n",
       "  (0): Transformer({'max_seq_length': 256, 'do_lower_case': False}) with Transformer model: BertModel \n",
       "  (1): Pooling({'word_embedding_dimension': 384, 'pooling_mode_cls_token': False, 'pooling_mode_mean_tokens': True, 'pooling_mode_max_tokens': False, 'pooling_mode_mean_sqrt_len_tokens': False, 'pooling_mode_weightedmean_tokens': False, 'pooling_mode_lasttoken': False, 'include_prompt': True})\n",
       "  (2): Normalize()\n",
       ")"
      ]
     },
     "execution_count": 48,
     "metadata": {},
     "output_type": "execute_result"
    }
   ],
   "source": [
    "open_source_embedder"
   ]
  },
  {
   "cell_type": "markdown",
   "id": "3d9752cd",
   "metadata": {},
   "source": [
    "### Synthetic test data generation"
   ]
  },
  {
   "cell_type": "code",
   "execution_count": 121,
   "id": "1fc9c2ef",
   "metadata": {},
   "outputs": [],
   "source": [
    "synthetic_data_prompt = '''I am designing a chatbot to use this document as information to our users.\n",
    "\n",
    "Please write 10 questions that an average person not living in Munich might ask that can definitely be answered using information using the provided document.\n",
    "\n",
    "Try to ask in a way that's confusing to really test our system's knowledge but still fair.\n",
    "\n",
    "I need 5 in german, 2 in english in that order.\n",
    "\n",
    "Use this format to output:\n",
    "Document: A given document to make questions from\n",
    "JSON: [\"german question 1\", \"german question 2\", \"german question 3\", ...  \"english question 1\", \"english question 2\"]\n",
    "###\n",
    "Document: {document}\n",
    "JSON:'''\n",
    "\n",
    "response = openai_client.chat.completions.create(\n",
    "    model='gpt-4o',\n",
    "    messages=[{\"role\": \"user\", \"content\": synthetic_data_prompt.format(document=event_docs[1]['text'])}],\n",
    "    temperature=1\n",
    ")"
   ]
  },
  {
   "cell_type": "code",
   "execution_count": 122,
   "id": "cb0bcd86",
   "metadata": {},
   "outputs": [],
   "source": [
    "languages = ['german']*5+['english']*2"
   ]
  },
  {
   "cell_type": "code",
   "execution_count": 123,
   "id": "63220019",
   "metadata": {},
   "outputs": [
    {
     "data": {
      "text/plain": [
       "[('german', 'Welche Museen in München sind besonders sehenswert?'),\n",
       " ('german', 'Gibt es Tipps für die LGBTIQ-Community in München?'),\n",
       " ('german',\n",
       "  'Welche besonderen U-Bahn-Stationen sollte man in München besuchen?'),\n",
       " ('german', 'Welche Konzerthallen sollte man in München kennen?'),\n",
       " ('german', 'Was sind die Öffnungszeiten des Tierpark Hellabrunn?'),\n",
       " ('english',\n",
       "  'What are some of the most notable landmarks to visit in Munich?'),\n",
       " ('english',\n",
       "  'How can tourists get information about public transportation in Munich?')]"
      ]
     },
     "execution_count": 123,
     "metadata": {},
     "output_type": "execute_result"
    }
   ],
   "source": [
    "import json\n",
    "\n",
    "list(zip(\n",
    "    languages,\n",
    "    json.loads('[' + response.choices[0].message.content.split('[')[-1].strip().split(']')[0].strip() + ']')\n",
    "))"
   ]
  },
  {
   "cell_type": "code",
   "execution_count": 124,
   "id": "ce79ea4e",
   "metadata": {},
   "outputs": [
    {
     "name": "stderr",
     "output_type": "stream",
     "text": [
      "100%|██████████| 2/2 [00:06<00:00,  3.37s/it]\n"
     ]
    }
   ],
   "source": [
    "synthetic_questions = []\n",
    "from random import sample\n",
    "\n",
    "# generate synthetic test data for a sample  of the urls found\n",
    "SAMPLE = .2\n",
    "for i, event_doc in enumerate(tqdm(sample(event_docs, int(len(event_docs) * SAMPLE)))):\n",
    "        \n",
    "    response = openai_client.chat.completions.create(\n",
    "        model='gpt-4o',\n",
    "        messages=[{\"role\": \"user\", \"content\": synthetic_data_prompt.format(document=event_doc['text'])}],\n",
    "        temperature=1\n",
    "    )\n",
    "    try:\n",
    "        questions = json.loads('[' + response.choices[0].message.content.split('[')[-1].strip().split(']')[0].strip() + ']')\n",
    "        questions = [q.strip() for q in questions]\n",
    "        assert len(questions) == len(languages)\n",
    "        for language, question in zip(languages, questions):\n",
    "            synthetic_questions.append(\n",
    "            dict(\n",
    "                language=language, \n",
    "                query=question, \n",
    "                expected_hash=my_hash(event_doc['text'])\n",
    "            )\n",
    "        )\n",
    "    except Exception as e:\n",
    "        print(f'Could not generate questions for index {i}: {e}')"
   ]
  },
  {
   "cell_type": "code",
   "execution_count": 125,
   "id": "1de2a10d",
   "metadata": {},
   "outputs": [
    {
     "data": {
      "text/plain": [
       "14"
      ]
     },
     "execution_count": 125,
     "metadata": {},
     "output_type": "execute_result"
    }
   ],
   "source": [
    "len(synthetic_questions)"
   ]
  },
  {
   "cell_type": "code",
   "execution_count": 126,
   "id": "b7892144",
   "metadata": {},
   "outputs": [
    {
     "name": "stdout",
     "output_type": "stream",
     "text": [
      "[german] Welche Adresse hat die Kunsthalle München?\n",
      "[german] Kann man in der Kunsthalle München eine Ausstellung länger als gewöhnlich besuchen, und wenn ja, wann?\n",
      "[german] Was ist das Besondere an der Architektur der Kunsthalle München?\n",
      "[german] Welche berühmten Künstler wurden in der Kunsthalle München schon ausgestellt?\n",
      "[german] Gibt es in der Kunsthalle München ermäßigte Eintrittspreise, und wenn ja, wann?\n",
      "[english] What is the recommended duration of a visit to the Kunsthalle München?\n",
      "[english] How can one reach the Kunsthalle München using public transportation?\n",
      "[german] Warum ist die Bayerische Staatsbibliothek für Forschende und Studierende von Bedeutung?\n",
      "[german] Welche besonderen Sammlungen beherbergt die Bayerische Staatsbibliothek?\n",
      "[german] Wie kann man die Bayerische Staatsbibliothek von der U-Bahn-Station Universität aus erreichen?\n",
      "[german] Welche Historie hat das Gebäude der Bayerischen Staatsbibliothek?\n",
      "[german] Wann ist die Bayerische Staatsbibliothek im Jahr 2025 geschlossen?\n",
      "[english] What makes the Bayerische Staatsbibliothek's collection unique?\n",
      "[english] How can visitors access digital collections from the Bayerische Staatsbibliothek?\n"
     ]
    }
   ],
   "source": [
    "for q in synthetic_questions:\n",
    "    print(f\"[{q['language']}] {q['query']}\")"
   ]
  },
  {
   "cell_type": "code",
   "execution_count": 127,
   "id": "6fe19665",
   "metadata": {},
   "outputs": [],
   "source": [
    "def test_query(query, expected_hash, language, top_k=5):\n",
    "        \n",
    "    results = query_from_pinecone(query, top_k=top_k)\n",
    "    top_result_correct = results[0]['id'] == expected_hash  # accuracy\n",
    "    result_in_pinecone_list = expected_hash in (r['id'] for r in results)  # Recall@top_k (10, etc)\n",
    "    return dict(\n",
    "        result_in_pinecone_list=result_in_pinecone_list, top_result_correct=top_result_correct,\n",
    "        language=language, expected_hash=expected_hash, top_hash=results[0]['id']\n",
    "    )"
   ]
  },
  {
   "cell_type": "code",
   "execution_count": 128,
   "id": "98bbbfac",
   "metadata": {},
   "outputs": [
    {
     "data": {
      "text/plain": [
       "{'result_in_pinecone_list': True,\n",
       " 'top_result_correct': False,\n",
       " 'language': 'german',\n",
       " 'expected_hash': '10d2d1855815617d864b41f6408cb86c',\n",
       " 'top_hash': '5e854f4638ce8ad012d67c38bb16ad4d'}"
      ]
     },
     "execution_count": 128,
     "metadata": {},
     "output_type": "execute_result"
    }
   ],
   "source": [
    "test_query(**synthetic_questions[0])"
   ]
  },
  {
   "cell_type": "code",
   "execution_count": 129,
   "id": "26a2fa08",
   "metadata": {},
   "outputs": [
    {
     "name": "stderr",
     "output_type": "stream",
     "text": [
      "100%|██████████| 14/14 [00:09<00:00,  1.52it/s]\n"
     ]
    }
   ],
   "source": [
    "synthetic_test_results = []\n",
    "for synthetic_question in tqdm(synthetic_questions):\n",
    "    synthetic_test_results.append(test_query(**synthetic_question))"
   ]
  },
  {
   "cell_type": "code",
   "execution_count": 130,
   "id": "14085602",
   "metadata": {},
   "outputs": [
    {
     "name": "stdout",
     "output_type": "stream",
     "text": [
      "result_in_pinecone_list    1.000000\n",
      "top_result_correct         0.857143\n",
      "dtype: float64\n"
     ]
    },
    {
     "data": {
      "image/png": "[encoded data removed]",
      "text/plain": [
       "<Figure size 1200x600 with 1 Axes>"
      ]
     },
     "metadata": {},
     "output_type": "display_data"
    }
   ],
   "source": [
    "import pandas as pd\n",
    "results_df = pd.DataFrame(synthetic_test_results)\n",
    "\n",
    "print(results_df[['result_in_pinecone_list', 'top_result_correct']].mean())\n",
    "\n",
    "import matplotlib.pyplot as plt\n",
    "\n",
    "# Assuming you've already created results_df\n",
    "grouped_data = results_df.groupby('language')[['result_in_pinecone_list', 'top_result_correct']].mean()\n",
    "\n",
    "# Set the style and color palette\n",
    "plt.style.use('fivethirtyeight')\n",
    "# sns.set_palette(\"deep\")\n",
    "\n",
    "# Create the figure and axis\n",
    "fig, ax = plt.subplots(figsize=(12, 6))\n",
    "\n",
    "# Plot the data\n",
    "grouped_data.plot(kind='bar', ax=ax)\n",
    "\n",
    "# Customize the plot\n",
    "ax.set_title('Performance Metrics by Language (OpenAI only)', fontsize=16, pad=20)\n",
    "ax.set_xlabel('Language', fontsize=12)\n",
    "ax.set_ylabel('Mean Score', fontsize=12)\n",
    "ax.tick_params(axis='x', rotation=45)\n",
    "\n",
    "# Add value labels on top of each bar\n",
    "for i in ax.containers:\n",
    "    ax.bar_label(i, fmt='%.2f', padding=3)\n",
    "\n",
    "# Add a legend\n",
    "ax.legend(['Result in Pinecone List', 'Top Result Correct'], title='Metrics', loc='upper left', bbox_to_anchor=(1, 1))\n",
    "\n",
    "# Adjust layout and display the plot\n",
    "plt.tight_layout()\n",
    "plt.show()"
   ]
  },
  {
   "cell_type": "markdown",
   "id": "f0b7808d",
   "metadata": {},
   "source": [
    "### Making Retrieval Better with Cohere's Re-Rank"
   ]
  },
  {
   "cell_type": "code",
   "execution_count": 131,
   "id": "0e5c41f2",
   "metadata": {},
   "outputs": [],
   "source": [
    "import cohere\n",
    "\n",
    "load_dotenv()\n",
    "\n",
    "co = cohere.Client(os.environ.get('COHERE_API_KEY'))"
   ]
  }
 ],
 "metadata": {
  "kernelspec": {
   "display_name": ".venv",
   "language": "python",
   "name": "python3"
  },
  "language_info": {
   "codemirror_mode": {
    "name": "ipython",
    "version": 3
   },
   "file_extension": ".py",
   "mimetype": "text/x-python",
   "name": "python",
   "nbconvert_exporter": "python",
   "pygments_lexer": "ipython3",
   "version": "3.13.3"
  }
 },
 "nbformat": 4,
 "nbformat_minor": 5
}
