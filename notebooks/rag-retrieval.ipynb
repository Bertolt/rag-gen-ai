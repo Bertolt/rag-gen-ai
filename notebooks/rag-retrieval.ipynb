{
 "cells": [
  {
   "cell_type": "markdown",
   "id": "a9dd78fb",
   "metadata": {},
   "source": [
    "# Put the R in RAG"
   ]
  },
  {
   "cell_type": "code",
   "execution_count": 92,
   "id": "2d1bd524",
   "metadata": {},
   "outputs": [
    {
     "name": "stdout",
     "output_type": "stream",
     "text": [
      "Name: pinecone\n",
      "Version: 6.0.2\n",
      "Summary: Pinecone client and SDK\n",
      "Home-page: https://www.pinecone.io\n",
      "Author: Pinecone Systems, Inc.\n",
      "Author-email: support@pinecone.io\n",
      "License: Apache-2.0\n",
      "Location: c:\\Users\\kadda\\github_repos\\rag-gen-ai\\.venv\\Lib\\site-packages\n",
      "Requires: certifi, pinecone-plugin-interface, python-dateutil, typing-extensions, urllib3\n",
      "Required-by: \n"
     ]
    }
   ],
   "source": [
    "# Debug pinecone installation\n",
    "!pip show pinecone"
   ]
  },
  {
   "cell_type": "code",
   "execution_count": 93,
   "id": "1531095a",
   "metadata": {},
   "outputs": [],
   "source": [
    "from openai import OpenAI\n",
    "from pinecone import Pinecone, ServerlessSpec\n",
    "from bs4 import BeautifulSoup\n",
    "\n",
    "import hashlib\n",
    "import os\n",
    "from dotenv import load_dotenv\n",
    "\n",
    "from datetime import datetime\n",
    "\n",
    "from tqdm import tqdm"
   ]
  },
  {
   "cell_type": "code",
   "execution_count": 94,
   "id": "d3ba2f27",
   "metadata": {},
   "outputs": [
    {
     "name": "stdout",
     "output_type": "stream",
     "text": [
      "API key loaded: pcs...\n"
     ]
    }
   ],
   "source": [
    "load_dotenv()\n",
    "# Retrieve the Pinecone API key from user data\n",
    "pinecone_api_key = os.environ.get(\"PINECONE_API_KEY\")\n",
    "\n",
    "print(f\"API key loaded: {pinecone_api_key[:3]}...\" if pinecone_api_key else \"No API key found\")\n",
    "\n",
    "# Initialize the OpenAI client\n",
    "openai_client = OpenAI(\n",
    "    api_key=os.environ.get(\"OPENAI_API_KEY\")\n",
    ")\n",
    "\n",
    "# Define constants [vector size, embedding engine] small: 1536 medium: 4096 large: 12288\n",
    "ENGINE = 'text-embedding-3-small'\n",
    "\n",
    "# Initialize Pinecone client\n",
    "pc = Pinecone(\n",
    "    pinecone_api_key=pinecone_api_key\n",
    ")"
   ]
  },
  {
   "cell_type": "code",
   "execution_count": 95,
   "id": "9e073d60",
   "metadata": {},
   "outputs": [
    {
     "data": {
      "text/plain": [
       "(1536, 2)"
      ]
     },
     "execution_count": 95,
     "metadata": {},
     "output_type": "execute_result"
    }
   ],
   "source": [
    "INDEX_NAME = 'semantic-search-rag-index' # name of the collection of documents\n",
    "NAMESPACE = 'default' # split the documents into namespaces. default is 'default'\n",
    "\n",
    "def get_embeddings(text, engine=ENGINE):\n",
    "    \"\"\"\n",
    "    Get the embeddings for a given text using OpenAI's API.\n",
    "    \"\"\"\n",
    "    response = openai_client.embeddings.create(\n",
    "            input=text,\n",
    "            model=engine\n",
    "        )\n",
    "    return [data.embedding for data in list(response.data)]\n",
    "\n",
    "def get_embedding(text, engine=ENGINE):\n",
    "    \"\"\"\n",
    "    Get the embedding for a given text using OpenAI's API.\n",
    "    Use the get_embeddings function to get the embedding for a single text\n",
    "    \"\"\"\n",
    "    return get_embeddings(text, engine)[0]\n",
    "\n",
    "len(get_embedding(\"Hello world!\")), len(get_embeddings([\"Hello world!\", \"Servus Welt\"]))\n"
   ]
  },
  {
   "cell_type": "code",
   "execution_count": 96,
   "id": "1799c7c3",
   "metadata": {},
   "outputs": [
    {
     "data": {
      "text/plain": [
       "<pinecone.data.index.Index at 0x25a24cf6d50>"
      ]
     },
     "execution_count": 96,
     "metadata": {},
     "output_type": "execute_result"
    }
   ],
   "source": [
    "if INDEX_NAME not in pc.list_indexes().names():\n",
    "    # Create the index if it doesn't exist\n",
    "    pc.create_index(\n",
    "        name=INDEX_NAME, # name of the index\n",
    "        dimension=1536, # dimension of the embedding for OpenAI's text-embedding-3-small\n",
    "        metric='cosine', # metric for similarity search\n",
    "        spec=ServerlessSpec(\n",
    "            cloud='aws',\n",
    "            region='us-east-1',\n",
    "        )\n",
    "    )\n",
    "\n",
    "# Store the index as variable\n",
    "index = pc.Index(INDEX_NAME)\n",
    "index"
   ]
  },
  {
   "cell_type": "code",
   "execution_count": 97,
   "id": "2985baa8",
   "metadata": {},
   "outputs": [
    {
     "data": {
      "text/plain": [
       "{'dimension': 1536,\n",
       " 'index_fullness': 0.0,\n",
       " 'metric': 'cosine',\n",
       " 'namespaces': {'default': {'vector_count': 43}},\n",
       " 'total_vector_count': 43,\n",
       " 'vector_type': 'dense'}"
      ]
     },
     "execution_count": 97,
     "metadata": {},
     "output_type": "execute_result"
    }
   ],
   "source": [
    "index.describe_index_stats()"
   ]
  },
  {
   "cell_type": "code",
   "execution_count": 98,
   "id": "a4c743f8",
   "metadata": {},
   "outputs": [
    {
     "data": {
      "text/plain": [
       "'ae76cc4dfd345ecaeea9b8ba0d5c3437'"
      ]
     },
     "execution_count": 98,
     "metadata": {},
     "output_type": "execute_result"
    }
   ],
   "source": [
    "def my_hash(s):\n",
    "    # Return the MD5 hash of the input string as a hexadecimal string\n",
    "    # depending the vectorDB, We need to know how to upload the data to Pinecone and read\n",
    "    # Compressed version of the text\n",
    "    return hashlib.md5(s.encode()).hexdigest()\n",
    "\n",
    "my_hash('I love to hash it')"
   ]
  },
  {
   "cell_type": "code",
   "execution_count": 99,
   "id": "ecec6f44",
   "metadata": {},
   "outputs": [],
   "source": [
    "def prepare_data_for_pinecone(texts, engine=ENGINE, urls=None):\n",
    "    \"\"\"\n",
    "    Prepare the data for Pinecone by creating a list of tuples with the ID, embedding, and metadata.\n",
    "    \"\"\"\n",
    "\n",
    "    now = datetime.now()\n",
    "\n",
    "    # Generate vector embeddings for each string in the input list, using the specified engine\n",
    "    embeddings = get_embeddings(texts, engine)\n",
    "\n",
    "    # Create tuples of (hash, embedding, metadata) for each input string and its corresponding vector embedding\n",
    "    # The my_hash() function is used to generate a unique hash for each string, and the datetime.utcnow() \n",
    "    # function is used to generate the current UTC date and time\n",
    "    responses = [\n",
    "        (\n",
    "            my_hash(text),  # A unique ID for each string, generated using the my_hash() function\n",
    "            embedding,  # The vector embedding of the string\n",
    "            dict(text=text, date_uploaded=now.isoformat())  # A dictionary of metadata, including the original text and the current UTC date and time\n",
    "        )\n",
    "        for text, embedding in zip(texts, embeddings)  # Iterate over each input string and its corresponding vector embedding\n",
    "    ]\n",
    "\n",
    "    if urls and len(urls) == len(texts):\n",
    "        for response, url in zip(responses, urls):\n",
    "            response[-1]['url'] = url\n",
    "\n",
    "    return responses\n",
    "    "
   ]
  },
  {
   "cell_type": "code",
   "execution_count": 100,
   "id": "1d550031",
   "metadata": {},
   "outputs": [],
   "source": [
    "texts = ['hi']"
   ]
  },
  {
   "cell_type": "code",
   "execution_count": 101,
   "id": "880e8680",
   "metadata": {},
   "outputs": [
    {
     "name": "stdout",
     "output_type": "stream",
     "text": [
      "ID:   49f68a5c8493ec2c0bf489821c21fc3b \n",
      "LEN:  1536 \n",
      "META: {'text': 'hi', 'date_uploaded': '2025-05-19T16:45:45.207929'}\n"
     ]
    }
   ],
   "source": [
    "_id, embedding, metadata = prepare_data_for_pinecone(texts)[0]\n",
    "\n",
    "print('ID:  ',_id, '\\nLEN: ', len(embedding), '\\nMETA:', metadata)"
   ]
  },
  {
   "cell_type": "code",
   "execution_count": 102,
   "id": "58177b36",
   "metadata": {},
   "outputs": [
    {
     "name": "stdout",
     "output_type": "stream",
     "text": [
      "ID:   49f68a5c8493ec2c0bf489821c21fc3b \n",
      "LEN:  1536 \n",
      "META: {'text': 'hi', 'date_uploaded': '2025-05-19T16:45:45.933336', 'url': 'fake.url'}\n"
     ]
    }
   ],
   "source": [
    "urls = ['fake.url']\n",
    "_id, embedding, metadata = prepare_data_for_pinecone(texts, urls=urls)[0]\n",
    "\n",
    "print('ID:  ',_id, '\\nLEN: ', len(embedding), '\\nMETA:', metadata)"
   ]
  },
  {
   "cell_type": "code",
   "execution_count": 103,
   "id": "d605d908",
   "metadata": {},
   "outputs": [],
   "source": [
    "def upload_texts_to_pinecone(texts, namespace=NAMESPACE, batch_size=None, show_progress_bar=False, urls=None):\n",
    "    # Call the prepare_data_for_pinecone function to prepare the input texts for indexing\n",
    "    total_upserted = 0\n",
    "    if not batch_size:\n",
    "        batch_size = len(texts)\n",
    "\n",
    "    _range = range(0, len(texts), batch_size)\n",
    "    for i in tqdm(_range) if show_progress_bar else _range:\n",
    "        text_batch = texts[i: i + batch_size]\n",
    "        if urls:\n",
    "            url_batch = urls[i: i + batch_size]\n",
    "            prepared_texts = prepare_data_for_pinecone(text_batch, urls=url_batch)\n",
    "        else:\n",
    "            prepared_texts = prepare_data_for_pinecone(text_batch)\n",
    "\n",
    "\n",
    "        # Use the upsert() method of the index object to upload the prepared texts to Pinecone\n",
    "        total_upserted += index.upsert(\n",
    "            vectors=prepared_texts,\n",
    "            namespace=namespace\n",
    "        )['upserted_count']\n",
    "\n",
    "\n",
    "    return total_upserted"
   ]
  },
  {
   "cell_type": "code",
   "execution_count": 104,
   "id": "c2bcd159",
   "metadata": {},
   "outputs": [
    {
     "data": {
      "text/plain": [
       "{'dimension': 1536,\n",
       " 'index_fullness': 0.0,\n",
       " 'metric': 'cosine',\n",
       " 'namespaces': {'default': {'vector_count': 44}},\n",
       " 'total_vector_count': 44,\n",
       " 'vector_type': 'dense'}"
      ]
     },
     "execution_count": 104,
     "metadata": {},
     "output_type": "execute_result"
    }
   ],
   "source": [
    "# Call the upload_texts_to_pinecone() function with the input texts\n",
    "upload_texts_to_pinecone(texts)\n",
    "\n",
    "index.describe_index_stats()"
   ]
  },
  {
   "cell_type": "code",
   "execution_count": 105,
   "id": "79e4179b",
   "metadata": {},
   "outputs": [],
   "source": [
    "def query_from_pinecone(query, top_k=3, include_metadata=True):\n",
    "    # get embedding from THE SAME embedder as the documents\n",
    "    query_embedding = get_embedding(query, engine=ENGINE)\n",
    "\n",
    "    return index.query(\n",
    "      vector=query_embedding,\n",
    "      top_k=top_k,\n",
    "      namespace=NAMESPACE,\n",
    "      include_metadata=include_metadata   # gets the metadata (dates, text, etc)\n",
    "    ).get('matches')"
   ]
  },
  {
   "cell_type": "code",
   "execution_count": 106,
   "id": "432d8b65",
   "metadata": {},
   "outputs": [
    {
     "data": {
      "text/plain": [
       "[{'id': '49f68a5c8493ec2c0bf489821c21fc3b',\n",
       "  'metadata': {'date_uploaded': '2025-05-19T16:45:46.217473', 'text': 'hi'},\n",
       "  'score': 0.808450818,\n",
       "  'values': []},\n",
       " {'id': '5e854f4638ce8ad012d67c38bb16ad4d',\n",
       "  'metadata': {'date_uploaded': '2025-05-16T15:21:42.222583',\n",
       "               'text': 'Suche Close Suchbegriff eingeben Suche Menü Close '\n",
       "                       'Navigation Sprache Rathaus Zum Rathaus Politik und '\n",
       "                       'Beteiligung Stadtverwaltung Presse und Medien Karriere '\n",
       "                       'bei der Stadt Finanzen und Vergabe München im Portrait '\n",
       "                       'Projekte und Initiativen Veranstaltungen Freizeit '\n",
       "                       'Sehenswertes Verkehr Jobs Leben Bürgerservice Zu den '\n",
       "                       'Services Wohnen und Meldewesen Verkehr und Mobilität '\n",
       "                       'Ausland und Migration Gesundheit und Soziales Familie '\n",
       "                       'und Kind Schule und Bildung Wirtschaft und Gewerbe '\n",
       "                       'Branchen und Berufe Engagement und Freizeit Aktuelle '\n",
       "                       'SpracheDeutsch Français Italiano Español Русский '\n",
       "                       'العربية 中文 Sehenswürdigkeiten Museen Kunsthalle München '\n",
       "                       'Kunsthalle München Ein vielfältiges Kunstprogramm im '\n",
       "                       'Herzen der Stadt Kunsthalle München Ausstellungen aus '\n",
       "                       'Malerei, Fotografie und Design Drei bis vier '\n",
       "                       'Ausstellungen zeigt die international renommierte '\n",
       "                       'Kunsthalle in den Münchner Fünf Höfen jedes Jahr. Dabei '\n",
       "                       'werden alle Facetten der Kunst beleuchtet. Adresse und '\n",
       "                       'Öffnungszeiten Theatinerstr. 8 , 80333 München '\n",
       "                       'Öffnungszeiten Fr geöffnet 1000 2000 Mo 1000 2000 Di '\n",
       "                       '1000 2000 Mi 1000 2000 Do 1000 2000 Fr 1000 2000 Sa '\n",
       "                       '1000 2000 So 1000 2000 Hinweis An jedem dritten '\n",
       "                       'Mittwoch des Monats ist die Ausstellung zur Afterwork '\n",
       "                       'bis 22 Uhr geöffnet. Sonderöffnung für Schulklassen '\n",
       "                       'jeden Mittwoch von 910 Uhr Anfahrt Kunsthalle München '\n",
       "                       'Weitere Aktionen Teilen auf Facebook Teilen via '\n",
       "                       'WhatsApp Kopieren Jeffrey Milstein Schaut euch '\n",
       "                       'Civilization an Von 11.04.24.8.25 folgt die Kunsthalle '\n",
       "                       'München den Spuren der Menschheit rund um den Globus '\n",
       "                       'aus dem Blickwinkel von über 100 international '\n",
       "                       'renommierten Fotografinnen. Erfahrt mehr Wissenswertes '\n",
       "                       'über einen Besuch in der Kunsthalle Das Programm der '\n",
       "                       'Kunsthalle München umfasst verschiedenste Epochen und '\n",
       "                       'Kunststile Von Malerei über Design und Mode bis zur '\n",
       "                       'Fotografie war hier schon Vieles zu sehen. Das Spektrum '\n",
       "                       'reicht von Pompeji bis Peter Lindbergh.Was ist geboten? '\n",
       "                       'Die Kunsthalle München hat keine eigene Sammlung, '\n",
       "                       'sondern veranstaltet Wechselausstellungen. Die '\n",
       "                       'inhaltlichen Möglichkeiten sind somit unbegrenzt. Das '\n",
       "                       'Themenspektrum reicht von der Kunst der Antike bis zur '\n",
       "                       'Gegenwart.Was ist besonders? Sowohl die Architektur des '\n",
       "                       'Gebäudes in den Fünf Höfen von Herzog de Meuron, als '\n",
       "                       'auch die oft aufwendig inszenierten Kunstausstellungen. '\n",
       "                       'Und Dienstags gibts 50 Prozent Rabatt auf alle '\n",
       "                       'Eintrittspreise. Auf einen Blick Die wichtigsten Infos '\n",
       "                       'zur Kunsthalle München Lage In den Fünf Höfen, zwischen '\n",
       "                       'Odeonsplatz und Marienplatz MuseumsKategorie Kunst '\n",
       "                       'Kinderprogramm Zu jeder Ausstellung gibts ein '\n",
       "                       'umfangreiches Führungsprogramm und Specials für Kinder '\n",
       "                       'und Jugendliche. Empfohlene Aufenthaltsdauer 1 bis 2 '\n",
       "                       'Stunden Anfahrt Alle SBahnen bzw. U3U6 bis Marienplatz, '\n",
       "                       'U3U4U5U6 oder Bus 100 bis Odeonsplatz, Tram 19 bis '\n",
       "                       'Theatinerstraße Parken Tiefgarage vor der Oper oder in '\n",
       "                       'der Parkgarage am Salvatorplatz Einige bisherige '\n",
       "                       'AusstellungsHighlights Zwischen 250.000 bis 300.000 '\n",
       "                       'Gäste besuchen die Kunsthalle München jährlich. Sie ist '\n",
       "                       'eines der beliebtesten Ausstellungshäuser in ganz '\n",
       "                       'Deutschland. Kunst und Kulturen der ganzen Welt finden '\n",
       "                       'hier ihren glanzvollen Auftritt, ob Malerei, Skulptur, '\n",
       "                       'Grafik, Fotografie, Kunsthandwerk oder Design. Als '\n",
       "                       'wichtigstes Kriterium für die Auswahl der '\n",
       "                       'Ausstellungsthemen gilt die künstlerische Qualität. Zu '\n",
       "                       'den Highlights zählten u.a. bereits Thierry Mugler , '\n",
       "                       'Samurai , Velázquez und Spaniens Goldene Zeit , Keith '\n",
       "                       'Haring und DixBeckmann sowie die Ausstellung JR '\n",
       "                       'Chronicles , die bisher größte Retrospektive des '\n",
       "                       'französischen FotoKünstlers JR. Zuletzt war die '\n",
       "                       'Ausstellung ViktorRolf. Fashion Statements zu sehen die '\n",
       "                       'erste große Retrospektive des niederländischen '\n",
       "                       'Designerduos in Deutschland. Previous slide View image '\n",
       "                       'in modal View image in modal View image in modal View '\n",
       "                       'image in modal View image in modal View image in modal '\n",
       "                       'View image in modal View image in modal View image in '\n",
       "                       'modal View image in modal View image in modal View '\n",
       "                       'image in modal Next slide Führungsprogramm durch die '\n",
       "                       'Ausstellungen Die Kunsthalle München bietet zu jeder '\n",
       "                       'Ausstellung ein breites Führungsangebot Öffentliche '\n",
       "                       'Führungen Die Münchner Volkshochschule bietet zu jeder '\n",
       "                       'Ausstellung öffentliche Führungen an Immer am Montag, '\n",
       "                       'Mittwoch, Donnerstag und Freitag. AudioFührungen Eine '\n",
       "                       'AudioTour in deutscher oder englischer Sprache führt '\n",
       "                       'euch anhand ausgewählter Exponate durch die '\n",
       "                       'Ausstellung. AfterworkFührungen Jeden dritten Mittwoch '\n",
       "                       'im Monat finden ab ca. 18 Uhr AfterworkFührungen statt. '\n",
       "                       'Die Ausstellung ist bis 22 Uhr geöffnet. '\n",
       "                       'Kuratorinnenführungen Die Kuratorinnen führen an '\n",
       "                       'mehreren Terminen selbst durch die aktuelle '\n",
       "                       'Ausstellung. Private Führungen Die Kunsthalle München '\n",
       "                       'vermittelt auch für private Gruppen '\n",
       "                       'Kunsthistorikerinnen oder Expertinnen aus verschiedenen '\n",
       "                       'Fachbereichen für Touren auf Deutsch oder in '\n",
       "                       'ausgewählten Fremdsprachen. Eine Anmeldung vorab ist '\n",
       "                       'erforderlich. Kinderprogramm und Begleitheft Robert '\n",
       "                       'Haas, Kunsthalle München Die jungen Besucherinnen '\n",
       "                       'werden in der Kunsthalle München spielerisch durch die '\n",
       "                       'aktuelle Ausstellung geführt Für Kinder von 8 bis 12 '\n",
       "                       'Jahren gibt es an der Kasse ein kostenloses Heft, das '\n",
       "                       'spielerisch durch die Ausstellung führt. Zudem gibt es '\n",
       "                       'ein regelmäßiges Führungsprogramm. Angeboten werden '\n",
       "                       'Kinderführungen in den Ferien für Kinder im Alter von 6 '\n",
       "                       'bis 12 Jahren . Kunst mit Baby Eine Stunde raus aus dem '\n",
       "                       'Alltagstrott und rein ins Museum. Babygerechte '\n",
       "                       'Führungen für Vätern und Mütter mit Kindern bis ein '\n",
       "                       'Jahr Sonderöffnungszeiten für Schulklassen Für '\n",
       "                       'Schulgruppen gibt es nach Anmeldung zusätzliche Termine '\n",
       "                       'mittwochs von 9 bis 10 Uhr. Museumsshop und Café Das '\n",
       "                       'CaféRestaurant Theatiner 8 bietet einen tollen Ausblick '\n",
       "                       'auf die Hängenden Gärten und die besondere Architektur '\n",
       "                       'des Gebäudes. Im Shop der Kunsthalle München findet man '\n",
       "                       'passend zur jeweiligen Ausstellung ein eigens '\n",
       "                       'zusammengestelltes Sortiment an Produkten. '\n",
       "                       'Eintrittspreise der Kunsthalle München Die '\n",
       "                       'Eintrittspreise der Kunsthalle München richten sich '\n",
       "                       'immer nach der jeweiligen Ausstellung. Ermäßigungen '\n",
       "                       'gibt es für Seniorinnen, Kinder und Jugendliche, '\n",
       "                       'Schülerinnen, Studierende, Auszubildende sowie '\n",
       "                       'Arbeitslose und Menschen mit Behinderung.Am Dienstag '\n",
       "                       'reduzieren sich alle Eintrittspreise um die Hälfte . '\n",
       "                       'Veranstaltungen und ClubMusik, Afterwork Co Michael '\n",
       "                       'Naumann Tiefenpixel Ausstellungsansicht Thierry Mugler '\n",
       "                       'Couturissime, Kunsthalle München Zu jeder Ausstellung '\n",
       "                       'gibt es ein umfangreiches Begleitprogramm Vorträge '\n",
       "                       'Talks mit interessanten Referentinnen beleuchten '\n",
       "                       'verschiedene Aspekte rund um das Thema der Ausstellung. '\n",
       "                       'AfterworkKH Jeden dritten Mittwoch im Monat die '\n",
       "                       'Ausstellung bis 22 Uhr besuchen und den Abend '\n",
       "                       'anschließend im CaféRestaurant Theatiner8 ausklingen '\n",
       "                       'lassen. ReAct! Kunst Club Einmal pro Ausstellung tun '\n",
       "                       'sich zudem die Kunsthalle München und der Club Harry '\n",
       "                       'Klein zusammen, um Kunst neu erlebbar zu machen. Die '\n",
       "                       'Ausstellung ist bis 23 Uhr geöffnet, Visual Artists und '\n",
       "                       'DJs sorgen auf der Tanzfläche im Café der Kunsthalle '\n",
       "                       'für den passenden Sound bis Mitternacht. Danach wird im '\n",
       "                       'Harry Klein bis spät in die Nacht weitergefeiert. '\n",
       "                       'OnlineAngebot Unter www.kunsthallemuc.de sind unter '\n",
       "                       'anderem die Ausstellungen Thierry Mugler Couturissime, '\n",
       "                       'Mit Leib und Seele. Münchner Rokoko und Du bist Faust. '\n",
       "                       'Goethes Drama in der Kunst als 360Rundgang virtuell '\n",
       "                       'erlebbar. Architektur Herzog de Meurons Museumsgebäude '\n",
       "                       'in den Fünf Höfen Kunsthalle München Auch die '\n",
       "                       'Architektur des Museumsgebäudes ist außergewöhnlich und '\n",
       "                       'preisgekrönt Die Kunsthalle München befindet sich im '\n",
       "                       'zweiten Obergeschoss der Fünf Höfe. Für die Architektur '\n",
       "                       'der Kunsthalle München wie auch für die gesamten Fünf '\n",
       "                       'Höfe sind die Schweizer Architekten Herzog de Meuron '\n",
       "                       'verantwortlich. Die Blickwinkel, etwa auf den Perusahof '\n",
       "                       'oder die Salvatorpassage, sind schon beim Gang zur '\n",
       "                       'Kunsthalle ungewohnt. Auch vom Café oder Shop aus hat '\n",
       "                       'man eine interessante Perspektive auf die '\n",
       "                       'außergewöhnliche Architektur der Fünf Höfe. Ihr '\n",
       "                       'Ensemble mitten in der Münchner Altstadt ist ein '\n",
       "                       'preisgekröntes Beispiel für die neuere Architektur in '\n",
       "                       'München. Barrierefreiheit und Angebote für Menschen mit '\n",
       "                       'Behinderung Sämtliche Räumlichkeiten der Kunsthalle '\n",
       "                       'München sind barrierefrei zugänglich. Zwei Aufzüge '\n",
       "                       'gewährleisten den Zugang zu den Ausstellungräumen, dem '\n",
       "                       'Shop, dem Café sowie der Garderobe und den Toiletten. '\n",
       "                       'BehindertenParkplätze in der Nähe sind vorhanden In der '\n",
       "                       'Prannerstraße 7 sowie am Salvatorplatz 2. Ein '\n",
       "                       'behindertengerechtes WC befindet sich direkt auf der '\n",
       "                       'Ausstellungsebene. Führungen Induktionsschleifen für '\n",
       "                       'Hörgeräte für den Audioguide sind auf Anfrage '\n",
       "                       'erhältlich. Alle Ausstellungstexte und Beschriftungen '\n",
       "                       'sind kontrastreich, gut lesbar und werden auch in '\n",
       "                       'einfacher Sprache angeboten. MuseumsGeschichte '\n",
       "                       'Eröffnung im Jahr 1985 Kunsthalle München Seit 2001 '\n",
       "                       'befindet sich die Kunsthalle München in ihren jetzigen '\n",
       "                       'Räume in den Fünf Höfen Die HypoKulturstiftung wurde im '\n",
       "                       'Jahr 1983 anlässlich des 150jährigen Firmenjubiläums '\n",
       "                       'der damaligen Wechsel und Hypothekenbank gegründet. Am '\n",
       "                       '14.6.1985 öffnete dann die Kunsthalle München ihre '\n",
       "                       'Pforten, die sich auch damals schon zwischen Marien und '\n",
       "                       'Odeonsplatz befand. Im Jahr 2001 wurden dann die '\n",
       "                       'jetzigen Räume in den Fünf Höfen bezogen, deren '\n",
       "                       'Ausstellungsfläche ungefähr ein Drittel größer ist als '\n",
       "                       'in der bisherigen Kunsthalle. In Kooperation mit dem '\n",
       "                       'Kulturreferat und den Museen Dieser Beitrag über die '\n",
       "                       'Münchner Museen wird vom Kulturreferat der '\n",
       "                       'Landeshauptstadt München gefördert und ist in '\n",
       "                       'Kooperation mit der Landesstelle für die '\n",
       "                       'nichtstaatlichen Museen in Bayern konzipiert worden. '\n",
       "                       'Die Inhalte wurden zwischen den beteiligten Museen und '\n",
       "                       ', dem offiziellen Stadtportal, abgestimmt. Das könnte '\n",
       "                       'euch auch interessieren Münchens Top Sehenswürdigkeiten '\n",
       "                       'Die Highlights von Marienplatz bis Frauenkirche So wird '\n",
       "                       'das Wetter Sonne oder Regen? Die Wetterprognose Webcams '\n",
       "                       'mit LiveBildern in München Was am Marienplatz, im '\n",
       "                       'Olympiapark und an der Isar zu sehen ist Auf einen '\n",
       "                       'Blick Kunsthalle München Theatinerstr. 8 80333 München '\n",
       "                       'Tel 4989224412 kontaktkunsthallemuc.de Korrektur '\n",
       "                       'vorschlagen Öffnungszeiten This is a carousel with '\n",
       "                       'rotating cards. Use the previous and next buttons to '\n",
       "                       'navigate, and Enter to activate cards. Vorheriger Slide '\n",
       "                       'Mo 1000 2000 Di 1000 2000 Mi 1000 2000 Do 1000 2000 Fr '\n",
       "                       '1000 2000 Sa 1000 2000 So 1000 2000 Nächster Slide 1 30 '\n",
       "                       'von 101 Veranstaltungen 16 Mai bis 24 Aug Civilization '\n",
       "                       'Wie wir heute leben Fr. 16.05.2025 1000 2000 Uhr '\n",
       "                       'Kunsthalle München 16 Mai bis 24 Aug Civilization Wie '\n",
       "                       'wir heute leben Sa. 17.05.2025 1000 2000 Uhr Kunsthalle '\n",
       "                       'München 16 Mai bis 24 Aug Civilization Wie wir heute '\n",
       "                       'leben So. 18.05.2025 1000 2000 Uhr Kunsthalle München '\n",
       "                       '16 Mai bis 24 Aug Civilization Wie wir heute leben Mo. '\n",
       "                       '19.05.2025 1000 2000 Uhr Kunsthalle München 16 Mai bis '\n",
       "                       '24 Aug Civilization Wie wir heute leben Di. 20.05.2025 '\n",
       "                       '1000 2000 Uhr Kunsthalle München 16 Mai bis 24 Aug '\n",
       "                       'Civilization Wie wir heute leben Mi. 21.05.2025 1000 '\n",
       "                       '2000 Uhr Kunsthalle München 16 Mai bis 24 Aug '\n",
       "                       'Civilization Wie wir heute leben Do. 22.05.2025 1000 '\n",
       "                       '2000 Uhr Kunsthalle München 16 Mai bis 24 Aug '\n",
       "                       'Civilization Wie wir heute leben Fr. 23.05.2025 1000 '\n",
       "                       '2000 Uhr Kunsthalle München 16 Mai bis 24 Aug '\n",
       "                       'Civilization Wie wir heute leben Sa. 24.05.2025 1000 '\n",
       "                       '2000 Uhr Kunsthalle München 16 Mai bis 24 Aug '\n",
       "                       'Civilization Wie wir heute leben So. 25.05.2025 1000 '\n",
       "                       '2000 Uhr Kunsthalle München 16 Mai bis 24 Aug '\n",
       "                       'Civilization Wie wir heute leben Mo. 26.05.2025 1000 '\n",
       "                       '2000 Uhr Kunsthalle München 16 Mai bis 24 Aug '\n",
       "                       'Civilization Wie wir heute leben Di. 27.05.2025 1000 '\n",
       "                       '2000 Uhr Kunsthalle München 16 Mai bis 24 Aug '\n",
       "                       'Civilization Wie wir heute leben Mi. 28.05.2025 1000 '\n",
       "                       '2000 Uhr Kunsthalle München 16 Mai bis 24 Aug '\n",
       "                       'Civilization Wie wir heute leben Do. 29.05.2025 1000 '\n",
       "                       '2000 Uhr Kunsthalle München 16 Mai bis 24 Aug '\n",
       "                       'Civilization Wie wir heute leben Fr. 30.05.2025 1000 '\n",
       "                       '2000 Uhr Kunsthalle München 16 Mai bis 24 Aug '\n",
       "                       'Civilization Wie wir heute leben Sa. 31.05.2025 1000 '\n",
       "                       '2000 Uhr Kunsthalle München 16 Mai bis 24 Aug '\n",
       "                       'Civilization Wie wir heute leben So. 01.06.2025 1000 '\n",
       "                       '2000 Uhr Kunsthalle München 16 Mai bis 24 Aug '\n",
       "                       'Civilization Wie wir heute leben Mo. 02.06.2025 1000 '\n",
       "                       '2000 Uhr Kunsthalle München 16 Mai bis 24 Aug '\n",
       "                       'Civilization Wie wir heute leben Di. 03.06.2025 1000 '\n",
       "                       '2000 Uhr Kunsthalle München 16 Mai bis 24 Aug '\n",
       "                       'Civilization Wie wir heute leben Mi. 04.06.2025 1000 '\n",
       "                       '2000 Uhr Kunsthalle München 16 Mai bis 24 Aug '\n",
       "                       'Civilization Wie wir heute leben Do. 05.06.2025 1000 '\n",
       "                       '2000 Uhr Kunsthalle München 16 Mai bis 24 Aug '\n",
       "                       'Civilization Wie wir heute leben Fr. 06.06.2025 1000 '\n",
       "                       '2000 Uhr Kunsthalle München 16 Mai bis 24 Aug '\n",
       "                       'Civilization Wie wir heute leben Sa. 07.06.2025 1000 '\n",
       "                       '2000 Uhr Kunsthalle München 16 Mai bis 24 Aug '\n",
       "                       'Civilization Wie wir heute leben So. 08.06.2025 1000 '\n",
       "                       '2000 Uhr Kunsthalle München 16 Mai bis 24 Aug '\n",
       "                       'Civilization Wie wir heute leben Mo. 09.06.2025 1000 '\n",
       "                       '2000 Uhr Kunsthalle München 16 Mai bis 24 Aug '\n",
       "                       'Civilization Wie wir heute leben Di. 10.06.2025 1000 '\n",
       "                       '2000 Uhr Kunsthalle München 16 Mai bis 24 Aug '\n",
       "                       'Civilization Wie wir heute leben Mi. 11.06.2025 1000 '\n",
       "                       '2000 Uhr Kunsthalle München 16 Mai bis 24 Aug '\n",
       "                       'Civilization Wie wir heute leben Do. 12.06.2025 1000 '\n",
       "                       '2000 Uhr Kunsthalle München 16 Mai bis 24 Aug '\n",
       "                       'Civilization Wie wir heute leben Fr. 13.06.2025 1000 '\n",
       "                       '2000 Uhr Kunsthalle München 16 Mai bis 24 Aug '\n",
       "                       'Civilization Wie wir heute leben Sa. 14.06.2025 1000 '\n",
       "                       '2000 Uhr Kunsthalle München Seitennummerierung Erste '\n",
       "                       'Seite 1 Seite 2 Seite 3 Seite 4 Letzte Seite Nächste '\n",
       "                       'Seite Fliegender Brief als Newsletter! Mit aktuellen '\n",
       "                       'Highlights, Tipps und Infos. EMail Adresse '\n",
       "                       'Rechtsgrundlage für die Verarbeitung Eurer EMail '\n",
       "                       'Adresse ist Art. 6 Abs. 1 a DSGVO in Verbindung mit '\n",
       "                       'Eurer Einwilligung. Ihr könnte Eure Einwilligung '\n",
       "                       'jederzeit mit Wirkung für die Zukunft widerrufen, am '\n",
       "                       'Einfachsten durch Anklicken des Abmeldelinks am Ende '\n",
       "                       'des entsprechenden EMailNewsletters. Alle weiteren '\n",
       "                       'Informationen zum Schutz Eurer personenbezogenen Daten '\n",
       "                       'findet Ihr in der Datenschutzerklärung Anmelden auf '\n",
       "                       'Facebook auf Instagram auf YouTube auf X Services '\n",
       "                       'Stadtplan Fahrplan Kultur us MStrom Bürgerservice '\n",
       "                       'Webcam Stadtteile Landkreise Umland Kontakt und mehr '\n",
       "                       'Kontakt, Presse, Werbung, Impressum, AGB, Datenschutz, '\n",
       "                       'Interessante Links zu München Leichte Sprache, '\n",
       "                       'Barrierefreiheit Weitere MetropolWebseiten Berlin, '\n",
       "                       'Hamburg, Köln, Opendi 2025 Portal München Betriebs GmbH '\n",
       "                       'Co. KG Ein Service der Landeshauptstadt München und der '\n",
       "                       'Stadtwerke München GmbH',\n",
       "               'url': 'https://www.muenchen.de/sehenswuerdigkeiten/museen/kunsthalle-muenchen'},\n",
       "  'score': 0.213538259,\n",
       "  'values': []},\n",
       " {'id': '2ad50efc7920ce1336db608ed265bf71',\n",
       "  'metadata': {'date_uploaded': '2025-05-19T15:09:42.005691',\n",
       "               'text': 'Suche Close Suchbegriff eingeben Suche Menü Close '\n",
       "                       'Navigation Sprache Rathaus Zum Rathaus Politik und '\n",
       "                       'Beteiligung Stadtverwaltung Presse und Medien Karriere '\n",
       "                       'bei der Stadt Finanzen und Vergabe München im Portrait '\n",
       "                       'Projekte und Initiativen Veranstaltungen Freizeit '\n",
       "                       'Sehenswertes Verkehr Jobs Leben Bürgerservice Zu den '\n",
       "                       'Services Wohnen und Meldewesen Verkehr und Mobilität '\n",
       "                       'Ausland und Migration Gesundheit und Soziales Familie '\n",
       "                       'und Kind Schule und Bildung Wirtschaft und Gewerbe '\n",
       "                       'Branchen und Berufe Engagement und Freizeit Aktuelle '\n",
       "                       'SpracheDeutsch Français Italiano Español Русский '\n",
       "                       'العربية 中文 Sehenswürdigkeiten Museen Kunsthalle München '\n",
       "                       'Kunsthalle München Ein vielfältiges Kunstprogramm im '\n",
       "                       'Herzen der Stadt Kunsthalle München Ausstellungen aus '\n",
       "                       'Malerei, Fotografie und Design Drei bis vier '\n",
       "                       'Ausstellungen zeigt die international renommierte '\n",
       "                       'Kunsthalle in den Münchner Fünf Höfen jedes Jahr. Dabei '\n",
       "                       'werden alle Facetten der Kunst beleuchtet. Adresse und '\n",
       "                       'Öffnungszeiten Theatinerstr. 8 , 80333 München '\n",
       "                       'Öffnungszeiten Mo geöffnet 1000 2000 Mo 1000 2000 Di '\n",
       "                       '1000 2000 Mi 1000 2000 Do 1000 2000 Fr 1000 2000 Sa '\n",
       "                       '1000 2000 So 1000 2000 Hinweis An jedem dritten '\n",
       "                       'Mittwoch des Monats ist die Ausstellung zur Afterwork '\n",
       "                       'bis 22 Uhr geöffnet. Sonderöffnung für Schulklassen '\n",
       "                       'jeden Mittwoch von 910 Uhr Anfahrt Kunsthalle München '\n",
       "                       'Weitere Aktionen Teilen auf Facebook Teilen via '\n",
       "                       'WhatsApp Kopieren Jeffrey Milstein Schaut euch '\n",
       "                       'Civilization an Von 11.04.24.8.25 folgt die Kunsthalle '\n",
       "                       'München den Spuren der Menschheit rund um den Globus '\n",
       "                       'aus dem Blickwinkel von über 100 international '\n",
       "                       'renommierten Fotografinnen. Erfahrt mehr Wissenswertes '\n",
       "                       'über einen Besuch in der Kunsthalle Das Programm der '\n",
       "                       'Kunsthalle München umfasst verschiedenste Epochen und '\n",
       "                       'Kunststile Von Malerei über Design und Mode bis zur '\n",
       "                       'Fotografie war hier schon Vieles zu sehen. Das Spektrum '\n",
       "                       'reicht von Pompeji bis Peter Lindbergh.Was ist geboten? '\n",
       "                       'Die Kunsthalle München hat keine eigene Sammlung, '\n",
       "                       'sondern veranstaltet Wechselausstellungen. Die '\n",
       "                       'inhaltlichen Möglichkeiten sind somit unbegrenzt. Das '\n",
       "                       'Themenspektrum reicht von der Kunst der Antike bis zur '\n",
       "                       'Gegenwart.Was ist besonders? Sowohl die Architektur des '\n",
       "                       'Gebäudes in den Fünf Höfen von Herzog de Meuron, als '\n",
       "                       'auch die oft aufwendig inszenierten Kunstausstellungen. '\n",
       "                       'Und Dienstags gibts 50 Prozent Rabatt auf alle '\n",
       "                       'Eintrittspreise. Auf einen Blick Die wichtigsten Infos '\n",
       "                       'zur Kunsthalle München Lage In den Fünf Höfen, zwischen '\n",
       "                       'Odeonsplatz und Marienplatz MuseumsKategorie Kunst '\n",
       "                       'Kinderprogramm Zu jeder Ausstellung gibts ein '\n",
       "                       'umfangreiches Führungsprogramm und Specials für Kinder '\n",
       "                       'und Jugendliche. Empfohlene Aufenthaltsdauer 1 bis 2 '\n",
       "                       'Stunden Anfahrt Alle SBahnen bzw. U3U6 bis Marienplatz, '\n",
       "                       'U3U4U5U6 oder Bus 100 bis Odeonsplatz, Tram 19 bis '\n",
       "                       'Theatinerstraße Parken Tiefgarage vor der Oper oder in '\n",
       "                       'der Parkgarage am Salvatorplatz Einige bisherige '\n",
       "                       'AusstellungsHighlights Zwischen 250.000 bis 300.000 '\n",
       "                       'Gäste besuchen die Kunsthalle München jährlich. Sie ist '\n",
       "                       'eines der beliebtesten Ausstellungshäuser in ganz '\n",
       "                       'Deutschland. Kunst und Kulturen der ganzen Welt finden '\n",
       "                       'hier ihren glanzvollen Auftritt, ob Malerei, Skulptur, '\n",
       "                       'Grafik, Fotografie, Kunsthandwerk oder Design. Als '\n",
       "                       'wichtigstes Kriterium für die Auswahl der '\n",
       "                       'Ausstellungsthemen gilt die künstlerische Qualität. Zu '\n",
       "                       'den Highlights zählten u.a. bereits Thierry Mugler , '\n",
       "                       'Samurai , Velázquez und Spaniens Goldene Zeit , Keith '\n",
       "                       'Haring und DixBeckmann sowie die Ausstellung JR '\n",
       "                       'Chronicles , die bisher größte Retrospektive des '\n",
       "                       'französischen FotoKünstlers JR. Zuletzt war die '\n",
       "                       'Ausstellung ViktorRolf. Fashion Statements zu sehen die '\n",
       "                       'erste große Retrospektive des niederländischen '\n",
       "                       'Designerduos in Deutschland. Previous slide View image '\n",
       "                       'in modal View image in modal View image in modal View '\n",
       "                       'image in modal View image in modal View image in modal '\n",
       "                       'View image in modal View image in modal View image in '\n",
       "                       'modal View image in modal View image in modal View '\n",
       "                       'image in modal Next slide Führungsprogramm durch die '\n",
       "                       'Ausstellungen Die Kunsthalle München bietet zu jeder '\n",
       "                       'Ausstellung ein breites Führungsangebot Öffentliche '\n",
       "                       'Führungen Die Münchner Volkshochschule bietet zu jeder '\n",
       "                       'Ausstellung öffentliche Führungen an Immer am Montag, '\n",
       "                       'Mittwoch, Donnerstag und Freitag. AudioFührungen Eine '\n",
       "                       'AudioTour in deutscher oder englischer Sprache führt '\n",
       "                       'euch anhand ausgewählter Exponate durch die '\n",
       "                       'Ausstellung. AfterworkFührungen Jeden dritten Mittwoch '\n",
       "                       'im Monat finden ab ca. 18 Uhr AfterworkFührungen statt. '\n",
       "                       'Die Ausstellung ist bis 22 Uhr geöffnet. '\n",
       "                       'Kuratorinnenführungen Die Kuratorinnen führen an '\n",
       "                       'mehreren Terminen selbst durch die aktuelle '\n",
       "                       'Ausstellung. Private Führungen Die Kunsthalle München '\n",
       "                       'vermittelt auch für private Gruppen '\n",
       "                       'Kunsthistorikerinnen oder Expertinnen aus verschiedenen '\n",
       "                       'Fachbereichen für Touren auf Deutsch oder in '\n",
       "                       'ausgewählten Fremdsprachen. Eine Anmeldung vorab ist '\n",
       "                       'erforderlich. Kinderprogramm und Begleitheft Robert '\n",
       "                       'Haas, Kunsthalle München Die jungen Besucherinnen '\n",
       "                       'werden in der Kunsthalle München spielerisch durch die '\n",
       "                       'aktuelle Ausstellung geführt Für Kinder von 8 bis 12 '\n",
       "                       'Jahren gibt es an der Kasse ein kostenloses Heft, das '\n",
       "                       'spielerisch durch die Ausstellung führt. Zudem gibt es '\n",
       "                       'ein regelmäßiges Führungsprogramm. Angeboten werden '\n",
       "                       'Kinderführungen in den Ferien für Kinder im Alter von 6 '\n",
       "                       'bis 12 Jahren . Kunst mit Baby Eine Stunde raus aus dem '\n",
       "                       'Alltagstrott und rein ins Museum. Babygerechte '\n",
       "                       'Führungen für Vätern und Mütter mit Kindern bis ein '\n",
       "                       'Jahr Sonderöffnungszeiten für Schulklassen Für '\n",
       "                       'Schulgruppen gibt es nach Anmeldung zusätzliche Termine '\n",
       "                       'mittwochs von 9 bis 10 Uhr. Museumsshop und Café Das '\n",
       "                       'CaféRestaurant Theatiner 8 bietet einen tollen Ausblick '\n",
       "                       'auf die Hängenden Gärten und die besondere Architektur '\n",
       "                       'des Gebäudes. Im Shop der Kunsthalle München findet man '\n",
       "                       'passend zur jeweiligen Ausstellung ein eigens '\n",
       "                       'zusammengestelltes Sortiment an Produkten. '\n",
       "                       'Eintrittspreise der Kunsthalle München Die '\n",
       "                       'Eintrittspreise der Kunsthalle München richten sich '\n",
       "                       'immer nach der jeweiligen Ausstellung. Ermäßigungen '\n",
       "                       'gibt es für Seniorinnen, Kinder und Jugendliche, '\n",
       "                       'Schülerinnen, Studierende, Auszubildende sowie '\n",
       "                       'Arbeitslose und Menschen mit Behinderung.Am Dienstag '\n",
       "                       'reduzieren sich alle Eintrittspreise um die Hälfte . '\n",
       "                       'Veranstaltungen und ClubMusik, Afterwork Co Michael '\n",
       "                       'Naumann Tiefenpixel Ausstellungsansicht Thierry Mugler '\n",
       "                       'Couturissime, Kunsthalle München Zu jeder Ausstellung '\n",
       "                       'gibt es ein umfangreiches Begleitprogramm Vorträge '\n",
       "                       'Talks mit interessanten Referentinnen beleuchten '\n",
       "                       'verschiedene Aspekte rund um das Thema der Ausstellung. '\n",
       "                       'AfterworkKH Jeden dritten Mittwoch im Monat die '\n",
       "                       'Ausstellung bis 22 Uhr besuchen und den Abend '\n",
       "                       'anschließend im CaféRestaurant Theatiner8 ausklingen '\n",
       "                       'lassen. ReAct! Kunst Club Einmal pro Ausstellung tun '\n",
       "                       'sich zudem die Kunsthalle München und der Club Harry '\n",
       "                       'Klein zusammen, um Kunst neu erlebbar zu machen. Die '\n",
       "                       'Ausstellung ist bis 23 Uhr geöffnet, Visual Artists und '\n",
       "                       'DJs sorgen auf der Tanzfläche im Café der Kunsthalle '\n",
       "                       'für den passenden Sound bis Mitternacht. Danach wird im '\n",
       "                       'Harry Klein bis spät in die Nacht weitergefeiert. '\n",
       "                       'OnlineAngebot Unter www.kunsthallemuc.de sind unter '\n",
       "                       'anderem die Ausstellungen Thierry Mugler Couturissime, '\n",
       "                       'Mit Leib und Seele. Münchner Rokoko und Du bist Faust. '\n",
       "                       'Goethes Drama in der Kunst als 360Rundgang virtuell '\n",
       "                       'erlebbar. Architektur Herzog de Meurons Museumsgebäude '\n",
       "                       'in den Fünf Höfen Kunsthalle München Auch die '\n",
       "                       'Architektur des Museumsgebäudes ist außergewöhnlich und '\n",
       "                       'preisgekrönt Die Kunsthalle München befindet sich im '\n",
       "                       'zweiten Obergeschoss der Fünf Höfe. Für die Architektur '\n",
       "                       'der Kunsthalle München wie auch für die gesamten Fünf '\n",
       "                       'Höfe sind die Schweizer Architekten Herzog de Meuron '\n",
       "                       'verantwortlich. Die Blickwinkel, etwa auf den Perusahof '\n",
       "                       'oder die Salvatorpassage, sind schon beim Gang zur '\n",
       "                       'Kunsthalle ungewohnt. Auch vom Café oder Shop aus hat '\n",
       "                       'man eine interessante Perspektive auf die '\n",
       "                       'außergewöhnliche Architektur der Fünf Höfe. Ihr '\n",
       "                       'Ensemble mitten in der Münchner Altstadt ist ein '\n",
       "                       'preisgekröntes Beispiel für die neuere Architektur in '\n",
       "                       'München. Barrierefreiheit und Angebote für Menschen mit '\n",
       "                       'Behinderung Sämtliche Räumlichkeiten der Kunsthalle '\n",
       "                       'München sind barrierefrei zugänglich. Zwei Aufzüge '\n",
       "                       'gewährleisten den Zugang zu den Ausstellungräumen, dem '\n",
       "                       'Shop, dem Café sowie der Garderobe und den Toiletten. '\n",
       "                       'BehindertenParkplätze in der Nähe sind vorhanden In der '\n",
       "                       'Prannerstraße 7 sowie am Salvatorplatz 2. Ein '\n",
       "                       'behindertengerechtes WC befindet sich direkt auf der '\n",
       "                       'Ausstellungsebene. Führungen Induktionsschleifen für '\n",
       "                       'Hörgeräte für den Audioguide sind auf Anfrage '\n",
       "                       'erhältlich. Alle Ausstellungstexte und Beschriftungen '\n",
       "                       'sind kontrastreich, gut lesbar und werden auch in '\n",
       "                       'einfacher Sprache angeboten. MuseumsGeschichte '\n",
       "                       'Eröffnung im Jahr 1985 Kunsthalle München Seit 2001 '\n",
       "                       'befindet sich die Kunsthalle München in ihren jetzigen '\n",
       "                       'Räume in den Fünf Höfen Die HypoKulturstiftung wurde im '\n",
       "                       'Jahr 1983 anlässlich des 150jährigen Firmenjubiläums '\n",
       "                       'der damaligen Wechsel und Hypothekenbank gegründet. Am '\n",
       "                       '14.6.1985 öffnete dann die Kunsthalle München ihre '\n",
       "                       'Pforten, die sich auch damals schon zwischen Marien und '\n",
       "                       'Odeonsplatz befand. Im Jahr 2001 wurden dann die '\n",
       "                       'jetzigen Räume in den Fünf Höfen bezogen, deren '\n",
       "                       'Ausstellungsfläche ungefähr ein Drittel größer ist als '\n",
       "                       'in der bisherigen Kunsthalle. In Kooperation mit dem '\n",
       "                       'Kulturreferat und den Museen Dieser Beitrag über die '\n",
       "                       'Münchner Museen wird vom Kulturreferat der '\n",
       "                       'Landeshauptstadt München gefördert und ist in '\n",
       "                       'Kooperation mit der Landesstelle für die '\n",
       "                       'nichtstaatlichen Museen in Bayern konzipiert worden. '\n",
       "                       'Die Inhalte wurden zwischen den beteiligten Museen und '\n",
       "                       ', dem offiziellen Stadtportal, abgestimmt. Das könnte '\n",
       "                       'euch auch interessieren Münchens Top Sehenswürdigkeiten '\n",
       "                       'Die Highlights von Marienplatz bis Frauenkirche So wird '\n",
       "                       'das Wetter Sonne oder Regen? Die Wetterprognose Webcams '\n",
       "                       'mit LiveBildern in München Was am Marienplatz, im '\n",
       "                       'Olympiapark und an der Isar zu sehen ist Auf einen '\n",
       "                       'Blick Kunsthalle München Theatinerstr. 8 80333 München '\n",
       "                       'Tel 4989224412 kontaktkunsthallemuc.de Korrektur '\n",
       "                       'vorschlagen Öffnungszeiten This is a carousel with '\n",
       "                       'rotating cards. Use the previous and next buttons to '\n",
       "                       'navigate, and Enter to activate cards. Vorheriger Slide '\n",
       "                       'Mo 1000 2000 Di 1000 2000 Mi 1000 2000 Do 1000 2000 Fr '\n",
       "                       '1000 2000 Sa 1000 2000 So 1000 2000 Nächster Slide 1 30 '\n",
       "                       'von 98 Veranstaltungen 19 Mai bis 24 Aug Civilization '\n",
       "                       'Wie wir heute leben Mo. 19.05.2025 1000 2000 Uhr '\n",
       "                       'Kunsthalle München 19 Mai bis 24 Aug Civilization Wie '\n",
       "                       'wir heute leben Di. 20.05.2025 1000 2000 Uhr Kunsthalle '\n",
       "                       'München 19 Mai bis 24 Aug Civilization Wie wir heute '\n",
       "                       'leben Mi. 21.05.2025 1000 2000 Uhr Kunsthalle München '\n",
       "                       '19 Mai bis 24 Aug Civilization Wie wir heute leben Do. '\n",
       "                       '22.05.2025 1000 2000 Uhr Kunsthalle München 19 Mai bis '\n",
       "                       '24 Aug Civilization Wie wir heute leben Fr. 23.05.2025 '\n",
       "                       '1000 2000 Uhr Kunsthalle München 19 Mai bis 24 Aug '\n",
       "                       'Civilization Wie wir heute leben Sa. 24.05.2025 1000 '\n",
       "                       '2000 Uhr Kunsthalle München 19 Mai bis 24 Aug '\n",
       "                       'Civilization Wie wir heute leben So. 25.05.2025 1000 '\n",
       "                       '2000 Uhr Kunsthalle München 19 Mai bis 24 Aug '\n",
       "                       'Civilization Wie wir heute leben Mo. 26.05.2025 1000 '\n",
       "                       '2000 Uhr Kunsthalle München 19 Mai bis 24 Aug '\n",
       "                       'Civilization Wie wir heute leben Di. 27.05.2025 1000 '\n",
       "                       '2000 Uhr Kunsthalle München 19 Mai bis 24 Aug '\n",
       "                       'Civilization Wie wir heute leben Mi. 28.05.2025 1000 '\n",
       "                       '2000 Uhr Kunsthalle München 19 Mai bis 24 Aug '\n",
       "                       'Civilization Wie wir heute leben Do. 29.05.2025 1000 '\n",
       "                       '2000 Uhr Kunsthalle München 19 Mai bis 24 Aug '\n",
       "                       'Civilization Wie wir heute leben Fr. 30.05.2025 1000 '\n",
       "                       '2000 Uhr Kunsthalle München 19 Mai bis 24 Aug '\n",
       "                       'Civilization Wie wir heute leben Sa. 31.05.2025 1000 '\n",
       "                       '2000 Uhr Kunsthalle München 19 Mai bis 24 Aug '\n",
       "                       'Civilization Wie wir heute leben So. 01.06.2025 1000 '\n",
       "                       '2000 Uhr Kunsthalle München 19 Mai bis 24 Aug '\n",
       "                       'Civilization Wie wir heute leben Mo. 02.06.2025 1000 '\n",
       "                       '2000 Uhr Kunsthalle München 19 Mai bis 24 Aug '\n",
       "                       'Civilization Wie wir heute leben Di. 03.06.2025 1000 '\n",
       "                       '2000 Uhr Kunsthalle München 19 Mai bis 24 Aug '\n",
       "                       'Civilization Wie wir heute leben Mi. 04.06.2025 1000 '\n",
       "                       '2000 Uhr Kunsthalle München 19 Mai bis 24 Aug '\n",
       "                       'Civilization Wie wir heute leben Do. 05.06.2025 1000 '\n",
       "                       '2000 Uhr Kunsthalle München 19 Mai bis 24 Aug '\n",
       "                       'Civilization Wie wir heute leben Fr. 06.06.2025 1000 '\n",
       "                       '2000 Uhr Kunsthalle München 19 Mai bis 24 Aug '\n",
       "                       'Civilization Wie wir heute leben Sa. 07.06.2025 1000 '\n",
       "                       '2000 Uhr Kunsthalle München 19 Mai bis 24 Aug '\n",
       "                       'Civilization Wie wir heute leben So. 08.06.2025 1000 '\n",
       "                       '2000 Uhr Kunsthalle München 19 Mai bis 24 Aug '\n",
       "                       'Civilization Wie wir heute leben Mo. 09.06.2025 1000 '\n",
       "                       '2000 Uhr Kunsthalle München 19 Mai bis 24 Aug '\n",
       "                       'Civilization Wie wir heute leben Di. 10.06.2025 1000 '\n",
       "                       '2000 Uhr Kunsthalle München 19 Mai bis 24 Aug '\n",
       "                       'Civilization Wie wir heute leben Mi. 11.06.2025 1000 '\n",
       "                       '2000 Uhr Kunsthalle München 19 Mai bis 24 Aug '\n",
       "                       'Civilization Wie wir heute leben Do. 12.06.2025 1000 '\n",
       "                       '2000 Uhr Kunsthalle München 19 Mai bis 24 Aug '\n",
       "                       'Civilization Wie wir heute leben Fr. 13.06.2025 1000 '\n",
       "                       '2000 Uhr Kunsthalle München 19 Mai bis 24 Aug '\n",
       "                       'Civilization Wie wir heute leben Sa. 14.06.2025 1000 '\n",
       "                       '2000 Uhr Kunsthalle München 19 Mai bis 24 Aug '\n",
       "                       'Civilization Wie wir heute leben So. 15.06.2025 1000 '\n",
       "                       '2000 Uhr Kunsthalle München 19 Mai bis 24 Aug '\n",
       "                       'Civilization Wie wir heute leben Mo. 16.06.2025 1000 '\n",
       "                       '2000 Uhr Kunsthalle München 19 Mai bis 24 Aug '\n",
       "                       'Civilization Wie wir heute leben Di. 17.06.2025 1000 '\n",
       "                       '2000 Uhr Kunsthalle München Seitennummerierung Erste '\n",
       "                       'Seite 1 Seite 2 Seite 3 Seite 4 Letzte Seite Nächste '\n",
       "                       'Seite Fliegender Brief als Newsletter! Mit aktuellen '\n",
       "                       'Highlights, Tipps und Infos. EMail Adresse '\n",
       "                       'Rechtsgrundlage für die Verarbeitung Eurer EMail '\n",
       "                       'Adresse ist Art. 6 Abs. 1 a DSGVO in Verbindung mit '\n",
       "                       'Eurer Einwilligung. Ihr könnte Eure Einwilligung '\n",
       "                       'jederzeit mit Wirkung für die Zukunft widerrufen, am '\n",
       "                       'Einfachsten durch Anklicken des Abmeldelinks am Ende '\n",
       "                       'des entsprechenden EMailNewsletters. Alle weiteren '\n",
       "                       'Informationen zum Schutz Eurer personenbezogenen Daten '\n",
       "                       'findet Ihr in der Datenschutzerklärung Anmelden auf '\n",
       "                       'Facebook auf Instagram auf YouTube auf X Services '\n",
       "                       'Stadtplan Fahrplan Kultur us MStrom Bürgerservice '\n",
       "                       'Webcam Stadtteile Landkreise Umland Kontakt und mehr '\n",
       "                       'Kontakt, Presse, Werbung, Impressum, AGB, Datenschutz, '\n",
       "                       'Interessante Links zu München Leichte Sprache, '\n",
       "                       'Barrierefreiheit Weitere MetropolWebseiten Berlin, '\n",
       "                       'Hamburg, Köln, Opendi 2025 Portal München Betriebs GmbH '\n",
       "                       'Co. KG Ein Service der Landeshauptstadt München und der '\n",
       "                       'Stadtwerke München GmbH',\n",
       "               'url': 'https://www.muenchen.de/sehenswuerdigkeiten/museen/kunsthalle-muenchen'},\n",
       "  'score': 0.213150129,\n",
       "  'values': []}]"
      ]
     },
     "execution_count": 106,
     "metadata": {},
     "output_type": "execute_result"
    }
   ],
   "source": [
    "query_from_pinecone('hello')\n"
   ]
  },
  {
   "cell_type": "code",
   "execution_count": 107,
   "id": "79ab1a28",
   "metadata": {},
   "outputs": [
    {
     "data": {
      "text/plain": [
       "{}"
      ]
     },
     "execution_count": 107,
     "metadata": {},
     "output_type": "execute_result"
    }
   ],
   "source": [
    "def delete_texts_from_pinecone(texts, namespace=NAMESPACE):\n",
    "    # Compute the hash (id) for each text\n",
    "    hashes = [hashlib.md5(text.encode()).hexdigest() for text in texts]\n",
    "\n",
    "    # The ids parameter is used to specify the list of IDs (hashes) to delete\n",
    "    return index.delete(ids=hashes, namespace=namespace)\n",
    "\n",
    "# delete our text\n",
    "delete_texts_from_pinecone(texts)"
   ]
  },
  {
   "cell_type": "code",
   "execution_count": 108,
   "id": "a14ba9af",
   "metadata": {},
   "outputs": [
    {
     "data": {
      "text/plain": [
       "{'dimension': 1536,\n",
       " 'index_fullness': 0.0,\n",
       " 'metric': 'cosine',\n",
       " 'namespaces': {'default': {'vector_count': 43}},\n",
       " 'total_vector_count': 43,\n",
       " 'vector_type': 'dense'}"
      ]
     },
     "execution_count": 108,
     "metadata": {},
     "output_type": "execute_result"
    }
   ],
   "source": [
    "index.describe_index_stats()\n"
   ]
  },
  {
   "cell_type": "code",
   "execution_count": 109,
   "id": "c5f96860",
   "metadata": {},
   "outputs": [
    {
     "name": "stdout",
     "output_type": "stream",
     "text": [
      "https://www.muenchen.de\n",
      "https://www.muenchen.de/en/events/\n"
     ]
    }
   ],
   "source": [
    "# specific of the website strucutre munchen.de\n",
    "# https://www.muenchen.de/en/events/\n",
    "base_url = 'https://www.muenchen.de'\n",
    "event_url = f'{base_url}/en/events/'\n",
    "print(base_url)\n",
    "print(event_url)"
   ]
  },
  {
   "cell_type": "code",
   "execution_count": 110,
   "id": "58d9e322",
   "metadata": {},
   "outputs": [
    {
     "data": {
      "text/plain": [
       "16"
      ]
     },
     "execution_count": 110,
     "metadata": {},
     "output_type": "execute_result"
    }
   ],
   "source": [
    "import requests\n",
    "import re\n",
    "\n",
    "def find_links_with_pattern(url, pattern):\n",
    "    # Send a GET request to the URL\n",
    "    response = requests.get(url)\n",
    "    \n",
    "    # Create a BeautifulSoup object\n",
    "    soup = BeautifulSoup(response.text, 'html.parser')\n",
    "    \n",
    "    # Compile the regex pattern\n",
    "    regex = re.compile(pattern)\n",
    "    \n",
    "    # Find all 'a' tags with href attribute matching the pattern\n",
    "    links = soup.find_all('a', href=regex)\n",
    "    \n",
    "    # Extract and return the href values\n",
    "    return [link.get('href') for link in links]\n",
    "\n",
    "# Example usage\n",
    "pattern = r'^/en/node/'\n",
    "\n",
    "matching_links = find_links_with_pattern(event_url, pattern)\n",
    "len(matching_links)"
   ]
  },
  {
   "cell_type": "code",
   "execution_count": 111,
   "id": "3bf6a421",
   "metadata": {},
   "outputs": [
    {
     "name": "stderr",
     "output_type": "stream",
     "text": [
      "100%|██████████| 16/16 [00:43<00:00,  2.70s/it]"
     ]
    },
    {
     "name": "stdout",
     "output_type": "stream",
     "text": [
      "['https://www.muenchen.de/sehenswuerdigkeiten/museen/bayerische-staatsbibliothek', 'https://www.muenchen.de/sehenswuerdigkeiten/tourismus', 'https://www.muenchen.de/sehenswuerdigkeiten/webcam-live-aus-muenchen-marienplatz-olympiapark-und-mehr', 'https://www.muenchen.de/sehenswuerdigkeiten/museen/kunsthalle-muenchen', 'https://www.muenchen.de/sehenswuerdigkeiten/museen/zentralinstitut-fuer-kunstgeschichte', 'https://www.muenchen.de/sehenswuerdigkeiten/museen/museum-brandhorst', 'https://www.muenchen.de/sehenswuerdigkeiten/museen/archaeologische-staatssammlung', 'https://www.muenchen.de/sehenswuerdigkeiten/museen/galerie-bezirk-oberbayern', 'https://www.muenchen.de/sehenswuerdigkeiten/museen/juedisches-museum-muenchen', 'https://www.muenchen.de/sehenswuerdigkeiten/museen/infopoint-museen-schloesser-bayern', 'https://www.muenchen.de/sehenswuerdigkeiten/haus-der-kunst', 'https://www.muenchen.de/sehenswuerdigkeiten/museen/ns-dokumentationszentrum-muenchen']\n"
     ]
    },
    {
     "name": "stderr",
     "output_type": "stream",
     "text": [
      "\n"
     ]
    },
    {
     "data": {
      "text/plain": [
       "12"
      ]
     },
     "execution_count": 111,
     "metadata": {},
     "output_type": "execute_result"
    }
   ],
   "source": [
    "urls = []\n",
    "\n",
    "from bs4 import BeautifulSoup\n",
    "import requests\n",
    "\n",
    "for matching_link in tqdm(matching_links):\n",
    "    full_link = base_url + matching_link\n",
    "    r = requests.get(full_link)\n",
    "    soup = BeautifulSoup(r.content, 'html.parser')\n",
    "    for link in soup.find_all('a'):\n",
    "        if 'href' in link.attrs:\n",
    "            if link['href'].startswith('/') and 'sehenswuerdigkeiten' in link['href']:\n",
    "                urls.append(base_url + link['href'])\n",
    "    \n",
    "urls = list(set([u.lower().strip() for u in urls]))\n",
    "print(urls)\n",
    "len(urls)"
   ]
  },
  {
   "cell_type": "code",
   "execution_count": 112,
   "id": "81ef7102",
   "metadata": {},
   "outputs": [
    {
     "name": "stdout",
     "output_type": "stream",
     "text": [
      "https://www.muenchen.de/sehenswuerdigkeiten/museen/bayerische-staatsbibliothek\n",
      "https://www.muenchen.de/sehenswuerdigkeiten/tourismus\n",
      "https://www.muenchen.de/sehenswuerdigkeiten/webcam-live-aus-muenchen-marienplatz-olympiapark-und-mehr\n",
      "https://www.muenchen.de/sehenswuerdigkeiten/museen/kunsthalle-muenchen\n",
      "https://www.muenchen.de/sehenswuerdigkeiten/museen/zentralinstitut-fuer-kunstgeschichte\n",
      "https://www.muenchen.de/sehenswuerdigkeiten/museen/museum-brandhorst\n",
      "https://www.muenchen.de/sehenswuerdigkeiten/museen/archaeologische-staatssammlung\n",
      "https://www.muenchen.de/sehenswuerdigkeiten/museen/galerie-bezirk-oberbayern\n",
      "https://www.muenchen.de/sehenswuerdigkeiten/museen/juedisches-museum-muenchen\n",
      "https://www.muenchen.de/sehenswuerdigkeiten/museen/infopoint-museen-schloesser-bayern\n",
      "https://www.muenchen.de/sehenswuerdigkeiten/haus-der-kunst\n",
      "https://www.muenchen.de/sehenswuerdigkeiten/museen/ns-dokumentationszentrum-muenchen\n"
     ]
    }
   ],
   "source": [
    "for url in urls:\n",
    "    print(url)"
   ]
  },
  {
   "cell_type": "code",
   "execution_count": 113,
   "id": "ff95d943",
   "metadata": {},
   "outputs": [],
   "source": [
    "import re\n",
    "\n",
    "def clean_string(text):  # courtesy of Claude 3.5 Sonnet\n",
    "    # Remove extra whitespace, including newlines\n",
    "    text = re.sub(r'\\s+', ' ', text)\n",
    "    # Remove any leading/trailing whitespace\n",
    "    text = text.strip()\n",
    "    # Remove common filler phrases\n",
    "    filler_phrases = [\n",
    "        \"Skip to content\", \"Skip to main content\", \"Menu\", \"Sign in\", \"Print\", \"Views:\", \"Comments\",\n",
    "        \"Footer menu\", \"Give us Feedback.\", \"Did this answer your question?\", \"No Yes No\", \"Thanks for your feedback.\",\n",
    "        \"City Hall\", \"Events\", \"Culture, Leisure\", \"Restaurants\", \"Shopping\", \"Sights\", \"Tourism\", \n",
    "        \"Hotels\", \"Business\", \"Living\", \"Transportation\", \"Citizen service\", \"English\", \"Branchenbuch\", \n",
    "        \"Anzeige\", \"Search\", \"muenchen.de\", \"Das offizielle Stadtportal\", \"Home\"\n",
    "    ]\n",
    "    for phrase in filler_phrases:\n",
    "        text = re.sub(phrase, '', text, flags=re.IGNORECASE)\n",
    "    # Remove any remaining brackets and their contents\n",
    "    text = re.sub(r'\\[.*?\\]', '', text)\n",
    "    # Remove any remaining parentheses and their contents\n",
    "    text = re.sub(r'\\(.*?\\)', '', text)\n",
    "    # Remove any URLs\n",
    "    text = re.sub(r'http\\S+', '', text)\n",
    "    # Remove any remaining special characters\n",
    "    text = re.sub(r'[^\\w\\s\\.\\,\\?\\!]', '', text)\n",
    "    # Remove extra spaces that may have been created\n",
    "    text = re.sub(r'\\s+', ' ', text).strip()\n",
    "    print(text)\n",
    "    return text"
   ]
  },
  {
   "cell_type": "code",
   "execution_count": 114,
   "id": "643e7359",
   "metadata": {},
   "outputs": [
    {
     "name": "stderr",
     "output_type": "stream",
     "text": [
      "  0%|          | 0/12 [00:00<?, ?it/s]"
     ]
    },
    {
     "name": "stdout",
     "output_type": "stream",
     "text": [
      "https://www.muenchen.de/sehenswuerdigkeiten/museen/bayerische-staatsbibliothek\n"
     ]
    },
    {
     "name": "stderr",
     "output_type": "stream",
     "text": [
      " 25%|██▌       | 3/12 [00:02<00:05,  1.79it/s]"
     ]
    },
    {
     "name": "stdout",
     "output_type": "stream",
     "text": [
      "Stabi München Universalbibliothek mit kultureller Bedeutung Bayerische Staatsbibliothek Infos, Ausstellungen und Tipps Die Bayerische Staatsbibliothek ist die größte wissenschaftliche Universalbibliothek Deutschlands und das in historischem Ambiente. Adresse und Öffnungszeiten Ludwigstr. 16 , 80539 München Öffnungszeiten Mo geöffnet 0800 00 Mo 0800 00 Di 0800 00 Mi 0800 00 Do 0800 00 Fr 0800 00 Sa 0800 00 So 0800 00 Hinweis 2025 ist die Bibliothek an folgenden Tagen geschlossen 1. Januar 6. Januar 4. März 18. 21. April 1. Mai 29. Mai 8.9. Juni 19. Juni 15. August 3. Oktober 1. November 24. 26. Dezember 31. Dezember Anfahrt Bayerische Staatsbibliothek Weitere Aktionen Teilen auf Facebook Teilen via WhatsApp Kopieren In Kooperation mit dem Kulturreferat und den Museen Dieser Beitrag über die Münchner Museen wird vom Kulturreferat der Landeshauptstadt München gefördert und ist in Kooperation mit der Landesstelle für die nichtstaatlichen Museen in Bayern konzipiert worden. Die Inhalte wurden zwischen den beteiligten Museen und , dem offiziellen Stadtportal, abgestimmt. Warum lohnt sich ein Besuch in der Bayerischen Staatsbibliothek? Bayerische Staatsbibliothek Das Bibliotheksgebäude mit seinem Prachttreppenhaus in der Ludwigstraße ist ein absoluter Hingucker Die Bayerische Staatsbibliothek gilt als ein Schatzhaus des schriftlichen Kulturerbes. Sie ist nicht nur eine wichtige Adresse für Forschende und Studierende, sondern auch einen Ausstellungsbesuch wert. Was ist geboten? Jährlich wechselnde Ausstellungen geben Einblicke in die umfangreichen Bestände der Bibliothek, beispielsweise aus der bedeutenden Handschriftensammlung oder den zahlreichen Fotoarchiven. Was ist besonders? Das gesamte historische Bibliotheksgebäude und sein Prachttreppenhaus. Die Bayerische Staatsbibliothek Alle Infos auf einen Blick Lage Im Universitätsviertel, schräg gegenüber dem Hauptgebäude der LMU MuseumsKategorie Bibliothek, Kultur und Kunst Empfohlene Aufenthaltsdauer Bis zu 2 Stunden Anfahrt U3U6, MetroBus 5868 oder StadtBus 153154 bis zur Haltestelle Universität Parken Keine Parkplätze vorhanden Bibliothek und Ausstellungshaus in einem BSBH.R. Schulz Der Gesamtbestand des Hauses umfasst etwa 11 Millionen Bücher, darunter viele spannende und kostbare Raritäten Fast 37 Millionen Medieneinheiten, darunter 11,2 Millionen Bände, 53.700 laufende Zeitschriften und 143.000 Handschriften, zählt die Bayerische Staatsbibliothek zu ihrem Bestand und ist damit eine wichtige Anlaufstelle für Forschende, Studierende und Informationssuchende aus ganz Europa. Euch erwartet aber weit mehr als eine nutzerfreundliche bare Forschungsbibliothek. Im ersten Stock finden regelmäßige Jahresausstellungen statt. In den Vitrinen liegen dann dabei neben Büchern und Schriftstücken auch Bilder, Zeichnungen und Dokumente aus längst vergangenen Zeiten. Zu den Highlights des Bibliotheksbestands zählen Handschriften im UNESCOWelterbe Die Bibliothek verwahrt mehrere Handschriften, die im UNESCOWeltdokumentenerbe gelistet sind, u.a. das Nibelungenlied, das Perikopenbuch Heinrichs II oder das Evangeliar Ottos III. Die Carmina Burana , der Babylonische Talmud oder der Codex Aureus gehören ebenso zum Spitzenbestand der Bibliothek Nachlässe und Künstlerbücher Neben Handschriften und seltenen Drucken nennt die Bibliothek eine bedeutende Sammlung mit über 1.000 Nachlässen oder eine umfangreiche Sammlung moderner Künstlerbücher u.a. von Max Ernst, Anselm Kiefer oder Joseph Beuys ihr eigen. Das umfangreiche historische Bildarchiv Von den Portraits wichtiger Persönlichkeiten des 19. und 20. Jahrhunderts über die Fotografien des Reichsbildberichterstatters Heinrich Hoffmann bis hin zu neueren journalistischen Aufnahmen aus Kunst, Kultur und Reisen ist alles vertreten. Auch das analoge Fotoarchiv der Zeitschrift Stern ist mit seinen rund 15 Millionen Bildern aus der Zeit von 1948 bis 2001 seit 2019 Teil der Bayerischen Staatsbibliothek. Eine Dauerausstellung wird leider nicht angeboten. Previous slide View image in modal View image in modal View image in modal View image in modal View image in modal View image in modal View image in modal View image in modal View image in modal View image in modal View image in modal Next slide Führungen und Begleitveranstaltungen zu Ausstellungen BSBH.R. Schulz Im März 2020 wurden im Rahmen der Ausstellung MÜNCHEN. SCHAU her! erste Bilder des SternFotoarchivs gezeigt Die Ausstellungen decken thematisch ein weites Feld ab. Meist werden ein kostenloses Führungsprogramm sowie ein kostenloser Audioguide angeboten. Zudem gibt es zu den meisten Ausstellungen und Präsentationen ein umfangreiches Programm an Begleitveranstaltungen . Aber auch abseits der Ausstellung ist ein Besuch der Stabi interessant Regelmäßig werden Führungen durch die Bibliotheksräume angeboten. Stabi Café BSB Ulrike Rehusch Im Untergeschoss findet ihr das Stabi Café Im Untergeschoss der Stabi findet ihr eine Cafeteria mit wöchentlich wechselnder Speisekarte. In der angrenzenden Lounge dürfen auch mitgebrachte Getränke und Speisen verzehrt werden. Kostenloser Eintritt Das Bibliotheksgebäude und die Ausstellung sind kostenfrei zugänglich. Digitale Ausstellungen und OPAC OnlineKatalog Mehr als 3 Millionen Werke aus dem Bestand der Bayerischen Staatsbibliothek können über den OPACKatalog und www.digitalesammlungen.de auch in digitaler Form gelesen werden. Auch zahlreiche A usstellungen sind auf der Website der Stabi virtuell einsehbar. Barrierefreiheit und Angebote für Menschen mit Behinderung Der barrierefreie Zugang ist über die Poststelle an der Südseite des Gebäudes möglich . Die Ausstellung im ersten Stock ist per Fahrstuhl erreichbar. Ein Behindertenparkplatz befindet sich ebenfalls auf der Südseite des Gebäudes. Eine behindertengerechte Toilette ist im Zeitschriftenlesesaal eingebaut. Geschichte der Staatsbibliothek BSBH.R. Schulz Das historische Gebäude der Bayerischen Staatsbibliothek in der Ludwigstraße entwarf einst der bedeutende Architekt Friedrich von Gärtner Die Bayerische Staatsbibliothek in München geht zurück auf die Hofbibliothek der Wittelsbacher, die 1558 auf Wunsch von Herzog Albrecht V. angelegt wurde. Ihr heutiges Gebäude in der Ludwigstraße, das Friedrich von Gärtner im Auftrag von König Ludwig I. entwarf, bezog sie 1843. Kostbare Handschriften, seltene Drucke und umfassende Sondersammlungen machen den Bestand der Bibliothek bis heute einzigartig. Als zentrale Landes und Archivbibliothek des Freistaats Bayern verfügt sie über fast 37 Millionen Medienheiten . Jedes Jahr kommen circa 125.000 Bände hinzu. Auch ihre OnlineAngebote baut die Stabi laufend aus Sei es durch die Massendigitalisierung der Bestände oder beispielsweise im Bereich elektronischer Zeitschriften. Mit über 3 Millionen digitalisierten Werken verfügt sie über den größten digitalen Datenbestand aller deutschen Bibliotheken. Und da sie zudem 2019 das analoge Fotoarchiv der Zeitschrift Stern übernahm, besitzt sie zudem das größte deutsche Bildarchiv in öffentlicher Trägerschaft. Das könnte euch auch interessieren Münchens Top Sehenswürdigkeiten Die Highlights von Marienplatz bis Frauenkirche So wird das Wetter Sonne oder Regen? Die Wetterprognose Webcams mit LiveBildern in München Was am Marienplatz, im Olympiapark und an der Isar zu sehen ist Auf einen Blick Bayerische Staatsbibliothek Ludwigstr. 16 80539 München Tel 4989286382322 Fax 4989286382155 informationbsb Korrektur vorschlagen Öffnungszeiten This is a carousel with rotating cards. Use the previous and next buttons to navigate, and Enter to activate cards. Vorheriger Slide Mo 0800 00 Di 0800 00 Mi 0800 00 Do 0800 00 Fr 0800 00 Sa 0800 00 So 0800 00 Nächster Slide 1 30 von 39 Veranstaltungen 19 Mai bis 06 Juli Farben Japans Holzschnitte aus der Sammlung der Bayerischen Staatsbibliothek Mo. 19.05.2025 1000 1800 Uhr Bayerische Staatsbibliothek 19 Mai bis 06 Juli Farben Japans Holzschnitte aus der Sammlung der Bayerischen Staatsbibliothek Di. 20.05.2025 1000 1800 Uhr Bayerische Staatsbibliothek 19 Mai bis 06 Juli Farben Japans Holzschnitte aus der Sammlung der Bayerischen Staatsbibliothek Mi. 21.05.2025 1000 1800 Uhr Bayerische Staatsbibliothek 19 Mai bis 06 Juli Farben Japans Holzschnitte aus der Sammlung der Bayerischen Staatsbibliothek Do. 22.05.2025 1000 1800 Uhr Bayerische Staatsbibliothek 19 Mai bis 06 Juli Farben Japans Holzschnitte aus der Sammlung der Bayerischen Staatsbibliothek Fr. 23.05.2025 1000 1800 Uhr Bayerische Staatsbibliothek 19 Mai bis 06 Juli Farben Japans Holzschnitte aus der Sammlung der Bayerischen Staatsbibliothek So. 25.05.2025 1000 1800 Uhr Bayerische Staatsbibliothek 19 Mai bis 06 Juli Farben Japans Holzschnitte aus der Sammlung der Bayerischen Staatsbibliothek Mo. 26.05.2025 1000 1800 Uhr Bayerische Staatsbibliothek 19 Mai bis 06 Juli Farben Japans Holzschnitte aus der Sammlung der Bayerischen Staatsbibliothek Di. 27.05.2025 1000 1800 Uhr Bayerische Staatsbibliothek 19 Mai bis 06 Juli Farben Japans Holzschnitte aus der Sammlung der Bayerischen Staatsbibliothek Mi. 28.05.2025 1000 1800 Uhr Bayerische Staatsbibliothek 19 Mai bis 06 Juli Farben Japans Holzschnitte aus der Sammlung der Bayerischen Staatsbibliothek Fr. 30.05.2025 1000 1800 Uhr Bayerische Staatsbibliothek 19 Mai bis 06 Juli Farben Japans Holzschnitte aus der Sammlung der Bayerischen Staatsbibliothek So. 01.06.2025 1000 1800 Uhr Bayerische Staatsbibliothek 19 Mai bis 06 Juli Farben Japans Holzschnitte aus der Sammlung der Bayerischen Staatsbibliothek Mo. 02.06.2025 1000 1800 Uhr Bayerische Staatsbibliothek 19 Mai bis 06 Juli Farben Japans Holzschnitte aus der Sammlung der Bayerischen Staatsbibliothek Di. 03.06.2025 1000 1800 Uhr Bayerische Staatsbibliothek 19 Mai bis 06 Juli Farben Japans Holzschnitte aus der Sammlung der Bayerischen Staatsbibliothek Mi. 04.06.2025 1000 1800 Uhr Bayerische Staatsbibliothek 19 Mai bis 06 Juli Farben Japans Holzschnitte aus der Sammlung der Bayerischen Staatsbibliothek Do. 05.06.2025 1000 1800 Uhr Bayerische Staatsbibliothek 19 Mai bis 06 Juli Farben Japans Holzschnitte aus der Sammlung der Bayerischen Staatsbibliothek Fr. 06.06.2025 1000 1800 Uhr Bayerische Staatsbibliothek 19 Mai bis 06 Juli Farben Japans Holzschnitte aus der Sammlung der Bayerischen Staatsbibliothek So. 08.06.2025 1000 1800 Uhr Bayerische Staatsbibliothek 19 Mai bis 06 Juli Farben Japans Holzschnitte aus der Sammlung der Bayerischen Staatsbibliothek Di. 10.06.2025 1000 1800 Uhr Bayerische Staatsbibliothek 19 Mai bis 06 Juli Farben Japans Holzschnitte aus der Sammlung der Bayerischen Staatsbibliothek Mi. 11.06.2025 1000 1800 Uhr Bayerische Staatsbibliothek 19 Mai bis 06 Juli Farben Japans Holzschnitte aus der Sammlung der Bayerischen Staatsbibliothek Do. 12.06.2025 1000 1800 Uhr Bayerische Staatsbibliothek 19 Mai bis 06 Juli Farben Japans Holzschnitte aus der Sammlung der Bayerischen Staatsbibliothek Fr. 13.06.2025 1000 1800 Uhr Bayerische Staatsbibliothek 19 Mai bis 06 Juli Farben Japans Holzschnitte aus der Sammlung der Bayerischen Staatsbibliothek So. 15.06.2025 1000 1800 Uhr Bayerische Staatsbibliothek 19 Mai bis 06 Juli Farben Japans Holzschnitte aus der Sammlung der Bayerischen Staatsbibliothek Mo. 16.06.2025 1000 1800 Uhr Bayerische Staatsbibliothek 19 Mai bis 06 Juli Farben Japans Holzschnitte aus der Sammlung der Bayerischen Staatsbibliothek Di. 17.06.2025 1000 1800 Uhr Bayerische Staatsbibliothek 19 Mai bis 06 Juli Farben Japans Holzschnitte aus der Sammlung der Bayerischen Staatsbibliothek Mi. 18.06.2025 1000 1800 Uhr Bayerische Staatsbibliothek 19 Mai bis 06 Juli Farben Japans Holzschnitte aus der Sammlung der Bayerischen Staatsbibliothek Fr. 20.06.2025 1000 1800 Uhr Bayerische Staatsbibliothek 19 Mai bis 06 Juli Farben Japans Holzschnitte aus der Sammlung der Bayerischen Staatsbibliothek So. 22.06.2025 1000 1800 Uhr Bayerische Staatsbibliothek 19 Mai bis 06 Juli Farben Japans Holzschnitte aus der Sammlung der Bayerischen Staatsbibliothek Mo. 23.06.2025 1000 1800 Uhr Bayerische Staatsbibliothek 19 Mai bis 06 Juli Farben Japans Holzschnitte aus der Sammlung der Bayerischen Staatsbibliothek Di. 24.06.2025 1000 1800 Uhr Bayerische Staatsbibliothek 19 Mai bis 06 Juli Farben Japans Holzschnitte aus der Sammlung der Bayerischen Staatsbibliothek Mi. 25.06.2025 1000 1800 Uhr Bayerische Staatsbibliothek Seitennummerierung Erste Seite 1 Seite 2 Letzte Seite Nächste Seite\n",
      "https://www.muenchen.de/sehenswuerdigkeiten/tourismus\n",
      "us KulturHighlights Perlen der Münchner Kultur Konzertsäle, Museen, Theater HotelÜbersicht Unterkünfte in allen Preislagen buchen Hier im Überblick Sehenswürdigkeiten Bauwerke, Kirchen, Schlösser, Parks So schön ist München München mal anders Eure Stadtführung durch München mit oder ohne Guide LGBTIQ in München Tipps und Informationen für die queere Community Sehenswerte UBahnStationen Kunstwerke im Untergrund Sehenswerte UBahnhöfe Immer einen Besuch wert Museen in München Die wichtigsten Museen und Galerien Münchens Olympiapark Erholen, Staunen, Erleben im weitläufigen Park Besucherservice Tierpark Hellabrunn Infos zu Öffnungszeiten, Eintrittspreisen und Anfahrt ServiceTipps für den MünchenBesuch MVG Infos zu UBahn, Bus und Tram Tickets, Fahrpläne, LiveAuskunft, Mieträder Die Infos Touristeninformation Die wichtigsten InfoPoints Hier gibts Hinweise für Touristen Stadtrundfahrten in München. Eine Übersicht der Anbieter Stadtführungen Bei diesen Anbietern wird die Städtetour zum Erlebnis Umzugsunternehmen in München und Umgebung\n",
      "https://www.muenchen.de/sehenswuerdigkeiten/webcam-live-aus-muenchen-marienplatz-olympiapark-und-mehr\n",
      "Stream mit Aussicht von Altstadt bis Alpen Webcams in München Olympiapark, Marienplatz, Isar und mehr in LiveBildern Unsere Webcams in München zeigen LiveBilder und Wetter vom Marienplatz, Olympiapark, der Isar und der Innenstadt. Bei klarer Sicht sind auch die Alpen zu sehen. Seiteninhalt IsarWebcam Marienplatz Olympiapark Hauptbahnhof Weitere Aktionen Teilen auf Facebook Teilen via WhatsApp Kopieren Wie wird das Wetter in München? Die Aussichten So funktioniert die Webcam Am PCLaptop Ihr könnt zwischen den CamStandorten mit einem Klick auf die Kästen oben links im Bild wechseln. Nach knapp einer Minute wechseln die LiveVideos automatisch zum nächsten Standort. Außerdem könnt ihr bei den WebCams am Marienplatz und im Olympiapark zwischen dem LiveVideo und einem PanoramaBild wählen. Ein Klick auf die Temperatur führt euch zu noch mehr Infos zum Wetter sowie Zeiten für Sonnenaufgang und Sonnenuntergang in München. An mobilen Endgeräten Mit den Pfeilen am Bildrand könnt ihr zum vorherigen bzw. nächsten CamStandort wechseln. Nach knapp einer Minute wechseln die LiveVideos zudem automatisch zum nächsten Standort. IsarWebcam vom Dach des Deutschen Museums Die Isar Münchens Paradies zum Baden, Entspannen und noch viel mehr Deutsches Museum Naturwissenschaft und Technik zum Anfassen St. Maximilian Blickfang am Münchner Isarufer Die katholische Kirche St. Maximilian MarienplatzWebcam Diese Highlights sind zu sehen Vom Alten Rathaus aus blickt unsere Webcam westwärts über den Marienplatz. Auf Münchens zentralem Platz in der Altstadt seht ihr die Mariensäule. Rechts davon steht das imposante Neue Rathaus. Dahinter sind die zwei markanten Türme des Doms Zu Unserer Lieben Frau auch Frauenkirche genannt zu sehen. Beim Linksschwenk der Webcam seht ihr die Pfarrkirche Sankt Peter, deren Turm als Alter Peter bekannt ist. Neues Rathaus So schön ist das Neue Rathaus Frauenkirche Münchens Wahrzeichen Was man zum Dom wissen muss Alter Peter Wieso sich das Steigen von 300 Stufen hier lohnt OlympiaparkWebcam Diese Highlights sind zu sehen Der Olympiaturm ist mit über 291 Metern Höhe Münchens höchstes Gebäude. Von hier schwenkt unsere Webcam von rechts nach links zunächst über das Olympiastadion, die Olympiahalle und die OlympiaSchwimmhalle mit ihrer einzigartigen ZeltdachKonstruktion. Anschließend schweift der Blick über den Olympiasee und Olympiaberg in Richtung Süden, wo bei gutem Wetter die Alpen deutlich zu sehen sind. Gegen 2115 Uhr macht die Webcam den letzten Schwenk und spielt diesen bis Sonnenaufgang. Eure Taxizentrale in München Seit über 100 Jahren ist die Taxi München eG die führende Taxizentrale in München 089 21610 TAXI RUFEN Webcam am Hauptbahnhof Diese Highlights sind zu sehen Auf unserer Webcam am BRHochhaus in der Arnulfstraße unweit des Hauptbahnhofs seht ihr bei einem Schwenk von rechts nach links im Vordergrund die SBahnStammstrecke. Dahinter fällt in Richtung Süden sofort die Theresienwiese Heimat des Oktoberfests und weiterer Veranstaltungen ins Auge. Wer genau hinschaut, kann am rechten Ende der Theresienwiese zwischen den Bäumen auch die BavariaStatue und die Ruhmeshalle von der Seite erkennen. Direkt daneben seht ihr die Kirche St. Paul. Bei guten Sichtverhältnissen sind im Hintergrund die Alpen klar zu sehen. Weiter links folgt die großflächige Dachkonstruktion des Hauptbahnhofs, ehe die Kamera ganz links einen Blick auf die Altstadt mit der Frauenkirche wirft und wieder zurückschwenkt. Hauptbahnhof Was Münchens Knotenpunkt zu bieten hat Theresienwiese Nicht nur zum Oktoberfest ein Highlight Physiotherapie Die Übersicht über Physiotherapeuten Immobiliensuche und Immobilienverkauf in München Zahnärzte in München und Umgebung\n",
      "https://www.muenchen.de/sehenswuerdigkeiten/museen/kunsthalle-muenchen\n"
     ]
    },
    {
     "name": "stderr",
     "output_type": "stream",
     "text": [
      " 33%|███▎      | 4/12 [00:03<00:07,  1.12it/s]"
     ]
    },
    {
     "name": "stdout",
     "output_type": "stream",
     "text": [
      "Kunsthalle München Ein vielfältiges Kunstprogramm im Herzen der Stadt Kunsthalle München Ausstellungen aus Malerei, Fotografie und Design Drei bis vier Ausstellungen zeigt die international renommierte Kunsthalle in den Münchner Fünf Höfen jedes Jahr. Dabei werden alle Facetten der Kunst beleuchtet. Adresse und Öffnungszeiten Theatinerstr. 8 , 80333 München Öffnungszeiten Mo geöffnet 1000 2000 Mo 1000 2000 Di 1000 2000 Mi 1000 2000 Do 1000 2000 Fr 1000 2000 Sa 1000 2000 So 1000 2000 Hinweis An jedem dritten Mittwoch des Monats ist die Ausstellung zur Afterwork bis 22 Uhr geöffnet. Sonderöffnung für Schulklassen jeden Mittwoch von 910 Uhr Anfahrt Kunsthalle München Weitere Aktionen Teilen auf Facebook Teilen via WhatsApp Kopieren Jeffrey Milstein Schaut euch Civilization an Von 11.04.24.8.25 folgt die Kunsthalle München den Spuren der Menschheit rund um den Globus aus dem Blickwinkel von über 100 international renommierten Fotografinnen. Erfahrt mehr Wissenswertes über einen Besuch in der Kunsthalle Das Programm der Kunsthalle München umfasst verschiedenste Epochen und Kunststile Von Malerei über Design und Mode bis zur Fotografie war hier schon Vieles zu sehen. Das Spektrum reicht von Pompeji bis Peter Lindbergh . Was ist geboten? Die Kunsthalle München hat keine eigene Sammlung, sondern veranstaltet Wechselausstellungen. Die inhaltlichen Möglichkeiten sind somit unbegrenzt. Das Themenspektrum reicht von der Kunst der Antike bis zur Gegenwart. Was ist besonders? Sowohl die Architektur des Gebäudes in den Fünf Höfen von Herzog de Meuron , als auch die oft aufwendig inszenierten Kunstausstellungen . Und Dienstags gibts 50 Prozent Rabatt auf alle Eintrittspreise. Auf einen Blick Die wichtigsten Infos zur Kunsthalle München Lage In den Fünf Höfen, zwischen Odeonsplatz und Marienplatz MuseumsKategorie Kunst Kinderprogramm Zu jeder Ausstellung gibts ein umfangreiches Führungsprogramm und Specials für Kinder und Jugendliche. Empfohlene Aufenthaltsdauer 1 bis 2 Stunden Anfahrt Alle SBahnen bzw. U3U6 bis Marienplatz, U3U4U5U6 oder Bus 100 bis Odeonsplatz, Tram 19 bis Theatinerstraße Parken Tiefgarage vor der Oper oder in der Parkgarage am Salvatorplatz Einige bisherige AusstellungsHighlights Zwischen 250.000 bis 300.000 Gäste besuchen die Kunsthalle München jährlich. Sie ist eines der beliebtesten Ausstellungshäuser in ganz Deutschland. Kunst und Kulturen der ganzen Welt finden hier ihren glanzvollen Auftritt, ob Malerei, Skulptur, Grafik, Fotografie, Kunsthandwerk oder Design. Als wichtigstes Kriterium für die Auswahl der Ausstellungsthemen gilt die künstlerische Qualität. Zu den Highlights zählten u.a. bereits Thierry Mugler , Samurai , Velázquez und Spaniens Goldene Zeit , Keith Haring und DixBeckmann sowie die Ausstellung JR Chronicles , die bisher größte Retrospektive des französischen FotoKünstlers JR . Zuletzt war die Ausstellung ViktorRolf. Fashion Statements zu sehen die erste große Retrospektive des niederländischen Designerduos in Deutschland. Previous slide View image in modal View image in modal View image in modal View image in modal View image in modal View image in modal View image in modal View image in modal View image in modal View image in modal View image in modal View image in modal Next slide Führungsprogramm durch die Ausstellungen Die Kunsthalle München bietet zu jeder Ausstellung ein breites Führungsangebot Öffentliche Führungen Die Münchner Volkshochschule bietet zu jeder Ausstellung öffentliche Führungen an Immer am Montag, Mittwoch, Donnerstag und Freitag. AudioFührungen Eine AudioTour in deutscher oder englischer Sprache führt euch anhand ausgewählter Exponate durch die Ausstellung. AfterworkFührungen Jeden dritten Mittwoch im Monat finden ab ca. 18 Uhr AfterworkFührungen statt. Die Ausstellung ist bis 22 Uhr geöffnet. Kuratorinnenführungen Die Kuratorinnen führen an mehreren Terminen selbst durch die aktuelle Ausstellung. Private Führungen Die Kunsthalle München vermittelt auch für private Gruppen Kunsthistorikerinnen oder Expertinnen aus verschiedenen Fachbereichen für Touren auf Deutsch oder in ausgewählten Fremdsprachen. Eine Anmeldung vorab ist erforderlich. Kinderprogramm und Begleitheft Robert Haas, Kunsthalle München Die jungen Besucherinnen werden in der Kunsthalle München spielerisch durch die aktuelle Ausstellung geführt Für Kinder von 8 bis 12 Jahren gibt es an der Kasse ein kostenloses Heft, das spielerisch durch die Ausstellung führt. Zudem gibt es ein regelmäßiges Führungsprogramm. Angeboten werden Kinderführungen in den Ferien für Kinder im Alter von 6 bis 12 Jahren . Kunst mit Baby Eine Stunde raus aus dem Alltagstrott und rein ins Museum. Babygerechte Führungen für Vätern und Mütter mit Kindern bis ein Jahr Sonderöffnungszeiten für Schulklassen Für Schulgruppen gibt es nach Anmeldung zusätzliche Termine mittwochs von 9 bis 10 Uhr. Museumsshop und Café Das CaféRestaurant Theatiner 8 bietet einen tollen Ausblick auf die Hängenden Gärten und die besondere Architektur des Gebäudes. Im Shop der Kunsthalle München findet man passend zur jeweiligen Ausstellung ein eigens zusammengestelltes Sortiment an Produkten. Eintrittspreise der Kunsthalle München Die Eintrittspreise der Kunsthalle München richten sich immer nach der jeweiligen Ausstellung. Ermäßigungen gibt es für Seniorinnen, Kinder und Jugendliche, Schülerinnen, Studierende, Auszubildende sowie Arbeitslose und Menschen mit Behinderung. Am Dienstag reduzieren sich alle Eintrittspreise um die Hälfte . Veranstaltungen und ClubMusik, Afterwork Co Michael Naumann Tiefenpixel Ausstellungsansicht Thierry Mugler Couturissime, Kunsthalle München Zu jeder Ausstellung gibt es ein umfangreiches Begleitprogramm Vorträge Talks mit interessanten Referentinnen beleuchten verschiedene Aspekte rund um das Thema der Ausstellung. AfterworkKH Jeden dritten Mittwoch im Monat die Ausstellung bis 22 Uhr besuchen und den Abend anschließend im CaféRestaurant Theatiner8 ausklingen lassen. ReAct! Kunst Club Einmal pro Ausstellung tun sich zudem die Kunsthalle München und der Club Harry Klein zusammen, um Kunst neu erlebbar zu machen. Die Ausstellung ist bis 23 Uhr geöffnet, Visual Artists und DJs sorgen auf der Tanzfläche im Café der Kunsthalle für den passenden Sound bis Mitternacht. Danach wird im Harry Klein bis spät in die Nacht weitergefeiert. OnlineAngebot Unter www.kunsthallemuc.de sind unter anderem die Ausstellungen Thierry Mugler Couturissime, Mit Leib und Seele. Münchner Rokoko und Du bist Faust. Goethes Drama in der Kunst als 360Rundgang virtuell erlebbar. Architektur Herzog de Meurons Museumsgebäude in den Fünf Höfen Kunsthalle München Auch die Architektur des Museumsgebäudes ist außergewöhnlich und preisgekrönt Die Kunsthalle München befindet sich im zweiten Obergeschoss der Fünf Höfe. Für die Architektur der Kunsthalle München wie auch für die gesamten Fünf Höfe sind die Schweizer Architekten Herzog de Meuron verantwortlich. Die Blickwinkel, etwa auf den Perusahof oder die Salvatorpassage, sind schon beim Gang zur Kunsthalle ungewohnt. Auch vom Café oder Shop aus hat man eine interessante Perspektive auf die außergewöhnliche Architektur der Fünf Höfe. Ihr Ensemble mitten in der Münchner Altstadt ist ein preisgekröntes Beispiel für die neuere Architektur in München. Barrierefreiheit und Angebote für Menschen mit Behinderung Sämtliche Räumlichkeiten der Kunsthalle München sind barrierefrei zugänglich . Zwei Aufzüge gewährleisten den Zugang zu den Ausstellungräumen, dem Shop, dem Café sowie der Garderobe und den Toiletten. BehindertenParkplätze in der Nähe sind vorhanden In der Prannerstraße 7 sowie am Salvatorplatz 2. Ein behindertengerechtes WC befindet sich direkt auf der Ausstellungsebene. Führungen Induktionsschleifen für Hörgeräte für den Audioguide sind auf Anfrage erhältlich. Alle Ausstellungstexte und Beschriftungen sind kontrastreich, gut lesbar und werden auch in einfacher Sprache angeboten. MuseumsGeschichte Eröffnung im Jahr 1985 Kunsthalle München Seit 2001 befindet sich die Kunsthalle München in ihren jetzigen Räume in den Fünf Höfen Die HypoKulturstiftung wurde im Jahr 1983 anlässlich des 150jährigen Firmenjubiläums der damaligen Wechsel und Hypothekenbank gegründet. Am 14.6.1985 öffnete dann die Kunsthalle München ihre Pforten, die sich auch damals schon zwischen Marien und Odeonsplatz befand. Im Jahr 2001 wurden dann die jetzigen Räume in den Fünf Höfen bezogen, deren Ausstellungsfläche ungefähr ein Drittel größer ist als in der bisherigen Kunsthalle. In Kooperation mit dem Kulturreferat und den Museen Dieser Beitrag über die Münchner Museen wird vom Kulturreferat der Landeshauptstadt München gefördert und ist in Kooperation mit der Landesstelle für die nichtstaatlichen Museen in Bayern konzipiert worden. Die Inhalte wurden zwischen den beteiligten Museen und , dem offiziellen Stadtportal, abgestimmt. Das könnte euch auch interessieren Münchens Top Sehenswürdigkeiten Die Highlights von Marienplatz bis Frauenkirche So wird das Wetter Sonne oder Regen? Die Wetterprognose Webcams mit LiveBildern in München Was am Marienplatz, im Olympiapark und an der Isar zu sehen ist Auf einen Blick Kunsthalle München Theatinerstr. 8 80333 München Tel 4989224412 kontaktkunsthallemuc.de Korrektur vorschlagen Öffnungszeiten This is a carousel with rotating cards. Use the previous and next buttons to navigate, and Enter to activate cards. Vorheriger Slide Mo 1000 2000 Di 1000 2000 Mi 1000 2000 Do 1000 2000 Fr 1000 2000 Sa 1000 2000 So 1000 2000 Nächster Slide 1 30 von 98 Veranstaltungen 19 Mai bis 24 Aug Civilization Wie wir heute leben Mo. 19.05.2025 1000 2000 Uhr Kunsthalle München 19 Mai bis 24 Aug Civilization Wie wir heute leben Di. 20.05.2025 1000 2000 Uhr Kunsthalle München 19 Mai bis 24 Aug Civilization Wie wir heute leben Mi. 21.05.2025 1000 2000 Uhr Kunsthalle München 19 Mai bis 24 Aug Civilization Wie wir heute leben Do. 22.05.2025 1000 2000 Uhr Kunsthalle München 19 Mai bis 24 Aug Civilization Wie wir heute leben Fr. 23.05.2025 1000 2000 Uhr Kunsthalle München 19 Mai bis 24 Aug Civilization Wie wir heute leben Sa. 24.05.2025 1000 2000 Uhr Kunsthalle München 19 Mai bis 24 Aug Civilization Wie wir heute leben So. 25.05.2025 1000 2000 Uhr Kunsthalle München 19 Mai bis 24 Aug Civilization Wie wir heute leben Mo. 26.05.2025 1000 2000 Uhr Kunsthalle München 19 Mai bis 24 Aug Civilization Wie wir heute leben Di. 27.05.2025 1000 2000 Uhr Kunsthalle München 19 Mai bis 24 Aug Civilization Wie wir heute leben Mi. 28.05.2025 1000 2000 Uhr Kunsthalle München 19 Mai bis 24 Aug Civilization Wie wir heute leben Do. 29.05.2025 1000 2000 Uhr Kunsthalle München 19 Mai bis 24 Aug Civilization Wie wir heute leben Fr. 30.05.2025 1000 2000 Uhr Kunsthalle München 19 Mai bis 24 Aug Civilization Wie wir heute leben Sa. 31.05.2025 1000 2000 Uhr Kunsthalle München 19 Mai bis 24 Aug Civilization Wie wir heute leben So. 01.06.2025 1000 2000 Uhr Kunsthalle München 19 Mai bis 24 Aug Civilization Wie wir heute leben Mo. 02.06.2025 1000 2000 Uhr Kunsthalle München 19 Mai bis 24 Aug Civilization Wie wir heute leben Di. 03.06.2025 1000 2000 Uhr Kunsthalle München 19 Mai bis 24 Aug Civilization Wie wir heute leben Mi. 04.06.2025 1000 2000 Uhr Kunsthalle München 19 Mai bis 24 Aug Civilization Wie wir heute leben Do. 05.06.2025 1000 2000 Uhr Kunsthalle München 19 Mai bis 24 Aug Civilization Wie wir heute leben Fr. 06.06.2025 1000 2000 Uhr Kunsthalle München 19 Mai bis 24 Aug Civilization Wie wir heute leben Sa. 07.06.2025 1000 2000 Uhr Kunsthalle München 19 Mai bis 24 Aug Civilization Wie wir heute leben So. 08.06.2025 1000 2000 Uhr Kunsthalle München 19 Mai bis 24 Aug Civilization Wie wir heute leben Mo. 09.06.2025 1000 2000 Uhr Kunsthalle München 19 Mai bis 24 Aug Civilization Wie wir heute leben Di. 10.06.2025 1000 2000 Uhr Kunsthalle München 19 Mai bis 24 Aug Civilization Wie wir heute leben Mi. 11.06.2025 1000 2000 Uhr Kunsthalle München 19 Mai bis 24 Aug Civilization Wie wir heute leben Do. 12.06.2025 1000 2000 Uhr Kunsthalle München 19 Mai bis 24 Aug Civilization Wie wir heute leben Fr. 13.06.2025 1000 2000 Uhr Kunsthalle München 19 Mai bis 24 Aug Civilization Wie wir heute leben Sa. 14.06.2025 1000 2000 Uhr Kunsthalle München 19 Mai bis 24 Aug Civilization Wie wir heute leben So. 15.06.2025 1000 2000 Uhr Kunsthalle München 19 Mai bis 24 Aug Civilization Wie wir heute leben Mo. 16.06.2025 1000 2000 Uhr Kunsthalle München 19 Mai bis 24 Aug Civilization Wie wir heute leben Di. 17.06.2025 1000 2000 Uhr Kunsthalle München Seitennummerierung Erste Seite 1 Seite 2 Seite 3 Seite 4 Letzte Seite Nächste Seite\n",
      "https://www.muenchen.de/sehenswuerdigkeiten/museen/zentralinstitut-fuer-kunstgeschichte\n"
     ]
    },
    {
     "name": "stderr",
     "output_type": "stream",
     "text": [
      " 42%|████▏     | 5/12 [00:05<00:08,  1.19s/it]"
     ]
    },
    {
     "name": "stdout",
     "output_type": "stream",
     "text": [
      "ZI Kunsthistorisches Forschungsinstitut und wissenschaftlicher Austausch Zentralinstitut für Kunstgeschichte München Infos zu Bibliothek und Photothek Das Zentralinstitut für Kunstgeschichte ist das einzige außeruniversitäre kunsthistorische Forschungsinstitut in Deutschland. Es beschäftigt sich mit der Geschichte der Kunst im globalen Kontext. Adresse und Öffnungszeiten KatharinavonBoraStr. 10 , 80333 München Öffnungszeiten Mo geöffnet 0900 2000 Mo 0900 2000 Di 0900 2000 Mi 0900 2000 Do 0900 2000 Fr 0900 2000 Sa geschlossen So geschlossen Hinweis Angegeben sind die Öffnungszeiten der Bibliothek Anfahrt Helena Heilig Weitere Aktionen Teilen auf Facebook Teilen via WhatsApp Kopieren Zentralinstitut für Kunstgeschichte App MunichArtToGo Geht mit der neuen App des ZI auf eine interaktive Entdeckungsreise durch die Kunststadt München von 1800 bis heute. Mehr Infos zur App Warum lohnt sich ein Besuch im ZI in München? Gunnar Menzel Das Zentralinstitut für Kunstgeschichte hat seinen Sitz im ehemaligen Verwaltungsbau der NSDAP Das Zentralinstitut für Kunstgeschichte am Münchner Königsplatz ist ein Ort der kunsthistorischen Forschung. Was ist geboten? Das ZI ist mit einer der weltweit bedeutendsten und größten kunsthistorischen Fachbibliotheken , den Bildbeständen seiner Photothek sowie mit zahlreichen international genutzten OnlineAngeboten und Datenbanken nicht nur ein bedeutendes Forum des wissenschaftlichen Austauschs, sondern auch eine zentrale ServiceInstitution. Es bietet herausragende Arbeitsmöglichkeiten für die kunsthistorische Recherche. Was ist besonders? Das Zentralinstitut für Kunstgeschichte hat seit 1947 seinen Sitz in einem historischen Gebäude am Königsplatz, dem ehemaligen Verwaltungsbau der NSDAP. Bei einem Besuch könnt ihr euch vor Ort über die Geschichte des Hauses und des Parteiviertels informieren. Das Münchner Zentralinstitut für Kunstgeschichte auf einen Blick Lage Im Kunstareal am Königsplatz MuseumsKategorie Kunst und Kultur Empfohlene Aufenthaltsdauer Individuell Anfahrt Mit der Tram 27 und 28 bis Haltestelle Karolinenplatz, UBahn U2 bis Königsplatz oder SBahn bis Karlsplatz Parken Es stehen keine eigenen Parkplätze zur Verfügung Bibliothek und Photothek Helena Heilig Bibliothek im Zentralinstitut für Kunstgeschichte Das ZI ist mit einer der weltweit bedeutendsten und größten kunsthistorischen Fachbibliotheken , den Bildbeständen seiner Photothek sowie mit zahlreichen international genutzten OnlineAngeboten und Datenbanken auch eine zentrale ServiceInstitution. Die großen Bestände der Bibliothek und Photothek des ZI sowie die beständige Publikation wissenschaftlicher Beiträge und Chroniken erweitern die Basis für ein breites Spektrum kunsthistorischer Forschung. Ausstellungen und Führungen durchs Gebäude Das Zentralinstitut für Kunstgeschichte zeigt wechselnde Sonderausstellungen zu verschiedenen Themen der Kunstgeschichte , bei denen es unter anderem auch die Bestände der Bibliothek und Photothek der Öffentlichkeit präsentiert. Zudem finden regelmäßig öffentliche Führungen zur Geschichte des ehemaligen NSDAPParteizentrums mit Rundgang durch das Gebäude statt. Auch Gruppenführungen können vereinbart werden. Veranstaltungen und Helena Heilig In wechselnden Sonderausstellungen und Veranstaltungen präsentiert das ZI seine Bestände Das ZI bietet ein kontinuierliches dichtes Programm öffentlicher Veranstaltungen für das kunsthistorische Fachpublikum an Als national wie international vernetzte Forschungseinrichtung ist das Institut Ausrichter zahlreicher internationaler Tagungen und Kolloquien . Regelmäßige Vortragsreihen und Einzelvorträge in und ausländischer Referentinnen geben Einblicke in den aktuellen Stand der kunsthistorischen Forschung. Die Diskussion neuer Ergebnisse mit dem Fachpublikum macht die ZIVeranstaltungen auch zu einem Instrument der Forschungsförderung. Barrierefreiheit und Angebote für Menschen mit Behinderung Das ZI bietet einen barrierefreien Zugang über einen Außenaufzug am Südtor , der von den Mitarbeiterinnen bedient wird . Auch in den eingeschränkt barrierefrei zugänglichen Bereichen der Bibliothek und Photothek könnt ihr euch gerne vom Personal unterstützen lassen. Barrierefreie Toiletten befinden sich im 1. OG. Eintrittspreise und Registrierung Der Eintritt ist kostenfrei . Bei der erstmaligen Anmeldung zur Bibliothek werden benötigt Personalausweis und geeigneter Nachweis der wissenschaftlichen oder beruflichen Beschäftigung bzw. Studierendenausweis oder Immatrikulationsbescheinigung. OnlineAngebot Helena Heilig Auch online bietet das ZI breit gefächerte Informationsquellen und Recherchemöglichkeiten Mit zahlreichen international genutzten OnlineAngeboten und Datenbanken bietet das ZI herausragende Arbeitsmöglichkeiten für die kunsthistorische Recherche App MunichArtToGo Die App MunichArtToGo ermöglicht, den urbanen Raum Münchens mit Hilfe der einzigartigen Quellen und Bildbestände des ZI neu zu erkunden direkt vor Ort oder von zuhause aus. In kurzen Stories werden Geschichten zur Kunststadt München präsentiert. Dabei lässt MunichArtToGo historische Orte und Konstellationen erfahrbar werden und macht Zusammenhänge von Vergangenheit und Gegenwart sichtbar Blog des ZI Hier schreiben am ZI tätige Wissenschaftlerinnen, Bibliothekarinnen, Hilfskräfte, Doktoranden, Fellows sowie wissenschaftliche Gäste über ihre Forschungsansätze, Forschungsideen und das aktuelle Geschehen www.zispotlight.de YouTube Auf dem YouTubeKanal des ZI finden sich Aufzeichnungen vergangener Veranstaltungen und Kurzfilme zu Forschungsprojekten und Ausstellungen. Google Arts Culture Mit über 16.000 historischen MünchenFotos sowie einer großen Auswahl an digitalisierten historischer Ansichten und Fotografien von Bauwerken weiterer deutscher Städte präsentiert sich die Photothek des ZI auf Google Arts Culture . Digitale Sammlung Digitalisate seltener Bücher, Digitalisierungsprojekte und ZIPublikationen im open access finden sich hier . Böhler re Die Datenbank Böhler re ist eine digitale Edition des Archivs der Kunsthandlung Julius Böhler. Da die Kunsthandlung Böhler auch in der Zeit des Nationalsozialismus regen Handel betrieb, ist das Quellenmaterial für die Suche nach NSverfolgungsbedingt entzogenen Kulturgütern im Rahmen der Provenienzforschung von herausragender Bedeutung. GDK Re Die bildbasierte Forschungsplattform GDK Re publiziert unbekannte fotografische Dokumente zur staatlich geförderten Kunst der NSZeit und den Großen Deutschen Kunstausstellungen 19371944 in München. RDK Labor Eine OnlinePlattform zur kunsthistorischen Objektforschung, hervorgegangen aus dem Reallexikon zur Deutschen Kunstgeschichte. Hier werden ständig neue Artikel aus den Bereichen Architektur, Bildende Künste, Kunsthandwerk und Ikonographie sowie zu Materialien und Techniken veröffentlicht. Geschichte des Zentralinstituts für Kunstgeschichte Zentralinstitut für Kunstgeschichte Anlieferung von Kunstwerken an der Südpforte des Collecting Point, 194546 Das Zentralinstitut für Kunstgeschichte hat seit 1947 seinen Sitz in einem historischen Gebäude am Königsplatz, dem ehemaligen Verwaltungsbau der NSDAP. Von Frühjahr 1933 an gingen mehr als fünfzig Gebäude entlang der Brienner Straße, Arcisstraße, Gabelsbergerstraße, Barer Straße und Karlstraße sowie angrenzender Straßen in den Besitz der NSDAP über. Sie wurden abgerissen oder umgebaut und es entstand ein neues Parteiviertel am Königsplatz Ein monumentales Forum der Bürokratie und des Kults. Nach 1945 nutzte die USMilitärregierung die kaum beschädigten Großbauten zunächst als Central Art Collecting Point, als Sammelstelle für die NSBeutekunst. Später wurden die Gebäude kulturellen Institutionen überlassen. Seit mehr als 20 Jahren beschäftigt sich das Institut intensiv mit der Kunstgeschichte des Nationalsozialismus und der unmittelbaren Nachkriegszeit. 2015 wurde zudem in unmittelbarer Nachbarschaft des Zentralinstituts für Kunstgeschichte am Standort des Braunen Hauses an der Brienner Straße das NSDokumentationszentrum München eröffnet. In Kooperation mit dem Kulturreferat und den Museen Dieser Beitrag über die Münchner Museen wird vom Kulturreferat der Landeshauptstadt München gefördert und ist in Kooperation mit der Landesstelle für die nichtstaatlichen Museen in Bayern konzipiert worden. Die Inhalte wurden zwischen den beteiligten Museen und , dem offiziellen Stadtportal, abgestimmt. Auf einen Blick Zentralinstitut für Kunstgeschichte KatharinavonBoraStr. 10 80333 München Tel 498928927556 Fax 498928927607 infozikg.eu Korrektur vorschlagen Öffnungszeiten This is a carousel with rotating cards. Use the previous and next buttons to navigate, and Enter to activate cards. Vorheriger Slide Mo 0900 2000 Di 0900 2000 Mi 0900 2000 Do 0900 2000 Fr 0900 2000 Sa geschlossen So geschlossen Nächster Slide 1 30 von 32 Veranstaltungen 19 Mai bis 04 Juli Die Unterlagen befinden sich im Zustand der Ablage Mo. 19.05.2025 1000 2000 Uhr Zentralinstitut für Kunstgeschichte 19 Mai bis 04 Juli Die Unterlagen befinden sich im Zustand der Ablage Di. 20.05.2025 1000 2000 Uhr Zentralinstitut für Kunstgeschichte 19 Mai bis 04 Juli Die Unterlagen befinden sich im Zustand der Ablage Mi. 21.05.2025 1000 2000 Uhr Zentralinstitut für Kunstgeschichte 19 Mai bis 04 Juli Die Unterlagen befinden sich im Zustand der Ablage Do. 22.05.2025 1000 2000 Uhr Zentralinstitut für Kunstgeschichte 19 Mai bis 04 Juli Die Unterlagen befinden sich im Zustand der Ablage Fr. 23.05.2025 1000 2000 Uhr Zentralinstitut für Kunstgeschichte 19 Mai bis 04 Juli Die Unterlagen befinden sich im Zustand der Ablage Mo. 26.05.2025 1000 2000 Uhr Zentralinstitut für Kunstgeschichte 19 Mai bis 04 Juli Die Unterlagen befinden sich im Zustand der Ablage Di. 27.05.2025 1000 2000 Uhr Zentralinstitut für Kunstgeschichte 19 Mai bis 04 Juli Die Unterlagen befinden sich im Zustand der Ablage Mi. 28.05.2025 1000 2000 Uhr Zentralinstitut für Kunstgeschichte 19 Mai bis 04 Juli Die Unterlagen befinden sich im Zustand der Ablage Fr. 30.05.2025 1000 2000 Uhr Zentralinstitut für Kunstgeschichte 19 Mai bis 04 Juli Die Unterlagen befinden sich im Zustand der Ablage Mo. 02.06.2025 1000 2000 Uhr Zentralinstitut für Kunstgeschichte 19 Mai bis 04 Juli Die Unterlagen befinden sich im Zustand der Ablage Di. 03.06.2025 1000 2000 Uhr Zentralinstitut für Kunstgeschichte 19 Mai bis 04 Juli Die Unterlagen befinden sich im Zustand der Ablage Mi. 04.06.2025 1000 2000 Uhr Zentralinstitut für Kunstgeschichte 19 Mai bis 04 Juli Die Unterlagen befinden sich im Zustand der Ablage Do. 05.06.2025 1000 2000 Uhr Zentralinstitut für Kunstgeschichte 19 Mai bis 04 Juli Die Unterlagen befinden sich im Zustand der Ablage Fr. 06.06.2025 1000 2000 Uhr Zentralinstitut für Kunstgeschichte 19 Mai bis 04 Juli Die Unterlagen befinden sich im Zustand der Ablage Di. 10.06.2025 1000 2000 Uhr Zentralinstitut für Kunstgeschichte 19 Mai bis 04 Juli Die Unterlagen befinden sich im Zustand der Ablage Mi. 11.06.2025 1000 2000 Uhr Zentralinstitut für Kunstgeschichte 19 Mai bis 04 Juli Die Unterlagen befinden sich im Zustand der Ablage Do. 12.06.2025 1000 2000 Uhr Zentralinstitut für Kunstgeschichte 19 Mai bis 04 Juli Die Unterlagen befinden sich im Zustand der Ablage Fr. 13.06.2025 1000 2000 Uhr Zentralinstitut für Kunstgeschichte 19 Mai bis 04 Juli Die Unterlagen befinden sich im Zustand der Ablage Mo. 16.06.2025 1000 2000 Uhr Zentralinstitut für Kunstgeschichte 19 Mai bis 04 Juli Die Unterlagen befinden sich im Zustand der Ablage Di. 17.06.2025 1000 2000 Uhr Zentralinstitut für Kunstgeschichte 19 Mai bis 04 Juli Die Unterlagen befinden sich im Zustand der Ablage Mi. 18.06.2025 1000 2000 Uhr Zentralinstitut für Kunstgeschichte 19 Mai bis 04 Juli Die Unterlagen befinden sich im Zustand der Ablage Fr. 20.06.2025 1000 2000 Uhr Zentralinstitut für Kunstgeschichte 19 Mai bis 04 Juli Die Unterlagen befinden sich im Zustand der Ablage Mo. 23.06.2025 1000 2000 Uhr Zentralinstitut für Kunstgeschichte 19 Mai bis 04 Juli Die Unterlagen befinden sich im Zustand der Ablage Di. 24.06.2025 1000 2000 Uhr Zentralinstitut für Kunstgeschichte 19 Mai bis 04 Juli Die Unterlagen befinden sich im Zustand der Ablage Mi. 25.06.2025 1000 2000 Uhr Zentralinstitut für Kunstgeschichte 19 Mai bis 04 Juli Die Unterlagen befinden sich im Zustand der Ablage Do. 26.06.2025 1000 2000 Uhr Zentralinstitut für Kunstgeschichte 19 Mai bis 04 Juli Die Unterlagen befinden sich im Zustand der Ablage Fr. 27.06.2025 1000 2000 Uhr Zentralinstitut für Kunstgeschichte 19 Mai bis 04 Juli Die Unterlagen befinden sich im Zustand der Ablage Mo. 30.06.2025 1000 2000 Uhr Zentralinstitut für Kunstgeschichte 19 Mai bis 04 Juli Die Unterlagen befinden sich im Zustand der Ablage Di. 01.07.2025 1000 2000 Uhr Zentralinstitut für Kunstgeschichte 19 Mai bis 04 Juli Die Unterlagen befinden sich im Zustand der Ablage Mi. 02.07.2025 1000 2000 Uhr Zentralinstitut für Kunstgeschichte Seitennummerierung Erste Seite 1 Seite 2 Letzte Seite Nächste Seite\n",
      "https://www.muenchen.de/sehenswuerdigkeiten/museen/museum-brandhorst\n"
     ]
    },
    {
     "name": "stderr",
     "output_type": "stream",
     "text": [
      " 50%|█████     | 6/12 [00:06<00:07,  1.32s/it]"
     ]
    },
    {
     "name": "stdout",
     "output_type": "stream",
     "text": [
      "Museum Brandhorst Zeitgenössische Kunst in Münchens Zentrum Museum Brandhorst im Kunstareal Infos zu Ausstellung, Führung und Café In einem bunten Kunstbau mitten im Münchner Kunstareal präsentiert das Museum Brandhorst Werke zeitgenössischer Künstlerinnen, unter anderem von Andy Warhol und Cy Twombly. Adresse und Öffnungszeiten Theresienstr. 35a , 80333 München Öffnungszeiten geschlossen Mo geschlossen Di 1000 1800 Mi 1000 1800 Do 1000 2000 Fr 1000 1800 Sa 1000 1800 So 1000 1800 Hinweis An folgenden Feiertagen geschlossen Faschingsdienstag, Tag der Arbeit, Heiligabend, Erster Weihnachtstag, Silvester Anfahrt Andreas Lechtape, Museum Brandhorst Weitere Aktionen Teilen auf Facebook Teilen via WhatsApp Kopieren Warum lohnt sich ein Besuch im Museum Brandhorst? Museum Brandhorst Besucherinnen vor den Werken von Cy Twombly im Rosensaal des Museums Brandhorst Die spektakuläre MuseumsFassade aus 36.000 Keramikstäben kennt in München jeder doch was verbirgt sich dahinter? Was ist geboten? Im Museum Brandhorst erlebt ihr Spitzenwerke der Kunst von den 1960erJahren bis heute. Die Sammlung beherbergt über 1.200 Werke internationaler Künstlerinnen des 20. und 21. Jahrhunderts. Die Sammlung und das Programm des Museums stehen für eine tiefgehende Beschäftigung mit einzelnen künstlerischen Positionen und für die intensive Auseinandersetzung mit zentralen Fragestellungen der Kunst von heute. Was ist das Besondere? Seit seiner Eröffnung 2009 hat sich das Haus als einer der zentralen Orte für Gegenwartskunst in Deutschland etabliert. Als besonders beeindruckend gelten die vielen Sammlungswerke von Andy Warhol und Cy Twombly. Museum Brandhorst Die wichtigsten Infos auf einen Blick Lage Im Kunstareal unweit von der Universität MuseumsKategorie Kunstmuseum Kinderprogramm Familienführungen, Führungen für Kitas, Kindergärten und Schulen sowie ein vielseitiges Kunstvermittlungsprogramm für Kinder und Jugendliche Empfohlene Aufenthaltsdauer 1 bis 3 Stunden Anfahrt Tram 27 und 28 bis Pinakotheken, U2 bis Königsplatz oder Theresienstraße, U3U6 bis Odeonsplatz oder Universität und U4U5 bis Odeonsplatz Parken Tiefgarage der Amalienpassage oder BCG Parkhaus Daueraustellung Cy Twombly Museum Brandhorst Der beeindruckende LepantoSaal wurde nach den Vorgaben des Künstlers Cy Twombly konzipiert Den Schwerpunkt im Museum Brandhorst bildet die europaweit größte Kollektion von Werken Andy Warhols und weltweit einzigartige Bestände des Amerikaners Cy Twombly. Seine Arbeiten prägten den abstrakten Expressionismus . Dazu gehören Malereien, Zeichnungen, Fotografien und Objekte groß oder klein. Was ihr sehen müsst Die 12 Bilder aus Cy Twomblys Reihe Lepanto Der Saal, in dem die Werke ausgestellt sind, wurde nach den Wünschen des Künstlers höchstpersönlich eingerichtet. Der monumentale LepantoZyklus ist ein Hauptwerk Cy Twomblys, bestehend aus zwölf Gemälden, die dauerhaft im LepantoSaal im Museum Brandhorst ausgestellt werden. Ein weiteres Highlight ist der RosenSaal. Die dort gezeigten Gemälde mit bunten Rosenmotiven hat der Künstler eigens für den Raum im Museum Brandhorst 2008 gemalt. Die Werke der NeoAvantgarde Ein weiterer Schwerpunkt liegt auf Künstlerinnen der Neoavantgarde der 1960er und 1970erJahre und der Postmoderne sowie der internationalen zeitgenössischen Malerei. Wechselnde Einzelausstellungen stellen zudem bedeutende künstlerische Positionen, wie zuletzt Lucy McKenzie oder Alexandra Bircken, in den Vordergrund. Previous slide View image in modal View image in modal View image in modal View image in modal View image in modal View image in modal View image in modal View image in modal Next slide Führungen, Workshops und Kinderprogramm Museum Brandhorst Ein umfangreiches Führungs und WorkshopProgramm vervollständigt das Museumsangebot Öffentliche Führungen durch Dauer und Sonderausstellungen Private Familienführungen für Erwachsene mit Kindern Pädagogische Führungen für Kitas, Kindergärten und Schulen Vielseitiges Kunstvermittlungsprogramm mit wechselnden Veranstaltungen für Kinder und Jugendliche PopUpFactory Workshops für Familien zum aktiven und kreativen Gestalten, Austausch über Kunst, die Ausstellung und deren Bezug zu gesellschaftlichen Themen PostcARTs und Kinderkreativhefte laden dazu ein, die Sammlung spielerisch kennenzulernen Architektur des Museum Brandhorst Museum Brandhorst Die spektakuläre MuseumsFassade aus 36.000 Keramikstäben kennt in München jeder Das zweigeschossige Gebäude der Berliner Architekten Sauerbruch Hutton ist mit seiner bunten Fassade ein spektakuläres Highlight des Kunstareals. In 23 verschiedenen Farben glasiert, greifen 36.000 Keramikstäbe die umliegenden Häuserfronten der Maxvorstadt auf. Innen wird das Museum Brandhorst auf drei Ausstellungsflächen bespielt, die durch eine mit Eichenholz verkleidete Treppe miteinander verbunden sind. Museumscafé und Buchshop Das Café im Zebra bietet nach dem Besuch eine Verschnaufpause sowie Kaffee, Kuchen, Snacks und kalte Getränke an. Im Museum findet ihr außerdem die Buchhandlung Walther König, Fachbuchhandlung und Verlag für Kunst, Fotografie, Architektur, Design und Ästhetische Theorie. Im Museum Brandhorst wird eine große Auswahl an internationalen Buchtiteln angeboten. Eintrittspreise regulär 7 Euro ermäßigt 5 Euro sonntags 1 Euro Für Kinder und Jugendliche bis 18 Jahren und für Studierende der Fachrichtung Kunst ist die Ausstellung kostenfrei zugänglich. Barrierefreiheit und Angebote für Menschen mit Behinderung Das Museum Brandhorst ist barrierefrei zugänglich . Es sind zwei Personenaufzüge vorhanden, die den Zutritt zu allen Ausstellungsebenen ermöglichen und den Eingangsbereich mit dem Garderobenbereich verbinden. Es gibt zwei BehindertenParkplätze vor dem Haupteingang des Museum Brandhorst Rollstuhlgerechte Toiletten befinden sich im Obergeschoss, hinter der Lounge, im Untergeschoss bei der Garderobe sowie neben dem Medienraum. Geschichte des Museum Brandhorst Haydar Koypuinar Im Münchner Kunstareal unweit von der Universität zeigt das Museum Brandhorst Spitzenwerke der Kunst von den 1960erJahren bis heute Mitten in Münchens pulsierender Maxvorstadt lädt das Museum Brandhorst in einem einzigartigen Ambiente zur Beschäftigung mit der Kunst seit 1960 ein. Internationale Kunststars und junge zukunftsweisende Positionen sind unter einem Dach vereint. Seine Wurzeln hat das Museum in der privaten Sammlung von Anette und Udo Brandhorst. Dem KunstsammlerPaar ist es zu verdanken, dass das heutige Museum mit internationalen Kunstwerken reich gefüllt ist. Seit den 1970erJahren sammelten die beiden zeitgenössische Kunst. Darunter befinden sich hauptsächlich Gemälde, Zeichnungen und Skulpturen. Fotografien. Medienarbeiten und Installationen vervollständigten erst später die Sammlung und bilden nur einen kleinen Anteil. 1993 in eine Stiftung überführt, wurde die Sammlung im Mai 2009 im Museum Brandhorst der Öffentlichkeit zugänglich gemacht und ist seitdem Teil der Bayerischen Staatsgemäldesammlungen. Die fruchtbare Kooperation zwischen dem Freistaat Bayern und der Udo und Anette Brandhorst Stiftung setzt sich fort Während der Staat den Betrieb des Hauses garantiert, ermöglicht die Stiftung die kontinuierliche Erweiterung der Sammlung. In Kooperation mit dem Kulturreferat und den Museen Dieser Beitrag über die Münchner Museen wird vom Kulturreferat der Landeshauptstadt München gefördert und ist in Kooperation mit der Landesstelle für die nichtstaatlichen Museen in Bayern konzipiert worden. Die Inhalte wurden zwischen den beteiligten Museen und , dem offiziellen Stadtportal, abgestimmt. Das könnte euch auch interessieren Münchens Top Sehenswürdigkeiten Die Highlights von Marienplatz bis Frauenkirche So wird das Wetter Sonne oder Regen? Die Wetterprognose Webcams mit LiveBildern in München Was am Marienplatz, im Olympiapark und an der Isar zu sehen ist Auf einen Blick Museum Brandhorst Theresienstr. 35a 80333 München Tel 4989238052286 infomuseumbrandhorst.de Korrektur vorschlagen Barrierefreier Zugang Eingangstüre Automatik Ebenerdiger Zugang vorhanden vor dem Museum Tram 27, 28, N27, Bus 58, 68, 100 Pinakotheken, Bus 68, 100 MaxvorstadtSammlung Brandhorst Barrierefreiheit im Gebäude Aufzüge vorhanden Barrierefreies WC vorhanden im UG und OG Barrierefreiheit weitere Information Verleih von Roll und Klappstühlen sowie von Gehstöcken Audioguide im Eintrittspreis enthalten Öffnungszeiten This is a carousel with rotating cards. Use the previous and next buttons to navigate, and Enter to activate cards. Vorheriger Slide Mo geschlossen Di 1000 1800 Mi 1000 1800 Do 1000 2000 Fr 1000 1800 Sa 1000 1800 So 1000 1800 Nächster Slide 1 30 von 85 Veranstaltungen 20 Mai bis 17 Aug Fünf Freunde. John Cage, Merce Cunningham, Jasper Johns, Robert Rauschenberg, Cy Twombly Di. 20.05.2025 1000 1800 Uhr Museum Brandhorst 20 Mai bis 17 Aug Fünf Freunde. John Cage, Merce Cunningham, Jasper Johns, Robert Rauschenberg, Cy Twombly Mi. 21.05.2025 1000 1800 Uhr Museum Brandhorst 20 Mai bis 17 Aug Fünf Freunde. John Cage, Merce Cunningham, Jasper Johns, Robert Rauschenberg, Cy Twombly Do. 22.05.2025 1000 2000 Uhr Museum Brandhorst 20 Mai bis 17 Aug Fünf Freunde. John Cage, Merce Cunningham, Jasper Johns, Robert Rauschenberg, Cy Twombly Fr. 23.05.2025 1000 1800 Uhr Museum Brandhorst 20 Mai bis 17 Aug Fünf Freunde. John Cage, Merce Cunningham, Jasper Johns, Robert Rauschenberg, Cy Twombly Sa. 24.05.2025 1000 1800 Uhr Museum Brandhorst 20 Mai bis 17 Aug Fünf Freunde. John Cage, Merce Cunningham, Jasper Johns, Robert Rauschenberg, Cy Twombly So. 25.05.2025 1000 1800 Uhr Museum Brandhorst 20 Mai bis 17 Aug Fünf Freunde. John Cage, Merce Cunningham, Jasper Johns, Robert Rauschenberg, Cy Twombly Di. 27.05.2025 1000 1800 Uhr Museum Brandhorst 20 Mai bis 17 Aug Fünf Freunde. John Cage, Merce Cunningham, Jasper Johns, Robert Rauschenberg, Cy Twombly Mi. 28.05.2025 1000 1800 Uhr Museum Brandhorst 28 Mai bis 25 Juli Festival Fünf Freunde Mi. 28.05.2025 2000 Uhr Museum Brandhorst 20 Mai bis 17 Aug Fünf Freunde. John Cage, Merce Cunningham, Jasper Johns, Robert Rauschenberg, Cy Twombly Do. 29.05.2025 1000 2000 Uhr Museum Brandhorst 20 Mai bis 17 Aug Fünf Freunde. John Cage, Merce Cunningham, Jasper Johns, Robert Rauschenberg, Cy Twombly Fr. 30.05.2025 1000 1800 Uhr Museum Brandhorst 20 Mai bis 17 Aug Fünf Freunde. John Cage, Merce Cunningham, Jasper Johns, Robert Rauschenberg, Cy Twombly Sa. 31.05.2025 1000 1800 Uhr Museum Brandhorst 20 Mai bis 17 Aug Fünf Freunde. John Cage, Merce Cunningham, Jasper Johns, Robert Rauschenberg, Cy Twombly So. 01.06.2025 1000 1800 Uhr Museum Brandhorst 28 Mai bis 25 Juli Festival Fünf Freunde Mo. 02.06.2025 2000 Uhr Museum Brandhorst 20 Mai bis 17 Aug Fünf Freunde. John Cage, Merce Cunningham, Jasper Johns, Robert Rauschenberg, Cy Twombly Di. 03.06.2025 1000 1800 Uhr Museum Brandhorst 20 Mai bis 17 Aug Fünf Freunde. John Cage, Merce Cunningham, Jasper Johns, Robert Rauschenberg, Cy Twombly Mi. 04.06.2025 1000 1800 Uhr Museum Brandhorst 20 Mai bis 17 Aug Fünf Freunde. John Cage, Merce Cunningham, Jasper Johns, Robert Rauschenberg, Cy Twombly Do. 05.06.2025 1000 2000 Uhr Museum Brandhorst 20 Mai bis 17 Aug Fünf Freunde. John Cage, Merce Cunningham, Jasper Johns, Robert Rauschenberg, Cy Twombly Fr. 06.06.2025 1000 1800 Uhr Museum Brandhorst 20 Mai bis 17 Aug Fünf Freunde. John Cage, Merce Cunningham, Jasper Johns, Robert Rauschenberg, Cy Twombly Sa. 07.06.2025 1000 1800 Uhr Museum Brandhorst 20 Mai bis 17 Aug Fünf Freunde. John Cage, Merce Cunningham, Jasper Johns, Robert Rauschenberg, Cy Twombly So. 08.06.2025 1000 1800 Uhr Museum Brandhorst 20 Mai bis 17 Aug Fünf Freunde. John Cage, Merce Cunningham, Jasper Johns, Robert Rauschenberg, Cy Twombly Mo. 09.06.2025 1000 1800 Uhr Museum Brandhorst 20 Mai bis 17 Aug Fünf Freunde. John Cage, Merce Cunningham, Jasper Johns, Robert Rauschenberg, Cy Twombly Di. 10.06.2025 1000 1800 Uhr Museum Brandhorst 20 Mai bis 17 Aug Fünf Freunde. John Cage, Merce Cunningham, Jasper Johns, Robert Rauschenberg, Cy Twombly Mi. 11.06.2025 1000 1800 Uhr Museum Brandhorst 20 Mai bis 17 Aug Fünf Freunde. John Cage, Merce Cunningham, Jasper Johns, Robert Rauschenberg, Cy Twombly Do. 12.06.2025 1000 2000 Uhr Museum Brandhorst 20 Mai bis 17 Aug Fünf Freunde. John Cage, Merce Cunningham, Jasper Johns, Robert Rauschenberg, Cy Twombly Fr. 13.06.2025 1000 1800 Uhr Museum Brandhorst 20 Mai bis 17 Aug Fünf Freunde. John Cage, Merce Cunningham, Jasper Johns, Robert Rauschenberg, Cy Twombly Sa. 14.06.2025 1000 1800 Uhr Museum Brandhorst 20 Mai bis 17 Aug Fünf Freunde. John Cage, Merce Cunningham, Jasper Johns, Robert Rauschenberg, Cy Twombly So. 15.06.2025 1000 1800 Uhr Museum Brandhorst 20 Mai bis 17 Aug Fünf Freunde. John Cage, Merce Cunningham, Jasper Johns, Robert Rauschenberg, Cy Twombly Di. 17.06.2025 1000 1800 Uhr Museum Brandhorst 28 Mai bis 25 Juli Festival Fünf Freunde Di. 17.06.2025 1900 Uhr Museum Brandhorst 20 Mai bis 17 Aug Fünf Freunde. John Cage, Merce Cunningham, Jasper Johns, Robert Rauschenberg, Cy Twombly Mi. 18.06.2025 1000 1800 Uhr Museum Brandhorst Seitennummerierung Erste Seite 1 Seite 2 Seite 3 Letzte Seite Nächste Seite\n",
      "https://www.muenchen.de/sehenswuerdigkeiten/museen/archaeologische-staatssammlung\n"
     ]
    },
    {
     "name": "stderr",
     "output_type": "stream",
     "text": [
      " 58%|█████▊    | 7/12 [00:08<00:06,  1.30s/it]"
     ]
    },
    {
     "name": "stdout",
     "output_type": "stream",
     "text": [
      "Taucht ein in die Welt der Fundstücke und Ausgrabungen Archäologische Staatssammlung München Infos und Tipps zum Museum Eine Reise zurück in die Vergangenheit der menschlichen Existenz Nach etwa acht Jahren Bauzeit erstrahlt das Museum seit 2024 in neuem Glanz und präsentiert euch seine Exponate zu 120.000 Jahren bayerischer Siedlungsgeschichte. Adresse und Öffnungszeiten Lerchenfeldstr. 2 , 80538 München Öffnungszeiten geschlossen Mo geschlossen Di 1000 1700 Mi 1000 1700 Do 1000 1900 Fr 1000 1700 Sa 1000 1700 So 1000 1900 Hinweis Anfahrt ASM, Stefanie Friedrich Weitere Aktionen Teilen auf Facebook Teilen via WhatsApp Kopieren Landesmuseum Württemberg, Hendrik Zwietasch Schaut euch die Sonderausstellung an Unter dem Titel Urformen Eiszeitkunst begreifen könnt ihr bis 21. April Repliken urzeitlicher Kunstwerke bewundern. Erfahrt mehr Warum lohnt sich ein Besuch in der Archäologischen Staatssammlung? Was ist geboten? Die Archäologische Staatssammlung ist in fünf Abteilungen untergliedert Vorgeschichte, Römerzeit, Mittelalter und Neuzeit, die Mittelmeersammlung und Numismatik. Beginnend mit dem Erscheinen der ersten Menschen bis hin zu Karl dem Großen, erzählen verschiedenste Fundstücke und Überreste von Leben und Alltag der Menschen. Zu den Ausstellungshighlights gehören Figuren aus der Alt und Jungsteinzeit, antike Grabausstattungen, sowie keltischen Münzschätze und die Werke der keltischen Kleinkunst. Was ist das Besondere? Digitale Erlebnisse, Klanginstallationen und HandsonStationen laden kleine wie große Museumsgäste zum spielerischen Entdecken mit allen Sinnen ein. Wechselnde Sonderausstellungen in Kooperation mit anderen Museen sind ab Herbst 2024 eingeplant und legen den Fokus auf einzelne Epochen oder besondere Kunstgattungen. Archäologische Staatssammlung, Stefanie Friedrich Archäologische Staatsammlung Die wichtigsten Infos auf einen Blick Lage Neben dem Haus der Kunst und dem Bayerischen Nationalmuseum direkt am Englischen Garten MuseumsKategorie Kunst und Kultur Empfohlene Aufenthaltsdauer Ca. 2 Stunden Anfahrt Mit der U4U5 bis Lehel, Bus 100 oder Tram Linie 18 bis Nationalmuseum Website www.archaeologie.bayern AusstellungsKonzept Taucht ein in die Welt der Archäologie Auf zwei Rundgängen gibt euch das Museum einen Einblick in die Welt der Archäologie. Beide bestehen aus jeweils fünf Themenräumen, sie sind barrierefrei unabhängig voneinander begehbar. Rundgang 1 nimmt euch mit ins Archäologische Terrain , eine Welt voller Abenteuer. Hier könnt ihr die Archäologie als moderne, interdisziplinäre Wissenschaft entdecken Erfahrt mehr über die bayerische Grabungslandschaft, die Arbeit der Archäologinnen und die Zusammenhänge zwischen Mensch und Natur. Der 2. Rundgang zeigt euch die Fülle an Exponaten aus unterschiedlichen Epochen. Mehr als 15.000 Objekte wurden in die neue Dauerausstellung eingebracht. Einige davon werden künftig im Wechselsystem ausgetauscht, so dass ihr immer wieder neue Objekte zu Gesicht zu bekommt. Mehr als 15.000 Objekte wurden in die neue Dauerausstellung eingebracht. Einige davon werden künftig im Wechselsystem ausgetauscht werden, so dass alle die Möglichkeit haben, immer wieder neue Objekte zu Gesicht zu bekommen. Archäologische Staatssammlung, Stefanie Friedrich Führungen, Veranstaltungen und Kinderprogramm Ein Medienguide führt euch zu den 25 wichtigsten und schönsten Highlights. Bringt einfach euer Handy und einen Kopfhörer mit und den QRCode am Eingang. Für alle, die das Bairische lieben, gibt es auch eine SchmankerlTour mit der bekannten Kabarettistin und Komödiantin Luise Kinseher. Überblicksführung Die Münchner Volkshochschule führt jeden Sonntag, um 14 Uhr durch das Museum. Die Buchung erfolgen direkt über die Website der MVHS . An mehreren Terminen im Jahr finden Spezialführungen mit vielen Hintergrundinformationen statt. Unter dem Motto Nachgefragt! entsteht ein reger Austausch zwischen Fachleuten und Museumsgästen. Termine und Anmeldung Führungen für Gruppen von 8 bis 20 Personen sind buchbar unter 089 125996910 bzw. buchungarchaeologie.bayern . Für Kinder und Jugendliche bietet die Archäologische Staatssammlung in Kooperation mit dem Museumspädagogischen Zentrum u.a. Kindergarten und Schulprogramme, Werkstattprogramme, Gruppenführungen und Kindergeburtstage an. Detaillierte Informationen und Preise findet ihr auf dieser Website . Ein ARGame ist unter buchungarchaeologie.bayern oder vor Ort im Museum buchbar. ARGame Taucht ein in die Welt der Archäologie! Stefanie Friedrich Ab sofort könnt ihr in der Archäologischen Staatssammlung auf virtuelle Schatzsuche gehen! Stürzt euch zusammen mit Hausschlange Sisssi ins Augmented Reality Abenteuer und stellt euer archäologisches Wissen unter Beweis. Bei dem neuen AR Game wird die reale Museumswelt um computergenerierte Avatare erweitert. Die Schlange führt euch zu verschiedenen Ausstellungsobjekten, an den einzelnen Stationen müssen Aufgaben erfüllt werden. Im Ziel wartet dann eine kleine Belohnung auf euch. So funktionierts Meldet euch einfach per EMail an unter buchungarchaeologie.bayern . Im Museum bekommt ihr dann ein LeihTablet. Dauer ca. 60 Minuten Zielgruppe für alle ab 10 Jahren Preis 7 pro Person , auch sonntags. Keine Ermäßigungen. Café, Restaurant und Museumsshop Neben dem Museumscafé gibt es eine hauseigene Rooftop Bar mit Blick auf den Englischen Garten Die Öffnungszeiten des SOLÂ findet ihr hier auf der Website . Zudem gibt es einen kleinen, aber feinen Museumsshop im Kassenbereich. Neben den hauseigenen Publikationen gibt es dort Literatur, Kinderspielzeug, Papeterie, Schmuck, Geschenkideen und Humorvolles. Eintrittspreise für die Archäologische Staatssammlung Erwachsene 7,00 Ermäßigt 5,00 Jahreskarte 45,00 Kinder, Jugendliche frei Bei Sonderausstellungen gelten gegebenenfalls abweichende Preise. Barrierefreiheit und Angebote für Menschen mit Behinderung Das komplette Museum ist barrierefrei zugänglich. Parkplätze sind direkt vor dem Museumseingang vorhanden. Für Seh und Hörgeschädigte stehen spezielle Angebote und barrierefreie Zugänge zur Verfügung. Zur DachterrassenBar gibt es für die letzten Stufen einen Treppenlift. Architektur Das neu gestaltete Museumsgebäude Öffnungszeiten der Archäologischen Staatssammlung Ursprünglich von den Architekten Helmut von Werz, JohannChristoph Ottow, Erhard Bachmann und Michel Marx in den 1970er Jahren konzipiert, war der Bau mit der charakteristischen Cortenstahlfassade in die Jahre gekommen und musste 2016 geschlossen werden. Nach etwa acht Jahren Bauzeit erstrahlt das Museum seit April 2024 in neuem Glanz Im Zuge der Generalsanierung wurden nicht nur die Bestandsgebäude umgebaut, sondern auch ein neuer unterirdischer Sonderausstellungsraum errichtet. Das Sanierungsleitbild greift dabei das architektonische Konzept der bestehenden Ausstellungskuben auf und führt dieses weiter. Auch der Eingangsbereich wurde erweitert. Mit Entwurf und Ausführung wurde das renommierte spanischen Architekturbüro Nieto Sobejano Arquitectos betraut, in München derzeit u.a. bekannt durch weitere Projekte wie das Bogenhausener Tor, Hotel Königshof oder das Optineo im Werksviertel. Ausgrabungen, Fundstücke, kulturelle Schätze Weitere Ausstellungsorte Archäologische Staatssammlung Burg Grünwald Zweigmuseum in München Das Burgmuseum Grünwald gibt spannende Einblicke in die Welt der Burgfräulein und Ritter. Neben der Dauerausstellung Burgen in Bayern, bei der ihr die umfangreiche Geschichte der Burg Grünwald erforschen könnt, beherbergt der mittelalterliche Bau auch ein Zweigmuseum der Archäologischen Staatssammlung mit vielen faszinierenden Wechselausstellungen zudem gibt es das ganze Jahr über verschiedene Sonderaktionen und veranstaltungen. Mehr Infos zur Burg Grünwald Projekt Archäologie München Funde vom Marienhof In der Münchner Altstadt fanden bisher über 250 archäologische Ausgrabungen statt. Was geschieht mit den Funden anschließend? Angeregt durch die großen Grabungen am Marienhof 20112012 bildeten zahlreiche staatliche und städtische Stellen das Projekt Archäologie München . Archäologen, Botaniker, Zoologen, Anthropologen und Historiker erforschen Alltagsleben, Umwelt und Stadtbild Münchens seit dem Mittelalter. Münchner Geschichte beim Flanieren entdecken In bisher vier PopUpAusstellungen wurden die Fundstücke unter dem Motto Archäologie für alle in der Altstadt ausgestellt ganz in der Nähe, wo sie aus der Erde geholt wurden. Eine neue Ausstellung ist derzeit in Planung. Mehr Informationen zum Projekt Archäologie München Die Archäologische Staatssammlung Zur Institution allgemein Die Archäologische Staatssammlung erfüllt mit ihrem neu sanierten Hauptgebäude in München sowie ihren acht, über Bayern verteilten Zweigmuseen und Depots die Funktion des zentralen Landemuseums für Archäologie in Bayern, mit bayernweit 200.000300.000 Besuchern jährlich. Sie sammelt, verwahrt und erschließt Ausgrabungsfunde aus Bayern und bildet das zentrale Forum für die öffentliche Präsentation der Archäologie in Bayern. Durch ihre nationalen und internationalen Aktivitäten gehört sie zu den großen und zentralen europäischen Sammlungen. Zur öffentlichen Vermittlungsaufgabe gehört die Präsentation der archäologisch erschließbaren Geschichte Bayerns, aber auch die Darstellung der gesellschaftlichen Relevanz der modernen Archäologie, die heute weitreichende Aussagen zum Verhältnis von Mensch und Umwelt zulässt. In Kooperation mit dem Kulturreferat und den Museen Dieser Beitrag über die Münchner Museen wird vom Kulturreferat der Landeshauptstadt München gefördert und ist in Kooperation mit der Landesstelle für die nichtstaatlichen Museen in Bayern konzipiert worden. Die Inhalte wurden zwischen den beteiligten Museen und , dem offiziellen Stadtportal, abgestimmt. Das könnte euch auch interessieren Münchens Top Sehenswürdigkeiten Die Highlights von Marienplatz bis Frauenkirche So wird das Wetter Sonne oder Regen? Die Wetterprognose Webcams mit LiveBildern in München Was am Marienplatz, im Olympiapark und an der Isar zu sehen ist Auf einen Blick Archäologische Staatssammlung Lerchenfeldstr. 2 80538 München Tel 4989125996910 infoarchaeologie.bayern Korrektur vorschlagen Öffnungszeiten This is a carousel with rotating cards. Use the previous and next buttons to navigate, and Enter to activate cards. Vorheriger Slide Mo geschlossen Di 1000 1700 Mi 1000 1700 Do 1000 1900 Fr 1000 1700 Sa 1000 1700 So 1000 1900 Nächster Slide\n",
      "https://www.muenchen.de/sehenswuerdigkeiten/museen/galerie-bezirk-oberbayern\n"
     ]
    },
    {
     "name": "stderr",
     "output_type": "stream",
     "text": [
      " 67%|██████▋   | 8/12 [00:10<00:06,  1.56s/it]"
     ]
    },
    {
     "name": "stdout",
     "output_type": "stream",
     "text": [
      "Galerie in der Prinzregentenstraße mit zeitgenössischer Kunst Galerie Bezirk Oberbayern Ausstellungen und Führungen In der Galerie Bezirk Oberbayern stellen Künstlerinnen mit und ohne Behinderung ihre Werke gemeinsam aus und gestalten ihre Ausstellung so, dass sie für alle zugänglich wird. Adresse und Öffnungszeiten Prinzregentenstr. 14 , 80538 München Öffnungszeiten Mo geöffnet 1000 1900 Mo 1000 1900 Di 1000 1900 Mi 1000 1900 Do 1000 1900 Fr 1000 1900 Sa geschlossen So geschlossen Hinweis Nach 18 Uhr bitte am Eingang klingeln. Feiertags geschlossen. Anfahrt Benjamin Schmidt Weitere Aktionen Teilen auf Facebook Teilen via WhatsApp Kopieren Warum lohnt sich ein Besuch in der Galerie Bezirk Oberbayern? Bezirk Oberbayern Kunst inklusive! Die Galerie Bezirk Oberbayern macht Kunst für alle barrierefrei erlebbar. Was ist geboten? Es erwartet euch keine Dauerausstellung, sondern immer wieder neue Formate. Gezeigt werden zwei bis drei Doppelausstellungen pro Jahr, die Künstlerinnen mit und ohne Behinderung gemeinsam konzipieren. Spannende Werke aus ganz Oberbayern werden dabei in ein inklusives Rahmenprogramm eingebettet, damit sie auch für Menschen mit Einschränkungen erlebbar werden. Was ist das Besondere? Zeigen, begreifen, verstehen und mitmachen Alle Ausstellungen und Veranstaltungen sind inklusiv ausgerichtet und bieten Erwachsenen und Kindern eine tolle Möglichkeit zur Teilhabe. Es gibt Tastführungen, Workshops, Künstlerinnengespräche und Führungen in leicht verständlicher Sprache und Gebärdensprache. Galerie Bezirk Oberbayern Die wichtigsten Infos auf einen Blick Lage In der Prinzregentenstraße, unweit vom Odeonsplatz direkt am Englischen Garten MuseumsKategorie Kunstmuseum Kinderprogramm Workshops und Führungen für Kinder und Jugendliche mit und ohne Behinderung Empfohlene Aufenthaltsdauer Individuell, da ein Besuch der Galerie gut kombinierbar mit Museen in der Nachbarschaft oder einem Abstecher in den Englischen Garten ist. Anfahrt Mit der Museumslinie 100 bis zur Haltestelle Königinstraße oder U4U5 bis Lehel und Tram 18 bis zum Nationalmuseum. Parken Es gibt keinen öffentlichen Parkplatz. Nach Rücksprache können Besucherinnen mit Behinderung im Innenhof des Bezirks Oberbayern parken. Inklusive Führungen, Workshops und Veranstaltungen Benjamin Schmidt Die Galerie Bezirk Oberbayern zeigt jährlich zwei bis drei Wechselausstellungen von zeitgenössischen Künstlerinnen mit und ohne Behinderung. Alle Kunstschaffenden mit Wohnsitz in Oberbayern können sich bei einer Ausschreibung um eine Ausstellung bewerben. Zu den Highlights zählten bereits Memory Mit fiktiven Maschinen wie der Erleuchtungsmaschine oder der Dampfablassmaschine sowie hauchzarten Seidenobjekten setzten sich die Künstlerin Rosa Maria Krinner und Sheila Furlan mit dem Thema Erinnerungen auseinander. Ebony Ivory Mit beeindruckenden Arbeiten aus weißem Papier und schwarzen Druckstöcken auf kraftvollexpressiven Holz und Linolschnitten schufen die Designerin Verena Friedrich und der Künstler Marcel Muß faszinierende Kontraste. SeelenART Alle zwei Jahre widmet die Galerie Bezirk Oberbayern den Gewinnern des Oberbayerischen Kunstförderpreises SeelenART eine eigene Ausstellung, der vom Sozialpsychiatrischen Zentrum der Kliniken des Bezirks Oberbayern an Menschen mit PsychiatrieErfahrung verliehen wird. Inklusive Führungen, Workshops und Veranstaltungen Benjamin Schmidt Bei allen Ausstellungen gibt es ein inklusives Rahmenprogramm, so dass Menschen mit unterschiedlichen Bedürfnissen daran teilnehmen können Kunst begreifen! Tastführungen am Original Kunst verstehen! Ausstellungsführungen und texte in leicht verständlicher Sprache sowie Brailleschrift Kunst zeigen! Führungen in Deutscher Gebärdensprache, Gebärdensprachinstallationen Kreative Workshops und Führungen für Kinder und Jugendliche mit und ohne Behinderung Barrierefreiheit und Angebote für Menschen mit Behinderung Der Zugang zur Galerie über den Haupteingang des Bezirks Oberbayern ist barrierefrei mit selbstöffnenden Türen und Lift. Rollstuhlgerechte Toiletten sind im Gebäude vorhanden. Ausstellung Die Ausstellungstexte sind in leichter Sprache und Blindenschrift verfasst. Ein Video in Deutscher Gebärdensprache ist Teil der Ausstellung. Spezielle Führungen Zu jeder Ausstellung werden Tastführungen sowie Führungen in leichter Sprache und Gebärdensprache angeboten. Veranstaltungen Alle öffentlichen Veranstaltungen finden mit Übersetzung in die Deutsche Gebärdensprache statt. Zudem sind mobile Induktionsschleifen für Schwerhörige vorhanden. Geschichte und AusschreibungsKonzept Benjamin Schmidt Die Galerie Bezirk Oberbayern wurde 1998 gegründet und hat sich 2012 auf eine inklusive Ausrichtung spezialisiert. In der Regel finden alle zwei Jahre Ausschreibungen statt, bei denen sich Bildende Künstlerinnen aus Oberbayern für eine Ausstellung in der Galerie Bezirk Oberbayern bewerben können. Die Auswahl trifft dabei eine Fachjury, die anschließend auch die Doppelausstellungen zusammenstellt. Alle ausgewählten Künstler erhalten eine Katalogförderung. Eintrittspreis und OnlineAngebot Die Ausstellungen und alle Veranstaltungen des Begleitprogramms sind kostenfrei zugänglich . Unter dem Motto Kunst online! findet man auf der Webseite inklusive Ausstellungsvideos , Gebärdensprachvideos und OnlineKunstvermittlung. In Kooperation mit dem Kulturreferat und den Museen Dieser Beitrag über die Münchner Museen wird vom Kulturreferat der Landeshauptstadt München gefördert und ist in Kooperation mit der Landesstelle für die nichtstaatlichen Museen in Bayern konzipiert worden. Die Inhalte wurden zwischen den beteiligten Museen und , dem offiziellen Stadtportal, abgestimmt. Auf einen Blick Galerie Bezirk Oberbayern Prinzregentenstr. 14 80538 München Tel 089 219839999 galeriebezirkoberbayern.de Korrektur vorschlagen Barrierefreier Zugang Eingangstüre Elektrischer Türöffner 3x barrierefrei parken möglich Bus 100 Königinstraße, Tram 16, Bus 100 NationalmuseumHaus der Kunst, U4, U5, Tram 16 Lehel Barrierefreiheit im Gebäude Treppenlift vorhanden Treppenlift Euroschlüssel Barrierefreies WC vorhanden im EG , im 1. OG Barrierefreiheit weitere Information Ausstellungstexte in Brailleschrift, Tastführungen Führungen in Gebärdensprache Führungen mit mobiler Induktionsschleife Ausstellungstexte in Leichter Sprache Öffnungszeiten This is a carousel with rotating cards. Use the previous and next buttons to navigate, and Enter to activate cards. Vorheriger Slide Mo 1000 1900 Di 1000 1900 Mi 1000 1900 Do 1000 1900 Fr 1000 1900 Sa geschlossen So geschlossen Nächster Slide 1 30 von 80 Veranstaltungen 19 Mai bis 11 Sep CarstenCaren Lewerentz und Susanne Winter Werden Mo. 19.05.2025 1000 1900 Uhr Galerie Bezirk Oberbayern 19 Mai bis 11 Sep CarstenCaren Lewerentz und Susanne Winter Werden Di. 20.05.2025 1000 1900 Uhr Galerie Bezirk Oberbayern 19 Mai bis 11 Sep CarstenCaren Lewerentz und Susanne Winter Werden Mi. 21.05.2025 1000 1900 Uhr Galerie Bezirk Oberbayern 19 Mai bis 11 Sep CarstenCaren Lewerentz und Susanne Winter Werden Do. 22.05.2025 1000 1900 Uhr Galerie Bezirk Oberbayern 19 Mai bis 11 Sep CarstenCaren Lewerentz und Susanne Winter Werden Fr. 23.05.2025 1000 1900 Uhr Galerie Bezirk Oberbayern 19 Mai bis 11 Sep CarstenCaren Lewerentz und Susanne Winter Werden Mo. 26.05.2025 1000 1900 Uhr Galerie Bezirk Oberbayern 19 Mai bis 11 Sep CarstenCaren Lewerentz und Susanne Winter Werden Di. 27.05.2025 1000 1900 Uhr Galerie Bezirk Oberbayern 19 Mai bis 11 Sep CarstenCaren Lewerentz und Susanne Winter Werden Mi. 28.05.2025 1000 1900 Uhr Galerie Bezirk Oberbayern 19 Mai bis 11 Sep CarstenCaren Lewerentz und Susanne Winter Werden Fr. 30.05.2025 1000 1900 Uhr Galerie Bezirk Oberbayern 19 Mai bis 11 Sep CarstenCaren Lewerentz und Susanne Winter Werden Mo. 02.06.2025 1000 1900 Uhr Galerie Bezirk Oberbayern 19 Mai bis 11 Sep CarstenCaren Lewerentz und Susanne Winter Werden Di. 03.06.2025 1000 1900 Uhr Galerie Bezirk Oberbayern 19 Mai bis 11 Sep CarstenCaren Lewerentz und Susanne Winter Werden Mi. 04.06.2025 1000 1900 Uhr Galerie Bezirk Oberbayern 19 Mai bis 11 Sep CarstenCaren Lewerentz und Susanne Winter Werden Do. 05.06.2025 1000 1900 Uhr Galerie Bezirk Oberbayern 19 Mai bis 11 Sep CarstenCaren Lewerentz und Susanne Winter Werden Fr. 06.06.2025 1000 1900 Uhr Galerie Bezirk Oberbayern 19 Mai bis 11 Sep CarstenCaren Lewerentz und Susanne Winter Werden Di. 10.06.2025 1000 1900 Uhr Galerie Bezirk Oberbayern 19 Mai bis 11 Sep CarstenCaren Lewerentz und Susanne Winter Werden Mi. 11.06.2025 1000 1900 Uhr Galerie Bezirk Oberbayern 19 Mai bis 11 Sep CarstenCaren Lewerentz und Susanne Winter Werden Do. 12.06.2025 1000 1900 Uhr Galerie Bezirk Oberbayern 19 Mai bis 11 Sep CarstenCaren Lewerentz und Susanne Winter Werden Fr. 13.06.2025 1000 1900 Uhr Galerie Bezirk Oberbayern 19 Mai bis 11 Sep CarstenCaren Lewerentz und Susanne Winter Werden Mo. 16.06.2025 1000 1900 Uhr Galerie Bezirk Oberbayern 19 Mai bis 11 Sep CarstenCaren Lewerentz und Susanne Winter Werden Di. 17.06.2025 1000 1900 Uhr Galerie Bezirk Oberbayern 19 Mai bis 11 Sep CarstenCaren Lewerentz und Susanne Winter Werden Mi. 18.06.2025 1000 1900 Uhr Galerie Bezirk Oberbayern 19 Mai bis 11 Sep CarstenCaren Lewerentz und Susanne Winter Werden Fr. 20.06.2025 1000 1900 Uhr Galerie Bezirk Oberbayern 19 Mai bis 11 Sep CarstenCaren Lewerentz und Susanne Winter Werden Mo. 23.06.2025 1000 1900 Uhr Galerie Bezirk Oberbayern 19 Mai bis 11 Sep CarstenCaren Lewerentz und Susanne Winter Werden Di. 24.06.2025 1000 1900 Uhr Galerie Bezirk Oberbayern 19 Mai bis 11 Sep CarstenCaren Lewerentz und Susanne Winter Werden Mi. 25.06.2025 1000 1900 Uhr Galerie Bezirk Oberbayern 19 Mai bis 11 Sep CarstenCaren Lewerentz und Susanne Winter Werden Do. 26.06.2025 1000 1900 Uhr Galerie Bezirk Oberbayern 19 Mai bis 11 Sep CarstenCaren Lewerentz und Susanne Winter Werden Fr. 27.06.2025 1000 1900 Uhr Galerie Bezirk Oberbayern 19 Mai bis 11 Sep CarstenCaren Lewerentz und Susanne Winter Werden Mo. 30.06.2025 1000 1900 Uhr Galerie Bezirk Oberbayern 19 Mai bis 11 Sep CarstenCaren Lewerentz und Susanne Winter Werden Di. 01.07.2025 1000 1900 Uhr Galerie Bezirk Oberbayern 19 Mai bis 11 Sep CarstenCaren Lewerentz und Susanne Winter Werden Mi. 02.07.2025 1000 1900 Uhr Galerie Bezirk Oberbayern Seitennummerierung Erste Seite 1 Seite 2 Seite 3 Letzte Seite Nächste Seite\n",
      "https://www.muenchen.de/sehenswuerdigkeiten/museen/juedisches-museum-muenchen\n"
     ]
    },
    {
     "name": "stderr",
     "output_type": "stream",
     "text": [
      " 75%|███████▌  | 9/12 [00:11<00:04,  1.58s/it]"
     ]
    },
    {
     "name": "stdout",
     "output_type": "stream",
     "text": [
      "Vielfalt jüdischer Kultur erleben Jüdisches Museum München Ausstellungen, Rundgänge, Programm Das Jüdische Museum München vermittelt ein Bild der Vielfalt jüdischer Geschichte, Kunst und Kultur von der Vergangenheit bis heute. Das Museum ist ein lebendiger Ort zum Austausch und zur offenen Diskussion. Adresse und Öffnungszeiten St.JakobsPlatz 16 , 80331 München Öffnungszeiten geschlossen Mo geschlossen Di 1000 1800 Mi 1000 1800 Do 1000 1800 Fr 1000 1800 Sa 1000 1800 So 1000 1800 Hinweis Anfahrt Daniel Schvarcz Weitere Aktionen Teilen auf Facebook Teilen via WhatsApp Kopieren Warum lohnt sich ein Besuch im Jüdischen Museum München? Roland Halbe Das kubische Gebäude des Jüdischen Museums München ist schon von Außen absolut sehenswert Im Jüdischen Museum München wird die Vielfalt jüdischer Zugänge in der Geschichte, Kultur und Kunst erfahrbar mit dem Ziel eine plurale und diskriminierungsfreie Gesellschaft zu ermöglichen. Was ist geboten? Das Museum vermittelt Einblicke in die jüdische Kultur in München in Vergangenheit und Gegenwart. In seinen wechselnden Ausstellungen setzt sich das Jüdische Museum München mit Hilfe von Zeitzeuginnen, Ritualobjekten, Fotografien, Videos und Comicstrips mit den vielschichtigen Sichtweisen zur jüdischen Geschichte, Kultur und Religion auseinander und bricht diese ganz bewusst auf und stellt sie zur Diskussion. Was ist das Besondere? Das Museum ist Teil des Bauensembles am Jakobsplatz, zusammen mit der Synagoge und dem jüdischen Gemeindezentrum. Es ist auch ein Ort für offene Diskussionen Bei sogenannten Impulsrundgängen geben die Besucherbetreuerinnen euch spannende Auskünfte über die Ausstellungen und beantworten eure Fragen. Das Jüdische Museum München Die wichtigsten Infos auf einen Blick Lage Am St.JakobsPlatz, in direkter Nachbarschaft zum Münchner Stadtmuseum . MuseumsKategorie Kultur Empfohlene Aufenthaltsdauer Ca. 1 bis 1,5 Stunden Kinderprogramm KunstProjekte, Workshops, Rundgänge und Digitale KreativImpulse Anfahrt U3 U6 oder SBahn bis Marienplatz oder U1 U2 U3 U6 bis Sendlinger Tor und Bus 5262 bis St.JakobsPlatz Parken Tiefgarage Oberanger, Parkgarage Schrannenhalle Von Chanukka bis Bar Mizwa Dauerausstellung Stimmen_Orte_Zeiten Franz Kimmel In der Dauerausstellung Stimmen_Orte_Zeiten könnt ihr durch die jüdische Geschichte Münchens gehen Die Dauerausstellung Stimmen_Orte_Zeiten im Untergeschoss gibt neue Impulse und Informationen zur jüdischen Geschichte und Gegenwart in München und lädt zum Dialog ein. Dabei thematisiert sie die große Bandbreite jüdischer Identitäten in sieben Installationen Die Installation Stimmen erzählt persönliche Lebensgeschichten jüdischer Familien und Personen, die in den letzten 200 Jahren in München ankamen, anhand originaler Tonspuren. Anhand der Installationen Orte und Bilder könnt ihr die Lebenswege jüdischer Münchnerinnen nachverfolgen Von der Auswanderin bis zum ChemieNobelpreisträger. Ein besonderer Schwerpunkt ist auch der Ausstellungsbereich Rituale . Er widmet sich der jüdischen Religion mit ihren Jahresfesten und Übergangsriten . Zuletzt spannt ein unterhaltsamer Comicstrip den Bogen zur Gegenwart des jüdischen Lebens in München. Gewohnte Sichtweisen zur jüdischen Geschichte, Kultur und Religion werden hier aufgebrochen und zur Diskussion gestellt. Dabei wird die Münchner jüdische Geschichte als integraler Teil der Stadtgeschichte sichtbar gemacht und auch auf ihre Einschnitte, Brüche und Leerstellen verwiesen. Previous slide View image in modal View image in modal View image in modal View image in modal View image in modal View image in modal View image in modal Next slide Wechselausstellungen und Publikationen In wechselnden Ausstellungen setzt sich das Jüdische Museum unter immer neuen Gesichtspunkten mit den vielschichtigen Sichtweisen zur jüdischen Kultur, Geschichte und Kunst auseinander und engagiert sich zudem auch in Form von Kooperationen und Publikationen. Zwei bekannte Beispiele Der Erinnerungsort OlympiaAttentat München 1972 ist eine Zusammenarbeit des Jüdischen Museums München und der Landeshauptstadt München mit dem Freistaat Bayern. Der Erinnerungsort ist den Opfern des Terroranschlags bei den 20. Olympischen Spielen, den elf israelischen Sportlern und dem deutschen Polizisten, gewidmet. Mehr als 70 Jahre nach der Rückkehr Kurt Landauers nach München veröffentlicht das Jüdische Museum München die Briefe des langjährigen FC Bayern Präsidenten im SuhrkampInselVerlag. Rundgänge im Jüdischen Museum München Daniel Schvarcz Das Jüdische Museum bietet ein vielfältiges Vermittlungsangebot Regelmäßig finden öffentliche Rundgänge statt Jeden Samstag und Sonntag um 1330 Uhr Die Dritte Generation. Der Holcaust im familiären Gedächtnis Jeden Samstag und Sonntag um 1500 Uhr Das Jüdische Museum München. Unser Haus Individuelle Besucherbetreuung auf Deutsch, Englisch, weitere Sprachen nach Verfügbarkeit Angebote und Programme für Kinder und Jugendliche Franz Kimmel Auch für Kinder und Jugendliche sind tolle Projekte geboten Für Kinder und Jugendliche bietet das Jüdische Museum München KunstProjekte, Workshops, Rundgänge und Kinderprogramme an Regelmäßige Öffentliche Kinderworkshops Jüdische Lebenswege in München ist ein Workshop, der sich an Jugendliche ab 14 Jahren richtet und der anhand von Ausstellungsobjekten sowie Text und Fotoquellen einzelne Biografien nachzeichnet. Digital kreativ Lass uns feiern! Manche Kinder feiern Pessach und Purim, andere wiederum freuen sich riesig auf Weihnachten oder das Zuckerfest. Ein perfekter Ausgangspunkt, sich die besonderen Tage des Jahres genauer anzusehen. Weitere Angebote für Kinder und Familien finden sich auf der Museumswebseite . Museumscafé und Literaturhandlung Franz Kimmel Das großzügige und helle Foyer lädt mit der Literaturhandlung zum Verweilen ein Das Museumscafé Coucou Food Market erwartet die Besucherinnen den ganzen Tag über mit frisch zubereitetem und gesunden Essen von französischen Croissants und Kaffee über Pinsa Romana bis zu Salaten und Bowls. Die Literaturhandlung befindet sich im Foyer des Jüdischen Museums München. Dort können Bücher rund ums Judentum, von Belletristik über Reiseführer bis zur Kinder und Jugendliteratur, erworben werden. Eintrittspreise für die Ausstellungen Erwachsene zahlen 6 Euro, ermäßigt 3 Euro Für Kinder und Jugendliche bis 18 Jahren ist der Eintritt frei OnlineAngebot Museums Blog Hier informiert das Museum über Jüdische Lebenswelten, Geschichte und Kultur in den Kategorien Stimmen, Orte, Sachen, Leben und Kunst OnlineAusstellungen beschäftigen sich intensiver mit ausgewählten Themen . Social Media Auf Instagram , Facebook und Blueksy findet ihr Aktuelles und spannende Einblicke hinter die Kulissen. Barrierefreiheit und Angebote für Menschen mit Behinderung Das Museumsfoyer, alle Ausstellungsebenen und Servicebereiche sind barrierefrei zugänglich und mit dem Aufzug erreichbar. Barrierefreie Toiletten befinden sich im Untergeschoss. Besondere Architektur Kubische Gebäude aus TravertinStein Franz Kimmel In direkter Nachbarschaft zu Marienplatz und Viktualienmarkt am St.JakobsPlatz befindet sich ein einzigartiges architektonisches Ensemble, das in seiner Lebendigkeit und Vielseitigkeit die Münchner Stadtgesellschaft entscheidend prägt Das Bauensemble am Jakobsplatz, bestehend aus der 2006 eingeweihten Hauptsynagoge, dem Gemeindezentrum der Israelitischen Kultusgemeinde München und Oberbayern und dem 2007 eröffneten Jüdischen Museum München, das in der Trägerschaft der Landeshauptstadt München liegt. Das Architektenteam Wandel, Hoefer, Lorch konnte mit seinem Wettbewerbsbeitrag den drei eigenständigen, kubisch gestalteten Gebäuden überzeugen. Die kunstvolle Schaffung einer architektonischen Einheit trotz dreier voneinander losgelöster Gebäude gelingt vor allem durch die Verwendung des TravertinSteins aus der Schwäbischen Alb als verbindendem Baumaterial. Auch wird der Eindruck der Einheitlichkeit durch die miteinander korrespondierende Formensprache unterstützt und durch Blickachsen und Passagen zwischen den drei Gebäuden für die Öffentlichkeit erlebbar gemacht. Rückblick 50 Jahre OlympiaAttentat Erinnerungsprojekt 12 Monate 12 Namen Das OlympiaAttentat von 1972 jährte sich 2022 zum 50. Mal. Zum Gedenken daran rief das Jüdische Museum München gemeinsam mit dem NS Dokumentationszentrum München und dem Generalkonsulat des Staates Israel ein Erinnerungsprojekt ins Leben, das jeden Monat von Januar bis Dezember eines der 12 Todesopfer in den Mittelpunkt stellte und besonders würdigte. Unter dem Motto Zwölf Monate Zwölf Namen waren 2022 in der ganzen Stadt verschiedene Installationen, Aktionen und Vorträge zu sehen. 12 Monate 12 Namen im Überblick In Kooperation mit dem Kulturreferat und den Museen Dieser Beitrag über die Münchner Museen wird vom Kulturreferat der Landeshauptstadt München gefördert und ist in Kooperation mit der Landesstelle für die nichtstaatlichen Museen in Bayern konzipiert worden. Die Inhalte wurden zwischen den beteiligten Museen und , dem offiziellen Stadtportal, abgestimmt. Das könnte euch auch interessieren Münchens Top Sehenswürdigkeiten Die Highlights von Marienplatz bis Frauenkirche So wird das Wetter Sonne oder Regen? Die Wetterprognose Webcams mit LiveBildern in München Was am Marienplatz, im Olympiapark und an der Isar zu sehen ist Aktuelle Veranstaltungen 1 30 von 165 Veranstaltungen 20 Mai bis 31 Dez. München Displaced Di. 20.05.2025 0000 2359 Uhr Jüdisches Museum München 09 Apr. bis 01 März Die Dritte Generation. Der Holocaust im familiären Gedächtnis Di. 20.05.2025 1000 1800 Uhr Jüdisches Museum München 20 Mai bis 31 Dez. München Displaced Mi. 21.05.2025 0000 2359 Uhr Jüdisches Museum München 09 Apr. bis 01 März Die Dritte Generation. Der Holocaust im familiären Gedächtnis Mi. 21.05.2025 1000 1800 Uhr Jüdisches Museum München 20 Mai bis 31 Dez. München Displaced Do. 22.05.2025 0000 2359 Uhr Jüdisches Museum München 09 Apr. bis 01 März Die Dritte Generation. Der Holocaust im familiären Gedächtnis Do. 22.05.2025 1000 1800 Uhr Jüdisches Museum München 20 Mai bis 31 Dez. München Displaced Fr. 23.05.2025 0000 2359 Uhr Jüdisches Museum München 09 Apr. bis 01 März Die Dritte Generation. Der Holocaust im familiären Gedächtnis Fr. 23.05.2025 1000 1800 Uhr Jüdisches Museum München 20 Mai bis 31 Dez. München Displaced Sa. 24.05.2025 0000 2359 Uhr Jüdisches Museum München 09 Apr. bis 01 März Die Dritte Generation. Der Holocaust im familiären Gedächtnis Sa. 24.05.2025 1000 1800 Uhr Jüdisches Museum München 20 Mai bis 31 Dez. München Displaced So. 25.05.2025 0000 2359 Uhr Jüdisches Museum München 09 Apr. bis 01 März Die Dritte Generation. Der Holocaust im familiären Gedächtnis So. 25.05.2025 1000 1800 Uhr Jüdisches Museum München 20 Mai bis 31 Dez. München Displaced Mo. 26.05.2025 0000 2359 Uhr Jüdisches Museum München 20 Mai bis 31 Dez. München Displaced Di. 27.05.2025 0000 2359 Uhr Jüdisches Museum München 09 Apr. bis 01 März Die Dritte Generation. Der Holocaust im familiären Gedächtnis Di. 27.05.2025 1000 1800 Uhr Jüdisches Museum München 20 Mai bis 31 Dez. München Displaced Mi. 28.05.2025 0000 2359 Uhr Jüdisches Museum München 09 Apr. bis 01 März Die Dritte Generation. Der Holocaust im familiären Gedächtnis Mi. 28.05.2025 1000 1800 Uhr Jüdisches Museum München 20 Mai bis 31 Dez. München Displaced Do. 29.05.2025 0000 2359 Uhr Jüdisches Museum München 09 Apr. bis 01 März Die Dritte Generation. Der Holocaust im familiären Gedächtnis Do. 29.05.2025 1000 1800 Uhr Jüdisches Museum München 20 Mai bis 31 Dez. München Displaced Fr. 30.05.2025 0000 2359 Uhr Jüdisches Museum München 09 Apr. bis 01 März Die Dritte Generation. Der Holocaust im familiären Gedächtnis Fr. 30.05.2025 1000 1800 Uhr Jüdisches Museum München 20 Mai bis 31 Dez. München Displaced Sa. 31.05.2025 0000 2359 Uhr Jüdisches Museum München 09 Apr. bis 01 März Die Dritte Generation. Der Holocaust im familiären Gedächtnis Sa. 31.05.2025 1000 1800 Uhr Jüdisches Museum München 09 Apr. bis 01 März Die Dritte Generation. Der Holocaust im familiären Gedächtnis So. 01.06.2025 1000 1800 Uhr Jüdisches Museum München 09 Apr. bis 01 März Die Dritte Generation. Der Holocaust im familiären Gedächtnis Di. 03.06.2025 1000 1800 Uhr Jüdisches Museum München 09 Apr. bis 01 März Die Dritte Generation. Der Holocaust im familiären Gedächtnis Mi. 04.06.2025 1000 1800 Uhr Jüdisches Museum München 09 Apr. bis 01 März Die Dritte Generation. Der Holocaust im familiären Gedächtnis Do. 05.06.2025 1000 1800 Uhr Jüdisches Museum München 09 Apr. bis 01 März Die Dritte Generation. Der Holocaust im familiären Gedächtnis Fr. 06.06.2025 1000 1800 Uhr Jüdisches Museum München 09 Apr. bis 01 März Die Dritte Generation. Der Holocaust im familiären Gedächtnis Sa. 07.06.2025 1000 1800 Uhr Jüdisches Museum München 09 Apr. bis 01 März Die Dritte Generation. Der Holocaust im familiären Gedächtnis So. 08.06.2025 1000 1800 Uhr Jüdisches Museum München Seitennummerierung Erste Seite 1 Seite 2 Seite 3 Seite 4 Seite 5 Seite 6 Letzte Seite Nächste Seite Auf einen Blick Jüdisches Museum München St.JakobsPlatz 16 80331 München Tel 498923396096 juedisches.museum Korrektur vorschlagen Öffnungszeiten This is a carousel with rotating cards. Use the previous and next buttons to navigate, and Enter to activate cards. Vorheriger Slide Mo geschlossen Di 1000 1800 Mi 1000 1800 Do 1000 1800 Fr 1000 1800 Sa 1000 1800 So 1000 1800 Nächster Slide\n",
      "https://www.muenchen.de/sehenswuerdigkeiten/museen/infopoint-museen-schloesser-bayern\n"
     ]
    },
    {
     "name": "stderr",
     "output_type": "stream",
     "text": [
      " 83%|████████▎ | 10/12 [00:13<00:03,  1.57s/it]"
     ]
    },
    {
     "name": "stdout",
     "output_type": "stream",
     "text": [
      "Information und Ideen für eure Museumsbesuche in München und Bayern Infopoint Museen Schlösser in Bayern Aktuelle AusstellungsTipps und Beratung Im Infopoint Museen Schlösser in Bayern erhalten Touristinnen und Einheimische aktuelle und umfassende Informationen über rund 1.300 Museen und Schlösser in Bayern. Adresse und Öffnungszeiten Alter Hof 1 , 80331 München Öffnungszeiten Mo geöffnet 1000 1800 Mo 1000 1800 Di 1000 1800 Mi 1000 1800 Do 1000 1800 Fr 1000 1800 Sa 1000 1800 So geschlossen Hinweis Sonn und Feiertags geschlossen Anfahrt Bayerisches Landesamt für DenkmalpflegeForstner Weitere Aktionen Teilen auf Facebook Teilen via WhatsApp Kopieren Warum lohnt sich ein Besuch des Infopoints im Alten Hof? Museen in Bayern Ob Touristinnen oder Einheimische die Mitarbeiterinnen geben euch persönlich vor Ort, aber auch telefonisch und per EMail, Auskunft über alles, was zur Planung eines Ausflugs nützlich ist Was ist geboten? Informationen zu Öffnungszeiten, Adressen, Sonderausstellungen, Führungen und Aktivitäten der Museen in Bayern und vieles mehr. Zudem erhaltet ihr hier ausführliches Prospektmaterial zum Mitnehmen. Was ist besonders? Über den Infopoint ist auch die kostenlose Dauerausstellung zur Münchner Kaiserburg zugänglich. Der Infopoint Museen Schlösser in Bayern auf einen Blick Lage Im Alten Hof zwischen Marienplatz und Residenz MuseumsKategorien Alle Kinderprogramm Einmal pro Jahr umfangreiche Aktionen zum Stadtgründungsfest Empfohlene Aufenthaltsdauer ca. 15 30 Minuten . Eigene Ausstellungen und Veranstaltungen Michael Forstner, Bayer. Landesamt für Denkmalpflege Dauerausstellung Münchner Kaiserburg Im Gewölbekeller des Alten Hofs eröffnet euch eine Dauerausstellung mit Multimediaschau interessante Einblicke in die Stadtgeschichte Münchens, zu deren frühen Höhepunkten die Kaiserburg zählt. Neben anderen Exponaten und Informationen ist außerdem ein Stück der freigelegten Burgmauer zu sehen. Mehr Infos Stadtführungen für Touristinnen und Einheimische starten regelmäßig im Alten Hof Stadtgründungsfest Anlässlich des Stadtgründungsfests findet ein offizielles Kinderprogramm statt. Zudem werden zahlreiche Werkstationen und ein historisches Kriminalspiel veranstaltet. In Kooperation mit dem Kulturreferat und den Museen Dieser Beitrag über die Münchner Museen wird vom Kulturreferat der Landeshauptstadt München gefördert und ist in Kooperation mit der Landesstelle für die nichtstaatlichen Museen in Bayern konzipiert worden. Die Inhalte wurden zwischen den beteiligten Museen und , dem offiziellen Stadtportal, abgestimmt. Das könnte euch auch interessieren Münchens Top Sehenswürdigkeiten Die Highlights von Marienplatz bis Frauenkirche So wird das Wetter Sonne oder Regen? Die Wetterprognose Webcams mit LiveBildern in München Was am Marienplatz, im Olympiapark und an der Isar zu sehen ist Auf einen Blick Infopoint Museen Schlösser in Bayern Alter Hof 1 80331 München Tel 498921014050 Fax 498921014040 infopointmuseeninbayern.de Korrektur vorschlagen Barrierefreier Zugang 7x barrierefrei parken möglich 4 Plätze Dienerstraße S1S8 , U3, U6, Bus 132 Marienplatz Barrierefreiheit im Gebäude Treppenlift vorhanden Treppenlift Klingeln Barrierefreies WC vorhanden im EG Öffnungszeiten This is a carousel with rotating cards. Use the previous and next buttons to navigate, and Enter to activate cards. Vorheriger Slide Mo 1000 1800 Di 1000 1800 Mi 1000 1800 Do 1000 1800 Fr 1000 1800 Sa 1000 1800 So geschlossen Nächster Slide 1 12 von 12 Veranstaltungen 19 Mai bis 31 Mai 100 Jahre Museum Werdenfels Tausende Objekte und noch viel mehr Geschichte Mo. 19.05.2025 1000 1800 Uhr Infopoint Museen Schlösser in Bayern 19 Mai bis 31 Mai 100 Jahre Museum Werdenfels Tausende Objekte und noch viel mehr Geschichte Di. 20.05.2025 1000 1800 Uhr Infopoint Museen Schlösser in Bayern 19 Mai bis 31 Mai 100 Jahre Museum Werdenfels Tausende Objekte und noch viel mehr Geschichte Mi. 21.05.2025 1000 1800 Uhr Infopoint Museen Schlösser in Bayern 19 Mai bis 31 Mai 100 Jahre Museum Werdenfels Tausende Objekte und noch viel mehr Geschichte Do. 22.05.2025 1000 1800 Uhr Infopoint Museen Schlösser in Bayern 19 Mai bis 31 Mai 100 Jahre Museum Werdenfels Tausende Objekte und noch viel mehr Geschichte Fr. 23.05.2025 1000 1800 Uhr Infopoint Museen Schlösser in Bayern 19 Mai bis 31 Mai 100 Jahre Museum Werdenfels Tausende Objekte und noch viel mehr Geschichte Sa. 24.05.2025 1000 1800 Uhr Infopoint Museen Schlösser in Bayern 19 Mai bis 31 Mai 100 Jahre Museum Werdenfels Tausende Objekte und noch viel mehr Geschichte Mo. 26.05.2025 1000 1800 Uhr Infopoint Museen Schlösser in Bayern 19 Mai bis 31 Mai 100 Jahre Museum Werdenfels Tausende Objekte und noch viel mehr Geschichte Di. 27.05.2025 1000 1800 Uhr Infopoint Museen Schlösser in Bayern 19 Mai bis 31 Mai 100 Jahre Museum Werdenfels Tausende Objekte und noch viel mehr Geschichte Mi. 28.05.2025 1000 1800 Uhr Infopoint Museen Schlösser in Bayern 19 Mai bis 31 Mai 100 Jahre Museum Werdenfels Tausende Objekte und noch viel mehr Geschichte Do. 29.05.2025 1000 1800 Uhr Infopoint Museen Schlösser in Bayern 19 Mai bis 31 Mai 100 Jahre Museum Werdenfels Tausende Objekte und noch viel mehr Geschichte Fr. 30.05.2025 1000 1800 Uhr Infopoint Museen Schlösser in Bayern 19 Mai bis 31 Mai 100 Jahre Museum Werdenfels Tausende Objekte und noch viel mehr Geschichte Sa. 31.05.2025 1000 1800 Uhr Infopoint Museen Schlösser in Bayern\n",
      "https://www.muenchen.de/sehenswuerdigkeiten/haus-der-kunst\n"
     ]
    },
    {
     "name": "stderr",
     "output_type": "stream",
     "text": [
      " 92%|█████████▏| 11/12 [00:15<00:01,  1.63s/it]"
     ]
    },
    {
     "name": "stdout",
     "output_type": "stream",
     "text": [
      "Zeitgenössische Kunst am Englischen Garten Das Haus der Kunst Haus der Kunst in München Aktuelle Ausstellungen, Tipps und Infos Es gehört zu den großen internationalen Kunstmuseen Das Haus der Kunst zeigt jährlich wechselnde Ausstellungen der Gegenwartskunst auf Weltniveau. Adresse und Öffnungszeiten Prinzregentenstr. 1 , 80538 München Öffnungszeiten Mo geöffnet 1000 2000 Mo 1000 2000 Di geschlossen Mi 1000 2000 Do 1000 2200 Fr 1000 2000 Sa 1000 2000 So 1000 2000 Hinweis Geschlossen 24. und 31. Dezember Anfahrt Haus der Kunst München, 2023, Foto Maximilian Geuter Weitere Aktionen Teilen auf Facebook Teilen via WhatsApp Kopieren Warum lohnt sich ein Besuch im Haus der Kunst? Haus der Kunst München, 2023, Foto Maximilian Geuter Das Haus der Kunst besitzt keine eigene Sammlung, es ist ein reines Ausstellungshaus. Und das ist seine große Stärke So hat es die Möglichkeit, den wechselnden Programmen viel Raum zu geben. Was ist geboten? Mit seinen Ausstellungen, Performances und Musikveranstaltungen ist das Haus der Kunst ein weltweit führendes Zentrum für zeitgenössische Kunst. Das Haus ist nicht nur der Untersuchung der Geschichte und der Geschichten der zeitgenössischen Kunst verpflichtet, sondern sieht es auch als seine Aufgabe diese Geschichten einer breiten Öffentlichkeit nahe zu bringen. Was ist das Besondere? Mit seinem Programm macht das Haus der Kunst deutlich, dass die Entwicklungslinien der zeitgenössischen Kunst nicht innerhalb fester Grenzen und Kategorien verlaufen, sondern über Ländergrenzen, Gesellschaftsschichten und kulturelle und soziale Milieus hinweg. Sie sind global und vielschichtig Verbindungslinien, keine Grenzen. Das Haus der Kunst arbeitet interdisziplinär und bezieht unterschiedliche Standpunkte mit ein. Aktuelle gesellschaftliche Themen von höchster Relevanz, wie Klimawandel, Postkolonialismus, Feminismus oder Inklusion werden vor dem kritischen Kontext ihrer historischen Dimension verhandelt. Das Haus der Kunst Die wichtigsten Infos auf einen Blick Lage Am Englischen Garten, direkt neben der berühmten Eisbachwelle. MuseumsKategorie Kunst Empfohlene Aufenthaltsdauer Ca. 1 Stunde Kinderprogramm Themenführungen für Eltern mit Kindern, Schulführungen, Familien Workshops Anfahrt Bus 100 bis Königinstraße. U 45 bis Lehel Parken Hinter dem Haus der Kunst befindet sich ein großer Parkplatz Previous slide View image in modal View image in modal View image in modal View image in modal View image in modal View image in modal Next slide Archiv Galerie Besichtigt die bewegte Geschichte des Hauses Haus der Kunst München, 2023, Foto Maximilian Geuter Das Haus der Kunst setzt sich intensiv mit seiner NSVergangenheit auseinander Das Haus der Kunst hat eine bewegte Geschichte Der Bau des Museums wurde ursprünglich von Adolf Hitler beauftragt, um ein Haus der Deutschen Kunst zu schaffen. Während der NSHerrschaft zeigten die Ausstellungen Kunst, die von der nationalsozialistischen Propaganda als konform aufgefasst wurde. Die künstlerische Avantgarde der Zeit wurde diffamiert. Wer sich mit der Geschichte des Hauses genauer auseinandersetzen möchte, kann in der Mittelhalle die kostenlos zugängliche Archiv Galerie besichtigen. Dort informiert eine Dokumentation über die Geschichte des Hauses. Zudem präsentieren autonome Archive ihre Bestände. Führungen und Formate Ein kostenloser Audioguide zur Ausstellung ist im Eintrittspreis bereits enthalten. Zudem bietet das Haus der Kunst viele verschiedene FührungsFormate an. Hierzu zählen unter anderem Ausstellungsführungen auf Deutsch und Englisch Fremdsprachige Ausstellungsführungen Kuratorinnenführungen Informationen zum Ausstellungskonzept aus erster Hand Private Führungen für Gruppen und Schulklassen. Inklusive Führungen in Gebärdensprache, für Sehbehinderte und Menschen mit Demenz Themenführung Baby hört mit Popup Yoga in der Ausstellung Gastronomie Goldene Bar im Haus der Kunst Alescha Birkenholz Die Goldene Bar lädt mit ihren Kronleuchtern zur Kunstpause ein Im rückwärtigen Teil des Gebäudes empfängt die Goldene Bar ihre Gäste in historischem Ambiente und das nicht nur zu Museumszeiten. Im Keller des Hauses befindet sich zudem Münchens bekannteste Disco Das P1 Eintrittspreise Hausticket Large 15 regulär 11 ermäßigt für Rentnerinnen, Schwerbehinderte, BBK, u.a. 5 ermäßigt für Studierende, Schülerinnen, Auszubildende, Journalistinnen Hausticket Small 10 regulär 8 ermäßigt für Rentnerinnen, Schwerbehinderte, BBK, u.a. 5 ermäßigt für Studierende, Schülerinnen, Auszubildende, Journalistinnen Jahreskarte 365 Live 100 Freier Eintritt An jedem letzten Freitag im Monat ist Open Haus mit freiem Eintritt von 1622 Uhr. Ausstellungseröffnungen, Vorträge und Workshops Das Museum bietet regelmäßige Künstlerinnengespräche, Podiumsdiskussionen, Workshops, Seminare und Filmvorführungen für Kunstinteressierte an. Zudem richtet das Haus der Kunst Konzerte und Performances aus. Museumsbuchhandlung und historisches Archiv Wilfried Petzi Die Museumsbuchhandlung von Walther König greift in ihrem wechselnden Sortiment an Kunst, Design und Kinderbüchern Themen von aktuellen Ausstellungen auf. Seit 2005 steht Forschenden auch das Historische Archiv des Hauses zur Verfügung. Hier kann man Quellenmaterial des Ausstellungsbetriebs seit den 1930er Jahren einsehen. OnlineAngebot HDKfrom Ein MuseumsBlog bietet zahlreiche Infos rund um die aktuellen und kommenden Ausstellungen sowie anschauliche VideoTutorials, um selbst kreativ zu werden. Auf dem offiziellen YouTube Kanal werden Vorträge, Künstlerinnengespräche, Kuratorinneninterviews und Performances zu allen Ausstellungen hochgeladen. Zudem ist das Haus der Kunst bei Instagram und Facebook . Barrierefreiheit und Angebote für Menschen mit Behinderung Der Museumseingang an der Prinzregenstraße ist über eine Rampe barrierefrei erreichbar . Ein Aufzug bietet Zugang zu allen Etagen inklusive Museumsshop und der Goldenen Bar. Zwei BehindertenParkplätz e stehen hinter dem Haus der Kunst zur Verfügung. Rollstuhlgerechte Toiletten befinden sich im Erdgeschoss. Spezielle Führungen Das Haus der Kunst bietet Führungen in Gebärdensprache, für Sehbehinderte und für Menschen mit Demenz an. Historie Das Haus der Kunst im Wandel der Zeit Maximilian Geuter Das historische Gebäude ist heute ein internationales Zentrum zeitgenössischer Kunstausstellungen Seit seiner Eröffnung 1937 als Haus der Deutschen Kunst diente das Gebäude der nationalsozialistischen Kunstpolitik und wurde zu deren wichtigster Institution. Nach dem Zweiten Weltkrieg nutzte die amerikanische Armee das Gebäude zunächst als Offizierskasino, schon seit 1946 fanden aber auch immer wieder Kunstausstellungen statt. Seither hat sich das Haus der Kunst in ein internationales Zentrum zeitgenössischer Kunstausstellungen gewandelt und zählt heute zu den renommiertesten Museen für Gegenwartskunst der Welt. In Kooperation mit dem Kulturreferat und den Museen Dieser Beitrag über die Münchner Museen wird vom Kulturreferat der Landeshauptstadt München gefördert und ist in Kooperation mit der Landesstelle für die nichtstaatlichen Museen in Bayern konzipiert worden. Die Inhalte wurden zwischen den beteiligten Museen und , dem offiziellen Stadtportal, abgestimmt. Das könnte euch auch interessieren Münchner Museen Die Übersicht Die wichtigsten Museen und Galerien Münchens Ausstellungskalender Aktuelle und kommende MuseenHighlights Aktuelles MuseumsGuides Neues aus den Münchner Museen Auf einen Blick Haus der Kunst Prinzregentenstr. 1 80538 München Tel 498921127113 Fax 498921127157 mailhausderkunst.de Korrektur vorschlagen Barrierefreier Zugang Eingangstüre Ort Zu den Ausstellungsräumen im Luftschutzkeller vom Parkplatz Stufe 6,5 cm hoch. vom EG mit Lift mit Personal, dann jeweils weiter mit Treppenlift Rampe vorhanden Normale Parkplätze auf dem Parkplatz rechts vom Museum bis 19 Uhr, kostenpflichtig Bus 100 Königinstraße, Tram 36, Bus 100 NationalmuseumHaus der Kunst, U4, U5, Tram 36 Lehel Barrierefreiheit im Gebäude Schwellen Stufen im Innenraum Schwellen Stufen im Innenraum Höhe 6 Treppenlift vorhanden Treppenlift Personal nötig Barrierefreies WC vorhanden Öffnungszeiten identisch zum Eintrag WC für Damen und Herren im EG Barrierefreiheit weitere Information Rollstuhl und Klappstuhlverleih Bei einigen Ausstellungen Audioguide in Leichter Sprache und Audiodeskription Öffnungszeiten This is a carousel with rotating cards. Use the previous and next buttons to navigate, and Enter to activate cards. Vorheriger Slide Mo 1000 2000 Di geschlossen Mi 1000 2000 Do 1000 2200 Fr 1000 2000 Sa 1000 2000 So 1000 2000 Nächster Slide 1 30 von 133 Veranstaltungen 19 Mai bis 03 Aug Shu Lea Cheang KI KI Mo. 19.05.2025 1000 2000 Uhr Haus der Kunst 19 Mai bis 25 Mai Philippe Parreno. Voices Mo. 19.05.2025 1000 2000 Uhr Haus der Kunst 19 Mai bis 03 Aug Shu Lea Cheang KI KI Mi. 21.05.2025 1000 2000 Uhr Haus der Kunst 19 Mai bis 25 Mai Philippe Parreno. Voices Mi. 21.05.2025 1000 2000 Uhr Haus der Kunst 19 Mai bis 03 Aug Shu Lea Cheang KI KI Do. 22.05.2025 1000 2200 Uhr Haus der Kunst 19 Mai bis 25 Mai Philippe Parreno. Voices Do. 22.05.2025 1000 2200 Uhr Haus der Kunst 22 Mai bis 01 Juni deader than dead Do. 22.05.2025 1930 2300 Uhr Haus der Kunst Tickets 19 Mai bis 03 Aug Shu Lea Cheang KI KI Fr. 23.05.2025 1000 2000 Uhr Haus der Kunst 19 Mai bis 25 Mai Philippe Parreno. Voices Fr. 23.05.2025 1000 2000 Uhr Haus der Kunst 22 Mai bis 01 Juni deader than dead Fr. 23.05.2025 1930 2300 Uhr Haus der Kunst Tickets 19 Mai bis 25 Mai Philippe Parreno. Voices Sa. 24.05.2025 1000 2000 Uhr Haus der Kunst 19 Mai bis 03 Aug Shu Lea Cheang KI KI Sa. 24.05.2025 1000 2000 Uhr Haus der Kunst 19 Mai bis 03 Aug Shu Lea Cheang KI KI So. 25.05.2025 1000 2000 Uhr Haus der Kunst 19 Mai bis 25 Mai Philippe Parreno. Voices So. 25.05.2025 1000 2000 Uhr Haus der Kunst 19 Mai bis 03 Aug Shu Lea Cheang KI KI Mo. 26.05.2025 1000 2000 Uhr Haus der Kunst 19 Mai bis 03 Aug Shu Lea Cheang KI KI Mi. 28.05.2025 1000 2000 Uhr Haus der Kunst 19 Mai bis 03 Aug Shu Lea Cheang KI KI Do. 29.05.2025 1000 2200 Uhr Haus der Kunst 22 Mai bis 01 Juni AUSLAND Do. 29.05.2025 2000 2300 Uhr Haus der Kunst Tickets 19 Mai bis 03 Aug Shu Lea Cheang KI KI Fr. 30.05.2025 1000 2000 Uhr Haus der Kunst 19 Mai bis 03 Aug Shu Lea Cheang KI KI Fr. 30.05.2025 1000 2000 Uhr Haus der Kunst 22 Mai bis 01 Juni AUSLAND Fr. 30.05.2025 2000 2300 Uhr Haus der Kunst Tickets 19 Mai bis 03 Aug Shu Lea Cheang KI KI Sa. 31.05.2025 1000 2000 Uhr Haus der Kunst 19 Mai bis 03 Aug Shu Lea Cheang KI KI Sa. 31.05.2025 1000 2000 Uhr Haus der Kunst 19 Mai bis 03 Aug Shu Lea Cheang KI KI So. 01.06.2025 1000 2000 Uhr Haus der Kunst 19 Mai bis 03 Aug Shu Lea Cheang KI KI So. 01.06.2025 1000 2000 Uhr Haus der Kunst 19 Mai bis 03 Aug Shu Lea Cheang KI KI Mo. 02.06.2025 1000 2000 Uhr Haus der Kunst 19 Mai bis 03 Aug Shu Lea Cheang KI KI Mo. 02.06.2025 1000 2000 Uhr Haus der Kunst 19 Mai bis 03 Aug Shu Lea Cheang KI KI Mi. 04.06.2025 1000 2000 Uhr Haus der Kunst 19 Mai bis 03 Aug Shu Lea Cheang KI KI Mi. 04.06.2025 1000 2000 Uhr Haus der Kunst 19 Mai bis 03 Aug Shu Lea Cheang KI KI Do. 05.06.2025 1000 2200 Uhr Haus der Kunst Seitennummerierung Erste Seite 1 Seite 2 Seite 3 Seite 4 Seite 5 Letzte Seite Nächste Seite\n",
      "https://www.muenchen.de/sehenswuerdigkeiten/museen/ns-dokumentationszentrum-muenchen\n"
     ]
    },
    {
     "name": "stderr",
     "output_type": "stream",
     "text": [
      "100%|██████████| 12/12 [00:16<00:00,  1.40s/it]"
     ]
    },
    {
     "name": "stdout",
     "output_type": "stream",
     "text": [
      "Lern und Erinnerungsort zur Geschichte des Nationalsozialismus NSDokumentationszentrum München Das NSDokumentationszentrum München ist der zentrale Ort zur Auseinandersetzung mit der nationalsozialistischen Vergangenheit der Stadt. Adresse und Öffnungszeiten MaxMannheimerPlatz 1 , 80333 München Öffnungszeiten geschlossen Mo geschlossen Di 1000 1900 Mi 1000 1900 Do 1000 1900 Fr 1000 1900 Sa 1000 1900 So 1000 1900 Hinweis An Feiertagen, die auf einen Montag fallen, hat das NSDokumentationszentrum geöffnet. Gesonderte Öffnungszeiten an Feiertagen. Anfahrt nsdoku Weitere Aktionen Teilen auf Facebook Teilen via WhatsApp Kopieren Warum lohnt sich ein Besuch im NSDokumentationszentrum München? Connolly Weber Die Dokumentation ist in inhaltliche Themenschwerpunkte gegliedert, die durch die Ausstellung leiten Das NSDokumentationszentrum München erinnert am historischen Ort an die Verbrechen der NSDiktatur und vermittelt die Geschichte des Nationalsozialismus mit Blick auf die Gegenwart und Zukunft. In Ausstellungen, Veranstaltungen, Workshops und Seminaren vermittelt es Wissen und Bewusstsein und will so Rassismus, Antisemitismus und Diskriminierung entgegenwirken. Was ist geboten? Mit dem NSDokumentationszentrum München hat die Stadt einen Lern und Erinnerungsort erhalten, der sich mit der nationalsozialistischen Vergangenheit der Stadt und den Ursachen, Ausprägungen und Folgen der Diktatur auseinandersetzt. Inhaltliche Schwerpunkte sind der Aufstieg der NSBewegung in München, die besondere Rolle der Stadt im Terrorsystem der Diktatur und der schwierige Umgang mit der nationalsozialistischen Vergangenheit nach 1945 bis in die Gegenwart. Was ist das Besondere? Das NSDokumentationszentrum München ist ein lebendiger Ort der Information, des Austausches und der Diskussion, der immer den Bezug der historischen Erfahrungen zum Heute sucht. Große Fenster ermöglichen Sichtbezüge zu den baulichen Relikten der NSZeit, die authentischen Orte werden so zu einem Teil der Ausstellung. NSDokumentationszentrum München Alle Infos auf einen Blick Lage Zwischen Königsplatz und Karolinenplatz am MaxMannheimerPlatz im Kunstareal MuseumsKategorie Kulturgeschichte Kinderprogramm Mediaguide für Jugendliche sowie für Familien mit Kindern ab 11 Jahren, buchbare Workshops zu unterschiedlichen Themen Empfohlene Aufenthaltsdauer Ab 2 Stunden Anfahrt U2 bis Königsplatz, Bus 100, 150, 58 und 68 bis Königsplatz, Tram 27 und 28 bis Karolinenplatz Parken Keine eigenen Parkplätze vorhanden Ausstellungskonzept Bewusstsein und Diskussion über die NSZeit Connolly Weber Einer der Hauptaspekte des Dokumentationszentrums ist das Vermitteln von Wissen über die Zeit des Nationalsozialismus Die historische Ausstellung München und der Nationalsozialismus umfasst rund 1.000 Quadratmeter und erstreckt sich über dreieinhalb Geschosse, die folgenden Themen gewidmet sind Ursprung und Aufstieg der NSBewegung Herrschaft und Gesellschaft im Nationalsozialismus München und der Krieg Auseinandersetzung mit der NSZeit nach 1945 Das Ausstellungskonzept umfasst Fotografien, Dokumente und Texte sowie Filmmaterial und steht unter den leitenden Fragestellungen Warum München? und Was hat das mit mir zu tun?. Immer wieder wird die historische Ausstellung durch temporäre durch künstlerische Interventionen belebt und so eine Verbindung zwischen Geschichte, Gegenwart und Zukunft geschaffen. Was ihr sehen müsst Die großen Fenster Die Lamellenfenster ermöglichen vielfältige Sichtbezüge zu den baulichen Relikten der NSZeit. Die authentischen Orte werden somit Teil der Dokumentation. Die Kunstinstallation Brienner 45 Im Außenraum des Gebäudes entstand das Medienkunstwerk Brienner 45 der Brüder Benjamin und Emanuel Heisenberg. Verstreute Monitore zeigen mehrere Filmclips mit Texten aus Schlüsseldokumenten der NSZeit und historischen Bildern. Münchner Biografien Mit den Lebensläufen historischer Persönlichkeiten wie beispielsweise den Widerstandskämpferinnen Walter Klingenbeck , Georg Elser und Anita Augspurg beleuchtet die Ausstellung die Motive und Handlungsspielräume von Tätern und Opfern, Mitläufern und Widerständigen. Die Multimediastationen im Lernforum Auf vier interaktiven Medientischen hat man die Möglichkeit, sich mit verschiedenen Themenkomplexen zu beschäftigen. So können hier unter anderem die Anfänge und der Aufstieg der NSDAP in München oder auch die Biografien und Wohnorte von Verfolgten des NSRegimes recherchiert werden. Previous slide View image in modal View image in modal View image in modal View image in modal View image in modal Next slide Führungen und Formate Connolly Weber Regelmäßige Führungen und ergänzen das Vermittlungsprogramm des Museums Rundgänge durch die Ausstellung München und der Nationalsozialismus Jeden Sonntag, 11 und 14 Uhr Rundgang durch die Ausstellung München und der Nationalsozialismus auf Englisch Jeden Sonntag, 13 Uhr Rundgang durch die aktuelle Wechselausstellung Jeden Dienstag, 17.30 Uhr und jeden Sonntag 15 Uhr Mediaguides in den Sprachen Deutsch, Englisch, Arabisch, Französisch, Hebräisch, Italienisch, Polnisch, Russisch, Spanisch und Griechisch Mediaguide für Jugendliche Mediaguide für Familien mit Kindern ab 11 Jahren Lernforum und Bibliothek Connolly Weber Auf vier Medientischen habt ihr im Lernforum die Möglichkeit, euch mit den Themenkomplexen tiefer zu beschäftigen Einer der Hauptaspekte des Dokumentationszentrums ist das Vermitteln von Wissen über die Zeit des Nationalsozialismus. Aus diesem Grund verfügt das Museum über ein umfangreiches Lernforum mit Bibliothek, Medientischen, Datenbanken und Rechercheterminals. Ziel des Lernforums ist es, diese komplexen Inhalte in medial möglichst ansprechender Form aufzubereiten. Die Inhalte der Ausstellung können so vertieft werden, wobei sich dieses Angebot sowohl an Gruppen als auch an Einzelpersonen richtet. Veranstaltungen und Connolly Weber Im Außenraum des Gebäudes erinnert heute das Medienkunstwerk Brienner 45 an die NSZeit Darüber hinaus bietet das NSDokumentationszentrum München folgende Veranstaltungen an Wechselnde zu historischen und aktuellen Themen mit nationalen und internationalen Gästen aus den Bereichen Wissenschaft, Kunst, Literatur uvm. Regelmäßige Reihen mit verschiedenen Kooperationspartnern Buchbare Workshops und Seminare zu unterschiedlichen Themen für Kinder, Jugend, Schüler und Erwachsenengruppen Eintrittspreise Der Eintritt zum NSDokumentationszentrum München ist kostenfrei. App Orte Erinnern und OnlineAngebot SmartphoneApp Orte Erinnern Sites in Mind Mit der App kann man auch auf Münchens Straßen die Auswirkungen des Nationalsozialismus nachvollziehen. Die App führt euch zu 120 Orten in München und der Umgebung, die in einem direkten Bezug zur NS Geschichte stehen. OnlineStorytellings zu aktuellen Ausstellungen und Themen nsdoku lexikon mit 900 Artikeln zur nationalsozialistischen Vergangenheit der Stadt München nsdoku magazin Autorinnen aus Wissenschaft, Politik, Kunst und Kultur beleuchten historische Themen und aktuelle gesellschaftliche Entwicklungen. Podcast History is not the Past Expertinnen aus den Bereichen Wissenschaft, Journalismus, Kunst und Kultur behandeln historische und aktuelle Themen. Podcast Münchner Zeitgeschichten Ein partizipatives Audioprojekt von Jugendlichen für Jugendliche, die sich auf die Spuren der NSGeschichte in München begeben. YouTubeKanal mit regelmäßigen OnlineVeranstaltungen, Ausstellungsvideos und Interviews Die Geschichte des NSDokumentationszentrums München Connolly Weber Das NSDokumentationszentrum München befindet sich auf dem Gelände des Braunen Hauses, der einstigen Parteizentrale der NSDAP München ist Gründungsort der NSDAP und ist wie keine andere Stadt mit dem Aufstieg des Nationalsozialismus verbunden. Das NSDokumentationszentrum München befindet sich auf dem Gelände des Braunen Hauses, der einstigen Parteizentrale der NSDAP. Mit dem NSDokumentationszentrum München erhielt der Ort eine neue Bestimmung als offener und lebendiger Ort der Information, des Austausches und der Diskussion. Am 1. Mai 2015 wurde das NSDokumentationszentrum München eröffnet. Es entstand auf Initiative von Bürgerinnen, die für eine kritische Auseinandersetzung mit den Spuren der NSTäterschaft eintraten. Der Bau wurde finanziert von Bund, dem Freistaat Bayern und der Landeshauptstadt München und ist seit seiner Eröffnung eine Einrichtung der Landeshauptstadt München. Barrierefreiheit und Angebote für Menschen mit Einschränkungen Alle öffentlichen Bereiche des NSDokumentationszentrums München sind barrierefrei zugänglich. Der Eingang hat einen elektrischen Türöffner und im Erdgeschoss befinden sich taktile Lagepläne in Braille und KeilSchrift. S pezielle Angebote Mediaguide in deutscher Gebärdensprache und International Sign Language, Mediaguides und Begleitbroschüren in leichter Sprache . Neuer Erinnerungsort in Neuaubing geplant Connolly Weber In Neuaubing blieben acht Baracken eines ehemaligen Zwangsarbeiterlagers bis heute erhalten Im Münchner Westen soll in den nächsten Jahren ein lebendiger Erinnerungsort entstehen Am Rande von Neuaubing sind acht Baracken eines Lagers erhalten, in dem während der NSHerrschaft Zwangsarbeiterinnen untergebracht waren. Die interaktive und interdisziplinäre WebAnwendung Departure Neuaubing begleitet die Entstehung und lädt dazu ein, die Geschichte der nationalsozialistischen Zwangsarbeit als eine europäisch vernetzte Geschichte zu entdecken. In Kooperation mit dem Kulturreferat und den Museen Dieser Beitrag über die Münchner Museen wird vom Kulturreferat der Landeshauptstadt München gefördert und ist in Kooperation mit der Landesstelle für die nichtstaatlichen Museen in Bayern konzipiert worden. Die Inhalte wurden zwischen den beteiligten Museen und , dem offiziellen Stadtportal, abgestimmt. Das könnte euch auch interessieren Münchens Top Sehenswürdigkeiten Die Highlights von Marienplatz bis Frauenkirche So wird das Wetter Sonne oder Regen? Die Wetterprognose Webcams mit LiveBildern in München Was am Marienplatz, im Olympiapark und an der Isar zu sehen ist Auf einen Blick NSDokumentationszentrum München MaxMannheimerPlatz 1 80333 München Tel 498923367000 Fax 498923367005 nsdoku Korrektur vorschlagen Öffnungszeiten This is a carousel with rotating cards. Use the previous and next buttons to navigate, and Enter to activate cards. Vorheriger Slide Mo geschlossen Di 1000 1900 Mi 1000 1900 Do 1000 1900 Fr 1000 1900 Sa 1000 1900 So 1000 1900 Nächster Slide 1 30 von 275 Veranstaltungen 20 Mai bis 10 Mai Erinnerung ist... Di. 20.05.2025 1000 1900 Uhr NSDokumentationszentrum München 20 Mai bis 19 Okt. overexposedunderexposed Di. 20.05.2025 1000 1900 Uhr NSDokumentationszentrum München 20 Mai bis 19 Okt. overexposedunderexposed Mi. 21.05.2025 1000 1900 Uhr NSDokumentationszentrum München 20 Mai bis 10 Mai Erinnerung ist... Mi. 21.05.2025 1000 1900 Uhr NSDokumentationszentrum München 20 Mai bis 10 Mai Erinnerung ist... Do. 22.05.2025 1000 1900 Uhr NSDokumentationszentrum München 20 Mai bis 19 Okt. overexposedunderexposed Do. 22.05.2025 1000 1900 Uhr NSDokumentationszentrum München 20 Mai bis 10 Mai Erinnerung ist... Fr. 23.05.2025 1000 1900 Uhr NSDokumentationszentrum München 20 Mai bis 19 Okt. overexposedunderexposed Fr. 23.05.2025 1000 1900 Uhr NSDokumentationszentrum München 20 Mai bis 19 Okt. overexposedunderexposed Sa. 24.05.2025 1000 1900 Uhr NSDokumentationszentrum München 20 Mai bis 10 Mai Erinnerung ist... Sa. 24.05.2025 1000 1900 Uhr NSDokumentationszentrum München 20 Mai bis 10 Mai Erinnerung ist... So. 25.05.2025 1000 1900 Uhr NSDokumentationszentrum München 20 Mai bis 19 Okt. overexposedunderexposed So. 25.05.2025 1000 1900 Uhr NSDokumentationszentrum München 20 Mai bis 10 Mai Erinnerung ist... Di. 27.05.2025 1000 1900 Uhr NSDokumentationszentrum München 20 Mai bis 19 Okt. overexposedunderexposed Di. 27.05.2025 1000 1900 Uhr NSDokumentationszentrum München 20 Mai bis 19 Okt. overexposedunderexposed Mi. 28.05.2025 1000 1900 Uhr NSDokumentationszentrum München 20 Mai bis 10 Mai Erinnerung ist... Mi. 28.05.2025 1000 1900 Uhr NSDokumentationszentrum München 20 Mai bis 10 Mai Erinnerung ist... Do. 29.05.2025 1000 1900 Uhr NSDokumentationszentrum München 20 Mai bis 19 Okt. overexposedunderexposed Do. 29.05.2025 1000 1900 Uhr NSDokumentationszentrum München 20 Mai bis 10 Mai Erinnerung ist... Fr. 30.05.2025 1000 1900 Uhr NSDokumentationszentrum München 20 Mai bis 19 Okt. overexposedunderexposed Fr. 30.05.2025 1000 1900 Uhr NSDokumentationszentrum München 20 Mai bis 10 Mai Erinnerung ist... Sa. 31.05.2025 1000 1900 Uhr NSDokumentationszentrum München 20 Mai bis 19 Okt. overexposedunderexposed Sa. 31.05.2025 1000 1900 Uhr NSDokumentationszentrum München 20 Mai bis 10 Mai Erinnerung ist... So. 01.06.2025 1000 1900 Uhr NSDokumentationszentrum München 20 Mai bis 19 Okt. overexposedunderexposed So. 01.06.2025 1000 1900 Uhr NSDokumentationszentrum München 20 Mai bis 10 Mai Erinnerung ist... Di. 03.06.2025 1000 1900 Uhr NSDokumentationszentrum München 20 Mai bis 19 Okt. overexposedunderexposed Di. 03.06.2025 1000 1900 Uhr NSDokumentationszentrum München 20 Mai bis 10 Mai Erinnerung ist... Mi. 04.06.2025 1000 1900 Uhr NSDokumentationszentrum München 20 Mai bis 19 Okt. overexposedunderexposed Mi. 04.06.2025 1000 1900 Uhr NSDokumentationszentrum München 20 Mai bis 10 Mai Erinnerung ist... Do. 05.06.2025 1000 1900 Uhr NSDokumentationszentrum München 20 Mai bis 19 Okt. overexposedunderexposed Do. 05.06.2025 1000 1900 Uhr NSDokumentationszentrum München Seitennummerierung Erste Seite 1 Seite 2 Seite 3 Seite 4 Seite 5 Seite 6 Seite 7 Letzte Seite Nächste Seite\n"
     ]
    },
    {
     "name": "stderr",
     "output_type": "stream",
     "text": [
      "\n"
     ]
    }
   ],
   "source": [
    "import requests\n",
    "\n",
    "event_docs = []\n",
    "for url in tqdm(urls):\n",
    "    print(url)\n",
    "    r = requests.get(url)\n",
    "    soup = BeautifulSoup(r.content, 'html.parser')\n",
    "    # Find the main content container\n",
    "    main_content = soup.find('main', id='content')\n",
    "\n",
    "    if main_content:\n",
    "        # Extract text from the main content area\n",
    "        body_text = main_content.get_text(separator=' ', strip=True)\n",
    "        # Clean the extracted text\n",
    "        cleaned_text = clean_string(body_text)\n",
    "        event_docs.append(dict(text=cleaned_text, url=url))\n",
    "    else:\n",
    "         print(\"No content found for URL:\", url)"
   ]
  },
  {
   "cell_type": "code",
   "execution_count": null,
   "id": "e90c6264",
   "metadata": {},
   "outputs": [],
   "source": []
  },
  {
   "cell_type": "code",
   "execution_count": 115,
   "id": "242b1e51",
   "metadata": {},
   "outputs": [
    {
     "data": {
      "text/plain": [
       "{'text': 'Stabi München Universalbibliothek mit kultureller Bedeutung Bayerische Staatsbibliothek Infos, Ausstellungen und Tipps Die Bayerische Staatsbibliothek ist die größte wissenschaftliche Universalbibliothek Deutschlands und das in historischem Ambiente. Adresse und Öffnungszeiten Ludwigstr. 16 , 80539 München Öffnungszeiten Mo geöffnet 0800 00 Mo 0800 00 Di 0800 00 Mi 0800 00 Do 0800 00 Fr 0800 00 Sa 0800 00 So 0800 00 Hinweis 2025 ist die Bibliothek an folgenden Tagen geschlossen 1. Januar 6. Januar 4. März 18. 21. April 1. Mai 29. Mai 8.9. Juni 19. Juni 15. August 3. Oktober 1. November 24. 26. Dezember 31. Dezember Anfahrt Bayerische Staatsbibliothek Weitere Aktionen Teilen auf Facebook Teilen via WhatsApp Kopieren In Kooperation mit dem Kulturreferat und den Museen Dieser Beitrag über die Münchner Museen wird vom Kulturreferat der Landeshauptstadt München gefördert und ist in Kooperation mit der Landesstelle für die nichtstaatlichen Museen in Bayern konzipiert worden. Die Inhalte wurden zwischen den beteiligten Museen und , dem offiziellen Stadtportal, abgestimmt. Warum lohnt sich ein Besuch in der Bayerischen Staatsbibliothek? Bayerische Staatsbibliothek Das Bibliotheksgebäude mit seinem Prachttreppenhaus in der Ludwigstraße ist ein absoluter Hingucker Die Bayerische Staatsbibliothek gilt als ein Schatzhaus des schriftlichen Kulturerbes. Sie ist nicht nur eine wichtige Adresse für Forschende und Studierende, sondern auch einen Ausstellungsbesuch wert. Was ist geboten? Jährlich wechselnde Ausstellungen geben Einblicke in die umfangreichen Bestände der Bibliothek, beispielsweise aus der bedeutenden Handschriftensammlung oder den zahlreichen Fotoarchiven. Was ist besonders? Das gesamte historische Bibliotheksgebäude und sein Prachttreppenhaus. Die Bayerische Staatsbibliothek Alle Infos auf einen Blick Lage Im Universitätsviertel, schräg gegenüber dem Hauptgebäude der LMU MuseumsKategorie Bibliothek, Kultur und Kunst Empfohlene Aufenthaltsdauer Bis zu 2 Stunden Anfahrt U3U6, MetroBus 5868 oder StadtBus 153154 bis zur Haltestelle Universität Parken Keine Parkplätze vorhanden Bibliothek und Ausstellungshaus in einem BSBH.R. Schulz Der Gesamtbestand des Hauses umfasst etwa 11 Millionen Bücher, darunter viele spannende und kostbare Raritäten Fast 37 Millionen Medieneinheiten, darunter 11,2 Millionen Bände, 53.700 laufende Zeitschriften und 143.000 Handschriften, zählt die Bayerische Staatsbibliothek zu ihrem Bestand und ist damit eine wichtige Anlaufstelle für Forschende, Studierende und Informationssuchende aus ganz Europa. Euch erwartet aber weit mehr als eine nutzerfreundliche bare Forschungsbibliothek. Im ersten Stock finden regelmäßige Jahresausstellungen statt. In den Vitrinen liegen dann dabei neben Büchern und Schriftstücken auch Bilder, Zeichnungen und Dokumente aus längst vergangenen Zeiten. Zu den Highlights des Bibliotheksbestands zählen Handschriften im UNESCOWelterbe Die Bibliothek verwahrt mehrere Handschriften, die im UNESCOWeltdokumentenerbe gelistet sind, u.a. das Nibelungenlied, das Perikopenbuch Heinrichs II oder das Evangeliar Ottos III. Die Carmina Burana , der Babylonische Talmud oder der Codex Aureus gehören ebenso zum Spitzenbestand der Bibliothek Nachlässe und Künstlerbücher Neben Handschriften und seltenen Drucken nennt die Bibliothek eine bedeutende Sammlung mit über 1.000 Nachlässen oder eine umfangreiche Sammlung moderner Künstlerbücher u.a. von Max Ernst, Anselm Kiefer oder Joseph Beuys ihr eigen. Das umfangreiche historische Bildarchiv Von den Portraits wichtiger Persönlichkeiten des 19. und 20. Jahrhunderts über die Fotografien des Reichsbildberichterstatters Heinrich Hoffmann bis hin zu neueren journalistischen Aufnahmen aus Kunst, Kultur und Reisen ist alles vertreten. Auch das analoge Fotoarchiv der Zeitschrift Stern ist mit seinen rund 15 Millionen Bildern aus der Zeit von 1948 bis 2001 seit 2019 Teil der Bayerischen Staatsbibliothek. Eine Dauerausstellung wird leider nicht angeboten. Previous slide View image in modal View image in modal View image in modal View image in modal View image in modal View image in modal View image in modal View image in modal View image in modal View image in modal View image in modal Next slide Führungen und Begleitveranstaltungen zu Ausstellungen BSBH.R. Schulz Im März 2020 wurden im Rahmen der Ausstellung MÜNCHEN. SCHAU her! erste Bilder des SternFotoarchivs gezeigt Die Ausstellungen decken thematisch ein weites Feld ab. Meist werden ein kostenloses Führungsprogramm sowie ein kostenloser Audioguide angeboten. Zudem gibt es zu den meisten Ausstellungen und Präsentationen ein umfangreiches Programm an Begleitveranstaltungen . Aber auch abseits der Ausstellung ist ein Besuch der Stabi interessant Regelmäßig werden Führungen durch die Bibliotheksräume angeboten. Stabi Café BSB Ulrike Rehusch Im Untergeschoss findet ihr das Stabi Café Im Untergeschoss der Stabi findet ihr eine Cafeteria mit wöchentlich wechselnder Speisekarte. In der angrenzenden Lounge dürfen auch mitgebrachte Getränke und Speisen verzehrt werden. Kostenloser Eintritt Das Bibliotheksgebäude und die Ausstellung sind kostenfrei zugänglich. Digitale Ausstellungen und OPAC OnlineKatalog Mehr als 3 Millionen Werke aus dem Bestand der Bayerischen Staatsbibliothek können über den OPACKatalog und www.digitalesammlungen.de auch in digitaler Form gelesen werden. Auch zahlreiche A usstellungen sind auf der Website der Stabi virtuell einsehbar. Barrierefreiheit und Angebote für Menschen mit Behinderung Der barrierefreie Zugang ist über die Poststelle an der Südseite des Gebäudes möglich . Die Ausstellung im ersten Stock ist per Fahrstuhl erreichbar. Ein Behindertenparkplatz befindet sich ebenfalls auf der Südseite des Gebäudes. Eine behindertengerechte Toilette ist im Zeitschriftenlesesaal eingebaut. Geschichte der Staatsbibliothek BSBH.R. Schulz Das historische Gebäude der Bayerischen Staatsbibliothek in der Ludwigstraße entwarf einst der bedeutende Architekt Friedrich von Gärtner Die Bayerische Staatsbibliothek in München geht zurück auf die Hofbibliothek der Wittelsbacher, die 1558 auf Wunsch von Herzog Albrecht V. angelegt wurde. Ihr heutiges Gebäude in der Ludwigstraße, das Friedrich von Gärtner im Auftrag von König Ludwig I. entwarf, bezog sie 1843. Kostbare Handschriften, seltene Drucke und umfassende Sondersammlungen machen den Bestand der Bibliothek bis heute einzigartig. Als zentrale Landes und Archivbibliothek des Freistaats Bayern verfügt sie über fast 37 Millionen Medienheiten . Jedes Jahr kommen circa 125.000 Bände hinzu. Auch ihre OnlineAngebote baut die Stabi laufend aus Sei es durch die Massendigitalisierung der Bestände oder beispielsweise im Bereich elektronischer Zeitschriften. Mit über 3 Millionen digitalisierten Werken verfügt sie über den größten digitalen Datenbestand aller deutschen Bibliotheken. Und da sie zudem 2019 das analoge Fotoarchiv der Zeitschrift Stern übernahm, besitzt sie zudem das größte deutsche Bildarchiv in öffentlicher Trägerschaft. Das könnte euch auch interessieren Münchens Top Sehenswürdigkeiten Die Highlights von Marienplatz bis Frauenkirche So wird das Wetter Sonne oder Regen? Die Wetterprognose Webcams mit LiveBildern in München Was am Marienplatz, im Olympiapark und an der Isar zu sehen ist Auf einen Blick Bayerische Staatsbibliothek Ludwigstr. 16 80539 München Tel 4989286382322 Fax 4989286382155 informationbsb Korrektur vorschlagen Öffnungszeiten This is a carousel with rotating cards. Use the previous and next buttons to navigate, and Enter to activate cards. Vorheriger Slide Mo 0800 00 Di 0800 00 Mi 0800 00 Do 0800 00 Fr 0800 00 Sa 0800 00 So 0800 00 Nächster Slide 1 30 von 39 Veranstaltungen 19 Mai bis 06 Juli Farben Japans Holzschnitte aus der Sammlung der Bayerischen Staatsbibliothek Mo. 19.05.2025 1000 1800 Uhr Bayerische Staatsbibliothek 19 Mai bis 06 Juli Farben Japans Holzschnitte aus der Sammlung der Bayerischen Staatsbibliothek Di. 20.05.2025 1000 1800 Uhr Bayerische Staatsbibliothek 19 Mai bis 06 Juli Farben Japans Holzschnitte aus der Sammlung der Bayerischen Staatsbibliothek Mi. 21.05.2025 1000 1800 Uhr Bayerische Staatsbibliothek 19 Mai bis 06 Juli Farben Japans Holzschnitte aus der Sammlung der Bayerischen Staatsbibliothek Do. 22.05.2025 1000 1800 Uhr Bayerische Staatsbibliothek 19 Mai bis 06 Juli Farben Japans Holzschnitte aus der Sammlung der Bayerischen Staatsbibliothek Fr. 23.05.2025 1000 1800 Uhr Bayerische Staatsbibliothek 19 Mai bis 06 Juli Farben Japans Holzschnitte aus der Sammlung der Bayerischen Staatsbibliothek So. 25.05.2025 1000 1800 Uhr Bayerische Staatsbibliothek 19 Mai bis 06 Juli Farben Japans Holzschnitte aus der Sammlung der Bayerischen Staatsbibliothek Mo. 26.05.2025 1000 1800 Uhr Bayerische Staatsbibliothek 19 Mai bis 06 Juli Farben Japans Holzschnitte aus der Sammlung der Bayerischen Staatsbibliothek Di. 27.05.2025 1000 1800 Uhr Bayerische Staatsbibliothek 19 Mai bis 06 Juli Farben Japans Holzschnitte aus der Sammlung der Bayerischen Staatsbibliothek Mi. 28.05.2025 1000 1800 Uhr Bayerische Staatsbibliothek 19 Mai bis 06 Juli Farben Japans Holzschnitte aus der Sammlung der Bayerischen Staatsbibliothek Fr. 30.05.2025 1000 1800 Uhr Bayerische Staatsbibliothek 19 Mai bis 06 Juli Farben Japans Holzschnitte aus der Sammlung der Bayerischen Staatsbibliothek So. 01.06.2025 1000 1800 Uhr Bayerische Staatsbibliothek 19 Mai bis 06 Juli Farben Japans Holzschnitte aus der Sammlung der Bayerischen Staatsbibliothek Mo. 02.06.2025 1000 1800 Uhr Bayerische Staatsbibliothek 19 Mai bis 06 Juli Farben Japans Holzschnitte aus der Sammlung der Bayerischen Staatsbibliothek Di. 03.06.2025 1000 1800 Uhr Bayerische Staatsbibliothek 19 Mai bis 06 Juli Farben Japans Holzschnitte aus der Sammlung der Bayerischen Staatsbibliothek Mi. 04.06.2025 1000 1800 Uhr Bayerische Staatsbibliothek 19 Mai bis 06 Juli Farben Japans Holzschnitte aus der Sammlung der Bayerischen Staatsbibliothek Do. 05.06.2025 1000 1800 Uhr Bayerische Staatsbibliothek 19 Mai bis 06 Juli Farben Japans Holzschnitte aus der Sammlung der Bayerischen Staatsbibliothek Fr. 06.06.2025 1000 1800 Uhr Bayerische Staatsbibliothek 19 Mai bis 06 Juli Farben Japans Holzschnitte aus der Sammlung der Bayerischen Staatsbibliothek So. 08.06.2025 1000 1800 Uhr Bayerische Staatsbibliothek 19 Mai bis 06 Juli Farben Japans Holzschnitte aus der Sammlung der Bayerischen Staatsbibliothek Di. 10.06.2025 1000 1800 Uhr Bayerische Staatsbibliothek 19 Mai bis 06 Juli Farben Japans Holzschnitte aus der Sammlung der Bayerischen Staatsbibliothek Mi. 11.06.2025 1000 1800 Uhr Bayerische Staatsbibliothek 19 Mai bis 06 Juli Farben Japans Holzschnitte aus der Sammlung der Bayerischen Staatsbibliothek Do. 12.06.2025 1000 1800 Uhr Bayerische Staatsbibliothek 19 Mai bis 06 Juli Farben Japans Holzschnitte aus der Sammlung der Bayerischen Staatsbibliothek Fr. 13.06.2025 1000 1800 Uhr Bayerische Staatsbibliothek 19 Mai bis 06 Juli Farben Japans Holzschnitte aus der Sammlung der Bayerischen Staatsbibliothek So. 15.06.2025 1000 1800 Uhr Bayerische Staatsbibliothek 19 Mai bis 06 Juli Farben Japans Holzschnitte aus der Sammlung der Bayerischen Staatsbibliothek Mo. 16.06.2025 1000 1800 Uhr Bayerische Staatsbibliothek 19 Mai bis 06 Juli Farben Japans Holzschnitte aus der Sammlung der Bayerischen Staatsbibliothek Di. 17.06.2025 1000 1800 Uhr Bayerische Staatsbibliothek 19 Mai bis 06 Juli Farben Japans Holzschnitte aus der Sammlung der Bayerischen Staatsbibliothek Mi. 18.06.2025 1000 1800 Uhr Bayerische Staatsbibliothek 19 Mai bis 06 Juli Farben Japans Holzschnitte aus der Sammlung der Bayerischen Staatsbibliothek Fr. 20.06.2025 1000 1800 Uhr Bayerische Staatsbibliothek 19 Mai bis 06 Juli Farben Japans Holzschnitte aus der Sammlung der Bayerischen Staatsbibliothek So. 22.06.2025 1000 1800 Uhr Bayerische Staatsbibliothek 19 Mai bis 06 Juli Farben Japans Holzschnitte aus der Sammlung der Bayerischen Staatsbibliothek Mo. 23.06.2025 1000 1800 Uhr Bayerische Staatsbibliothek 19 Mai bis 06 Juli Farben Japans Holzschnitte aus der Sammlung der Bayerischen Staatsbibliothek Di. 24.06.2025 1000 1800 Uhr Bayerische Staatsbibliothek 19 Mai bis 06 Juli Farben Japans Holzschnitte aus der Sammlung der Bayerischen Staatsbibliothek Mi. 25.06.2025 1000 1800 Uhr Bayerische Staatsbibliothek Seitennummerierung Erste Seite 1 Seite 2 Letzte Seite Nächste Seite',\n",
       " 'url': 'https://www.muenchen.de/sehenswuerdigkeiten/museen/bayerische-staatsbibliothek'}"
      ]
     },
     "execution_count": 115,
     "metadata": {},
     "output_type": "execute_result"
    }
   ],
   "source": [
    "event_docs[0]"
   ]
  },
  {
   "cell_type": "code",
   "execution_count": 116,
   "id": "26c18c1b",
   "metadata": {},
   "outputs": [
    {
     "name": "stderr",
     "output_type": "stream",
     "text": [
      "100%|██████████| 1/1 [00:02<00:00,  2.65s/it]\n"
     ]
    },
    {
     "data": {
      "text/plain": [
       "12"
      ]
     },
     "execution_count": 116,
     "metadata": {},
     "output_type": "execute_result"
    }
   ],
   "source": [
    "BATCH_SIZE = 16\n",
    "upload_texts_to_pinecone(\n",
    "    texts=[g['text'] for g in event_docs],\n",
    "    batch_size=BATCH_SIZE, show_progress_bar=True, \n",
    "    urls=[g['url'] for g in event_docs]\n",
    ")"
   ]
  },
  {
   "cell_type": "code",
   "execution_count": 117,
   "id": "24b22f9b",
   "metadata": {},
   "outputs": [
    {
     "data": {
      "text/plain": [
       "{'dimension': 1536,\n",
       " 'index_fullness': 0.0,\n",
       " 'metric': 'cosine',\n",
       " 'namespaces': {'default': {'vector_count': 44}},\n",
       " 'total_vector_count': 44,\n",
       " 'vector_type': 'dense'}"
      ]
     },
     "execution_count": 117,
     "metadata": {},
     "output_type": "execute_result"
    }
   ],
   "source": [
    "index.describe_index_stats()\n"
   ]
  },
  {
   "cell_type": "code",
   "execution_count": 118,
   "id": "4cbee354",
   "metadata": {},
   "outputs": [
    {
     "name": "stdout",
     "output_type": "stream",
     "text": [
      "https://www.muenchen.de/sehenswuerdigkeiten/museen/lenbachhaus-muenchen 0.509821773 Seite 1 Seite 2 Seite 3 Letzte Seite Nächste Seite\n",
      "https://www.muenchen.de/sehenswuerdigkeiten/museen/lenbachhaus-muenchen 0.48386389 hauptstadt München und der Stadtwerke München GmbH\n",
      "https://www.muenchen.de/sehenswuerdigkeiten/museen/lenbachhaus-muenchen 0.483780771 hauptstadt München und der Stadtwerke München GmbH\n",
      "https://www.muenchen.de/sehenswuerdigkeiten/museen/museum-brandhorst 0.445284605 Seite 1 Seite 2 Seite 3 Letzte Seite Nächste Seite\n",
      "https://www.muenchen.de/sehenswuerdigkeiten/museen/museum-brandhorst 0.428482056 hauptstadt München und der Stadtwerke München GmbH\n",
      "https://www.muenchen.de/sehenswuerdigkeiten/museen/museum-brandhorst 0.428161621 hauptstadt München und der Stadtwerke München GmbH\n",
      "https://www.muenchen.de/sehenswuerdigkeiten/haus-der-kunst 0.400598556 Seite 3 Seite 4 Seite 5 Letzte Seite Nächste Seite\n",
      "https://www.muenchen.de/sehenswuerdigkeiten/museen/galerie-bezirk-oberbayern 0.400506645 Seite 1 Seite 2 Seite 3 Letzte Seite Nächste Seite\n",
      "https://www.muenchen.de/sehenswuerdigkeiten/museen/ns-dokumentationszentrum-muenchen 0.400218189 Seite 5 Seite 6 Seite 7 Letzte Seite Nächste Seite\n",
      "https://www.muenchen.de/sehenswuerdigkeiten/museen/ns-dokumentationszentrum-muenchen 0.399499267 Seite 5 Seite 6 Seite 7 Letzte Seite Nächste Seite\n"
     ]
    }
   ],
   "source": [
    "query = 'Ich will die Blaue Reiter bild von Franz Marc besuchen'\n",
    "\n",
    "results = query_from_pinecone(query, top_k=10)\n",
    "for result in results:\n",
    "    print(result['metadata']['url'], result['score'], result['metadata']['text'][-50:])"
   ]
  },
  {
   "cell_type": "markdown",
   "id": "f9699e99",
   "metadata": {},
   "source": [
    "## Using Open Source Embedders"
   ]
  },
  {
   "cell_type": "code",
   "execution_count": 119,
   "id": "c03b0cf2",
   "metadata": {},
   "outputs": [
    {
     "data": {
      "text/plain": [
       "(3, 384)"
      ]
     },
     "execution_count": 119,
     "metadata": {},
     "output_type": "execute_result"
    }
   ],
   "source": [
    "from sentence_transformers import SentenceTransformer, util\n",
    "\n",
    "open_source_embedder = SentenceTransformer('all-MiniLM-L6-v2')\n",
    "\n",
    "open_source_embedder.encode(['hi', 'hello', 'sup']).shape"
   ]
  },
  {
   "cell_type": "code",
   "execution_count": 120,
   "id": "5c781969",
   "metadata": {},
   "outputs": [
    {
     "data": {
      "text/plain": [
       "SentenceTransformer(\n",
       "  (0): Transformer({'max_seq_length': 256, 'do_lower_case': False}) with Transformer model: BertModel \n",
       "  (1): Pooling({'word_embedding_dimension': 384, 'pooling_mode_cls_token': False, 'pooling_mode_mean_tokens': True, 'pooling_mode_max_tokens': False, 'pooling_mode_mean_sqrt_len_tokens': False, 'pooling_mode_weightedmean_tokens': False, 'pooling_mode_lasttoken': False, 'include_prompt': True})\n",
       "  (2): Normalize()\n",
       ")"
      ]
     },
     "execution_count": 120,
     "metadata": {},
     "output_type": "execute_result"
    }
   ],
   "source": [
    "open_source_embedder"
   ]
  },
  {
   "cell_type": "markdown",
   "id": "3d9752cd",
   "metadata": {},
   "source": [
    "### Synthetci test data generation"
   ]
  },
  {
   "cell_type": "code",
   "execution_count": 121,
   "id": "1fc9c2ef",
   "metadata": {},
   "outputs": [],
   "source": [
    "synthetic_data_prompt = '''I am designing a chatbot to use this document as information to our users.\n",
    "\n",
    "Please write 10 questions that an average person not living in Munich might ask that can definitely be answered using information using the provided document.\n",
    "\n",
    "Try to ask in a way that's confusing to really test our system's knowledge but still fair.\n",
    "\n",
    "I need 5 in german, 2 in english in that order.\n",
    "\n",
    "Use this format to output:\n",
    "Document: A given document to make questions from\n",
    "JSON: [\"german question 1\", \"german question 2\", \"german question 3\", ...  \"english question 1\", \"english question 2\"]\n",
    "###\n",
    "Document: {document}\n",
    "JSON:'''\n",
    "\n",
    "response = openai_client.chat.completions.create(\n",
    "    model='gpt-4o',\n",
    "    messages=[{\"role\": \"user\", \"content\": synthetic_data_prompt.format(document=event_docs[1]['text'])}],\n",
    "    temperature=1\n",
    ")"
   ]
  },
  {
   "cell_type": "code",
   "execution_count": 122,
   "id": "cb0bcd86",
   "metadata": {},
   "outputs": [],
   "source": [
    "languages = ['german']*5+['english']*2"
   ]
  },
  {
   "cell_type": "code",
   "execution_count": 123,
   "id": "63220019",
   "metadata": {},
   "outputs": [
    {
     "data": {
      "text/plain": [
       "[('german', 'Welche Museen in München sind besonders sehenswert?'),\n",
       " ('german', 'Gibt es Tipps für die LGBTIQ-Community in München?'),\n",
       " ('german',\n",
       "  'Welche besonderen U-Bahn-Stationen sollte man in München besuchen?'),\n",
       " ('german', 'Welche Konzerthallen sollte man in München kennen?'),\n",
       " ('german', 'Was sind die Öffnungszeiten des Tierpark Hellabrunn?'),\n",
       " ('english',\n",
       "  'What are some of the most notable landmarks to visit in Munich?'),\n",
       " ('english',\n",
       "  'How can tourists get information about public transportation in Munich?')]"
      ]
     },
     "execution_count": 123,
     "metadata": {},
     "output_type": "execute_result"
    }
   ],
   "source": [
    "import json\n",
    "\n",
    "list(zip(\n",
    "    languages,\n",
    "    json.loads('[' + response.choices[0].message.content.split('[')[-1].strip().split(']')[0].strip() + ']')\n",
    "))"
   ]
  },
  {
   "cell_type": "code",
   "execution_count": 124,
   "id": "ce79ea4e",
   "metadata": {},
   "outputs": [
    {
     "name": "stderr",
     "output_type": "stream",
     "text": [
      "100%|██████████| 2/2 [00:06<00:00,  3.37s/it]\n"
     ]
    }
   ],
   "source": [
    "synthetic_questions = []\n",
    "from random import sample\n",
    "\n",
    "# generate synthetic test data for a sample  of the urls found\n",
    "SAMPLE = .2\n",
    "for i, event_doc in enumerate(tqdm(sample(event_docs, int(len(event_docs) * SAMPLE)))):\n",
    "        \n",
    "    response = openai_client.chat.completions.create(\n",
    "        model='gpt-4o',\n",
    "        messages=[{\"role\": \"user\", \"content\": synthetic_data_prompt.format(document=event_doc['text'])}],\n",
    "        temperature=1\n",
    "    )\n",
    "    try:\n",
    "        questions = json.loads('[' + response.choices[0].message.content.split('[')[-1].strip().split(']')[0].strip() + ']')\n",
    "        questions = [q.strip() for q in questions]\n",
    "        assert len(questions) == len(languages)\n",
    "        for language, question in zip(languages, questions):\n",
    "            synthetic_questions.append(\n",
    "            dict(\n",
    "                language=language, \n",
    "                query=question, \n",
    "                expected_hash=my_hash(event_doc['text'])\n",
    "            )\n",
    "        )\n",
    "    except Exception as e:\n",
    "        print(f'Could not generate questions for index {i}: {e}')"
   ]
  },
  {
   "cell_type": "code",
   "execution_count": 125,
   "id": "1de2a10d",
   "metadata": {},
   "outputs": [
    {
     "data": {
      "text/plain": [
       "14"
      ]
     },
     "execution_count": 125,
     "metadata": {},
     "output_type": "execute_result"
    }
   ],
   "source": [
    "len(synthetic_questions)"
   ]
  },
  {
   "cell_type": "code",
   "execution_count": 126,
   "id": "b7892144",
   "metadata": {},
   "outputs": [
    {
     "name": "stdout",
     "output_type": "stream",
     "text": [
      "[german] Welche Adresse hat die Kunsthalle München?\n",
      "[german] Kann man in der Kunsthalle München eine Ausstellung länger als gewöhnlich besuchen, und wenn ja, wann?\n",
      "[german] Was ist das Besondere an der Architektur der Kunsthalle München?\n",
      "[german] Welche berühmten Künstler wurden in der Kunsthalle München schon ausgestellt?\n",
      "[german] Gibt es in der Kunsthalle München ermäßigte Eintrittspreise, und wenn ja, wann?\n",
      "[english] What is the recommended duration of a visit to the Kunsthalle München?\n",
      "[english] How can one reach the Kunsthalle München using public transportation?\n",
      "[german] Warum ist die Bayerische Staatsbibliothek für Forschende und Studierende von Bedeutung?\n",
      "[german] Welche besonderen Sammlungen beherbergt die Bayerische Staatsbibliothek?\n",
      "[german] Wie kann man die Bayerische Staatsbibliothek von der U-Bahn-Station Universität aus erreichen?\n",
      "[german] Welche Historie hat das Gebäude der Bayerischen Staatsbibliothek?\n",
      "[german] Wann ist die Bayerische Staatsbibliothek im Jahr 2025 geschlossen?\n",
      "[english] What makes the Bayerische Staatsbibliothek's collection unique?\n",
      "[english] How can visitors access digital collections from the Bayerische Staatsbibliothek?\n"
     ]
    }
   ],
   "source": [
    "for q in synthetic_questions:\n",
    "    print(f\"[{q['language']}] {q['query']}\")"
   ]
  },
  {
   "cell_type": "code",
   "execution_count": 127,
   "id": "6fe19665",
   "metadata": {},
   "outputs": [],
   "source": [
    "def test_query(query, expected_hash, language, top_k=5):\n",
    "        \n",
    "    results = query_from_pinecone(query, top_k=top_k)\n",
    "    top_result_correct = results[0]['id'] == expected_hash  # accuracy\n",
    "    result_in_pinecone_list = expected_hash in (r['id'] for r in results)  # Recall@top_k (10, etc)\n",
    "    return dict(\n",
    "        result_in_pinecone_list=result_in_pinecone_list, top_result_correct=top_result_correct,\n",
    "        language=language, expected_hash=expected_hash, top_hash=results[0]['id']\n",
    "    )"
   ]
  },
  {
   "cell_type": "code",
   "execution_count": 128,
   "id": "98bbbfac",
   "metadata": {},
   "outputs": [
    {
     "data": {
      "text/plain": [
       "{'result_in_pinecone_list': True,\n",
       " 'top_result_correct': False,\n",
       " 'language': 'german',\n",
       " 'expected_hash': '10d2d1855815617d864b41f6408cb86c',\n",
       " 'top_hash': '5e854f4638ce8ad012d67c38bb16ad4d'}"
      ]
     },
     "execution_count": 128,
     "metadata": {},
     "output_type": "execute_result"
    }
   ],
   "source": [
    "test_query(**synthetic_questions[0])"
   ]
  },
  {
   "cell_type": "code",
   "execution_count": 129,
   "id": "26a2fa08",
   "metadata": {},
   "outputs": [
    {
     "name": "stderr",
     "output_type": "stream",
     "text": [
      "100%|██████████| 14/14 [00:09<00:00,  1.52it/s]\n"
     ]
    }
   ],
   "source": [
    "synthetic_test_results = []\n",
    "for synthetic_question in tqdm(synthetic_questions):\n",
    "    synthetic_test_results.append(test_query(**synthetic_question))"
   ]
  },
  {
   "cell_type": "code",
   "execution_count": 130,
   "id": "14085602",
   "metadata": {},
   "outputs": [
    {
     "name": "stdout",
     "output_type": "stream",
     "text": [
      "result_in_pinecone_list    1.000000\n",
      "top_result_correct         0.857143\n",
      "dtype: float64\n"
     ]
    },
    {
     "data": {
      "image/png": "[encoded data removed]",
      "text/plain": [
       "<Figure size 1200x600 with 1 Axes>"
      ]
     },
     "metadata": {},
     "output_type": "display_data"
    }
   ],
   "source": [
    "import pandas as pd\n",
    "results_df = pd.DataFrame(synthetic_test_results)\n",
    "\n",
    "print(results_df[['result_in_pinecone_list', 'top_result_correct']].mean())\n",
    "\n",
    "import matplotlib.pyplot as plt\n",
    "\n",
    "# Assuming you've already created results_df\n",
    "grouped_data = results_df.groupby('language')[['result_in_pinecone_list', 'top_result_correct']].mean()\n",
    "\n",
    "# Set the style and color palette\n",
    "plt.style.use('fivethirtyeight')\n",
    "# sns.set_palette(\"deep\")\n",
    "\n",
    "# Create the figure and axis\n",
    "fig, ax = plt.subplots(figsize=(12, 6))\n",
    "\n",
    "# Plot the data\n",
    "grouped_data.plot(kind='bar', ax=ax)\n",
    "\n",
    "# Customize the plot\n",
    "ax.set_title('Performance Metrics by Language (OpenAI only)', fontsize=16, pad=20)\n",
    "ax.set_xlabel('Language', fontsize=12)\n",
    "ax.set_ylabel('Mean Score', fontsize=12)\n",
    "ax.tick_params(axis='x', rotation=45)\n",
    "\n",
    "# Add value labels on top of each bar\n",
    "for i in ax.containers:\n",
    "    ax.bar_label(i, fmt='%.2f', padding=3)\n",
    "\n",
    "# Add a legend\n",
    "ax.legend(['Result in Pinecone List', 'Top Result Correct'], title='Metrics', loc='upper left', bbox_to_anchor=(1, 1))\n",
    "\n",
    "# Adjust layout and display the plot\n",
    "plt.tight_layout()\n",
    "plt.show()"
   ]
  },
  {
   "cell_type": "markdown",
   "id": "f0b7808d",
   "metadata": {},
   "source": [
    "### Making Retrieval Better with Cohere's Re-Rank"
   ]
  },
  {
   "cell_type": "code",
   "execution_count": 131,
   "id": "0e5c41f2",
   "metadata": {},
   "outputs": [],
   "source": [
    "import cohere\n",
    "\n",
    "load_dotenv()\n",
    "\n",
    "co = cohere.Client(os.environ.get('COHERE_API_KEY'))"
   ]
  }
 ],
 "metadata": {
  "kernelspec": {
   "display_name": ".venv",
   "language": "python",
   "name": "python3"
  },
  "language_info": {
   "codemirror_mode": {
    "name": "ipython",
    "version": 3
   },
   "file_extension": ".py",
   "mimetype": "text/x-python",
   "name": "python",
   "nbconvert_exporter": "python",
   "pygments_lexer": "ipython3",
   "version": "3.13.3"
  }
 },
 "nbformat": 4,
 "nbformat_minor": 5
}
