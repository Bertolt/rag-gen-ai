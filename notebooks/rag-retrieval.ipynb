{
 "cells": [
  {
   "cell_type": "markdown",
   "id": "a9dd78fb",
   "metadata": {},
   "source": [
    "# Put the R in RAG"
   ]
  },
  {
   "cell_type": "code",
   "execution_count": 10,
   "id": "2d1bd524",
   "metadata": {},
   "outputs": [
    {
     "name": "stdout",
     "output_type": "stream",
     "text": [
      "Name: pinecone\n",
      "Version: 6.0.2\n",
      "Summary: Pinecone client and SDK\n",
      "Home-page: https://www.pinecone.io\n",
      "Author: Pinecone Systems, Inc.\n",
      "Author-email: support@pinecone.io\n",
      "License: Apache-2.0\n",
      "Location: c:\\Users\\ruben\\github_repos\\rag-gen-ai\\.venv\\Lib\\site-packages\n",
      "Requires: certifi, pinecone-plugin-interface, python-dateutil, typing-extensions, urllib3\n",
      "Required-by: \n"
     ]
    }
   ],
   "source": [
    "# Debug pinecone installation\n",
    "!pip show pinecone"
   ]
  },
  {
   "cell_type": "code",
   "execution_count": 11,
   "id": "1531095a",
   "metadata": {},
   "outputs": [],
   "source": [
    "from openai import OpenAI\n",
    "from pinecone import Pinecone, ServerlessSpec\n",
    "from bs4 import BeautifulSoup\n",
    "\n",
    "import hashlib\n",
    "import os\n",
    "from dotenv import load_dotenv\n",
    "\n",
    "from datetime import datetime\n",
    "\n",
    "from tqdm import tqdm"
   ]
  },
  {
   "cell_type": "code",
   "execution_count": 12,
   "id": "d3ba2f27",
   "metadata": {},
   "outputs": [
    {
     "name": "stdout",
     "output_type": "stream",
     "text": [
      "API key loaded: pcs...\n"
     ]
    }
   ],
   "source": [
    "load_dotenv()\n",
    "# Retrieve the Pinecone API key from user data\n",
    "pinecone_api_key = os.environ.get(\"PINECONE_API_KEY\")\n",
    "\n",
    "print(f\"API key loaded: {pinecone_api_key[:3]}...\" if pinecone_api_key else \"No API key found\")\n",
    "\n",
    "# Initialize the OpenAI client\n",
    "openai_client = OpenAI(\n",
    "    api_key=os.environ.get(\"OPENAI_API_KEY\")\n",
    ")\n",
    "\n",
    "# Define constants [vector size, embedding engine] small: 1536 medium: 4096 large: 12288\n",
    "ENGINE = 'text-embedding-3-small'\n",
    "\n",
    "# Initialize Pinecone client\n",
    "pc = Pinecone(\n",
    "    pinecone_api_key=pinecone_api_key\n",
    ")"
   ]
  },
  {
   "cell_type": "code",
   "execution_count": 13,
   "id": "9e073d60",
   "metadata": {},
   "outputs": [
    {
     "data": {
      "text/plain": [
       "(1536, 2)"
      ]
     },
     "execution_count": 13,
     "metadata": {},
     "output_type": "execute_result"
    }
   ],
   "source": [
    "INDEX_NAME = 'semantic-search-rag-index' # name of the collection of documents\n",
    "NAMESPACE = 'default' # split the documents into namespaces. default is 'default'\n",
    "\n",
    "def get_embeddings(text, engine=ENGINE):\n",
    "    \"\"\"\n",
    "    Get the embeddings for a given text using OpenAI's API.\n",
    "    \"\"\"\n",
    "    response = openai_client.embeddings.create(\n",
    "            input=text,\n",
    "            model=engine\n",
    "        )\n",
    "    return [data.embedding for data in list(response.data)]\n",
    "\n",
    "def get_embedding(text, engine=ENGINE):\n",
    "    \"\"\"\n",
    "    Get the embedding for a given text using OpenAI's API.\n",
    "    Use the get_embeddings function to get the embedding for a single text\n",
    "    \"\"\"\n",
    "    return get_embeddings(text, engine)[0]\n",
    "\n",
    "len(get_embedding(\"Hello world!\")), len(get_embeddings([\"Hello world!\", \"Servus Welt\"]))\n"
   ]
  },
  {
   "cell_type": "code",
   "execution_count": 14,
   "id": "1799c7c3",
   "metadata": {},
   "outputs": [
    {
     "data": {
      "text/plain": [
       "<pinecone.data.index.Index at 0x2744233b770>"
      ]
     },
     "execution_count": 14,
     "metadata": {},
     "output_type": "execute_result"
    }
   ],
   "source": [
    "if INDEX_NAME not in pc.list_indexes().names():\n",
    "    # Create the index if it doesn't exist\n",
    "    pc.create_index(\n",
    "        name=INDEX_NAME, # name of the index\n",
    "        dimension=1536, # dimension of the embedding for OpenAI's text-embedding-3-small\n",
    "        metric='cosine', # metric for similarity search\n",
    "        spec=ServerlessSpec(\n",
    "            cloud='aws',\n",
    "            region='us-east-1',\n",
    "        )\n",
    "    )\n",
    "\n",
    "# Store the index as variable\n",
    "index = pc.Index(INDEX_NAME)\n",
    "index"
   ]
  },
  {
   "cell_type": "code",
   "execution_count": 15,
   "id": "2985baa8",
   "metadata": {},
   "outputs": [
    {
     "data": {
      "text/plain": [
       "{'dimension': 1536,\n",
       " 'index_fullness': 0.0,\n",
       " 'metric': 'cosine',\n",
       " 'namespaces': {'default': {'vector_count': 36}},\n",
       " 'total_vector_count': 36,\n",
       " 'vector_type': 'dense'}"
      ]
     },
     "execution_count": 15,
     "metadata": {},
     "output_type": "execute_result"
    }
   ],
   "source": [
    "index.describe_index_stats()"
   ]
  },
  {
   "cell_type": "code",
   "execution_count": 86,
   "id": "e0e5ef81",
   "metadata": {},
   "outputs": [],
   "source": [
    "# # delete all documents in the index\n",
    "# index.delete(delete_all=True, namespace=NAMESPACE)\n",
    "# # check if the index is empty\n",
    "# index.describe_index_stats()"
   ]
  },
  {
   "cell_type": "code",
   "execution_count": 16,
   "id": "a4c743f8",
   "metadata": {},
   "outputs": [
    {
     "data": {
      "text/plain": [
       "'ae76cc4dfd345ecaeea9b8ba0d5c3437'"
      ]
     },
     "execution_count": 16,
     "metadata": {},
     "output_type": "execute_result"
    }
   ],
   "source": [
    "def my_hash(s):\n",
    "    # Return the MD5 hash of the input string as a hexadecimal string\n",
    "    # depending the vectorDB, We need to know how to upload the data to Pinecone and read\n",
    "    # Compressed version of the text\n",
    "    return hashlib.md5(s.encode()).hexdigest()\n",
    "\n",
    "my_hash('I love to hash it')"
   ]
  },
  {
   "cell_type": "code",
   "execution_count": 33,
   "id": "ecec6f44",
   "metadata": {},
   "outputs": [],
   "source": [
    "def prepare_data_for_pinecone(texts, engine=ENGINE, urls=None):\n",
    "    \"\"\"\n",
    "    Prepare the data for Pinecone by creating a list of tuples with the ID, embedding, and metadata.\n",
    "    \"\"\"\n",
    "\n",
    "    now = datetime.now()\n",
    "\n",
    "    # Generate vector embeddings for each string in the input list, using the specified engine\n",
    "    embeddings = get_embeddings(texts, engine)\n",
    "\n",
    "    # Create tuples of (hash, embedding, metadata) for each input string and its corresponding vector embedding\n",
    "    # The my_hash() function is used to generate a unique hash for each string, and the datetime.utcnow() \n",
    "    # function is used to generate the current UTC date and time\n",
    "    responses = [\n",
    "        (\n",
    "            my_hash(text),  # A unique ID for each string, generated using the my_hash() function\n",
    "            embedding,  # The vector embedding of the string\n",
    "            dict(text=text, date_uploaded=now.isoformat())  # A dictionary of metadata, including the original text and the current UTC date and time\n",
    "        )\n",
    "        for text, embedding in zip(texts, embeddings)  # Iterate over each input string and its corresponding vector embedding\n",
    "    ]\n",
    "\n",
    "    if urls and len(urls) == len(texts):\n",
    "        for response, url in zip(responses, urls):\n",
    "            response[-1]['url'] = url\n",
    "\n",
    "    return responses\n",
    "    "
   ]
  },
  {
   "cell_type": "code",
   "execution_count": 18,
   "id": "1d550031",
   "metadata": {},
   "outputs": [],
   "source": [
    "texts = ['hi']"
   ]
  },
  {
   "cell_type": "code",
   "execution_count": 35,
   "id": "880e8680",
   "metadata": {},
   "outputs": [
    {
     "name": "stdout",
     "output_type": "stream",
     "text": [
      "ID:   49f68a5c8493ec2c0bf489821c21fc3b \n",
      "LEN:  1536 \n",
      "META: {'text': 'hi', 'date_uploaded': '2025-06-04T10:53:15.320274'}\n"
     ]
    }
   ],
   "source": [
    "_id, embedding, metadata = prepare_data_for_pinecone(texts)[0]\n",
    "\n",
    "print('ID:  ',_id, '\\nLEN: ', len(embedding), '\\nMETA:', metadata)"
   ]
  },
  {
   "cell_type": "code",
   "execution_count": 34,
   "id": "58177b36",
   "metadata": {},
   "outputs": [
    {
     "name": "stdout",
     "output_type": "stream",
     "text": [
      "ID:   49f68a5c8493ec2c0bf489821c21fc3b \n",
      "LEN:  1536 \n",
      "META: {'text': 'hi', 'date_uploaded': '2025-06-04T10:53:09.668553', 'url': 'fake.url'}\n"
     ]
    }
   ],
   "source": [
    "urls = ['fake.url']\n",
    "_id, embedding, metadata = prepare_data_for_pinecone(texts, urls=urls)[0]\n",
    "\n",
    "print('ID:  ',_id, '\\nLEN: ', len(embedding), '\\nMETA:', metadata)"
   ]
  },
  {
   "cell_type": "code",
   "execution_count": 49,
   "id": "d605d908",
   "metadata": {},
   "outputs": [],
   "source": [
    "def upload_texts_to_pinecone(texts, namespace=NAMESPACE, batch_size=None, show_progress_bar=False, urls=None):\n",
    "    # Call the prepare_data_for_pinecone function to prepare the input texts for indexing\n",
    "    total_upserted = 0\n",
    "    if not batch_size:\n",
    "        batch_size = len(texts)\n",
    "\n",
    "    _range = range(0, len(texts), batch_size)\n",
    "    for i in tqdm(_range) if show_progress_bar else _range:\n",
    "        text_batch = texts[i: i + batch_size]\n",
    "        if urls:\n",
    "            url_batch = urls[i: i + batch_size]\n",
    "            prepared_texts = prepare_data_for_pinecone(text_batch, urls=url_batch)\n",
    "        else:\n",
    "            prepared_texts = prepare_data_for_pinecone(text_batch)\n",
    "\n",
    "\n",
    "        # Use the upsert() method of the index object to upload the prepared texts to Pinecone\n",
    "        total_upserted += index.upsert(\n",
    "            vectors=prepared_texts,\n",
    "            namespace=namespace\n",
    "        )['upserted_count']\n",
    "\n",
    "\n",
    "    return total_upserted"
   ]
  },
  {
   "cell_type": "code",
   "execution_count": 93,
   "id": "c2bcd159",
   "metadata": {},
   "outputs": [
    {
     "data": {
      "text/plain": [
       "{'dimension': 1536,\n",
       " 'index_fullness': 0.0,\n",
       " 'metric': 'cosine',\n",
       " 'namespaces': {},\n",
       " 'total_vector_count': 0,\n",
       " 'vector_type': 'dense'}"
      ]
     },
     "execution_count": 93,
     "metadata": {},
     "output_type": "execute_result"
    }
   ],
   "source": [
    "# Call the upload_texts_to_pinecone() function with the input texts\n",
    "upload_texts_to_pinecone(texts)\n",
    "\n",
    "index.describe_index_stats()"
   ]
  },
  {
   "cell_type": "code",
   "execution_count": 36,
   "id": "79e4179b",
   "metadata": {},
   "outputs": [],
   "source": [
    "def query_from_pinecone(query, top_k=3, include_metadata=True):\n",
    "    # get embedding from THE SAME embedder as the documents\n",
    "    query_embedding = get_embedding(query, engine=ENGINE)\n",
    "\n",
    "    return index.query(\n",
    "      vector=query_embedding,\n",
    "      top_k=top_k,\n",
    "      namespace=NAMESPACE,\n",
    "      include_metadata=include_metadata   # gets the metadata (dates, text, etc)\n",
    "    ).get('matches')"
   ]
  },
  {
   "cell_type": "code",
   "execution_count": 37,
   "id": "432d8b65",
   "metadata": {},
   "outputs": [
    {
     "data": {
      "text/plain": [
       "[{'id': '3777c4d7195425cd26b0beaec51a99fa',\n",
       "  'metadata': {'date_uploaded': '2025-05-21T12:43:56.545019',\n",
       "               'text': 'Ad Ausstellung im Lenbachhaus München Was zu '\n",
       "                       'verschwinden droht, wird Bild. In der Ausstellung Was '\n",
       "                       'zu verschwinden droht, wird Bild widmet sich das '\n",
       "                       'Lenbachhaus seit 4. März 2025 dem Thema Vergänglichkeit '\n",
       "                       'Gerade in Zeiten des Klimawandels eine äußerst '\n",
       "                       'relevante und aktuelle Thematik. Datum und '\n",
       "                       'Veranstaltungsort 21.05.2025 1000 until 1800 h '\n",
       "                       'Lenbachhaus München Städtische Galerie im Lenbachhaus '\n",
       "                       'und Kunstbau More actions Share on Facebook Share via '\n",
       "                       'WhatsApp Copy link Mensch Natur Kunst Es ist ein '\n",
       "                       'Gemeinplatz, erschreckend und faszinierend zugleich '\n",
       "                       'Alles, was in Bildern festgehalten wurde, existiert '\n",
       "                       'nicht mehr oder nicht mehr in der dargestellten Form. '\n",
       "                       'In der Kunst findet sich das Thema Vergänglichkeit oft '\n",
       "                       'sinnbildlich umgesetzt, als Memento Mori oder '\n",
       "                       'melancholische Meditation über das Verschwinden von '\n",
       "                       'Dingen. Auch Bilder von Träumen, Begegnungen mit '\n",
       "                       'Menschen, Erkundungen der Natur zeigen nur '\n",
       "                       'vorübergehende Momente. Manchmal wird das Flüchtige '\n",
       "                       'explizit zum Thema einer Darstellung, die es trotzdem '\n",
       "                       'festzuhalten sucht Wolken wandeln sich ständig, Schnee '\n",
       "                       'schmilzt bald, Bäume blühen nur kurze Zeit. In Zeiten '\n",
       "                       'des Klimawandels ist das Bewusstsein dafür, dass sich '\n",
       "                       'unsere gesamte Umwelt rasant verändert, allgegenwärtig '\n",
       "                       'geworden. Deshalb betrachten wir insbesondere Werke der '\n",
       "                       'Landschaftskunst heute mit anderen Augen. Sie zeigen '\n",
       "                       'eine Natur, die immer schon von Menschen beeinflusst '\n",
       "                       'war. Eine Landschaft ist nicht mehr nur ein schöner '\n",
       "                       'Anblick, sondern ein bedrohtes Ökosystem. Die '\n",
       "                       'Ausstellung ist um derartige Augenblicke des Erkennens '\n",
       "                       'gebaut. Sie zeigt bekannte wie auch selten oder bisher '\n",
       "                       'noch nie gezeigte Werke des 19. und 20. Jahrhunderts '\n",
       "                       'aus den Sammlungen des Lenbachhauses, des Historischen '\n",
       "                       'Vereins von Oberbayern, der Christoph Heilmann '\n",
       "                       'Stiftung, der Münchener Secession, der Gabriele Münter '\n",
       "                       'und Johannes EichnerStiftung, der KiCo Stiftung und des '\n",
       "                       'Förderverein Lenbachhaus e. V. Die Kunst arbeitet mit '\n",
       "                       'Vergänglichem und mit dem Wissen um Vergänglichkeit. '\n",
       "                       'Darin trifft sie sich mit der Idee des Museums, das '\n",
       "                       'Kunstwerke sammelt, bewahren wie auch vermitteln will. '\n",
       "                       'Mit Werken von Albrecht Adam, AntoineLouis Barye, '\n",
       "                       'Joseph Beaume, Rosa MarieRosalie Bonheur, Heinrich '\n",
       "                       'Bürkel, Maria CasparFilser, Lovis Corinth, JeanBaptiste '\n",
       "                       'Camille Corot, Johan Christian Dahl, AlexandreGabriel '\n",
       "                       'Decamps, Narcisse Virgilio Diaz de la Peña, Jules Luis '\n",
       "                       'Dupré, Maria Eichhorn, Thomas Fearnley, Thomas Theodor '\n",
       "                       'Heine, Jacques Hérold, Wilhelm Jakob Hertling, Paul '\n",
       "                       'Hoecker, Wassily Kandinsky, Wilhelm Leibl, Franz Marc, '\n",
       "                       'PierreJules Mêne, Christiane Möbus, Christian Ernst '\n",
       "                       'Bernhard Morgenstern, Gabriele Münter, Jean Bloé '\n",
       "                       'Niestlé, Blinky Palermo, Leo Putz, Gerhard Richter, '\n",
       "                       'Richard Riemerschmid, Carl Rottmann, Théodore Rousseau, '\n",
       "                       'Eduard Schleich d. Ä., Johann Sperl, Carl Spitzweg, '\n",
       "                       'Toni Stadler, Wilhelm Trübner, Timm Ulrichs, Johann '\n",
       "                       'Georg von Dillis, Wilhelm von Kobell, Franz von '\n",
       "                       'Lenbach, Gabriel von Max, Max Joseph Wagenbauer, Fritz '\n",
       "                       'Winter In Kooperation mit dem Kulturreferat und den '\n",
       "                       'Museen Dieser Beitrag wird vom Kulturreferat der LHM '\n",
       "                       'gefördert. Dates Wed , 21. May 2025 1000 Lenbachhaus '\n",
       "                       'München Thu , 22. May 2025 1000 Lenbachhaus München Fri '\n",
       "                       ', 23. May 2025 1000 Lenbachhaus München Sat , 24. May '\n",
       "                       '2025 1000 Lenbachhaus München Sun , 25. May 2025 1000 '\n",
       "                       'Lenbachhaus München Sun , 25. May 2025 1000 Lenbachhaus '\n",
       "                       'München Tue , 27. May 2025 1000 Lenbachhaus München Wed '\n",
       "                       ', 28. May 2025 1000 Lenbachhaus München Thu , 29. May '\n",
       "                       '2025 1000 Lenbachhaus München Fri , 30. May 2025 1000 '\n",
       "                       'Lenbachhaus München Sat , 31. May 2025 1000 Lenbachhaus '\n",
       "                       'München Sun , 01. June 2025 1000 Lenbachhaus München '\n",
       "                       'Tue , 03. June 2025 1000 Lenbachhaus München Wed , 04. '\n",
       "                       'June 2025 1000 Lenbachhaus München Thu , 05. June 2025 '\n",
       "                       '1000 Lenbachhaus München Fri , 06. June 2025 1000 '\n",
       "                       'Lenbachhaus München Sat , 07. June 2025 1000 '\n",
       "                       'Lenbachhaus München Sun , 08. June 2025 1000 '\n",
       "                       'Lenbachhaus München Tue , 10. June 2025 1000 '\n",
       "                       'Lenbachhaus München Wed , 11. June 2025 1000 '\n",
       "                       'Lenbachhaus München Thu , 12. June 2025 1000 '\n",
       "                       'Lenbachhaus München Fri , 13. June 2025 1000 '\n",
       "                       'Lenbachhaus München Sat , 14. June 2025 1000 '\n",
       "                       'Lenbachhaus München Sun , 15. June 2025 1000 '\n",
       "                       'Lenbachhaus München Tue , 17. June 2025 1000 '\n",
       "                       'Lenbachhaus München Wed , 18. June 2025 1000 '\n",
       "                       'Lenbachhaus München Thu , 19. June 2025 1000 '\n",
       "                       'Lenbachhaus München Fri , 20. June 2025 1000 '\n",
       "                       'Lenbachhaus München Sat , 21. June 2025 1000 '\n",
       "                       'Lenbachhaus München Sun , 22. June 2025 1000 '\n",
       "                       'Lenbachhaus München Sat , 28. June 2025 1000 '\n",
       "                       'Lenbachhaus München Sun , 29. June 2025 1000 '\n",
       "                       'Lenbachhaus München',\n",
       "               'url': 'https://www.muenchen.de/en/node/98241'},\n",
       "  'score': 0.639305413,\n",
       "  'values': []},\n",
       " {'id': '24bc39eee73e309a0f3b6b1497eb1b1b',\n",
       "  'metadata': {'date_uploaded': '2025-05-21T12:43:56.545019',\n",
       "               'text': 'Ad Zentralinstitut für Kunstgeschichte Ausstellung über '\n",
       "                       'die Poesie eines Archivs Die Unterlagen befinden sich '\n",
       "                       'im Zustand der Ablage Wie poetisch kann Verwaltung '\n",
       "                       'sein? Acht Künstlerinnen haben sich mit dem Archiv des '\n",
       "                       'Künstlerverbund im Haus der Kunst e.V. '\n",
       "                       'auseinandergesetzt. Vom 20. März bis 4. Juli 2025 sind '\n",
       "                       'ihre Arbeiten unter dem Titel Die Unterlagen befinden '\n",
       "                       'sich im Zustand der Ablage nun in einer '\n",
       "                       'Sonderausstellung im Zentralinstitut für '\n",
       "                       'Kunstgeschichte zu sehen. Datum und Veranstaltungsort '\n",
       "                       '21.05.2025 1000 until 2000 h Zentralinstitut für '\n",
       "                       'Kunstgeschichte Raimund Ritz More actions Share on '\n",
       "                       'Facebook Share via WhatsApp Copy link Das ist im '\n",
       "                       'Zentralinstitut für Kunstgeschichte zu sehen Acht '\n",
       "                       'Künstlerinnen setzen sich mit der derzeitigen '\n",
       "                       'dornröschenhaften Situation des Magazins im Haus der '\n",
       "                       'Kunst auseinander und entwickeln vielfältige Arbeiten '\n",
       "                       'zum Thema. Die künstlerischen Positionen bewegen sich '\n",
       "                       'im Spannungsfeld zwischen Archivwesen und Kunst, '\n",
       "                       'Geschichte und Gegenwart, historischer Faktenlage und '\n",
       "                       'Interpretation. Ihre Arbeiten werden im Dialog mit '\n",
       "                       'erstmals öffentlich gezeigten, ausgewählten und '\n",
       "                       'kommentierten historischen Dokumenten und Artefakten '\n",
       "                       'aus dem Archiv in der Ausstellung im Zentralinstitut '\n",
       "                       'für Kunstgeschichte präsentiert. Die Ausstellung ist '\n",
       "                       'Teil des Programms der Reihe Public History München '\n",
       "                       '1945 2025 Stunde Null? Wie wir wurden, was wir sind des '\n",
       "                       'Kulturreferats der Landeshauptstadt München. '\n",
       "                       'Teilnehmende Künstlerinnen Albert Coers, Petra '\n",
       "                       'Gerschner, Esther Glück, Andreas Huber, Christoph '\n",
       "                       'Nicolaus und Rasha Ragab, Günter Nosch, Stefanie Unruh '\n",
       "                       'Über den Künstlerverbund und das Archiv Der '\n",
       "                       'Künstlerverbund im Haus der Kunst e.V. ist Nachfolger '\n",
       "                       'der 1948 gegründeten Ausstellungsleitung München e.V., '\n",
       "                       'die von 1949 bis 2011 die Großen Münchner '\n",
       "                       'Kunstausstellungen und weit über 100 '\n",
       "                       'Sonderausstellungen im Haus der Kunst ausrichtete. Sie '\n",
       "                       'war maßgeblich an der Wiederaufnahme des '\n",
       "                       'Ausstellungsbetriebs in München nach Ende des '\n",
       "                       'Nationalsozialismus beteiligt. Die kunsthistorische '\n",
       "                       'Bedeutung des Archivs Das Archiv der '\n",
       "                       'Ausstellungsleitung enthält Quellen aus den Jahren 1948 '\n",
       "                       'bis heute. Darunter Korrespondenz, Protokolle, '\n",
       "                       'Ausstellerpapiere, Unterlagen zu An und Verkäufen von '\n",
       "                       'Kunstobjekten und zu Leihverkehr mit Privatsammlerinnen '\n",
       "                       'und sammlern und Museen Zeitungsausschnitte, '\n",
       "                       'Organisationsunterlagen zum Münchner Künstlerfasching '\n",
       "                       'Fotografien, Klischees und Reprovorlagen sowie Plakate '\n",
       "                       'und Kataloge zu den Ausstellungen im Haus der Kunst '\n",
       "                       'seit 1949 Das im Haus der Kunst aufbewahrte Archiv ist '\n",
       "                       'der Öffentlichkeit nicht zugänglich und wurde bisher '\n",
       "                       'noch nicht wissenschaftlich bearbeitet oder '\n",
       "                       'ausgewertet. Die Unterlagen bieten vielfältige '\n",
       "                       'Anknüpfungspunkte für kunsthistorische Forschungsfragen '\n",
       "                       'vom Ausstellungswesen der Nachkriegszeit über '\n",
       "                       'Kunstmarkt und Provenienzforschung bis zu '\n",
       "                       'Künstlervereinen. Öffentliche Führungen durch die '\n",
       "                       'Ausstellung Dienstag, 25. März 2025, 1100 Uhr Führung '\n",
       "                       'mit der Kunsthistorikerin Julia Reich und dem Kurator '\n",
       "                       'Raimund Ritz Dienstag, 13. Mai 2025, 1100 Uhr Führung '\n",
       "                       'mit der Künstlerin Petra Gerschner und dem '\n",
       "                       'Kunsthistoriker Christian Fuhrmeister Dienstag, 24. '\n",
       "                       'Juni 2025, 1100 Uhr Führung mit der Präsidentin des '\n",
       "                       'Künstlerverbund im Haus der Kunst München e.V. Regina '\n",
       "                       'HellwigSchmid und der Kunsthistorikerin Julia Reich Die '\n",
       "                       'Teilnahme ist kostenfrei. In cooperation with the '\n",
       "                       'cultural department and the museums This article about '\n",
       "                       'Munichs museums is sponsored by the Cultural Department '\n",
       "                       'of the City of Munich and was conceived in cooperation '\n",
       "                       'with the State Agency for NonState Museums in Bavaria. '\n",
       "                       'The content has been coordinated between the '\n",
       "                       'participating museums and , the official city portal. '\n",
       "                       'This might also interest you Dates Wed , 21. May 2025 '\n",
       "                       '1000 Zentralinstitut für Kunstgeschichte Thu , 22. May '\n",
       "                       '2025 1000 Zentralinstitut für Kunstgeschichte Fri , 23. '\n",
       "                       'May 2025 1000 Zentralinstitut für Kunstgeschichte Mon , '\n",
       "                       '26. May 2025 1000 Zentralinstitut für Kunstgeschichte '\n",
       "                       'Tue , 27. May 2025 1000 Zentralinstitut für '\n",
       "                       'Kunstgeschichte Wed , 28. May 2025 1000 Zentralinstitut '\n",
       "                       'für Kunstgeschichte Fri , 30. May 2025 1000 '\n",
       "                       'Zentralinstitut für Kunstgeschichte Mon , 02. June 2025 '\n",
       "                       '1000 Zentralinstitut für Kunstgeschichte Tue , 03. June '\n",
       "                       '2025 1000 Zentralinstitut für Kunstgeschichte Wed , 04. '\n",
       "                       'June 2025 1000 Zentralinstitut für Kunstgeschichte Thu '\n",
       "                       ', 05. June 2025 1000 Zentralinstitut für '\n",
       "                       'Kunstgeschichte Fri , 06. June 2025 1000 '\n",
       "                       'Zentralinstitut für Kunstgeschichte Tue , 10. June 2025 '\n",
       "                       '1000 Zentralinstitut für Kunstgeschichte Wed , 11. June '\n",
       "                       '2025 1000 Zentralinstitut für Kunstgeschichte Thu , 12. '\n",
       "                       'June 2025 1000 Zentralinstitut für Kunstgeschichte Fri '\n",
       "                       ', 13. June 2025 1000 Zentralinstitut für '\n",
       "                       'Kunstgeschichte Mon , 16. June 2025 1000 '\n",
       "                       'Zentralinstitut für Kunstgeschichte Tue , 17. June 2025 '\n",
       "                       '1000 Zentralinstitut für Kunstgeschichte Wed , 18. June '\n",
       "                       '2025 1000 Zentralinstitut für Kunstgeschichte Fri , 20. '\n",
       "                       'June 2025 1000 Zentralinstitut für Kunstgeschichte Mon '\n",
       "                       ', 23. June 2025 1000 Zentralinstitut für '\n",
       "                       'Kunstgeschichte Tue , 24. June 2025 1000 '\n",
       "                       'Zentralinstitut für Kunstgeschichte Wed , 25. June 2025 '\n",
       "                       '1000 Zentralinstitut für Kunstgeschichte Thu , 26. June '\n",
       "                       '2025 1000 Zentralinstitut für Kunstgeschichte Fri , 27. '\n",
       "                       'June 2025 1000 Zentralinstitut für Kunstgeschichte Mon '\n",
       "                       ', 30. June 2025 1000 Zentralinstitut für '\n",
       "                       'Kunstgeschichte Tue , 01. July 2025 1000 '\n",
       "                       'Zentralinstitut für Kunstgeschichte Wed , 02. July 2025 '\n",
       "                       '1000 Zentralinstitut für Kunstgeschichte Thu , 03. July '\n",
       "                       '2025 1000 Zentralinstitut für Kunstgeschichte Fri , 04. '\n",
       "                       'July 2025 1000 Zentralinstitut für Kunstgeschichte',\n",
       "               'url': 'https://www.muenchen.de/en/node/96219'},\n",
       "  'score': 0.614734411,\n",
       "  'values': []},\n",
       " {'id': 'f9cb1ed4b14cdbba438732cbecd5e53b',\n",
       "  'metadata': {'date_uploaded': '2025-05-21T12:43:56.545019',\n",
       "               'text': 'Ad Ausstellung in der Galerie Bezirk Oberbayern '\n",
       "                       'CarstenCaren Lewerentz und Susanne Winter Werden Vom 7. '\n",
       "                       'Mai bis 11. September 2025 ist die Ausstellung Werden '\n",
       "                       'in der Galerie Bezirk Oberbayern zu sehen. Die Arbeiten '\n",
       "                       'der Textilkünstlerin Susanne Winter und des Bildhauers '\n",
       "                       'CarstenCaren Lewerentz stehen für Wandel, Veränderung '\n",
       "                       'und Entfaltung und für die Frage nach Identität Wer bin '\n",
       "                       'ich? Und Was bin ich? Datum und Veranstaltungsort '\n",
       "                       '21.05.2025 1000 until 1900 h Galerie Bezirk Oberbayern '\n",
       "                       'VGBildKunstBonn More actions Share on Facebook Share '\n",
       "                       'via WhatsApp Copy link CarstenCaren Lewerentz '\n",
       "                       'Skulpturen zwischen Identität und Leere CarstenCaren '\n",
       "                       'Lewerentz Skulpturen und Plastiken zeigen abgelegte '\n",
       "                       'Kleidung in Holz und Bronze. Sie sind Sinnbild für '\n",
       "                       'leere, verlassene menschliche Hüllen, denen Veränderung '\n",
       "                       'und Neues folgen kann und sie sind zugleich Zeugnisse '\n",
       "                       'persönlicher Entfaltung von Identität. Für Lewerentz '\n",
       "                       'bildet jedes Textil als zweite Haut des Menschen eine '\n",
       "                       'Verbindungslinie zwischen innerem und äußerem Sein. Aus '\n",
       "                       'der persönlichen Disharmonie zwischen Körper und '\n",
       "                       'innerem Wesen wurde für den Bildhauer das '\n",
       "                       'Kleidungsstück zu einem existentiellen Ausdruck seiner '\n",
       "                       'Kunst. Bild oben CarstenCaren Lewerentz, PRÄLUDIUM UND '\n",
       "                       'FUGE, 2009, Zirbelkiefer, 2010x39x36 cm Veranstaltungen '\n",
       "                       'zur Ausstellung 7. Mai 2025, 18 Uhr Vernissage 23. Mai '\n",
       "                       '2025, 151730 Uhr KreativWorkshop Kunstbegegnungen 3. '\n",
       "                       'Juni 2025, 18301915 Uhr Führung in leicht '\n",
       "                       'verständlicher Sprache 27. Juni 2025, 181930 Uhr '\n",
       "                       'Tastführung zur Originalwerken der Ausstellung 23. Juli '\n",
       "                       '2025, 1819 Uhr Museum SignerFührung Der Eintritt zur '\n",
       "                       'Ausstellung und den Veranstaltungen ist frei. Susanne '\n",
       "                       'Winter Materialbetonte Farblandschaften Stefan '\n",
       "                       'Rosenboom Susanne Winter Tintenschüttung, 2023, Tinte '\n",
       "                       'auf Aquarellpapier, 130x130 cm. Für ihre '\n",
       "                       'materialbetonten Farblandschaften arbeitet Susanne '\n",
       "                       'Winter mit Nähmaschine und Sticknadel auf Papier. Durch '\n",
       "                       'das Hin und Her der Fäden, durch Verdichtungen und '\n",
       "                       'Verknotungen entstehen Fadenzeichnungen mit farbigen '\n",
       "                       'Flächen und griffigen Formen. In ihren neuen Arbeiten '\n",
       "                       'experimentiert sie mit selbstgewonnenen Naturfarben aus '\n",
       "                       'Pflanzen, Wurzeln und Blättern und bringt diese durch '\n",
       "                       'Schütten auf Papier. Lenkung und Zufall wechseln sich '\n",
       "                       'beim Fluss der Farben ab. So zeigen sich Spuren von '\n",
       "                       'Wegen und Umwegen als Sinnbild für das Werden. Teil der '\n",
       "                       'Ausstellung ist ein großes, partizipatives Stickbild '\n",
       "                       'der Künstlerin, dessen Werden Besuchende mitgestalten '\n",
       "                       'können. In cooperation with the cultural department and '\n",
       "                       'the museums This article about Munichs museums is '\n",
       "                       'sponsored by the Cultural Department of the City of '\n",
       "                       'Munich and was conceived in cooperation with the State '\n",
       "                       'Agency for NonState Museums in Bavaria. The content has '\n",
       "                       'been coordinated between the participating museums and '\n",
       "                       ', the official city portal. This might also interest '\n",
       "                       'you Dates Wed , 21. May 2025 1000 Galerie Bezirk '\n",
       "                       'Oberbayern Thu , 22. May 2025 1000 Galerie Bezirk '\n",
       "                       'Oberbayern Fri , 23. May 2025 1000 Galerie Bezirk '\n",
       "                       'Oberbayern Mon , 26. May 2025 1000 Galerie Bezirk '\n",
       "                       'Oberbayern Tue , 27. May 2025 1000 Galerie Bezirk '\n",
       "                       'Oberbayern Wed , 28. May 2025 1000 Galerie Bezirk '\n",
       "                       'Oberbayern Fri , 30. May 2025 1000 Galerie Bezirk '\n",
       "                       'Oberbayern Mon , 02. June 2025 1000 Galerie Bezirk '\n",
       "                       'Oberbayern Tue , 03. June 2025 1000 Galerie Bezirk '\n",
       "                       'Oberbayern Wed , 04. June 2025 1000 Galerie Bezirk '\n",
       "                       'Oberbayern Thu , 05. June 2025 1000 Galerie Bezirk '\n",
       "                       'Oberbayern Fri , 06. June 2025 1000 Galerie Bezirk '\n",
       "                       'Oberbayern Tue , 10. June 2025 1000 Galerie Bezirk '\n",
       "                       'Oberbayern Wed , 11. June 2025 1000 Galerie Bezirk '\n",
       "                       'Oberbayern Thu , 12. June 2025 1000 Galerie Bezirk '\n",
       "                       'Oberbayern Fri , 13. June 2025 1000 Galerie Bezirk '\n",
       "                       'Oberbayern Mon , 16. June 2025 1000 Galerie Bezirk '\n",
       "                       'Oberbayern Tue , 17. June 2025 1000 Galerie Bezirk '\n",
       "                       'Oberbayern Wed , 18. June 2025 1000 Galerie Bezirk '\n",
       "                       'Oberbayern Fri , 20. June 2025 1000 Galerie Bezirk '\n",
       "                       'Oberbayern Mon , 23. June 2025 1000 Galerie Bezirk '\n",
       "                       'Oberbayern Tue , 24. June 2025 1000 Galerie Bezirk '\n",
       "                       'Oberbayern Wed , 25. June 2025 1000 Galerie Bezirk '\n",
       "                       'Oberbayern Thu , 26. June 2025 1000 Galerie Bezirk '\n",
       "                       'Oberbayern Fri , 27. June 2025 1000 Galerie Bezirk '\n",
       "                       'Oberbayern Mon , 30. June 2025 1000 Galerie Bezirk '\n",
       "                       'Oberbayern Tue , 01. July 2025 1000 Galerie Bezirk '\n",
       "                       'Oberbayern Wed , 02. July 2025 1000 Galerie Bezirk '\n",
       "                       'Oberbayern Thu , 03. July 2025 1000 Galerie Bezirk '\n",
       "                       'Oberbayern Fri , 04. July 2025 1000 Galerie Bezirk '\n",
       "                       'Oberbayern Mon , 07. July 2025 1000 Galerie Bezirk '\n",
       "                       'Oberbayern Tue , 08. July 2025 1000 Galerie Bezirk '\n",
       "                       'Oberbayern Wed , 09. July 2025 1000 Galerie Bezirk '\n",
       "                       'Oberbayern Thu , 10. July 2025 1000 Galerie Bezirk '\n",
       "                       'Oberbayern Fri , 11. July 2025 1000 Galerie Bezirk '\n",
       "                       'Oberbayern Mon , 14. July 2025 1000 Galerie Bezirk '\n",
       "                       'Oberbayern Tue , 15. July 2025 1000 Galerie Bezirk '\n",
       "                       'Oberbayern Wed , 16. July 2025 1000 Galerie Bezirk '\n",
       "                       'Oberbayern Thu , 17. July 2025 1000 Galerie Bezirk '\n",
       "                       'Oberbayern Fri , 18. July 2025 1000 Galerie Bezirk '\n",
       "                       'Oberbayern Mon , 21. July 2025 1000 Galerie Bezirk '\n",
       "                       'Oberbayern Tue , 22. July 2025 1000 Galerie Bezirk '\n",
       "                       'Oberbayern Wed , 23. July 2025 1000 Galerie Bezirk '\n",
       "                       'Oberbayern Thu , 24. July 2025 1000 Galerie Bezirk '\n",
       "                       'Oberbayern Fri , 25. July 2025 1000 Galerie Bezirk '\n",
       "                       'Oberbayern Mon , 28. July 2025 1000 Galerie Bezirk '\n",
       "                       'Oberbayern Tue , 29. July 2025 1000 Galerie Bezirk '\n",
       "                       'Oberbayern Wed , 30. July 2025 1000 Galerie Bezirk '\n",
       "                       'Oberbayern Thu , 31. July 2025 1000 Galerie Bezirk '\n",
       "                       'Oberbayern Fri , 01. August 2025 1000 Galerie Bezirk '\n",
       "                       'Oberbayern Mon , 04. August 2025 1000 Galerie Bezirk '\n",
       "                       'Oberbayern Tue , 05. August 2025 1000 Galerie Bezirk '\n",
       "                       'Oberbayern Wed , 06. August 2025 1000 Galerie Bezirk '\n",
       "                       'Oberbayern Thu , 07. August 2025 1000 Galerie Bezirk '\n",
       "                       'Oberbayern Fri , 08. August 2025 1000 Galerie Bezirk '\n",
       "                       'Oberbayern Mon , 11. August 2025 1000 Galerie Bezirk '\n",
       "                       'Oberbayern Tue , 12. August 2025 1000 Galerie Bezirk '\n",
       "                       'Oberbayern Wed , 13. August 2025 1000 Galerie Bezirk '\n",
       "                       'Oberbayern Thu , 14. August 2025 1000 Galerie Bezirk '\n",
       "                       'Oberbayern Mon , 18. August 2025 1000 Galerie Bezirk '\n",
       "                       'Oberbayern Tue , 19. August 2025 1000 Galerie Bezirk '\n",
       "                       'Oberbayern Wed , 20. August 2025 1000 Galerie Bezirk '\n",
       "                       'Oberbayern Thu , 21. August 2025 1000 Galerie Bezirk '\n",
       "                       'Oberbayern Fri , 22. August 2025 1000 Galerie Bezirk '\n",
       "                       'Oberbayern Mon , 25. August 2025 1000 Galerie Bezirk '\n",
       "                       'Oberbayern Tue , 26. August 2025 1000 Galerie Bezirk '\n",
       "                       'Oberbayern Wed , 27. August 2025 1000 Galerie Bezirk '\n",
       "                       'Oberbayern Thu , 28. August 2025 1000 Galerie Bezirk '\n",
       "                       'Oberbayern Fri , 29. August 2025 1000 Galerie Bezirk '\n",
       "                       'Oberbayern Mon , 01. September 2025 1000 Galerie Bezirk '\n",
       "                       'Oberbayern Tue , 02. September 2025 1000 Galerie Bezirk '\n",
       "                       'Oberbayern Wed , 03. September 2025 1000 Galerie Bezirk '\n",
       "                       'Oberbayern Thu , 04. September 2025 1000 Galerie Bezirk '\n",
       "                       'Oberbayern Fri , 05. September 2025 1000 Galerie Bezirk '\n",
       "                       'Oberbayern Mon , 08. September 2025 1000 Galerie Bezirk '\n",
       "                       'Oberbayern Tue , 09. September 2025 1000 Galerie Bezirk '\n",
       "                       'Oberbayern Wed , 10. September 2025 1000 Galerie Bezirk '\n",
       "                       'Oberbayern Thu , 11. September 2025 1000 Galerie Bezirk '\n",
       "                       'Oberbayern',\n",
       "               'url': 'https://www.muenchen.de/en/node/100789'},\n",
       "  'score': 0.602850258,\n",
       "  'values': []}]"
      ]
     },
     "execution_count": 37,
     "metadata": {},
     "output_type": "execute_result"
    }
   ],
   "source": [
    "query_from_pinecone('An welchen Tagen im Mai 2025 kann man die Ausstellung besuchen?')\n"
   ]
  },
  {
   "cell_type": "code",
   "execution_count": 96,
   "id": "79ab1a28",
   "metadata": {},
   "outputs": [
    {
     "data": {
      "text/plain": [
       "{}"
      ]
     },
     "execution_count": 96,
     "metadata": {},
     "output_type": "execute_result"
    }
   ],
   "source": [
    "def delete_texts_from_pinecone(texts, namespace=NAMESPACE):\n",
    "    # Compute the hash (id) for each text\n",
    "    hashes = [hashlib.md5(text.encode()).hexdigest() for text in texts]\n",
    "\n",
    "    # The ids parameter is used to specify the list of IDs (hashes) to delete\n",
    "    return index.delete(ids=hashes, namespace=namespace)\n",
    "\n",
    "# delete our text\n",
    "delete_texts_from_pinecone(texts)"
   ]
  },
  {
   "cell_type": "code",
   "execution_count": 38,
   "id": "a14ba9af",
   "metadata": {},
   "outputs": [
    {
     "data": {
      "text/plain": [
       "{'dimension': 1536,\n",
       " 'index_fullness': 0.0,\n",
       " 'metric': 'cosine',\n",
       " 'namespaces': {'default': {'vector_count': 36}},\n",
       " 'total_vector_count': 36,\n",
       " 'vector_type': 'dense'}"
      ]
     },
     "execution_count": 38,
     "metadata": {},
     "output_type": "execute_result"
    }
   ],
   "source": [
    "index.describe_index_stats()\n"
   ]
  },
  {
   "cell_type": "code",
   "execution_count": 39,
   "id": "c5f96860",
   "metadata": {},
   "outputs": [
    {
     "name": "stdout",
     "output_type": "stream",
     "text": [
      "https://www.muenchen.de\n",
      "https://www.muenchen.de/en/events/\n"
     ]
    }
   ],
   "source": [
    "# specific of the website strucutre munchen.de\n",
    "# https://www.muenchen.de/en/events/\n",
    "base_url = 'https://www.muenchen.de'\n",
    "event_url = f'{base_url}/en/events/'\n",
    "print(base_url)\n",
    "print(event_url)"
   ]
  },
  {
   "cell_type": "code",
   "execution_count": 40,
   "id": "58d9e322",
   "metadata": {},
   "outputs": [
    {
     "data": {
      "text/plain": [
       "19"
      ]
     },
     "execution_count": 40,
     "metadata": {},
     "output_type": "execute_result"
    }
   ],
   "source": [
    "import requests\n",
    "import re\n",
    "\n",
    "def find_links_with_pattern(url, pattern):\n",
    "    # Send a GET request to the URL\n",
    "    response = requests.get(url)\n",
    "    \n",
    "    # Create a BeautifulSoup object\n",
    "    soup = BeautifulSoup(response.text, 'html.parser')\n",
    "    \n",
    "    # Compile the regex pattern\n",
    "    regex = re.compile(pattern)\n",
    "    \n",
    "    # Find all 'a' tags with href attribute matching the pattern\n",
    "    links = soup.find_all('a', href=regex)\n",
    "    \n",
    "    # Extract and return the href values\n",
    "    return [link.get('href') for link in links]\n",
    "\n",
    "# Example usage\n",
    "pattern = r'^/en/node/'\n",
    "\n",
    "matching_links = find_links_with_pattern(event_url, pattern)\n",
    "len(matching_links)"
   ]
  },
  {
   "cell_type": "code",
   "execution_count": 41,
   "id": "7acdad73",
   "metadata": {},
   "outputs": [],
   "source": [
    "urls = []"
   ]
  },
  {
   "cell_type": "code",
   "execution_count": 42,
   "id": "e24d50cd",
   "metadata": {},
   "outputs": [
    {
     "name": "stdout",
     "output_type": "stream",
     "text": [
      "https://www.muenchen.de/en/node/91753\n",
      "https://www.muenchen.de/en/node/98241\n",
      "https://www.muenchen.de/en/node/96219\n",
      "https://www.muenchen.de/en/node/100789\n",
      "https://www.muenchen.de/en/node/93314\n",
      "https://www.muenchen.de/en/node/99903\n",
      "https://www.muenchen.de/en/node/97367\n",
      "https://www.muenchen.de/en/node/91753\n",
      "https://www.muenchen.de/en/node/99414\n",
      "https://www.muenchen.de/en/node/67524\n",
      "https://www.muenchen.de/en/node/93196\n",
      "https://www.muenchen.de/en/node/94241\n",
      "https://www.muenchen.de/en/node/100046\n",
      "https://www.muenchen.de/en/node/101821\n",
      "https://www.muenchen.de/en/node/91505\n",
      "https://www.muenchen.de/en/node/96560\n",
      "https://www.muenchen.de/en/node/101130\n",
      "https://www.muenchen.de/en/node/89285\n",
      "https://www.muenchen.de/en/node/95674\n"
     ]
    }
   ],
   "source": [
    "for link in matching_links:\n",
    "    urls.append(f'{base_url}{link}')\n",
    "    print(f'{base_url}{link}')\n"
   ]
  },
  {
   "cell_type": "code",
   "execution_count": 43,
   "id": "3bf6a421",
   "metadata": {},
   "outputs": [
    {
     "name": "stderr",
     "output_type": "stream",
     "text": [
      "100%|██████████| 19/19 [00:50<00:00,  2.65s/it]\n"
     ]
    },
    {
     "data": {
      "text/plain": [
       "35"
      ]
     },
     "execution_count": 43,
     "metadata": {},
     "output_type": "execute_result"
    }
   ],
   "source": [
    "from bs4 import BeautifulSoup\n",
    "import requests\n",
    "\n",
    "for matching_link in tqdm(matching_links):\n",
    "    full_link = base_url + matching_link\n",
    "    r = requests.get(full_link)\n",
    "    soup = BeautifulSoup(r.content, 'html.parser')\n",
    "    for link in soup.find_all('a'):\n",
    "        if 'href' in link.attrs:\n",
    "            if link['href'].startswith('/') and 'sehenswuerdigkeiten' in link['href']:\n",
    "                urls.append(base_url + link['href'])\n",
    "    \n",
    "urls = list(set([u.lower().strip() for u in urls]))\n",
    "len(urls)"
   ]
  },
  {
   "cell_type": "code",
   "execution_count": 44,
   "id": "81ef7102",
   "metadata": {},
   "outputs": [
    {
     "name": "stdout",
     "output_type": "stream",
     "text": [
      "https://www.muenchen.de/en/node/98241\n",
      "https://www.muenchen.de/en/node/96560\n",
      "https://www.muenchen.de/sehenswuerdigkeiten/haus-der-kunst\n",
      "https://www.muenchen.de/sehenswuerdigkeiten/museen/galerie-bezirk-oberbayern\n",
      "https://www.muenchen.de/en/node/89285\n",
      "https://www.muenchen.de/en/node/91753\n",
      "https://www.muenchen.de/sehenswuerdigkeiten/museen/museum-brandhorst\n",
      "https://www.muenchen.de/en/node/95674\n",
      "https://www.muenchen.de/en/node/100789\n",
      "https://www.muenchen.de/sehenswuerdigkeiten/museen/bayerische-staatsbibliothek\n",
      "https://www.muenchen.de/en/node/67524\n",
      "https://www.muenchen.de/sehenswuerdigkeiten/museen/lenbachhaus-muenchen\n",
      "https://www.muenchen.de/en/node/100046\n",
      "https://www.muenchen.de/en/node/99903\n",
      "https://www.muenchen.de/en/node/93196\n",
      "https://www.muenchen.de/sehenswuerdigkeiten/museen/amuseum-of-contemporary-art\n",
      "https://www.muenchen.de/sehenswuerdigkeiten/museen/museum-urban-and-contemporary-art-muca\n",
      "https://www.muenchen.de/sehenswuerdigkeiten/museen/muenchner-stadtmuseum\n",
      "https://www.muenchen.de/en/node/99414\n",
      "https://www.muenchen.de/en/node/91505\n",
      "https://www.muenchen.de/en/node/101130\n",
      "https://www.muenchen.de/sehenswuerdigkeiten/museen/zentralinstitut-fuer-kunstgeschichte\n",
      "https://www.muenchen.de/en/node/101821\n",
      "https://www.muenchen.de/sehenswuerdigkeiten/museen/ns-dokumentationszentrum-muenchen\n",
      "https://www.muenchen.de/sehenswuerdigkeiten/tourismus\n",
      "https://www.muenchen.de/en/node/94241\n",
      "https://www.muenchen.de/sehenswuerdigkeiten/museen/kunsthalle-muenchen\n",
      "https://www.muenchen.de/sehenswuerdigkeiten/museen/museum-fuer-abguesse\n",
      "https://www.muenchen.de/en/node/96219\n",
      "https://www.muenchen.de/en/node/97367\n",
      "https://www.muenchen.de/en/node/93314\n",
      "https://www.muenchen.de/sehenswuerdigkeiten/top-sehenswuerdigkeiten/museum-mineralogia-muenchen\n",
      "https://www.muenchen.de/sehenswuerdigkeiten/museen/juedisches-museum-muenchen\n",
      "https://www.muenchen.de/sehenswuerdigkeiten/museen/archaeologische-staatssammlung\n",
      "https://www.muenchen.de/sehenswuerdigkeiten/webcam-live-aus-muenchen-marienplatz-olympiapark-und-mehr\n"
     ]
    }
   ],
   "source": [
    "for url in urls:\n",
    "    print(url)"
   ]
  },
  {
   "cell_type": "code",
   "execution_count": 45,
   "id": "ff95d943",
   "metadata": {},
   "outputs": [],
   "source": [
    "import re\n",
    "\n",
    "def clean_string(text):  # courtesy of Claude 3.5 Sonnet\n",
    "    # Remove extra whitespace, including newlines\n",
    "    text = re.sub(r'\\s+', ' ', text)\n",
    "    # Remove any leading/trailing whitespace\n",
    "    text = text.strip()\n",
    "    # Remove common filler phrases\n",
    "    filler_phrases = [\n",
    "        \"Skip to content\", \"Skip to main content\", \"Menu\", \"Sign in\", \"Print\", \"Views:\", \"Comments\",\n",
    "        \"Footer menu\", \"Give us Feedback.\", \"Did this answer your question?\", \"No Yes No\", \"Thanks for your feedback.\", \"Events\", \"Culture, Leisure\", \"Restaurants\", \"Shopping\", \"Sights\", \"Tourism\", \n",
    "        \"Hotels\", \"Business\", \"Living\", \"Transportation\", \"Citizen service\", \"English\", \"Branchenbuch\", \n",
    "        \"Anzeige\", \"Search\", \"muenchen.de\", \"Das offizielle Stadtportal\", \"Home\"\n",
    "    ]\n",
    "    for phrase in filler_phrases:\n",
    "        text = re.sub(phrase, '', text, flags=re.IGNORECASE)\n",
    "    # Remove any remaining brackets and their contents\n",
    "    text = re.sub(r'\\[.*?\\]', '', text)\n",
    "    # Remove any remaining parentheses and their contents\n",
    "    text = re.sub(r'\\(.*?\\)', '', text)\n",
    "    # Remove any URLs\n",
    "    text = re.sub(r'http\\S+', '', text)\n",
    "    # Remove any remaining special characters\n",
    "    text = re.sub(r'[^\\w\\s\\.\\,\\?\\!]', '', text)\n",
    "    # Remove extra spaces that may have been created\n",
    "    text = re.sub(r'\\s+', ' ', text).strip()\n",
    "    print(text)\n",
    "    return text"
   ]
  },
  {
   "cell_type": "code",
   "execution_count": 46,
   "id": "643e7359",
   "metadata": {},
   "outputs": [
    {
     "name": "stderr",
     "output_type": "stream",
     "text": [
      "  6%|▌         | 2/35 [00:00<00:02, 11.56it/s]"
     ]
    },
    {
     "name": "stdout",
     "output_type": "stream",
     "text": [
      "https://www.muenchen.de/en/node/98241\n",
      "Ad Ausstellung im Lenbachhaus München Was zu verschwinden droht, wird Bild. In der Ausstellung Was zu verschwinden droht, wird Bild widmet sich das Lenbachhaus seit 4. März 2025 dem Thema Vergänglichkeit Gerade in Zeiten des Klimawandels eine äußerst relevante und aktuelle Thematik. Datum und Veranstaltungsort 04.06.2025 1000 until 1800 h Lenbachhaus München Städtische Galerie im Lenbachhaus und Kunstbau More actions Share on Facebook Share via WhatsApp Copy link Mensch Natur Kunst Es ist ein Gemeinplatz, erschreckend und faszinierend zugleich Alles, was in Bildern festgehalten wurde, existiert nicht mehr oder nicht mehr in der dargestellten Form. In der Kunst findet sich das Thema Vergänglichkeit oft sinnbildlich umgesetzt, als Memento Mori oder melancholische Meditation über das Verschwinden von Dingen. Auch Bilder von Träumen, Begegnungen mit Menschen, Erkundungen der Natur zeigen nur vorübergehende Momente. Manchmal wird das Flüchtige explizit zum Thema einer Darstellung, die es trotzdem festzuhalten sucht Wolken wandeln sich ständig, Schnee schmilzt bald, Bäume blühen nur kurze Zeit. In Zeiten des Klimawandels ist das Bewusstsein dafür, dass sich unsere gesamte Umwelt rasant verändert, allgegenwärtig geworden. Deshalb betrachten wir insbesondere Werke der Landschaftskunst heute mit anderen Augen. Sie zeigen eine Natur, die immer schon von Menschen beeinflusst war. Eine Landschaft ist nicht mehr nur ein schöner Anblick, sondern ein bedrohtes Ökosystem. Die Ausstellung ist um derartige Augenblicke des Erkennens gebaut. Sie zeigt bekannte wie auch selten oder bisher noch nie gezeigte Werke des 19. und 20. Jahrhunderts aus den Sammlungen des Lenbachhauses, des Historischen Vereins von Oberbayern, der Christoph Heilmann Stiftung, der Münchener Secession, der Gabriele Münter und Johannes EichnerStiftung, der KiCo Stiftung und des Förderverein Lenbachhaus e. V. Die Kunst arbeitet mit Vergänglichem und mit dem Wissen um Vergänglichkeit. Darin trifft sie sich mit der Idee des Museums, das Kunstwerke sammelt, bewahren wie auch vermitteln will. Mit Werken von Albrecht Adam, AntoineLouis Barye, Joseph Beaume, Rosa MarieRosalie Bonheur, Heinrich Bürkel, Maria CasparFilser, Lovis Corinth, JeanBaptiste Camille Corot, Johan Christian Dahl, AlexandreGabriel Decamps, Narcisse Virgilio Diaz de la Peña, Jules Luis Dupré, Maria Eichhorn, Thomas Fearnley, Thomas Theodor Heine, Jacques Hérold, Wilhelm Jakob Hertling, Paul Hoecker, Wassily Kandinsky, Wilhelm Leibl, Franz Marc, PierreJules Mêne, Christiane Möbus, Christian Ernst Bernhard Morgenstern, Gabriele Münter, Jean Bloé Niestlé, Blinky Palermo, Leo Putz, Gerhard Richter, Richard Riemerschmid, Carl Rottmann, Théodore Rousseau, Eduard Schleich d. Ä., Johann Sperl, Carl Spitzweg, Toni Stadler, Wilhelm Trübner, Timm Ulrichs, Johann Georg von Dillis, Wilhelm von Kobell, Franz von Lenbach, Gabriel von Max, Max Joseph Wagenbauer, Fritz Winter In Kooperation mit dem Kulturreferat und den Museen Dieser Beitrag wird vom Kulturreferat der LHM gefördert. Dates Wed , 04. June 2025 1000 Lenbachhaus München Thu , 05. June 2025 1000 Lenbachhaus München Fri , 06. June 2025 1000 Lenbachhaus München Sat , 07. June 2025 1000 Lenbachhaus München Sun , 08. June 2025 1000 Lenbachhaus München Tue , 10. June 2025 1000 Lenbachhaus München Wed , 11. June 2025 1000 Lenbachhaus München Thu , 12. June 2025 1000 Lenbachhaus München Fri , 13. June 2025 1000 Lenbachhaus München Sat , 14. June 2025 1000 Lenbachhaus München Sun , 15. June 2025 1000 Lenbachhaus München Tue , 17. June 2025 1000 Lenbachhaus München Wed , 18. June 2025 1000 Lenbachhaus München Thu , 19. June 2025 1000 Lenbachhaus München Fri , 20. June 2025 1000 Lenbachhaus München Sat , 21. June 2025 1000 Lenbachhaus München Sun , 22. June 2025 1000 Lenbachhaus München Sat , 28. June 2025 1000 Lenbachhaus München Sun , 29. June 2025 1000 Lenbachhaus München\n",
      "https://www.muenchen.de/en/node/96560\n",
      "Ad Ausstellung im MUCA über den portugiesischen UrbanArtKünstler Vhils Strata Das Museum of Urban and Contemporary Art präsentiert mit Strata die erste Einzelausstellung des portugiesischen UrbanArtKünstlers Vhils in Deutschland. Vom 12. März bis 30. November 2025 erleben Besucherinnen seine künstlerische Entwicklung von 2005 bis 2025 anhand vielfältiger Materialien und Techniken eine Reise durch zwei Jahrzehnte innovativer urbaner Kunst. Datum und Veranstaltungsort 04.06.2025 1000 until 1800 h Museum of Urban and Contemporary Art Jose Pando Lucas More actions Share on Facebook Share via WhatsApp Copy link Was erwartet euch in der Ausstellung? Der portugiesische Künstler Vhils ist international bekannt für seine unkonventionelle urbane Kunst, in der er Oberflächen gezielt zerstört, um verborgene Geschichten ans Licht zu bringen. Die Ausstellung bietet ein immersives Erlebnis und präsentiert eindrucksvolle Werke aus Beton, Holz, Metall und Papier sowie Videos darunter filigrane Wandschnitzereien aus der Serie Scratching the Surfaces. Zudem werden bislang unveröffentlichte Archivmaterialien aus Vhils persönlicher Sammlung gezeigt, die nicht nur Kennerinnen begeistern dürften. Besucherinnen erhalten einen bewegenden Einblick in über 20 Jahre seines Schaffens und gewinnen ein tiefes Verständnis für seine Vision urbaner Kunst. Jose Pando Lucas Besucherinformationen Tickets buchbar für EUR 12 EUR 9 auf der MUCAWebsite oder via . Öffnungszeiten 12. März 30. November 2025 MittwochSonntag, 1018 Uhr, Donnerstag, 1020 Uhr. Werk und Vision des UrbanArtKünstlers Vhils Vhils großformatige Werke sprengen die traditionellen Grenzen der Kunst und thematisieren Identität, Erinnerung und den Wandel städtischer Räume. Mit seiner subtraktiven Technik verändert er die Wahrnehmung der Umgebung Er ritzt Wände und Werbetafeln ein, um verborgene Schichten des Lebens freizulegen und anonymen Menschen eine Stimme zu geben. Für ihn ist Kunst ein Mittel, die Folgen von Urbanisierung und Globalisierung sichtbar zu machen. Dabei versteht er Zerstörung als einen schöpferischen Akt, der Verstecktes ans Licht bringt. Neben seiner charakteristischen BasreliefSchnitztechnik arbeitet er mit Schablonenmalerei, Metallätzung, pyrotechnischen Explosionen und weiteren unkonventionellen Methoden. Alexander Silva In cooperation with the cultural department and the museums This article about Munichs museums is sponsored by the Cultural Department of the City of Munich and was conceived in cooperation with the State Agency for NonState Museums in Bavaria. The content has been coordinated between the participating museums and , the official city portal. This might also interest you Dates Wed , 04. June 2025 1000 Museum of Urban and Contemporary Art Thu , 05. June 2025 1000 Museum of Urban and Contemporary Art Fri , 06. June 2025 1000 Museum of Urban and Contemporary Art Sat , 07. June 2025 1000 Museum of Urban and Contemporary Art Sun , 08. June 2025 1000 Museum of Urban and Contemporary Art Wed , 11. June 2025 1000 Museum of Urban and Contemporary Art Thu , 12. June 2025 1000 Museum of Urban and Contemporary Art Fri , 13. June 2025 1000 Museum of Urban and Contemporary Art Sat , 14. June 2025 1000 Museum of Urban and Contemporary Art Sun , 15. June 2025 1000 Museum of Urban and Contemporary Art Wed , 18. June 2025 1000 Museum of Urban and Contemporary Art Thu , 19. June 2025 1000 Museum of Urban and Contemporary Art Fri , 20. June 2025 1000 Museum of Urban and Contemporary Art Sat , 21. June 2025 1000 Museum of Urban and Contemporary Art Sun , 22. June 2025 1000 Museum of Urban and Contemporary Art Wed , 25. June 2025 1000 Museum of Urban and Contemporary Art Thu , 26. June 2025 1000 Museum of Urban and Contemporary Art Fri , 27. June 2025 1000 Museum of Urban and Contemporary Art Sat , 28. June 2025 1000 Museum of Urban and Contemporary Art Sun , 29. June 2025 1000 Museum of Urban and Contemporary Art Wed , 02. July 2025 1000 Museum of Urban and Contemporary Art Thu , 03. July 2025 1000 Museum of Urban and Contemporary Art Fri , 04. July 2025 1000 Museum of Urban and Contemporary Art Sat , 05. July 2025 1000 Museum of Urban and Contemporary Art Sun , 06. July 2025 1000 Museum of Urban and Contemporary Art Wed , 09. July 2025 1000 Museum of Urban and Contemporary Art Thu , 10. July 2025 1000 Museum of Urban and Contemporary Art Fri , 11. July 2025 1000 Museum of Urban and Contemporary Art Sat , 12. July 2025 1000 Museum of Urban and Contemporary Art Sun , 13. July 2025 1000 Museum of Urban and Contemporary Art Wed , 16. July 2025 1000 Museum of Urban and Contemporary Art Thu , 17. July 2025 1000 Museum of Urban and Contemporary Art Fri , 18. July 2025 1000 Museum of Urban and Contemporary Art Sat , 19. July 2025 1000 Museum of Urban and Contemporary Art Sun , 20. July 2025 1000 Museum of Urban and Contemporary Art Wed , 23. July 2025 1000 Museum of Urban and Contemporary Art Thu , 24. July 2025 1000 Museum of Urban and Contemporary Art Fri , 25. July 2025 1000 Museum of Urban and Contemporary Art Sat , 26. July 2025 1000 Museum of Urban and Contemporary Art Sun , 27. July 2025 1000 Museum of Urban and Contemporary Art Wed , 30. July 2025 1000 Museum of Urban and Contemporary Art Thu , 31. July 2025 1000 Museum of Urban and Contemporary Art Fri , 01. August 2025 1000 Museum of Urban and Contemporary Art Sat , 02. August 2025 1000 Museum of Urban and Contemporary Art Sun , 03. August 2025 1000 Museum of Urban and Contemporary Art Wed , 06. August 2025 1000 Museum of Urban and Contemporary Art Thu , 07. August 2025 1000 Museum of Urban and Contemporary Art Fri , 08. August 2025 1000 Museum of Urban and Contemporary Art Sat , 09. August 2025 1000 Museum of Urban and Contemporary Art Sun , 10. August 2025 1000 Museum of Urban and Contemporary Art Wed , 13. August 2025 1000 Museum of Urban and Contemporary Art Thu , 14. August 2025 1000 Museum of Urban and Contemporary Art Fri , 15. August 2025 1000 Museum of Urban and Contemporary Art Sat , 16. August 2025 1000 Museum of Urban and Contemporary Art Sun , 17. August 2025 1000 Museum of Urban and Contemporary Art Wed , 20. August 2025 1000 Museum of Urban and Contemporary Art Thu , 21. August 2025 1000 Museum of Urban and Contemporary Art Fri , 22. August 2025 1000 Museum of Urban and Contemporary Art Sat , 23. August 2025 1000 Museum of Urban and Contemporary Art Sun , 24. August 2025 1000 Museum of Urban and Contemporary Art Wed , 27. August 2025 1000 Museum of Urban and Contemporary Art Thu , 28. August 2025 1000 Museum of Urban and Contemporary Art Fri , 29. August 2025 1000 Museum of Urban and Contemporary Art Sat , 30. August 2025 1000 Museum of Urban and Contemporary Art Sun , 31. August 2025 1000 Museum of Urban and Contemporary Art Wed , 03. September 2025 1000 Museum of Urban and Contemporary Art Thu , 04. September 2025 1000 Museum of Urban and Contemporary Art Fri , 05. September 2025 1000 Museum of Urban and Contemporary Art Sat , 06. September 2025 1000 Museum of Urban and Contemporary Art Sun , 07. September 2025 1000 Museum of Urban and Contemporary Art Wed , 10. September 2025 1000 Museum of Urban and Contemporary Art Thu , 11. September 2025 1000 Museum of Urban and Contemporary Art Fri , 12. September 2025 1000 Museum of Urban and Contemporary Art Fri , 12. September 2025 1000 Museum of Urban and Contemporary Art Sat , 13. September 2025 1000 Museum of Urban and Contemporary Art Sun , 14. September 2025 1000 Museum of Urban and Contemporary Art Wed , 17. September 2025 1000 Museum of Urban and Contemporary Art Thu , 18. September 2025 1000 Museum of Urban and Contemporary Art Fri , 19. September 2025 1000 Museum of Urban and Contemporary Art Sat , 20. September 2025 1000 Museum of Urban and Contemporary Art Sun , 21. September 2025 1000 Museum of Urban and Contemporary Art Wed , 24. September 2025 1000 Museum of Urban and Contemporary Art Thu , 25. September 2025 1000 Museum of Urban and Contemporary Art Fri , 26. September 2025 1000 Museum of Urban and Contemporary Art Sat , 27. September 2025 1000 Museum of Urban and Contemporary Art Sun , 28. September 2025 1000 Museum of Urban and Contemporary Art Wed , 01. October 2025 1000 Museum of Urban and Contemporary Art Thu , 02. October 2025 1000 Museum of Urban and Contemporary Art Fri , 03. October 2025 1000 Museum of Urban and Contemporary Art Sat , 04. October 2025 1000 Museum of Urban and Contemporary Art Sun , 05. October 2025 1000 Museum of Urban and Contemporary Art Wed , 08. October 2025 1000 Museum of Urban and Contemporary Art Thu , 09. October 2025 1000 Museum of Urban and Contemporary Art Fri , 10. October 2025 1000 Museum of Urban and Contemporary Art Sat , 11. October 2025 1000 Museum of Urban and Contemporary Art Sun , 12. October 2025 1000 Museum of Urban and Contemporary Art Wed , 15. October 2025 1000 Museum of Urban and Contemporary Art Thu , 16. October 2025 1000 Museum of Urban and Contemporary Art Fri , 17. October 2025 1000 Museum of Urban and Contemporary Art Sat , 18. October 2025 1000 Museum of Urban and Contemporary Art\n",
      "https://www.muenchen.de/sehenswuerdigkeiten/haus-der-kunst\n",
      "Zeitgenössische Kunst am Englischen Garten Das Haus der Kunst Haus der Kunst in München Aktuelle Ausstellungen, Tipps und Infos Es gehört zu den großen internationalen Kunstmuseen Das Haus der Kunst zeigt jährlich wechselnde Ausstellungen der Gegenwartskunst auf Weltniveau. Adresse und Öffnungszeiten Prinzregentenstr. 1 , 80538 München Öffnungszeiten Mi geöffnet 1000 2000 Mo 1000 2000 Di geschlossen Mi 1000 2000 Do 1000 2200 Fr 1000 2000 Sa 1000 2000 So 1000 2000 Hinweis Geschlossen 24. und 31. Dezember Anfahrt Haus der Kunst München, 2023, Foto Maximilian Geuter Weitere Aktionen Teilen auf Facebook Teilen via WhatsApp Kopieren Warum lohnt sich ein Besuch im Haus der Kunst? Haus der Kunst München, 2023, Foto Maximilian Geuter Das Haus der Kunst besitzt keine eigene Sammlung, es ist ein reines Ausstellungshaus. Und das ist seine große Stärke So hat es die Möglichkeit, den wechselnden Programmen viel Raum zu geben. Was ist geboten? Mit seinen Ausstellungen, Performances und Musikveranstaltungen ist das Haus der Kunst ein weltweit führendes Zentrum für zeitgenössische Kunst. Das Haus ist nicht nur der Untersuchung der Geschichte und der Geschichten der zeitgenössischen Kunst verpflichtet, sondern sieht es auch als seine Aufgabe diese Geschichten einer breiten Öffentlichkeit nahe zu bringen. Was ist das Besondere? Mit seinem Programm macht das Haus der Kunst deutlich, dass die Entwicklungslinien der zeitgenössischen Kunst nicht innerhalb fester Grenzen und Kategorien verlaufen, sondern über Ländergrenzen, Gesellschaftsschichten und kulturelle und soziale Milieus hinweg. Sie sind global und vielschichtig Verbindungslinien, keine Grenzen. Das Haus der Kunst arbeitet interdisziplinär und bezieht unterschiedliche Standpunkte mit ein. Aktuelle gesellschaftliche Themen von höchster Relevanz, wie Klimawandel, Postkolonialismus, Feminismus oder Inklusion werden vor dem kritischen Kontext ihrer historischen Dimension verhandelt. Das Haus der Kunst Die wichtigsten Infos auf einen Blick Lage Am Englischen Garten, direkt neben der berühmten Eisbachwelle. MuseumsKategorie Kunst Empfohlene Aufenthaltsdauer Ca. 1 Stunde Kinderprogramm Themenführungen für Eltern mit Kindern, Schulführungen, Familien Workshops Anfahrt Bus 100 bis Königinstraße. U 45 bis Lehel Parken Hinter dem Haus der Kunst befindet sich ein großer Parkplatz Previous slide View image in modal View image in modal View image in modal View image in modal View image in modal View image in modal Next slide Archiv Galerie Besichtigt die bewegte Geschichte des Hauses Haus der Kunst München, 2023, Foto Maximilian Geuter Das Haus der Kunst setzt sich intensiv mit seiner NSVergangenheit auseinander Das Haus der Kunst hat eine bewegte Geschichte Der Bau des Museums wurde ursprünglich von Adolf Hitler beauftragt, um ein Haus der Deutschen Kunst zu schaffen. Während der NSHerrschaft zeigten die Ausstellungen Kunst, die von der nationalsozialistischen Propaganda als konform aufgefasst wurde. Die künstlerische Avantgarde der Zeit wurde diffamiert. Wer sich mit der Geschichte des Hauses genauer auseinandersetzen möchte, kann in der Mittelhalle die kostenlos zugängliche Archiv Galerie besichtigen. Dort informiert eine Dokumentation über die Geschichte des Hauses. Zudem präsentieren autonome Archive ihre Bestände. Führungen und Formate Ein kostenloser Audioguide zur Ausstellung ist im Eintrittspreis bereits enthalten. Zudem bietet das Haus der Kunst viele verschiedene FührungsFormate an. Hierzu zählen unter anderem Ausstellungsführungen auf Deutsch und Englisch Fremdsprachige Ausstellungsführungen Kuratorinnenführungen Informationen zum Ausstellungskonzept aus erster Hand Private Führungen für Gruppen und Schulklassen. Inklusive Führungen in Gebärdensprache, für Sehbehinderte und Menschen mit Demenz Themenführung Baby hört mit Popup Yoga in der Ausstellung Gastronomie Goldene Bar im Haus der Kunst Alescha Birkenholz Die Goldene Bar lädt mit ihren Kronleuchtern zur Kunstpause ein Im rückwärtigen Teil des Gebäudes empfängt die Goldene Bar ihre Gäste in historischem Ambiente und das nicht nur zu Museumszeiten. Im Keller des Hauses befindet sich zudem Münchens bekannteste Disco Das P1 Eintrittspreise Hausticket Large 15 regulär 11 ermäßigt für Rentnerinnen, Schwerbehinderte, BBK, u.a. 5 ermäßigt für Studierende, Schülerinnen, Auszubildende, Journalistinnen Hausticket Small 10 regulär 8 ermäßigt für Rentnerinnen, Schwerbehinderte, BBK, u.a. 5 ermäßigt für Studierende, Schülerinnen, Auszubildende, Journalistinnen Jahreskarte 365 Live 100 Freier Eintritt An jedem letzten Freitag im Monat ist Open Haus mit freiem Eintritt von 1622 Uhr. Ausstellungseröffnungen, Vorträge und Workshops Das Museum bietet regelmäßige Künstlerinnengespräche, Podiumsdiskussionen, Workshops, Seminare und Filmvorführungen für Kunstinteressierte an. Zudem richtet das Haus der Kunst Konzerte und Performances aus. Museumsbuchhandlung und historisches Archiv Wilfried Petzi Die Museumsbuchhandlung von Walther König greift in ihrem wechselnden Sortiment an Kunst, Design und Kinderbüchern Themen von aktuellen Ausstellungen auf. Seit 2005 steht Forschenden auch das Historische Archiv des Hauses zur Verfügung. Hier kann man Quellenmaterial des Ausstellungsbetriebs seit den 1930er Jahren einsehen. OnlineAngebot HDKfrom Ein MuseumsBlog bietet zahlreiche Infos rund um die aktuellen und kommenden Ausstellungen sowie anschauliche VideoTutorials, um selbst kreativ zu werden. Auf dem offiziellen YouTube Kanal werden Vorträge, Künstlerinnengespräche, Kuratorinneninterviews und Performances zu allen Ausstellungen hochgeladen. Zudem ist das Haus der Kunst bei Instagram und Facebook . Barrierefreiheit und Angebote für Menschen mit Behinderung Der Museumseingang an der Prinzregenstraße ist über eine Rampe barrierefrei erreichbar . Ein Aufzug bietet Zugang zu allen Etagen inklusive Museumsshop und der Goldenen Bar. Zwei BehindertenParkplätz e stehen hinter dem Haus der Kunst zur Verfügung. Rollstuhlgerechte Toiletten befinden sich im Erdgeschoss. Spezielle Führungen Das Haus der Kunst bietet Führungen in Gebärdensprache, für Sehbehinderte und für Menschen mit Demenz an. Historie Das Haus der Kunst im Wandel der Zeit Maximilian Geuter Das historische Gebäude ist heute ein internationales Zentrum zeitgenössischer Kunstausstellungen Seit seiner Eröffnung 1937 als Haus der Deutschen Kunst diente das Gebäude der nationalsozialistischen Kunstpolitik und wurde zu deren wichtigster Institution. Nach dem Zweiten Weltkrieg nutzte die amerikanische Armee das Gebäude zunächst als Offizierskasino, schon seit 1946 fanden aber auch immer wieder Kunstausstellungen statt. Seither hat sich das Haus der Kunst in ein internationales Zentrum zeitgenössischer Kunstausstellungen gewandelt und zählt heute zu den renommiertesten Museen für Gegenwartskunst der Welt. In Kooperation mit dem Kulturreferat und den Museen Dieser Beitrag über die Münchner Museen wird vom Kulturreferat der Landeshauptstadt München gefördert und ist in Kooperation mit der Landesstelle für die nichtstaatlichen Museen in Bayern konzipiert worden. Die Inhalte wurden zwischen den beteiligten Museen und , dem offiziellen Stadtportal, abgestimmt. Das könnte euch auch interessieren Münchner Museen Die Übersicht Die wichtigsten Museen und Galerien Münchens Ausstellungskalender Aktuelle und kommende MuseenHighlights Aktuelles MuseumsGuides Neues aus den Münchner Museen Auf einen Blick Haus der Kunst Prinzregentenstr. 1 80538 München Tel 498921127113 Fax 498921127157 mailhausderkunst.de Korrektur vorschlagen Barrierefreier Zugang Eingangstüre Ort Zu den Ausstellungsräumen im Luftschutzkeller vom Parkplatz Stufe 6,5 cm hoch. vom EG mit Lift mit Personal, dann jeweils weiter mit Treppenlift Rampe vorhanden Normale Parkplätze auf dem Parkplatz rechts vom Museum bis 19 Uhr, kostenpflichtig Bus 100 Königinstraße, Tram 36, Bus 100 NationalmuseumHaus der Kunst, U4, U5, Tram 36 Lehel Barrierefreiheit im Gebäude Schwellen Stufen im Innenraum Schwellen Stufen im Innenraum Höhe 6 Treppenlift vorhanden Treppenlift Personal nötig Barrierefreies WC vorhanden Öffnungszeiten identisch zum Eintrag WC für Damen und Herren im EG Barrierefreiheit weitere Information Rollstuhl und Klappstuhlverleih Bei einigen Ausstellungen Audioguide in Leichter Sprache und Audiodeskription Öffnungszeiten This is a carousel with rotating cards. Use the previous and next buttons to navigate, and Enter to activate cards. Vorheriger Slide Mo 1000 2000 Di geschlossen Mi 1000 2000 Do 1000 2200 Fr 1000 2000 Sa 1000 2000 So 1000 2000 Nächster Slide 1 30 von 106 Veranstaltungen 04 Juni bis 03 Aug Shu Lea Cheang KI KI Mi. 04.06.2025 1000 2000 Uhr Haus der Kunst 04 Juni bis 03 Aug Shu Lea Cheang KI KI Mi. 04.06.2025 1000 2000 Uhr Haus der Kunst 04 Juni bis 03 Aug Shu Lea Cheang KI KI Do. 05.06.2025 1000 2200 Uhr Haus der Kunst 04 Juni bis 03 Aug Shu Lea Cheang KI KI Do. 05.06.2025 1000 2200 Uhr Haus der Kunst 04 Juni bis 03 Aug Shu Lea Cheang KI KI Fr. 06.06.2025 1000 2000 Uhr Haus der Kunst 04 Juni bis 03 Aug Shu Lea Cheang KI KI Fr. 06.06.2025 1000 2000 Uhr Haus der Kunst 04 Juni bis 03 Aug Shu Lea Cheang KI KI Sa. 07.06.2025 1000 2000 Uhr Haus der Kunst 04 Juni bis 03 Aug Shu Lea Cheang KI KI Sa. 07.06.2025 1000 2000 Uhr Haus der Kunst 04 Juni bis 03 Aug Shu Lea Cheang KI KI So. 08.06.2025 1000 2000 Uhr Haus der Kunst 04 Juni bis 03 Aug Shu Lea Cheang KI KI So. 08.06.2025 1000 2000 Uhr Haus der Kunst 04 Juni bis 03 Aug Shu Lea Cheang KI KI Mo. 09.06.2025 1000 2000 Uhr Haus der Kunst 04 Juni bis 03 Aug Shu Lea Cheang KI KI Mo. 09.06.2025 1000 2000 Uhr Haus der Kunst 04 Juni bis 03 Aug Shu Lea Cheang KI KI Mi. 11.06.2025 1000 2000 Uhr Haus der Kunst 04 Juni bis 03 Aug Shu Lea Cheang KI KI Mi. 11.06.2025 1000 2000 Uhr Haus der Kunst 04 Juni bis 03 Aug Shu Lea Cheang KI KI Do. 12.06.2025 1000 2200 Uhr Haus der Kunst 04 Juni bis 03 Aug Shu Lea Cheang KI KI Do. 12.06.2025 1000 2200 Uhr Haus der Kunst 04 Juni bis 03 Aug Shu Lea Cheang KI KI Fr. 13.06.2025 1000 2000 Uhr Haus der Kunst 04 Juni bis 03 Aug Shu Lea Cheang KI KI Fr. 13.06.2025 1000 2000 Uhr Haus der Kunst 04 Juni bis 03 Aug Shu Lea Cheang KI KI Sa. 14.06.2025 1000 2000 Uhr Haus der Kunst 04 Juni bis 03 Aug Shu Lea Cheang KI KI Sa. 14.06.2025 1000 2000 Uhr Haus der Kunst 04 Juni bis 03 Aug Shu Lea Cheang KI KI So. 15.06.2025 1000 2000 Uhr Haus der Kunst 04 Juni bis 03 Aug Shu Lea Cheang KI KI So. 15.06.2025 1000 2000 Uhr Haus der Kunst 04 Juni bis 03 Aug Shu Lea Cheang KI KI Mo. 16.06.2025 1000 2000 Uhr Haus der Kunst 04 Juni bis 03 Aug Shu Lea Cheang KI KI Mo. 16.06.2025 1000 2000 Uhr Haus der Kunst 04 Juni bis 03 Aug Shu Lea Cheang KI KI Mi. 18.06.2025 1000 2000 Uhr Haus der Kunst 04 Juni bis 03 Aug Shu Lea Cheang KI KI Mi. 18.06.2025 1000 2000 Uhr Haus der Kunst 04 Juni bis 03 Aug Shu Lea Cheang KI KI Do. 19.06.2025 1000 2200 Uhr Haus der Kunst 04 Juni bis 03 Aug Shu Lea Cheang KI KI Do. 19.06.2025 1000 2200 Uhr Haus der Kunst 04 Juni bis 03 Aug Shu Lea Cheang KI KI Fr. 20.06.2025 1000 2000 Uhr Haus der Kunst 04 Juni bis 03 Aug Shu Lea Cheang KI KI Fr. 20.06.2025 1000 2000 Uhr Haus der Kunst Seitennummerierung Erste Seite 1 Seite 2 Seite 3 Seite 4 Letzte Seite Nächste Seite\n",
      "https://www.muenchen.de/sehenswuerdigkeiten/museen/galerie-bezirk-oberbayern\n"
     ]
    },
    {
     "name": "stderr",
     "output_type": "stream",
     "text": [
      " 17%|█▋        | 6/35 [00:02<00:13,  2.16it/s]"
     ]
    },
    {
     "name": "stdout",
     "output_type": "stream",
     "text": [
      "Galerie in der Prinzregentenstraße mit zeitgenössischer Kunst Galerie Bezirk Oberbayern Ausstellungen und Führungen In der Galerie Bezirk Oberbayern stellen Künstlerinnen mit und ohne Behinderung ihre Werke gemeinsam aus und gestalten ihre Ausstellung so, dass sie für alle zugänglich wird. Adresse und Öffnungszeiten Prinzregentenstr. 14 , 80538 München Öffnungszeiten Mi geöffnet 1000 1900 Mo 1000 1900 Di 1000 1900 Mi 1000 1900 Do 1000 1900 Fr 1000 1900 Sa geschlossen So geschlossen Hinweis Nach 18 Uhr bitte am Eingang klingeln. Feiertags geschlossen. Anfahrt Benjamin Schmidt Weitere Aktionen Teilen auf Facebook Teilen via WhatsApp Kopieren Warum lohnt sich ein Besuch in der Galerie Bezirk Oberbayern? Bezirk Oberbayern Kunst inklusive! Die Galerie Bezirk Oberbayern macht Kunst für alle barrierefrei erlebbar. Was ist geboten? Es erwartet euch keine Dauerausstellung, sondern immer wieder neue Formate. Gezeigt werden zwei bis drei Doppelausstellungen pro Jahr, die Künstlerinnen mit und ohne Behinderung gemeinsam konzipieren. Spannende Werke aus ganz Oberbayern werden dabei in ein inklusives Rahmenprogramm eingebettet, damit sie auch für Menschen mit Einschränkungen erlebbar werden. Was ist das Besondere? Zeigen, begreifen, verstehen und mitmachen Alle Ausstellungen und Veranstaltungen sind inklusiv ausgerichtet und bieten Erwachsenen und Kindern eine tolle Möglichkeit zur Teilhabe. Es gibt Tastführungen, Workshops, Künstlerinnengespräche und Führungen in leicht verständlicher Sprache und Gebärdensprache. Galerie Bezirk Oberbayern Die wichtigsten Infos auf einen Blick Lage In der Prinzregentenstraße, unweit vom Odeonsplatz direkt am Englischen Garten MuseumsKategorie Kunstmuseum Kinderprogramm Workshops und Führungen für Kinder und Jugendliche mit und ohne Behinderung Empfohlene Aufenthaltsdauer Individuell, da ein Besuch der Galerie gut kombinierbar mit Museen in der Nachbarschaft oder einem Abstecher in den Englischen Garten ist. Anfahrt Mit der Museumslinie 100 bis zur Haltestelle Königinstraße oder U4U5 bis Lehel und Tram 18 bis zum Nationalmuseum. Parken Es gibt keinen öffentlichen Parkplatz. Nach Rücksprache können Besucherinnen mit Behinderung im Innenhof des Bezirks Oberbayern parken. Inklusive Führungen, Workshops und Veranstaltungen Benjamin Schmidt Die Galerie Bezirk Oberbayern zeigt jährlich zwei bis drei Wechselausstellungen von zeitgenössischen Künstlerinnen mit und ohne Behinderung. Alle Kunstschaffenden mit Wohnsitz in Oberbayern können sich bei einer Ausschreibung um eine Ausstellung bewerben. Zu den Highlights zählten bereits Memory Mit fiktiven Maschinen wie der Erleuchtungsmaschine oder der Dampfablassmaschine sowie hauchzarten Seidenobjekten setzten sich die Künstlerin Rosa Maria Krinner und Sheila Furlan mit dem Thema Erinnerungen auseinander. Ebony Ivory Mit beeindruckenden Arbeiten aus weißem Papier und schwarzen Druckstöcken auf kraftvollexpressiven Holz und Linolschnitten schufen die Designerin Verena Friedrich und der Künstler Marcel Muß faszinierende Kontraste. SeelenART Alle zwei Jahre widmet die Galerie Bezirk Oberbayern den Gewinnern des Oberbayerischen Kunstförderpreises SeelenART eine eigene Ausstellung, der vom Sozialpsychiatrischen Zentrum der Kliniken des Bezirks Oberbayern an Menschen mit PsychiatrieErfahrung verliehen wird. Inklusive Führungen, Workshops und Veranstaltungen Benjamin Schmidt Bei allen Ausstellungen gibt es ein inklusives Rahmenprogramm, so dass Menschen mit unterschiedlichen Bedürfnissen daran teilnehmen können Kunst begreifen! Tastführungen am Original Kunst verstehen! Ausstellungsführungen und texte in leicht verständlicher Sprache sowie Brailleschrift Kunst zeigen! Führungen in Deutscher Gebärdensprache, Gebärdensprachinstallationen Kreative Workshops und Führungen für Kinder und Jugendliche mit und ohne Behinderung Barrierefreiheit und Angebote für Menschen mit Behinderung Der Zugang zur Galerie über den Haupteingang des Bezirks Oberbayern ist barrierefrei mit selbstöffnenden Türen und Lift. Rollstuhlgerechte Toiletten sind im Gebäude vorhanden. Ausstellung Die Ausstellungstexte sind in leichter Sprache und Blindenschrift verfasst. Ein Video in Deutscher Gebärdensprache ist Teil der Ausstellung. Spezielle Führungen Zu jeder Ausstellung werden Tastführungen sowie Führungen in leichter Sprache und Gebärdensprache angeboten. Veranstaltungen Alle öffentlichen Veranstaltungen finden mit Übersetzung in die Deutsche Gebärdensprache statt. Zudem sind mobile Induktionsschleifen für Schwerhörige vorhanden. Geschichte und AusschreibungsKonzept Benjamin Schmidt Die Galerie Bezirk Oberbayern wurde 1998 gegründet und hat sich 2012 auf eine inklusive Ausrichtung spezialisiert. In der Regel finden alle zwei Jahre Ausschreibungen statt, bei denen sich Bildende Künstlerinnen aus Oberbayern für eine Ausstellung in der Galerie Bezirk Oberbayern bewerben können. Die Auswahl trifft dabei eine Fachjury, die anschließend auch die Doppelausstellungen zusammenstellt. Alle ausgewählten Künstler erhalten eine Katalogförderung. Eintrittspreis und OnlineAngebot Die Ausstellungen und alle Veranstaltungen des Begleitprogramms sind kostenfrei zugänglich . Unter dem Motto Kunst online! findet man auf der Webseite inklusive Ausstellungsvideos , Gebärdensprachvideos und OnlineKunstvermittlung. In Kooperation mit dem Kulturreferat und den Museen Dieser Beitrag über die Münchner Museen wird vom Kulturreferat der Landeshauptstadt München gefördert und ist in Kooperation mit der Landesstelle für die nichtstaatlichen Museen in Bayern konzipiert worden. Die Inhalte wurden zwischen den beteiligten Museen und , dem offiziellen Stadtportal, abgestimmt. Auf einen Blick Galerie Bezirk Oberbayern Prinzregentenstr. 14 80538 München Tel 089 219839999 galeriebezirkoberbayern.de Korrektur vorschlagen Barrierefreier Zugang Eingangstüre Elektrischer Türöffner 3x barrierefrei parken möglich Bus 100 Königinstraße, Tram 16, Bus 100 NationalmuseumHaus der Kunst, U4, U5, Tram 16 Lehel Barrierefreiheit im Gebäude Treppenlift vorhanden Treppenlift Euroschlüssel Barrierefreies WC vorhanden im EG , im 1. OG Barrierefreiheit weitere Information Ausstellungstexte in Brailleschrift, Tastführungen Führungen in Gebärdensprache Führungen mit mobiler Induktionsschleife Ausstellungstexte in Leichter Sprache Öffnungszeiten This is a carousel with rotating cards. Use the previous and next buttons to navigate, and Enter to activate cards. Vorheriger Slide Mo 1000 1900 Di 1000 1900 Mi 1000 1900 Do 1000 1900 Fr 1000 1900 Sa geschlossen So geschlossen Nächster Slide 1 30 von 69 Veranstaltungen 04 Juni bis 11 Sep CarstenCaren Lewerentz und Susanne Winter Werden Mi. 04.06.2025 1000 1900 Uhr Galerie Bezirk Oberbayern 04 Juni bis 11 Sep CarstenCaren Lewerentz und Susanne Winter Werden Do. 05.06.2025 1000 1900 Uhr Galerie Bezirk Oberbayern 04 Juni bis 11 Sep CarstenCaren Lewerentz und Susanne Winter Werden Fr. 06.06.2025 1000 1900 Uhr Galerie Bezirk Oberbayern 04 Juni bis 11 Sep CarstenCaren Lewerentz und Susanne Winter Werden Di. 10.06.2025 1000 1900 Uhr Galerie Bezirk Oberbayern 04 Juni bis 11 Sep CarstenCaren Lewerentz und Susanne Winter Werden Mi. 11.06.2025 1000 1900 Uhr Galerie Bezirk Oberbayern 04 Juni bis 11 Sep CarstenCaren Lewerentz und Susanne Winter Werden Do. 12.06.2025 1000 1900 Uhr Galerie Bezirk Oberbayern 04 Juni bis 11 Sep CarstenCaren Lewerentz und Susanne Winter Werden Fr. 13.06.2025 1000 1900 Uhr Galerie Bezirk Oberbayern 04 Juni bis 11 Sep CarstenCaren Lewerentz und Susanne Winter Werden Mo. 16.06.2025 1000 1900 Uhr Galerie Bezirk Oberbayern 04 Juni bis 11 Sep CarstenCaren Lewerentz und Susanne Winter Werden Di. 17.06.2025 1000 1900 Uhr Galerie Bezirk Oberbayern 04 Juni bis 11 Sep CarstenCaren Lewerentz und Susanne Winter Werden Mi. 18.06.2025 1000 1900 Uhr Galerie Bezirk Oberbayern 04 Juni bis 11 Sep CarstenCaren Lewerentz und Susanne Winter Werden Fr. 20.06.2025 1000 1900 Uhr Galerie Bezirk Oberbayern 04 Juni bis 11 Sep CarstenCaren Lewerentz und Susanne Winter Werden Mo. 23.06.2025 1000 1900 Uhr Galerie Bezirk Oberbayern 04 Juni bis 11 Sep CarstenCaren Lewerentz und Susanne Winter Werden Di. 24.06.2025 1000 1900 Uhr Galerie Bezirk Oberbayern 04 Juni bis 11 Sep CarstenCaren Lewerentz und Susanne Winter Werden Mi. 25.06.2025 1000 1900 Uhr Galerie Bezirk Oberbayern 04 Juni bis 11 Sep CarstenCaren Lewerentz und Susanne Winter Werden Do. 26.06.2025 1000 1900 Uhr Galerie Bezirk Oberbayern 04 Juni bis 11 Sep CarstenCaren Lewerentz und Susanne Winter Werden Fr. 27.06.2025 1000 1900 Uhr Galerie Bezirk Oberbayern 04 Juni bis 11 Sep CarstenCaren Lewerentz und Susanne Winter Werden Mo. 30.06.2025 1000 1900 Uhr Galerie Bezirk Oberbayern 04 Juni bis 11 Sep CarstenCaren Lewerentz und Susanne Winter Werden Di. 01.07.2025 1000 1900 Uhr Galerie Bezirk Oberbayern 04 Juni bis 11 Sep CarstenCaren Lewerentz und Susanne Winter Werden Mi. 02.07.2025 1000 1900 Uhr Galerie Bezirk Oberbayern 04 Juni bis 11 Sep CarstenCaren Lewerentz und Susanne Winter Werden Do. 03.07.2025 1000 1900 Uhr Galerie Bezirk Oberbayern 04 Juni bis 11 Sep CarstenCaren Lewerentz und Susanne Winter Werden Fr. 04.07.2025 1000 1900 Uhr Galerie Bezirk Oberbayern 04 Juni bis 11 Sep CarstenCaren Lewerentz und Susanne Winter Werden Mo. 07.07.2025 1000 1900 Uhr Galerie Bezirk Oberbayern 04 Juni bis 11 Sep CarstenCaren Lewerentz und Susanne Winter Werden Di. 08.07.2025 1000 1900 Uhr Galerie Bezirk Oberbayern 04 Juni bis 11 Sep CarstenCaren Lewerentz und Susanne Winter Werden Mi. 09.07.2025 1000 1900 Uhr Galerie Bezirk Oberbayern 04 Juni bis 11 Sep CarstenCaren Lewerentz und Susanne Winter Werden Do. 10.07.2025 1000 1900 Uhr Galerie Bezirk Oberbayern 04 Juni bis 11 Sep CarstenCaren Lewerentz und Susanne Winter Werden Fr. 11.07.2025 1000 1900 Uhr Galerie Bezirk Oberbayern 04 Juni bis 11 Sep CarstenCaren Lewerentz und Susanne Winter Werden Mo. 14.07.2025 1000 1900 Uhr Galerie Bezirk Oberbayern 04 Juni bis 11 Sep CarstenCaren Lewerentz und Susanne Winter Werden Di. 15.07.2025 1000 1900 Uhr Galerie Bezirk Oberbayern 04 Juni bis 11 Sep CarstenCaren Lewerentz und Susanne Winter Werden Mi. 16.07.2025 1000 1900 Uhr Galerie Bezirk Oberbayern 04 Juni bis 11 Sep CarstenCaren Lewerentz und Susanne Winter Werden Do. 17.07.2025 1000 1900 Uhr Galerie Bezirk Oberbayern Seitennummerierung Erste Seite 1 Seite 2 Seite 3 Letzte Seite Nächste Seite\n",
      "https://www.muenchen.de/en/node/89285\n",
      "Ad Ausstellung im Museum Mineralogia mit Kunst von Peter Volk GeoArt Minerale, Landschaften, Bilder Taucht ein in die Welt der Geologie und Kunst! Die neue Sonderausstellung GeoArt Minerale, Landschaften, Bilder vereint bis zum 29. Juni 2025 auf eindrucksvolle Weise die Gemälde des Künstlers und Geologen Dr. Peter Volk mit den außergewöhnlichen Schätzen der Mineralogischen Staatssammlung München. Datum und Veranstaltungsort 04.06.2025 1200 until 1600 h Museum Mineralogia München Museum Mineralogia More actions Share on Facebook Share via WhatsApp Copy link Farbenprächtige Verbindung von Kunst und Wissenschaft Dr. Peter Volk, geboren 1955, ist promovierter Geologe und ein Experte in der digitalen Bildbearbeitung. Neben seiner wissenschaftlichen Expertise hat er eine weitere Leidenschaft die Malerei. Schon früh begann er, berufliche Reisen und geologische Studien mit seinem künstlerischen Schaffen zu verknüpfen. Das Ergebnis ist ein beeindruckendes Portfolio an Landschaftsgemälden, die oft die Erdgeschichte der dargestellten Regionen widerspiegeln. In der Ausstellung treffen die kunstvoll gemalten Landschaften von Peter Volk auf die Mineralien und Kristalle, die in denselben geologischen Formationen vorkommen. Diese einzigartige Kombination aus Malerei und Natur zeigt die faszinierende Verbindung zwischen der Schönheit der Erde und ihrer geologischen Struktur. Lasst euch von der Farbenpracht und den Details der Gemälde verzaubern, bestaunt die funkelnden Mineralien und entdeckt, wie eng Kunst und Wissenschaft miteinander verwoben sind. In cooperation with the cultural department and the museums This article about Munichs museums is sponsored by the Cultural Department of the City of Munich and was conceived in cooperation with the State Agency for NonState Museums in Bavaria. The content has been coordinated between the participating museums and , the official city portal. This might also interest you Dates Wed , 04. June 2025 1200 Museum Mineralogia München Thu , 05. June 2025 1200 Museum Mineralogia München Fri , 06. June 2025 1200 Museum Mineralogia München Sat , 07. June 2025 1300 Museum Mineralogia München Sun , 08. June 2025 1300 Museum Mineralogia München Tue , 10. June 2025 1200 Museum Mineralogia München Wed , 11. June 2025 1200 Museum Mineralogia München Thu , 12. June 2025 1200 Museum Mineralogia München Fri , 13. June 2025 1200 Museum Mineralogia München Sat , 14. June 2025 1300 Museum Mineralogia München Sun , 15. June 2025 1300 Museum Mineralogia München\n",
      "https://www.muenchen.de/en/node/91753\n",
      "Ad Neue Ausstellung im Haus der Kunst Shu Lea Cheang KI KI Eine transformative Reise in mal mehr, mal weniger entfernt scheinende ScienceFictionWelten Das erwartet die Besucherinnen bei der Überblicksausstellung KI KI der Netzkünstlerin und Filmemacherin Shu Lea Cheang, die vom 14. Februar bis 3. August 2025 im Haus der Kunst zu sehen ist. Datum und Veranstaltungsort 04.06.2025 1000 until 2000 h Haus der Kunst Shu Lea Cheang More actions Share on Facebook Share via WhatsApp Copy link Drei Szenarien mit interaktiven Objekten Ausgangspunkt der Ausstellung ist Cheangs dystopischer Experimentalfilm Fresh Kills aus dem Jahr 1994. Anhand von drei Szenarien zeigt die Ausstellung dann aktualisierte und bisher nicht veröffentlichte Arbeiten der Künstlerin, anhand derer sich ihre visionären Techniken nachvollziehen lassen. Zu sehen sind unter anderem internetbasierte Installationen, SoftwareInteraktionen und MultiplayerPerformances, die das Publikum zur Interaktion auffordern, es geht also nicht nur um die Präsentation von einzelnen Objekten. Alle Infos zum Haus der Kunst Futuristische Erzählungen über nichtmenschliche Intelligenzen Man kann Cheangs Kunst durchaus als ErfahrungsMaschine bezeichnen, denn ihre futuristischen Erzählungen drehen sich oft um nichtmenschliche Intelligenzen, sowohl künstlicher als auch natürlicher Art. Das Haus der Kunst setzt nach den Werkschauen von Dumb Type, Tony Cokes und WangShui mit dieser Ausstellung sein Engagement für zeitgenössische und neue Medien fort. This might also interest you Dates Wed , 04. June 2025 1000 Haus der Kunst Wed , 04. June 2025 1000 Haus der Kunst Thu , 05. June 2025 1000 Haus der Kunst Thu , 05. June 2025 1000 Haus der Kunst Fri , 06. June 2025 1000 Haus der Kunst Fri , 06. June 2025 1000 Haus der Kunst Sat , 07. June 2025 1000 Haus der Kunst Sat , 07. June 2025 1000 Haus der Kunst Sun , 08. June 2025 1000 Haus der Kunst Sun , 08. June 2025 1000 Haus der Kunst Mon , 09. June 2025 1000 Haus der Kunst Mon , 09. June 2025 1000 Haus der Kunst Wed , 11. June 2025 1000 Haus der Kunst Wed , 11. June 2025 1000 Haus der Kunst Thu , 12. June 2025 1000 Haus der Kunst Thu , 12. June 2025 1000 Haus der Kunst Fri , 13. June 2025 1000 Haus der Kunst Fri , 13. June 2025 1000 Haus der Kunst Sat , 14. June 2025 1000 Haus der Kunst Sat , 14. June 2025 1000 Haus der Kunst Sun , 15. June 2025 1000 Haus der Kunst Sun , 15. June 2025 1000 Haus der Kunst Mon , 16. June 2025 1000 Haus der Kunst Mon , 16. June 2025 1000 Haus der Kunst Wed , 18. June 2025 1000 Haus der Kunst Wed , 18. June 2025 1000 Haus der Kunst Thu , 19. June 2025 1000 Haus der Kunst Thu , 19. June 2025 1000 Haus der Kunst Fri , 20. June 2025 1000 Haus der Kunst Fri , 20. June 2025 1000 Haus der Kunst Sat , 21. June 2025 1000 Haus der Kunst Sat , 21. June 2025 1000 Haus der Kunst Sun , 22. June 2025 1000 Haus der Kunst Sun , 22. June 2025 1000 Haus der Kunst Mon , 23. June 2025 1000 Haus der Kunst Mon , 23. June 2025 1000 Haus der Kunst Wed , 25. June 2025 1000 Haus der Kunst Wed , 25. June 2025 1000 Haus der Kunst Thu , 26. June 2025 1000 Haus der Kunst Thu , 26. June 2025 1000 Haus der Kunst Fri , 27. June 2025 1000 Haus der Kunst Fri , 27. June 2025 1000 Haus der Kunst Sat , 28. June 2025 1000 Haus der Kunst Sat , 28. June 2025 1000 Haus der Kunst Sun , 29. June 2025 1000 Haus der Kunst Sun , 29. June 2025 1000 Haus der Kunst Mon , 30. June 2025 1000 Haus der Kunst Mon , 30. June 2025 1000 Haus der Kunst Wed , 02. July 2025 1000 Haus der Kunst Wed , 02. July 2025 1000 Haus der Kunst Thu , 03. July 2025 1000 Haus der Kunst Thu , 03. July 2025 1000 Haus der Kunst Fri , 04. July 2025 1000 Haus der Kunst Fri , 04. July 2025 1000 Haus der Kunst Sat , 05. July 2025 1000 Haus der Kunst Sat , 05. July 2025 1000 Haus der Kunst Sun , 06. July 2025 1000 Haus der Kunst Sun , 06. July 2025 1000 Haus der Kunst Mon , 07. July 2025 1000 Haus der Kunst Mon , 07. July 2025 1000 Haus der Kunst Wed , 09. July 2025 1000 Haus der Kunst Wed , 09. July 2025 1000 Haus der Kunst Thu , 10. July 2025 1000 Haus der Kunst Thu , 10. July 2025 1000 Haus der Kunst Fri , 11. July 2025 1000 Haus der Kunst Fri , 11. July 2025 1000 Haus der Kunst Sat , 12. July 2025 1000 Haus der Kunst Sat , 12. July 2025 1000 Haus der Kunst Sun , 13. July 2025 1000 Haus der Kunst Sun , 13. July 2025 1000 Haus der Kunst Mon , 14. July 2025 1000 Haus der Kunst Mon , 14. July 2025 1000 Haus der Kunst Wed , 16. July 2025 1000 Haus der Kunst Wed , 16. July 2025 1000 Haus der Kunst Thu , 17. July 2025 1000 Haus der Kunst Thu , 17. July 2025 1000 Haus der Kunst Fri , 18. July 2025 1000 Haus der Kunst Fri , 18. July 2025 1000 Haus der Kunst Sat , 19. July 2025 1000 Haus der Kunst Sat , 19. July 2025 1000 Haus der Kunst Sun , 20. July 2025 1000 Haus der Kunst Sun , 20. July 2025 1000 Haus der Kunst Mon , 21. July 2025 1000 Haus der Kunst Mon , 21. July 2025 1000 Haus der Kunst Wed , 23. July 2025 1000 Haus der Kunst Wed , 23. July 2025 1000 Haus der Kunst Thu , 24. July 2025 1000 Haus der Kunst Thu , 24. July 2025 1000 Haus der Kunst Fri , 25. July 2025 1000 Haus der Kunst Fri , 25. July 2025 1000 Haus der Kunst Sat , 26. July 2025 1000 Haus der Kunst Sat , 26. July 2025 1000 Haus der Kunst Sun , 27. July 2025 1000 Haus der Kunst Sun , 27. July 2025 1000 Haus der Kunst Mon , 28. July 2025 1000 Haus der Kunst Mon , 28. July 2025 1000 Haus der Kunst Wed , 30. July 2025 1000 Haus der Kunst Wed , 30. July 2025 1000 Haus der Kunst Thu , 31. July 2025 1000 Haus der Kunst Thu , 31. July 2025 1000 Haus der Kunst\n",
      "https://www.muenchen.de/sehenswuerdigkeiten/museen/museum-brandhorst\n"
     ]
    },
    {
     "name": "stderr",
     "output_type": "stream",
     "text": [
      " 26%|██▌       | 9/35 [00:04<00:10,  2.56it/s]"
     ]
    },
    {
     "name": "stdout",
     "output_type": "stream",
     "text": [
      "Museum Brandhorst Zeitgenössische Kunst in Münchens Zentrum Museum Brandhorst im Kunstareal Infos zu Ausstellung, Führung und Café In einem bunten Kunstbau mitten im Münchner Kunstareal präsentiert das Museum Brandhorst Werke zeitgenössischer Künstlerinnen, unter anderem von Andy Warhol und Cy Twombly. Adresse und Öffnungszeiten Theresienstr. 35a , 80333 München Öffnungszeiten Mi geöffnet 1000 1800 Mo geschlossen Di 1000 1800 Mi 1000 1800 Do 1000 2000 Fr 1000 1800 Sa 1000 1800 So 1000 1800 Hinweis An folgenden Feiertagen geschlossen Faschingsdienstag, Tag der Arbeit, Heiligabend, Erster Weihnachtstag, Silvester Anfahrt Andreas Lechtape, Museum Brandhorst Weitere Aktionen Teilen auf Facebook Teilen via WhatsApp Kopieren Warum lohnt sich ein Besuch im Museum Brandhorst? Museum Brandhorst Besucherinnen vor den Werken von Cy Twombly im Rosensaal des Museums Brandhorst Die spektakuläre MuseumsFassade aus 36.000 Keramikstäben kennt in München jeder doch was verbirgt sich dahinter? Was ist geboten? Im Museum Brandhorst erlebt ihr Spitzenwerke der Kunst von den 1960erJahren bis heute. Die Sammlung beherbergt über 1.200 Werke internationaler Künstlerinnen des 20. und 21. Jahrhunderts. Die Sammlung und das Programm des Museums stehen für eine tiefgehende Beschäftigung mit einzelnen künstlerischen Positionen und für die intensive Auseinandersetzung mit zentralen Fragestellungen der Kunst von heute. Was ist das Besondere? Seit seiner Eröffnung 2009 hat sich das Haus als einer der zentralen Orte für Gegenwartskunst in Deutschland etabliert. Als besonders beeindruckend gelten die vielen Sammlungswerke von Andy Warhol und Cy Twombly. Museum Brandhorst Die wichtigsten Infos auf einen Blick Lage Im Kunstareal unweit von der Universität MuseumsKategorie Kunstmuseum Kinderprogramm Familienführungen, Führungen für Kitas, Kindergärten und Schulen sowie ein vielseitiges Kunstvermittlungsprogramm für Kinder und Jugendliche Empfohlene Aufenthaltsdauer 1 bis 3 Stunden Anfahrt Tram 27 und 28 bis Pinakotheken, U2 bis Königsplatz oder Theresienstraße, U3U6 bis Odeonsplatz oder Universität und U4U5 bis Odeonsplatz Parken Tiefgarage der Amalienpassage oder BCG Parkhaus Daueraustellung Cy Twombly Museum Brandhorst Der beeindruckende LepantoSaal wurde nach den Vorgaben des Künstlers Cy Twombly konzipiert Den Schwerpunkt im Museum Brandhorst bildet die europaweit größte Kollektion von Werken Andy Warhols und weltweit einzigartige Bestände des Amerikaners Cy Twombly. Seine Arbeiten prägten den abstrakten Expressionismus . Dazu gehören Malereien, Zeichnungen, Fotografien und Objekte groß oder klein. Was ihr sehen müsst Die 12 Bilder aus Cy Twomblys Reihe Lepanto Der Saal, in dem die Werke ausgestellt sind, wurde nach den Wünschen des Künstlers höchstpersönlich eingerichtet. Der monumentale LepantoZyklus ist ein Hauptwerk Cy Twomblys, bestehend aus zwölf Gemälden, die dauerhaft im LepantoSaal im Museum Brandhorst ausgestellt werden. Ein weiteres Highlight ist der RosenSaal. Die dort gezeigten Gemälde mit bunten Rosenmotiven hat der Künstler eigens für den Raum im Museum Brandhorst 2008 gemalt. Die Werke der NeoAvantgarde Ein weiterer Schwerpunkt liegt auf Künstlerinnen der Neoavantgarde der 1960er und 1970erJahre und der Postmoderne sowie der internationalen zeitgenössischen Malerei. Wechselnde Einzelausstellungen stellen zudem bedeutende künstlerische Positionen, wie zuletzt Lucy McKenzie oder Alexandra Bircken, in den Vordergrund. Previous slide View image in modal View image in modal View image in modal View image in modal View image in modal View image in modal View image in modal View image in modal Next slide Führungen, Workshops und Kinderprogramm Museum Brandhorst Ein umfangreiches Führungs und WorkshopProgramm vervollständigt das Museumsangebot Öffentliche Führungen durch Dauer und Sonderausstellungen Private Familienführungen für Erwachsene mit Kindern Pädagogische Führungen für Kitas, Kindergärten und Schulen Vielseitiges Kunstvermittlungsprogramm mit wechselnden Veranstaltungen für Kinder und Jugendliche PopUpFactory Workshops für Familien zum aktiven und kreativen Gestalten, Austausch über Kunst, die Ausstellung und deren Bezug zu gesellschaftlichen Themen PostcARTs und Kinderkreativhefte laden dazu ein, die Sammlung spielerisch kennenzulernen Architektur des Museum Brandhorst Museum Brandhorst Die spektakuläre MuseumsFassade aus 36.000 Keramikstäben kennt in München jeder Das zweigeschossige Gebäude der Berliner Architekten Sauerbruch Hutton ist mit seiner bunten Fassade ein spektakuläres Highlight des Kunstareals. In 23 verschiedenen Farben glasiert, greifen 36.000 Keramikstäbe die umliegenden Häuserfronten der Maxvorstadt auf. Innen wird das Museum Brandhorst auf drei Ausstellungsflächen bespielt, die durch eine mit Eichenholz verkleidete Treppe miteinander verbunden sind. Museumscafé und Buchshop Das Café im Zebra bietet nach dem Besuch eine Verschnaufpause sowie Kaffee, Kuchen, Snacks und kalte Getränke an. Im Museum findet ihr außerdem die Buchhandlung Walther König, Fachbuchhandlung und Verlag für Kunst, Fotografie, Architektur, Design und Ästhetische Theorie. Im Museum Brandhorst wird eine große Auswahl an internationalen Buchtiteln angeboten. Eintrittspreise regulär 7 Euro ermäßigt 5 Euro sonntags 1 Euro Für Kinder und Jugendliche bis 18 Jahren und für Studierende der Fachrichtung Kunst ist die Ausstellung kostenfrei zugänglich. Barrierefreiheit und Angebote für Menschen mit Behinderung Das Museum Brandhorst ist barrierefrei zugänglich . Es sind zwei Personenaufzüge vorhanden, die den Zutritt zu allen Ausstellungsebenen ermöglichen und den Eingangsbereich mit dem Garderobenbereich verbinden. Es gibt zwei BehindertenParkplätze vor dem Haupteingang des Museum Brandhorst Rollstuhlgerechte Toiletten befinden sich im Obergeschoss, hinter der Lounge, im Untergeschoss bei der Garderobe sowie neben dem Medienraum. Geschichte des Museum Brandhorst Haydar Koypuinar Im Münchner Kunstareal unweit von der Universität zeigt das Museum Brandhorst Spitzenwerke der Kunst von den 1960erJahren bis heute Mitten in Münchens pulsierender Maxvorstadt lädt das Museum Brandhorst in einem einzigartigen Ambiente zur Beschäftigung mit der Kunst seit 1960 ein. Internationale Kunststars und junge zukunftsweisende Positionen sind unter einem Dach vereint. Seine Wurzeln hat das Museum in der privaten Sammlung von Anette und Udo Brandhorst. Dem KunstsammlerPaar ist es zu verdanken, dass das heutige Museum mit internationalen Kunstwerken reich gefüllt ist. Seit den 1970erJahren sammelten die beiden zeitgenössische Kunst. Darunter befinden sich hauptsächlich Gemälde, Zeichnungen und Skulpturen. Fotografien. Medienarbeiten und Installationen vervollständigten erst später die Sammlung und bilden nur einen kleinen Anteil. 1993 in eine Stiftung überführt, wurde die Sammlung im Mai 2009 im Museum Brandhorst der Öffentlichkeit zugänglich gemacht und ist seitdem Teil der Bayerischen Staatsgemäldesammlungen. Die fruchtbare Kooperation zwischen dem Freistaat Bayern und der Udo und Anette Brandhorst Stiftung setzt sich fort Während der Staat den Betrieb des Hauses garantiert, ermöglicht die Stiftung die kontinuierliche Erweiterung der Sammlung. In Kooperation mit dem Kulturreferat und den Museen Dieser Beitrag über die Münchner Museen wird vom Kulturreferat der Landeshauptstadt München gefördert und ist in Kooperation mit der Landesstelle für die nichtstaatlichen Museen in Bayern konzipiert worden. Die Inhalte wurden zwischen den beteiligten Museen und , dem offiziellen Stadtportal, abgestimmt. Das könnte euch auch interessieren Münchens Top Sehenswürdigkeiten Die Highlights von Marienplatz bis Frauenkirche So wird das Wetter Sonne oder Regen? Die Wetterprognose Webcams mit LiveBildern in München Was am Marienplatz, im Olympiapark und an der Isar zu sehen ist Auf einen Blick Museum Brandhorst Theresienstr. 35a 80333 München Tel 4989238052286 infomuseumbrandhorst.de Korrektur vorschlagen Barrierefreier Zugang Eingangstüre Automatik Ebenerdiger Zugang vorhanden vor dem Museum Tram 27, 28, N27, Bus 58, 68, 100 Pinakotheken, Bus 68, 100 MaxvorstadtSammlung Brandhorst Barrierefreiheit im Gebäude Aufzüge vorhanden Barrierefreies WC vorhanden im UG und OG Barrierefreiheit weitere Information Verleih von Roll und Klappstühlen sowie von Gehstöcken Audioguide im Eintrittspreis enthalten Öffnungszeiten This is a carousel with rotating cards. Use the previous and next buttons to navigate, and Enter to activate cards. Vorheriger Slide Mo geschlossen Di 1000 1800 Mi 1000 1800 Do 1000 2000 Fr 1000 1800 Sa 1000 1800 So 1000 1800 Nächster Slide 1 30 von 70 Veranstaltungen 04 Juni bis 17 Aug Fünf Freunde. John Cage, Merce Cunningham, Jasper Johns, Robert Rauschenberg, Cy Twombly Mi. 04.06.2025 1000 1800 Uhr Museum Brandhorst 04 Juni bis 17 Aug Fünf Freunde. John Cage, Merce Cunningham, Jasper Johns, Robert Rauschenberg, Cy Twombly Do. 05.06.2025 1000 2000 Uhr Museum Brandhorst 04 Juni bis 17 Aug Fünf Freunde. John Cage, Merce Cunningham, Jasper Johns, Robert Rauschenberg, Cy Twombly Fr. 06.06.2025 1000 1800 Uhr Museum Brandhorst 04 Juni bis 17 Aug Fünf Freunde. John Cage, Merce Cunningham, Jasper Johns, Robert Rauschenberg, Cy Twombly Sa. 07.06.2025 1000 1800 Uhr Museum Brandhorst 04 Juni bis 17 Aug Fünf Freunde. John Cage, Merce Cunningham, Jasper Johns, Robert Rauschenberg, Cy Twombly So. 08.06.2025 1000 1800 Uhr Museum Brandhorst 04 Juni bis 17 Aug Fünf Freunde. John Cage, Merce Cunningham, Jasper Johns, Robert Rauschenberg, Cy Twombly Mo. 09.06.2025 1000 1800 Uhr Museum Brandhorst 04 Juni bis 17 Aug Fünf Freunde. John Cage, Merce Cunningham, Jasper Johns, Robert Rauschenberg, Cy Twombly Di. 10.06.2025 1000 1800 Uhr Museum Brandhorst 04 Juni bis 17 Aug Fünf Freunde. John Cage, Merce Cunningham, Jasper Johns, Robert Rauschenberg, Cy Twombly Mi. 11.06.2025 1000 1800 Uhr Museum Brandhorst 04 Juni bis 17 Aug Fünf Freunde. John Cage, Merce Cunningham, Jasper Johns, Robert Rauschenberg, Cy Twombly Do. 12.06.2025 1000 2000 Uhr Museum Brandhorst 04 Juni bis 17 Aug Fünf Freunde. John Cage, Merce Cunningham, Jasper Johns, Robert Rauschenberg, Cy Twombly Fr. 13.06.2025 1000 1800 Uhr Museum Brandhorst 04 Juni bis 17 Aug Fünf Freunde. John Cage, Merce Cunningham, Jasper Johns, Robert Rauschenberg, Cy Twombly Sa. 14.06.2025 1000 1800 Uhr Museum Brandhorst 04 Juni bis 17 Aug Fünf Freunde. John Cage, Merce Cunningham, Jasper Johns, Robert Rauschenberg, Cy Twombly So. 15.06.2025 1000 1800 Uhr Museum Brandhorst 04 Juni bis 17 Aug Fünf Freunde. John Cage, Merce Cunningham, Jasper Johns, Robert Rauschenberg, Cy Twombly Di. 17.06.2025 1000 1800 Uhr Museum Brandhorst 17 Juni bis 25 Juli Festival Fünf Freunde Di. 17.06.2025 1900 Uhr Museum Brandhorst 04 Juni bis 17 Aug Fünf Freunde. John Cage, Merce Cunningham, Jasper Johns, Robert Rauschenberg, Cy Twombly Mi. 18.06.2025 1000 1800 Uhr Museum Brandhorst 04 Juni bis 17 Aug Fünf Freunde. John Cage, Merce Cunningham, Jasper Johns, Robert Rauschenberg, Cy Twombly Do. 19.06.2025 1000 1800 Uhr Museum Brandhorst 04 Juni bis 17 Aug Fünf Freunde. John Cage, Merce Cunningham, Jasper Johns, Robert Rauschenberg, Cy Twombly Fr. 20.06.2025 1000 1800 Uhr Museum Brandhorst 04 Juni bis 17 Aug Fünf Freunde. John Cage, Merce Cunningham, Jasper Johns, Robert Rauschenberg, Cy Twombly Sa. 21.06.2025 1000 1800 Uhr Museum Brandhorst 04 Juni bis 17 Aug Fünf Freunde. John Cage, Merce Cunningham, Jasper Johns, Robert Rauschenberg, Cy Twombly So. 22.06.2025 1000 1800 Uhr Museum Brandhorst 04 Juni bis 17 Aug Fünf Freunde. John Cage, Merce Cunningham, Jasper Johns, Robert Rauschenberg, Cy Twombly Di. 24.06.2025 1000 1800 Uhr Museum Brandhorst 04 Juni bis 17 Aug Fünf Freunde. John Cage, Merce Cunningham, Jasper Johns, Robert Rauschenberg, Cy Twombly Mi. 25.06.2025 1000 1800 Uhr Museum Brandhorst 04 Juni bis 17 Aug Fünf Freunde. John Cage, Merce Cunningham, Jasper Johns, Robert Rauschenberg, Cy Twombly Do. 26.06.2025 1000 2000 Uhr Museum Brandhorst 04 Juni bis 17 Aug Fünf Freunde. John Cage, Merce Cunningham, Jasper Johns, Robert Rauschenberg, Cy Twombly Fr. 27.06.2025 1000 1800 Uhr Museum Brandhorst 04 Juni bis 17 Aug Fünf Freunde. John Cage, Merce Cunningham, Jasper Johns, Robert Rauschenberg, Cy Twombly Sa. 28.06.2025 1000 1800 Uhr Museum Brandhorst 04 Juni bis 17 Aug Fünf Freunde. John Cage, Merce Cunningham, Jasper Johns, Robert Rauschenberg, Cy Twombly So. 29.06.2025 1000 1800 Uhr Museum Brandhorst 04 Juni bis 17 Aug Fünf Freunde. John Cage, Merce Cunningham, Jasper Johns, Robert Rauschenberg, Cy Twombly Di. 01.07.2025 1000 1800 Uhr Museum Brandhorst 04 Juni bis 17 Aug Fünf Freunde. John Cage, Merce Cunningham, Jasper Johns, Robert Rauschenberg, Cy Twombly Mi. 02.07.2025 1000 1800 Uhr Museum Brandhorst 04 Juni bis 17 Aug Fünf Freunde. John Cage, Merce Cunningham, Jasper Johns, Robert Rauschenberg, Cy Twombly Do. 03.07.2025 1000 2000 Uhr Museum Brandhorst 04 Juni bis 17 Aug Fünf Freunde. John Cage, Merce Cunningham, Jasper Johns, Robert Rauschenberg, Cy Twombly Fr. 04.07.2025 1000 1800 Uhr Museum Brandhorst 17 Juni bis 25 Juli Festival Fünf Freunde Fr. 04.07.2025 1830 Uhr Museum Brandhorst Seitennummerierung Erste Seite 1 Seite 2 Seite 3 Letzte Seite Nächste Seite\n",
      "https://www.muenchen.de/en/node/95674\n",
      "Ad Ausstellung im AMUSEUM zum anonymen StreetArtKünstler NoNÅME Sell la Vie Er bleibt zwar anonym, einen Namen hat er sich dennoch längst in der internationalen Kunstwelt gemacht NoNÅME. Bis zum 20. Juli 2025 zeigt das AMUSEUM of Contemporary Art mit Sell la Vie die erste institutionelle Einzelausstellung des KunstAktivisten. Zu sehen sind über 90 bislang unveröffentlichte OriginalKunstwerke von Ölgemälden bis hin zu aufwendigen CollageArbeiten. Datum und Veranstaltungsort 04.06.2025 1200 until 1900 h AMUSEUM of Contemporary Art Amuseum of Contemporary Art More actions Share on Facebook Share via WhatsApp Copy link Gesellschafts und Konsumkritik künstlerisch umgesetzt Soziale Ungerechtigkeit, die Rüstungsindustrie, der Klimawandel, die Folgen des Neoliberalismus sowie die Flucht davor in Ekstase und Rausch es sind große Themen unserer Gegenwart und Zukunft, welche die Inhalte der Kunstwerke NoNÅMEs bestimmen. Mal in Form von Collagen, mal in Form von fotorealistischen Ölmalereien, die im ersten Augenblick wirken, als seien es Fotodrucke. In den mehr als 90 Arbeiten, die sowohl frisch aus dem Atelier des Künstlers sowie aus internationalen Kunstsammlungen zusammengetragen wurden und aktuell im AMUSEUM of Contemporary Art ausgestellt werden, spielt NoNÅME vor allem mit der Überzeugung, dass der Traum vom besseren Leben letztlich nur erkauft werden kann. NoNÅMEs Kunst vereint traditionelle Malerei, ansprechende Werbeästhetik sowie gesellschaftsrelevante Themenwelten mit pointiertem Humor. Seine Werke sind somit eine Reflexion über die Schattenseiten des Neoliberalismus, die er stets mit einem Hauch von Sarkasmus darstellt. Kritische Street Art in der Tradition von Banksy und Heartfield Amuseum of Contemporary Art Im humanistischen Geist von Künstlern wie John Heartfield, Keith Haring und Banksy nutzt NoNÅME die Verantwortung bildender Kunst als Spiegel unserer Zeit. Dabei widersetzt er sich auch der gängigen Selbstinszenierung und stellt die Kunst in den Mittelpunkt. Das unterstreichen auch die aktuell im AMUSEUM of Contemporary Art präsentierten Ausstellungsstücke. Während Kunstschaffende sich heutzutage vor allem selbst in den Vordergrund stellen, lehnt NoNÅME diese Form der Personalisierung auf radikale Weise ab. Stattdessen rückt er mit seiner anonymen Haltung die Kunst als eigenständige Ausdrucksform in den Fokus. Anonymität gilt in der Kunstszene oft als Hindernis für wirtschaftlichen Erfolg doch NoNÅME nutzt sie als künstlerisches Mittel, um eine kritische Auseinandersetzung mit Konsum, Gesellschaft und Machtstrukturen zu ermöglichen. Video von der Eröffnung Die Eröffnung der Ausstellung gestaltete auch TVKabarettist Max Uthoff mit. Zum Video auf Vimeo In cooperation with the cultural department and the museums This article about Munichs museums is sponsored by the Cultural Department of the City of Munich and was conceived in cooperation with the State Agency for NonState Museums in Bavaria. The content has been coordinated between the participating museums and , the official city portal. This might also interest you Dates Wed , 04. June 2025 1200 AMUSEUM of Contemporary Art Thu , 05. June 2025 1200 AMUSEUM of Contemporary Art Fri , 06. June 2025 1200 AMUSEUM of Contemporary Art Sat , 07. June 2025 1200 AMUSEUM of Contemporary Art Sun , 08. June 2025 1200 AMUSEUM of Contemporary Art Wed , 11. June 2025 1200 AMUSEUM of Contemporary Art Thu , 12. June 2025 1200 AMUSEUM of Contemporary Art Fri , 13. June 2025 1200 AMUSEUM of Contemporary Art Sat , 14. June 2025 1200 AMUSEUM of Contemporary Art Sun , 15. June 2025 1200 AMUSEUM of Contemporary Art Wed , 18. June 2025 1200 AMUSEUM of Contemporary Art Thu , 19. June 2025 1200 AMUSEUM of Contemporary Art Fri , 20. June 2025 1200 AMUSEUM of Contemporary Art Sat , 21. June 2025 1200 AMUSEUM of Contemporary Art Sun , 22. June 2025 1200 AMUSEUM of Contemporary Art Wed , 25. June 2025 1200 AMUSEUM of Contemporary Art Thu , 26. June 2025 1200 AMUSEUM of Contemporary Art Fri , 27. June 2025 1200 AMUSEUM of Contemporary Art Sat , 28. June 2025 1200 AMUSEUM of Contemporary Art Sun , 29. June 2025 1200 AMUSEUM of Contemporary Art Wed , 02. July 2025 1200 AMUSEUM of Contemporary Art Thu , 03. July 2025 1200 AMUSEUM of Contemporary Art Fri , 04. July 2025 1200 AMUSEUM of Contemporary Art Sat , 05. July 2025 1200 AMUSEUM of Contemporary Art Sun , 06. July 2025 1200 AMUSEUM of Contemporary Art Wed , 09. July 2025 1200 AMUSEUM of Contemporary Art Thu , 10. July 2025 1200 AMUSEUM of Contemporary Art Fri , 11. July 2025 1200 AMUSEUM of Contemporary Art Sat , 12. July 2025 1200 AMUSEUM of Contemporary Art Sun , 13. July 2025 1200 AMUSEUM of Contemporary Art Wed , 16. July 2025 1200 AMUSEUM of Contemporary Art Thu , 17. July 2025 1200 AMUSEUM of Contemporary Art Fri , 18. July 2025 1200 AMUSEUM of Contemporary Art Sat , 19. July 2025 1200 AMUSEUM of Contemporary Art Sun , 20. July 2025 1200 AMUSEUM of Contemporary Art\n",
      "https://www.muenchen.de/en/node/100789\n",
      "Ad Ausstellung in der Galerie Bezirk Oberbayern CarstenCaren Lewerentz und Susanne Winter Werden Vom 7. Mai bis 11. September 2025 ist die Ausstellung Werden in der Galerie Bezirk Oberbayern zu sehen. Die Arbeiten der Textilkünstlerin Susanne Winter und des Bildhauers CarstenCaren Lewerentz stehen für Wandel, Veränderung und Entfaltung und für die Frage nach Identität Wer bin ich? Und Was bin ich? Datum und Veranstaltungsort 04.06.2025 1000 until 1900 h Galerie Bezirk Oberbayern VGBildKunstBonn More actions Share on Facebook Share via WhatsApp Copy link CarstenCaren Lewerentz Skulpturen zwischen Identität und Leere CarstenCaren Lewerentz Skulpturen und Plastiken zeigen abgelegte Kleidung in Holz und Bronze. Sie sind Sinnbild für leere, verlassene menschliche Hüllen, denen Veränderung und Neues folgen kann und sie sind zugleich Zeugnisse persönlicher Entfaltung von Identität. Für Lewerentz bildet jedes Textil als zweite Haut des Menschen eine Verbindungslinie zwischen innerem und äußerem Sein. Aus der persönlichen Disharmonie zwischen Körper und innerem Wesen wurde für den Bildhauer das Kleidungsstück zu einem existentiellen Ausdruck seiner Kunst. Bild oben CarstenCaren Lewerentz, PRÄLUDIUM UND FUGE, 2009, Zirbelkiefer, 2010x39x36 cm Veranstaltungen zur Ausstellung 7. Mai 2025, 18 Uhr Vernissage 23. Mai 2025, 151730 Uhr KreativWorkshop Kunstbegegnungen 3. Juni 2025, 18301915 Uhr Führung in leicht verständlicher Sprache 27. Juni 2025, 181930 Uhr Tastführung zur Originalwerken der Ausstellung 23. Juli 2025, 1819 Uhr Museum SignerFührung Der Eintritt zur Ausstellung und den Veranstaltungen ist frei. Susanne Winter Materialbetonte Farblandschaften Stefan Rosenboom Susanne Winter Tintenschüttung, 2023, Tinte auf Aquarellpapier, 130x130 cm. Für ihre materialbetonten Farblandschaften arbeitet Susanne Winter mit Nähmaschine und Sticknadel auf Papier. Durch das Hin und Her der Fäden, durch Verdichtungen und Verknotungen entstehen Fadenzeichnungen mit farbigen Flächen und griffigen Formen. In ihren neuen Arbeiten experimentiert sie mit selbstgewonnenen Naturfarben aus Pflanzen, Wurzeln und Blättern und bringt diese durch Schütten auf Papier. Lenkung und Zufall wechseln sich beim Fluss der Farben ab. So zeigen sich Spuren von Wegen und Umwegen als Sinnbild für das Werden. Teil der Ausstellung ist ein großes, partizipatives Stickbild der Künstlerin, dessen Werden Besuchende mitgestalten können. In cooperation with the cultural department and the museums This article about Munichs museums is sponsored by the Cultural Department of the City of Munich and was conceived in cooperation with the State Agency for NonState Museums in Bavaria. The content has been coordinated between the participating museums and , the official city portal. This might also interest you Dates Wed , 04. June 2025 1000 Galerie Bezirk Oberbayern Thu , 05. June 2025 1000 Galerie Bezirk Oberbayern Fri , 06. June 2025 1000 Galerie Bezirk Oberbayern Tue , 10. June 2025 1000 Galerie Bezirk Oberbayern Wed , 11. June 2025 1000 Galerie Bezirk Oberbayern Thu , 12. June 2025 1000 Galerie Bezirk Oberbayern Fri , 13. June 2025 1000 Galerie Bezirk Oberbayern Mon , 16. June 2025 1000 Galerie Bezirk Oberbayern Tue , 17. June 2025 1000 Galerie Bezirk Oberbayern Wed , 18. June 2025 1000 Galerie Bezirk Oberbayern Fri , 20. June 2025 1000 Galerie Bezirk Oberbayern Mon , 23. June 2025 1000 Galerie Bezirk Oberbayern Tue , 24. June 2025 1000 Galerie Bezirk Oberbayern Wed , 25. June 2025 1000 Galerie Bezirk Oberbayern Thu , 26. June 2025 1000 Galerie Bezirk Oberbayern Fri , 27. June 2025 1000 Galerie Bezirk Oberbayern Mon , 30. June 2025 1000 Galerie Bezirk Oberbayern Tue , 01. July 2025 1000 Galerie Bezirk Oberbayern Wed , 02. July 2025 1000 Galerie Bezirk Oberbayern Thu , 03. July 2025 1000 Galerie Bezirk Oberbayern Fri , 04. July 2025 1000 Galerie Bezirk Oberbayern Mon , 07. July 2025 1000 Galerie Bezirk Oberbayern Tue , 08. July 2025 1000 Galerie Bezirk Oberbayern Wed , 09. July 2025 1000 Galerie Bezirk Oberbayern Thu , 10. July 2025 1000 Galerie Bezirk Oberbayern Fri , 11. July 2025 1000 Galerie Bezirk Oberbayern Mon , 14. July 2025 1000 Galerie Bezirk Oberbayern Tue , 15. July 2025 1000 Galerie Bezirk Oberbayern Wed , 16. July 2025 1000 Galerie Bezirk Oberbayern Thu , 17. July 2025 1000 Galerie Bezirk Oberbayern Fri , 18. July 2025 1000 Galerie Bezirk Oberbayern Mon , 21. July 2025 1000 Galerie Bezirk Oberbayern Tue , 22. July 2025 1000 Galerie Bezirk Oberbayern Wed , 23. July 2025 1000 Galerie Bezirk Oberbayern Thu , 24. July 2025 1000 Galerie Bezirk Oberbayern Fri , 25. July 2025 1000 Galerie Bezirk Oberbayern Mon , 28. July 2025 1000 Galerie Bezirk Oberbayern Tue , 29. July 2025 1000 Galerie Bezirk Oberbayern Wed , 30. July 2025 1000 Galerie Bezirk Oberbayern Thu , 31. July 2025 1000 Galerie Bezirk Oberbayern Fri , 01. August 2025 1000 Galerie Bezirk Oberbayern Mon , 04. August 2025 1000 Galerie Bezirk Oberbayern Tue , 05. August 2025 1000 Galerie Bezirk Oberbayern Wed , 06. August 2025 1000 Galerie Bezirk Oberbayern Thu , 07. August 2025 1000 Galerie Bezirk Oberbayern Fri , 08. August 2025 1000 Galerie Bezirk Oberbayern Mon , 11. August 2025 1000 Galerie Bezirk Oberbayern Tue , 12. August 2025 1000 Galerie Bezirk Oberbayern Wed , 13. August 2025 1000 Galerie Bezirk Oberbayern Thu , 14. August 2025 1000 Galerie Bezirk Oberbayern Mon , 18. August 2025 1000 Galerie Bezirk Oberbayern Tue , 19. August 2025 1000 Galerie Bezirk Oberbayern Wed , 20. August 2025 1000 Galerie Bezirk Oberbayern Thu , 21. August 2025 1000 Galerie Bezirk Oberbayern Fri , 22. August 2025 1000 Galerie Bezirk Oberbayern Mon , 25. August 2025 1000 Galerie Bezirk Oberbayern Tue , 26. August 2025 1000 Galerie Bezirk Oberbayern Wed , 27. August 2025 1000 Galerie Bezirk Oberbayern Thu , 28. August 2025 1000 Galerie Bezirk Oberbayern Fri , 29. August 2025 1000 Galerie Bezirk Oberbayern Mon , 01. September 2025 1000 Galerie Bezirk Oberbayern Tue , 02. September 2025 1000 Galerie Bezirk Oberbayern Wed , 03. September 2025 1000 Galerie Bezirk Oberbayern Thu , 04. September 2025 1000 Galerie Bezirk Oberbayern Fri , 05. September 2025 1000 Galerie Bezirk Oberbayern Mon , 08. September 2025 1000 Galerie Bezirk Oberbayern Tue , 09. September 2025 1000 Galerie Bezirk Oberbayern Wed , 10. September 2025 1000 Galerie Bezirk Oberbayern Thu , 11. September 2025 1000 Galerie Bezirk Oberbayern\n",
      "https://www.muenchen.de/sehenswuerdigkeiten/museen/bayerische-staatsbibliothek\n"
     ]
    },
    {
     "name": "stderr",
     "output_type": "stream",
     "text": [
      " 29%|██▊       | 10/35 [00:05<00:14,  1.73it/s]"
     ]
    },
    {
     "name": "stdout",
     "output_type": "stream",
     "text": [
      "Stabi München Universalbibliothek mit kultureller Bedeutung Bayerische Staatsbibliothek Infos, Ausstellungen und Tipps Die Bayerische Staatsbibliothek ist die größte wissenschaftliche Universalbibliothek Deutschlands und das in historischem Ambiente. Adresse und Öffnungszeiten Ludwigstr. 16 , 80539 München Öffnungszeiten Mi geöffnet 0800 00 Mo 0800 00 Di 0800 00 Mi 0800 00 Do 0800 00 Fr 0800 00 Sa 0800 00 So 0800 00 Hinweis 2025 ist die Bibliothek an folgenden Tagen geschlossen 1. Januar 6. Januar 4. März 18. 21. April 1. Mai 29. Mai 8.9. Juni 19. Juni 15. August 3. Oktober 1. November 24. 26. Dezember 31. Dezember Anfahrt Bayerische Staatsbibliothek Weitere Aktionen Teilen auf Facebook Teilen via WhatsApp Kopieren In Kooperation mit dem Kulturreferat und den Museen Dieser Beitrag über die Münchner Museen wird vom Kulturreferat der Landeshauptstadt München gefördert und ist in Kooperation mit der Landesstelle für die nichtstaatlichen Museen in Bayern konzipiert worden. Die Inhalte wurden zwischen den beteiligten Museen und , dem offiziellen Stadtportal, abgestimmt. Warum lohnt sich ein Besuch in der Bayerischen Staatsbibliothek? Bayerische Staatsbibliothek Das Bibliotheksgebäude mit seinem Prachttreppenhaus in der Ludwigstraße ist ein absoluter Hingucker Die Bayerische Staatsbibliothek gilt als ein Schatzhaus des schriftlichen Kulturerbes. Sie ist nicht nur eine wichtige Adresse für Forschende und Studierende, sondern auch einen Ausstellungsbesuch wert. Was ist geboten? Jährlich wechselnde Ausstellungen geben Einblicke in die umfangreichen Bestände der Bibliothek, beispielsweise aus der bedeutenden Handschriftensammlung oder den zahlreichen Fotoarchiven. Was ist besonders? Das gesamte historische Bibliotheksgebäude und sein Prachttreppenhaus. Die Bayerische Staatsbibliothek Alle Infos auf einen Blick Lage Im Universitätsviertel, schräg gegenüber dem Hauptgebäude der LMU MuseumsKategorie Bibliothek, Kultur und Kunst Empfohlene Aufenthaltsdauer Bis zu 2 Stunden Anfahrt U3U6, MetroBus 5868 oder StadtBus 153154 bis zur Haltestelle Universität Parken Keine Parkplätze vorhanden Bibliothek und Ausstellungshaus in einem BSBH.R. Schulz Der Gesamtbestand des Hauses umfasst etwa 11 Millionen Bücher, darunter viele spannende und kostbare Raritäten Fast 37 Millionen Medieneinheiten, darunter 11,2 Millionen Bände, 53.700 laufende Zeitschriften und 143.000 Handschriften, zählt die Bayerische Staatsbibliothek zu ihrem Bestand und ist damit eine wichtige Anlaufstelle für Forschende, Studierende und Informationssuchende aus ganz Europa. Euch erwartet aber weit mehr als eine nutzerfreundliche bare Forschungsbibliothek. Im ersten Stock finden regelmäßige Jahresausstellungen statt. In den Vitrinen liegen dann dabei neben Büchern und Schriftstücken auch Bilder, Zeichnungen und Dokumente aus längst vergangenen Zeiten. Zu den Highlights des Bibliotheksbestands zählen Handschriften im UNESCOWelterbe Die Bibliothek verwahrt mehrere Handschriften, die im UNESCOWeltdokumentenerbe gelistet sind, u.a. das Nibelungenlied, das Perikopenbuch Heinrichs II oder das Evangeliar Ottos III. Die Carmina Burana , der Babylonische Talmud oder der Codex Aureus gehören ebenso zum Spitzenbestand der Bibliothek Nachlässe und Künstlerbücher Neben Handschriften und seltenen Drucken nennt die Bibliothek eine bedeutende Sammlung mit über 1.000 Nachlässen oder eine umfangreiche Sammlung moderner Künstlerbücher u.a. von Max Ernst, Anselm Kiefer oder Joseph Beuys ihr eigen. Das umfangreiche historische Bildarchiv Von den Portraits wichtiger Persönlichkeiten des 19. und 20. Jahrhunderts über die Fotografien des Reichsbildberichterstatters Heinrich Hoffmann bis hin zu neueren journalistischen Aufnahmen aus Kunst, Kultur und Reisen ist alles vertreten. Auch das analoge Fotoarchiv der Zeitschrift Stern ist mit seinen rund 15 Millionen Bildern aus der Zeit von 1948 bis 2001 seit 2019 Teil der Bayerischen Staatsbibliothek. Eine Dauerausstellung wird leider nicht angeboten. Previous slide View image in modal View image in modal View image in modal View image in modal View image in modal View image in modal View image in modal View image in modal View image in modal View image in modal View image in modal Next slide Führungen und Begleitveranstaltungen zu Ausstellungen BSBH.R. Schulz Im März 2020 wurden im Rahmen der Ausstellung MÜNCHEN. SCHAU her! erste Bilder des SternFotoarchivs gezeigt Die Ausstellungen decken thematisch ein weites Feld ab. Meist werden ein kostenloses Führungsprogramm sowie ein kostenloser Audioguide angeboten. Zudem gibt es zu den meisten Ausstellungen und Präsentationen ein umfangreiches Programm an Begleitveranstaltungen . Aber auch abseits der Ausstellung ist ein Besuch der Stabi interessant Regelmäßig werden Führungen durch die Bibliotheksräume angeboten. Stabi Café BSB Ulrike Rehusch Im Untergeschoss findet ihr das Stabi Café Im Untergeschoss der Stabi findet ihr eine Cafeteria mit wöchentlich wechselnder Speisekarte. In der angrenzenden Lounge dürfen auch mitgebrachte Getränke und Speisen verzehrt werden. Kostenloser Eintritt Das Bibliotheksgebäude und die Ausstellung sind kostenfrei zugänglich. Digitale Ausstellungen und OPAC OnlineKatalog Mehr als 3 Millionen Werke aus dem Bestand der Bayerischen Staatsbibliothek können über den OPACKatalog und www.digitalesammlungen.de auch in digitaler Form gelesen werden. Auch zahlreiche A usstellungen sind auf der Website der Stabi virtuell einsehbar. Barrierefreiheit und Angebote für Menschen mit Behinderung Der barrierefreie Zugang ist über die Poststelle an der Südseite des Gebäudes möglich . Die Ausstellung im ersten Stock ist per Fahrstuhl erreichbar. Ein Behindertenparkplatz befindet sich ebenfalls auf der Südseite des Gebäudes. Eine behindertengerechte Toilette ist im Zeitschriftenlesesaal eingebaut. Geschichte der Staatsbibliothek BSBH.R. Schulz Das historische Gebäude der Bayerischen Staatsbibliothek in der Ludwigstraße entwarf einst der bedeutende Architekt Friedrich von Gärtner Die Bayerische Staatsbibliothek in München geht zurück auf die Hofbibliothek der Wittelsbacher, die 1558 auf Wunsch von Herzog Albrecht V. angelegt wurde. Ihr heutiges Gebäude in der Ludwigstraße, das Friedrich von Gärtner im Auftrag von König Ludwig I. entwarf, bezog sie 1843. Kostbare Handschriften, seltene Drucke und umfassende Sondersammlungen machen den Bestand der Bibliothek bis heute einzigartig. Als zentrale Landes und Archivbibliothek des Freistaats Bayern verfügt sie über fast 37 Millionen Medienheiten . Jedes Jahr kommen circa 125.000 Bände hinzu. Auch ihre OnlineAngebote baut die Stabi laufend aus Sei es durch die Massendigitalisierung der Bestände oder beispielsweise im Bereich elektronischer Zeitschriften. Mit über 3 Millionen digitalisierten Werken verfügt sie über den größten digitalen Datenbestand aller deutschen Bibliotheken. Und da sie zudem 2019 das analoge Fotoarchiv der Zeitschrift Stern übernahm, besitzt sie zudem das größte deutsche Bildarchiv in öffentlicher Trägerschaft. Das könnte euch auch interessieren Münchens Top Sehenswürdigkeiten Die Highlights von Marienplatz bis Frauenkirche So wird das Wetter Sonne oder Regen? Die Wetterprognose Webcams mit LiveBildern in München Was am Marienplatz, im Olympiapark und an der Isar zu sehen ist Auf einen Blick Bayerische Staatsbibliothek Ludwigstr. 16 80539 München Tel 4989286382322 Fax 4989286382155 informationbsb Korrektur vorschlagen Öffnungszeiten This is a carousel with rotating cards. Use the previous and next buttons to navigate, and Enter to activate cards. Vorheriger Slide Mo 0800 00 Di 0800 00 Mi 0800 00 Do 0800 00 Fr 0800 00 Sa 0800 00 So 0800 00 Nächster Slide 1 26 von 26 Veranstaltungen 04 Juni bis 06 Juli Farben Japans Holzschnitte aus der Sammlung der Bayerischen Staatsbibliothek Mi. 04.06.2025 1000 1800 Uhr Bayerische Staatsbibliothek 04 Juni bis 06 Juli Farben Japans Holzschnitte aus der Sammlung der Bayerischen Staatsbibliothek Do. 05.06.2025 1000 1800 Uhr Bayerische Staatsbibliothek 04 Juni bis 06 Juli Farben Japans Holzschnitte aus der Sammlung der Bayerischen Staatsbibliothek Fr. 06.06.2025 1000 1800 Uhr Bayerische Staatsbibliothek 04 Juni bis 06 Juli Farben Japans Holzschnitte aus der Sammlung der Bayerischen Staatsbibliothek So. 08.06.2025 1000 1800 Uhr Bayerische Staatsbibliothek 04 Juni bis 06 Juli Farben Japans Holzschnitte aus der Sammlung der Bayerischen Staatsbibliothek Di. 10.06.2025 1000 1800 Uhr Bayerische Staatsbibliothek 04 Juni bis 06 Juli Farben Japans Holzschnitte aus der Sammlung der Bayerischen Staatsbibliothek Mi. 11.06.2025 1000 1800 Uhr Bayerische Staatsbibliothek 04 Juni bis 06 Juli Farben Japans Holzschnitte aus der Sammlung der Bayerischen Staatsbibliothek Do. 12.06.2025 1000 1800 Uhr Bayerische Staatsbibliothek 04 Juni bis 06 Juli Farben Japans Holzschnitte aus der Sammlung der Bayerischen Staatsbibliothek Fr. 13.06.2025 1000 1800 Uhr Bayerische Staatsbibliothek 04 Juni bis 06 Juli Farben Japans Holzschnitte aus der Sammlung der Bayerischen Staatsbibliothek So. 15.06.2025 1000 1800 Uhr Bayerische Staatsbibliothek 04 Juni bis 06 Juli Farben Japans Holzschnitte aus der Sammlung der Bayerischen Staatsbibliothek Mo. 16.06.2025 1000 1800 Uhr Bayerische Staatsbibliothek 04 Juni bis 06 Juli Farben Japans Holzschnitte aus der Sammlung der Bayerischen Staatsbibliothek Di. 17.06.2025 1000 1800 Uhr Bayerische Staatsbibliothek 04 Juni bis 06 Juli Farben Japans Holzschnitte aus der Sammlung der Bayerischen Staatsbibliothek Mi. 18.06.2025 1000 1800 Uhr Bayerische Staatsbibliothek 04 Juni bis 06 Juli Farben Japans Holzschnitte aus der Sammlung der Bayerischen Staatsbibliothek Fr. 20.06.2025 1000 1800 Uhr Bayerische Staatsbibliothek 04 Juni bis 06 Juli Farben Japans Holzschnitte aus der Sammlung der Bayerischen Staatsbibliothek So. 22.06.2025 1000 1800 Uhr Bayerische Staatsbibliothek 04 Juni bis 06 Juli Farben Japans Holzschnitte aus der Sammlung der Bayerischen Staatsbibliothek Mo. 23.06.2025 1000 1800 Uhr Bayerische Staatsbibliothek 04 Juni bis 06 Juli Farben Japans Holzschnitte aus der Sammlung der Bayerischen Staatsbibliothek Di. 24.06.2025 1000 1800 Uhr Bayerische Staatsbibliothek 04 Juni bis 06 Juli Farben Japans Holzschnitte aus der Sammlung der Bayerischen Staatsbibliothek Mi. 25.06.2025 1000 1800 Uhr Bayerische Staatsbibliothek 04 Juni bis 06 Juli Farben Japans Holzschnitte aus der Sammlung der Bayerischen Staatsbibliothek Do. 26.06.2025 1000 1800 Uhr Bayerische Staatsbibliothek 04 Juni bis 06 Juli Farben Japans Holzschnitte aus der Sammlung der Bayerischen Staatsbibliothek Fr. 27.06.2025 1000 1800 Uhr Bayerische Staatsbibliothek 04 Juni bis 06 Juli Farben Japans Holzschnitte aus der Sammlung der Bayerischen Staatsbibliothek So. 29.06.2025 1000 1800 Uhr Bayerische Staatsbibliothek 04 Juni bis 06 Juli Farben Japans Holzschnitte aus der Sammlung der Bayerischen Staatsbibliothek Mo. 30.06.2025 1000 1800 Uhr Bayerische Staatsbibliothek 04 Juni bis 06 Juli Farben Japans Holzschnitte aus der Sammlung der Bayerischen Staatsbibliothek Di. 01.07.2025 1000 1800 Uhr Bayerische Staatsbibliothek 04 Juni bis 06 Juli Farben Japans Holzschnitte aus der Sammlung der Bayerischen Staatsbibliothek Mi. 02.07.2025 1000 1800 Uhr Bayerische Staatsbibliothek 04 Juni bis 06 Juli Farben Japans Holzschnitte aus der Sammlung der Bayerischen Staatsbibliothek Do. 03.07.2025 1000 1800 Uhr Bayerische Staatsbibliothek 04 Juni bis 06 Juli Farben Japans Holzschnitte aus der Sammlung der Bayerischen Staatsbibliothek Fr. 04.07.2025 1000 1800 Uhr Bayerische Staatsbibliothek 04 Juni bis 06 Juli Farben Japans Holzschnitte aus der Sammlung der Bayerischen Staatsbibliothek So. 06.07.2025 1000 1800 Uhr Bayerische Staatsbibliothek\n",
      "https://www.muenchen.de/en/node/67524\n",
      "Ad Ausstellung im Lenbachhaus Der Blaue Reiter Eine neue Sprache Das Lenbachhaus zeigt bis Winter 2025 2026 eine frische Präsentation der Werke des Blauen Reiter unter dem Titel Eine neue Sprache. Da zahlreiche Exponate in die Tate London verliehen sind, ist Platz für eine überraschende Auswahl an Gemälde, Grafiken, Hinterglasbilder, Fotografien und Skulpturen, darunter Neuerwerbungen und selten gezeigte Objekte. Mit ca. 250 Werken führt die Ausstellung von der bewegten Zeit um die Jahrhundertwende bis in die Mitte des 20. Jahrhunderts Datum und Veranstaltungsort 04.06.2025 1000 until 1800 h Lenbachhaus München Städtische Galerie im Lenbachhaus und Kunstbau MünchenRechtsnachfolge der Künstlerin More actions Share on Facebook Share via WhatsApp Copy link Neue Sicht auf den Blauen Reiter mit Werken von Klee, Kandinsky, Marc Zahlreiche Arbeiten waren lange nicht mehr zu sehen, wie die Werke Paul Klees und die dynamischen Abstraktionen Wassily Kandinsky aus dem Jahr 1914. Aktuelle Neuankäufe des Fördervereins des Lenbachhauses werden erstmals präsentiert, darunter Werke von Franz Marc, Maria FranckMarc sowie von dem im Nationalsozialismus verfolgten und ermordeten Künstler Moissey Kogan. Die Entwicklung einer neuen Sprache steht im Fokus der Ausstellung, die den Blick auch auf die unmittelbare Vorgeschichte des Blauen Reiter sowie auf seine Nachwirkungen lenkt So sind etwa die um die Jahrhundertwende in München tätige JugendstilKünstlerin Katharine Schäffner mit ihrem dynamischen und die Abstraktion antizipierenden Druckwerk und Gabriele Münters durchkomponierte Fotografien während ihrer Amerikareise für diese Geschichte ebenso prägend wie die Arbeiten von Adriaan Korteweg und Paul Klee, die in ihren Bildern die Ideen des Blauen Reiter weiterentwickeln. Bild oben Elisabeth Epstein, Selbstporträt, 1911, erworben 2019, Städtische Galerie im Lenbachhaus und Kunstbau München, im Andenken an Jerome Pustilnik, New York City, Rechtsnachfolge der Künstlerin Mehr Infos zum Lenbachhaus In cooperation with the cultural department and the museums This article about Munichs museums is sponsored by the Cultural Department of the City of Munich and was conceived in cooperation with the State Agency for NonState Museums in Bavaria. The content has been coordinated between the participating museums and , the official city portal. This might also interest you Dates Wed , 04. June 2025 1000 Lenbachhaus München Thu , 05. June 2025 1000 Lenbachhaus München Fri , 06. June 2025 1000 Lenbachhaus München Sat , 07. June 2025 1000 Lenbachhaus München Sun , 08. June 2025 1000 Lenbachhaus München Mon , 09. June 2025 1000 Lenbachhaus München Tue , 10. June 2025 1000 Lenbachhaus München Wed , 11. June 2025 1000 Lenbachhaus München Thu , 12. June 2025 1000 Lenbachhaus München Fri , 13. June 2025 1000 Lenbachhaus München Sat , 14. June 2025 1000 Lenbachhaus München Sun , 15. June 2025 1000 Lenbachhaus München Tue , 17. June 2025 1000 Lenbachhaus München Wed , 18. June 2025 1000 Lenbachhaus München Thu , 19. June 2025 1000 Lenbachhaus München Fri , 20. June 2025 1000 Lenbachhaus München Sat , 21. June 2025 1000 Lenbachhaus München Sun , 22. June 2025 1000 Lenbachhaus München Wed , 25. June 2025 1000 Lenbachhaus München Sat , 28. June 2025 1000 Lenbachhaus München Sun , 29. June 2025 1000 Lenbachhaus München\n",
      "https://www.muenchen.de/sehenswuerdigkeiten/museen/lenbachhaus-muenchen\n"
     ]
    },
    {
     "name": "stderr",
     "output_type": "stream",
     "text": [
      " 40%|████      | 14/35 [00:06<00:09,  2.31it/s]"
     ]
    },
    {
     "name": "stdout",
     "output_type": "stream",
     "text": [
      "Lenbachhaus Entdeckt die berühmte Sammlung des Blauen Reiter Lenbachhaus München Infos zur städtischen Galerie, Ausstellungen und Kunstbau Das Lenbachhaus ist berühmt für die weltweit größte Sammlung der Gruppe des Blauen Reiter um Franz Marc. Es gibt aber noch viele weitere Gemälde zu entdecken. Adresse und Öffnungszeiten Luisenstr. 33 , 80333 München Öffnungszeiten Mi geöffnet 1000 1800 Mo geschlossen Di 1000 1800 Mi 1000 1800 Do 1000 2000 Fr 1000 1800 Sa 1000 1800 So 1000 1800 Hinweis Jeden 1. Donnerstag im Monat ist der Eintritt von 18 bis 22 Uhr frei. Anfahrt Städtische Galerie im Lenbachhaus und Kunstbau Weitere Aktionen Teilen auf Facebook Teilen via WhatsApp Kopieren Warum lohnt sich ein Besuch im Lenbachhaus? F. Holzherr, Städt. Galerie im Lenbachhaus Kunstbau Schon von Außen ist das Lenbachhaus ein Blickfang Eine historische Künstlervilla mit modernem Anbau Die weltweite größte Sammlung des Blauen Reiter ist ein Muss für Touristen und Einheimische! Was ist geboten? Das Lenbachhaus präsentiert die Münchner Kunst des 19. Jahrhunderts, des Blauen Reiter und der Neuen Sachlichkeit, sowie der internationalen Gegenwartskunst. Viele weltberühmte Originale wie Das blaue Pferd von Franz Marc oder Das türkische Café von August Macke sind hier zu sehen. Hinzu kommen wechselnde Sonderausstellungen zu internationalen zeitgenössischen Künstlerinnen und Klassikern aus der Sammlung sowie vielfältige Führungs und Workshopformate für Kinder, Erwachsene, und Seniorinnen. Was ist das Besondere? Auch die Architektur des Museums ist ein Highlight Die 1887 im toskanischen Stil von Gabriel von Seidl errichtete Künstlervilla wurde 2013 durch einen modernen kubischen Anbau vom englischen Architekturbüro FosterPartners erweitert. Entspannt Kunstpause machen könnt ihr auf der Terrasse des Museumscafés ELLA sowie im wunderschönen historischen Garten, der während der Öffnungszeiten frei zugänglich ist. Donnerstags hat das Lenbachhaus sogar bis 20 Uhr geöffnet. Lenbachhaus Die wichtigsten Infos auf einen Blick Lage Im Kunstareal am Königsplatz MuseumsKategorie Kunst Empfohlene Aufenthaltsdauer Ca. 1,5 Stunden Abendöffnung free easy Jeden 1. Donnerstag im Monat von 18 bis 22 Uhr ist der Eintritt frei. Kinderprogramm der von Kindern für Kinder entwickelte Audioguide, Führungen und Workshops für klein und groß, Workshops , Platz zum Rennen und Picknicken im Garten Anfahrt U2U8 oder Bus 100 bis Königsplatz, U1U7 bis Stiglmaierplatz,Tram 27 bis Karolinenplatz Parken Einige Parkhäuser in der Nähe Das AusstellungsHighlight im Lenbachhaus Der Blaue Reiter Städtische Galerie im Lenbachhaus und Kunstbau Das Lenbachhaus ist berühmt für die weltweit größte Sammlung des Blauen Reiter um Franz Marc Der Blaue Reiter ist das Synonym für eine Künstlergruppe der Avantgarde zu Beginn des 20. Jahrhunderts, die von Wassily Kandinsky und Franz Marc begründete wurde. Das Lenbachhaus beherbergt eine der bedeutendsten Sammlungen ihrer Gemälde. Zentrale Werke dieser beiden Künstlerpersönlichkeiten gehören dabei ebenso zur Ausstellung wie weltberühmte Gemälde von August Macke, Paul Klee, Alexej Jawlensky und Gabriele Münter. Letzterer ist die Ausstellung zu verdanken 1957, zu ihrem 80. Geburtstag, überließ sie dem Lenbachhaus 1000 Exponate, darunter 25 eigene Gemälde, 90 Ölbilder ihres Mannes Kandinsky, etwa 330 seiner Aquarelle und Zeichnungen, seine Skizzenbücher, Hinterglasbilder und Druckgrafiken sowie zahlreiche weitere Werke bedeutender Künstlerinnen der Gruppe. Diese Highlights müsst ihr sehen Das Blaue Pferd I von Franz Marc Das Bild des blauen und kraftvollen Fohlens ist mit seiner eindringlichen Symbolkraft zu einem der bekanntesten Gemälde des Blauen Reiter geworden. Das Bildganze wird dabei beherrscht durch komplementäre Kontraste von Zinnoberrot und Grün unten über Karminrot und Gelb zu Violett, Blau und Orange. Wassily Kandinskys Reitendes Paar Ein Frühwerk Wassily Kandinskys, das mit seinem märchenhaften Szenario eine poetische Bilderwelt kreiert geheimnisvoll und surreal. Das Russen Haus von Gabriele Münter Ein Bildnis des eigenen Wohnhauses aus den gemeinsam mit ihrem Lebensgefährten Kandinsky verbrachten Jahren in Murnau. Den Namen RussenHaus hatten die Dorfbewohner ihrem Anwesen gegeben, weil dort mit Kandinsky ein Fremdling eingezogen war. Paul Klees Rosengarten Das bedeutendste Werk einer Reihe von Werken, in denen Klee um 1920 gewachsene und gebaute Strukturen zu einem rhythmischen Bildganzen verschmelzen ließ. Previous slide View image in modal View image in modal View image in modal View image in modal View image in modal View image in modal Next slide Zeitgenössische Kunst und weitere Sammlungsschwerpunkte Städtische Galerie im Lenbachhaus und Kunstbau Ein weiterer Sammlungsschwerpunkt sind wesentliche Tendenzen des internationalen zeitgenössischen Kunstgeschehens . Die Basis schuf der Erwerb von Joseph Beuys Zeige deine Wunde in den 1980erJahren. Heute umfasst die Sammlung eine Vielzahl an Plastiken und Installationen aus unterschiedlichen Schaffensperioden. Vertreten sind unter anderem Arbeiten von Gerhard Richter, Sigmar Polke, Anselm Kiefer, Andy Warhol, Dan Flavin, Jeff Wall, Katharina Sieverding, Christian Boltanski, Lucio Fontana, Michelangelo Pistoletto, Arnulf Rainer, Andreas Hofer, Isa Genzken oder Olafur Eliasson. Darüber hinaus erwarten euch hier noch drei weitere Dauerausstellungen Die Sammlung 19. Jahrhundert behandelt den ursprünglichen Schwerpunkt des Lenbachhauses. In den ersten Jahrzehnten sammelte und zeigte die Galerie hauptsächlich Werke der Münchner Malerei aus dem 19. Jahrhundert und deutsche Kunst des frühen 20. Jahrhunderts. Die Ausstellung Neue Sachlichkeit beschäftigt sich mit der Kunst nach dem Ersten Weltkrieg. In Abgrenzung zum vorangegangenen Expressionismus brachten die Künstler der 1920er und 1930er Jahre ihre Tendenz der nüchternrealistischen Wiedergabe der Wirklichkeit zum Ausdruck. In der Sammlung Kunst nach 1945 werden neue Kunstrichtungen aber auch neue Medien wie Performance und Videokunst sowie die Konzeptkunst aufgegriffen und anhand exemplarischer Künstler gezeigt. Was tun!? im Lenbachhaus Kunstvermittlung für alle Städtische Galerie im Lenbachhaus und Kunstbau, München Auch für Kinder gibt es im Lenbachhaus viel zu entdecken Das Lenbachhaus bietet folgende Formate an Gruppenführungen öffentliche und private, in verschiedenen Sprachen möglich KinderAudioguide Kunsthörspiel und Hörspielkunst Kunstgespräche mit Vermittlerinnen in der Ausstellung Workshops und Führungen für alle, die Familie sind Workshops für Kinder und Jugendliche , im Sommer im Garten des Museums KulturSalon Ein kostenloses Angebot speziell für ältere Menschen, die sich einsam fühlen, sich einen Kulturbesuch nicht leisten können oder körperlich beeinträchtigt sind KunstZeit Ein gemeinsames Kunsterlebnis für Menschen mit Demenz und ihren Begleiterinnen. Vor ausgewählten Kunstwerken ist ausreichend Zeit, eigene Gedanken, Gefühle und Erinnerungen einzubringen. Für Schulklassen gibt es für alle Jahrgangsstufen Programm in den diversen Ausstellungen Veranstaltungen Städtische Galerie im Lenbachhaus und Kunstbau Ein umfangreiches Programm aus Lesungen, Konzerten, Performances, Diskussionen und Vorträgen ergänzt die Ausstellungen. Café ELLA und Museumsshop ELLA Café, Städt. Galerie im Lenbachhaus Kunstbau Das Museumscafé ELLA lädt zur entspannten Kunstpause ein Das Museumsrestaurant Café ELLA verdankt seinen Namen der Künstlerin Gabriele Münter. Sie wurde von ihrem Lebensgefährten Wassily Kandinsky liebevoll Ella genannt. Im Café ELLA können Museumsgäste sich stärken und von der Terrasse einen einmaligen Blick auf den Königsplatz genießen. Einen wohlsortierten Museumsshop gibt es natürlich auch. Dieser ist wie das gesamte Erdgeschoss des Museums, die historischen Atelierräume des Künstlers Franz von Lenbach und der Garten des Hauses frei zugänglich. Eintrittspreise Regulär 10 Euro Ermäßigt 5 Euro Jahreskarte 20 Euro Unter 18 Jahren Freier Eintritt Digitale Angebot des Lenbachhauses In der Sammlung Online sind Werke aus den drei Sammlungsschwerpunkten des Lenbachhauses über das Internet zu finden, darunter auch viele Objekte und Kunstwerke aus dem Depot, die derzeit nicht im Haus selbst zu sehen sind. Der Audioguide macht Hörstücke zu den ausgewählten Werken als App und online zugänglich. Digitale Rundgänge durch einige Ausstellungen findet man auf der page , zudem gibt es hier eine breite Auswahl an Filmen zu den Ausstellungen und den Sammlungen. Social Media Kanäle Das Lenbachhaus ist bei Facebook , Instagram , YouTube , Pinterest und Google Arts Culture und verschickt einen regelmäßigen Newsletter. Die Geschichte der Lenbachvilla Städtische Galerie im Lenbachhaus und Kunstbau Die Künstlervilla im toskanischen Stil wurde 1887 von Gabriel von Seidl errichtet Franz von Lenbach hatte einen Palast im Sinn, als er beschloss nahe dem prunkvollen Königsplatz eine Villa zu errichten. Zwischen 1887 und 1891 entstand das in LForm angelegte Gelände, bestehend aus einem Atelierflügel und einem Wohntrakt. Der historische Garten vor dem Gebäude ist an die italienische Renaissance angelehnt. Den Entwurf zu seiner Prachtvilla erarbeitete der Malerfürst Lenbach mit dem Münchner Architekten Gabriel von Seidl, der auch für das Bayerische Nationalmuseum , das Deutsche Museum und das Rondell am Stachus verantwortlich zeichnete. Auch bei der Innenausstattung war Lenbach nicht bescheiden. Antike Skulpturen und Kopien antiker Kunstwerke, Malereien, Gobelins und Teppiche zierten die Räumlichkeiten. 1912 wurden beide Trakte, Atelier und Haupthaus, miteinander verbunden. 1924 verkaufte Lenbachs Witwe sowohl das Gebäude als auch Teile des Inventars und Kunstwerke an die Landeshauptstadt München. Diese begründeten den ersten Bestand der Kunstsammlung des Lenbachhauses. 1927 beauftragte die Stadt den Architekten Hans Grässel mit dem Bau eines weiteren Gebäudeflügels im Norden gegenüber dem Ateliertrakt. Zwei Jahre später wurde das Lenbachhaus der Öffentlichkeit zugänglich gemacht. Obwohl im Zweiten Weltkrieg große Teile des Hauses zerstört wurden, konnte bereits 1947 im Nordflügel wieder ausgestellt werden. 1957 dann beschenkte Gabriele Münter die Stadt und das Lenbachhaus mit der einzigartigen Sammlung, die heute als der Blaue Reiter zu sehen ist. Kunstbau und Kubus Architektonische Erweiterungen F. Holzherr, Städt. Galerie im Lenbachhaus Kunstbau Im golden leuchtenden Kubus werden die Kunstwerke im Lenbachhaus gekonnt in Szene gesetzt Der Kunstbau ist der Städtischen Galerie im Lenbachhaus angeschlossen. Er wurde 1994 eröffnet und besticht vor allem durch seine besondere Räumlichkeit. Der Kunstbau liegt im Zwischengeschoss der UBahnStation Königsplatz und sein Zuschnitt orientiert sich an dem des UBahnhofs. Die ungewöhnlichen Abmessungen tragen den gewachsenen räumlichen Ansprüchen moderner Kunst Rechnung. 2013 wurde der Neubau und die Renovierung des Museums durch den internationalen StarArchitekten Sir Norman Foster eröffnet. Seit dem erstrahlt auch das einstige Wohn und Atelierhaus des Malerfürsten Franz von Lenbach mit seinem Messing verkleideten Neubau in hellem Glanz. Der golden leuchtende Kubus und ein weiteres Geschoss im Altbau sind dazugekommen. Die denkmalgeschützte Villa ist zum Teil im Innern des Neubaus enthalten. Barrierefreiheit und Angebote für Menschen mit Behinderung Das Lenbachhaus und der Kunstbau sind barrierefrei . Die Aufzüge im Gebäude sind für alle Rollstuhlbreiten geeignet, der Aufzug im Kunstbau muss allerdings durch das Personal bedient werden . An der Kasse erhält man einen Orientierungsplan. Zwei öffentliche Behindertenparkplätze sind in der Luisenstraße vorhanden. Barrierefreie Toilette und die Garderobe befinden sich im Untergeschoss. Spezielle Führungen Auf Anfrage werden Führungen in Gebärdensprache vermittelt. In Kooperation mit dem Kulturreferat und den Museen Dieser Beitrag über die Münchner Museen wird vom Kulturreferat der Landeshauptstadt München gefördert und ist in Kooperation mit der Landesstelle für die nichtstaatlichen Museen in Bayern konzipiert worden. Die Inhalte wurden zwischen den beteiligten Museen und , dem offiziellen Stadtportal, abgestimmt. Auf einen Blick Lenbachhaus München Luisenstr. 33 80333 München Tel 498923396933 Fax 498923332003 lenbachhaus Korrektur vorschlagen Öffnungszeiten This is a carousel with rotating cards. Use the previous and next buttons to navigate, and Enter to activate cards. Vorheriger Slide Mo geschlossen Di 1000 1800 Mi 1000 1800 Do 1000 2000 Fr 1000 1800 Sa 1000 1800 So 1000 1800 Nächster Slide 1 30 von 40 Veranstaltungen 04 Juni bis 29 Juni Der Blaue Reiter Eine neue Sprache Mi. 04.06.2025 1000 1800 Uhr Lenbachhaus München 04 Juni bis 29 Juni Was zu verschwinden droht, wird Bild. Mi. 04.06.2025 1000 1800 Uhr Lenbachhaus München 04 Juni bis 29 Juni Was zu verschwinden droht, wird Bild. Do. 05.06.2025 1000 2000 Uhr Lenbachhaus München 04 Juni bis 29 Juni Der Blaue Reiter Eine neue Sprache Do. 05.06.2025 1000 2000 Uhr Lenbachhaus München 04 Juni bis 29 Juni Was zu verschwinden droht, wird Bild. Fr. 06.06.2025 1000 1800 Uhr Lenbachhaus München 04 Juni bis 29 Juni Der Blaue Reiter Eine neue Sprache Fr. 06.06.2025 1000 1800 Uhr Lenbachhaus München 04 Juni bis 29 Juni Was zu verschwinden droht, wird Bild. Sa. 07.06.2025 1000 1800 Uhr Lenbachhaus München 04 Juni bis 29 Juni Der Blaue Reiter Eine neue Sprache Sa. 07.06.2025 1000 1800 Uhr Lenbachhaus München 04 Juni bis 29 Juni Der Blaue Reiter Eine neue Sprache So. 08.06.2025 1000 1800 Uhr Lenbachhaus München 04 Juni bis 29 Juni Was zu verschwinden droht, wird Bild. So. 08.06.2025 1000 1800 Uhr Lenbachhaus München 04 Juni bis 29 Juni Der Blaue Reiter Eine neue Sprache Mo. 09.06.2025 1000 1800 Uhr Lenbachhaus München 04 Juni bis 29 Juni Was zu verschwinden droht, wird Bild. Di. 10.06.2025 1000 1800 Uhr Lenbachhaus München 04 Juni bis 29 Juni Der Blaue Reiter Eine neue Sprache Di. 10.06.2025 1000 1800 Uhr Lenbachhaus München 04 Juni bis 29 Juni Was zu verschwinden droht, wird Bild. Mi. 11.06.2025 1000 1800 Uhr Lenbachhaus München 04 Juni bis 29 Juni Der Blaue Reiter Eine neue Sprache Mi. 11.06.2025 1000 1800 Uhr Lenbachhaus München 04 Juni bis 29 Juni Der Blaue Reiter Eine neue Sprache Do. 12.06.2025 1000 2000 Uhr Lenbachhaus München 04 Juni bis 29 Juni Was zu verschwinden droht, wird Bild. Do. 12.06.2025 1000 2000 Uhr Lenbachhaus München 04 Juni bis 29 Juni Der Blaue Reiter Eine neue Sprache Fr. 13.06.2025 1000 1800 Uhr Lenbachhaus München 04 Juni bis 29 Juni Was zu verschwinden droht, wird Bild. Fr. 13.06.2025 1000 1800 Uhr Lenbachhaus München 04 Juni bis 29 Juni Der Blaue Reiter Eine neue Sprache Sa. 14.06.2025 1000 1800 Uhr Lenbachhaus München 04 Juni bis 29 Juni Was zu verschwinden droht, wird Bild. Sa. 14.06.2025 1000 1800 Uhr Lenbachhaus München 04 Juni bis 29 Juni Der Blaue Reiter Eine neue Sprache So. 15.06.2025 1000 1800 Uhr Lenbachhaus München 04 Juni bis 29 Juni Was zu verschwinden droht, wird Bild. So. 15.06.2025 1000 1800 Uhr Lenbachhaus München 04 Juni bis 29 Juni Der Blaue Reiter Eine neue Sprache Di. 17.06.2025 1000 1800 Uhr Lenbachhaus München 04 Juni bis 29 Juni Was zu verschwinden droht, wird Bild. Di. 17.06.2025 1000 1800 Uhr Lenbachhaus München 04 Juni bis 29 Juni Der Blaue Reiter Eine neue Sprache Mi. 18.06.2025 1000 1800 Uhr Lenbachhaus München 04 Juni bis 29 Juni Was zu verschwinden droht, wird Bild. Mi. 18.06.2025 1000 1800 Uhr Lenbachhaus München 04 Juni bis 29 Juni Was zu verschwinden droht, wird Bild. Do. 19.06.2025 1000 2000 Uhr Lenbachhaus München 04 Juni bis 29 Juni Der Blaue Reiter Eine neue Sprache Do. 19.06.2025 1000 1800 Uhr Lenbachhaus München 04 Juni bis 29 Juni Was zu verschwinden droht, wird Bild. Fr. 20.06.2025 1000 1800 Uhr Lenbachhaus München Seitennummerierung Erste Seite 1 Seite 2 Letzte Seite Nächste Seite\n",
      "https://www.muenchen.de/en/node/100046\n",
      "Ad Intervention zur Dauerausstellung im NSDokuzentrum Erinnerung ist... Am 8. Mai 2025 wurde das NSDokuzentrum in München nach einem Umbau wiedereröffnet. Für ein Jahr werden mit der Intervention Erinnerung ist... ausgewählte Objekte die Dauerausstellung München und der Nationalsozialismus ergänzen und durch neue Geschichten weitererzählen. Datum und Veranstaltungsort 04.06.2025 1000 until 1900 h NSDokumentationszentrum München nsdoku More actions Share on Facebook Share via WhatsApp Copy link Über die Intervention und ihre Geschichten Ein Hut, eine Marionette, ein Tablettenröhrchen, ein Bierkrug. Welche Erinnerungen haften diesen Dingen an, welche Geschichten können sie erzählen? Was wollen wir mit und von ihnen erfahren? In der Intervention schaffen große und kleine, alltägliche und ungewöhnliche Dinge sinnliche Zugänge und ermöglichen einen anderen Blick auf die Vergangenheit. Konkrete Gegenstände und individuelle Perspektiven machen übergeordnete Themen greifbar. Anlässlich des zehnjährigen Bestehens des N SDokumentationszentrums lädt Erinnerung ist Besucherinnen zu einem gemeinsamen Nachdenken darüber ein, wie schwierige und schmerzhafte Erfahrungen dargestellt, vermittelt, rezipiert und gedeutet werden können. Rundgänge mit den beiden Kuratorinnen Karolina Kühn und UllaBritta Vollhardt finden am 8. und 13. Mai, 3. Juni, 8. Juli, 16. September, 7. Oktober, 4. November und 9. Dezember 2025, jeweils um 1730 Uhr statt. Mehr zum Jubiläumsprogramm im NSDokuzentrum In cooperation with the cultural department and the museums This article about Munichs museums is sponsored by the Cultural Department of the City of Munich and was conceived in cooperation with the State Agency for NonState Museums in Bavaria. The content has been coordinated between the participating museums and , the official city portal. This might also interest you Dates Wed , 04. June 2025 1000 NSDokumentationszentrum München Thu , 05. June 2025 1000 NSDokumentationszentrum München Fri , 06. June 2025 1000 NSDokumentationszentrum München Sat , 07. June 2025 1000 NSDokumentationszentrum München Sun , 08. June 2025 1000 NSDokumentationszentrum München Tue , 10. June 2025 1000 NSDokumentationszentrum München Wed , 11. June 2025 1000 NSDokumentationszentrum München Thu , 12. June 2025 1000 NSDokumentationszentrum München Fri , 13. June 2025 1000 NSDokumentationszentrum München Sat , 14. June 2025 1000 NSDokumentationszentrum München Sun , 15. June 2025 1000 NSDokumentationszentrum München Tue , 17. June 2025 1000 NSDokumentationszentrum München Wed , 18. June 2025 1000 NSDokumentationszentrum München Thu , 19. June 2025 1000 NSDokumentationszentrum München Fri , 20. June 2025 1000 NSDokumentationszentrum München Sat , 21. June 2025 1000 NSDokumentationszentrum München Sun , 22. June 2025 1000 NSDokumentationszentrum München Tue , 24. June 2025 1000 NSDokumentationszentrum München Wed , 25. June 2025 1000 NSDokumentationszentrum München Thu , 26. June 2025 1000 NSDokumentationszentrum München Fri , 27. June 2025 1000 NSDokumentationszentrum München Sat , 28. June 2025 1000 NSDokumentationszentrum München Sun , 29. June 2025 1000 NSDokumentationszentrum München Tue , 01. July 2025 1000 NSDokumentationszentrum München Wed , 02. July 2025 1000 NSDokumentationszentrum München Thu , 03. July 2025 1000 NSDokumentationszentrum München Fri , 04. July 2025 1000 NSDokumentationszentrum München Sat , 05. July 2025 1000 NSDokumentationszentrum München Sun , 06. July 2025 1000 NSDokumentationszentrum München Tue , 08. July 2025 1000 NSDokumentationszentrum München Wed , 09. July 2025 1000 NSDokumentationszentrum München Thu , 10. July 2025 1000 NSDokumentationszentrum München Fri , 11. July 2025 1000 NSDokumentationszentrum München Sat , 12. July 2025 1000 NSDokumentationszentrum München Sun , 13. July 2025 1000 NSDokumentationszentrum München Tue , 15. July 2025 1000 NSDokumentationszentrum München Wed , 16. July 2025 1000 NSDokumentationszentrum München Thu , 17. July 2025 1000 NSDokumentationszentrum München Fri , 18. July 2025 1000 NSDokumentationszentrum München Sat , 19. July 2025 1000 NSDokumentationszentrum München Sun , 20. July 2025 1000 NSDokumentationszentrum München Tue , 22. July 2025 1000 NSDokumentationszentrum München Wed , 23. July 2025 1000 NSDokumentationszentrum München Thu , 24. July 2025 1000 NSDokumentationszentrum München Fri , 25. July 2025 1000 NSDokumentationszentrum München Sat , 26. July 2025 1000 NSDokumentationszentrum München Sun , 27. July 2025 1000 NSDokumentationszentrum München Tue , 29. July 2025 1000 NSDokumentationszentrum München Wed , 30. July 2025 1000 NSDokumentationszentrum München Thu , 31. July 2025 1000 NSDokumentationszentrum München Fri , 01. August 2025 1000 NSDokumentationszentrum München Sat , 02. August 2025 1000 NSDokumentationszentrum München Sun , 03. August 2025 1000 NSDokumentationszentrum München Tue , 05. August 2025 1000 NSDokumentationszentrum München Wed , 06. August 2025 1000 NSDokumentationszentrum München Thu , 07. August 2025 1000 NSDokumentationszentrum München Fri , 08. August 2025 1000 NSDokumentationszentrum München Sat , 09. August 2025 1000 NSDokumentationszentrum München Sun , 10. August 2025 1000 NSDokumentationszentrum München Tue , 12. August 2025 1000 NSDokumentationszentrum München Wed , 13. August 2025 1000 NSDokumentationszentrum München Thu , 14. August 2025 1000 NSDokumentationszentrum München Fri , 15. August 2025 1000 NSDokumentationszentrum München Sat , 16. August 2025 1000 NSDokumentationszentrum München Sun , 17. August 2025 1000 NSDokumentationszentrum München Tue , 19. August 2025 1000 NSDokumentationszentrum München Wed , 20. August 2025 1000 NSDokumentationszentrum München Thu , 21. August 2025 1000 NSDokumentationszentrum München Fri , 22. August 2025 1000 NSDokumentationszentrum München Sat , 23. August 2025 1000 NSDokumentationszentrum München Sun , 24. August 2025 1000 NSDokumentationszentrum München Tue , 26. August 2025 1000 NSDokumentationszentrum München Wed , 27. August 2025 1000 NSDokumentationszentrum München Thu , 28. August 2025 1000 NSDokumentationszentrum München Fri , 29. August 2025 1000 NSDokumentationszentrum München Sat , 30. August 2025 1000 NSDokumentationszentrum München Sun , 31. August 2025 1000 NSDokumentationszentrum München Tue , 02. September 2025 1000 NSDokumentationszentrum München Wed , 03. September 2025 1000 NSDokumentationszentrum München Thu , 04. September 2025 1000 NSDokumentationszentrum München Fri , 05. September 2025 1000 NSDokumentationszentrum München Sat , 06. September 2025 1000 NSDokumentationszentrum München Sun , 07. September 2025 1000 NSDokumentationszentrum München Tue , 09. September 2025 1000 NSDokumentationszentrum München Wed , 10. September 2025 1000 NSDokumentationszentrum München Thu , 11. September 2025 1000 NSDokumentationszentrum München Fri , 12. September 2025 1000 NSDokumentationszentrum München Sat , 13. September 2025 1000 NSDokumentationszentrum München Sun , 14. September 2025 1000 NSDokumentationszentrum München Tue , 16. September 2025 1000 NSDokumentationszentrum München Wed , 17. September 2025 1000 NSDokumentationszentrum München Thu , 18. September 2025 1000 NSDokumentationszentrum München Fri , 19. September 2025 1000 NSDokumentationszentrum München Sat , 20. September 2025 1000 NSDokumentationszentrum München Sun , 21. September 2025 1000 NSDokumentationszentrum München Tue , 23. September 2025 1000 NSDokumentationszentrum München Wed , 24. September 2025 1000 NSDokumentationszentrum München Thu , 25. September 2025 1000 NSDokumentationszentrum München Fri , 26. September 2025 1000 NSDokumentationszentrum München Sat , 27. September 2025 1000 NSDokumentationszentrum München\n",
      "https://www.muenchen.de/en/node/99903\n",
      "Ad Videoinstallation im NSDokuzentrum overexposedunderexposed Mit der Videoinstallation overexposedunderexposed untersuchen Mila Zhluktenko und Daniel Asadi Faezi acht Orte in München, die eine Geschichte terroristischer Gewalt in sich tragen. Vom 8. Mai bis zum 19. Oktober 2025 ist die Installation im NSDokuzentrum in München zu sehen. Datum und Veranstaltungsort 04.06.2025 1000 until 1900 h NSDokumentationszentrum München nsdoku More actions Share on Facebook Share via WhatsApp Copy link Über die Installation Orte des Terrors in München An den über das Stadtgebiet verstreut liegenden Orten wurden Menschen aus rechtsextremen, rassistischen und antisemitischen Motiven getötet, verletzt und traumatisiert. Manche der Taten sind weit über die Grenzen der Stadt hinaus bekannt, andere sind bis heute nicht im kollektiven Gedächtnis verankert. Um Aufklärung dieser Verbrechen und um Erinnerung an die Opfer wird zum Teil noch gerungen. Jeder Terrorakt hat seine eigene komplizierte Geschichte und doch stehen sie in Beziehung zueinander. Ein Netz teils unsichtbarer Linien verbindet die Ereignisse auch mit der nationalsozialistischen Vergangenheit. overexposedunderexposed schafft einen konzentrierten Raum, der ein Innehalten und Nachdenken ermöglicht. Wie kann eine Stadt zu einer gemeinsamen Auseinandersetzung mit diesen Terroranschlägen finden? Wie kann an die Opfer erinnert werden? Die Kamera fängt die acht Orte nacheinander zum jeweiligen Tatzeitpunkt ein. Es entsteht eine kontinuierliche Erzählung, die dem Verlauf eines Tages folgt und die zurückliegenden Ereignisse vergegenwärtigt. Offizielles Opening mit einem Gespräch mit den beiden Künstlerinnen ist am 22. Mai um 19 Uhr. Der Eintritt ist frei. Mehr zum Jubiläumsprogramm im NSDokuzentrum Über die Künstlerinnen Die Filmemacherinnen Daniel Asadi Faezi und Mila Zhluktenko sind Absolventinnen der Hochschule für Film und Fernsehen München. In gemeinsamen Projekten erkunden sie nonfiktionale Erzählformate. Ein wiederkehrendes Thema ihrer Arbeit sind Orte, deren komplizierte Geschichte und die damit verwobenen Lebensrealitäten. Ihre in CoRegie realisierten Kurzfilme waren bereits auf mehreren internationalen Festivals zu sehen und wurden ausgezeichnet. In cooperation with the cultural department and the museums This article about Munichs museums is sponsored by the Cultural Department of the City of Munich and was conceived in cooperation with the State Agency for NonState Museums in Bavaria. The content has been coordinated between the participating museums and , the official city portal. This might also interest you Dates Wed , 04. June 2025 1000 NSDokumentationszentrum München Thu , 05. June 2025 1000 NSDokumentationszentrum München Fri , 06. June 2025 1000 NSDokumentationszentrum München Sat , 07. June 2025 1000 NSDokumentationszentrum München Sun , 08. June 2025 1000 NSDokumentationszentrum München Tue , 10. June 2025 1000 NSDokumentationszentrum München Wed , 11. June 2025 1000 NSDokumentationszentrum München Thu , 12. June 2025 1000 NSDokumentationszentrum München Fri , 13. June 2025 1000 NSDokumentationszentrum München Sat , 14. June 2025 1000 NSDokumentationszentrum München Sun , 15. June 2025 1000 NSDokumentationszentrum München Tue , 17. June 2025 1000 NSDokumentationszentrum München Wed , 18. June 2025 1000 NSDokumentationszentrum München Thu , 19. June 2025 1000 NSDokumentationszentrum München Fri , 20. June 2025 1000 NSDokumentationszentrum München Sat , 21. June 2025 1000 NSDokumentationszentrum München Sun , 22. June 2025 1000 NSDokumentationszentrum München Tue , 24. June 2025 1000 NSDokumentationszentrum München Wed , 25. June 2025 1000 NSDokumentationszentrum München Thu , 26. June 2025 1000 NSDokumentationszentrum München Fri , 27. June 2025 1000 NSDokumentationszentrum München Sat , 28. June 2025 1000 NSDokumentationszentrum München Sun , 29. June 2025 1000 NSDokumentationszentrum München Tue , 01. July 2025 1000 NSDokumentationszentrum München Wed , 02. July 2025 1000 NSDokumentationszentrum München Thu , 03. July 2025 1000 NSDokumentationszentrum München Fri , 04. July 2025 1000 NSDokumentationszentrum München Sat , 05. July 2025 1000 NSDokumentationszentrum München Sun , 06. July 2025 1000 NSDokumentationszentrum München Tue , 08. July 2025 1000 NSDokumentationszentrum München Wed , 09. July 2025 1000 NSDokumentationszentrum München Thu , 10. July 2025 1000 NSDokumentationszentrum München Fri , 11. July 2025 1000 NSDokumentationszentrum München Sat , 12. July 2025 1000 NSDokumentationszentrum München Sun , 13. July 2025 1000 NSDokumentationszentrum München Tue , 15. July 2025 1000 NSDokumentationszentrum München Wed , 16. July 2025 1000 NSDokumentationszentrum München Thu , 17. July 2025 1000 NSDokumentationszentrum München Fri , 18. July 2025 1000 NSDokumentationszentrum München Sat , 19. July 2025 1000 NSDokumentationszentrum München Sun , 20. July 2025 1000 NSDokumentationszentrum München Tue , 22. July 2025 1000 NSDokumentationszentrum München Wed , 23. July 2025 1000 NSDokumentationszentrum München Thu , 24. July 2025 1000 NSDokumentationszentrum München Fri , 25. July 2025 1000 NSDokumentationszentrum München Sat , 26. July 2025 1000 NSDokumentationszentrum München Sun , 27. July 2025 1000 NSDokumentationszentrum München Tue , 29. July 2025 1000 NSDokumentationszentrum München Wed , 30. July 2025 1000 NSDokumentationszentrum München Thu , 31. July 2025 1000 NSDokumentationszentrum München Fri , 01. August 2025 1000 NSDokumentationszentrum München Sat , 02. August 2025 1000 NSDokumentationszentrum München Sun , 03. August 2025 1000 NSDokumentationszentrum München Tue , 05. August 2025 1000 NSDokumentationszentrum München Wed , 06. August 2025 1000 NSDokumentationszentrum München Thu , 07. August 2025 1000 NSDokumentationszentrum München Fri , 08. August 2025 1000 NSDokumentationszentrum München Sat , 09. August 2025 1000 NSDokumentationszentrum München Sun , 10. August 2025 1000 NSDokumentationszentrum München Tue , 12. August 2025 1000 NSDokumentationszentrum München Wed , 13. August 2025 1000 NSDokumentationszentrum München Thu , 14. August 2025 1000 NSDokumentationszentrum München Fri , 15. August 2025 1000 NSDokumentationszentrum München Sat , 16. August 2025 1000 NSDokumentationszentrum München Sun , 17. August 2025 1000 NSDokumentationszentrum München Tue , 19. August 2025 1000 NSDokumentationszentrum München Wed , 20. August 2025 1000 NSDokumentationszentrum München Thu , 21. August 2025 1000 NSDokumentationszentrum München Fri , 22. August 2025 1000 NSDokumentationszentrum München Sat , 23. August 2025 1000 NSDokumentationszentrum München Sun , 24. August 2025 1000 NSDokumentationszentrum München Tue , 26. August 2025 1000 NSDokumentationszentrum München Wed , 27. August 2025 1000 NSDokumentationszentrum München Thu , 28. August 2025 1000 NSDokumentationszentrum München Fri , 29. August 2025 1000 NSDokumentationszentrum München Sat , 30. August 2025 1000 NSDokumentationszentrum München Sun , 31. August 2025 1000 NSDokumentationszentrum München Tue , 02. September 2025 1000 NSDokumentationszentrum München Wed , 03. September 2025 1000 NSDokumentationszentrum München Thu , 04. September 2025 1000 NSDokumentationszentrum München Fri , 05. September 2025 1000 NSDokumentationszentrum München Sat , 06. September 2025 1000 NSDokumentationszentrum München Sun , 07. September 2025 1000 NSDokumentationszentrum München Tue , 09. September 2025 1000 NSDokumentationszentrum München Wed , 10. September 2025 1000 NSDokumentationszentrum München Thu , 11. September 2025 1000 NSDokumentationszentrum München Fri , 12. September 2025 1000 NSDokumentationszentrum München Sat , 13. September 2025 1000 NSDokumentationszentrum München Sun , 14. September 2025 1000 NSDokumentationszentrum München Tue , 16. September 2025 1000 NSDokumentationszentrum München Wed , 17. September 2025 1000 NSDokumentationszentrum München Thu , 18. September 2025 1000 NSDokumentationszentrum München Fri , 19. September 2025 1000 NSDokumentationszentrum München Sat , 20. September 2025 1000 NSDokumentationszentrum München Sun , 21. September 2025 1000 NSDokumentationszentrum München Tue , 23. September 2025 1000 NSDokumentationszentrum München Wed , 24. September 2025 1000 NSDokumentationszentrum München Thu , 25. September 2025 1000 NSDokumentationszentrum München Fri , 26. September 2025 1000 NSDokumentationszentrum München Sat , 27. September 2025 1000 NSDokumentationszentrum München\n",
      "https://www.muenchen.de/en/node/93196\n"
     ]
    },
    {
     "name": "stderr",
     "output_type": "stream",
     "text": [
      " 43%|████▎     | 15/35 [00:06<00:07,  2.74it/s]"
     ]
    },
    {
     "name": "stdout",
     "output_type": "stream",
     "text": [
      "Ad Sonderausstellung in der Archäologischen Staatssammlung Planet Africa Eine archäologische Zeitreise Von 16. Mai bis 28. September 2025 gastiert die Ausstellung Planet Africa Eine archäologische Zeitreise an der Archäologischen Staatssammlung. Dieses innovative, kontinentübergreifende Ausstellungsprojekt der Staatlichen Museen zu Berlin und des Deutschen Archäologischen Instituts hat die afrikanische Archäologie zum Fokus. Zur Ausstellung gibt es ein umfangreiches Begleitprogramm. Datum und Veranstaltungsort 04.06.2025 1000 until 1700 h Archäologische Staatssammlung Doris Fleischer More actions Share on Facebook Share via WhatsApp Copy link Darum geht es in der Ausstellung Afrika ist der Kontinent mit der längsten Anwesenheit des Menschen. Hier lagen unsere Ursprünge und die unserer evolutionären Vorfahren, die sich fortwährenden Veränderungen der Lebensräume anpassten und dafür neue Überlebensstrategien entwickelten. Von Afrika aus wurden über die Jahrtausende hinweg neue Kulturtechniken und Ernährungsstrategien in die Welt getragen. Archäologische Funde, Bildwerke und Schriftzeugnisse bieten Einblicke in Kunst, Handwerk, Technik und Umwelt vergangener Zeiten und belegen Austausch über große Entfernungen. Ausgrabungen von Siedlungen enthüllen städtische Strukturen, während gleichzeitig vielfältige mobile Lebensformen existierten. Begleitprogramm zur Ausstellung Vorträge 5. Juni 2025, 18 Uhr Unsere afrikanischen Ursprünge Wie Klimawandel, Anpassung und Migration uns zu dem gemacht haben, was wir heute sind Prof. Dr. Katerina Harvati, Professorin für Paläoanthropologie und Direktorin des Senckenberg Centre for Human Evolution and Palaeoenvironment an der Universität Tübingen Afrika spielte eine zentrale Rolle in der Entstehungsgeschichte des Menschen. Nicht nur die ersten paar Millionen Jahre früher menschlicher Evolution fanden auf diesem Kontinent statt, er ist auch die Wiege unserer eigenen Spezies, Homo sapiens. In diesem Vortrag wird ein Überblick über unsere afrikanischen Wurzeln gegeben und gezeigt, wie sie uns bis heute prägen. 12. Juni 2025, 18 Uhr Sabas Erbe Das Hochland Äthiopiens vor 3000 Jahren Dr. Iris Gerlach, Leiterin der Außenstelle Sanaa der OrientAbteilung des DAI Das Hochland Äthiopiens stand vor 3000 Jahren mit dem Königreich von Saba im heutigen Jemen in engem kulturellen Kontakt. Sabäer überquerten das Rote Meer, siedelten in den fruchtbaren äthiopischen Tälern und handelten dort mit Weihrauch und Gold. Sie brachten nicht nur ihre Schrift und Sprache und eigenen Götter mit, sondern führten auch technische Innovationen wie die Metallurgie ein. Mehrstöckige Palastbauten und monumentale Tempelanlagen zeugen von dem Erfolg dieser neuen Gesellschaft. 18. September 2025, 18 Uhr Das Geheimnis der NokKultur in Nigeria Frühe Kunst in Afrika Dr. Gabriele Franke, Institut für Archäologische Wissenschaften, Goethe Universität Frankfurt Im ersten Jahrtausend vor Christus entstanden in Zentralnigeria kunstvolle Tonfiguren, die in den 1940er Jahren zufällig entdeckt wurden. Sie sind die ältesten großformatigen Skulpturen im subsaharischen Afrika. Die GoetheUniversität Frankfurt hat von 2005 bis 2020 die Spuren der Nok genannten Kultur erforscht und neue Erkenntnisse zur Lebensweise dieser frühen Bauern gewonnen. Auch das Rätsel der Tonfiguren konnte gelüftet werden. Der Vortrag wird auf wesentliche Forschungsaspekte eingehen. Hinweis zu den Vorträgen Eintritt frei , keine Anmeldung nötig, Plätze vor Ort begrenzt. Hier gehts zur Übersicht zum gesamten Begleitprogramm Workshops 25. Mai 2025, 1017 Uhr Bogenbaukurs Dr. Robert Graf, Archäologe und Archäotechniker, Archando Die Jagd mit Pfeil und Bogen war bei den meisten afrikanischen Kulturen zu jeder Epoche elementar wichtig. Die große Kunst des Bogenbaus bestand dabei darin, unter einfachsten Bedingungen sowie mit minimalem Werkzeugeinsatz leistungsstarke Bögen zu fertigen. Dieser Tradition zu folgen, übt eine ganz besondere Faszination aus. Am Kurstag entstehen unter Anleitung ein Holzbogen mit Sehne und ein traditioneller Pfeil. Quasi nebenbei gibt der Workshopleiter zudem theoretische Einblicke in die uralte Kunst. Anmeldung bis 22. Mai über buchungarchaeologie.bayern , Kosten Euro 72,. Treffpunkt Museumswerkstatt. 8. Juni, 6. Juli und 28. September, 1416 Uhr Upcycling Familiensonntage mit dem Museumspädagogischen Zentrum , ab 5 Jahren Bei den Familiensonntagen besteht die Möglichkeit zum Rundgang durch die Sonderausstellung. In der Museumswerkstatt steht das Thema Upcycling im Fokus. Aus Milch und Safttüten werden Geldbeutel, Joghurtbecher verwandeln sich in kleine Spiele, aus ausgedienten Behältern werden Musikinstrumente, die bei Wunsch zu einem kleinen Orchester zusammengebaut werden können. Gemeinsam werden neue Ideen entwickelt und in der Museumswerkstatt umgesetzt. Bitte ausgespülte Milch und Safttüten, Plastikflaschen, Waschmittelkanister, Spülmittelflaschen, Joghurtbecher und viele Ideen mitbringen. Für Familien mit Kindern von 5 bis 12 Jahren Dauer 60 Minuten Führung plus 120 Minuten Workshop Materialkosten Euro 3, bis 5,. Treffpunkt Museumswerkstatt. Buchbar unter 089 954115220, 21 oder 22 oder buchungmpzbayern.de 28. Juni 2025, 14.3016.30 Uhr SchnupperTanzworkshop Afrofusion eine getanzte museale Erfahrung African Dance trifft auf europäische Tanzkunst, traditionelle Bewegungen und Tänze aus dem westlichen Afrika auf Übungen für mehr Körperbewusstsein und Bewegungsvielfalt. Wer Freude an Bewegung und anderen Kulturen hat, ist in diesem Schnupperworkshop mit der Ethnologin Daniela Stenger richtig. Seit mehreren Jahrzehnten unterrichtet sie bereits afrikanischen Tanz und hat ihren ganz eigenen Stil entwickelt. Es gibt keine Altersbegrenzung, einfach vorbei kommen. Treffpunkt Forum Museum . Bitte mitbringen Bequeme Kleidung. Getanzt wird barfuß oder in Socken Turnschuhe nur mit heller Sohle! Keine Anmeldung nötig, Plätze vor Ort begrenzt. Kosten Euro 4,. 13. Juli 2025, 1013 Uhr Auf den Spuren unserer Vorfahren, mit der MVHS In der Ausstellung erfahren kleine Gäste, welche Wege wandernde Gruppen in der Steinzeit auf sich nahmen, um unbekannte Gegenden zu erkunden. Was für ein Entdeckergeist! Doch Was trieb sie an? Modernste Untersuchungsmethoden zeigen, dass weit verzweigte Verwandtschaftsbezüge zu uns bestehen und wir es diesen Menschen zu verdanken haben, dass der Homo sapiens auf der ganzen Welt Fuß fassen konnte. In der Werkstatt entsteht leckerer Reiseproviant und ein kleines Säckchen mit notwendigem ReiseWerkzeug aus Feuerstein. Treffpunkt Museumswerkstatt. Details und Buchung über www.mvhs.de 3. August 2025, 1517 Uhr TrommelSchnupperWorkshop mit Cheikh Bangoura Sommerzeit ist Musikzeit. Was wäre da passender, als im Rahmen der aktuellen AfrikaAusstellung selbst Musik zu machen? Wer traditionelle westafrikanische Beats austesten möchte, ist an der Djembe, einer Art Bechertrommel, genau richtig. Freude und Spaß garantiert! Cheikh Bangoura, Tänzer und Trommler aus dem Senegal, unterrichtet seit über 20 Jahren Rhythmen aus Westafrika. Mit viel Erfahrung, Geduld und Freude gibt er sein Wissen in Europa weiter und freut sich auf den gemeinsamen Schnupperworkshop. Max. 12 Teilnehmer, Anmeldung unter buchungarchaeologie.bayern Kosten Euro 7,. 7. September 2025, 15 Uhr Geschichtenerzählerin Katharina Ritter zu Gast in der Archäologischen Staatssammlung Mythen und Geschichten aus Afrika Wer eine Geschichte hört, ein uraltes Märchen vielleicht, kann gleich viel einfacher in die Zeit eintauchen, in der die ersten Menschen jagend und sammelnd durch die weiten Gebiete Afrikas gewandert sind. Katharina Ritter erzählt spannenden Mythen und Geschichten von den Völkern Afrikas. Für ihre Zuhörerschar hat sie in Sammlungen mit afrikanischen Märchen und Mythen gebuddelt. Gemeinsam mit ihr dürfen Gäste in die Vergangenheit reisen, seltsame Rätsel lösen und dann kurz in die Sonderausstellung wandern. Katharina Ritter erzählt interaktiv und spannend für die ganze Familie mit Kindern ab 6 Jahren . Bitte Neugierde und Ohren mitbringen! Keine Anmeldung erforderlich, Plätze vor Ort begrenzt Dauer ca. 1 Stunde Kosten 7 Euro für Erwachsene, 3 Euro für Kinder zzgl. Eintritt. Ort Forum Museum . 21. September 2025, 1017 Uhr PfeilspitzenAmulette fertigen Dr. Robert Graf, Archäologe und Archäotechniker, Archando Pfeilspitzen zur Bogenjagd waren in den meisten afrikanischen Kulturen zu jeder Epoche elementar wichtig. Sie finden sich heute mancherorts zu Tausenden bei archäologischen Ausgrabungen. Diese häufig aus Feuerstein hergestellten Projektile sind nicht nur gefährlich scharf, sondern aus ästhetischer Sicht auch wunderschön, wenn man sie als Amulett trägt. In relativ kurzer Zeit stellen Gäste im Workshop unter Anleitung Pfeilspitzen aus Feuerstein her, die später als Anhänger an einem Band getragen werden können. Kinder unter 14 Jahren kommen bitte in Begleitung eines Erwachsenen. Dauer etwa 30 Minuten, eine Teilnahme ist jederzeit innerhalb des genannten Zeitraums möglich. Treffpunkt Museumswerkstatt. Keine Anmeldung nötig, offenes Programm, Plätze vor Ort begrenzt, evtl. fallen kurze Wartezeiten an Kosten Euro 7,. Angebote für Lehrkräfte Schulklassen mit dem Museumspädagogischen Zentrum SchulklassenAngebote Führung mit Workshop Bei dem Ausstellungsprojekt Planet Africa steht die Archäologie und damit die Geschichte des Kontinents Afrika im Mittelpunkt. Dadurch, dass die Ausstellung sowohl in Deutschland als auch in Afrika gezeigt wird, stehen ein ständiger Austausch und aktuelle Diskurse im Vordergrund. Der Rundgang durch die Sonderausstellung gibt einen Einblick in Kunst, Handwerk, Technik und Umwelt Afrikas. Die Geschichte wird so lebendig und greifbar. Kosten Euro 100, zzgl. Materialgebühr. Buchbar auf Anfrage unter 089 954115220, 21 oder 22 oder buchungmpzbayern.de Lehrerfortbildung In Kombination mit der neuen Dauerausstellung wird die Sonderausstellung zur idealen Ergänzung. Mit dem Schwerpunkt auf die Entwicklung der Menschheit werden unterschiedliche Themen besprochen. Die Fortbildung beinhaltet 120 Minuten Führung mit Einblick in die praktischen Angebote. Kosten keine. Buchbar auf Anfrage unter 089 954115220, 21 oder 22 oder buchungmpzbayern.de Führungsangebote Führungen mit dem FührungsPool Einstündige Führung für Gruppen ab acht Personen durch die Sonderausstellung, buchbar auf Anfrage unter buchungarchaeologie.bayern Kosten werktags Euro 85, bzw. 95, , WochenendeFeiertag 95, bzw. 105, zzgl. Eintritt. Eins zu EinsGespräche Ein Gast, ein Guide. Versierte Kulturvermittlerinnen laden zum außergewöhnlichen Dialog in die Sonderausstellung ein. Buchbare Termine 24. Mai 14. Juni 5. Juli 2. August 13. September , jeweils um 14 Uhr. Anmeldung mindestens eine Woche vorab über buchungarchaeologie.bayern Kosten 85 Euro zzgl. Eintritt, zu zahlen direkt vor Ort , Stichwort 11. Treffpunkt Foyer. Sonntagsführungen für Individualgäste mit der Münchner Volkshochschule ab 18. Mai, jeweils um 14 Uhr Überblicksführung durch die Dauerausstellung mit zusätzlichem Einblick in die Sonderausstellung, buchbar über www.mvhs.de . Treffpunkt Foyer. Inklusive Führungen in einfacher Sprache Vermittelt wird die Sonderausstellung in einfacher Sprache. Das Angebot ist für Erwachsene, Jugendliche und Kinder geeignet maximal zehn Personen. Termine am 4. Juli und am 19. September, jeweils um 15 Uhr. Auf Anfrage für Gruppen auch an anderen Terminen buchbar. Treffpunkt Foyer. Buchbar unter 089 954115220, 21 oder 22 oder buchungmpzbayern.de Kindergeburtstag im Museum! Abenteuer Archäologie Afrika die Wiege der Menschheit? Mit dem Museumspädagogischen Zentrum Führung plus Workshop Upcycling Bei einem gemeinsamen Rundgang durch die Sonderausstellung stehen unterschiedliche SchwerpunktThemen im Mittelpunkt. Mögliche Beispiele sind Menschheitsentwicklung, Techniken, Umwelt bzw. die neuesten Entwicklungen in Afrika. Welche Einflüsse auf unsere heutige Welt gab und gibt es? Welche Auswirkungen sind aktuell zu spüren? Kosten ab Euro 130, zzgl. Materialkosten Euro 5,. Buchbar auf Anfrage unter 089 954115220, 21 oder 22 oder buchungmpzbayern.de In Kooperation mit dem Kulturreferat und den Museen Dieser Beitrag wird vom Kulturreferat der LHM gefördert. Dates Wed , 04. June 2025 1000 Archäologische Staatssammlung Thu , 05. June 2025 1000 Archäologische Staatssammlung Fri , 06. June 2025 1000 Archäologische Staatssammlung Sat , 07. June 2025 1000 Archäologische Staatssammlung Sun , 08. June 2025 1000 Archäologische Staatssammlung Tue , 10. June 2025 1000 Archäologische Staatssammlung Wed , 11. June 2025 1000 Archäologische Staatssammlung Thu , 12. June 2025 1000 Archäologische Staatssammlung Fri , 13. June 2025 1000 Archäologische Staatssammlung Sat , 14. June 2025 1000 Archäologische Staatssammlung Sun , 15. June 2025 1000 Archäologische Staatssammlung Tue , 17. June 2025 1000 Archäologische Staatssammlung Wed , 18. June 2025 1000 Archäologische Staatssammlung Thu , 19. June 2025 1000 Archäologische Staatssammlung Fri , 20. June 2025 1000 Archäologische Staatssammlung Sat , 21. June 2025 1000 Archäologische Staatssammlung Sun , 22. June 2025 1000 Archäologische Staatssammlung Tue , 24. June 2025 1000 Archäologische Staatssammlung Wed , 25. June 2025 1000 Archäologische Staatssammlung Thu , 26. June 2025 1000 Archäologische Staatssammlung Fri , 27. June 2025 1000 Archäologische Staatssammlung Sat , 28. June 2025 1000 Archäologische Staatssammlung Sun , 29. June 2025 1000 Archäologische Staatssammlung Tue , 01. July 2025 1000 Archäologische Staatssammlung Wed , 02. July 2025 1000 Archäologische Staatssammlung Thu , 03. July 2025 1000 Archäologische Staatssammlung Fri , 04. July 2025 1000 Archäologische Staatssammlung Sat , 05. July 2025 1000 Archäologische Staatssammlung Sun , 06. July 2025 1000 Archäologische Staatssammlung Tue , 08. July 2025 1000 Archäologische Staatssammlung Wed , 09. July 2025 1000 Archäologische Staatssammlung Thu , 10. July 2025 1000 Archäologische Staatssammlung Fri , 11. July 2025 1000 Archäologische Staatssammlung Sat , 12. July 2025 1000 Archäologische Staatssammlung Sun , 13. July 2025 1000 Archäologische Staatssammlung Tue , 15. July 2025 1000 Archäologische Staatssammlung Wed , 16. July 2025 1000 Archäologische Staatssammlung Thu , 17. July 2025 1000 Archäologische Staatssammlung Fri , 18. July 2025 1000 Archäologische Staatssammlung Sat , 19. July 2025 1000 Archäologische Staatssammlung Sun , 20. July 2025 1000 Archäologische Staatssammlung Tue , 22. July 2025 1000 Archäologische Staatssammlung Wed , 23. July 2025 1000 Archäologische Staatssammlung Thu , 24. July 2025 1000 Archäologische Staatssammlung Fri , 25. July 2025 1000 Archäologische Staatssammlung Sat , 26. July 2025 1000 Archäologische Staatssammlung Sun , 27. July 2025 1000 Archäologische Staatssammlung Tue , 29. July 2025 1000 Archäologische Staatssammlung Wed , 30. July 2025 1000 Archäologische Staatssammlung Thu , 31. July 2025 1000 Archäologische Staatssammlung Fri , 01. August 2025 1000 Archäologische Staatssammlung Sat , 02. August 2025 1000 Archäologische Staatssammlung Sun , 03. August 2025 1000 Archäologische Staatssammlung Tue , 05. August 2025 1000 Archäologische Staatssammlung Wed , 06. August 2025 1000 Archäologische Staatssammlung Thu , 07. August 2025 1000 Archäologische Staatssammlung Fri , 08. August 2025 1000 Archäologische Staatssammlung Sat , 09. August 2025 1000 Archäologische Staatssammlung Sun , 10. August 2025 1000 Archäologische Staatssammlung Tue , 12. August 2025 1000 Archäologische Staatssammlung Wed , 13. August 2025 1000 Archäologische Staatssammlung Thu , 14. August 2025 1000 Archäologische Staatssammlung Fri , 15. August 2025 1000 Archäologische Staatssammlung Sat , 16. August 2025 1000 Archäologische Staatssammlung Sun , 17. August 2025 1000 Archäologische Staatssammlung Tue , 19. August 2025 1000 Archäologische Staatssammlung Wed , 20. August 2025 1000 Archäologische Staatssammlung Thu , 21. August 2025 1000 Archäologische Staatssammlung Fri , 22. August 2025 1000 Archäologische Staatssammlung Sat , 23. August 2025 1000 Archäologische Staatssammlung Sun , 24. August 2025 1000 Archäologische Staatssammlung Tue , 26. August 2025 1000 Archäologische Staatssammlung Wed , 27. August 2025 1000 Archäologische Staatssammlung Thu , 28. August 2025 1000 Archäologische Staatssammlung Fri , 29. August 2025 1000 Archäologische Staatssammlung Sat , 30. August 2025 1000 Archäologische Staatssammlung Sun , 31. August 2025 1000 Archäologische Staatssammlung Tue , 02. September 2025 1000 Archäologische Staatssammlung Wed , 03. September 2025 1000 Archäologische Staatssammlung Thu , 04. September 2025 1000 Archäologische Staatssammlung Fri , 05. September 2025 1000 Archäologische Staatssammlung Sat , 06. September 2025 1000 Archäologische Staatssammlung Sun , 07. September 2025 1000 Archäologische Staatssammlung Tue , 09. September 2025 1000 Archäologische Staatssammlung Wed , 10. September 2025 1000 Archäologische Staatssammlung Thu , 11. September 2025 1000 Archäologische Staatssammlung Fri , 12. September 2025 1000 Archäologische Staatssammlung Sat , 13. September 2025 1000 Archäologische Staatssammlung Sun , 14. September 2025 1000 Archäologische Staatssammlung Tue , 16. September 2025 1000 Archäologische Staatssammlung Wed , 17. September 2025 1000 Archäologische Staatssammlung Thu , 18. September 2025 1000 Archäologische Staatssammlung Fri , 19. September 2025 1000 Archäologische Staatssammlung Sat , 20. September 2025 1000 Archäologische Staatssammlung Sun , 21. September 2025 1000 Archäologische Staatssammlung Tue , 23. September 2025 1000 Archäologische Staatssammlung Wed , 24. September 2025 1000 Archäologische Staatssammlung Thu , 25. September 2025 1000 Archäologische Staatssammlung Fri , 26. September 2025 1000 Archäologische Staatssammlung Sat , 27. September 2025 1000 Archäologische Staatssammlung\n",
      "https://www.muenchen.de/sehenswuerdigkeiten/museen/amuseum-of-contemporary-art\n"
     ]
    },
    {
     "name": "stderr",
     "output_type": "stream",
     "text": [
      " 46%|████▌     | 16/35 [00:08<00:10,  1.76it/s]"
     ]
    },
    {
     "name": "stdout",
     "output_type": "stream",
     "text": [
      "Street ArtMuseum in München AMUSEUM of Contemporary Art Infos zu Ausstellungen und mehr Seit seiner Eröffnung im Jahr 2022 hat sich das AMUSEUM als Ausstellungsraum der internationalen Street ArtBewegung etabliert. Im Rahmen wechselnder Ausstellungen zeigen renommierte Künstlerinnen und Künstler der zeitgenössischen Kunst ihre Werke im Herzen des Univiertels, in unmittelbarer Nachbarschaft zum Münchner Museumsareal. Adresse und Öffnungszeiten Schellingstraße 3 , 80799 München Öffnungszeiten geschlossen Mo geschlossen Di geschlossen Mi 1200 1900 Do 1200 1900 Fr 1200 1900 Sa 1200 1900 So 1200 1900 Hinweis Anfahrt AMUSEUM Weitere Aktionen Teilen auf Facebook Teilen via WhatsApp Kopieren AMUSEUM Aktuelle Ausstellung NoNÅME Sell la Vie Bis zum 20. Juli 2025 zeigt das AMUSEUM rund 90 bisher unveröffentlichte OriginalWerke des anonymen Street ArtKünstlers. Hier erfahrt ihr mehr Warum lohnt sich ein Besuch im AMUSEUM? Sie gelten als öffentlichkeitsscheu, verraten mitunter bloß ihren Namen oder bleiben anonym und das macht die Dokumentation der Arbeit von Street ArtKünstlerinnen herausfordernd. Die Verantwortlichen des AMUSEUMs haben sie sich dennoch zur Aufgabe gemacht. Was ist geboten? Ob Shepard Fairey, NoNAME oder INVADER Sie alle sind weit über ihr Schaffen im öffentlichen Raum hinaus bekannt und stellten bereits im AMUSEUM aus. Zu sehen sind Malereien, Skulpturen, Videoarbeiten und weitere Werke, die unter anderem exklusiv im Austausch mit dem Museum für die Ausstellungen in München umgesetzt wurden. Was ist das Besondere? Das AMUSEUM zeichnet sich durch die langjährige enge Zusammenarbeit mit den Künstlerinnen aus. Ziel ist außerdem, die Arbeiten einer breiten Öffentlichkeit zugänglich zu machen Der Eintritt ist frei, Besucherinnen können einen Betrag ihrer Wahl spenden. Street Art im Museum ein anderer Rahmen für das junge Genre AMUSEUM Tour mit dem Pionier Museumsdirektor Sebastian Pohl im Gespräch mit Street ArtKünstler Shepard Fairey . Der Name AMUSEUM ist ein Wortspiel aus Amusement und Museum. Zudem spielt das Konzept des Hauses mit den zwei Welten, in denen sich die Kunstschaffenden bewegen Bekannt sind viele von ihnen maßgeblich durch ihre Werke im öffentlichen Raum, den die meisten Akteure der Kunstbewegung allerdings ebenso bespielen wie den musealen Rahmen. Street Art an der Außenfassade Am Eingang des AMUSEUMs lohnt sich ein Blick nach oben, dort ist ein OriginalMosaik des Künstlers INVADER zu sehen, das er bei seiner Invasion im Jahr 2023 dem Museum hinterließ. Unikate Neben Werken aus den Sammlungen der Street ArtKünstlerinnen werden Unikate präsentiert, die eigens für die Ausstellung erarbeitet und angefertigt wurden. Ausstellungspremieren Im November 2022 eröffnete das AMUSEUM mit der bis dahin deutschlandweit ersten Einzelausstellung der Street ArtIkone Shepard Fairey alias OBEY Giant unter dem Titel New Clear Power. AMUSEUM Die wichtigsten Infos auf einen Blick Lage Zentral im Univiertel gegenüber der Ludwigskirche MuseumsKategorie Kunstmuseum Empfohlene Aufenthaltsdauer 1 Stunde Anfahrt U3U6 oder Bus 153154 bis Universität Parken kein museumseigener Parkplatz, ggf. öffentliche Parkflächen in den umliegenden Straßen Previous slide View image in modal View image in modal View image in modal View image in modal Next slide Führungen Programm Der Eintritt ins AMUSEUM ist frei, um Spenden wird gebeten. Führungen Anfragen sind über die museumseigene Website www.visitamuseum.com möglich. Externe Führungen sind nicht kostenfrei. Programm Zu den wechselnden Ausstellungen werden passende Rahmenprogramme konzipiert. Ob Podiumsdiskussionen mit den Künstlerinnen oder spezielle Veranstaltungsserien, bei denen Prominente die Führung durch die Ausstellungen übernehmen und ihre Sicht auf die Werke teilen Es finden sich regelmäßige Termine auf der Website des Museums. OnlineAngebot Auf der Website des AMUSEUMs gibt es einen Onlineshop mit limitierten Künstlereditionen und MerchandiseProdukten. Barrierefreiheit und Angebote für Menschen mit Behinderung Das Museum ist nicht barrierefrei. Um individuelle Anforderungen zu besprechen, bittet das Museum um vorherige Kontaktaufnahme. Geschichte des AMUSEUMs AMUSEUM Fotodruck oder Ölmalerei? Die Werke von NoNAME im Innenraum des AMUSEUMs in der Schellingstraße. Alles begann mit einer ideellen Vision, wie es die Initiatorinnen beschreiben mit der Gründung von PositivePropaganda. Seit 2012 etablierte sich der Kunstverein im Bereich der kunsthistorischen Auseinandersetzung mit der internationalen Street ArtSzene. In München entstanden zahlreiche Werke im öffentlichen Raum . Aber was lange fehlte, war eine Ausstellungsfläche. Nachdem von 2014 bis 2019 eine Werkstatt als Veranstaltungsort genutzt wurde, konnte 2020 ein Ladenlokal im Münchner Rathaus bezogen werden. Dann kam Corona, Ende 2020 musste der Laden geschlossen werden. Im November 2022 wurde das AMUSEUM of Contemporary Art eröffnet. Direktor ist Sebastian Pohl, der ebenfalls künstlerischer Leiter bei PositivePropaganda ist. In Kooperation mit dem Kulturreferat und den Museen Dieser Beitrag über die Münchner Museen wird vom Kulturreferat der Landeshauptstadt München gefördert und ist in Kooperation mit der Landesstelle für die nichtstaatlichen Museen in Bayern konzipiert worden. Die Inhalte wurden zwischen den beteiligten Museen und , dem offiziellen Stadtportal, abgestimmt. Auf einen Blick AMUSEUM of Contemporary Art Schellingstraße 3 80799 München Tel 089 46 13 94 04 officevisitamuseum.com www.visitamuseum.com Korrektur vorschlagen Öffnungszeiten This is a carousel with rotating cards. Use the previous and next buttons to navigate, and Enter to activate cards. Vorheriger Slide Mo geschlossen Di geschlossen Mi 1200 1900 Do 1200 1900 Fr 1200 1900 Sa 1200 1900 So 1200 1900 Nächster Slide 1 30 von 35 Veranstaltungen 04 Juni bis 20 Juli NoNÅME Sell la Vie Mi. 04.06.2025 1200 1900 Uhr AMUSEUM of Contemporary Art 04 Juni bis 20 Juli NoNÅME Sell la Vie Do. 05.06.2025 1200 1900 Uhr AMUSEUM of Contemporary Art 04 Juni bis 20 Juli NoNÅME Sell la Vie Fr. 06.06.2025 1200 1900 Uhr AMUSEUM of Contemporary Art 04 Juni bis 20 Juli NoNÅME Sell la Vie Sa. 07.06.2025 1200 1900 Uhr AMUSEUM of Contemporary Art 04 Juni bis 20 Juli NoNÅME Sell la Vie So. 08.06.2025 1200 1900 Uhr AMUSEUM of Contemporary Art 04 Juni bis 20 Juli NoNÅME Sell la Vie Mi. 11.06.2025 1200 1900 Uhr AMUSEUM of Contemporary Art 04 Juni bis 20 Juli NoNÅME Sell la Vie Do. 12.06.2025 1200 1900 Uhr AMUSEUM of Contemporary Art 04 Juni bis 20 Juli NoNÅME Sell la Vie Fr. 13.06.2025 1200 1900 Uhr AMUSEUM of Contemporary Art 04 Juni bis 20 Juli NoNÅME Sell la Vie Sa. 14.06.2025 1200 1900 Uhr AMUSEUM of Contemporary Art 04 Juni bis 20 Juli NoNÅME Sell la Vie So. 15.06.2025 1200 1900 Uhr AMUSEUM of Contemporary Art 04 Juni bis 20 Juli NoNÅME Sell la Vie Mi. 18.06.2025 1200 1900 Uhr AMUSEUM of Contemporary Art 04 Juni bis 20 Juli NoNÅME Sell la Vie Do. 19.06.2025 1200 1900 Uhr AMUSEUM of Contemporary Art 04 Juni bis 20 Juli NoNÅME Sell la Vie Fr. 20.06.2025 1200 1900 Uhr AMUSEUM of Contemporary Art 04 Juni bis 20 Juli NoNÅME Sell la Vie Sa. 21.06.2025 1200 1900 Uhr AMUSEUM of Contemporary Art 04 Juni bis 20 Juli NoNÅME Sell la Vie So. 22.06.2025 1200 1900 Uhr AMUSEUM of Contemporary Art 04 Juni bis 20 Juli NoNÅME Sell la Vie Mi. 25.06.2025 1200 1900 Uhr AMUSEUM of Contemporary Art 04 Juni bis 20 Juli NoNÅME Sell la Vie Do. 26.06.2025 1200 1900 Uhr AMUSEUM of Contemporary Art 04 Juni bis 20 Juli NoNÅME Sell la Vie Fr. 27.06.2025 1200 1900 Uhr AMUSEUM of Contemporary Art 04 Juni bis 20 Juli NoNÅME Sell la Vie Sa. 28.06.2025 1200 1900 Uhr AMUSEUM of Contemporary Art 04 Juni bis 20 Juli NoNÅME Sell la Vie So. 29.06.2025 1200 1900 Uhr AMUSEUM of Contemporary Art 04 Juni bis 20 Juli NoNÅME Sell la Vie Mi. 02.07.2025 1200 1900 Uhr AMUSEUM of Contemporary Art 04 Juni bis 20 Juli NoNÅME Sell la Vie Do. 03.07.2025 1200 1900 Uhr AMUSEUM of Contemporary Art 04 Juni bis 20 Juli NoNÅME Sell la Vie Fr. 04.07.2025 1200 1900 Uhr AMUSEUM of Contemporary Art 04 Juni bis 20 Juli NoNÅME Sell la Vie Sa. 05.07.2025 1200 1900 Uhr AMUSEUM of Contemporary Art 04 Juni bis 20 Juli NoNÅME Sell la Vie So. 06.07.2025 1200 1900 Uhr AMUSEUM of Contemporary Art 04 Juni bis 20 Juli NoNÅME Sell la Vie Mi. 09.07.2025 1200 1900 Uhr AMUSEUM of Contemporary Art 04 Juni bis 20 Juli NoNÅME Sell la Vie Do. 10.07.2025 1200 1900 Uhr AMUSEUM of Contemporary Art 04 Juni bis 20 Juli NoNÅME Sell la Vie Fr. 11.07.2025 1200 1900 Uhr AMUSEUM of Contemporary Art 04 Juni bis 20 Juli NoNÅME Sell la Vie Sa. 12.07.2025 1200 1900 Uhr AMUSEUM of Contemporary Art 04 Juni bis 20 Juli NoNÅME Sell la Vie So. 13.07.2025 1200 1900 Uhr AMUSEUM of Contemporary Art Seitennummerierung Erste Seite 1 Seite 2 Letzte Seite Nächste Seite\n",
      "https://www.muenchen.de/sehenswuerdigkeiten/museen/museum-urban-and-contemporary-art-muca\n"
     ]
    },
    {
     "name": "stderr",
     "output_type": "stream",
     "text": [
      " 49%|████▊     | 17/35 [00:09<00:13,  1.35it/s]"
     ]
    },
    {
     "name": "stdout",
     "output_type": "stream",
     "text": [
      "Museum of Urban and Contemporary Art Entdeckt StreetArt im MUCA Museum of Urban and Contemporary Art Infos zu Ausstellungen und mehr Das Museum of Urban and Contemporary Art zeigt auf drei Etagen und in einem angrenzenden Bunker die Werke internationaler Künstlerinnen der Urban Art Szene. Im MUCA läuft derzeit die Ausstellung Strata mit Werken des portugiesischen Künstlers Vhils. Adresse und Öffnungszeiten Hotterstraße 12 , 80331 München Anfahrt MUCA Weitere Aktionen Teilen auf Facebook Teilen via WhatsApp Kopieren Jose Pando Lucas Schaut euch Strata an Vom 12. März bis 30. November 2025 könnt ihr den portugiesischen Künstler Vhils und seine Werke aus Beton, Holz, Metall und Papier erleben. Erfahrt hier mehr Warum lohnt sich ein Besuch im MUCA? Alexander Silva Vhils Cityscape Munich Das MUCA ist Deutschlands erstes Museum für Urban Art. Es möchte einen Beitrag dazu leisten, die Urban Street Art Szene kunsthistorisch einzuordnen und sie als eigene Kunstrichtung anzuerkennen. Was ist geboten? Es gibt wechselnde Sonderausstellungen mit den Werken renommierter, international gefeierter Künstlerinnen. Was ist besonders? Auch von außen ist das Museum of Urban and Contemporary Art ein Hingucker Die Fassaden des Museums sind mit großflächigen Kunstwerken verziert. Vielseitige KunstPlattform mit Ausstellungen zu Urban Art Die Philosophie von MUCA sieht es vor, als offene Institution für Kunstbegeisterte zu fungieren. Konzipiert als moderner Ort der Begegnung treffen hier Urban und Contemporary Art aufeinander und finden eine Plattform in der Museumslandschaft. Es gibt Kunsterlebnisebenen und MoodAreas, wobei international renommierte Künstlerinnen ebenso vertreten sind wie neue und experimentelle Formate. Zu den beliebtesten Bereichen zählen Die Fassade des Museums Parallel zur Ausstellung The Weight of Things des britischen Künstlers Damien Hirst ist auf der MUCA Giant Wall ein riesiges Spotgemälde aus 540 verschiedenen Farben entstanden Ein farbenfrohes Highlight, nicht nur für das MUCA Museum, sondern auch für die Münchner Altstadt Externer Beitrag Ich möchte eingebundene YouTube Inhalte auf sehen. Hierbei werden personenbezogene Daten an YouTube übertragen. Diese Einstellung kann jederzeit mit Wirkung für die Zukunft auf der Seite Datenschutz durch Anklicken des OptOutButtons geändert werden. Beitrag laden YouTube Video abspielen Beitrag auf YouTube ansehen. Der MUCABunker Der ehemalige Luftschutzbunker von 1941 wurde nach dem Zweiten Weltkrieg mehrfach umfunktioniert Er diente bereits als Bunkerhotel und als Nachtclub und nun als KunstBunker. Das MUCA Haupthaus Hier finden die Wechselausstellungen des Hauses statt . Die MUCA Collection Im MUCA Haupthaus befindet sich auch die Sammlung zahlreiche Werke renommierter, international gefeierter Künstlerinnen. Mit über 1.200 Werken und Objekten zählt die MUCA Sammlung zu einer der bedeutendsten Sammlungen Europas im Bereich Urban Art. MUCA Die wichtigsten Infos auf einen Blick Lage Zentral zwischen Frauenkirche und Asamkirche MuseumsKategorie Kunstmuseum Kinderprogramm Sprayen, taggen, cutten Bei den Kinder Workshops kann man seiner Kreativität freien Lauf lassen. Empfohlene Aufenthaltsdauer 1 bis 2 Stunden Anfahrt SBahn zum Marienplatz oder Stachus oder U3U6 zum Sendlinger Tor Parken PschorrGarage, CityParkhaus und Tiefgarage Oberanger Previous slide View image in modal View image in modal View image in modal View image in modal Next slide Führungen, Workshops und Kinderprogramm Führungen AfterWork Führungen, Themenführungen, Familienführungen, Kinderführungen, Privatführungen Für Kinder und Jugendliche GraffitiWorkshops, Kreativwerkstatt und Kindergeburtstag feiern Mit der MUCA Fahrradtour erfährt man interessante Fakten über die Entstehungsgeschichte von Street Art, sieht Kunstwerke von renommierten Künstlerinnen und versteckte Graffitis abseits gängiger Stadtführer. Museumsshop und Restaurant Nach dem Museumsbesuch kann im Museumsshop eine Auswahl an Kunstbüchern und s erworben werden. Auch ein MuseumsRestaurant befindet sich im ehemaligen Umspannwerk. Eintrittspreise Regulär 12,00 Euro Ermäßigt 9,00 Euro Kinder unter 12 Jahren Eintritt frei OnlineAngebot Auf der Website des MUCA gibt es eine virtuelle Tour durch die Ausstellungsräume. Zudem bietet das Museum Workshops, Führungen und Interviews auch via Video und Podcasts an. Barrierefreiheit und Angebote für Menschen mit Behinderung Der Museumseingang ist über eine Rampe barrierefrei erreichbar . Das Gebäude ist jedoch nicht im vollen Umfang barrierefrei. Um individuelle Anforderungen zu besprechen, bittet das Museum um vorherige Kontaktaufnahme . Geschichte des Museums of Urban and Contemporary Art MUCA Nach einjähriger Umbauphase entstand 2016 im ehemaligen Umspannwerk der Stadtwerke München das heutige MUCA Deutschlands erstes Museum für Urban Art. Gegründet durch die beiden Kunstliebhaber und Ehepartner Stephanie und Christian Utz , will das Privatmuseum die Urban Art in den zeitgenössischen Kunstdiskurs einfügen. Besonderes Augenmerk liegt dabei auf der hauseigenen Sammlung. Das MUCA hat sich stets zum Ziel gesetzt, Bewahrer von Kunstwerken zu sein, die aus dem flüchtigen, städtischen Ökosystem stammen. Die Anfänge der MUCA Sammlung reichen zurück in das Jahr 1998. Heute zählen zur MUCA Sammlung bedeutende Werke von Künstlerninnen aus den Bereichen der Urban und Contemporary Art. In Kooperation mit dem Kulturreferat und den Museen Dieser Beitrag über die Münchner Museen wird vom Kulturreferat der Landeshauptstadt München gefördert und ist in Kooperation mit der Landesstelle für die nichtstaatlichen Museen in Bayern konzipiert worden. Die Inhalte wurden zwischen den beteiligten Museen und , dem offiziellen Stadtportal, abgestimmt. Auf einen Blick Museum of Urban and Contemporary Art Hotterstraße 12 80331 München Tel 4989215524310 Fax 4989215524319 infomuca.eu Korrektur vorschlagen 1 30 von 132 Veranstaltungen 04 Juni bis 30 Nov. Vhils Strata Mi. 04.06.2025 1000 1800 Uhr Museum of Urban and Contemporary Art 04 Juni bis 30 Nov. Vhils Strata Do. 05.06.2025 1000 2000 Uhr Museum of Urban and Contemporary Art 04 Juni bis 30 Nov. Vhils Strata Fr. 06.06.2025 1000 1800 Uhr Museum of Urban and Contemporary Art 04 Juni bis 30 Nov. Vhils Strata Sa. 07.06.2025 1000 1800 Uhr Museum of Urban and Contemporary Art 04 Juni bis 30 Nov. Vhils Strata So. 08.06.2025 1000 1800 Uhr Museum of Urban and Contemporary Art 04 Juni bis 30 Nov. Vhils Strata Mi. 11.06.2025 1000 1800 Uhr Museum of Urban and Contemporary Art 04 Juni bis 30 Nov. Vhils Strata Do. 12.06.2025 1000 2000 Uhr Museum of Urban and Contemporary Art 04 Juni bis 30 Nov. Vhils Strata Fr. 13.06.2025 1000 1800 Uhr Museum of Urban and Contemporary Art 04 Juni bis 30 Nov. Vhils Strata Sa. 14.06.2025 1000 1800 Uhr Museum of Urban and Contemporary Art 04 Juni bis 30 Nov. Vhils Strata So. 15.06.2025 1000 1800 Uhr Museum of Urban and Contemporary Art 04 Juni bis 30 Nov. Vhils Strata Mi. 18.06.2025 1000 1800 Uhr Museum of Urban and Contemporary Art 04 Juni bis 30 Nov. Vhils Strata Do. 19.06.2025 1000 2000 Uhr Museum of Urban and Contemporary Art 04 Juni bis 30 Nov. Vhils Strata Fr. 20.06.2025 1000 1800 Uhr Museum of Urban and Contemporary Art 04 Juni bis 30 Nov. Vhils Strata Sa. 21.06.2025 1000 1800 Uhr Museum of Urban and Contemporary Art 04 Juni bis 30 Nov. Vhils Strata So. 22.06.2025 1000 1800 Uhr Museum of Urban and Contemporary Art 04 Juni bis 30 Nov. Vhils Strata Mi. 25.06.2025 1000 1800 Uhr Museum of Urban and Contemporary Art 04 Juni bis 30 Nov. Vhils Strata Do. 26.06.2025 1000 2000 Uhr Museum of Urban and Contemporary Art 04 Juni bis 30 Nov. Vhils Strata Fr. 27.06.2025 1000 1800 Uhr Museum of Urban and Contemporary Art 04 Juni bis 30 Nov. Vhils Strata Sa. 28.06.2025 1000 1800 Uhr Museum of Urban and Contemporary Art 04 Juni bis 30 Nov. Vhils Strata So. 29.06.2025 1000 1800 Uhr Museum of Urban and Contemporary Art 04 Juni bis 30 Nov. Vhils Strata Mi. 02.07.2025 1000 1800 Uhr Museum of Urban and Contemporary Art 04 Juni bis 30 Nov. Vhils Strata Do. 03.07.2025 1000 2000 Uhr Museum of Urban and Contemporary Art 04 Juni bis 30 Nov. Vhils Strata Fr. 04.07.2025 1000 1800 Uhr Museum of Urban and Contemporary Art 04 Juni bis 30 Nov. Vhils Strata Sa. 05.07.2025 1000 1800 Uhr Museum of Urban and Contemporary Art 04 Juni bis 30 Nov. Vhils Strata So. 06.07.2025 1000 1800 Uhr Museum of Urban and Contemporary Art 04 Juni bis 30 Nov. Vhils Strata Mi. 09.07.2025 1000 1800 Uhr Museum of Urban and Contemporary Art 04 Juni bis 30 Nov. Vhils Strata Do. 10.07.2025 1000 2000 Uhr Museum of Urban and Contemporary Art 04 Juni bis 30 Nov. Vhils Strata Fr. 11.07.2025 1000 1800 Uhr Museum of Urban and Contemporary Art 04 Juni bis 30 Nov. Vhils Strata Sa. 12.07.2025 1000 1800 Uhr Museum of Urban and Contemporary Art 04 Juni bis 30 Nov. Vhils Strata So. 13.07.2025 1000 1800 Uhr Museum of Urban and Contemporary Art Seitennummerierung Erste Seite 1 Seite 2 Seite 3 Seite 4 Seite 5 Letzte Seite Nächste Seite\n",
      "https://www.muenchen.de/sehenswuerdigkeiten/museen/muenchner-stadtmuseum\n"
     ]
    },
    {
     "name": "stderr",
     "output_type": "stream",
     "text": [
      " 57%|█████▋    | 20/35 [00:10<00:07,  2.12it/s]"
     ]
    },
    {
     "name": "stdout",
     "output_type": "stream",
     "text": [
      "Sanierungsarbeiten über viele Jahre dennoch bleibt das Museum aktiv! Münchner Stadtmuseum Geschlossen wegen Sanierung Das Münchner Stadtmuseum ist für die Generalsanierung voraussichtlich bis 2031 geschlossen. Ab 15. Mai 2025 bis 2027 wird im historischen Zeughaus die Interimsausstellung What the City. Perspektiven unserer Stadt gezeigt. Das Filmmuseum bleibt bis Juni 2027 in Betrieb. Adresse und Öffnungszeiten St.JakobsPlatz 1 , 80331 München Anfahrt Münchner Stadtmuseum Weitere Aktionen Teilen auf Facebook Teilen via WhatsApp Kopieren Generalsanierung des Stadtmuseums seit 2024 Auer Weber Visualisierung Jonas Bloch Der Entwurf von Auer Weber für den neuen Museumsbau Seit Januar 2024 ist das Münchner Stadtmuseum voraussichtlich bis Mitte 2031 geschlossen und macht sich fit für die Zukunft Der Gebäudekomplex wird umfassend saniert unter anderem entstehen ein neuer Haupteingang am Rindermarkt und ein überdachtes Atrium im Innenhof mit einem Kubus als neuem Museumsmittelpunkt. Zudem wird Wert auf Inklusion gelegt, gewährleistet durch eine verbesserte Wegeführung sowie großzügige Aufenthaltsbereiche und Vermittlungsräume. Während der Schließzeit arbeitet das Team an der Neukonzeption der Dauerausstellungen, der Vorbereitung von Sonderausstellungen und der Entwicklung eines neuen Veranstaltungs und Vermittlungsprogramms. Alle Infos zur Generalsanierung des Stadtmuseums Interimsprogramm während der Umbauzeit In der Umbauzeit bleibt das Münchner Stadtmuseum auch weiterhin aktiv und präsent. Das aktuelle Programm wird auf der Website des Museums angekündigt www.muenchnerstadtmuseum.de Münchner Stadtmuseum online Stay connected! Münchner Stadtmuseum Online bietet das Münchner Stadtmuseum ein breites Angebot Podcast Zeitschleifen. Geschichte fast forward. Relevant, relatable und mit erstaunlichen Parallelen die erste Staffel des Podcasts des Münchner Stadtmuseums bietet kompaktes Wissen und eine historische Einordnung zu Themen, die uns als Gesellschaft gerade bewegen. Jetzt überall, wo es Podcasts gibt unter anderem auf Spotify, Apple Podcasts, YouTube Music und Amazon Music. Virtuelle Rundgänge Erkundet die Ausstellung Typisch München! digital mit vertiefenden Informationen zu ausgewählten Objekten sowie Hörstücke und Detailaufnahmen OnlineSammlung Hier gibts umfassend Kunstwerke aus fast allen Sammlungsschwerpunkten des Hauses in digitaler Form. Digitale Kulturvermittlung Noch mehr kreative Ideen zum Mitmachen, z.B. DIYTutorials und Theater Filmmuseum und Kino Filmmuseum München Das Filmmuseum und sein Kino sind dem Münchner Stadtmuseum angeschlossen Das Filmmuseum ist seit 1963 Teil des Münchner Stadtmuseums. Ein breites Spektrum an Filmen, von frühen SchwarzWeißKlassikern bis zu modernen IndependentFilmen und Dokumentationen werden hier archiviert, restauriert und der Öffentlichkeit in unterschiedlichen Filmreihen zugänglich gemacht. Bis Juni 2027 bietet das Filmmuseum weiterhin ein täglich, außer montags, wechselndes Kinoprogramm an. InterimsAusstellung What the City. Perspektiven unserer Stadt Volker Derlath Ab 15. Mai 2025 zeigt das Münchner Stadtmuseum eine Interimsausstellung im eigens dafür angepassten Erdgeschoss des historischen Zeughauses. What the City. Perspektiven unserer Stadt bringt aktuelle stadtgeschichtliche Themen aus fast allen Sammlungen des Hauses in einer Ausstellung zusammen. In zehn Kapiteln geht sie unter anderem Fragen zu Sicherheit, Armut, dem Kampf um Gleichberechtigung, Tradition und Wachstum in München nach. In der Ausstellung kommen Münchnerinnen selbst zu Wort und Besucherinnen werden durch interaktive Mitmach und Medienstationen eingebunden. Der Eintritt ist barriere und kostenfrei. Öffnungszeiten DiSo 1119 Uhr, montags geschlossen. GebäudeArchitektur Münchner Stadtmuseum Auch die besondere Architektur des Münchner Stadtmuseums ist ein Hingucker Das riesige Areal des Münchner Stadtmuseums besteht aus zwei geräumigen Innenhöfen, die von vier höchst unterschiedlichen Bauteilen eingerahmt werden. Das älteste Gebäude, das historische Zeughaus aus dem Jahr 1500, ist zum St.JakobsPlatz hin orientiert. Es berührt aber auch den Rindermarkt mit dem vom Architekten Gustav Gsaenger Ende der 1950er Jahre errichteten Sammlungstrakt und den Sebastiansplatz mit dem Nachbau des mittelalterlichen Marstallgebäudes aus dem Jahre 1977. Geschichte des Münchner Stadtmuseums Münchner Stadtmuseum Das Münchner Stadtmuseum wurde bereits 1888 gegründet und blickt auf eine lange Tradition zurück Das Münchner Stadtmuseum wurde 1888 auf Initiative des Stadtarchivars Ernst von Destouches gegründet. Es war zunächst als Heimatmuseum angelegt. Neben den ursprünglich hauptsächlich grafischen Beständen kamen über die Jahre viele weitere Objekte und Sammlungen wie Angewandte Kunst, Stadtkultur, Fotografie, GrafikGemälde, Reklamekunst, PuppentheaterSchaustellerei und Musik dazu. So wuchs das Museum immer mehr und ist heute das größte kommunale Museum in ganz Deutschland. In Kooperation mit dem Kulturreferat und den Museen Dieser Beitrag über die Münchner Museen wird vom Kulturreferat der Landeshauptstadt München gefördert und ist in Kooperation mit der Landesstelle für die nichtstaatlichen Museen in Bayern konzipiert worden. Die Inhalte wurden zwischen den beteiligten Museen und , dem offiziellen Stadtportal, abgestimmt. Das könnte euch auch interessieren Münchens Top Sehenswürdigkeiten Die Highlights von Marienplatz bis Frauenkirche So wird das Wetter Sonne oder Regen? Die Wetterprognose Webcams mit LiveBildern in München Was am Marienplatz, im Olympiapark und an der Isar zu sehen ist Auf einen Blick Münchner Stadtmuseum St.JakobsPlatz 1 80331 München Tel 498923322370 stadtmuseum Korrektur vorschlagen\n",
      "https://www.muenchen.de/en/node/99414\n",
      "Ad Ausstellung im Jüdischen Museum München bis 1. März 2026 Die Dritte Generation. Der Holocaust im familiären Gedächtnis 80 Jahre nach dem Holocaust beleuchtet die Die Dritte Generation. Der Holocaust im familiären Gedächtnis transgenerationale Traumata und das emotionale Erbe der Überlebenden. Die Ausstellung im Jüdischen Museum München läuft bis zum 1. März 2026. Datum und Veranstaltungsort 04.06.2025 1000 until 1800 h Jüdisches Museum München Eva Jünger Jüdisches Museum München More actions Share on Facebook Share via WhatsApp Copy link Generationenübergreifende Geschichten und Traumata im Blickpunkt Wie Erinnern, wenn kaum noch Zeitzeuginnen befragt werden können, die den Holocaust unmittelbar erlebt haben? An diese Frage knüpft die Ausstellung Die Dritte Generation. Der Holocaust im familiären Gedächtnis an. Überlebende des Holocaust haben ihre Geschichten, aber auch ihre Traumata an ihre Kinder und Enkelkinder weitergegeben. Während die Zweite Generation mit den psychischen und physischen Verletzungen ihrer Eltern aufwuchs, blickt die Dritte Generation aus einer größeren zeitlichen Distanz auf die Familiengeschichte, in der Erinnerung und Schweigen, Familienmythen und geheimnisse, erdrückendes oder fehlendes Familienerbe allgegenwärtig sind. Bewältigung und Auseinandersetzung mit dem Erbe des Holocaust Die Ausstellung erkundet verschiedene Strategien der Bewältigung und Auseinandersetzung mit dem Erbe des Holocaust. Dabei nimmt sie auch das Ringen um gesellschaftliche Anerkennung des Holocaust bei Sintizze und Romnja genauer in den Blick. Sie erzählt vorrangig anhand künstlerischer Arbeiten vom Archivieren und nicht mehr SchweigenWollen, von Aneignung und Abgrenzung, vom bewussten Erinnern und VergessenWollen, von der Allgegenwärtigkeit des Holocaust und den großen Lücken in den Familiengeschichten sowie den Versuchen, diese zu füllen. Die Ausstellung wurde zunächst im Jüdischen Museum Wien realisiert und wird nun in ihrer zweiten Station im Jüdischen Museum München angepasst und erweitert. Dabei wurde auch eine lokale Perspektive stärker herausgearbeitet. Münchner Künstlerinnen zeigen mit ihren Arbeiten, wie sehr der Holocaust bis in ihr heutiges Sein hineinwirkt. Das Thema Provenienz und Restitution und das Handling mit der lückenhaften Hinterlassenschaft mancher Objekte in unserer Sammlung sowie der Umgang mit diesem familiären Erbe wird in der Münchner Schau durch mehrere Arbeiten herausgestellt. Jeden Samstag und Sonntag finden um 1330 Uhr öffentliche Rundgänge statt. In cooperation with the cultural department and the museums This article about Munichs museums is sponsored by the Cultural Department of the City of Munich and was conceived in cooperation with the State Agency for NonState Museums in Bavaria. The content has been coordinated between the participating museums and , the official city portal. Dates Wed , 04. June 2025 1000 Jüdisches Museum München Thu , 05. June 2025 1000 Jüdisches Museum München Fri , 06. June 2025 1000 Jüdisches Museum München Sat , 07. June 2025 1000 Jüdisches Museum München Sun , 08. June 2025 1000 Jüdisches Museum München Tue , 10. June 2025 1000 Jüdisches Museum München Wed , 11. June 2025 1000 Jüdisches Museum München Thu , 12. June 2025 1000 Jüdisches Museum München Fri , 13. June 2025 1000 Jüdisches Museum München Sat , 14. June 2025 1000 Jüdisches Museum München Sun , 15. June 2025 1000 Jüdisches Museum München Tue , 17. June 2025 1000 Jüdisches Museum München Wed , 18. June 2025 1000 Jüdisches Museum München Thu , 19. June 2025 1000 Jüdisches Museum München Fri , 20. June 2025 1000 Jüdisches Museum München Sat , 21. June 2025 1000 Jüdisches Museum München Sun , 22. June 2025 1000 Jüdisches Museum München Tue , 24. June 2025 1000 Jüdisches Museum München Wed , 25. June 2025 1000 Jüdisches Museum München Thu , 26. June 2025 1000 Jüdisches Museum München Fri , 27. June 2025 1000 Jüdisches Museum München Sat , 28. June 2025 1000 Jüdisches Museum München Sun , 29. June 2025 1000 Jüdisches Museum München Tue , 01. July 2025 1000 Jüdisches Museum München Wed , 02. July 2025 1000 Jüdisches Museum München Thu , 03. July 2025 1000 Jüdisches Museum München Fri , 04. July 2025 1000 Jüdisches Museum München Sat , 05. July 2025 1000 Jüdisches Museum München Sun , 06. July 2025 1000 Jüdisches Museum München Tue , 08. July 2025 1000 Jüdisches Museum München Wed , 09. July 2025 1000 Jüdisches Museum München Thu , 10. July 2025 1000 Jüdisches Museum München Fri , 11. July 2025 1000 Jüdisches Museum München Sat , 12. July 2025 1000 Jüdisches Museum München Sun , 13. July 2025 1000 Jüdisches Museum München Tue , 15. July 2025 1000 Jüdisches Museum München Wed , 16. July 2025 1000 Jüdisches Museum München Thu , 17. July 2025 1000 Jüdisches Museum München Fri , 18. July 2025 1000 Jüdisches Museum München Sat , 19. July 2025 1000 Jüdisches Museum München Sun , 20. July 2025 1000 Jüdisches Museum München Tue , 22. July 2025 1000 Jüdisches Museum München Wed , 23. July 2025 1000 Jüdisches Museum München Thu , 24. July 2025 1000 Jüdisches Museum München Fri , 25. July 2025 1000 Jüdisches Museum München Sat , 26. July 2025 1000 Jüdisches Museum München Sun , 27. July 2025 1000 Jüdisches Museum München Tue , 29. July 2025 1000 Jüdisches Museum München Wed , 30. July 2025 1000 Jüdisches Museum München Thu , 31. July 2025 1000 Jüdisches Museum München Fri , 01. August 2025 1000 Jüdisches Museum München Sat , 02. August 2025 1000 Jüdisches Museum München Sun , 03. August 2025 1000 Jüdisches Museum München Tue , 05. August 2025 1000 Jüdisches Museum München Wed , 06. August 2025 1000 Jüdisches Museum München Thu , 07. August 2025 1000 Jüdisches Museum München Fri , 08. August 2025 1000 Jüdisches Museum München Sat , 09. August 2025 1000 Jüdisches Museum München Sun , 10. August 2025 1000 Jüdisches Museum München Tue , 12. August 2025 1000 Jüdisches Museum München Wed , 13. August 2025 1000 Jüdisches Museum München Thu , 14. August 2025 1000 Jüdisches Museum München Fri , 15. August 2025 1000 Jüdisches Museum München Sat , 16. August 2025 1000 Jüdisches Museum München Sun , 17. August 2025 1000 Jüdisches Museum München Tue , 19. August 2025 1000 Jüdisches Museum München Wed , 20. August 2025 1000 Jüdisches Museum München Thu , 21. August 2025 1000 Jüdisches Museum München Fri , 22. August 2025 1000 Jüdisches Museum München Sat , 23. August 2025 1000 Jüdisches Museum München Sun , 24. August 2025 1000 Jüdisches Museum München Tue , 26. August 2025 1000 Jüdisches Museum München Wed , 27. August 2025 1000 Jüdisches Museum München Thu , 28. August 2025 1000 Jüdisches Museum München Fri , 29. August 2025 1000 Jüdisches Museum München Sat , 30. August 2025 1000 Jüdisches Museum München Sun , 31. August 2025 1000 Jüdisches Museum München Tue , 02. September 2025 1000 Jüdisches Museum München Wed , 03. September 2025 1000 Jüdisches Museum München Thu , 04. September 2025 1000 Jüdisches Museum München Fri , 05. September 2025 1000 Jüdisches Museum München Sat , 06. September 2025 1000 Jüdisches Museum München Sun , 07. September 2025 1000 Jüdisches Museum München Tue , 09. September 2025 1000 Jüdisches Museum München Wed , 10. September 2025 1000 Jüdisches Museum München Thu , 11. September 2025 1000 Jüdisches Museum München Fri , 12. September 2025 1000 Jüdisches Museum München Sat , 13. September 2025 1000 Jüdisches Museum München Sun , 14. September 2025 1000 Jüdisches Museum München Tue , 16. September 2025 1000 Jüdisches Museum München Wed , 17. September 2025 1000 Jüdisches Museum München Thu , 18. September 2025 1000 Jüdisches Museum München Fri , 19. September 2025 1000 Jüdisches Museum München Sat , 20. September 2025 1000 Jüdisches Museum München Sun , 21. September 2025 1000 Jüdisches Museum München Thu , 25. September 2025 1000 Jüdisches Museum München Fri , 26. September 2025 1000 Jüdisches Museum München Sat , 27. September 2025 1000 Jüdisches Museum München Sun , 28. September 2025 1000 Jüdisches Museum München Tue , 30. September 2025 1000 Jüdisches Museum München\n",
      "https://www.muenchen.de/en/node/91505\n",
      "Ad Tickets für die Schau in der Kleinen Olympiahalle Körperwelten in München Am Puls der Zeit Einblicke, die unter die Haut gehen Vom 11. April bis zum 14. September 2025 ist die Ausstellung Körperwelten in der Kleinen Olympiahalle zu sehen. Unter dem Titel Am Puls der Zeit ermöglicht die Plastinatschau einen neuen Blick auf die Herausforderungen des Menschen im 21. Jahrhundert. Datum und Veranstaltungsort 04.06.2025 1000 until 1800 h Kleine Olympiahalle Tickets Holger BergKörperwelten More actions Share on Facebook Share via WhatsApp Copy link Gunther von Hagens Plastinate in einer neuen Ausstellung Zum dritten Mal schauen die Körperwelten in München vorbei diesmal mit einem hochaktuellen Thema Wie verletzlich ist der Mensch und welche Potenziale hat er? Plastinator Dr. Gunther von Hagens und Kuratorin Dr. Angelina Whalley regen die Besucherinnen dazu an, ihre Gesundheit bewusster wahrzunehmen und die Auswirkungen des modernen Lebensstils zu hinterfragen. Neben Aspekten wie Ernährung, Bewegung und Immunstärkung vermittelt die Ausstellung Ansätze für ein gesundes und langes Leben. Echte menschliche Exponate, darunter Ganzkörperplastinate, geben detaillierte Einblicke in Anatomie, Funktion und Zusammenspiel der Organe. Auch häufige Krankheiten und ihre Entstehung werden anschaulich erklärt. Mehr zu Veranstaltungen Dates Wed , 04. June 2025 1000 Kleine Olympiahalle Tickets Thu , 05. June 2025 1000 Kleine Olympiahalle Tickets Fri , 06. June 2025 1000 Kleine Olympiahalle Tickets Sat , 07. June 2025 1000 Kleine Olympiahalle Tickets Sun , 08. June 2025 1000 Kleine Olympiahalle Tickets Mon , 09. June 2025 1000 Kleine Olympiahalle Tickets Tue , 10. June 2025 1000 Kleine Olympiahalle Tickets Wed , 11. June 2025 1000 Kleine Olympiahalle Tickets Thu , 12. June 2025 1000 Kleine Olympiahalle Tickets Fri , 13. June 2025 1000 Kleine Olympiahalle Tickets Sat , 14. June 2025 1000 Kleine Olympiahalle Tickets Sun , 15. June 2025 1000 Kleine Olympiahalle Tickets Mon , 16. June 2025 1000 Kleine Olympiahalle Tickets Tue , 17. June 2025 1000 Kleine Olympiahalle Tickets Wed , 18. June 2025 1000 Kleine Olympiahalle Tickets Thu , 19. June 2025 1000 Kleine Olympiahalle Tickets Fri , 20. June 2025 1000 Kleine Olympiahalle Tickets Sat , 21. June 2025 1000 Kleine Olympiahalle Tickets Sun , 22. June 2025 1000 Kleine Olympiahalle Tickets Mon , 23. June 2025 1000 Kleine Olympiahalle Tickets Tue , 24. June 2025 1000 Kleine Olympiahalle Tickets Wed , 25. June 2025 1000 Kleine Olympiahalle Tickets Thu , 26. June 2025 1000 Kleine Olympiahalle Tickets Fri , 27. June 2025 1000 Kleine Olympiahalle Tickets Sat , 28. June 2025 1000 Kleine Olympiahalle Tickets Sun , 29. June 2025 1000 Kleine Olympiahalle Tickets Mon , 30. June 2025 1000 Kleine Olympiahalle Tickets Tue , 01. July 2025 1000 Kleine Olympiahalle Tickets Wed , 02. July 2025 1000 Kleine Olympiahalle Tickets Thu , 03. July 2025 1000 Kleine Olympiahalle Tickets Fri , 04. July 2025 1000 Kleine Olympiahalle Tickets Sat , 05. July 2025 1000 Kleine Olympiahalle Tickets Sun , 06. July 2025 1000 Kleine Olympiahalle Tickets Mon , 07. July 2025 1000 Kleine Olympiahalle Tickets Tue , 08. July 2025 1000 Kleine Olympiahalle Tickets Wed , 09. July 2025 1000 Kleine Olympiahalle Tickets Thu , 10. July 2025 1000 Kleine Olympiahalle Tickets Fri , 11. July 2025 1000 Kleine Olympiahalle Tickets Sat , 12. July 2025 1000 Kleine Olympiahalle Tickets Sun , 13. July 2025 1000 Kleine Olympiahalle Tickets Mon , 14. July 2025 1000 Kleine Olympiahalle Tickets Tue , 15. July 2025 1000 Kleine Olympiahalle Tickets Wed , 16. July 2025 1000 Kleine Olympiahalle Tickets Thu , 17. July 2025 1000 Kleine Olympiahalle Tickets Fri , 18. July 2025 1000 Kleine Olympiahalle Tickets Sun , 20. July 2025 1000 Kleine Olympiahalle Tickets Mon , 21. July 2025 1000 Kleine Olympiahalle Tickets Tue , 22. July 2025 1000 Kleine Olympiahalle Tickets Wed , 23. July 2025 1000 Kleine Olympiahalle Tickets Thu , 24. July 2025 1000 Kleine Olympiahalle Tickets Fri , 25. July 2025 1000 Kleine Olympiahalle Tickets Sat , 26. July 2025 1000 Kleine Olympiahalle Tickets Sun , 27. July 2025 1000 Kleine Olympiahalle Tickets Mon , 28. July 2025 1000 Kleine Olympiahalle Tickets Tue , 29. July 2025 1000 Kleine Olympiahalle Tickets Wed , 30. July 2025 1000 Kleine Olympiahalle Tickets Thu , 31. July 2025 1000 Kleine Olympiahalle Tickets Fri , 01. August 2025 1000 Kleine Olympiahalle Tickets Sat , 02. August 2025 1000 Kleine Olympiahalle Tickets Sun , 03. August 2025 1000 Kleine Olympiahalle Tickets Mon , 04. August 2025 1000 Kleine Olympiahalle Tickets Tue , 05. August 2025 1000 Kleine Olympiahalle Tickets Wed , 06. August 2025 1000 Kleine Olympiahalle Tickets Thu , 07. August 2025 1000 Kleine Olympiahalle Tickets Fri , 08. August 2025 1000 Kleine Olympiahalle Tickets Sat , 09. August 2025 1000 Kleine Olympiahalle Tickets Sun , 10. August 2025 1000 Kleine Olympiahalle Tickets Mon , 11. August 2025 1000 Kleine Olympiahalle Tickets Tue , 12. August 2025 1000 Kleine Olympiahalle Tickets Wed , 13. August 2025 1000 Kleine Olympiahalle Tickets Thu , 14. August 2025 1000 Kleine Olympiahalle Tickets Fri , 15. August 2025 1000 Kleine Olympiahalle Tickets Sat , 16. August 2025 1000 Kleine Olympiahalle Tickets Sun , 17. August 2025 1000 Kleine Olympiahalle Tickets Mon , 18. August 2025 1000 Kleine Olympiahalle Tickets Tue , 19. August 2025 1000 Kleine Olympiahalle Tickets Wed , 20. August 2025 1000 Kleine Olympiahalle Tickets Thu , 21. August 2025 1000 Kleine Olympiahalle Tickets Fri , 22. August 2025 1000 Kleine Olympiahalle Tickets Sat , 23. August 2025 1000 Kleine Olympiahalle Tickets Sun , 24. August 2025 1000 Kleine Olympiahalle Tickets Mon , 25. August 2025 1000 Kleine Olympiahalle Tickets Tue , 26. August 2025 1000 Kleine Olympiahalle Tickets Wed , 27. August 2025 1000 Kleine Olympiahalle Tickets Thu , 28. August 2025 1000 Kleine Olympiahalle Tickets Fri , 29. August 2025 1000 Kleine Olympiahalle Tickets Sat , 30. August 2025 1000 Kleine Olympiahalle Tickets Sun , 31. August 2025 1000 Kleine Olympiahalle Tickets Mon , 01. September 2025 1000 Kleine Olympiahalle Tickets Tue , 02. September 2025 1000 Kleine Olympiahalle Tickets Wed , 03. September 2025 1000 Kleine Olympiahalle Tickets Thu , 04. September 2025 1000 Kleine Olympiahalle Tickets Fri , 05. September 2025 1000 Kleine Olympiahalle Tickets Sat , 06. September 2025 1000 Kleine Olympiahalle Tickets Sun , 07. September 2025 1000 Kleine Olympiahalle Tickets Mon , 08. September 2025 1000 Kleine Olympiahalle Tickets Tue , 09. September 2025 1000 Kleine Olympiahalle Tickets Wed , 10. September 2025 1000 Kleine Olympiahalle Tickets Thu , 11. September 2025 1000 Kleine Olympiahalle Tickets Fri , 12. September 2025 1000 Kleine Olympiahalle Tickets\n",
      "https://www.muenchen.de/en/node/101130\n",
      "Ad Sonderausstellung im Zeughaus des Münchner Stadtmuseums What the City. Perspektiven unserer Stadt Das Münchner Stadtmuseum ist trotz Sanierung aktiv! Die Ausstellung What the City im ehemaligen Zeughaus am St.JakobsPlatz setzt sich mit Perspektiven auf die Stadt München, mit ihren historischen Entwicklungen und aktuellen Zukunftsentwürfen auseinander. Ab 15. Mai 2025 lädt das Münchner Stadtmuseum mit interaktiven Stationen, einer WebApp und einem begleitenden Veranstaltungsprogramm zum Entdecken und Mitmachen ein. Der Eintritt ist kostenlos und barrierefrei. Datum und Veranstaltungsort 04.06.2025 1100 until 1900 h Münchner Stadtmuseum Volker Derlath More actions Share on Facebook Share via WhatsApp Copy link Reflexionen über München in zehn Kapiteln What the City. Perspektiven unserer Stadt bringt aktuelle, stadtgeschichtliche Themen aus fast allen Sammlungen des Hauses in einer Ausstellung zusammen. In zehn Kapiteln reflektiert die Ausstellung verschiedene Aspekte und Wahrnehmungen der bayerischen Landeshauptstadt Ist München wirklich die Kunst und Kulturmetropole, als die es bekannt ist? Wie verhält es sich beispielsweise mit Zuschreibungen, München sei reich und traditionsbewusst? Wie lebenswert ist die Stadt für Menschen, die von Armut betroffen sind? Wie führt die queere Community den Kampf um Gleichberechtigung und wie prägen die antirassistischen Bewegungen die Identität der Stadtgesellschaft? Und wie steht es eigentlich um das Münchner Nachtleben? Dies sind nur einige der Fragen, denen die Ausstellung nachspürt. Es werden historische Verbindungslinien aufgegriffen sowie Perspektiven und Erfahrungen von Münchnerinnen vergegenwärtigt. Im Kapitel My City. Mein Ding für die Zukunft der Stadt werden Initiativen, Projekte und Akteurinnen vorgestellt, die sich für ihre Vision einer gemeinschaftlichen, friedlichen, nachhaltigen oder inspirierenden Stadtgesellschaft einsetzen. In cooperation with the cultural department and the museums This article about Munichs museums is sponsored by the Cultural Department of the City of Munich and was conceived in cooperation with the State Agency for NonState Museums in Bavaria. The content has been coordinated between the participating museums and , the official city portal. This might also interest you Dates Wed , 04. June 2025 1100 Münchner Stadtmuseum Thu , 05. June 2025 1100 Münchner Stadtmuseum Fri , 06. June 2025 1100 Münchner Stadtmuseum Sat , 07. June 2025 1100 Münchner Stadtmuseum Sun , 08. June 2025 1100 Münchner Stadtmuseum Tue , 10. June 2025 1100 Münchner Stadtmuseum Wed , 11. June 2025 1100 Münchner Stadtmuseum Thu , 12. June 2025 1100 Münchner Stadtmuseum Fri , 13. June 2025 1100 Münchner Stadtmuseum Sat , 14. June 2025 1100 Münchner Stadtmuseum Sun , 15. June 2025 1100 Münchner Stadtmuseum Tue , 17. June 2025 1100 Münchner Stadtmuseum Wed , 18. June 2025 1100 Münchner Stadtmuseum Thu , 19. June 2025 1100 Münchner Stadtmuseum Fri , 20. June 2025 1100 Münchner Stadtmuseum Sat , 21. June 2025 1100 Münchner Stadtmuseum Sun , 22. June 2025 1100 Münchner Stadtmuseum Tue , 24. June 2025 1100 Münchner Stadtmuseum Wed , 25. June 2025 1100 Münchner Stadtmuseum Thu , 26. June 2025 1100 Münchner Stadtmuseum Fri , 27. June 2025 1100 Münchner Stadtmuseum Sat , 28. June 2025 1100 Münchner Stadtmuseum Sun , 29. June 2025 1100 Münchner Stadtmuseum Tue , 01. July 2025 1100 Münchner Stadtmuseum Wed , 02. July 2025 1100 Münchner Stadtmuseum Thu , 03. July 2025 1100 Münchner Stadtmuseum Fri , 04. July 2025 1100 Münchner Stadtmuseum Sat , 05. July 2025 1100 Münchner Stadtmuseum Sun , 06. July 2025 1100 Münchner Stadtmuseum Tue , 08. July 2025 1100 Münchner Stadtmuseum Wed , 09. July 2025 1100 Münchner Stadtmuseum Thu , 10. July 2025 1100 Münchner Stadtmuseum Fri , 11. July 2025 1100 Münchner Stadtmuseum Sat , 12. July 2025 1100 Münchner Stadtmuseum Sun , 13. July 2025 1100 Münchner Stadtmuseum Tue , 15. July 2025 1100 Münchner Stadtmuseum Wed , 16. July 2025 1100 Münchner Stadtmuseum Thu , 17. July 2025 1100 Münchner Stadtmuseum Fri , 18. July 2025 1100 Münchner Stadtmuseum Sat , 19. July 2025 1100 Münchner Stadtmuseum Sun , 20. July 2025 1100 Münchner Stadtmuseum Tue , 22. July 2025 1100 Münchner Stadtmuseum Wed , 23. July 2025 1100 Münchner Stadtmuseum Thu , 24. July 2025 1100 Münchner Stadtmuseum Fri , 25. July 2025 1100 Münchner Stadtmuseum Sat , 26. July 2025 1100 Münchner Stadtmuseum Sun , 27. July 2025 1100 Münchner Stadtmuseum Tue , 29. July 2025 1100 Münchner Stadtmuseum Wed , 30. July 2025 1100 Münchner Stadtmuseum Thu , 31. July 2025 1100 Münchner Stadtmuseum Fri , 01. August 2025 1100 Münchner Stadtmuseum Sat , 02. August 2025 1100 Münchner Stadtmuseum Sun , 03. August 2025 1100 Münchner Stadtmuseum Tue , 05. August 2025 1100 Münchner Stadtmuseum Wed , 06. August 2025 1100 Münchner Stadtmuseum Thu , 07. August 2025 1100 Münchner Stadtmuseum Fri , 08. August 2025 1100 Münchner Stadtmuseum Sat , 09. August 2025 1100 Münchner Stadtmuseum Sun , 10. August 2025 1100 Münchner Stadtmuseum Tue , 12. August 2025 1100 Münchner Stadtmuseum Wed , 13. August 2025 1100 Münchner Stadtmuseum Thu , 14. August 2025 1100 Münchner Stadtmuseum Fri , 15. August 2025 1100 Münchner Stadtmuseum Sat , 16. August 2025 1100 Münchner Stadtmuseum Sun , 17. August 2025 1100 Münchner Stadtmuseum Tue , 19. August 2025 1100 Münchner Stadtmuseum Wed , 20. August 2025 1100 Münchner Stadtmuseum Thu , 21. August 2025 1100 Münchner Stadtmuseum Fri , 22. August 2025 1100 Münchner Stadtmuseum Sat , 23. August 2025 1100 Münchner Stadtmuseum Sun , 24. August 2025 1100 Münchner Stadtmuseum Tue , 26. August 2025 1100 Münchner Stadtmuseum Wed , 27. August 2025 1100 Münchner Stadtmuseum Thu , 28. August 2025 1100 Münchner Stadtmuseum Fri , 29. August 2025 1100 Münchner Stadtmuseum Sat , 30. August 2025 1100 Münchner Stadtmuseum Sun , 31. August 2025 1100 Münchner Stadtmuseum Tue , 02. September 2025 1100 Münchner Stadtmuseum Wed , 03. September 2025 1100 Münchner Stadtmuseum Thu , 04. September 2025 1100 Münchner Stadtmuseum Fri , 05. September 2025 1100 Münchner Stadtmuseum Sat , 06. September 2025 1100 Münchner Stadtmuseum Sun , 07. September 2025 1100 Münchner Stadtmuseum Tue , 09. September 2025 1100 Münchner Stadtmuseum Wed , 10. September 2025 1100 Münchner Stadtmuseum Thu , 11. September 2025 1100 Münchner Stadtmuseum Fri , 12. September 2025 1100 Münchner Stadtmuseum Sat , 13. September 2025 1100 Münchner Stadtmuseum Sun , 14. September 2025 1100 Münchner Stadtmuseum Tue , 16. September 2025 1100 Münchner Stadtmuseum Wed , 17. September 2025 1100 Münchner Stadtmuseum Thu , 18. September 2025 1100 Münchner Stadtmuseum Fri , 19. September 2025 1100 Münchner Stadtmuseum Sat , 20. September 2025 1100 Münchner Stadtmuseum Sun , 21. September 2025 1100 Münchner Stadtmuseum Tue , 23. September 2025 1100 Münchner Stadtmuseum Wed , 24. September 2025 1100 Münchner Stadtmuseum Thu , 25. September 2025 1100 Münchner Stadtmuseum Fri , 26. September 2025 1100 Münchner Stadtmuseum Sat , 27. September 2025 1100 Münchner Stadtmuseum\n",
      "https://www.muenchen.de/sehenswuerdigkeiten/museen/zentralinstitut-fuer-kunstgeschichte\n"
     ]
    },
    {
     "name": "stderr",
     "output_type": "stream",
     "text": [
      " 63%|██████▎   | 22/35 [00:11<00:06,  2.01it/s]"
     ]
    },
    {
     "name": "stdout",
     "output_type": "stream",
     "text": [
      "ZI Kunsthistorisches Forschungsinstitut und wissenschaftlicher Austausch Zentralinstitut für Kunstgeschichte München Infos zu Bibliothek und Photothek Das Zentralinstitut für Kunstgeschichte ist das einzige außeruniversitäre kunsthistorische Forschungsinstitut in Deutschland. Es beschäftigt sich mit der Geschichte der Kunst im globalen Kontext. Adresse und Öffnungszeiten KatharinavonBoraStr. 10 , 80333 München Öffnungszeiten Mi geöffnet 0900 2000 Mo 0900 2000 Di 0900 2000 Mi 0900 2000 Do 0900 2000 Fr 0900 2000 Sa geschlossen So geschlossen Hinweis Angegeben sind die Öffnungszeiten der Bibliothek Anfahrt Helena Heilig Weitere Aktionen Teilen auf Facebook Teilen via WhatsApp Kopieren Zentralinstitut für Kunstgeschichte App MunichArtToGo Geht mit der neuen App des ZI auf eine interaktive Entdeckungsreise durch die Kunststadt München von 1800 bis heute. Mehr Infos zur App Warum lohnt sich ein Besuch im ZI in München? Gunnar Menzel Das Zentralinstitut für Kunstgeschichte hat seinen Sitz im ehemaligen Verwaltungsbau der NSDAP Das Zentralinstitut für Kunstgeschichte am Münchner Königsplatz ist ein Ort der kunsthistorischen Forschung. Was ist geboten? Das ZI ist mit einer der weltweit bedeutendsten und größten kunsthistorischen Fachbibliotheken , den Bildbeständen seiner Photothek sowie mit zahlreichen international genutzten OnlineAngeboten und Datenbanken nicht nur ein bedeutendes Forum des wissenschaftlichen Austauschs, sondern auch eine zentrale ServiceInstitution. Es bietet herausragende Arbeitsmöglichkeiten für die kunsthistorische Recherche. Was ist besonders? Das Zentralinstitut für Kunstgeschichte hat seit 1947 seinen Sitz in einem historischen Gebäude am Königsplatz, dem ehemaligen Verwaltungsbau der NSDAP. Bei einem Besuch könnt ihr euch vor Ort über die Geschichte des Hauses und des Parteiviertels informieren. Das Münchner Zentralinstitut für Kunstgeschichte auf einen Blick Lage Im Kunstareal am Königsplatz MuseumsKategorie Kunst und Kultur Empfohlene Aufenthaltsdauer Individuell Anfahrt Mit der Tram 27 und 28 bis Haltestelle Karolinenplatz, UBahn U2 bis Königsplatz oder SBahn bis Karlsplatz Parken Es stehen keine eigenen Parkplätze zur Verfügung Bibliothek und Photothek Helena Heilig Bibliothek im Zentralinstitut für Kunstgeschichte Das ZI ist mit einer der weltweit bedeutendsten und größten kunsthistorischen Fachbibliotheken , den Bildbeständen seiner Photothek sowie mit zahlreichen international genutzten OnlineAngeboten und Datenbanken auch eine zentrale ServiceInstitution. Die großen Bestände der Bibliothek und Photothek des ZI sowie die beständige Publikation wissenschaftlicher Beiträge und Chroniken erweitern die Basis für ein breites Spektrum kunsthistorischer Forschung. Ausstellungen und Führungen durchs Gebäude Das Zentralinstitut für Kunstgeschichte zeigt wechselnde Sonderausstellungen zu verschiedenen Themen der Kunstgeschichte , bei denen es unter anderem auch die Bestände der Bibliothek und Photothek der Öffentlichkeit präsentiert. Zudem finden regelmäßig öffentliche Führungen zur Geschichte des ehemaligen NSDAPParteizentrums mit Rundgang durch das Gebäude statt. Auch Gruppenführungen können vereinbart werden. Veranstaltungen und Helena Heilig In wechselnden Sonderausstellungen und Veranstaltungen präsentiert das ZI seine Bestände Das ZI bietet ein kontinuierliches dichtes Programm öffentlicher Veranstaltungen für das kunsthistorische Fachpublikum an Als national wie international vernetzte Forschungseinrichtung ist das Institut Ausrichter zahlreicher internationaler Tagungen und Kolloquien . Regelmäßige Vortragsreihen und Einzelvorträge in und ausländischer Referentinnen geben Einblicke in den aktuellen Stand der kunsthistorischen Forschung. Die Diskussion neuer Ergebnisse mit dem Fachpublikum macht die ZIVeranstaltungen auch zu einem Instrument der Forschungsförderung. Barrierefreiheit und Angebote für Menschen mit Behinderung Das ZI bietet einen barrierefreien Zugang über einen Außenaufzug am Südtor , der von den Mitarbeiterinnen bedient wird . Auch in den eingeschränkt barrierefrei zugänglichen Bereichen der Bibliothek und Photothek könnt ihr euch gerne vom Personal unterstützen lassen. Barrierefreie Toiletten befinden sich im 1. OG. Eintrittspreise und Registrierung Der Eintritt ist kostenfrei . Bei der erstmaligen Anmeldung zur Bibliothek werden benötigt Personalausweis und geeigneter Nachweis der wissenschaftlichen oder beruflichen Beschäftigung bzw. Studierendenausweis oder Immatrikulationsbescheinigung. OnlineAngebot Helena Heilig Auch online bietet das ZI breit gefächerte Informationsquellen und Recherchemöglichkeiten Mit zahlreichen international genutzten OnlineAngeboten und Datenbanken bietet das ZI herausragende Arbeitsmöglichkeiten für die kunsthistorische Recherche App MunichArtToGo Die App MunichArtToGo ermöglicht, den urbanen Raum Münchens mit Hilfe der einzigartigen Quellen und Bildbestände des ZI neu zu erkunden direkt vor Ort oder von zuhause aus. In kurzen Stories werden Geschichten zur Kunststadt München präsentiert. Dabei lässt MunichArtToGo historische Orte und Konstellationen erfahrbar werden und macht Zusammenhänge von Vergangenheit und Gegenwart sichtbar Blog des ZI Hier schreiben am ZI tätige Wissenschaftlerinnen, Bibliothekarinnen, Hilfskräfte, Doktoranden, Fellows sowie wissenschaftliche Gäste über ihre Forschungsansätze, Forschungsideen und das aktuelle Geschehen www.zispotlight.de YouTube Auf dem YouTubeKanal des ZI finden sich Aufzeichnungen vergangener Veranstaltungen und Kurzfilme zu Forschungsprojekten und Ausstellungen. Google Arts Culture Mit über 16.000 historischen MünchenFotos sowie einer großen Auswahl an digitalisierten historischer Ansichten und Fotografien von Bauwerken weiterer deutscher Städte präsentiert sich die Photothek des ZI auf Google Arts Culture . Digitale Sammlung Digitalisate seltener Bücher, Digitalisierungsprojekte und ZIPublikationen im open access finden sich hier . Böhler re Die Datenbank Böhler re ist eine digitale Edition des Archivs der Kunsthandlung Julius Böhler. Da die Kunsthandlung Böhler auch in der Zeit des Nationalsozialismus regen Handel betrieb, ist das Quellenmaterial für die Suche nach NSverfolgungsbedingt entzogenen Kulturgütern im Rahmen der Provenienzforschung von herausragender Bedeutung. GDK Re Die bildbasierte Forschungsplattform GDK Re publiziert unbekannte fotografische Dokumente zur staatlich geförderten Kunst der NSZeit und den Großen Deutschen Kunstausstellungen 19371944 in München. RDK Labor Eine OnlinePlattform zur kunsthistorischen Objektforschung, hervorgegangen aus dem Reallexikon zur Deutschen Kunstgeschichte. Hier werden ständig neue Artikel aus den Bereichen Architektur, Bildende Künste, Kunsthandwerk und Ikonographie sowie zu Materialien und Techniken veröffentlicht. Geschichte des Zentralinstituts für Kunstgeschichte Zentralinstitut für Kunstgeschichte Anlieferung von Kunstwerken an der Südpforte des Collecting Point, 194546 Das Zentralinstitut für Kunstgeschichte hat seit 1947 seinen Sitz in einem historischen Gebäude am Königsplatz, dem ehemaligen Verwaltungsbau der NSDAP. Von Frühjahr 1933 an gingen mehr als fünfzig Gebäude entlang der Brienner Straße, Arcisstraße, Gabelsbergerstraße, Barer Straße und Karlstraße sowie angrenzender Straßen in den Besitz der NSDAP über. Sie wurden abgerissen oder umgebaut und es entstand ein neues Parteiviertel am Königsplatz Ein monumentales Forum der Bürokratie und des Kults. Nach 1945 nutzte die USMilitärregierung die kaum beschädigten Großbauten zunächst als Central Art Collecting Point, als Sammelstelle für die NSBeutekunst. Später wurden die Gebäude kulturellen Institutionen überlassen. Seit mehr als 20 Jahren beschäftigt sich das Institut intensiv mit der Kunstgeschichte des Nationalsozialismus und der unmittelbaren Nachkriegszeit. 2015 wurde zudem in unmittelbarer Nachbarschaft des Zentralinstituts für Kunstgeschichte am Standort des Braunen Hauses an der Brienner Straße das NSDokumentationszentrum München eröffnet. In Kooperation mit dem Kulturreferat und den Museen Dieser Beitrag über die Münchner Museen wird vom Kulturreferat der Landeshauptstadt München gefördert und ist in Kooperation mit der Landesstelle für die nichtstaatlichen Museen in Bayern konzipiert worden. Die Inhalte wurden zwischen den beteiligten Museen und , dem offiziellen Stadtportal, abgestimmt. Auf einen Blick Zentralinstitut für Kunstgeschichte KatharinavonBoraStr. 10 80333 München Tel 498928927556 Fax 498928927607 infozikg.eu Korrektur vorschlagen Öffnungszeiten This is a carousel with rotating cards. Use the previous and next buttons to navigate, and Enter to activate cards. Vorheriger Slide Mo 0900 2000 Di 0900 2000 Mi 0900 2000 Do 0900 2000 Fr 0900 2000 Sa geschlossen So geschlossen Nächster Slide 1 21 von 21 Veranstaltungen 04 Juni bis 04 Juli Die Unterlagen befinden sich im Zustand der Ablage Mi. 04.06.2025 1000 2000 Uhr Zentralinstitut für Kunstgeschichte 04 Juni bis 04 Juli Die Unterlagen befinden sich im Zustand der Ablage Do. 05.06.2025 1000 2000 Uhr Zentralinstitut für Kunstgeschichte 04 Juni bis 04 Juli Die Unterlagen befinden sich im Zustand der Ablage Fr. 06.06.2025 1000 2000 Uhr Zentralinstitut für Kunstgeschichte 04 Juni bis 04 Juli Die Unterlagen befinden sich im Zustand der Ablage Di. 10.06.2025 1000 2000 Uhr Zentralinstitut für Kunstgeschichte 04 Juni bis 04 Juli Die Unterlagen befinden sich im Zustand der Ablage Mi. 11.06.2025 1000 2000 Uhr Zentralinstitut für Kunstgeschichte 04 Juni bis 04 Juli Die Unterlagen befinden sich im Zustand der Ablage Do. 12.06.2025 1000 2000 Uhr Zentralinstitut für Kunstgeschichte 04 Juni bis 04 Juli Die Unterlagen befinden sich im Zustand der Ablage Fr. 13.06.2025 1000 2000 Uhr Zentralinstitut für Kunstgeschichte 04 Juni bis 04 Juli Die Unterlagen befinden sich im Zustand der Ablage Mo. 16.06.2025 1000 2000 Uhr Zentralinstitut für Kunstgeschichte 04 Juni bis 04 Juli Die Unterlagen befinden sich im Zustand der Ablage Di. 17.06.2025 1000 2000 Uhr Zentralinstitut für Kunstgeschichte 04 Juni bis 04 Juli Die Unterlagen befinden sich im Zustand der Ablage Mi. 18.06.2025 1000 2000 Uhr Zentralinstitut für Kunstgeschichte 04 Juni bis 04 Juli Die Unterlagen befinden sich im Zustand der Ablage Fr. 20.06.2025 1000 2000 Uhr Zentralinstitut für Kunstgeschichte 04 Juni bis 04 Juli Die Unterlagen befinden sich im Zustand der Ablage Mo. 23.06.2025 1000 2000 Uhr Zentralinstitut für Kunstgeschichte 04 Juni bis 04 Juli Die Unterlagen befinden sich im Zustand der Ablage Di. 24.06.2025 1000 2000 Uhr Zentralinstitut für Kunstgeschichte 04 Juni bis 04 Juli Die Unterlagen befinden sich im Zustand der Ablage Mi. 25.06.2025 1000 2000 Uhr Zentralinstitut für Kunstgeschichte 04 Juni bis 04 Juli Die Unterlagen befinden sich im Zustand der Ablage Do. 26.06.2025 1000 2000 Uhr Zentralinstitut für Kunstgeschichte 04 Juni bis 04 Juli Die Unterlagen befinden sich im Zustand der Ablage Fr. 27.06.2025 1000 2000 Uhr Zentralinstitut für Kunstgeschichte 04 Juni bis 04 Juli Die Unterlagen befinden sich im Zustand der Ablage Mo. 30.06.2025 1000 2000 Uhr Zentralinstitut für Kunstgeschichte 04 Juni bis 04 Juli Die Unterlagen befinden sich im Zustand der Ablage Di. 01.07.2025 1000 2000 Uhr Zentralinstitut für Kunstgeschichte 04 Juni bis 04 Juli Die Unterlagen befinden sich im Zustand der Ablage Mi. 02.07.2025 1000 2000 Uhr Zentralinstitut für Kunstgeschichte 04 Juni bis 04 Juli Die Unterlagen befinden sich im Zustand der Ablage Do. 03.07.2025 1000 2000 Uhr Zentralinstitut für Kunstgeschichte 04 Juni bis 04 Juli Die Unterlagen befinden sich im Zustand der Ablage Fr. 04.07.2025 1000 2000 Uhr Zentralinstitut für Kunstgeschichte\n",
      "https://www.muenchen.de/en/node/101821\n",
      "Ad Sonderausstellung im Museum für Abgüsse Ein gut Theil Eigenheit Ein gut Theil Eigenheit so beschrieb die Archäologin Johanna Mestorf im 19. Jahrhundert die Tatsache, dass ihre Arbeit zu großen Teilen auf eigenen Ideen beruhte. Die gleichnamige Ausstellung beleuchtet von 4. Juni bis 19. September 2025 im Abgussmuseum die Biografien wichtiger Archäologinnen. Zudem wartet ein umfangreiches Begleitprogramm und das alles bei freiem Eintritt. Datum und Veranstaltungsort 04.06.2025 1000 until 2000 h Museum für Abgüsse AktArcha More actions Share on Facebook Share via WhatsApp Copy link Wie Frauen die Archäologie geprägt haben Schon seit dem 18. Jahrhundert beschäftigten sich viele Frauen mit Altertumskunde also noch bevor es Frauen erlaubt war, an Universitäten zu arbeiten, und Archäologie überhaupt ein Fach an den Hochschulen war. Sie gruben, zeichneten, kartografierten, kategorisierten und schufen dabei wissenschaftliche Werke, die die Grundlagen der Archäologie prägten. Damals waren diese Frauen oft hochgeschätzt, heute sind die meisten allerdings vergessen. Um diesem Umstand entgegenzuwirken, stellt die Sonderausstellung im Abgussmuseum neun Biografien von Archäologinnen und ihr Wirken vor. Die in München gezeigte Wanderausstellung ist Teil des Forschungsprojekts AktArcha . Zusätzlich wird im Abgussmuseum auf das Leben der Archäologin Ingeborg Scheibler eingegangen, die die Münchner Sammlung von 1966 bis 1991 geleitet und geprägt hat. Alles zum Museum für Abgüsse Homann Wedeking Ingeborg Scheibler Das Begleitprogramm zur Sonderausstellung Dienstag, 17.6., 19 Uhr Soroptimistinnen in München Ein Abend mit Soroptimist Club MünchenSchwabing anlässlich der Würdigung von Ingeborg Scheibler, die den Club mit gegründet hat Samstag, 28. Juni und Sonntag, 29. Juni zwischen 10 und 18 Uhr Kurzführungen durch die Sonderausstellung Dienstag, 8. Juli, 19 Uhr Vortrag AktArcha. Akteurinnen archäologischer Forschung und ihre Geschichte Dr. Elisabeth Bösl Dienstag, 22. Juli, 19 Uhr Führung durch die Sonderausstellung Dienstag, 29. Juli, 19 Uhr Podiumsgespräch Ausgrabungen von Archäologinnen Herausforderungen damals und heute mit Prof. Dr. Julia Budka und Prof. Dr. Carola MetznerNebelsick Dienstag, 5. August, 19 Uhr Vortrag Einfluss, Macht und Chancen von Frauen im antiken Rom Leila Winkler Dienstag, 9. September, 19 Uhr Führung durch die Sonderausstellung Dienstag, 16. September, 19 Uhr Vortrag Erinnern und vergessen Gorgo, eine Frau aus dem Königshaus von Sparta PD Dr. Denise Reitzenstein In cooperation with the cultural department and the museums This article about Munichs museums is sponsored by the Cultural Department of the City of Munich and was conceived in cooperation with the State Agency for NonState Museums in Bavaria. The content has been coordinated between the participating museums and , the official city portal. This might also interest you Dates Wed , 04. June 2025 1000 Museum für Abgüsse Thu , 05. June 2025 1000 Museum für Abgüsse Fri , 06. June 2025 1000 Museum für Abgüsse Mon , 09. June 2025 1000 Museum für Abgüsse Tue , 10. June 2025 1000 Museum für Abgüsse Wed , 11. June 2025 1000 Museum für Abgüsse Thu , 12. June 2025 1000 Museum für Abgüsse Fri , 13. June 2025 1000 Museum für Abgüsse Mon , 16. June 2025 1000 Museum für Abgüsse Tue , 17. June 2025 1000 Museum für Abgüsse Wed , 18. June 2025 1000 Museum für Abgüsse Thu , 19. June 2025 1000 Museum für Abgüsse Fri , 20. June 2025 1000 Museum für Abgüsse Mon , 23. June 2025 1000 Museum für Abgüsse Tue , 24. June 2025 1000 Museum für Abgüsse Wed , 25. June 2025 1000 Museum für Abgüsse Thu , 26. June 2025 1000 Museum für Abgüsse Fri , 27. June 2025 1000 Museum für Abgüsse Mon , 30. June 2025 1000 Museum für Abgüsse Tue , 01. July 2025 1000 Museum für Abgüsse Wed , 02. July 2025 1000 Museum für Abgüsse Thu , 03. July 2025 1000 Museum für Abgüsse Fri , 04. July 2025 1000 Museum für Abgüsse Mon , 07. July 2025 1000 Museum für Abgüsse Tue , 08. July 2025 1000 Museum für Abgüsse Wed , 09. July 2025 1000 Museum für Abgüsse Thu , 10. July 2025 1000 Museum für Abgüsse Fri , 11. July 2025 1000 Museum für Abgüsse Mon , 14. July 2025 1000 Museum für Abgüsse Tue , 15. July 2025 1000 Museum für Abgüsse Wed , 16. July 2025 1000 Museum für Abgüsse Thu , 17. July 2025 1000 Museum für Abgüsse Fri , 18. July 2025 1000 Museum für Abgüsse Mon , 21. July 2025 1000 Museum für Abgüsse Tue , 22. July 2025 1000 Museum für Abgüsse Wed , 23. July 2025 1000 Museum für Abgüsse Thu , 24. July 2025 1000 Museum für Abgüsse Fri , 25. July 2025 1000 Museum für Abgüsse Mon , 28. July 2025 1000 Museum für Abgüsse Tue , 29. July 2025 1000 Museum für Abgüsse Wed , 30. July 2025 1000 Museum für Abgüsse Thu , 31. July 2025 1000 Museum für Abgüsse Fri , 01. August 2025 1000 Museum für Abgüsse Mon , 04. August 2025 1000 Museum für Abgüsse Tue , 05. August 2025 1000 Museum für Abgüsse Wed , 06. August 2025 1000 Museum für Abgüsse Thu , 07. August 2025 1000 Museum für Abgüsse Fri , 08. August 2025 1000 Museum für Abgüsse Mon , 11. August 2025 1000 Museum für Abgüsse Tue , 12. August 2025 1000 Museum für Abgüsse Wed , 13. August 2025 1000 Museum für Abgüsse Thu , 14. August 2025 1000 Museum für Abgüsse Fri , 15. August 2025 1000 Museum für Abgüsse Mon , 18. August 2025 1000 Museum für Abgüsse Tue , 19. August 2025 1000 Museum für Abgüsse Wed , 20. August 2025 1000 Museum für Abgüsse Thu , 21. August 2025 1000 Museum für Abgüsse Fri , 22. August 2025 1000 Museum für Abgüsse Mon , 25. August 2025 1000 Museum für Abgüsse Tue , 26. August 2025 1000 Museum für Abgüsse Wed , 27. August 2025 1000 Museum für Abgüsse Thu , 28. August 2025 1000 Museum für Abgüsse Fri , 29. August 2025 1000 Museum für Abgüsse Mon , 01. September 2025 1000 Museum für Abgüsse Tue , 02. September 2025 1000 Museum für Abgüsse Wed , 03. September 2025 1000 Museum für Abgüsse Thu , 04. September 2025 1000 Museum für Abgüsse Fri , 05. September 2025 1000 Museum für Abgüsse Mon , 08. September 2025 1000 Museum für Abgüsse Tue , 09. September 2025 1000 Museum für Abgüsse Wed , 10. September 2025 1000 Museum für Abgüsse Thu , 11. September 2025 1000 Museum für Abgüsse Fri , 12. September 2025 1000 Museum für Abgüsse Mon , 15. September 2025 1000 Museum für Abgüsse Tue , 16. September 2025 1000 Museum für Abgüsse Wed , 17. September 2025 1000 Museum für Abgüsse Thu , 18. September 2025 1000 Museum für Abgüsse Fri , 19. September 2025 1000 Museum für Abgüsse\n",
      "https://www.muenchen.de/sehenswuerdigkeiten/museen/ns-dokumentationszentrum-muenchen\n"
     ]
    },
    {
     "name": "stderr",
     "output_type": "stream",
     "text": [
      " 74%|███████▍  | 26/35 [00:12<00:03,  2.61it/s]"
     ]
    },
    {
     "name": "stdout",
     "output_type": "stream",
     "text": [
      "Lern und Erinnerungsort zur Geschichte des Nationalsozialismus NSDokumentationszentrum München Das NSDokumentationszentrum München ist der zentrale Ort zur Auseinandersetzung mit der nationalsozialistischen Vergangenheit der Stadt. Adresse und Öffnungszeiten MaxMannheimerPlatz 1 , 80333 München Öffnungszeiten Mi geöffnet 1000 1900 Mo geschlossen Di 1000 1900 Mi 1000 1900 Do 1000 1900 Fr 1000 1900 Sa 1000 1900 So 1000 1900 Hinweis An Feiertagen, die auf einen Montag fallen, hat das NSDokumentationszentrum geöffnet. Gesonderte Öffnungszeiten an Feiertagen. Anfahrt nsdoku Weitere Aktionen Teilen auf Facebook Teilen via WhatsApp Kopieren Warum lohnt sich ein Besuch im NSDokumentationszentrum München? Connolly Weber Die Dokumentation ist in inhaltliche Themenschwerpunkte gegliedert, die durch die Ausstellung leiten Das NSDokumentationszentrum München erinnert am historischen Ort an die Verbrechen der NSDiktatur und vermittelt die Geschichte des Nationalsozialismus mit Blick auf die Gegenwart und Zukunft. In Ausstellungen, Veranstaltungen, Workshops und Seminaren vermittelt es Wissen und Bewusstsein und will so Rassismus, Antisemitismus und Diskriminierung entgegenwirken. Was ist geboten? Mit dem NSDokumentationszentrum München hat die Stadt einen Lern und Erinnerungsort erhalten, der sich mit der nationalsozialistischen Vergangenheit der Stadt und den Ursachen, Ausprägungen und Folgen der Diktatur auseinandersetzt. Inhaltliche Schwerpunkte sind der Aufstieg der NSBewegung in München, die besondere Rolle der Stadt im Terrorsystem der Diktatur und der schwierige Umgang mit der nationalsozialistischen Vergangenheit nach 1945 bis in die Gegenwart. Was ist das Besondere? Das NSDokumentationszentrum München ist ein lebendiger Ort der Information, des Austausches und der Diskussion, der immer den Bezug der historischen Erfahrungen zum Heute sucht. Große Fenster ermöglichen Sichtbezüge zu den baulichen Relikten der NSZeit, die authentischen Orte werden so zu einem Teil der Ausstellung. NSDokumentationszentrum München Alle Infos auf einen Blick Lage Zwischen Königsplatz und Karolinenplatz am MaxMannheimerPlatz im Kunstareal MuseumsKategorie Kulturgeschichte Kinderprogramm Mediaguide für Jugendliche sowie für Familien mit Kindern ab 11 Jahren, buchbare Workshops zu unterschiedlichen Themen Empfohlene Aufenthaltsdauer Ab 2 Stunden Anfahrt U2 bis Königsplatz, Bus 100, 150, 58 und 68 bis Königsplatz, Tram 27 und 28 bis Karolinenplatz Parken Keine eigenen Parkplätze vorhanden Ausstellungskonzept Bewusstsein und Diskussion über die NSZeit Connolly Weber Einer der Hauptaspekte des Dokumentationszentrums ist das Vermitteln von Wissen über die Zeit des Nationalsozialismus Die historische Ausstellung München und der Nationalsozialismus umfasst rund 1.000 Quadratmeter und erstreckt sich über dreieinhalb Geschosse, die folgenden Themen gewidmet sind Ursprung und Aufstieg der NSBewegung Herrschaft und Gesellschaft im Nationalsozialismus München und der Krieg Auseinandersetzung mit der NSZeit nach 1945 Das Ausstellungskonzept umfasst Fotografien, Dokumente und Texte sowie Filmmaterial und steht unter den leitenden Fragestellungen Warum München? und Was hat das mit mir zu tun?. Immer wieder wird die historische Ausstellung durch temporäre durch künstlerische Interventionen belebt und so eine Verbindung zwischen Geschichte, Gegenwart und Zukunft geschaffen. Was ihr sehen müsst Die großen Fenster Die Lamellenfenster ermöglichen vielfältige Sichtbezüge zu den baulichen Relikten der NSZeit. Die authentischen Orte werden somit Teil der Dokumentation. Die Kunstinstallation Brienner 45 Im Außenraum des Gebäudes entstand das Medienkunstwerk Brienner 45 der Brüder Benjamin und Emanuel Heisenberg. Verstreute Monitore zeigen mehrere Filmclips mit Texten aus Schlüsseldokumenten der NSZeit und historischen Bildern. Münchner Biografien Mit den Lebensläufen historischer Persönlichkeiten wie beispielsweise den Widerstandskämpferinnen Walter Klingenbeck , Georg Elser und Anita Augspurg beleuchtet die Ausstellung die Motive und Handlungsspielräume von Tätern und Opfern, Mitläufern und Widerständigen. Die Multimediastationen im Lernforum Auf vier interaktiven Medientischen hat man die Möglichkeit, sich mit verschiedenen Themenkomplexen zu beschäftigen. So können hier unter anderem die Anfänge und der Aufstieg der NSDAP in München oder auch die Biografien und Wohnorte von Verfolgten des NSRegimes recherchiert werden. Previous slide View image in modal View image in modal View image in modal View image in modal View image in modal Next slide Führungen und Formate Connolly Weber Regelmäßige Führungen und ergänzen das Vermittlungsprogramm des Museums Rundgänge durch die Ausstellung München und der Nationalsozialismus Jeden Sonntag, 11 und 14 Uhr Rundgang durch die Ausstellung München und der Nationalsozialismus auf Englisch Jeden Sonntag, 13 Uhr Rundgang durch die aktuelle Wechselausstellung Jeden Dienstag, 17.30 Uhr und jeden Sonntag 15 Uhr Mediaguides in den Sprachen Deutsch, Englisch, Arabisch, Französisch, Hebräisch, Italienisch, Polnisch, Russisch, Spanisch und Griechisch Mediaguide für Jugendliche Mediaguide für Familien mit Kindern ab 11 Jahren Lernforum und Bibliothek Connolly Weber Auf vier Medientischen habt ihr im Lernforum die Möglichkeit, euch mit den Themenkomplexen tiefer zu beschäftigen Einer der Hauptaspekte des Dokumentationszentrums ist das Vermitteln von Wissen über die Zeit des Nationalsozialismus. Aus diesem Grund verfügt das Museum über ein umfangreiches Lernforum mit Bibliothek, Medientischen, Datenbanken und Rechercheterminals. Ziel des Lernforums ist es, diese komplexen Inhalte in medial möglichst ansprechender Form aufzubereiten. Die Inhalte der Ausstellung können so vertieft werden, wobei sich dieses Angebot sowohl an Gruppen als auch an Einzelpersonen richtet. Veranstaltungen und Connolly Weber Im Außenraum des Gebäudes erinnert heute das Medienkunstwerk Brienner 45 an die NSZeit Darüber hinaus bietet das NSDokumentationszentrum München folgende Veranstaltungen an Wechselnde zu historischen und aktuellen Themen mit nationalen und internationalen Gästen aus den Bereichen Wissenschaft, Kunst, Literatur uvm. Regelmäßige Reihen mit verschiedenen Kooperationspartnern Buchbare Workshops und Seminare zu unterschiedlichen Themen für Kinder, Jugend, Schüler und Erwachsenengruppen Eintrittspreise Der Eintritt zum NSDokumentationszentrum München ist kostenfrei. App Orte Erinnern und OnlineAngebot SmartphoneApp Orte Erinnern Sites in Mind Mit der App kann man auch auf Münchens Straßen die Auswirkungen des Nationalsozialismus nachvollziehen. Die App führt euch zu 120 Orten in München und der Umgebung, die in einem direkten Bezug zur NS Geschichte stehen. OnlineStorytellings zu aktuellen Ausstellungen und Themen nsdoku lexikon mit 900 Artikeln zur nationalsozialistischen Vergangenheit der Stadt München nsdoku magazin Autorinnen aus Wissenschaft, Politik, Kunst und Kultur beleuchten historische Themen und aktuelle gesellschaftliche Entwicklungen. Podcast History is not the Past Expertinnen aus den Bereichen Wissenschaft, Journalismus, Kunst und Kultur behandeln historische und aktuelle Themen. Podcast Münchner Zeitgeschichten Ein partizipatives Audioprojekt von Jugendlichen für Jugendliche, die sich auf die Spuren der NSGeschichte in München begeben. YouTubeKanal mit regelmäßigen OnlineVeranstaltungen, Ausstellungsvideos und Interviews Die Geschichte des NSDokumentationszentrums München Connolly Weber Das NSDokumentationszentrum München befindet sich auf dem Gelände des Braunen Hauses, der einstigen Parteizentrale der NSDAP München ist Gründungsort der NSDAP und ist wie keine andere Stadt mit dem Aufstieg des Nationalsozialismus verbunden. Das NSDokumentationszentrum München befindet sich auf dem Gelände des Braunen Hauses, der einstigen Parteizentrale der NSDAP. Mit dem NSDokumentationszentrum München erhielt der Ort eine neue Bestimmung als offener und lebendiger Ort der Information, des Austausches und der Diskussion. Am 1. Mai 2015 wurde das NSDokumentationszentrum München eröffnet. Es entstand auf Initiative von Bürgerinnen, die für eine kritische Auseinandersetzung mit den Spuren der NSTäterschaft eintraten. Der Bau wurde finanziert von Bund, dem Freistaat Bayern und der Landeshauptstadt München und ist seit seiner Eröffnung eine Einrichtung der Landeshauptstadt München. Barrierefreiheit und Angebote für Menschen mit Einschränkungen Alle öffentlichen Bereiche des NSDokumentationszentrums München sind barrierefrei zugänglich. Der Eingang hat einen elektrischen Türöffner und im Erdgeschoss befinden sich taktile Lagepläne in Braille und KeilSchrift. S pezielle Angebote Mediaguide in deutscher Gebärdensprache und International Sign Language, Mediaguides und Begleitbroschüren in leichter Sprache . Neuer Erinnerungsort in Neuaubing geplant Connolly Weber In Neuaubing blieben acht Baracken eines ehemaligen Zwangsarbeiterlagers bis heute erhalten Im Münchner Westen soll in den nächsten Jahren ein lebendiger Erinnerungsort entstehen Am Rande von Neuaubing sind acht Baracken eines Lagers erhalten, in dem während der NSHerrschaft Zwangsarbeiterinnen untergebracht waren. Die interaktive und interdisziplinäre WebAnwendung Departure Neuaubing begleitet die Entstehung und lädt dazu ein, die Geschichte der nationalsozialistischen Zwangsarbeit als eine europäisch vernetzte Geschichte zu entdecken. In Kooperation mit dem Kulturreferat und den Museen Dieser Beitrag über die Münchner Museen wird vom Kulturreferat der Landeshauptstadt München gefördert und ist in Kooperation mit der Landesstelle für die nichtstaatlichen Museen in Bayern konzipiert worden. Die Inhalte wurden zwischen den beteiligten Museen und , dem offiziellen Stadtportal, abgestimmt. Das könnte euch auch interessieren Münchens Top Sehenswürdigkeiten Die Highlights von Marienplatz bis Frauenkirche So wird das Wetter Sonne oder Regen? Die Wetterprognose Webcams mit LiveBildern in München Was am Marienplatz, im Olympiapark und an der Isar zu sehen ist Auf einen Blick NSDokumentationszentrum München MaxMannheimerPlatz 1 80333 München Tel 498923367000 Fax 498923367005 nsdoku Korrektur vorschlagen Öffnungszeiten This is a carousel with rotating cards. Use the previous and next buttons to navigate, and Enter to activate cards. Vorheriger Slide Mo geschlossen Di 1000 1900 Mi 1000 1900 Do 1000 1900 Fr 1000 1900 Sa 1000 1900 So 1000 1900 Nächster Slide 1 30 von 249 Veranstaltungen 04 Juni bis 19 Okt. overexposedunderexposed Mi. 04.06.2025 1000 1900 Uhr NSDokumentationszentrum München 04 Juni bis 10 Mai Erinnerung ist... Mi. 04.06.2025 1000 1900 Uhr NSDokumentationszentrum München 04 Juni bis 19 Okt. overexposedunderexposed Do. 05.06.2025 1000 1900 Uhr NSDokumentationszentrum München 04 Juni bis 10 Mai Erinnerung ist... Do. 05.06.2025 1000 1900 Uhr NSDokumentationszentrum München 04 Juni bis 19 Okt. overexposedunderexposed Fr. 06.06.2025 1000 1900 Uhr NSDokumentationszentrum München 04 Juni bis 10 Mai Erinnerung ist... Fr. 06.06.2025 1000 1900 Uhr NSDokumentationszentrum München 04 Juni bis 10 Mai Erinnerung ist... Sa. 07.06.2025 1000 1900 Uhr NSDokumentationszentrum München 04 Juni bis 19 Okt. overexposedunderexposed Sa. 07.06.2025 1000 1900 Uhr NSDokumentationszentrum München 04 Juni bis 19 Okt. overexposedunderexposed So. 08.06.2025 1000 1900 Uhr NSDokumentationszentrum München 04 Juni bis 10 Mai Erinnerung ist... So. 08.06.2025 1000 1900 Uhr NSDokumentationszentrum München 04 Juni bis 19 Okt. overexposedunderexposed Di. 10.06.2025 1000 1900 Uhr NSDokumentationszentrum München 04 Juni bis 10 Mai Erinnerung ist... Di. 10.06.2025 1000 1900 Uhr NSDokumentationszentrum München 04 Juni bis 10 Mai Erinnerung ist... Mi. 11.06.2025 1000 1900 Uhr NSDokumentationszentrum München 04 Juni bis 19 Okt. overexposedunderexposed Mi. 11.06.2025 1000 1900 Uhr NSDokumentationszentrum München 04 Juni bis 19 Okt. overexposedunderexposed Do. 12.06.2025 1000 1900 Uhr NSDokumentationszentrum München 04 Juni bis 10 Mai Erinnerung ist... Do. 12.06.2025 1000 1900 Uhr NSDokumentationszentrum München 04 Juni bis 19 Okt. overexposedunderexposed Fr. 13.06.2025 1000 1900 Uhr NSDokumentationszentrum München 04 Juni bis 10 Mai Erinnerung ist... Fr. 13.06.2025 1000 1900 Uhr NSDokumentationszentrum München 04 Juni bis 10 Mai Erinnerung ist... Sa. 14.06.2025 1000 1900 Uhr NSDokumentationszentrum München 04 Juni bis 19 Okt. overexposedunderexposed Sa. 14.06.2025 1000 1900 Uhr NSDokumentationszentrum München 04 Juni bis 19 Okt. overexposedunderexposed So. 15.06.2025 1000 1900 Uhr NSDokumentationszentrum München 04 Juni bis 10 Mai Erinnerung ist... So. 15.06.2025 1000 1900 Uhr NSDokumentationszentrum München 04 Juni bis 19 Okt. overexposedunderexposed Di. 17.06.2025 1000 1900 Uhr NSDokumentationszentrum München 04 Juni bis 10 Mai Erinnerung ist... Di. 17.06.2025 1000 1900 Uhr NSDokumentationszentrum München 04 Juni bis 10 Mai Erinnerung ist... Mi. 18.06.2025 1000 1900 Uhr NSDokumentationszentrum München 04 Juni bis 19 Okt. overexposedunderexposed Mi. 18.06.2025 1000 1900 Uhr NSDokumentationszentrum München 04 Juni bis 19 Okt. overexposedunderexposed Do. 19.06.2025 1000 1900 Uhr NSDokumentationszentrum München 04 Juni bis 10 Mai Erinnerung ist... Do. 19.06.2025 1000 1900 Uhr NSDokumentationszentrum München 04 Juni bis 19 Okt. overexposedunderexposed Fr. 20.06.2025 1000 1900 Uhr NSDokumentationszentrum München 04 Juni bis 10 Mai Erinnerung ist... Fr. 20.06.2025 1000 1900 Uhr NSDokumentationszentrum München Seitennummerierung Erste Seite 1 Seite 2 Seite 3 Seite 4 Seite 5 Seite 6 Seite 7 Letzte Seite Nächste Seite\n",
      "https://www.muenchen.de/sehenswuerdigkeiten/tourismus\n",
      "us KulturHighlights Perlen der Münchner Kultur Konzertsäle, Museen, Theater HotelÜbersicht Unterkünfte in allen Preislagen buchen Hier im Überblick Sehenswürdigkeiten Bauwerke, Kirchen, Schlösser, Parks So schön ist München München mal anders Eure Stadtführung durch München mit oder ohne Guide LGBTIQ in München Tipps und Informationen für die queere Community Sehenswerte UBahnStationen Kunstwerke im Untergrund Sehenswerte UBahnhöfe Immer einen Besuch wert Museen in München Die wichtigsten Museen und Galerien Münchens Olympiapark Erholen, Staunen, Erleben im weitläufigen Park Besucherservice Tierpark Hellabrunn Infos zu Öffnungszeiten, Eintrittspreisen und Anfahrt ServiceTipps für den MünchenBesuch MVG Infos zu UBahn, Bus und Tram Tickets, Fahrpläne, LiveAuskunft, Mieträder Die Infos Touristeninformation Die wichtigsten InfoPoints Hier gibts Hinweise für Touristen Stadtrundfahrten in München. Eine Übersicht der Anbieter Stadtführungen Bei diesen Anbietern wird die Städtetour zum Erlebnis Umzugsunternehmen in München und Umgebung\n",
      "https://www.muenchen.de/en/node/94241\n",
      "Ad Ausstellung mit der Großen Welle Farben Japans Holzschnitte aus der Sammlung der Bayerischen Staatsbibliothek Erstmals präsentiert die Bayerische Staatsbibliothek ihre japanischen Farbholzschnitte in einer Ausstellung Von 27. März bis 6. Juli 2025 sind Werke bekannter japanischer Künstler wie Utamaro, Hiroshige, Yoshitoshi, Hasui oder Hokusai zu sehen. Ein Highlight der Ausstellung bilden drei Farbholzschnitte aus Hokusais berühmter Holzschnittserie Sechsunddreißig Ansichten des Berges Fuji, darunter die weltbekannte Große Welle. Datum und Veranstaltungsort 04.06.2025 1000 until 1800 h Bayerische Staatsbibliothek Bayerische Staatsbibliothek More actions Share on Facebook Share via WhatsApp Copy link Originalexponate und großformatige Reproduktionen Künstlerische Exzellenz in Verbindung mit handwerklichem Können zeichnen den japanischen Farbholzschnitt aus. Die Bandbreite der Motive reicht von ausdruckstarken Theaterszenen, reizenden Schönheiten über urbane Szenen bis hin zu kontemplativen Landschaften sowie detailreichen Pflanzen und Tierdarstellungen. In den rund 130 Werken werden die vielfältigen kulturhistorischen Bezüge und besonderen Stilmerkmale des Holzschnitts sichtbar. Der zeitliche Bogen spannt sich von der Mitte des 18. Jahrhunderts bis zu den shinhanga , den sogenannten Neuen Drucken des 20. Jahrhunderts. Die Originalexponate werden begleitet durch thematische Stationen mit großformatigen Reproduktionen, in denen die Detailfülle der Holzschnitte sichtbar wird. Die Ausstellung streift am Rande auch das Thema Manga und Anime. Öffnungszeiten Sonntag bis Freitag 1018 Uhr, an Samstagen und Feiertagen geschlossen. Führungen Kostenlose Führungen jeden Dienstag um 1630 Uhr In cooperation with the cultural department and the museums This article about Munichs museums is sponsored by the Cultural Department of the City of Munich and was conceived in cooperation with the State Agency for NonState Museums in Bavaria. The content has been coordinated between the participating museums and , the official city portal. This might also interest you Dates Wed , 04. June 2025 1000 Bayerische Staatsbibliothek Thu , 05. June 2025 1000 Bayerische Staatsbibliothek Fri , 06. June 2025 1000 Bayerische Staatsbibliothek Sun , 08. June 2025 1000 Bayerische Staatsbibliothek Tue , 10. June 2025 1000 Bayerische Staatsbibliothek Wed , 11. June 2025 1000 Bayerische Staatsbibliothek Thu , 12. June 2025 1000 Bayerische Staatsbibliothek Fri , 13. June 2025 1000 Bayerische Staatsbibliothek Sun , 15. June 2025 1000 Bayerische Staatsbibliothek Mon , 16. June 2025 1000 Bayerische Staatsbibliothek Tue , 17. June 2025 1000 Bayerische Staatsbibliothek Wed , 18. June 2025 1000 Bayerische Staatsbibliothek Fri , 20. June 2025 1000 Bayerische Staatsbibliothek Sun , 22. June 2025 1000 Bayerische Staatsbibliothek Mon , 23. June 2025 1000 Bayerische Staatsbibliothek Tue , 24. June 2025 1000 Bayerische Staatsbibliothek Wed , 25. June 2025 1000 Bayerische Staatsbibliothek Thu , 26. June 2025 1000 Bayerische Staatsbibliothek Fri , 27. June 2025 1000 Bayerische Staatsbibliothek Sun , 29. June 2025 1000 Bayerische Staatsbibliothek Mon , 30. June 2025 1000 Bayerische Staatsbibliothek Tue , 01. July 2025 1000 Bayerische Staatsbibliothek Wed , 02. July 2025 1000 Bayerische Staatsbibliothek Thu , 03. July 2025 1000 Bayerische Staatsbibliothek Fri , 04. July 2025 1000 Bayerische Staatsbibliothek Sun , 06. July 2025 1000 Bayerische Staatsbibliothek\n",
      "https://www.muenchen.de/sehenswuerdigkeiten/museen/kunsthalle-muenchen\n"
     ]
    },
    {
     "name": "stderr",
     "output_type": "stream",
     "text": [
      " 77%|███████▋  | 27/35 [00:14<00:04,  1.66it/s]"
     ]
    },
    {
     "name": "stdout",
     "output_type": "stream",
     "text": [
      "Kunsthalle München Ein vielfältiges Kunstprogramm im Herzen der Stadt Kunsthalle München Ausstellungen aus Malerei, Fotografie und Design Drei bis vier Ausstellungen zeigt die international renommierte Kunsthalle in den Münchner Fünf Höfen jedes Jahr. Dabei werden alle Facetten der Kunst beleuchtet. Adresse und Öffnungszeiten Theatinerstr. 8 , 80333 München Öffnungszeiten Mi geöffnet 1000 2000 Mo 1000 2000 Di 1000 2000 Mi 1000 2000 Do 1000 2000 Fr 1000 2000 Sa 1000 2000 So 1000 2000 Hinweis An jedem dritten Mittwoch des Monats ist die Ausstellung zur Afterwork bis 22 Uhr geöffnet. Sonderöffnung für Schulklassen jeden Mittwoch von 910 Uhr Anfahrt Kunsthalle München Weitere Aktionen Teilen auf Facebook Teilen via WhatsApp Kopieren Jeffrey Milstein Schaut euch Civilization an Von 11.04.24.8.25 folgt die Kunsthalle München den Spuren der Menschheit rund um den Globus aus dem Blickwinkel von über 100 international renommierten Fotografinnen. Erfahrt mehr Wissenswertes über einen Besuch in der Kunsthalle Das Programm der Kunsthalle München umfasst verschiedenste Epochen und Kunststile Von Malerei über Design und Mode bis zur Fotografie war hier schon Vieles zu sehen. Das Spektrum reicht von Pompeji bis Peter Lindbergh . Was ist geboten? Die Kunsthalle München hat keine eigene Sammlung, sondern veranstaltet Wechselausstellungen. Die inhaltlichen Möglichkeiten sind somit unbegrenzt. Das Themenspektrum reicht von der Kunst der Antike bis zur Gegenwart. Was ist besonders? Sowohl die Architektur des Gebäudes in den Fünf Höfen von Herzog de Meuron , als auch die oft aufwendig inszenierten Kunstausstellungen . Und Dienstags gibts 50 Prozent Rabatt auf alle Eintrittspreise. Auf einen Blick Die wichtigsten Infos zur Kunsthalle München Lage In den Fünf Höfen, zwischen Odeonsplatz und Marienplatz MuseumsKategorie Kunst Kinderprogramm Zu jeder Ausstellung gibts ein umfangreiches Führungsprogramm und Specials für Kinder und Jugendliche. Empfohlene Aufenthaltsdauer 1 bis 2 Stunden Anfahrt Alle SBahnen bzw. U3U6 bis Marienplatz, U3U4U5U6 oder Bus 100 bis Odeonsplatz, Tram 19 bis Theatinerstraße Parken Tiefgarage vor der Oper oder in der Parkgarage am Salvatorplatz Einige bisherige AusstellungsHighlights Zwischen 250.000 bis 300.000 Gäste besuchen die Kunsthalle München jährlich. Sie ist eines der beliebtesten Ausstellungshäuser in ganz Deutschland. Kunst und Kulturen der ganzen Welt finden hier ihren glanzvollen Auftritt, ob Malerei, Skulptur, Grafik, Fotografie, Kunsthandwerk oder Design. Als wichtigstes Kriterium für die Auswahl der Ausstellungsthemen gilt die künstlerische Qualität. Zu den Highlights zählten u.a. bereits Thierry Mugler , Samurai , Velázquez und Spaniens Goldene Zeit , Keith Haring und DixBeckmann sowie die Ausstellung JR Chronicles , die bisher größte Retrospektive des französischen FotoKünstlers JR . Zuletzt war die Ausstellung ViktorRolf. Fashion Statements zu sehen die erste große Retrospektive des niederländischen Designerduos in Deutschland. Previous slide View image in modal View image in modal View image in modal View image in modal View image in modal View image in modal View image in modal View image in modal View image in modal View image in modal View image in modal View image in modal Next slide Führungsprogramm durch die Ausstellungen Die Kunsthalle München bietet zu jeder Ausstellung ein breites Führungsangebot Öffentliche Führungen Die Münchner Volkshochschule bietet zu jeder Ausstellung öffentliche Führungen an Immer am Montag, Mittwoch, Donnerstag und Freitag. AudioFührungen Eine AudioTour in deutscher oder englischer Sprache führt euch anhand ausgewählter Exponate durch die Ausstellung. AfterworkFührungen Jeden dritten Mittwoch im Monat finden ab ca. 18 Uhr AfterworkFührungen statt. Die Ausstellung ist bis 22 Uhr geöffnet. Kuratorinnenführungen Die Kuratorinnen führen an mehreren Terminen selbst durch die aktuelle Ausstellung. Private Führungen Die Kunsthalle München vermittelt auch für private Gruppen Kunsthistorikerinnen oder Expertinnen aus verschiedenen Fachbereichen für Touren auf Deutsch oder in ausgewählten Fremdsprachen. Eine Anmeldung vorab ist erforderlich. Kinderprogramm und Begleitheft Robert Haas, Kunsthalle München Die jungen Besucherinnen werden in der Kunsthalle München spielerisch durch die aktuelle Ausstellung geführt Für Kinder von 8 bis 12 Jahren gibt es an der Kasse ein kostenloses Heft, das spielerisch durch die Ausstellung führt. Zudem gibt es ein regelmäßiges Führungsprogramm. Angeboten werden Kinderführungen in den Ferien für Kinder im Alter von 6 bis 12 Jahren . Kunst mit Baby Eine Stunde raus aus dem Alltagstrott und rein ins Museum. Babygerechte Führungen für Vätern und Mütter mit Kindern bis ein Jahr Sonderöffnungszeiten für Schulklassen Für Schulgruppen gibt es nach Anmeldung zusätzliche Termine mittwochs von 9 bis 10 Uhr. Museumsshop und Café Das CaféRestaurant Theatiner 8 bietet einen tollen Ausblick auf die Hängenden Gärten und die besondere Architektur des Gebäudes. Im Shop der Kunsthalle München findet man passend zur jeweiligen Ausstellung ein eigens zusammengestelltes Sortiment an Produkten. Eintrittspreise der Kunsthalle München Die Eintrittspreise der Kunsthalle München richten sich immer nach der jeweiligen Ausstellung. Ermäßigungen gibt es für Seniorinnen, Kinder und Jugendliche, Schülerinnen, Studierende, Auszubildende sowie Arbeitslose und Menschen mit Behinderung. Am Dienstag reduzieren sich alle Eintrittspreise um die Hälfte . Veranstaltungen und ClubMusik, Afterwork Co Michael Naumann Tiefenpixel Ausstellungsansicht Thierry Mugler Couturissime, Kunsthalle München Zu jeder Ausstellung gibt es ein umfangreiches Begleitprogramm Vorträge Talks mit interessanten Referentinnen beleuchten verschiedene Aspekte rund um das Thema der Ausstellung. AfterworkKH Jeden dritten Mittwoch im Monat die Ausstellung bis 22 Uhr besuchen und den Abend anschließend im CaféRestaurant Theatiner8 ausklingen lassen. ReAct! Kunst Club Einmal pro Ausstellung tun sich zudem die Kunsthalle München und der Club Harry Klein zusammen, um Kunst neu erlebbar zu machen. Die Ausstellung ist bis 23 Uhr geöffnet, Visual Artists und DJs sorgen auf der Tanzfläche im Café der Kunsthalle für den passenden Sound bis Mitternacht. Danach wird im Harry Klein bis spät in die Nacht weitergefeiert. OnlineAngebot Unter www.kunsthallemuc.de sind unter anderem die Ausstellungen Thierry Mugler Couturissime, Mit Leib und Seele. Münchner Rokoko und Du bist Faust. Goethes Drama in der Kunst als 360Rundgang virtuell erlebbar. Architektur Herzog de Meurons Museumsgebäude in den Fünf Höfen Kunsthalle München Auch die Architektur des Museumsgebäudes ist außergewöhnlich und preisgekrönt Die Kunsthalle München befindet sich im zweiten Obergeschoss der Fünf Höfe. Für die Architektur der Kunsthalle München wie auch für die gesamten Fünf Höfe sind die Schweizer Architekten Herzog de Meuron verantwortlich. Die Blickwinkel, etwa auf den Perusahof oder die Salvatorpassage, sind schon beim Gang zur Kunsthalle ungewohnt. Auch vom Café oder Shop aus hat man eine interessante Perspektive auf die außergewöhnliche Architektur der Fünf Höfe. Ihr Ensemble mitten in der Münchner Altstadt ist ein preisgekröntes Beispiel für die neuere Architektur in München. Barrierefreiheit und Angebote für Menschen mit Behinderung Sämtliche Räumlichkeiten der Kunsthalle München sind barrierefrei zugänglich . Zwei Aufzüge gewährleisten den Zugang zu den Ausstellungräumen, dem Shop, dem Café sowie der Garderobe und den Toiletten. BehindertenParkplätze in der Nähe sind vorhanden In der Prannerstraße 7 sowie am Salvatorplatz 2. Ein behindertengerechtes WC befindet sich direkt auf der Ausstellungsebene. Führungen Induktionsschleifen für Hörgeräte für den Audioguide sind auf Anfrage erhältlich. Alle Ausstellungstexte und Beschriftungen sind kontrastreich, gut lesbar und werden auch in einfacher Sprache angeboten. MuseumsGeschichte Eröffnung im Jahr 1985 Kunsthalle München Seit 2001 befindet sich die Kunsthalle München in ihren jetzigen Räume in den Fünf Höfen Die HypoKulturstiftung wurde im Jahr 1983 anlässlich des 150jährigen Firmenjubiläums der damaligen Wechsel und Hypothekenbank gegründet. Am 14.6.1985 öffnete dann die Kunsthalle München ihre Pforten, die sich auch damals schon zwischen Marien und Odeonsplatz befand. Im Jahr 2001 wurden dann die jetzigen Räume in den Fünf Höfen bezogen, deren Ausstellungsfläche ungefähr ein Drittel größer ist als in der bisherigen Kunsthalle. In Kooperation mit dem Kulturreferat und den Museen Dieser Beitrag über die Münchner Museen wird vom Kulturreferat der Landeshauptstadt München gefördert und ist in Kooperation mit der Landesstelle für die nichtstaatlichen Museen in Bayern konzipiert worden. Die Inhalte wurden zwischen den beteiligten Museen und , dem offiziellen Stadtportal, abgestimmt. Das könnte euch auch interessieren Münchens Top Sehenswürdigkeiten Die Highlights von Marienplatz bis Frauenkirche So wird das Wetter Sonne oder Regen? Die Wetterprognose Webcams mit LiveBildern in München Was am Marienplatz, im Olympiapark und an der Isar zu sehen ist Auf einen Blick Kunsthalle München Theatinerstr. 8 80333 München Tel 4989224412 kontaktkunsthallemuc.de Korrektur vorschlagen Öffnungszeiten This is a carousel with rotating cards. Use the previous and next buttons to navigate, and Enter to activate cards. Vorheriger Slide Mo 1000 2000 Di 1000 2000 Mi 1000 2000 Do 1000 2000 Fr 1000 2000 Sa 1000 2000 So 1000 2000 Nächster Slide 1 30 von 82 Veranstaltungen 04 Juni bis 24 Aug Civilization Wie wir heute leben Mi. 04.06.2025 1000 2000 Uhr Kunsthalle München 04 Juni bis 24 Aug Civilization Wie wir heute leben Do. 05.06.2025 1000 2000 Uhr Kunsthalle München 04 Juni bis 24 Aug Civilization Wie wir heute leben Fr. 06.06.2025 1000 2000 Uhr Kunsthalle München 04 Juni bis 24 Aug Civilization Wie wir heute leben Sa. 07.06.2025 1000 2000 Uhr Kunsthalle München 04 Juni bis 24 Aug Civilization Wie wir heute leben So. 08.06.2025 1000 2000 Uhr Kunsthalle München 04 Juni bis 24 Aug Civilization Wie wir heute leben Mo. 09.06.2025 1000 2000 Uhr Kunsthalle München 04 Juni bis 24 Aug Civilization Wie wir heute leben Di. 10.06.2025 1000 2000 Uhr Kunsthalle München 04 Juni bis 24 Aug Civilization Wie wir heute leben Mi. 11.06.2025 1000 2000 Uhr Kunsthalle München 04 Juni bis 24 Aug Civilization Wie wir heute leben Do. 12.06.2025 1000 2000 Uhr Kunsthalle München 04 Juni bis 24 Aug Civilization Wie wir heute leben Fr. 13.06.2025 1000 2000 Uhr Kunsthalle München 04 Juni bis 24 Aug Civilization Wie wir heute leben Sa. 14.06.2025 1000 2000 Uhr Kunsthalle München 04 Juni bis 24 Aug Civilization Wie wir heute leben So. 15.06.2025 1000 2000 Uhr Kunsthalle München 04 Juni bis 24 Aug Civilization Wie wir heute leben Mo. 16.06.2025 1000 2000 Uhr Kunsthalle München 04 Juni bis 24 Aug Civilization Wie wir heute leben Di. 17.06.2025 1000 2000 Uhr Kunsthalle München 04 Juni bis 24 Aug Civilization Wie wir heute leben Mi. 18.06.2025 1000 2000 Uhr Kunsthalle München 04 Juni bis 24 Aug Civilization Wie wir heute leben Do. 19.06.2025 1000 2000 Uhr Kunsthalle München 04 Juni bis 24 Aug Civilization Wie wir heute leben Fr. 20.06.2025 1000 2000 Uhr Kunsthalle München 04 Juni bis 24 Aug Civilization Wie wir heute leben Sa. 21.06.2025 1000 2000 Uhr Kunsthalle München 04 Juni bis 24 Aug Civilization Wie wir heute leben So. 22.06.2025 1000 2000 Uhr Kunsthalle München 04 Juni bis 24 Aug Civilization Wie wir heute leben Mo. 23.06.2025 1000 2000 Uhr Kunsthalle München 04 Juni bis 24 Aug Civilization Wie wir heute leben Di. 24.06.2025 1000 2000 Uhr Kunsthalle München 04 Juni bis 24 Aug Civilization Wie wir heute leben Mi. 25.06.2025 1000 2000 Uhr Kunsthalle München 04 Juni bis 24 Aug Civilization Wie wir heute leben Do. 26.06.2025 1000 2000 Uhr Kunsthalle München 04 Juni bis 24 Aug Civilization Wie wir heute leben Fr. 27.06.2025 1000 2000 Uhr Kunsthalle München 04 Juni bis 24 Aug Civilization Wie wir heute leben Sa. 28.06.2025 1000 2000 Uhr Kunsthalle München 04 Juni bis 24 Aug Civilization Wie wir heute leben So. 29.06.2025 1000 2000 Uhr Kunsthalle München 04 Juni bis 24 Aug Civilization Wie wir heute leben Mo. 30.06.2025 1000 2000 Uhr Kunsthalle München 04 Juni bis 24 Aug Civilization Wie wir heute leben Di. 01.07.2025 1000 2000 Uhr Kunsthalle München 04 Juni bis 24 Aug Civilization Wie wir heute leben Mi. 02.07.2025 1000 2000 Uhr Kunsthalle München 04 Juni bis 24 Aug Civilization Wie wir heute leben Do. 03.07.2025 1000 2000 Uhr Kunsthalle München Seitennummerierung Erste Seite 1 Seite 2 Seite 3 Letzte Seite Nächste Seite\n",
      "https://www.muenchen.de/sehenswuerdigkeiten/museen/museum-fuer-abguesse\n"
     ]
    },
    {
     "name": "stderr",
     "output_type": "stream",
     "text": [
      " 86%|████████▌ | 30/35 [00:16<00:02,  1.77it/s]"
     ]
    },
    {
     "name": "stdout",
     "output_type": "stream",
     "text": [
      "Abgussmuseum München Antike Statuen und Kunstwerke aus Gips Museum für Abgüsse Klassischer Bildwerke in München Infos und Tipps Im Museum für Abgüsse Klassischer Bildwerke sind rund 2.000 Repliken griechischer und römischer Skulpturen und Reliefs in voller Größe zu sehen und das mitten in München. Adresse und Öffnungszeiten KatharinavonBoraStr. 10 , 80333 München Öffnungszeiten Mi geöffnet 1000 2000 Mo 1000 2000 Di 1000 2000 Mi 1000 2000 Do 1000 2000 Fr 1000 2000 Sa geschlossen So geschlossen Hinweis SaSoFeiertag geschlossen. Anfahrt Museum für Abgüsse Klassischer Bildwerke München, Foto R. Hessing Weitere Aktionen Teilen auf Facebook Teilen via WhatsApp Kopieren Warum lohnt sich ein Besuch im Abgussmuseum? U. Hofstätter, Museum für Abgüsse Klassischer Bildwerke Rund 2.000 Abgüsse griechischer und römischer Skulpturen und Reliefs stehen hier Seite an Seite Bei Poseidon denkt ihr an ein griechisches Restaurant und bei Hermes an Pakete? Höchste Zeit, die Sagenwelt der Griechen und Römer kennenzulernen bei freiem Eintritt und werktags sogar bis 20 Uhr! Was ist geboten? Rund 2.000 Abgüsse griechischer und römischer Skulpturen und Reliefs stehen hier Seite an Seite. Die Kopien aus Gips entsprechen den Originalen exakt in Größe und Aussehen. Viele Objekte wurden im Krieg zerstört oder waren in Privatbesitz. Das Museum für Abgüsse Klassischer Bildwerke macht verschollene oder verloren gegangene Kunstwerke für jeden sichtbar. Aphrodite, Zeus, Julius Caesar, das ParthenonModell oder Porträtbüsten Die Fülle an Skulpturen und Reliefs ist beeindruckend und entfaltet in den hohen Räumen ihre Wirkung ganz besonders. Was ist das Besondere? Zeichnen lernen leicht gemacht Das Abgussmuseum ist der perfekte Ort, um Proportionen zu studieren. Das Wichtigste zum Abgussmuseum auf einen Blick Lage Im Kunstareal beim Königsplatz MuseumsKategorie Kunst, Kultur Kinderprogramm Entdeckerhefte, Workshops, Familientage und Ferienprogramme Empfohlene Aufenthaltsdauer ca. 2 Stunden Anfahrt U2 oder Bus 100 bis Königsplatz, SBahn bis Karlsplatz Parken Kostenpflichtige Parkplätze vorhanden AusstellungsHighlights Meisterwerke der antiken Kunst Museum für Abgüsse Klassischer Bildwerke München, Foto R. Hessing Eines der bekanntesten Ausstellungshighlights ist die Statue des altgriechischen Gottes Herakles Die Sammlung umfasst ein reiches Spektrum antiker Plastik vom 8. Jahrhundert vor Christus bis zum 5. Jahrhundert nach Christus. Auch Meisterwerke der antiken Kunst können hier aus nächster Nähe betrachtet werden, wie der berühmte Laokoon, die Nike von Samothrake, der Herakles Farnese und viele mehr. Herausragende Einzelstücke sind Das Gipsmodell des Parthenon auf der Akropolis in Athen Das Modell im Maßstab 120 ist über vier Meter lang und gibt eine umfassenden Blick auf die Architektur der Akropolis im 5. Jahrhundert vor Christus frei. Der Konstantinsbogen in Rom aus dem 19. Jahrhundert Der römische Senat stiftete den Ehrenbogen nach dem Sieg Konstantins I. über Maxentius im Jahre 312 nach Christus. Das Modell des Museums im Maßstab 120 entstand in den 1880er Jahren. Abguss der DoryphorosStatue Für ihren Schöpfer, den Bildhauer Polyklet, verkörperte das Kunstwerk aus dem 5. Jahrhundert vor Christus den idealen Menschen mit idealen Proportionen. Die OriginalStatue aus Bronze ging verloren, sie wurde aber viele Male kopiert. Der Diskobol von Myron Hier handelt es sich um die Rekonstruktion einer verlorenen Statue aus dem 5. Jahrhundert vor Christus anhand bloßer Fragmente von römischen Kopien. Ein schönes Beispiel dafür, wie wichtig Abgüsse auch als Forschungsobjekte sind, um antike Fragmente und Überbleibsel zu visualisieren. Über die umfangreiche Dauerausstellung hinaus finden auch regelmäßige Sonderausstellungen zu archäologischen, kunsthistorischen und kulturgeschichtlichen Themen oder mit und zu zeitgenössischen Künstlerinnen statt. Previous slide View image in modal View image in modal View image in modal View image in modal View image in modal View image in modal Next slide Eintritt und Führungen Der Eintritt zum Abgussmuseum ist frei . Alle zwei Wochen, meist dienstags, finden zudem öffentliche und kostenlose Führungen zu unterschiedlichen Themen statt. Kinderprogramm Museum für Abgüsse Klassischer Bildwerke München Auch für Kinder ist im Abgussmuseum immer etwas Spannendes geboten Gemeinsam mit dem Museumspädagogischen Zentrum München veranstaltet das Museum ein buntes und spannendes Kinderprogramm mit Workshops, Familientagen und Ferienprogrammen. Veranstaltungen und Bei der Vortragsreihe Antikes Duett , die das Abgussmuseum gemeinsam mit der Münchner Volkshochschule veranstaltet, wird die Antike mit Hilfe von historischen Bildern und Texten zum Leben erweckt. Auch weitere wie Lesungen, Konzerte und Tanzvorführungen stehen regelmäßig auf dem Programm. Gebäudearchitektur R. Hessing, Museum für Abgüsse Klassischer Bildwerke München In den hellen Räumlichkeiten des Abgussmuseums kommen die Statuen gut zur Geltung Das Abgussmuseum ist in zwei Lichthöfen und den Galerien des Hauses der Kulturinstitute untergebracht, das auch das Zentralinstitut für Kunstgeschichte und vier weitere Kunst und Kulturinstitutionen beherbergt. Das Gebäude stammt aus den Jahren 19341935 und diente damals als Verwaltungsbau der NSDAP. Architekt war Paul Ludwig Troost. Barrierefreiheit und Angebote für Menschen mit Behinderung Das Museum bietet einen barrierefreien Zugang über einen Außenaufzug am Südtor, den die Mitarbeiterinnen bedienen . Im Erdgeschoss sind alle Bereiche barrierefrei zugänglich, die oberen Galerien sind nur per Fahrstuhl erreichbar . Der Behindertenparkplatz befindet sich direkt am Südtor des Hauses. Eine barrierefreie Toilette steht im 1. Stockwerk zur Verfügung. Museumsgeschichte Das Museum für Abgüsse Klassischer Bildwerke blickt auf eine wechselvolle Geschichte zurück Es wurde 1869 als eine der ersten öffentlichen Sammlungen Bayerns gegründet und war in den Münchner Hofgartenarkaden untergebracht. Das Museum wuchs bald zu einer der größten Sammlungen seiner Art deutschlandweit an. In den 1930er Jahren erfolgte eine vorübergehende Schließung, da in den Räumlichkeiten die Ausstellung Entartete Kunst gezeigt wurde. Nach der nahezu vollständigen Zerstörung im Zweiten Weltkrieg 1945 wurde die Sammlung im Haus der Kulturinstitute insbesondere ab den 1970er Jahren wiederaufgebaut. Heute gehört sie wieder zu den vier größten deutschen AbgussSammlungen nach antiker Plastik. In Kooperation mit dem Kulturreferat und den Museen Dieser Beitrag über die Münchner Museen wird vom Kulturreferat der Landeshauptstadt München gefördert und ist in Kooperation mit der Landesstelle für die nichtstaatlichen Museen in Bayern konzipiert worden. Die Inhalte wurden zwischen den beteiligten Museen und , dem offiziellen Stadtportal, abgestimmt. Das könnte euch auch interessieren Münchens Top Sehenswürdigkeiten Die Highlights von Marienplatz bis Frauenkirche So wird das Wetter Sonne oder Regen? Die Wetterprognose Webcams mit LiveBildern in München Was am Marienplatz, im Olympiapark und an der Isar zu sehen ist Auf einen Blick Museum für Abgüsse KatharinavonBoraStr. 10 80333 München Tel 498928927690695 Fax 498928927680 mfalrz.uni Korrektur vorschlagen Barrierefreier Zugang Treppenlift vorhanden Maße 90, Maße 110 Personal nötig, bitte klingeln 1 Platz auf dem Parkplatz rechts neben dem Museum U2, U8, Bus 58, 68, 100 Königsplatz, Tram 27, 28, N27 Karolinenplatz Barrierefreiheit im Gebäude Aufzüge vorhanden Barrierefreies WC vorhanden im 1. Stock über Lift Barrierefreiheit weitere Information Klappstuhlverleih Eintritt frei Öffnungszeiten This is a carousel with rotating cards. Use the previous and next buttons to navigate, and Enter to activate cards. Vorheriger Slide Mo 1000 2000 Di 1000 2000 Mi 1000 2000 Do 1000 2000 Fr 1000 2000 Sa geschlossen So geschlossen Nächster Slide 1 30 von 78 Veranstaltungen 04 Juni bis 19 Sep Ein gut Theil Eigenheit Mi. 04.06.2025 1000 2000 Uhr Museum für Abgüsse 04 Juni bis 19 Sep Ein gut Theil Eigenheit Do. 05.06.2025 1000 2000 Uhr Museum für Abgüsse 04 Juni bis 19 Sep Ein gut Theil Eigenheit Fr. 06.06.2025 1000 2000 Uhr Museum für Abgüsse 04 Juni bis 19 Sep Ein gut Theil Eigenheit Mo. 09.06.2025 1000 2000 Uhr Museum für Abgüsse 04 Juni bis 19 Sep Ein gut Theil Eigenheit Di. 10.06.2025 1000 2000 Uhr Museum für Abgüsse 04 Juni bis 19 Sep Ein gut Theil Eigenheit Mi. 11.06.2025 1000 2000 Uhr Museum für Abgüsse 04 Juni bis 19 Sep Ein gut Theil Eigenheit Do. 12.06.2025 1000 2000 Uhr Museum für Abgüsse 04 Juni bis 19 Sep Ein gut Theil Eigenheit Fr. 13.06.2025 1000 2000 Uhr Museum für Abgüsse 04 Juni bis 19 Sep Ein gut Theil Eigenheit Mo. 16.06.2025 1000 2000 Uhr Museum für Abgüsse 04 Juni bis 19 Sep Ein gut Theil Eigenheit Di. 17.06.2025 1000 2000 Uhr Museum für Abgüsse 04 Juni bis 19 Sep Ein gut Theil Eigenheit Mi. 18.06.2025 1000 2000 Uhr Museum für Abgüsse 04 Juni bis 19 Sep Ein gut Theil Eigenheit Do. 19.06.2025 1000 2000 Uhr Museum für Abgüsse 04 Juni bis 19 Sep Ein gut Theil Eigenheit Fr. 20.06.2025 1000 2000 Uhr Museum für Abgüsse 04 Juni bis 19 Sep Ein gut Theil Eigenheit Mo. 23.06.2025 1000 2000 Uhr Museum für Abgüsse 04 Juni bis 19 Sep Ein gut Theil Eigenheit Di. 24.06.2025 1000 2000 Uhr Museum für Abgüsse 04 Juni bis 19 Sep Ein gut Theil Eigenheit Mi. 25.06.2025 1000 2000 Uhr Museum für Abgüsse 04 Juni bis 19 Sep Ein gut Theil Eigenheit Do. 26.06.2025 1000 2000 Uhr Museum für Abgüsse 04 Juni bis 19 Sep Ein gut Theil Eigenheit Fr. 27.06.2025 1000 2000 Uhr Museum für Abgüsse 04 Juni bis 19 Sep Ein gut Theil Eigenheit Mo. 30.06.2025 1000 2000 Uhr Museum für Abgüsse 04 Juni bis 19 Sep Ein gut Theil Eigenheit Di. 01.07.2025 1000 2000 Uhr Museum für Abgüsse 04 Juni bis 19 Sep Ein gut Theil Eigenheit Mi. 02.07.2025 1000 2000 Uhr Museum für Abgüsse 04 Juni bis 19 Sep Ein gut Theil Eigenheit Do. 03.07.2025 1000 2000 Uhr Museum für Abgüsse 04 Juni bis 19 Sep Ein gut Theil Eigenheit Fr. 04.07.2025 1000 2000 Uhr Museum für Abgüsse 04 Juni bis 19 Sep Ein gut Theil Eigenheit Mo. 07.07.2025 1000 2000 Uhr Museum für Abgüsse 04 Juni bis 19 Sep Ein gut Theil Eigenheit Di. 08.07.2025 1000 2000 Uhr Museum für Abgüsse 04 Juni bis 19 Sep Ein gut Theil Eigenheit Mi. 09.07.2025 1000 2000 Uhr Museum für Abgüsse 04 Juni bis 19 Sep Ein gut Theil Eigenheit Do. 10.07.2025 1000 2000 Uhr Museum für Abgüsse 04 Juni bis 19 Sep Ein gut Theil Eigenheit Fr. 11.07.2025 1000 2000 Uhr Museum für Abgüsse 04 Juni bis 19 Sep Ein gut Theil Eigenheit Mo. 14.07.2025 1000 2000 Uhr Museum für Abgüsse 04 Juni bis 19 Sep Ein gut Theil Eigenheit Di. 15.07.2025 1000 2000 Uhr Museum für Abgüsse Seitennummerierung Erste Seite 1 Seite 2 Seite 3 Letzte Seite Nächste Seite\n",
      "https://www.muenchen.de/en/node/96219\n",
      "Ad Zentralinstitut für Kunstgeschichte Ausstellung über die Poesie eines Archivs Die Unterlagen befinden sich im Zustand der Ablage Wie poetisch kann Verwaltung sein? Acht Künstlerinnen haben sich mit dem Archiv des Künstlerverbund im Haus der Kunst e.V. auseinandergesetzt. Vom 20. März bis 4. Juli 2025 sind ihre Arbeiten unter dem Titel Die Unterlagen befinden sich im Zustand der Ablage nun in einer Sonderausstellung im Zentralinstitut für Kunstgeschichte zu sehen. Datum und Veranstaltungsort 04.06.2025 1000 until 2000 h Zentralinstitut für Kunstgeschichte Raimund Ritz More actions Share on Facebook Share via WhatsApp Copy link Das ist im Zentralinstitut für Kunstgeschichte zu sehen Acht Künstlerinnen setzen sich mit der derzeitigen dornröschenhaften Situation des Magazins im Haus der Kunst auseinander und entwickeln vielfältige Arbeiten zum Thema. Die künstlerischen Positionen bewegen sich im Spannungsfeld zwischen Archivwesen und Kunst, Geschichte und Gegenwart, historischer Faktenlage und Interpretation. Ihre Arbeiten werden im Dialog mit erstmals öffentlich gezeigten, ausgewählten und kommentierten historischen Dokumenten und Artefakten aus dem Archiv in der Ausstellung im Zentralinstitut für Kunstgeschichte präsentiert. Die Ausstellung ist Teil des Programms der Reihe Public History München 1945 2025 Stunde Null? Wie wir wurden, was wir sind des Kulturreferats der Landeshauptstadt München. Teilnehmende Künstlerinnen Albert Coers, Petra Gerschner, Esther Glück, Andreas Huber, Christoph Nicolaus und Rasha Ragab, Günter Nosch, Stefanie Unruh Über den Künstlerverbund und das Archiv Der Künstlerverbund im Haus der Kunst e.V. ist Nachfolger der 1948 gegründeten Ausstellungsleitung München e.V., die von 1949 bis 2011 die Großen Münchner Kunstausstellungen und weit über 100 Sonderausstellungen im Haus der Kunst ausrichtete. Sie war maßgeblich an der Wiederaufnahme des Ausstellungsbetriebs in München nach Ende des Nationalsozialismus beteiligt. Die kunsthistorische Bedeutung des Archivs Das Archiv der Ausstellungsleitung enthält Quellen aus den Jahren 1948 bis heute. Darunter Korrespondenz, Protokolle, Ausstellerpapiere, Unterlagen zu An und Verkäufen von Kunstobjekten und zu Leihverkehr mit Privatsammlerinnen und sammlern und Museen Zeitungsausschnitte, Organisationsunterlagen zum Münchner Künstlerfasching Fotografien, Klischees und Reprovorlagen sowie Plakate und Kataloge zu den Ausstellungen im Haus der Kunst seit 1949 Das im Haus der Kunst aufbewahrte Archiv ist der Öffentlichkeit nicht zugänglich und wurde bisher noch nicht wissenschaftlich bearbeitet oder ausgewertet. Die Unterlagen bieten vielfältige Anknüpfungspunkte für kunsthistorische Forschungsfragen vom Ausstellungswesen der Nachkriegszeit über Kunstmarkt und Provenienzforschung bis zu Künstlervereinen. Öffentliche Führungen durch die Ausstellung Dienstag, 25. März 2025, 1100 Uhr Führung mit der Kunsthistorikerin Julia Reich und dem Kurator Raimund Ritz Dienstag, 13. Mai 2025, 1100 Uhr Führung mit der Künstlerin Petra Gerschner und dem Kunsthistoriker Christian Fuhrmeister Dienstag, 24. Juni 2025, 1100 Uhr Führung mit der Präsidentin des Künstlerverbund im Haus der Kunst München e.V. Regina HellwigSchmid und der Kunsthistorikerin Julia Reich Die Teilnahme ist kostenfrei. In cooperation with the cultural department and the museums This article about Munichs museums is sponsored by the Cultural Department of the City of Munich and was conceived in cooperation with the State Agency for NonState Museums in Bavaria. The content has been coordinated between the participating museums and , the official city portal. This might also interest you Dates Wed , 04. June 2025 1000 Zentralinstitut für Kunstgeschichte Thu , 05. June 2025 1000 Zentralinstitut für Kunstgeschichte Fri , 06. June 2025 1000 Zentralinstitut für Kunstgeschichte Tue , 10. June 2025 1000 Zentralinstitut für Kunstgeschichte Wed , 11. June 2025 1000 Zentralinstitut für Kunstgeschichte Thu , 12. June 2025 1000 Zentralinstitut für Kunstgeschichte Fri , 13. June 2025 1000 Zentralinstitut für Kunstgeschichte Mon , 16. June 2025 1000 Zentralinstitut für Kunstgeschichte Tue , 17. June 2025 1000 Zentralinstitut für Kunstgeschichte Wed , 18. June 2025 1000 Zentralinstitut für Kunstgeschichte Fri , 20. June 2025 1000 Zentralinstitut für Kunstgeschichte Mon , 23. June 2025 1000 Zentralinstitut für Kunstgeschichte Tue , 24. June 2025 1000 Zentralinstitut für Kunstgeschichte Wed , 25. June 2025 1000 Zentralinstitut für Kunstgeschichte Thu , 26. June 2025 1000 Zentralinstitut für Kunstgeschichte Fri , 27. June 2025 1000 Zentralinstitut für Kunstgeschichte Mon , 30. June 2025 1000 Zentralinstitut für Kunstgeschichte Tue , 01. July 2025 1000 Zentralinstitut für Kunstgeschichte Wed , 02. July 2025 1000 Zentralinstitut für Kunstgeschichte Thu , 03. July 2025 1000 Zentralinstitut für Kunstgeschichte Fri , 04. July 2025 1000 Zentralinstitut für Kunstgeschichte\n",
      "https://www.muenchen.de/en/node/97367\n",
      "Ad Ausstellung im Museum Brandhorst Fünf Freunde. John Cage, Merce Cunningham, Jasper Johns, Robert Rauschenberg, Cy Twombly Unter dem Titel Fünf Freunde nimmt das Museum Brandhorst vom 10. April bis 17. August 2025 einen Künstlerkreis in den Fokus, der die Kunst der Nachkriegszeit in Musik, Tanz, Malerei, Skulptur und Zeichnung entscheidend geprägt hat. Datum und Veranstaltungsort 04.06.2025 1000 until 1800 h Museum Brandhorst Design Parat.cc More actions Share on Facebook Share via WhatsApp Copy link Darum geht es in der Ausstellung John Cage , Merce Cunningham , Jasper Johns , Robert Rauschenberg und Cy Twombly schufen durch ihren intimen Austausch eine besondere Verbindung zwischen den künstlerischen Gattungen und Medien. Mit über hundertfünfzig Kunstwerken, Partituren, Bühnenrequisiten, Kostümen, Fotografien und Archivalien ermöglicht die Schau einen Einblick in das Zusammenspiel der fünf Künstlerfreunde. Das Museum Brandhorst rückt damit auch Cy Twomblys Schaffen, das einen zentralen Sammlungsschwerpunkt bildet, in ein neues Licht. Insgesamt spannt die Ausstellung den Bogen von den 1940er bis in die späten 1970erJahre. Eine Ära, in der die Verflechtung von Kunst, Freundschaft und Liebe zu einem entscheidenden Movens des Schaffens der Künstlergruppe wurde. Die Entstehung der Künstlergruppe Während Cage und Cunningham bereits seit den frühen 1940erJahren eine berufliche und romantische Beziehung führten, lernten sich Rauschenberg und Twombly im Frühjahr 1951 in New York kennen. Ab dem Sommer besuchten sie gemeinsam das legendäre Black Mountain College in North Carolina, wo Cunningham und Cage unterrichteten. Rasch entstanden dort enge Verbindungen zwischen den Vieren. Cage verfasste Texte zu den Künstlern, sammelte ihre Werke und seine Theorien flossen wiederum in deren Arbeiten ein. Bilder, Geräusche und Bewegungen aus dem Alltag, die mittels Zufallsoperationen verschränkt wurden, ergaben ein konzeptuelles Grundgerüst. Am Black Mountain College arbeiteten Twombly und Rauschenberg gemeinsam an einer Serie von monochromen White Paintings die bisher allein Rauschenberg zugeschrieben wurden. Nach einer gemeinsamen Reise durch Europa und Nordafrika 195253 teilten sie sich ein Atelier in der New Yorker Fulton Street. Hier entwickelten sie ihre jeweilige Formensprache Rauschenberg in seinen Combine Paintings und Twombly in seinen graffitiähnlichen Kritzeleien. Kurz darauf, 1954, kam Jasper Johns in den Freundeskreis. Bis 1961 arbeiteten Rauschenberg und Johns Seite an Seite und etablierten, was später als Painting As Object kanonisiert wurde. Festival Fünf Freunde Ergänzend zur Ausstellung findet das Festival Fünf Freunde mit Tanzaufführungen und Konzerten im Rosensaal von Cy Twombly statt, welches die Werke von Merce Cunningham und John Cage in den Mittelpunkt rückt. Erfahrt hier mehr Politische Rahmenbedingungen und queere Aspekte Foto Robert Rauschenberg, Robert Rauschenberg Foundation Archives, New York Der Fokus der Ausstellung auf den freundschaftlichen und künstlerischen Beziehungen lässt die queeren Aspekte in ihrer Kunst hervortreten. In den Arbeiten finden sich zahlreiche versteckte Referenzen auf nichtheteronormatives Begehren. Die Künstlergruppe brach mit der von Machismo geprägten Rhetorik der Abstrakten Expressionisten. Viele Werke in der Schau nehmen Bezug auf queere Protagonisten der Kunst, Musik und Literaturgeschichte, darunter Frank OHara, Hart Crane oder die antike Dichterin Sappho. Die Künstler verhandelten durch Codes ihre eigene Sexualität und dies in der repressiven McCarthyÄra. Der politische Kontext des Kalten Kriegs und die zunehmende Technologisierung der Gesellschaft durchdrangen die Arbeiten aller fünf Künstler. Rauschenberg pflegte einen geradezu obsessiven Umgang mit amerikanischen Symbolen Johns berühmteste Arbeiten sind Appropriationen der amerikanischen Flagge und Zielscheiben, die auf Staatsräson und Militärwesen verweisen Cage beschäftigte sich mit dem Anarchismus bei Henry David Thoreau und war fasziniert von medientheoretischen Konzepten wie dem Global Village. Twomblys vermeintlich entrückte Antikenbezüge in den Gemälden der 1960erJahre rekurrieren oft auf konkrete politischhistorische Ereignisse wie die Ermordung von John F. Kennedy oder die KubaKrise. Insbesondere Twombly und Rauschenberg reagierten in ihrem bildnerischen Schaffen auf die Entwicklung der Raumfahrt, so entstand Rauschenbergs Stoned Moon Book 1970 gar im Auftrag der NASA. 1968 schuf Twombly das Gemälde Orion III, das die Planzeichnung eines neuartigen, mit Nuklearenergie angetriebenen Raketensystems aufgreift. In Kooperation mit dem Kulturreferat und den Museen Dieser Beitrag wird vom Kulturreferat der LHM gefördert. Dates Wed , 04. June 2025 1000 Museum Brandhorst Thu , 05. June 2025 1000 Museum Brandhorst Fri , 06. June 2025 1000 Museum Brandhorst Sat , 07. June 2025 1000 Museum Brandhorst Sun , 08. June 2025 1000 Museum Brandhorst Mon , 09. June 2025 1000 Museum Brandhorst Tue , 10. June 2025 1000 Museum Brandhorst Wed , 11. June 2025 1000 Museum Brandhorst Thu , 12. June 2025 1000 Museum Brandhorst Fri , 13. June 2025 1000 Museum Brandhorst Sat , 14. June 2025 1000 Museum Brandhorst Sun , 15. June 2025 1000 Museum Brandhorst Tue , 17. June 2025 1000 Museum Brandhorst Wed , 18. June 2025 1000 Museum Brandhorst Thu , 19. June 2025 1000 Museum Brandhorst Fri , 20. June 2025 1000 Museum Brandhorst Sat , 21. June 2025 1000 Museum Brandhorst Sun , 22. June 2025 1000 Museum Brandhorst Tue , 24. June 2025 1000 Museum Brandhorst Wed , 25. June 2025 1000 Museum Brandhorst Thu , 26. June 2025 1000 Museum Brandhorst Fri , 27. June 2025 1000 Museum Brandhorst Sat , 28. June 2025 1000 Museum Brandhorst Sun , 29. June 2025 1000 Museum Brandhorst Tue , 01. July 2025 1000 Museum Brandhorst Wed , 02. July 2025 1000 Museum Brandhorst Thu , 03. July 2025 1000 Museum Brandhorst Fri , 04. July 2025 1000 Museum Brandhorst Sat , 05. July 2025 1000 Museum Brandhorst Sun , 06. July 2025 1000 Museum Brandhorst Tue , 08. July 2025 1000 Museum Brandhorst Wed , 09. July 2025 1000 Museum Brandhorst Thu , 10. July 2025 1000 Museum Brandhorst Fri , 11. July 2025 1000 Museum Brandhorst Sat , 12. July 2025 1000 Museum Brandhorst Sun , 13. July 2025 1000 Museum Brandhorst Tue , 15. July 2025 1000 Museum Brandhorst Wed , 16. July 2025 1000 Museum Brandhorst Thu , 17. July 2025 1000 Museum Brandhorst Fri , 18. July 2025 1000 Museum Brandhorst Sat , 19. July 2025 1000 Museum Brandhorst Sun , 20. July 2025 1000 Museum Brandhorst Tue , 22. July 2025 1000 Museum Brandhorst Wed , 23. July 2025 1000 Museum Brandhorst Thu , 24. July 2025 1000 Museum Brandhorst Fri , 25. July 2025 1000 Museum Brandhorst Sat , 26. July 2025 1000 Museum Brandhorst Sun , 27. July 2025 1000 Museum Brandhorst Tue , 29. July 2025 1000 Museum Brandhorst Wed , 30. July 2025 1000 Museum Brandhorst Thu , 31. July 2025 1000 Museum Brandhorst Fri , 01. August 2025 1000 Museum Brandhorst Sat , 02. August 2025 1000 Museum Brandhorst Sun , 03. August 2025 1000 Museum Brandhorst Tue , 05. August 2025 1000 Museum Brandhorst Wed , 06. August 2025 1000 Museum Brandhorst Thu , 07. August 2025 1000 Museum Brandhorst Fri , 08. August 2025 1000 Museum Brandhorst Sat , 09. August 2025 1000 Museum Brandhorst Sun , 10. August 2025 1000 Museum Brandhorst Tue , 12. August 2025 1000 Museum Brandhorst Wed , 13. August 2025 1000 Museum Brandhorst Thu , 14. August 2025 1000 Museum Brandhorst Fri , 15. August 2025 1000 Museum Brandhorst Sat , 16. August 2025 1000 Museum Brandhorst Sun , 17. August 2025 1000 Museum Brandhorst\n",
      "https://www.muenchen.de/en/node/93314\n",
      "Ad Ausstellung in der Kunsthalle München Civilization Wie wir heute leben Nie lebten mehr Menschen auf der Erde, nie war unser Einfluss auf den Planeten größer, nie waren wir enger vernetzt unsere Gesellschaft wandelt sich immer rasanter. Vom 11. April bis 24. August 2025 folgt die Ausstellung Civilization in der Kunsthalle München den sichtbaren Spuren der Menschheit rund um den Globus aus dem Blickwinkel von über 100 international renommierten Fotografinnen. Datum und Veranstaltungsort 04.06.2025 1000 until 2000 h Kunsthalle München Jeffrey Milstein More actions Share on Facebook Share via WhatsApp Copy link Foto oben Jeffrey Milstein, Newark 8 Terminal B, Newark, NJ , 2016, aus der Serie Flughäfen Darum geht es in der Ausstellung Civilization beleuchtet eine Vielzahl von Aspekten unseres ausgesprochen komplexen Zusammenlebens von den großen Errungenschaften der Menschheit bis hin zu unseren kollektiven Fehlschlägen. Sie nimmt dabei die Kulturen aller Kontinente in den Blick von der Art und Weise, wie wir produzieren und konsumieren, wie wir arbeiten und spielen, reisen und wohnen, denken und gestalten, miteinander kooperieren und in Konflikt geraten. In Zeiten, die davon geprägt sind, dass sich Menschen und Meinungen immer weiter voneinander entfernen und dringend notwendiger Konsens immer unmöglicher erscheint, legt diese Ausstellung das Augenmerk auf die Gemeinsamkeiten. Nie zuvor in der Geschichte der Menschheit waren so viele Menschen derart vielfältig miteinander vernetzt und gleichzeitig abhängig voneinander. Die Olympischen Spiele der Neuzeit, der RiesenJumbojet, das Smartphone und Social Media, künstliche Intelligenz ... So kontrovers, wie sie auch diskutiert werden, keines dieser Phänomene wäre ohne das bewahrte Wissen früherer Zeiten und die gemeinsamen Anstrengungen hochqualifizierter, hochausgebildeter und hochmotivierter Menschen möglich gewesen. Choon Man Jo Jo Choon Man, GOLIAT, 2013, aus der Serie INDUSTRY KOREA Das könnt ihr in der Ausstellung sehen Anhand von 230 Fotografien, führt der Ausstellungsparcours in acht Kapiteln auf eine faszinierende Reise durch zentrale Aspekte der Zivilisation Der erste Raum, metaphorisch BIENENSTOCK benannt, versammelt Fotografien, die das oftmals komplexe Zusammenleben der Menschen in den Megacitys der Welt dokumentieren. Dabei zeigen sie nicht nur die architektonischen Besonderheiten und landschaftlichen Gegebenheiten der Städte, sondern auch die vielfältigen Lebensstile der Menschen im urbanen Alltag. Das folgende Kapitel ZUSAMMEN ALLEIN erkundet unser Leben im Spannungsfeld zwischen Individualität und Kollektivität. Es beleuchtet, wie wir als Individuen das Bedürfnis nach Zugehörigkeit und Gemeinschaft verspüren und gleichzeitig versuchen, unsere eigene Identität zu wahren. KONTROLLIEREN beschäftigt sich mit den verschiedenen, für die Allgemeinheit oft nicht sichtbaren Kontexten, in denen Autorität und Macht ausgeübt werden. Die Bewegung von Menschen, Gütern, Finanzen und die dafür notwendigen, höchst perfektionierten Infrastrukturen, die unsere Zivilisation am Laufen halten, thematisiert das Kapitel FLIESSEN . Der folgende Raum BEEINFLUSSEN beleuchtet die verschiedenen Strategien, die zum Einsatz kommen, um Bedürfnisse zu wecken und Menschen in ihrem Verhalten zu manipulieren. BRECHEN nimmt Ursachen und Folgen von Konflikten und Migration sowie die Bruchstellen unserer gesellschaftlichen Strukturen in den Fokus. ENTFLIEHEN zeigt, wie die ausgefeilten Mechanismen der Urlaubs und Freizeitindustrie sowie von Massen es Menschen möglich machen, ihrem Alltag zu entfliehen und sich in Traumwelten zu flüchten. Das abschließende Kapitel ALS NÄCHSTES öffnet den Blick auf die Welt, die im Begriff ist, unsere Zukunft zu werden. Die immer drastischeren Eingriffe des Menschen in seine Umwelt und die mal erschreckenden, mal ermutigenden, aber immer faszinierenden Folgen werfen beispielsweise Fragen nach ethischer Verantwortung im Umgang mit neuen Technologien oder einer notwendigen Anpassungsfähigkeit im Angesicht von ökologischen Herausforderungen auf. Neben renommierten Künstlerinnen wie Candida Höfer, Edward Burtynsky und Thomas Struth sind auch jüngere Fotografinnen in der Mitte ihrer Laufbahn wie Pablo López Luz, ShengWen Lo oder Julia Chamberlain in der Ausstellung vertreten. In Kooperation mit dem Kulturreferat und den Museen Dieser Beitrag wird vom Kulturreferat der LHM gefördert. Dates Wed , 04. June 2025 1000 Kunsthalle München Thu , 05. June 2025 1000 Kunsthalle München Fri , 06. June 2025 1000 Kunsthalle München Sat , 07. June 2025 1000 Kunsthalle München Sun , 08. June 2025 1000 Kunsthalle München Mon , 09. June 2025 1000 Kunsthalle München Tue , 10. June 2025 1000 Kunsthalle München Wed , 11. June 2025 1000 Kunsthalle München Thu , 12. June 2025 1000 Kunsthalle München Fri , 13. June 2025 1000 Kunsthalle München Sat , 14. June 2025 1000 Kunsthalle München Sun , 15. June 2025 1000 Kunsthalle München Mon , 16. June 2025 1000 Kunsthalle München Tue , 17. June 2025 1000 Kunsthalle München Wed , 18. June 2025 1000 Kunsthalle München Thu , 19. June 2025 1000 Kunsthalle München Fri , 20. June 2025 1000 Kunsthalle München Sat , 21. June 2025 1000 Kunsthalle München Sun , 22. June 2025 1000 Kunsthalle München Mon , 23. June 2025 1000 Kunsthalle München Tue , 24. June 2025 1000 Kunsthalle München Wed , 25. June 2025 1000 Kunsthalle München Thu , 26. June 2025 1000 Kunsthalle München Fri , 27. June 2025 1000 Kunsthalle München Sat , 28. June 2025 1000 Kunsthalle München Sun , 29. June 2025 1000 Kunsthalle München Mon , 30. June 2025 1000 Kunsthalle München Tue , 01. July 2025 1000 Kunsthalle München Wed , 02. July 2025 1000 Kunsthalle München Thu , 03. July 2025 1000 Kunsthalle München Fri , 04. July 2025 1000 Kunsthalle München Sat , 05. July 2025 1000 Kunsthalle München Sun , 06. July 2025 1000 Kunsthalle München Mon , 07. July 2025 1000 Kunsthalle München Tue , 08. July 2025 1000 Kunsthalle München Wed , 09. July 2025 1000 Kunsthalle München Thu , 10. July 2025 1000 Kunsthalle München Fri , 11. July 2025 1000 Kunsthalle München Sat , 12. July 2025 1000 Kunsthalle München Sun , 13. July 2025 1000 Kunsthalle München Mon , 14. July 2025 1000 Kunsthalle München Tue , 15. July 2025 1000 Kunsthalle München Wed , 16. July 2025 1000 Kunsthalle München Thu , 17. July 2025 1000 Kunsthalle München Fri , 18. July 2025 1000 Kunsthalle München Sat , 19. July 2025 1000 Kunsthalle München Sun , 20. July 2025 1000 Kunsthalle München Mon , 21. July 2025 1000 Kunsthalle München Tue , 22. July 2025 1000 Kunsthalle München Wed , 23. July 2025 1000 Kunsthalle München Thu , 24. July 2025 1000 Kunsthalle München Fri , 25. July 2025 1000 Kunsthalle München Sat , 26. July 2025 1000 Kunsthalle München Sun , 27. July 2025 1000 Kunsthalle München Mon , 28. July 2025 1000 Kunsthalle München Tue , 29. July 2025 1000 Kunsthalle München Wed , 30. July 2025 1000 Kunsthalle München Thu , 31. July 2025 1000 Kunsthalle München Fri , 01. August 2025 1000 Kunsthalle München Sat , 02. August 2025 1000 Kunsthalle München Sun , 03. August 2025 1000 Kunsthalle München Mon , 04. August 2025 1000 Kunsthalle München Tue , 05. August 2025 1000 Kunsthalle München Wed , 06. August 2025 1000 Kunsthalle München Thu , 07. August 2025 1000 Kunsthalle München Fri , 08. August 2025 1000 Kunsthalle München Sat , 09. August 2025 1000 Kunsthalle München Sun , 10. August 2025 1000 Kunsthalle München Mon , 11. August 2025 1000 Kunsthalle München Tue , 12. August 2025 1000 Kunsthalle München Wed , 13. August 2025 1000 Kunsthalle München Thu , 14. August 2025 1000 Kunsthalle München Fri , 15. August 2025 1000 Kunsthalle München Sat , 16. August 2025 1000 Kunsthalle München Sun , 17. August 2025 1000 Kunsthalle München Mon , 18. August 2025 1000 Kunsthalle München Tue , 19. August 2025 1000 Kunsthalle München Wed , 20. August 2025 1000 Kunsthalle München Thu , 21. August 2025 1000 Kunsthalle München Fri , 22. August 2025 1000 Kunsthalle München Sat , 23. August 2025 1000 Kunsthalle München Sun , 24. August 2025 1000 Kunsthalle München\n",
      "https://www.muenchen.de/sehenswuerdigkeiten/top-sehenswuerdigkeiten/museum-mineralogia-muenchen\n"
     ]
    },
    {
     "name": "stderr",
     "output_type": "stream",
     "text": [
      " 91%|█████████▏| 32/35 [00:17<00:01,  1.83it/s]"
     ]
    },
    {
     "name": "stdout",
     "output_type": "stream",
     "text": [
      "Museum Mineralogia Die Welt der Edelsteine und Kristalle Museum Mineralogia München Alle Infos zu den Ausstellungen Sie glitzern, funkeln und manche sind heiß begehrt Im Museum Mineralogia entdeckt ihr die faszinierende Welt der Kristalle, Edelsteine, Edelmetalle und Meteoriten. Adresse und Öffnungszeiten Theresienstr. 41 , 80333 München Öffnungszeiten geschlossen Mo geschlossen Di 1200 1600 Mi 1200 1600 Do 1200 1600 Fr 1200 1600 Sa 1300 1700 So 1300 1700 Hinweis Feiertagsöffnungszeiten an allen Feiertagen von 1317 Uhr geöffnet, außer diese fallen auf einen Montag. Geschlossen Heiligabend, 1. Weihnachtsfeiertag, Silvester, Neujahr und am Faschingsdienstag Anfahrt München.de Weitere Aktionen Teilen auf Facebook Teilen via WhatsApp Kopieren In Kooperation mit dem Kulturreferat und den Museen Dieser Beitrag über die Münchner Museen wird vom Kulturreferat der Landeshauptstadt München gefördert und ist in Kooperation mit der Landesstelle für die nichtstaatlichen Museen in Bayern konzipiert worden. Die Inhalte wurden zwischen den beteiligten Museen und , dem offiziellen Stadtportal, abgestimmt. Warum lohnt sich ein Besuch im Museum Mineralogia? Museum Mineralogia München Der Gibeon Eisenmeteorit aus Namibia zählt zu den Highlights der Ausstellung Kristalle, Mondgesteine, Meteoriten und dabei gleichzeitig Universitätsluft schnuppern Diese einzigartige Kombination macht das Museum Mineralogia München so vielfältig und lebendig Was ist geboten? Die glitzernde Welt von Edelsteinen, Kristallen und fluoreszierenden Mineralien. Kostbare Metalle und wertvolle Meteorite, darunter besonders seltene Steinmeteorite von Mars und Mond, faszinieren im Museum Mineralogia Groß und Klein. Anschauliche Tafeln und interaktive Mitmachstationen erklären die Wissenschaft der Mineralogie. Im Sommer oder Herbst finden im Sonderausstellungsraum zudem Kunstausstellungen mit Bezug zu Mineralien statt. Was ist das Besondere? Multidisziplinäre Ausstellungen mit Aktionen zum selbst aktiv werden führen euch durchs Haus. Gelegenheit, kosmische Materie mit den Händen zu erfassen bietet ein 289 Kilogramm schwerer Eisenmeteorit aus Namibia. Auch der erste und größte in Bayern gefundenen Meteorit ist hier ausgestellt Der Mauerkirchen Meteorit, der am 20.11.1768 auf die Erde gefallen ist. Weitere Highlights der Sammlung sind historische Minerale, wie z.B. der Leuchtenberg Smaragd und der König Ludwig Diamant. Museum Mineralogia Die wichtigsten Infos auf einen Blick Lage Mitten im Kunstareal an der TU, in direkter Nachbarschaft zur Pinakothek der Moderne MuseumsKategorie Natur, Technik, Kunst Kinderprogramm Spezialführungen, zwei bis dreistündige Kinder und Jugendprojekte, Geburtstagsfeiern Empfohlene Aufenthaltsdauer 1 bis 1,5 Stunden Anfahrt Tram 2728 und Bus 100 bis Pinakotheken, U2 bis Königsplatz Parken Rund um die Universität kann in mehreren Parkhäusern und garagen geparkt werden Ausstellungen zu Vulkanismus, Mineralen und Kristallen Museum Mineralogia München Anschauliche Tafeln und interaktive Stationen erklären die Wissenschaft der Mineralogie Die Dauerausstellung im Museum Mineralogia gliedert sich in zwei Bereiche das Foyer und einen separaten Ausstellungsraum. Nicht nur Edelsteine sind zu sehen. Auch Meteoriten, darunter besonders seltene Steinmeteorite von Mars und Mond, findet Ihr im Muweum Mineralogia München. In seiner Dauerausstellung kann das Museum aus Platzgründen nur einen Teil der Mineralogischen Staatssammlungen zeigen. Insgesamt werden rund 5.000 Exponate ausgestellt, regelmäßige Sonderausstellungen bieten darüber hinaus die Möglichkeit, zwei bis drei Mal im Jahr weitere Edelsteine und Kristalle zu bestaunen. Was ihr unbedingt sehen müsst Eisenmeteorit Ein Höhepunkt der Ausstellung ist der 289 Kilogramm schwere Eisenmeteorit aus Namibia. Das Besondere Ihr dürft den außerirdischen Giganten mit den Händen erfassen. Vulkangesteine Vulkanismus, was ist das eigentlich? Ein eigener Bereich vermittelt hautnah und anschaulich die vulkanischen Phänomene. Silber, Gold und Edelsteine Wo kommen Edelmetalle und Edelsteine in der Natur vor? Wie werden sie verwendet und woher weiß man, dass sie echt sind? Hier lernt ihr die Glitzerwelt aus einer neuen Perspektive kennen. Foyer Ergänzend zur Dauerausstellung werden im Foyer Werke von Künstlerinnen gezeigt, die mit diesen Materialien arbeiten und mineralogische und kristallografische Themen behandeln. Previous slide View image in modal View image in modal View image in modal View image in modal View image in modal View image in modal View image in modal Next slide Führungen und Veranstaltungen für Kinder und Erwachsene Museum Mineralogia München Auch für Kinder und Jugendliche bietet das Museum Mineralogia viele Programme an Öffentliche Kuratorinnenführungen finden während der Sonderausstellungen in der Regel mittwochs und sonntags um 15 Uhr statt. Auf der page des Museums seht ihr, ob und wann Führungen geplant sind. Zudem können Spezialführungen für Kinder, Jugendliche und Erwachsene sowie zwei bis dreistündige Kinder und Jugendprojekte gebucht werden. Für Schulklassen steht außerdem ein OnlineAngebot mit digitalen Führungen zur Verfügung. Veranstaltungen finden unter anderem bei der Langen Nacht der Münchner Museen sowie beim Kunstarealfest statt. Zudem können Kindergeburtstage oder auch Kinder und Familienfeste im Museum gefeiert werden. Eintrittspreise Erwachsene 5 Euro, ermäßigt 3 Euro Familien 6 Euro Kinder 1 Euro pro Person Bei Sonderausstellungen können andere Eintrittspreise gelten. Barrierefreiheit und Angebote für Menschen mit Behinderung Der Zugang zum Museum ist nach vorheriger Anmeldung über das Mathematikgebäude barrierefrei . Spezielle Führungen für Menschen mit Sehbehinderung werden angeboten. Geschichte des Museums Mineralogia Museum Mineralogia München Insgesamt beherbergt die Mineralogische Staatssammlung über 80.000 Minerale. Ein Teil davon wird im Museum der Öffentlichkeit präsentiert Das Museum Mineralogia München ist der öffentlich zugängliche Teil der Mineralogischen Staatssammlung München, die weit über 80.000 Minerale beherbergt. Die Gründung der Mineralogischen Staatssammlung begann 1759 mit der Gründung der Bayerischen Akademie der Wissenschaften durch Kurfürst Max II. Joseph. Einen wichtigen Teil der Sammlung stellen historische Minerale dar. Paradestücke sind der Leuchtenberg Smaragd und der König Ludwig Diamant. Das Museum besitzt den ersten und größten in Bayern gefundenen Meteoriten, den Mauerkirchen Meteorit. Gefallen ist dieser am 20.11.1768, gefunden wurde er von der Bäuerin Apollonia Bart. Das könnte euch auch interessieren Münchens Top Sehenswürdigkeiten Die Highlights von Marienplatz bis Frauenkirche So wird das Wetter Sonne oder Regen? Die Wetterprognose Webcams mit LiveBildern in München Was am Marienplatz, im Olympiapark und an der Isar zu sehen ist Auf einen Blick Museum Mineralogia München Theresienstr. 41 80333 München Tel 498921804312 mineralogische.staatssammlunglrz.uni Korrektur vorschlagen Barrierefreier Zugang Eingangstüre Ort von Theresienstraße 37 und 39 Ebenerdiger Zugang vorhanden 5x barrierefrei parken möglich 1 Parkplatz auf dem Gelände Tram 27, 28, N27, Bus 58, 68, 100 Pinakotheken, U2, U8 Theresienstraße, U3U6, Bus 100, 153, N40, N41, N45 Odeonsplatz Barrierefreiheit im Gebäude Aufzüge vorhanden Barrierefreies WC vorhanden im 1. OG Barrierefreiheit weitere Information Führungen für Körper und geistig Behinderte auf Anfrage Rollstuhlverleih Öffnungszeiten This is a carousel with rotating cards. Use the previous and next buttons to navigate, and Enter to activate cards. Vorheriger Slide Mo geschlossen Di 1200 1600 Mi 1200 1600 Do 1200 1600 Fr 1200 1600 Sa 1300 1700 So 1300 1700 Nächster Slide 1 11 von 11 Veranstaltungen 04 Juni bis 15 Juni GeoArt Minerale, Landschaften, Bilder Mi. 04.06.2025 1200 1600 Uhr Museum Mineralogia München 04 Juni bis 15 Juni GeoArt Minerale, Landschaften, Bilder Do. 05.06.2025 1200 1600 Uhr Museum Mineralogia München 04 Juni bis 15 Juni GeoArt Minerale, Landschaften, Bilder Fr. 06.06.2025 1200 1600 Uhr Museum Mineralogia München 04 Juni bis 15 Juni GeoArt Minerale, Landschaften, Bilder Sa. 07.06.2025 1300 1700 Uhr Museum Mineralogia München 04 Juni bis 15 Juni GeoArt Minerale, Landschaften, Bilder So. 08.06.2025 1300 1700 Uhr Museum Mineralogia München 04 Juni bis 15 Juni GeoArt Minerale, Landschaften, Bilder Di. 10.06.2025 1200 1600 Uhr Museum Mineralogia München 04 Juni bis 15 Juni GeoArt Minerale, Landschaften, Bilder Mi. 11.06.2025 1200 1600 Uhr Museum Mineralogia München 04 Juni bis 15 Juni GeoArt Minerale, Landschaften, Bilder Do. 12.06.2025 1200 1600 Uhr Museum Mineralogia München 04 Juni bis 15 Juni GeoArt Minerale, Landschaften, Bilder Fr. 13.06.2025 1200 1600 Uhr Museum Mineralogia München 04 Juni bis 15 Juni GeoArt Minerale, Landschaften, Bilder Sa. 14.06.2025 1300 1700 Uhr Museum Mineralogia München 04 Juni bis 15 Juni GeoArt Minerale, Landschaften, Bilder So. 15.06.2025 1300 1700 Uhr Museum Mineralogia München\n",
      "https://www.muenchen.de/sehenswuerdigkeiten/museen/juedisches-museum-muenchen\n"
     ]
    },
    {
     "name": "stderr",
     "output_type": "stream",
     "text": [
      " 94%|█████████▍| 33/35 [00:19<00:01,  1.32it/s]"
     ]
    },
    {
     "name": "stdout",
     "output_type": "stream",
     "text": [
      "Vielfalt jüdischer Kultur erleben Jüdisches Museum München Ausstellungen, Rundgänge, Programm Das Jüdische Museum München vermittelt ein Bild der Vielfalt jüdischer Geschichte, Kunst und Kultur von der Vergangenheit bis heute. Das Museum ist ein lebendiger Ort zum Austausch und zur offenen Diskussion. Adresse und Öffnungszeiten St.JakobsPlatz 16 , 80331 München Öffnungszeiten Mi geöffnet 1000 1800 Mo geschlossen Di 1000 1800 Mi 1000 1800 Do 1000 1800 Fr 1000 1800 Sa 1000 1800 So 1000 1800 Hinweis Anfahrt Daniel Schvarcz Weitere Aktionen Teilen auf Facebook Teilen via WhatsApp Kopieren Warum lohnt sich ein Besuch im Jüdischen Museum München? Roland Halbe Das kubische Gebäude des Jüdischen Museums München ist schon von Außen absolut sehenswert Im Jüdischen Museum München wird die Vielfalt jüdischer Zugänge in der Geschichte, Kultur und Kunst erfahrbar mit dem Ziel eine plurale und diskriminierungsfreie Gesellschaft zu ermöglichen. Was ist geboten? Das Museum vermittelt Einblicke in die jüdische Kultur in München in Vergangenheit und Gegenwart. In seinen wechselnden Ausstellungen setzt sich das Jüdische Museum München mit Hilfe von Zeitzeuginnen, Ritualobjekten, Fotografien, Videos und Comicstrips mit den vielschichtigen Sichtweisen zur jüdischen Geschichte, Kultur und Religion auseinander und bricht diese ganz bewusst auf und stellt sie zur Diskussion. Was ist das Besondere? Das Museum ist Teil des Bauensembles am Jakobsplatz, zusammen mit der Synagoge und dem jüdischen Gemeindezentrum. Es ist auch ein Ort für offene Diskussionen Bei sogenannten Impulsrundgängen geben die Besucherbetreuerinnen euch spannende Auskünfte über die Ausstellungen und beantworten eure Fragen. Das Jüdische Museum München Die wichtigsten Infos auf einen Blick Lage Am St.JakobsPlatz, in direkter Nachbarschaft zum Münchner Stadtmuseum . MuseumsKategorie Kultur Empfohlene Aufenthaltsdauer Ca. 1 bis 1,5 Stunden Kinderprogramm KunstProjekte, Workshops, Rundgänge und Digitale KreativImpulse Anfahrt U3 U6 oder SBahn bis Marienplatz oder U1 U2 U3 U6 bis Sendlinger Tor und Bus 5262 bis St.JakobsPlatz Parken Tiefgarage Oberanger, Parkgarage Schrannenhalle Von Chanukka bis Bar Mizwa Dauerausstellung Stimmen_Orte_Zeiten Franz Kimmel In der Dauerausstellung Stimmen_Orte_Zeiten könnt ihr durch die jüdische Geschichte Münchens gehen Die Dauerausstellung Stimmen_Orte_Zeiten im Untergeschoss gibt neue Impulse und Informationen zur jüdischen Geschichte und Gegenwart in München und lädt zum Dialog ein. Dabei thematisiert sie die große Bandbreite jüdischer Identitäten in sieben Installationen Die Installation Stimmen erzählt persönliche Lebensgeschichten jüdischer Familien und Personen, die in den letzten 200 Jahren in München ankamen, anhand originaler Tonspuren. Anhand der Installationen Orte und Bilder könnt ihr die Lebenswege jüdischer Münchnerinnen nachverfolgen Von der Auswanderin bis zum ChemieNobelpreisträger. Ein besonderer Schwerpunkt ist auch der Ausstellungsbereich Rituale . Er widmet sich der jüdischen Religion mit ihren Jahresfesten und Übergangsriten . Zuletzt spannt ein unterhaltsamer Comicstrip den Bogen zur Gegenwart des jüdischen Lebens in München. Gewohnte Sichtweisen zur jüdischen Geschichte, Kultur und Religion werden hier aufgebrochen und zur Diskussion gestellt. Dabei wird die Münchner jüdische Geschichte als integraler Teil der Stadtgeschichte sichtbar gemacht und auch auf ihre Einschnitte, Brüche und Leerstellen verwiesen. Previous slide View image in modal View image in modal View image in modal View image in modal View image in modal View image in modal View image in modal Next slide Wechselausstellungen und Publikationen In wechselnden Ausstellungen setzt sich das Jüdische Museum unter immer neuen Gesichtspunkten mit den vielschichtigen Sichtweisen zur jüdischen Kultur, Geschichte und Kunst auseinander und engagiert sich zudem auch in Form von Kooperationen und Publikationen. Zwei bekannte Beispiele Der Erinnerungsort OlympiaAttentat München 1972 ist eine Zusammenarbeit des Jüdischen Museums München und der Landeshauptstadt München mit dem Freistaat Bayern. Der Erinnerungsort ist den Opfern des Terroranschlags bei den 20. Olympischen Spielen, den elf israelischen Sportlern und dem deutschen Polizisten, gewidmet. Mehr als 70 Jahre nach der Rückkehr Kurt Landauers nach München veröffentlicht das Jüdische Museum München die Briefe des langjährigen FC Bayern Präsidenten im SuhrkampInselVerlag. Rundgänge im Jüdischen Museum München Daniel Schvarcz Das Jüdische Museum bietet ein vielfältiges Vermittlungsangebot Regelmäßig finden öffentliche Rundgänge statt Jeden Samstag und Sonntag um 1330 Uhr Die Dritte Generation. Der Holcaust im familiären Gedächtnis Jeden Samstag und Sonntag um 1500 Uhr Das Jüdische Museum München. Unser Haus Individuelle Besucherbetreuung auf Deutsch, Englisch, weitere Sprachen nach Verfügbarkeit Angebote und Programme für Kinder und Jugendliche Franz Kimmel Auch für Kinder und Jugendliche sind tolle Projekte geboten Für Kinder und Jugendliche bietet das Jüdische Museum München KunstProjekte, Workshops, Rundgänge und Kinderprogramme an Regelmäßige Öffentliche Kinderworkshops Jüdische Lebenswege in München ist ein Workshop, der sich an Jugendliche ab 14 Jahren richtet und der anhand von Ausstellungsobjekten sowie Text und Fotoquellen einzelne Biografien nachzeichnet. Digital kreativ Lass uns feiern! Manche Kinder feiern Pessach und Purim, andere wiederum freuen sich riesig auf Weihnachten oder das Zuckerfest. Ein perfekter Ausgangspunkt, sich die besonderen Tage des Jahres genauer anzusehen. Weitere Angebote für Kinder und Familien finden sich auf der Museumswebseite . Museumscafé und Literaturhandlung Franz Kimmel Das großzügige und helle Foyer lädt mit der Literaturhandlung zum Verweilen ein Das Museumscafé Coucou Food Market erwartet die Besucherinnen den ganzen Tag über mit frisch zubereitetem und gesunden Essen von französischen Croissants und Kaffee über Pinsa Romana bis zu Salaten und Bowls. Die Literaturhandlung befindet sich im Foyer des Jüdischen Museums München. Dort können Bücher rund ums Judentum, von Belletristik über Reiseführer bis zur Kinder und Jugendliteratur, erworben werden. Eintrittspreise für die Ausstellungen Erwachsene zahlen 6 Euro, ermäßigt 3 Euro Für Kinder und Jugendliche bis 18 Jahren ist der Eintritt frei OnlineAngebot Museums Blog Hier informiert das Museum über Jüdische Lebenswelten, Geschichte und Kultur in den Kategorien Stimmen, Orte, Sachen, Leben und Kunst OnlineAusstellungen beschäftigen sich intensiver mit ausgewählten Themen . Social Media Auf Instagram , Facebook und Blueksy findet ihr Aktuelles und spannende Einblicke hinter die Kulissen. Barrierefreiheit und Angebote für Menschen mit Behinderung Das Museumsfoyer, alle Ausstellungsebenen und Servicebereiche sind barrierefrei zugänglich und mit dem Aufzug erreichbar. Barrierefreie Toiletten befinden sich im Untergeschoss. Besondere Architektur Kubische Gebäude aus TravertinStein Franz Kimmel In direkter Nachbarschaft zu Marienplatz und Viktualienmarkt am St.JakobsPlatz befindet sich ein einzigartiges architektonisches Ensemble, das in seiner Lebendigkeit und Vielseitigkeit die Münchner Stadtgesellschaft entscheidend prägt Das Bauensemble am Jakobsplatz, bestehend aus der 2006 eingeweihten Hauptsynagoge, dem Gemeindezentrum der Israelitischen Kultusgemeinde München und Oberbayern und dem 2007 eröffneten Jüdischen Museum München, das in der Trägerschaft der Landeshauptstadt München liegt. Das Architektenteam Wandel, Hoefer, Lorch konnte mit seinem Wettbewerbsbeitrag den drei eigenständigen, kubisch gestalteten Gebäuden überzeugen. Die kunstvolle Schaffung einer architektonischen Einheit trotz dreier voneinander losgelöster Gebäude gelingt vor allem durch die Verwendung des TravertinSteins aus der Schwäbischen Alb als verbindendem Baumaterial. Auch wird der Eindruck der Einheitlichkeit durch die miteinander korrespondierende Formensprache unterstützt und durch Blickachsen und Passagen zwischen den drei Gebäuden für die Öffentlichkeit erlebbar gemacht. Rückblick 50 Jahre OlympiaAttentat Erinnerungsprojekt 12 Monate 12 Namen Das OlympiaAttentat von 1972 jährte sich 2022 zum 50. Mal. Zum Gedenken daran rief das Jüdische Museum München gemeinsam mit dem NS Dokumentationszentrum München und dem Generalkonsulat des Staates Israel ein Erinnerungsprojekt ins Leben, das jeden Monat von Januar bis Dezember eines der 12 Todesopfer in den Mittelpunkt stellte und besonders würdigte. Unter dem Motto Zwölf Monate Zwölf Namen waren 2022 in der ganzen Stadt verschiedene Installationen, Aktionen und Vorträge zu sehen. 12 Monate 12 Namen im Überblick In Kooperation mit dem Kulturreferat und den Museen Dieser Beitrag über die Münchner Museen wird vom Kulturreferat der Landeshauptstadt München gefördert und ist in Kooperation mit der Landesstelle für die nichtstaatlichen Museen in Bayern konzipiert worden. Die Inhalte wurden zwischen den beteiligten Museen und , dem offiziellen Stadtportal, abgestimmt. Das könnte euch auch interessieren Münchens Top Sehenswürdigkeiten Die Highlights von Marienplatz bis Frauenkirche So wird das Wetter Sonne oder Regen? Die Wetterprognose Webcams mit LiveBildern in München Was am Marienplatz, im Olympiapark und an der Isar zu sehen ist Aktuelle Veranstaltungen 1 30 von 140 Veranstaltungen 09 Apr. bis 01 März Die Dritte Generation. Der Holocaust im familiären Gedächtnis Mi. 04.06.2025 1000 1800 Uhr Jüdisches Museum München 09 Apr. bis 01 März Die Dritte Generation. Der Holocaust im familiären Gedächtnis Do. 05.06.2025 1000 1800 Uhr Jüdisches Museum München 09 Apr. bis 01 März Die Dritte Generation. Der Holocaust im familiären Gedächtnis Fr. 06.06.2025 1000 1800 Uhr Jüdisches Museum München 09 Apr. bis 01 März Die Dritte Generation. Der Holocaust im familiären Gedächtnis Sa. 07.06.2025 1000 1800 Uhr Jüdisches Museum München 09 Apr. bis 01 März Die Dritte Generation. Der Holocaust im familiären Gedächtnis So. 08.06.2025 1000 1800 Uhr Jüdisches Museum München 09 Apr. bis 01 März Die Dritte Generation. Der Holocaust im familiären Gedächtnis Di. 10.06.2025 1000 1800 Uhr Jüdisches Museum München 09 Apr. bis 01 März Die Dritte Generation. Der Holocaust im familiären Gedächtnis Mi. 11.06.2025 1000 1800 Uhr Jüdisches Museum München 09 Apr. bis 01 März Die Dritte Generation. Der Holocaust im familiären Gedächtnis Do. 12.06.2025 1000 1800 Uhr Jüdisches Museum München 09 Apr. bis 01 März Die Dritte Generation. Der Holocaust im familiären Gedächtnis Fr. 13.06.2025 1000 1800 Uhr Jüdisches Museum München 09 Apr. bis 01 März Die Dritte Generation. Der Holocaust im familiären Gedächtnis Sa. 14.06.2025 1000 1800 Uhr Jüdisches Museum München 09 Apr. bis 01 März Die Dritte Generation. Der Holocaust im familiären Gedächtnis So. 15.06.2025 1000 1800 Uhr Jüdisches Museum München 09 Apr. bis 01 März Die Dritte Generation. Der Holocaust im familiären Gedächtnis Di. 17.06.2025 1000 1800 Uhr Jüdisches Museum München 09 Apr. bis 01 März Die Dritte Generation. Der Holocaust im familiären Gedächtnis Mi. 18.06.2025 1000 1800 Uhr Jüdisches Museum München 09 Apr. bis 01 März Die Dritte Generation. Der Holocaust im familiären Gedächtnis Do. 19.06.2025 1000 1800 Uhr Jüdisches Museum München 09 Apr. bis 01 März Die Dritte Generation. Der Holocaust im familiären Gedächtnis Fr. 20.06.2025 1000 1800 Uhr Jüdisches Museum München 09 Apr. bis 01 März Die Dritte Generation. Der Holocaust im familiären Gedächtnis Sa. 21.06.2025 1000 1800 Uhr Jüdisches Museum München 09 Apr. bis 01 März Die Dritte Generation. Der Holocaust im familiären Gedächtnis So. 22.06.2025 1000 1800 Uhr Jüdisches Museum München 09 Apr. bis 01 März Die Dritte Generation. Der Holocaust im familiären Gedächtnis Di. 24.06.2025 1000 1800 Uhr Jüdisches Museum München 09 Apr. bis 01 März Die Dritte Generation. Der Holocaust im familiären Gedächtnis Mi. 25.06.2025 1000 1800 Uhr Jüdisches Museum München 09 Apr. bis 01 März Die Dritte Generation. Der Holocaust im familiären Gedächtnis Do. 26.06.2025 1000 1800 Uhr Jüdisches Museum München 09 Apr. bis 01 März Die Dritte Generation. Der Holocaust im familiären Gedächtnis Fr. 27.06.2025 1000 1800 Uhr Jüdisches Museum München 09 Apr. bis 01 März Die Dritte Generation. Der Holocaust im familiären Gedächtnis Sa. 28.06.2025 1000 1800 Uhr Jüdisches Museum München 09 Apr. bis 01 März Die Dritte Generation. Der Holocaust im familiären Gedächtnis So. 29.06.2025 1000 1800 Uhr Jüdisches Museum München 09 Apr. bis 01 März Die Dritte Generation. Der Holocaust im familiären Gedächtnis Di. 01.07.2025 1000 1800 Uhr Jüdisches Museum München 09 Apr. bis 01 März Die Dritte Generation. Der Holocaust im familiären Gedächtnis Mi. 02.07.2025 1000 1800 Uhr Jüdisches Museum München 09 Apr. bis 01 März Die Dritte Generation. Der Holocaust im familiären Gedächtnis Do. 03.07.2025 1000 1800 Uhr Jüdisches Museum München 09 Apr. bis 01 März Die Dritte Generation. Der Holocaust im familiären Gedächtnis Fr. 04.07.2025 1000 1800 Uhr Jüdisches Museum München 09 Apr. bis 01 März Die Dritte Generation. Der Holocaust im familiären Gedächtnis Sa. 05.07.2025 1000 1800 Uhr Jüdisches Museum München 09 Apr. bis 01 März Die Dritte Generation. Der Holocaust im familiären Gedächtnis So. 06.07.2025 1000 1800 Uhr Jüdisches Museum München 09 Apr. bis 01 März Die Dritte Generation. Der Holocaust im familiären Gedächtnis Di. 08.07.2025 1000 1800 Uhr Jüdisches Museum München Seitennummerierung Erste Seite 1 Seite 2 Seite 3 Seite 4 Seite 5 Letzte Seite Nächste Seite Auf einen Blick Jüdisches Museum München St.JakobsPlatz 16 80331 München Tel 498923396096 juedisches.museum Korrektur vorschlagen Öffnungszeiten This is a carousel with rotating cards. Use the previous and next buttons to navigate, and Enter to activate cards. Vorheriger Slide Mo geschlossen Di 1000 1800 Mi 1000 1800 Do 1000 1800 Fr 1000 1800 Sa 1000 1800 So 1000 1800 Nächster Slide\n",
      "https://www.muenchen.de/sehenswuerdigkeiten/museen/archaeologische-staatssammlung\n"
     ]
    },
    {
     "name": "stderr",
     "output_type": "stream",
     "text": [
      "100%|██████████| 35/35 [00:19<00:00,  1.76it/s]"
     ]
    },
    {
     "name": "stdout",
     "output_type": "stream",
     "text": [
      "Taucht ein in die Welt der Fundstücke und Ausgrabungen Archäologische Staatssammlung München Infos und Tipps zum Museum Eine Reise zurück in die Vergangenheit der menschlichen Existenz Nach etwa acht Jahren Bauzeit erstrahlt das Museum seit 2024 in neuem Glanz und präsentiert euch seine Exponate zu 120.000 Jahren bayerischer Siedlungsgeschichte. Adresse und Öffnungszeiten Lerchenfeldstr. 2 , 80538 München Öffnungszeiten Mi geöffnet 1000 1700 Mo geschlossen Di 1000 1700 Mi 1000 1700 Do 1000 1900 Fr 1000 1700 Sa 1000 1700 So 1000 1900 Hinweis Anfahrt ASM, Stefanie Friedrich Weitere Aktionen Teilen auf Facebook Teilen via WhatsApp Kopieren Doris Fleischer Schaut euch die innovative Sonderausstellung an Unter dem Titel Planet Africa könnt ihr bis 28. September eine archäologische Zeitreise durch den Kontinent unternehmen Erfahrt mehr Warum lohnt sich ein Besuch in der Archäologischen Staatssammlung? Was ist geboten? Die Archäologische Staatssammlung ist in fünf Abteilungen untergliedert Vorgeschichte, Römerzeit, Mittelalter und Neuzeit, die Mittelmeersammlung und Numismatik. Beginnend mit dem Erscheinen der ersten Menschen bis hin zu Karl dem Großen, erzählen verschiedenste Fundstücke und Überreste von Leben und Alltag der Menschen. Zu den Ausstellungshighlights gehören Figuren aus der Alt und Jungsteinzeit, antike Grabausstattungen, sowie keltischen Münzschätze und die Werke der keltischen Kleinkunst. Was ist das Besondere? Digitale Erlebnisse, Klanginstallationen und HandsonStationen laden kleine wie große Museumsgäste zum spielerischen Entdecken mit allen Sinnen ein. Wechselnde Sonderausstellungen in Kooperation mit anderen Museen sind ab Herbst 2024 eingeplant und legen den Fokus auf einzelne Epochen oder besondere Kunstgattungen. Archäologische Staatssammlung, Stefanie Friedrich Archäologische Staatsammlung Die wichtigsten Infos auf einen Blick Lage Neben dem Haus der Kunst und dem Bayerischen Nationalmuseum direkt am Englischen Garten MuseumsKategorie Kunst und Kultur Empfohlene Aufenthaltsdauer Ca. 2 Stunden Anfahrt Mit der U4U5 bis Lehel, Bus 100 oder Tram Linie 18 bis Nationalmuseum Website www.archaeologie.bayern AusstellungsKonzept Taucht ein in die Welt der Archäologie Auf zwei Rundgängen gibt euch das Museum einen Einblick in die Welt der Archäologie. Beide bestehen aus jeweils fünf Themenräumen, sie sind barrierefrei unabhängig voneinander begehbar. Rundgang 1 nimmt euch mit ins Archäologische Terrain , eine Welt voller Abenteuer. Hier könnt ihr die Archäologie als moderne, interdisziplinäre Wissenschaft entdecken Erfahrt mehr über die bayerische Grabungslandschaft, die Arbeit der Archäologinnen und die Zusammenhänge zwischen Mensch und Natur. Der 2. Rundgang zeigt euch die Fülle an Exponaten aus unterschiedlichen Epochen. Mehr als 15.000 Objekte wurden in die neue Dauerausstellung eingebracht. Einige davon werden künftig im Wechselsystem ausgetauscht, so dass ihr immer wieder neue Objekte zu Gesicht zu bekommt. Mehr als 15.000 Objekte wurden in die neue Dauerausstellung eingebracht. Einige davon werden künftig im Wechselsystem ausgetauscht werden, so dass alle die Möglichkeit haben, immer wieder neue Objekte zu Gesicht zu bekommen. Archäologische Staatssammlung, Stefanie Friedrich Führungen, Veranstaltungen und Kinderprogramm Ein Medienguide führt euch zu den 25 wichtigsten und schönsten Highlights. Bringt einfach euer Handy und einen Kopfhörer mit und den QRCode am Eingang. Für alle, die das Bairische lieben, gibt es auch eine SchmankerlTour mit der bekannten Kabarettistin und Komödiantin Luise Kinseher. Überblicksführung Die Münchner Volkshochschule führt jeden Sonntag, um 14 Uhr durch das Museum. Die Buchung erfolgen direkt über die Website der MVHS . An mehreren Terminen im Jahr finden Spezialführungen mit vielen Hintergrundinformationen statt. Unter dem Motto Nachgefragt! entsteht ein reger Austausch zwischen Fachleuten und Museumsgästen. Termine und Anmeldung Führungen für Gruppen von 8 bis 20 Personen sind buchbar unter 089 125996910 bzw. buchungarchaeologie.bayern . Für Kinder und Jugendliche bietet die Archäologische Staatssammlung in Kooperation mit dem Museumspädagogischen Zentrum u.a. Kindergarten und Schulprogramme, Werkstattprogramme, Gruppenführungen und Kindergeburtstage an. Detaillierte Informationen und Preise findet ihr auf dieser Website . Ein ARGame ist unter buchungarchaeologie.bayern oder vor Ort im Museum buchbar. ARGame Taucht ein in die Welt der Archäologie! Stefanie Friedrich Ab sofort könnt ihr in der Archäologischen Staatssammlung auf virtuelle Schatzsuche gehen! Stürzt euch zusammen mit Hausschlange Sisssi ins Augmented Reality Abenteuer und stellt euer archäologisches Wissen unter Beweis. Bei dem neuen AR Game wird die reale Museumswelt um computergenerierte Avatare erweitert. Die Schlange führt euch zu verschiedenen Ausstellungsobjekten, an den einzelnen Stationen müssen Aufgaben erfüllt werden. Im Ziel wartet dann eine kleine Belohnung auf euch. So funktionierts Meldet euch einfach per EMail an unter buchungarchaeologie.bayern . Im Museum bekommt ihr dann ein LeihTablet. Dauer ca. 60 Minuten Zielgruppe für alle ab 10 Jahren Preis 7 pro Person , auch sonntags. Keine Ermäßigungen. Café, Restaurant und Museumsshop Neben dem Museumscafé gibt es eine hauseigene Rooftop Bar mit Blick auf den Englischen Garten Die Öffnungszeiten des SOLÂ findet ihr hier auf der Website . Zudem gibt es einen kleinen, aber feinen Museumsshop im Kassenbereich. Neben den hauseigenen Publikationen gibt es dort Literatur, Kinderspielzeug, Papeterie, Schmuck, Geschenkideen und Humorvolles. Eintrittspreise für die Archäologische Staatssammlung Erwachsene 7,00 Ermäßigt 5,00 Jahreskarte 45,00 Kinder, Jugendliche frei Bei Sonderausstellungen gelten gegebenenfalls abweichende Preise. Barrierefreiheit und Angebote für Menschen mit Behinderung Das komplette Museum ist barrierefrei zugänglich. Parkplätze sind direkt vor dem Museumseingang vorhanden. Für Seh und Hörgeschädigte stehen spezielle Angebote und barrierefreie Zugänge zur Verfügung. Zur DachterrassenBar gibt es für die letzten Stufen einen Treppenlift. Architektur Das neu gestaltete Museumsgebäude Öffnungszeiten der Archäologischen Staatssammlung Ursprünglich von den Architekten Helmut von Werz, JohannChristoph Ottow, Erhard Bachmann und Michel Marx in den 1970er Jahren konzipiert, war der Bau mit der charakteristischen Cortenstahlfassade in die Jahre gekommen und musste 2016 geschlossen werden. Nach etwa acht Jahren Bauzeit erstrahlt das Museum seit April 2024 in neuem Glanz Im Zuge der Generalsanierung wurden nicht nur die Bestandsgebäude umgebaut, sondern auch ein neuer unterirdischer Sonderausstellungsraum errichtet. Das Sanierungsleitbild greift dabei das architektonische Konzept der bestehenden Ausstellungskuben auf und führt dieses weiter. Auch der Eingangsbereich wurde erweitert. Mit Entwurf und Ausführung wurde das renommierte spanischen Architekturbüro Nieto Sobejano Arquitectos betraut, in München derzeit u.a. bekannt durch weitere Projekte wie das Bogenhausener Tor, Hotel Königshof oder das Optineo im Werksviertel. Ausgrabungen, Fundstücke, kulturelle Schätze Weitere Ausstellungsorte Archäologische Staatssammlung Burg Grünwald Zweigmuseum in München Das Burgmuseum Grünwald gibt spannende Einblicke in die Welt der Burgfräulein und Ritter. Neben der Dauerausstellung Burgen in Bayern, bei der ihr die umfangreiche Geschichte der Burg Grünwald erforschen könnt, beherbergt der mittelalterliche Bau auch ein Zweigmuseum der Archäologischen Staatssammlung mit vielen faszinierenden Wechselausstellungen zudem gibt es das ganze Jahr über verschiedene Sonderaktionen und veranstaltungen. Mehr Infos zur Burg Grünwald Projekt Archäologie München Funde vom Marienhof In der Münchner Altstadt fanden bisher über 250 archäologische Ausgrabungen statt. Was geschieht mit den Funden anschließend? Angeregt durch die großen Grabungen am Marienhof 20112012 bildeten zahlreiche staatliche und städtische Stellen das Projekt Archäologie München . Archäologen, Botaniker, Zoologen, Anthropologen und Historiker erforschen Alltagsleben, Umwelt und Stadtbild Münchens seit dem Mittelalter. Münchner Geschichte beim Flanieren entdecken In bisher vier PopUpAusstellungen wurden die Fundstücke unter dem Motto Archäologie für alle in der Altstadt ausgestellt ganz in der Nähe, wo sie aus der Erde geholt wurden. Eine neue Ausstellung ist derzeit in Planung. Mehr Informationen zum Projekt Archäologie München Die Archäologische Staatssammlung Zur Institution allgemein Die Archäologische Staatssammlung erfüllt mit ihrem neu sanierten Hauptgebäude in München sowie ihren acht, über Bayern verteilten Zweigmuseen und Depots die Funktion des zentralen Landemuseums für Archäologie in Bayern, mit bayernweit 200.000300.000 Besuchern jährlich. Sie sammelt, verwahrt und erschließt Ausgrabungsfunde aus Bayern und bildet das zentrale Forum für die öffentliche Präsentation der Archäologie in Bayern. Durch ihre nationalen und internationalen Aktivitäten gehört sie zu den großen und zentralen europäischen Sammlungen. Zur öffentlichen Vermittlungsaufgabe gehört die Präsentation der archäologisch erschließbaren Geschichte Bayerns, aber auch die Darstellung der gesellschaftlichen Relevanz der modernen Archäologie, die heute weitreichende Aussagen zum Verhältnis von Mensch und Umwelt zulässt. In Kooperation mit dem Kulturreferat und den Museen Dieser Beitrag über die Münchner Museen wird vom Kulturreferat der Landeshauptstadt München gefördert und ist in Kooperation mit der Landesstelle für die nichtstaatlichen Museen in Bayern konzipiert worden. Die Inhalte wurden zwischen den beteiligten Museen und , dem offiziellen Stadtportal, abgestimmt. Das könnte euch auch interessieren Münchens Top Sehenswürdigkeiten Die Highlights von Marienplatz bis Frauenkirche So wird das Wetter Sonne oder Regen? Die Wetterprognose Webcams mit LiveBildern in München Was am Marienplatz, im Olympiapark und an der Isar zu sehen ist Auf einen Blick Archäologische Staatssammlung Lerchenfeldstr. 2 80538 München Tel 4989125996910 infoarchaeologie.bayern Korrektur vorschlagen Öffnungszeiten This is a carousel with rotating cards. Use the previous and next buttons to navigate, and Enter to activate cards. Vorheriger Slide Mo geschlossen Di 1000 1700 Mi 1000 1700 Do 1000 1900 Fr 1000 1700 Sa 1000 1700 So 1000 1900 Nächster Slide\n",
      "https://www.muenchen.de/sehenswuerdigkeiten/webcam-live-aus-muenchen-marienplatz-olympiapark-und-mehr\n",
      "Stream mit Aussicht von Altstadt bis Alpen Webcams in München Olympiapark, Marienplatz, Isar und mehr in LiveBildern Unsere Webcams in München zeigen LiveBilder und Wetter vom Marienplatz, Olympiapark, der Isar und der Innenstadt. Bei klarer Sicht sind auch die Alpen zu sehen. Seiteninhalt IsarWebcam Marienplatz Olympiapark Hauptbahnhof Weitere Aktionen Teilen auf Facebook Teilen via WhatsApp Kopieren Wie wird das Wetter in München? Die Aussichten So funktioniert die Webcam Am PCLaptop Ihr könnt zwischen den CamStandorten mit einem Klick auf die Kästen oben links im Bild wechseln. Nach knapp einer Minute wechseln die LiveVideos automatisch zum nächsten Standort. Außerdem könnt ihr bei den WebCams am Marienplatz und im Olympiapark zwischen dem LiveVideo und einem PanoramaBild wählen. Ein Klick auf die Temperatur führt euch zu noch mehr Infos zum Wetter sowie Zeiten für Sonnenaufgang und Sonnenuntergang in München. An mobilen Endgeräten Mit den Pfeilen am Bildrand könnt ihr zum vorherigen bzw. nächsten CamStandort wechseln. Nach knapp einer Minute wechseln die LiveVideos zudem automatisch zum nächsten Standort. IsarWebcam vom Dach des Deutschen Museums Die Isar Münchens Paradies zum Baden, Entspannen und noch viel mehr Deutsches Museum Naturwissenschaft und Technik zum Anfassen St. Maximilian Blickfang am Münchner Isarufer Die katholische Kirche St. Maximilian MarienplatzWebcam Diese Highlights sind zu sehen Vom Alten Rathaus aus blickt unsere Webcam westwärts über den Marienplatz. Auf Münchens zentralem Platz in der Altstadt seht ihr die Mariensäule. Rechts davon steht das imposante Neue Rathaus. Dahinter sind die zwei markanten Türme des Doms Zu Unserer Lieben Frau auch Frauenkirche genannt zu sehen. Beim Linksschwenk der Webcam seht ihr die Pfarrkirche Sankt Peter, deren Turm als Alter Peter bekannt ist. Neues Rathaus So schön ist das Neue Rathaus Frauenkirche Münchens Wahrzeichen Was man zum Dom wissen muss Alter Peter Wieso sich das Steigen von 300 Stufen hier lohnt OlympiaparkWebcam Diese Highlights sind zu sehen Der Olympiaturm ist mit über 291 Metern Höhe Münchens höchstes Gebäude. Von hier schwenkt unsere Webcam von rechts nach links zunächst über das Olympiastadion, die Olympiahalle und die OlympiaSchwimmhalle mit ihrer einzigartigen ZeltdachKonstruktion. Anschließend schweift der Blick über den Olympiasee und Olympiaberg in Richtung Süden, wo bei gutem Wetter die Alpen deutlich zu sehen sind. Gegen 2115 Uhr macht die Webcam den letzten Schwenk und spielt diesen bis Sonnenaufgang. Eure Taxizentrale in München Seit über 100 Jahren ist die Taxi München eG die führende Taxizentrale in München 089 21610 TAXI RUFEN Webcam am Hauptbahnhof Diese Highlights sind zu sehen Auf unserer Webcam am BRHochhaus in der Arnulfstraße unweit des Hauptbahnhofs seht ihr bei einem Schwenk von rechts nach links im Vordergrund die SBahnStammstrecke. Dahinter fällt in Richtung Süden sofort die Theresienwiese Heimat des Oktoberfests und weiterer Veranstaltungen ins Auge. Wer genau hinschaut, kann am rechten Ende der Theresienwiese zwischen den Bäumen auch die BavariaStatue und die Ruhmeshalle von der Seite erkennen. Direkt daneben seht ihr die Kirche St. Paul. Bei guten Sichtverhältnissen sind im Hintergrund die Alpen klar zu sehen. Weiter links folgt die großflächige Dachkonstruktion des Hauptbahnhofs, ehe die Kamera ganz links einen Blick auf die Altstadt mit der Frauenkirche wirft und wieder zurückschwenkt. Hauptbahnhof Was Münchens Knotenpunkt zu bieten hat Theresienwiese Nicht nur zum Oktoberfest ein Highlight Physiotherapie Die Übersicht über Physiotherapeuten Immobiliensuche und Immobilienverkauf in München Zahnärzte in München und Umgebung\n"
     ]
    },
    {
     "name": "stderr",
     "output_type": "stream",
     "text": [
      "\n"
     ]
    }
   ],
   "source": [
    "import requests\n",
    "\n",
    "event_docs = []\n",
    "for url in tqdm(urls):\n",
    "    print(url)\n",
    "    r = requests.get(url)\n",
    "    soup = BeautifulSoup(r.content, 'html.parser')\n",
    "    # Find the main content container\n",
    "    main_content = soup.find('main', id='content')\n",
    "\n",
    "    if main_content:\n",
    "        # Extract text from the main content area\n",
    "        body_text = main_content.get_text(separator=' ', strip=True)\n",
    "        # Clean the extracted text\n",
    "        cleaned_text = clean_string(body_text)\n",
    "        event_docs.append(dict(text=cleaned_text, url=url))\n",
    "    else:\n",
    "         print(\"No content found for URL:\", url)"
   ]
  },
  {
   "cell_type": "code",
   "execution_count": 47,
   "id": "242b1e51",
   "metadata": {},
   "outputs": [
    {
     "data": {
      "text/plain": [
       "{'text': 'Ad Ausstellung im Lenbachhaus München Was zu verschwinden droht, wird Bild. In der Ausstellung Was zu verschwinden droht, wird Bild widmet sich das Lenbachhaus seit 4. März 2025 dem Thema Vergänglichkeit Gerade in Zeiten des Klimawandels eine äußerst relevante und aktuelle Thematik. Datum und Veranstaltungsort 04.06.2025 1000 until 1800 h Lenbachhaus München Städtische Galerie im Lenbachhaus und Kunstbau More actions Share on Facebook Share via WhatsApp Copy link Mensch Natur Kunst Es ist ein Gemeinplatz, erschreckend und faszinierend zugleich Alles, was in Bildern festgehalten wurde, existiert nicht mehr oder nicht mehr in der dargestellten Form. In der Kunst findet sich das Thema Vergänglichkeit oft sinnbildlich umgesetzt, als Memento Mori oder melancholische Meditation über das Verschwinden von Dingen. Auch Bilder von Träumen, Begegnungen mit Menschen, Erkundungen der Natur zeigen nur vorübergehende Momente. Manchmal wird das Flüchtige explizit zum Thema einer Darstellung, die es trotzdem festzuhalten sucht Wolken wandeln sich ständig, Schnee schmilzt bald, Bäume blühen nur kurze Zeit. In Zeiten des Klimawandels ist das Bewusstsein dafür, dass sich unsere gesamte Umwelt rasant verändert, allgegenwärtig geworden. Deshalb betrachten wir insbesondere Werke der Landschaftskunst heute mit anderen Augen. Sie zeigen eine Natur, die immer schon von Menschen beeinflusst war. Eine Landschaft ist nicht mehr nur ein schöner Anblick, sondern ein bedrohtes Ökosystem. Die Ausstellung ist um derartige Augenblicke des Erkennens gebaut. Sie zeigt bekannte wie auch selten oder bisher noch nie gezeigte Werke des 19. und 20. Jahrhunderts aus den Sammlungen des Lenbachhauses, des Historischen Vereins von Oberbayern, der Christoph Heilmann Stiftung, der Münchener Secession, der Gabriele Münter und Johannes EichnerStiftung, der KiCo Stiftung und des Förderverein Lenbachhaus e. V. Die Kunst arbeitet mit Vergänglichem und mit dem Wissen um Vergänglichkeit. Darin trifft sie sich mit der Idee des Museums, das Kunstwerke sammelt, bewahren wie auch vermitteln will. Mit Werken von Albrecht Adam, AntoineLouis Barye, Joseph Beaume, Rosa MarieRosalie Bonheur, Heinrich Bürkel, Maria CasparFilser, Lovis Corinth, JeanBaptiste Camille Corot, Johan Christian Dahl, AlexandreGabriel Decamps, Narcisse Virgilio Diaz de la Peña, Jules Luis Dupré, Maria Eichhorn, Thomas Fearnley, Thomas Theodor Heine, Jacques Hérold, Wilhelm Jakob Hertling, Paul Hoecker, Wassily Kandinsky, Wilhelm Leibl, Franz Marc, PierreJules Mêne, Christiane Möbus, Christian Ernst Bernhard Morgenstern, Gabriele Münter, Jean Bloé Niestlé, Blinky Palermo, Leo Putz, Gerhard Richter, Richard Riemerschmid, Carl Rottmann, Théodore Rousseau, Eduard Schleich d. Ä., Johann Sperl, Carl Spitzweg, Toni Stadler, Wilhelm Trübner, Timm Ulrichs, Johann Georg von Dillis, Wilhelm von Kobell, Franz von Lenbach, Gabriel von Max, Max Joseph Wagenbauer, Fritz Winter In Kooperation mit dem Kulturreferat und den Museen Dieser Beitrag wird vom Kulturreferat der LHM gefördert. Dates Wed , 04. June 2025 1000 Lenbachhaus München Thu , 05. June 2025 1000 Lenbachhaus München Fri , 06. June 2025 1000 Lenbachhaus München Sat , 07. June 2025 1000 Lenbachhaus München Sun , 08. June 2025 1000 Lenbachhaus München Tue , 10. June 2025 1000 Lenbachhaus München Wed , 11. June 2025 1000 Lenbachhaus München Thu , 12. June 2025 1000 Lenbachhaus München Fri , 13. June 2025 1000 Lenbachhaus München Sat , 14. June 2025 1000 Lenbachhaus München Sun , 15. June 2025 1000 Lenbachhaus München Tue , 17. June 2025 1000 Lenbachhaus München Wed , 18. June 2025 1000 Lenbachhaus München Thu , 19. June 2025 1000 Lenbachhaus München Fri , 20. June 2025 1000 Lenbachhaus München Sat , 21. June 2025 1000 Lenbachhaus München Sun , 22. June 2025 1000 Lenbachhaus München Sat , 28. June 2025 1000 Lenbachhaus München Sun , 29. June 2025 1000 Lenbachhaus München',\n",
       " 'url': 'https://www.muenchen.de/en/node/98241'}"
      ]
     },
     "execution_count": 47,
     "metadata": {},
     "output_type": "execute_result"
    }
   ],
   "source": [
    "event_docs[0]"
   ]
  },
  {
   "cell_type": "code",
   "execution_count": 50,
   "id": "26c18c1b",
   "metadata": {},
   "outputs": [
    {
     "name": "stderr",
     "output_type": "stream",
     "text": [
      "100%|██████████| 3/3 [00:05<00:00,  1.97s/it]\n"
     ]
    },
    {
     "data": {
      "text/plain": [
       "35"
      ]
     },
     "execution_count": 50,
     "metadata": {},
     "output_type": "execute_result"
    }
   ],
   "source": [
    "BATCH_SIZE = 16\n",
    "upload_texts_to_pinecone(\n",
    "    texts=[g['text'] for g in event_docs],\n",
    "    batch_size=BATCH_SIZE, show_progress_bar=True, \n",
    "    urls=[g['url'] for g in event_docs]\n",
    ")"
   ]
  },
  {
   "cell_type": "code",
   "execution_count": 52,
   "id": "24b22f9b",
   "metadata": {},
   "outputs": [
    {
     "data": {
      "text/plain": [
       "{'dimension': 1536,\n",
       " 'index_fullness': 0.0,\n",
       " 'metric': 'cosine',\n",
       " 'namespaces': {'default': {'vector_count': 68}},\n",
       " 'total_vector_count': 68,\n",
       " 'vector_type': 'dense'}"
      ]
     },
     "execution_count": 52,
     "metadata": {},
     "output_type": "execute_result"
    }
   ],
   "source": [
    "index.describe_index_stats()\n"
   ]
  },
  {
   "cell_type": "code",
   "execution_count": 53,
   "id": "4cbee354",
   "metadata": {},
   "outputs": [
    {
     "name": "stdout",
     "output_type": "stream",
     "text": [
      "https://www.muenchen.de/sehenswuerdigkeiten/museen/lenbachhaus-muenchen 0.587062836 g Erste Seite 1 Seite 2 Letzte Seite Nächste Seite\n",
      "https://www.muenchen.de/sehenswuerdigkeiten/museen/lenbachhaus-muenchen 0.584801555 Seite 1 Seite 2 Seite 3 Letzte Seite Nächste Seite\n",
      "https://www.muenchen.de/en/node/98241 0.566581488 nchen Sun , 29. June 2025 1000 Lenbachhaus München\n",
      "https://www.muenchen.de/sehenswuerdigkeiten/museen/infopoint-museen-schloesser-bayern 0.565301299 1000 1800 Uhr Infopoint Museen Schlösser in Bayern\n",
      "https://www.muenchen.de/sehenswuerdigkeiten/museen/archaeologische-staatssammlung 0.563959122 1000 1700 Sa 1000 1700 So 1000 1900 Nächster Slide\n",
      "https://www.muenchen.de/sehenswuerdigkeiten/museen/muenchner-stadtmuseum 0.563939095 Tel 498923322370 stadtmuseum Korrektur vorschlagen\n",
      "https://www.muenchen.de/sehenswuerdigkeiten/museen/archaeologische-staatssammlung 0.562614501 1000 1700 Sa 1000 1700 So 1000 1900 Nächster Slide\n",
      "https://www.muenchen.de/en/node/98241 0.562210083 nchen Sun , 29. June 2025 1000 Lenbachhaus München\n",
      "https://www.muenchen.de/sehenswuerdigkeiten/museen/juedisches-museum-muenchen 0.552590132 1000 1800 Sa 1000 1800 So 1000 1800 Nächster Slide\n",
      "https://www.muenchen.de/sehenswuerdigkeiten/museen/juedisches-museum-muenchen 0.551141739 1000 1800 Sa 1000 1800 So 1000 1800 Nächster Slide\n"
     ]
    }
   ],
   "source": [
    "query = 'Ich will Lenbachhaus München besuchen'\n",
    "\n",
    "results = query_from_pinecone(query, top_k=10)\n",
    "for result in results:\n",
    "    print(result['metadata']['url'], result['score'], result['metadata']['text'][-50:])"
   ]
  },
  {
   "cell_type": "markdown",
   "id": "f9699e99",
   "metadata": {},
   "source": [
    "## Using Open Source Embedders"
   ]
  },
  {
   "cell_type": "code",
   "execution_count": 111,
   "id": "c03b0cf2",
   "metadata": {},
   "outputs": [
    {
     "data": {
      "text/plain": [
       "(3, 384)"
      ]
     },
     "execution_count": 111,
     "metadata": {},
     "output_type": "execute_result"
    }
   ],
   "source": [
    "from sentence_transformers import SentenceTransformer, util\n",
    "\n",
    "open_source_embedder = SentenceTransformer('all-MiniLM-L6-v2')\n",
    "\n",
    "open_source_embedder.encode(['hi', 'hello', 'sup']).shape"
   ]
  },
  {
   "cell_type": "code",
   "execution_count": 112,
   "id": "5c781969",
   "metadata": {},
   "outputs": [
    {
     "data": {
      "text/plain": [
       "SentenceTransformer(\n",
       "  (0): Transformer({'max_seq_length': 256, 'do_lower_case': False}) with Transformer model: BertModel \n",
       "  (1): Pooling({'word_embedding_dimension': 384, 'pooling_mode_cls_token': False, 'pooling_mode_mean_tokens': True, 'pooling_mode_max_tokens': False, 'pooling_mode_mean_sqrt_len_tokens': False, 'pooling_mode_weightedmean_tokens': False, 'pooling_mode_lasttoken': False, 'include_prompt': True})\n",
       "  (2): Normalize()\n",
       ")"
      ]
     },
     "execution_count": 112,
     "metadata": {},
     "output_type": "execute_result"
    }
   ],
   "source": [
    "open_source_embedder"
   ]
  },
  {
   "cell_type": "markdown",
   "id": "cc366fe3",
   "metadata": {},
   "source": [
    "## Prune some duplicates"
   ]
  },
  {
   "cell_type": "code",
   "execution_count": 54,
   "id": "639f714b",
   "metadata": {},
   "outputs": [
    {
     "name": "stdout",
     "output_type": "stream",
     "text": [
      "68\n"
     ]
    }
   ],
   "source": [
    "stats = index.describe_index_stats()\n",
    "print(stats.get('total_vector_count'))"
   ]
  },
  {
   "cell_type": "code",
   "execution_count": 55,
   "id": "4d6aed96",
   "metadata": {},
   "outputs": [
    {
     "name": "stdout",
     "output_type": "stream",
     "text": [
      "Number of matches: 68\n",
      "First match structure:\n",
      "{'id': '303c0a9f07a1e5c6eb64d7ae44700323',\n",
      " 'metadata': {'date_uploaded': '2025-06-04T10:58:11.565665',\n",
      "              'text': 'Ad Ausstellung im MUCA über den portugiesischen '\n",
      "                      'UrbanArtKünstler Vhils Strata Das Museum of Urban and '\n",
      "                      'Contemporary Art präsentiert mit Strata die erste '\n",
      "                      'Einzelausstellung des portugiesischen UrbanArtKünstlers '\n",
      "                      'Vhils in Deutschland. Vom 12. März bis 30. November '\n",
      "                      '2025 erleben Besucherinnen seine künstlerische '\n",
      "                      'Entwicklung von 2005 bis 2025 anhand vielfältiger '\n",
      "                      'Materialien und Techniken eine Reise durch zwei '\n",
      "                      'Jahrzehnte innovativer urbaner Kunst. Datum und '\n",
      "                      'Veranstaltungsort 04.06.2025 1000 until 1800 h Museum '\n",
      "                      'of Urban and Contemporary Art Jose Pando Lucas More '\n",
      "                      'actions Share on Facebook Share via WhatsApp Copy link '\n",
      "                      'Was erwartet euch in der Ausstellung? Der '\n",
      "                      'portugiesische Künstler Vhils ist international bekannt '\n",
      "                      'für seine unkonventionelle urbane Kunst, in der er '\n",
      "                      'Oberflächen gezielt zerstört, um verborgene Geschichten '\n",
      "                      'ans Licht zu bringen. Die Ausstellung bietet ein '\n",
      "                      'immersives Erlebnis und präsentiert eindrucksvolle '\n",
      "                      'Werke aus Beton, Holz, Metall und Papier sowie Videos '\n",
      "                      'darunter filigrane Wandschnitzereien aus der Serie '\n",
      "                      'Scratching the Surfaces. Zudem werden bislang '\n",
      "                      'unveröffentlichte Archivmaterialien aus Vhils '\n",
      "                      'persönlicher Sammlung gezeigt, die nicht nur '\n",
      "                      'Kennerinnen begeistern dürften. Besucherinnen erhalten '\n",
      "                      'einen bewegenden Einblick in über 20 Jahre seines '\n",
      "                      'Schaffens und gewinnen ein tiefes Verständnis für seine '\n",
      "                      'Vision urbaner Kunst. Jose Pando Lucas '\n",
      "                      'Besucherinformationen Tickets buchbar für EUR 12 EUR 9 '\n",
      "                      'auf der MUCAWebsite oder via . Öffnungszeiten 12. März '\n",
      "                      '30. November 2025 MittwochSonntag, 1018 Uhr, '\n",
      "                      'Donnerstag, 1020 Uhr. Werk und Vision des '\n",
      "                      'UrbanArtKünstlers Vhils Vhils großformatige Werke '\n",
      "                      'sprengen die traditionellen Grenzen der Kunst und '\n",
      "                      'thematisieren Identität, Erinnerung und den Wandel '\n",
      "                      'städtischer Räume. Mit seiner subtraktiven Technik '\n",
      "                      'verändert er die Wahrnehmung der Umgebung Er ritzt '\n",
      "                      'Wände und Werbetafeln ein, um verborgene Schichten des '\n",
      "                      'Lebens freizulegen und anonymen Menschen eine Stimme zu '\n",
      "                      'geben. Für ihn ist Kunst ein Mittel, die Folgen von '\n",
      "                      'Urbanisierung und Globalisierung sichtbar zu machen. '\n",
      "                      'Dabei versteht er Zerstörung als einen schöpferischen '\n",
      "                      'Akt, der Verstecktes ans Licht bringt. Neben seiner '\n",
      "                      'charakteristischen BasreliefSchnitztechnik arbeitet er '\n",
      "                      'mit Schablonenmalerei, Metallätzung, pyrotechnischen '\n",
      "                      'Explosionen und weiteren unkonventionellen Methoden. '\n",
      "                      'Alexander Silva In cooperation with the cultural '\n",
      "                      'department and the museums This article about Munichs '\n",
      "                      'museums is sponsored by the Cultural Department of the '\n",
      "                      'City of Munich and was conceived in cooperation with '\n",
      "                      'the State Agency for NonState Museums in Bavaria. The '\n",
      "                      'content has been coordinated between the participating '\n",
      "                      'museums and , the official city portal. This might also '\n",
      "                      'interest you Dates Wed , 04. June 2025 1000 Museum of '\n",
      "                      'Urban and Contemporary Art Thu , 05. June 2025 1000 '\n",
      "                      'Museum of Urban and Contemporary Art Fri , 06. June '\n",
      "                      '2025 1000 Museum of Urban and Contemporary Art Sat , '\n",
      "                      '07. June 2025 1000 Museum of Urban and Contemporary Art '\n",
      "                      'Sun , 08. June 2025 1000 Museum of Urban and '\n",
      "                      'Contemporary Art Wed , 11. June 2025 1000 Museum of '\n",
      "                      'Urban and Contemporary Art Thu , 12. June 2025 1000 '\n",
      "                      'Museum of Urban and Contemporary Art Fri , 13. June '\n",
      "                      '2025 1000 Museum of Urban and Contemporary Art Sat , '\n",
      "                      '14. June 2025 1000 Museum of Urban and Contemporary Art '\n",
      "                      'Sun , 15. June 2025 1000 Museum of Urban and '\n",
      "                      'Contemporary Art Wed , 18. June 2025 1000 Museum of '\n",
      "                      'Urban and Contemporary Art Thu , 19. June 2025 1000 '\n",
      "                      'Museum of Urban and Contemporary Art Fri , 20. June '\n",
      "                      '2025 1000 Museum of Urban and Contemporary Art Sat , '\n",
      "                      '21. June 2025 1000 Museum of Urban and Contemporary Art '\n",
      "                      'Sun , 22. June 2025 1000 Museum of Urban and '\n",
      "                      'Contemporary Art Wed , 25. June 2025 1000 Museum of '\n",
      "                      'Urban and Contemporary Art Thu , 26. June 2025 1000 '\n",
      "                      'Museum of Urban and Contemporary Art Fri , 27. June '\n",
      "                      '2025 1000 Museum of Urban and Contemporary Art Sat , '\n",
      "                      '28. June 2025 1000 Museum of Urban and Contemporary Art '\n",
      "                      'Sun , 29. June 2025 1000 Museum of Urban and '\n",
      "                      'Contemporary Art Wed , 02. July 2025 1000 Museum of '\n",
      "                      'Urban and Contemporary Art Thu , 03. July 2025 1000 '\n",
      "                      'Museum of Urban and Contemporary Art Fri , 04. July '\n",
      "                      '2025 1000 Museum of Urban and Contemporary Art Sat , '\n",
      "                      '05. July 2025 1000 Museum of Urban and Contemporary Art '\n",
      "                      'Sun , 06. July 2025 1000 Museum of Urban and '\n",
      "                      'Contemporary Art Wed , 09. July 2025 1000 Museum of '\n",
      "                      'Urban and Contemporary Art Thu , 10. July 2025 1000 '\n",
      "                      'Museum of Urban and Contemporary Art Fri , 11. July '\n",
      "                      '2025 1000 Museum of Urban and Contemporary Art Sat , '\n",
      "                      '12. July 2025 1000 Museum of Urban and Contemporary Art '\n",
      "                      'Sun , 13. July 2025 1000 Museum of Urban and '\n",
      "                      'Contemporary Art Wed , 16. July 2025 1000 Museum of '\n",
      "                      'Urban and Contemporary Art Thu , 17. July 2025 1000 '\n",
      "                      'Museum of Urban and Contemporary Art Fri , 18. July '\n",
      "                      '2025 1000 Museum of Urban and Contemporary Art Sat , '\n",
      "                      '19. July 2025 1000 Museum of Urban and Contemporary Art '\n",
      "                      'Sun , 20. July 2025 1000 Museum of Urban and '\n",
      "                      'Contemporary Art Wed , 23. July 2025 1000 Museum of '\n",
      "                      'Urban and Contemporary Art Thu , 24. July 2025 1000 '\n",
      "                      'Museum of Urban and Contemporary Art Fri , 25. July '\n",
      "                      '2025 1000 Museum of Urban and Contemporary Art Sat , '\n",
      "                      '26. July 2025 1000 Museum of Urban and Contemporary Art '\n",
      "                      'Sun , 27. July 2025 1000 Museum of Urban and '\n",
      "                      'Contemporary Art Wed , 30. July 2025 1000 Museum of '\n",
      "                      'Urban and Contemporary Art Thu , 31. July 2025 1000 '\n",
      "                      'Museum of Urban and Contemporary Art Fri , 01. August '\n",
      "                      '2025 1000 Museum of Urban and Contemporary Art Sat , '\n",
      "                      '02. August 2025 1000 Museum of Urban and Contemporary '\n",
      "                      'Art Sun , 03. August 2025 1000 Museum of Urban and '\n",
      "                      'Contemporary Art Wed , 06. August 2025 1000 Museum of '\n",
      "                      'Urban and Contemporary Art Thu , 07. August 2025 1000 '\n",
      "                      'Museum of Urban and Contemporary Art Fri , 08. August '\n",
      "                      '2025 1000 Museum of Urban and Contemporary Art Sat , '\n",
      "                      '09. August 2025 1000 Museum of Urban and Contemporary '\n",
      "                      'Art Sun , 10. August 2025 1000 Museum of Urban and '\n",
      "                      'Contemporary Art Wed , 13. August 2025 1000 Museum of '\n",
      "                      'Urban and Contemporary Art Thu , 14. August 2025 1000 '\n",
      "                      'Museum of Urban and Contemporary Art Fri , 15. August '\n",
      "                      '2025 1000 Museum of Urban and Contemporary Art Sat , '\n",
      "                      '16. August 2025 1000 Museum of Urban and Contemporary '\n",
      "                      'Art Sun , 17. August 2025 1000 Museum of Urban and '\n",
      "                      'Contemporary Art Wed , 20. August 2025 1000 Museum of '\n",
      "                      'Urban and Contemporary Art Thu , 21. August 2025 1000 '\n",
      "                      'Museum of Urban and Contemporary Art Fri , 22. August '\n",
      "                      '2025 1000 Museum of Urban and Contemporary Art Sat , '\n",
      "                      '23. August 2025 1000 Museum of Urban and Contemporary '\n",
      "                      'Art Sun , 24. August 2025 1000 Museum of Urban and '\n",
      "                      'Contemporary Art Wed , 27. August 2025 1000 Museum of '\n",
      "                      'Urban and Contemporary Art Thu , 28. August 2025 1000 '\n",
      "                      'Museum of Urban and Contemporary Art Fri , 29. August '\n",
      "                      '2025 1000 Museum of Urban and Contemporary Art Sat , '\n",
      "                      '30. August 2025 1000 Museum of Urban and Contemporary '\n",
      "                      'Art Sun , 31. August 2025 1000 Museum of Urban and '\n",
      "                      'Contemporary Art Wed , 03. September 2025 1000 Museum '\n",
      "                      'of Urban and Contemporary Art Thu , 04. September 2025 '\n",
      "                      '1000 Museum of Urban and Contemporary Art Fri , 05. '\n",
      "                      'September 2025 1000 Museum of Urban and Contemporary '\n",
      "                      'Art Sat , 06. September 2025 1000 Museum of Urban and '\n",
      "                      'Contemporary Art Sun , 07. September 2025 1000 Museum '\n",
      "                      'of Urban and Contemporary Art Wed , 10. September 2025 '\n",
      "                      '1000 Museum of Urban and Contemporary Art Thu , 11. '\n",
      "                      'September 2025 1000 Museum of Urban and Contemporary '\n",
      "                      'Art Fri , 12. September 2025 1000 Museum of Urban and '\n",
      "                      'Contemporary Art Fri , 12. September 2025 1000 Museum '\n",
      "                      'of Urban and Contemporary Art Sat , 13. September 2025 '\n",
      "                      '1000 Museum of Urban and Contemporary Art Sun , 14. '\n",
      "                      'September 2025 1000 Museum of Urban and Contemporary '\n",
      "                      'Art Wed , 17. September 2025 1000 Museum of Urban and '\n",
      "                      'Contemporary Art Thu , 18. September 2025 1000 Museum '\n",
      "                      'of Urban and Contemporary Art Fri , 19. September 2025 '\n",
      "                      '1000 Museum of Urban and Contemporary Art Sat , 20. '\n",
      "                      'September 2025 1000 Museum of Urban and Contemporary '\n",
      "                      'Art Sun , 21. September 2025 1000 Museum of Urban and '\n",
      "                      'Contemporary Art Wed , 24. September 2025 1000 Museum '\n",
      "                      'of Urban and Contemporary Art Thu , 25. September 2025 '\n",
      "                      '1000 Museum of Urban and Contemporary Art Fri , 26. '\n",
      "                      'September 2025 1000 Museum of Urban and Contemporary '\n",
      "                      'Art Sat , 27. September 2025 1000 Museum of Urban and '\n",
      "                      'Contemporary Art Sun , 28. September 2025 1000 Museum '\n",
      "                      'of Urban and Contemporary Art Wed , 01. October 2025 '\n",
      "                      '1000 Museum of Urban and Contemporary Art Thu , 02. '\n",
      "                      'October 2025 1000 Museum of Urban and Contemporary Art '\n",
      "                      'Fri , 03. October 2025 1000 Museum of Urban and '\n",
      "                      'Contemporary Art Sat , 04. October 2025 1000 Museum of '\n",
      "                      'Urban and Contemporary Art Sun , 05. October 2025 1000 '\n",
      "                      'Museum of Urban and Contemporary Art Wed , 08. October '\n",
      "                      '2025 1000 Museum of Urban and Contemporary Art Thu , '\n",
      "                      '09. October 2025 1000 Museum of Urban and Contemporary '\n",
      "                      'Art Fri , 10. October 2025 1000 Museum of Urban and '\n",
      "                      'Contemporary Art Sat , 11. October 2025 1000 Museum of '\n",
      "                      'Urban and Contemporary Art Sun , 12. October 2025 1000 '\n",
      "                      'Museum of Urban and Contemporary Art Wed , 15. October '\n",
      "                      '2025 1000 Museum of Urban and Contemporary Art Thu , '\n",
      "                      '16. October 2025 1000 Museum of Urban and Contemporary '\n",
      "                      'Art Fri , 17. October 2025 1000 Museum of Urban and '\n",
      "                      'Contemporary Art Sat , 18. October 2025 1000 Museum of '\n",
      "                      'Urban and Contemporary Art',\n",
      "              'url': 'https://www.muenchen.de/en/node/96560'},\n",
      " 'score': 0.0,\n",
      " 'values': []}\n",
      "DataFrame columns: ['id', 'url', 'date_uploaded']\n",
      "DataFrame shape: (68, 3)\n",
      "Found 29 duplicate URLs\n",
      "Deleting 29 duplicate vectors\n"
     ]
    }
   ],
   "source": [
    "import pandas as pd\n",
    "\n",
    "dimension = 1536  # Your embedding dimension for text-embedding-3-small\n",
    "zero_vector = [0.0] * dimension\n",
    "total_vector_count = stats.get('total_vector_count')\n",
    "# Query with this vector and a high limit to fetch all\n",
    "all_vectors = index.query(\n",
    "    vector=zero_vector,\n",
    "    top_k=total_vector_count,  # Set higher if you have more vectors\n",
    "    include_metadata=True,\n",
    "    namespace=NAMESPACE\n",
    ")\n",
    "\n",
    "# Convert to DataFrame\n",
    "# scraped_df = pd.DataFrame(all_vectors['matches'])\n",
    "\n",
    "\n",
    "# Option 2: If you know IDs, use list + fetch\n",
    "# First get stats to know vector count\n",
    "# stats = index.describe_index_stats()\n",
    "# total_vectors = stats['namespaces'][NAMESPACE]['vector_count']\n",
    "\n",
    "# First, check if there are any matches at all\n",
    "print(f\"Number of matches: {len(all_vectors['matches'])}\")\n",
    "\n",
    "# If there are matches, print the first one to see its structure\n",
    "if all_vectors['matches']:\n",
    "    print(\"First match structure:\")\n",
    "    print(all_vectors['matches'][0])\n",
    "\n",
    "# scraped_df = pd.json_normalize(all_vectors['matches'])\n",
    "# Method 1 (above not working) Extract data manually to create a structured DataFrame\n",
    "data = []\n",
    "for match in all_vectors['matches']:\n",
    "    item = {\n",
    "        'id': match['id'],\n",
    "        'url': match['metadata'].get('url', ''),\n",
    "        'date_uploaded': match['metadata'].get('date_uploaded', '')\n",
    "    }\n",
    "    data.append(item)\n",
    "\n",
    "scraped_df = pd.DataFrame(data)\n",
    "\n",
    "# Print all column names to verify the structure\n",
    "print(\"DataFrame columns:\", scraped_df.columns.tolist())\n",
    "\n",
    "# Check if we have any data\n",
    "print(f\"DataFrame shape: {scraped_df.shape}\")\n",
    "\n",
    "# Find duplicates and remove them\n",
    "duplicates = scraped_df[scraped_df.duplicated(subset=['url'], keep='first')]\n",
    "duplicate_ids = duplicates['id'].tolist()\n",
    "\n",
    "print(f\"Found {len(duplicate_ids)} duplicate URLs\")\n",
    "\n",
    "# Delete duplicates from Pinecone\n",
    "if duplicate_ids:\n",
    "    print(f\"Deleting {len(duplicate_ids)} duplicate vectors\")\n",
    "    index.delete(ids=duplicate_ids, namespace=NAMESPACE)"
   ]
  },
  {
   "cell_type": "code",
   "execution_count": 56,
   "id": "d68cb3a7",
   "metadata": {},
   "outputs": [
    {
     "name": "stdout",
     "output_type": "stream",
     "text": [
      "39\n"
     ]
    }
   ],
   "source": [
    "stats = index.describe_index_stats()\n",
    "print(stats.get('total_vector_count'))"
   ]
  },
  {
   "cell_type": "markdown",
   "id": "3d9752cd",
   "metadata": {},
   "source": [
    "### Synthetic test data generation"
   ]
  },
  {
   "cell_type": "code",
   "execution_count": 57,
   "id": "1fc9c2ef",
   "metadata": {},
   "outputs": [],
   "source": [
    "synthetic_data_prompt = '''I am designing a chatbot to use this document as information to our users.\n",
    "\n",
    "Please write 10 questions that an average person not living in Munich interested in events, might ask that can definitely be answered using information using the provided document.\n",
    "\n",
    "Try to ask in a way that's confusing to really test our system's knowledge but still fair.\n",
    "\n",
    "I need 5 in german, 2 in english in that order.\n",
    "\n",
    "Use this format to output:\n",
    "Document: A given document to make questions from\n",
    "JSON: [\"german question 1\", \"german question 2\", \"german question 3\", ...  \"english question 1\", \"english question 2\"]\n",
    "###\n",
    "Document: {document}\n",
    "JSON:'''\n",
    "\n",
    "response = openai_client.chat.completions.create(\n",
    "    model='gpt-4o',\n",
    "    messages=[{\"role\": \"user\", \"content\": synthetic_data_prompt.format(document=event_docs[1]['text'])}],\n",
    "    temperature=1\n",
    ")"
   ]
  },
  {
   "cell_type": "code",
   "execution_count": 58,
   "id": "cb0bcd86",
   "metadata": {},
   "outputs": [],
   "source": [
    "languages = ['german']*5+['english']*2"
   ]
  },
  {
   "cell_type": "code",
   "execution_count": 59,
   "id": "63220019",
   "metadata": {},
   "outputs": [
    {
     "data": {
      "text/plain": [
       "[('german', 'Welche Techniken verwendet Vhils in seiner Kunst?'),\n",
       " ('german', 'Wann genau kann man die Ausstellung im Juni 2025 besuchen?'),\n",
       " ('german',\n",
       "  'Welche Materialien nutzt Vhils für seine Kunstwerke in der Ausstellung im MUCA?'),\n",
       " ('german',\n",
       "  'Wie lange erstreckt sich die künstlerische Entwicklung, die in der Ausstellung dargestellt wird?'),\n",
       " ('german', 'Ist die Ausstellung auch donnerstags länger geöffnet?'),\n",
       " ('english', \"What is the significance of Vhils' subtractive technique?\"),\n",
       " ('english', \"Who sponsors the article about Munich's museums?\")]"
      ]
     },
     "execution_count": 59,
     "metadata": {},
     "output_type": "execute_result"
    }
   ],
   "source": [
    "import json\n",
    "\n",
    "list(zip(\n",
    "    languages,\n",
    "    json.loads('[' + response.choices[0].message.content.split('[')[-1].strip().split(']')[0].strip() + ']')\n",
    "))"
   ]
  },
  {
   "cell_type": "code",
   "execution_count": 60,
   "id": "ce79ea4e",
   "metadata": {},
   "outputs": [
    {
     "name": "stderr",
     "output_type": "stream",
     "text": [
      " 10%|█         | 1/10 [00:04<00:40,  4.45s/it]"
     ]
    },
    {
     "name": "stdout",
     "output_type": "stream",
     "text": [
      "Could not generate questions for index 0: \n"
     ]
    },
    {
     "name": "stderr",
     "output_type": "stream",
     "text": [
      "100%|██████████| 10/10 [00:42<00:00,  4.23s/it]\n"
     ]
    }
   ],
   "source": [
    "synthetic_questions = []\n",
    "from random import sample\n",
    "\n",
    "# generate synthetic test data for a sample 30% of the urls found\n",
    "SAMPLE = .3\n",
    "for i, event_doc in enumerate(tqdm(sample(event_docs, int(len(event_docs) * SAMPLE)))):\n",
    "        \n",
    "    response = openai_client.chat.completions.create(\n",
    "        model='gpt-4o',\n",
    "        messages=[{\"role\": \"user\", \"content\": synthetic_data_prompt.format(document=event_doc['text'])}],\n",
    "        temperature=1\n",
    "    )\n",
    "    try:\n",
    "        questions = json.loads('[' + response.choices[0].message.content.split('[')[-1].strip().split(']')[0].strip() + ']')\n",
    "        questions = [q.strip() for q in questions]\n",
    "        assert len(questions) == len(languages)\n",
    "        for language, question in zip(languages, questions):\n",
    "            synthetic_questions.append(\n",
    "            dict(\n",
    "                language=language, \n",
    "                query=question, \n",
    "                expected_hash=my_hash(event_doc['text'])\n",
    "            )\n",
    "        )\n",
    "    except Exception as e:\n",
    "        print(f'Could not generate questions for index {i}: {e}')"
   ]
  },
  {
   "cell_type": "code",
   "execution_count": 61,
   "id": "1de2a10d",
   "metadata": {},
   "outputs": [
    {
     "data": {
      "text/plain": [
       "63"
      ]
     },
     "execution_count": 61,
     "metadata": {},
     "output_type": "execute_result"
    }
   ],
   "source": [
    "len(synthetic_questions)"
   ]
  },
  {
   "cell_type": "code",
   "execution_count": 62,
   "id": "b7892144",
   "metadata": {},
   "outputs": [
    {
     "name": "stdout",
     "output_type": "stream",
     "text": [
      "[575aeafbc7ccd5e39ee4fdf278fbef1f] [german] Wann beginnt und endet die Ausstellung 'Fünf Freunde' im Museum Brandhorst?\n",
      "[575aeafbc7ccd5e39ee4fdf278fbef1f] [german] Welche fünf Künstler stehen im Mittelpunkt der Ausstellung 'Fünf Freunde'?\n",
      "[575aeafbc7ccd5e39ee4fdf278fbef1f] [german] Was sind die Öffnungszeiten des Museum Brandhorst im Juni 2025?\n",
      "[575aeafbc7ccd5e39ee4fdf278fbef1f] [german] Gibt es zusätzliche Veranstaltungen im Rahmen von 'Fünf Freunde', und wenn ja, wo finden sie statt?\n",
      "[575aeafbc7ccd5e39ee4fdf278fbef1f] [german] Wie wird Cy Twomblys Einfluss in der Ausstellung hervorgehoben?\n",
      "[575aeafbc7ccd5e39ee4fdf278fbef1f] [english] Who are the artists featured in the 'Fünf Freunde' exhibition at the Museum Brandhorst?\n",
      "[575aeafbc7ccd5e39ee4fdf278fbef1f] [english] What additional events are part of the 'Fünf Freunde' festival, and where do they occur?\n",
      "[2bee1f8f40712dc8027c2948f4bb55b0] [german] Bis wann läuft die Ausstellung im Jüdischen Museum München?\n",
      "[2bee1f8f40712dc8027c2948f4bb55b0] [german] Wer ist Eva Jünger in Bezug auf das Jüdische Museum München?\n",
      "[2bee1f8f40712dc8027c2948f4bb55b0] [german] Welches Thema steht im Mittelpunkt der Ausstellung im Jüdischen Museum München?\n"
     ]
    }
   ],
   "source": [
    "for q in synthetic_questions[:10]:\n",
    "    # print query, expected_hash, language\n",
    "    print(f\"[{q['expected_hash']}] [{q['language']}] {q['query']}\")\n",
    "    # print(f\"[{q['language']}] {q['query']}\")"
   ]
  },
  {
   "cell_type": "code",
   "execution_count": 63,
   "id": "31561e72",
   "metadata": {},
   "outputs": [
    {
     "data": {
      "text/plain": [
       "[{'id': 'e938a2328fb5e2748d11560b8591affb',\n",
       "  'metadata': {'date_uploaded': '2025-06-04T10:58:11.565665',\n",
       "               'text': 'Ad Ausstellung im Lenbachhaus München Was zu '\n",
       "                       'verschwinden droht, wird Bild. In der Ausstellung Was '\n",
       "                       'zu verschwinden droht, wird Bild widmet sich das '\n",
       "                       'Lenbachhaus seit 4. März 2025 dem Thema Vergänglichkeit '\n",
       "                       'Gerade in Zeiten des Klimawandels eine äußerst '\n",
       "                       'relevante und aktuelle Thematik. Datum und '\n",
       "                       'Veranstaltungsort 04.06.2025 1000 until 1800 h '\n",
       "                       'Lenbachhaus München Städtische Galerie im Lenbachhaus '\n",
       "                       'und Kunstbau More actions Share on Facebook Share via '\n",
       "                       'WhatsApp Copy link Mensch Natur Kunst Es ist ein '\n",
       "                       'Gemeinplatz, erschreckend und faszinierend zugleich '\n",
       "                       'Alles, was in Bildern festgehalten wurde, existiert '\n",
       "                       'nicht mehr oder nicht mehr in der dargestellten Form. '\n",
       "                       'In der Kunst findet sich das Thema Vergänglichkeit oft '\n",
       "                       'sinnbildlich umgesetzt, als Memento Mori oder '\n",
       "                       'melancholische Meditation über das Verschwinden von '\n",
       "                       'Dingen. Auch Bilder von Träumen, Begegnungen mit '\n",
       "                       'Menschen, Erkundungen der Natur zeigen nur '\n",
       "                       'vorübergehende Momente. Manchmal wird das Flüchtige '\n",
       "                       'explizit zum Thema einer Darstellung, die es trotzdem '\n",
       "                       'festzuhalten sucht Wolken wandeln sich ständig, Schnee '\n",
       "                       'schmilzt bald, Bäume blühen nur kurze Zeit. In Zeiten '\n",
       "                       'des Klimawandels ist das Bewusstsein dafür, dass sich '\n",
       "                       'unsere gesamte Umwelt rasant verändert, allgegenwärtig '\n",
       "                       'geworden. Deshalb betrachten wir insbesondere Werke der '\n",
       "                       'Landschaftskunst heute mit anderen Augen. Sie zeigen '\n",
       "                       'eine Natur, die immer schon von Menschen beeinflusst '\n",
       "                       'war. Eine Landschaft ist nicht mehr nur ein schöner '\n",
       "                       'Anblick, sondern ein bedrohtes Ökosystem. Die '\n",
       "                       'Ausstellung ist um derartige Augenblicke des Erkennens '\n",
       "                       'gebaut. Sie zeigt bekannte wie auch selten oder bisher '\n",
       "                       'noch nie gezeigte Werke des 19. und 20. Jahrhunderts '\n",
       "                       'aus den Sammlungen des Lenbachhauses, des Historischen '\n",
       "                       'Vereins von Oberbayern, der Christoph Heilmann '\n",
       "                       'Stiftung, der Münchener Secession, der Gabriele Münter '\n",
       "                       'und Johannes EichnerStiftung, der KiCo Stiftung und des '\n",
       "                       'Förderverein Lenbachhaus e. V. Die Kunst arbeitet mit '\n",
       "                       'Vergänglichem und mit dem Wissen um Vergänglichkeit. '\n",
       "                       'Darin trifft sie sich mit der Idee des Museums, das '\n",
       "                       'Kunstwerke sammelt, bewahren wie auch vermitteln will. '\n",
       "                       'Mit Werken von Albrecht Adam, AntoineLouis Barye, '\n",
       "                       'Joseph Beaume, Rosa MarieRosalie Bonheur, Heinrich '\n",
       "                       'Bürkel, Maria CasparFilser, Lovis Corinth, JeanBaptiste '\n",
       "                       'Camille Corot, Johan Christian Dahl, AlexandreGabriel '\n",
       "                       'Decamps, Narcisse Virgilio Diaz de la Peña, Jules Luis '\n",
       "                       'Dupré, Maria Eichhorn, Thomas Fearnley, Thomas Theodor '\n",
       "                       'Heine, Jacques Hérold, Wilhelm Jakob Hertling, Paul '\n",
       "                       'Hoecker, Wassily Kandinsky, Wilhelm Leibl, Franz Marc, '\n",
       "                       'PierreJules Mêne, Christiane Möbus, Christian Ernst '\n",
       "                       'Bernhard Morgenstern, Gabriele Münter, Jean Bloé '\n",
       "                       'Niestlé, Blinky Palermo, Leo Putz, Gerhard Richter, '\n",
       "                       'Richard Riemerschmid, Carl Rottmann, Théodore Rousseau, '\n",
       "                       'Eduard Schleich d. Ä., Johann Sperl, Carl Spitzweg, '\n",
       "                       'Toni Stadler, Wilhelm Trübner, Timm Ulrichs, Johann '\n",
       "                       'Georg von Dillis, Wilhelm von Kobell, Franz von '\n",
       "                       'Lenbach, Gabriel von Max, Max Joseph Wagenbauer, Fritz '\n",
       "                       'Winter In Kooperation mit dem Kulturreferat und den '\n",
       "                       'Museen Dieser Beitrag wird vom Kulturreferat der LHM '\n",
       "                       'gefördert. Dates Wed , 04. June 2025 1000 Lenbachhaus '\n",
       "                       'München Thu , 05. June 2025 1000 Lenbachhaus München '\n",
       "                       'Fri , 06. June 2025 1000 Lenbachhaus München Sat , 07. '\n",
       "                       'June 2025 1000 Lenbachhaus München Sun , 08. June 2025 '\n",
       "                       '1000 Lenbachhaus München Tue , 10. June 2025 1000 '\n",
       "                       'Lenbachhaus München Wed , 11. June 2025 1000 '\n",
       "                       'Lenbachhaus München Thu , 12. June 2025 1000 '\n",
       "                       'Lenbachhaus München Fri , 13. June 2025 1000 '\n",
       "                       'Lenbachhaus München Sat , 14. June 2025 1000 '\n",
       "                       'Lenbachhaus München Sun , 15. June 2025 1000 '\n",
       "                       'Lenbachhaus München Tue , 17. June 2025 1000 '\n",
       "                       'Lenbachhaus München Wed , 18. June 2025 1000 '\n",
       "                       'Lenbachhaus München Thu , 19. June 2025 1000 '\n",
       "                       'Lenbachhaus München Fri , 20. June 2025 1000 '\n",
       "                       'Lenbachhaus München Sat , 21. June 2025 1000 '\n",
       "                       'Lenbachhaus München Sun , 22. June 2025 1000 '\n",
       "                       'Lenbachhaus München Sat , 28. June 2025 1000 '\n",
       "                       'Lenbachhaus München Sun , 29. June 2025 1000 '\n",
       "                       'Lenbachhaus München',\n",
       "               'url': 'https://www.muenchen.de/en/node/98241'},\n",
       "  'score': 0.662914276,\n",
       "  'values': []},\n",
       " {'id': 'edf93bc02d61e9fdd04fd498d92aa0e8',\n",
       "  'metadata': {'date_uploaded': '2025-06-04T10:58:11.565665',\n",
       "               'text': 'Ad Ausstellung im Lenbachhaus Der Blaue Reiter Eine '\n",
       "                       'neue Sprache Das Lenbachhaus zeigt bis Winter 2025 2026 '\n",
       "                       'eine frische Präsentation der Werke des Blauen Reiter '\n",
       "                       'unter dem Titel Eine neue Sprache. Da zahlreiche '\n",
       "                       'Exponate in die Tate London verliehen sind, ist Platz '\n",
       "                       'für eine überraschende Auswahl an Gemälde, Grafiken, '\n",
       "                       'Hinterglasbilder, Fotografien und Skulpturen, darunter '\n",
       "                       'Neuerwerbungen und selten gezeigte Objekte. Mit ca. 250 '\n",
       "                       'Werken führt die Ausstellung von der bewegten Zeit um '\n",
       "                       'die Jahrhundertwende bis in die Mitte des 20. '\n",
       "                       'Jahrhunderts Datum und Veranstaltungsort 04.06.2025 '\n",
       "                       '1000 until 1800 h Lenbachhaus München Städtische '\n",
       "                       'Galerie im Lenbachhaus und Kunstbau '\n",
       "                       'MünchenRechtsnachfolge der Künstlerin More actions '\n",
       "                       'Share on Facebook Share via WhatsApp Copy link Neue '\n",
       "                       'Sicht auf den Blauen Reiter mit Werken von Klee, '\n",
       "                       'Kandinsky, Marc Zahlreiche Arbeiten waren lange nicht '\n",
       "                       'mehr zu sehen, wie die Werke Paul Klees und die '\n",
       "                       'dynamischen Abstraktionen Wassily Kandinsky aus dem '\n",
       "                       'Jahr 1914. Aktuelle Neuankäufe des Fördervereins des '\n",
       "                       'Lenbachhauses werden erstmals präsentiert, darunter '\n",
       "                       'Werke von Franz Marc, Maria FranckMarc sowie von dem im '\n",
       "                       'Nationalsozialismus verfolgten und ermordeten Künstler '\n",
       "                       'Moissey Kogan. Die Entwicklung einer neuen Sprache '\n",
       "                       'steht im Fokus der Ausstellung, die den Blick auch auf '\n",
       "                       'die unmittelbare Vorgeschichte des Blauen Reiter sowie '\n",
       "                       'auf seine Nachwirkungen lenkt So sind etwa die um die '\n",
       "                       'Jahrhundertwende in München tätige JugendstilKünstlerin '\n",
       "                       'Katharine Schäffner mit ihrem dynamischen und die '\n",
       "                       'Abstraktion antizipierenden Druckwerk und Gabriele '\n",
       "                       'Münters durchkomponierte Fotografien während ihrer '\n",
       "                       'Amerikareise für diese Geschichte ebenso prägend wie '\n",
       "                       'die Arbeiten von Adriaan Korteweg und Paul Klee, die in '\n",
       "                       'ihren Bildern die Ideen des Blauen Reiter '\n",
       "                       'weiterentwickeln. Bild oben Elisabeth Epstein, '\n",
       "                       'Selbstporträt, 1911, erworben 2019, Städtische Galerie '\n",
       "                       'im Lenbachhaus und Kunstbau München, im Andenken an '\n",
       "                       'Jerome Pustilnik, New York City, Rechtsnachfolge der '\n",
       "                       'Künstlerin Mehr Infos zum Lenbachhaus In cooperation '\n",
       "                       'with the cultural department and the museums This '\n",
       "                       'article about Munichs museums is sponsored by the '\n",
       "                       'Cultural Department of the City of Munich and was '\n",
       "                       'conceived in cooperation with the State Agency for '\n",
       "                       'NonState Museums in Bavaria. The content has been '\n",
       "                       'coordinated between the participating museums and , the '\n",
       "                       'official city portal. This might also interest you '\n",
       "                       'Dates Wed , 04. June 2025 1000 Lenbachhaus München Thu '\n",
       "                       ', 05. June 2025 1000 Lenbachhaus München Fri , 06. June '\n",
       "                       '2025 1000 Lenbachhaus München Sat , 07. June 2025 1000 '\n",
       "                       'Lenbachhaus München Sun , 08. June 2025 1000 '\n",
       "                       'Lenbachhaus München Mon , 09. June 2025 1000 '\n",
       "                       'Lenbachhaus München Tue , 10. June 2025 1000 '\n",
       "                       'Lenbachhaus München Wed , 11. June 2025 1000 '\n",
       "                       'Lenbachhaus München Thu , 12. June 2025 1000 '\n",
       "                       'Lenbachhaus München Fri , 13. June 2025 1000 '\n",
       "                       'Lenbachhaus München Sat , 14. June 2025 1000 '\n",
       "                       'Lenbachhaus München Sun , 15. June 2025 1000 '\n",
       "                       'Lenbachhaus München Tue , 17. June 2025 1000 '\n",
       "                       'Lenbachhaus München Wed , 18. June 2025 1000 '\n",
       "                       'Lenbachhaus München Thu , 19. June 2025 1000 '\n",
       "                       'Lenbachhaus München Fri , 20. June 2025 1000 '\n",
       "                       'Lenbachhaus München Sat , 21. June 2025 1000 '\n",
       "                       'Lenbachhaus München Sun , 22. June 2025 1000 '\n",
       "                       'Lenbachhaus München Wed , 25. June 2025 1000 '\n",
       "                       'Lenbachhaus München Sat , 28. June 2025 1000 '\n",
       "                       'Lenbachhaus München Sun , 29. June 2025 1000 '\n",
       "                       'Lenbachhaus München',\n",
       "               'url': 'https://www.muenchen.de/en/node/67524'},\n",
       "  'score': 0.577346802,\n",
       "  'values': []},\n",
       " {'id': 'd101e1776d987cfe5951635ca3f81e30',\n",
       "  'metadata': {'date_uploaded': '2025-06-04T10:58:11.565665',\n",
       "               'text': 'Lenbachhaus Entdeckt die berühmte Sammlung des Blauen '\n",
       "                       'Reiter Lenbachhaus München Infos zur städtischen '\n",
       "                       'Galerie, Ausstellungen und Kunstbau Das Lenbachhaus ist '\n",
       "                       'berühmt für die weltweit größte Sammlung der Gruppe des '\n",
       "                       'Blauen Reiter um Franz Marc. Es gibt aber noch viele '\n",
       "                       'weitere Gemälde zu entdecken. Adresse und '\n",
       "                       'Öffnungszeiten Luisenstr. 33 , 80333 München '\n",
       "                       'Öffnungszeiten Mi geöffnet 1000 1800 Mo geschlossen Di '\n",
       "                       '1000 1800 Mi 1000 1800 Do 1000 2000 Fr 1000 1800 Sa '\n",
       "                       '1000 1800 So 1000 1800 Hinweis Jeden 1. Donnerstag im '\n",
       "                       'Monat ist der Eintritt von 18 bis 22 Uhr frei. Anfahrt '\n",
       "                       'Städtische Galerie im Lenbachhaus und Kunstbau Weitere '\n",
       "                       'Aktionen Teilen auf Facebook Teilen via WhatsApp '\n",
       "                       'Kopieren Warum lohnt sich ein Besuch im Lenbachhaus? F. '\n",
       "                       'Holzherr, Städt. Galerie im Lenbachhaus Kunstbau Schon '\n",
       "                       'von Außen ist das Lenbachhaus ein Blickfang Eine '\n",
       "                       'historische Künstlervilla mit modernem Anbau Die '\n",
       "                       'weltweite größte Sammlung des Blauen Reiter ist ein '\n",
       "                       'Muss für Touristen und Einheimische! Was ist geboten? '\n",
       "                       'Das Lenbachhaus präsentiert die Münchner Kunst des 19. '\n",
       "                       'Jahrhunderts, des Blauen Reiter und der Neuen '\n",
       "                       'Sachlichkeit, sowie der internationalen '\n",
       "                       'Gegenwartskunst. Viele weltberühmte Originale wie Das '\n",
       "                       'blaue Pferd von Franz Marc oder Das türkische Café von '\n",
       "                       'August Macke sind hier zu sehen. Hinzu kommen '\n",
       "                       'wechselnde Sonderausstellungen zu internationalen '\n",
       "                       'zeitgenössischen Künstlerinnen und Klassikern aus der '\n",
       "                       'Sammlung sowie vielfältige Führungs und Workshopformate '\n",
       "                       'für Kinder, Erwachsene, und Seniorinnen. Was ist das '\n",
       "                       'Besondere? Auch die Architektur des Museums ist ein '\n",
       "                       'Highlight Die 1887 im toskanischen Stil von Gabriel von '\n",
       "                       'Seidl errichtete Künstlervilla wurde 2013 durch einen '\n",
       "                       'modernen kubischen Anbau vom englischen Architekturbüro '\n",
       "                       'FosterPartners erweitert. Entspannt Kunstpause machen '\n",
       "                       'könnt ihr auf der Terrasse des Museumscafés ELLA sowie '\n",
       "                       'im wunderschönen historischen Garten, der während der '\n",
       "                       'Öffnungszeiten frei zugänglich ist. Donnerstags hat das '\n",
       "                       'Lenbachhaus sogar bis 20 Uhr geöffnet. Lenbachhaus Die '\n",
       "                       'wichtigsten Infos auf einen Blick Lage Im Kunstareal am '\n",
       "                       'Königsplatz MuseumsKategorie Kunst Empfohlene '\n",
       "                       'Aufenthaltsdauer Ca. 1,5 Stunden Abendöffnung free easy '\n",
       "                       'Jeden 1. Donnerstag im Monat von 18 bis 22 Uhr ist der '\n",
       "                       'Eintritt frei. Kinderprogramm der von Kindern für '\n",
       "                       'Kinder entwickelte Audioguide, Führungen und Workshops '\n",
       "                       'für klein und groß, Workshops , Platz zum Rennen und '\n",
       "                       'Picknicken im Garten Anfahrt U2U8 oder Bus 100 bis '\n",
       "                       'Königsplatz, U1U7 bis Stiglmaierplatz,Tram 27 bis '\n",
       "                       'Karolinenplatz Parken Einige Parkhäuser in der Nähe Das '\n",
       "                       'AusstellungsHighlight im Lenbachhaus Der Blaue Reiter '\n",
       "                       'Städtische Galerie im Lenbachhaus und Kunstbau Das '\n",
       "                       'Lenbachhaus ist berühmt für die weltweit größte '\n",
       "                       'Sammlung des Blauen Reiter um Franz Marc Der Blaue '\n",
       "                       'Reiter ist das Synonym für eine Künstlergruppe der '\n",
       "                       'Avantgarde zu Beginn des 20. Jahrhunderts, die von '\n",
       "                       'Wassily Kandinsky und Franz Marc begründete wurde. Das '\n",
       "                       'Lenbachhaus beherbergt eine der bedeutendsten '\n",
       "                       'Sammlungen ihrer Gemälde. Zentrale Werke dieser beiden '\n",
       "                       'Künstlerpersönlichkeiten gehören dabei ebenso zur '\n",
       "                       'Ausstellung wie weltberühmte Gemälde von August Macke, '\n",
       "                       'Paul Klee, Alexej Jawlensky und Gabriele Münter. '\n",
       "                       'Letzterer ist die Ausstellung zu verdanken 1957, zu '\n",
       "                       'ihrem 80. Geburtstag, überließ sie dem Lenbachhaus 1000 '\n",
       "                       'Exponate, darunter 25 eigene Gemälde, 90 Ölbilder ihres '\n",
       "                       'Mannes Kandinsky, etwa 330 seiner Aquarelle und '\n",
       "                       'Zeichnungen, seine Skizzenbücher, Hinterglasbilder und '\n",
       "                       'Druckgrafiken sowie zahlreiche weitere Werke '\n",
       "                       'bedeutender Künstlerinnen der Gruppe. Diese Highlights '\n",
       "                       'müsst ihr sehen Das Blaue Pferd I von Franz Marc Das '\n",
       "                       'Bild des blauen und kraftvollen Fohlens ist mit seiner '\n",
       "                       'eindringlichen Symbolkraft zu einem der bekanntesten '\n",
       "                       'Gemälde des Blauen Reiter geworden. Das Bildganze wird '\n",
       "                       'dabei beherrscht durch komplementäre Kontraste von '\n",
       "                       'Zinnoberrot und Grün unten über Karminrot und Gelb zu '\n",
       "                       'Violett, Blau und Orange. Wassily Kandinskys Reitendes '\n",
       "                       'Paar Ein Frühwerk Wassily Kandinskys, das mit seinem '\n",
       "                       'märchenhaften Szenario eine poetische Bilderwelt '\n",
       "                       'kreiert geheimnisvoll und surreal. Das Russen Haus von '\n",
       "                       'Gabriele Münter Ein Bildnis des eigenen Wohnhauses aus '\n",
       "                       'den gemeinsam mit ihrem Lebensgefährten Kandinsky '\n",
       "                       'verbrachten Jahren in Murnau. Den Namen RussenHaus '\n",
       "                       'hatten die Dorfbewohner ihrem Anwesen gegeben, weil '\n",
       "                       'dort mit Kandinsky ein Fremdling eingezogen war. Paul '\n",
       "                       'Klees Rosengarten Das bedeutendste Werk einer Reihe von '\n",
       "                       'Werken, in denen Klee um 1920 gewachsene und gebaute '\n",
       "                       'Strukturen zu einem rhythmischen Bildganzen '\n",
       "                       'verschmelzen ließ. Previous slide View image in modal '\n",
       "                       'View image in modal View image in modal View image in '\n",
       "                       'modal View image in modal View image in modal Next '\n",
       "                       'slide Zeitgenössische Kunst und weitere '\n",
       "                       'Sammlungsschwerpunkte Städtische Galerie im Lenbachhaus '\n",
       "                       'und Kunstbau Ein weiterer Sammlungsschwerpunkt sind '\n",
       "                       'wesentliche Tendenzen des internationalen '\n",
       "                       'zeitgenössischen Kunstgeschehens . Die Basis schuf der '\n",
       "                       'Erwerb von Joseph Beuys Zeige deine Wunde in den '\n",
       "                       '1980erJahren. Heute umfasst die Sammlung eine Vielzahl '\n",
       "                       'an Plastiken und Installationen aus unterschiedlichen '\n",
       "                       'Schaffensperioden. Vertreten sind unter anderem '\n",
       "                       'Arbeiten von Gerhard Richter, Sigmar Polke, Anselm '\n",
       "                       'Kiefer, Andy Warhol, Dan Flavin, Jeff Wall, Katharina '\n",
       "                       'Sieverding, Christian Boltanski, Lucio Fontana, '\n",
       "                       'Michelangelo Pistoletto, Arnulf Rainer, Andreas Hofer, '\n",
       "                       'Isa Genzken oder Olafur Eliasson. Darüber hinaus '\n",
       "                       'erwarten euch hier noch drei weitere Dauerausstellungen '\n",
       "                       'Die Sammlung 19. Jahrhundert behandelt den '\n",
       "                       'ursprünglichen Schwerpunkt des Lenbachhauses. In den '\n",
       "                       'ersten Jahrzehnten sammelte und zeigte die Galerie '\n",
       "                       'hauptsächlich Werke der Münchner Malerei aus dem 19. '\n",
       "                       'Jahrhundert und deutsche Kunst des frühen 20. '\n",
       "                       'Jahrhunderts. Die Ausstellung Neue Sachlichkeit '\n",
       "                       'beschäftigt sich mit der Kunst nach dem Ersten '\n",
       "                       'Weltkrieg. In Abgrenzung zum vorangegangenen '\n",
       "                       'Expressionismus brachten die Künstler der 1920er und '\n",
       "                       '1930er Jahre ihre Tendenz der nüchternrealistischen '\n",
       "                       'Wiedergabe der Wirklichkeit zum Ausdruck. In der '\n",
       "                       'Sammlung Kunst nach 1945 werden neue Kunstrichtungen '\n",
       "                       'aber auch neue Medien wie Performance und Videokunst '\n",
       "                       'sowie die Konzeptkunst aufgegriffen und anhand '\n",
       "                       'exemplarischer Künstler gezeigt. Was tun!? im '\n",
       "                       'Lenbachhaus Kunstvermittlung für alle Städtische '\n",
       "                       'Galerie im Lenbachhaus und Kunstbau, München Auch für '\n",
       "                       'Kinder gibt es im Lenbachhaus viel zu entdecken Das '\n",
       "                       'Lenbachhaus bietet folgende Formate an Gruppenführungen '\n",
       "                       'öffentliche und private, in verschiedenen Sprachen '\n",
       "                       'möglich KinderAudioguide Kunsthörspiel und '\n",
       "                       'Hörspielkunst Kunstgespräche mit Vermittlerinnen in der '\n",
       "                       'Ausstellung Workshops und Führungen für alle, die '\n",
       "                       'Familie sind Workshops für Kinder und Jugendliche , im '\n",
       "                       'Sommer im Garten des Museums KulturSalon Ein '\n",
       "                       'kostenloses Angebot speziell für ältere Menschen, die '\n",
       "                       'sich einsam fühlen, sich einen Kulturbesuch nicht '\n",
       "                       'leisten können oder körperlich beeinträchtigt sind '\n",
       "                       'KunstZeit Ein gemeinsames Kunsterlebnis für Menschen '\n",
       "                       'mit Demenz und ihren Begleiterinnen. Vor ausgewählten '\n",
       "                       'Kunstwerken ist ausreichend Zeit, eigene Gedanken, '\n",
       "                       'Gefühle und Erinnerungen einzubringen. Für Schulklassen '\n",
       "                       'gibt es für alle Jahrgangsstufen Programm in den '\n",
       "                       'diversen Ausstellungen Veranstaltungen Städtische '\n",
       "                       'Galerie im Lenbachhaus und Kunstbau Ein umfangreiches '\n",
       "                       'Programm aus Lesungen, Konzerten, Performances, '\n",
       "                       'Diskussionen und Vorträgen ergänzt die Ausstellungen. '\n",
       "                       'Café ELLA und Museumsshop ELLA Café, Städt. Galerie im '\n",
       "                       'Lenbachhaus Kunstbau Das Museumscafé ELLA lädt zur '\n",
       "                       'entspannten Kunstpause ein Das Museumsrestaurant Café '\n",
       "                       'ELLA verdankt seinen Namen der Künstlerin Gabriele '\n",
       "                       'Münter. Sie wurde von ihrem Lebensgefährten Wassily '\n",
       "                       'Kandinsky liebevoll Ella genannt. Im Café ELLA können '\n",
       "                       'Museumsgäste sich stärken und von der Terrasse einen '\n",
       "                       'einmaligen Blick auf den Königsplatz genießen. Einen '\n",
       "                       'wohlsortierten Museumsshop gibt es natürlich auch. '\n",
       "                       'Dieser ist wie das gesamte Erdgeschoss des Museums, die '\n",
       "                       'historischen Atelierräume des Künstlers Franz von '\n",
       "                       'Lenbach und der Garten des Hauses frei zugänglich. '\n",
       "                       'Eintrittspreise Regulär 10 Euro Ermäßigt 5 Euro '\n",
       "                       'Jahreskarte 20 Euro Unter 18 Jahren Freier Eintritt '\n",
       "                       'Digitale Angebot des Lenbachhauses In der Sammlung '\n",
       "                       'Online sind Werke aus den drei Sammlungsschwerpunkten '\n",
       "                       'des Lenbachhauses über das Internet zu finden, darunter '\n",
       "                       'auch viele Objekte und Kunstwerke aus dem Depot, die '\n",
       "                       'derzeit nicht im Haus selbst zu sehen sind. Der '\n",
       "                       'Audioguide macht Hörstücke zu den ausgewählten Werken '\n",
       "                       'als App und online zugänglich. Digitale Rundgänge durch '\n",
       "                       'einige Ausstellungen findet man auf der page , zudem '\n",
       "                       'gibt es hier eine breite Auswahl an Filmen zu den '\n",
       "                       'Ausstellungen und den Sammlungen. Social Media Kanäle '\n",
       "                       'Das Lenbachhaus ist bei Facebook , Instagram , YouTube '\n",
       "                       ', Pinterest und Google Arts Culture und verschickt '\n",
       "                       'einen regelmäßigen Newsletter. Die Geschichte der '\n",
       "                       'Lenbachvilla Städtische Galerie im Lenbachhaus und '\n",
       "                       'Kunstbau Die Künstlervilla im toskanischen Stil wurde '\n",
       "                       '1887 von Gabriel von Seidl errichtet Franz von Lenbach '\n",
       "                       'hatte einen Palast im Sinn, als er beschloss nahe dem '\n",
       "                       'prunkvollen Königsplatz eine Villa zu errichten. '\n",
       "                       'Zwischen 1887 und 1891 entstand das in LForm angelegte '\n",
       "                       'Gelände, bestehend aus einem Atelierflügel und einem '\n",
       "                       'Wohntrakt. Der historische Garten vor dem Gebäude ist '\n",
       "                       'an die italienische Renaissance angelehnt. Den Entwurf '\n",
       "                       'zu seiner Prachtvilla erarbeitete der Malerfürst '\n",
       "                       'Lenbach mit dem Münchner Architekten Gabriel von Seidl, '\n",
       "                       'der auch für das Bayerische Nationalmuseum , das '\n",
       "                       'Deutsche Museum und das Rondell am Stachus '\n",
       "                       'verantwortlich zeichnete. Auch bei der Innenausstattung '\n",
       "                       'war Lenbach nicht bescheiden. Antike Skulpturen und '\n",
       "                       'Kopien antiker Kunstwerke, Malereien, Gobelins und '\n",
       "                       'Teppiche zierten die Räumlichkeiten. 1912 wurden beide '\n",
       "                       'Trakte, Atelier und Haupthaus, miteinander verbunden. '\n",
       "                       '1924 verkaufte Lenbachs Witwe sowohl das Gebäude als '\n",
       "                       'auch Teile des Inventars und Kunstwerke an die '\n",
       "                       'Landeshauptstadt München. Diese begründeten den ersten '\n",
       "                       'Bestand der Kunstsammlung des Lenbachhauses. 1927 '\n",
       "                       'beauftragte die Stadt den Architekten Hans Grässel mit '\n",
       "                       'dem Bau eines weiteren Gebäudeflügels im Norden '\n",
       "                       'gegenüber dem Ateliertrakt. Zwei Jahre später wurde das '\n",
       "                       'Lenbachhaus der Öffentlichkeit zugänglich gemacht. '\n",
       "                       'Obwohl im Zweiten Weltkrieg große Teile des Hauses '\n",
       "                       'zerstört wurden, konnte bereits 1947 im Nordflügel '\n",
       "                       'wieder ausgestellt werden. 1957 dann beschenkte '\n",
       "                       'Gabriele Münter die Stadt und das Lenbachhaus mit der '\n",
       "                       'einzigartigen Sammlung, die heute als der Blaue Reiter '\n",
       "                       'zu sehen ist. Kunstbau und Kubus Architektonische '\n",
       "                       'Erweiterungen F. Holzherr, Städt. Galerie im '\n",
       "                       'Lenbachhaus Kunstbau Im golden leuchtenden Kubus werden '\n",
       "                       'die Kunstwerke im Lenbachhaus gekonnt in Szene gesetzt '\n",
       "                       'Der Kunstbau ist der Städtischen Galerie im Lenbachhaus '\n",
       "                       'angeschlossen. Er wurde 1994 eröffnet und besticht vor '\n",
       "                       'allem durch seine besondere Räumlichkeit. Der Kunstbau '\n",
       "                       'liegt im Zwischengeschoss der UBahnStation Königsplatz '\n",
       "                       'und sein Zuschnitt orientiert sich an dem des '\n",
       "                       'UBahnhofs. Die ungewöhnlichen Abmessungen tragen den '\n",
       "                       'gewachsenen räumlichen Ansprüchen moderner Kunst '\n",
       "                       'Rechnung. 2013 wurde der Neubau und die Renovierung des '\n",
       "                       'Museums durch den internationalen StarArchitekten Sir '\n",
       "                       'Norman Foster eröffnet. Seit dem erstrahlt auch das '\n",
       "                       'einstige Wohn und Atelierhaus des Malerfürsten Franz '\n",
       "                       'von Lenbach mit seinem Messing verkleideten Neubau in '\n",
       "                       'hellem Glanz. Der golden leuchtende Kubus und ein '\n",
       "                       'weiteres Geschoss im Altbau sind dazugekommen. Die '\n",
       "                       'denkmalgeschützte Villa ist zum Teil im Innern des '\n",
       "                       'Neubaus enthalten. Barrierefreiheit und Angebote für '\n",
       "                       'Menschen mit Behinderung Das Lenbachhaus und der '\n",
       "                       'Kunstbau sind barrierefrei . Die Aufzüge im Gebäude '\n",
       "                       'sind für alle Rollstuhlbreiten geeignet, der Aufzug im '\n",
       "                       'Kunstbau muss allerdings durch das Personal bedient '\n",
       "                       'werden . An der Kasse erhält man einen '\n",
       "                       'Orientierungsplan. Zwei öffentliche '\n",
       "                       'Behindertenparkplätze sind in der Luisenstraße '\n",
       "                       'vorhanden. Barrierefreie Toilette und die Garderobe '\n",
       "                       'befinden sich im Untergeschoss. Spezielle Führungen Auf '\n",
       "                       'Anfrage werden Führungen in Gebärdensprache vermittelt. '\n",
       "                       'In Kooperation mit dem Kulturreferat und den Museen '\n",
       "                       'Dieser Beitrag über die Münchner Museen wird vom '\n",
       "                       'Kulturreferat der Landeshauptstadt München gefördert '\n",
       "                       'und ist in Kooperation mit der Landesstelle für die '\n",
       "                       'nichtstaatlichen Museen in Bayern konzipiert worden. '\n",
       "                       'Die Inhalte wurden zwischen den beteiligten Museen und '\n",
       "                       ', dem offiziellen Stadtportal, abgestimmt. Auf einen '\n",
       "                       'Blick Lenbachhaus München Luisenstr. 33 80333 München '\n",
       "                       'Tel 498923396933 Fax 498923332003 lenbachhaus Korrektur '\n",
       "                       'vorschlagen Öffnungszeiten This is a carousel with '\n",
       "                       'rotating cards. Use the previous and next buttons to '\n",
       "                       'navigate, and Enter to activate cards. Vorheriger Slide '\n",
       "                       'Mo geschlossen Di 1000 1800 Mi 1000 1800 Do 1000 2000 '\n",
       "                       'Fr 1000 1800 Sa 1000 1800 So 1000 1800 Nächster Slide 1 '\n",
       "                       '30 von 40 Veranstaltungen 04 Juni bis 29 Juni Der Blaue '\n",
       "                       'Reiter Eine neue Sprache Mi. 04.06.2025 1000 1800 Uhr '\n",
       "                       'Lenbachhaus München 04 Juni bis 29 Juni Was zu '\n",
       "                       'verschwinden droht, wird Bild. Mi. 04.06.2025 1000 1800 '\n",
       "                       'Uhr Lenbachhaus München 04 Juni bis 29 Juni Was zu '\n",
       "                       'verschwinden droht, wird Bild. Do. 05.06.2025 1000 2000 '\n",
       "                       'Uhr Lenbachhaus München 04 Juni bis 29 Juni Der Blaue '\n",
       "                       'Reiter Eine neue Sprache Do. 05.06.2025 1000 2000 Uhr '\n",
       "                       'Lenbachhaus München 04 Juni bis 29 Juni Was zu '\n",
       "                       'verschwinden droht, wird Bild. Fr. 06.06.2025 1000 1800 '\n",
       "                       'Uhr Lenbachhaus München 04 Juni bis 29 Juni Der Blaue '\n",
       "                       'Reiter Eine neue Sprache Fr. 06.06.2025 1000 1800 Uhr '\n",
       "                       'Lenbachhaus München 04 Juni bis 29 Juni Was zu '\n",
       "                       'verschwinden droht, wird Bild. Sa. 07.06.2025 1000 1800 '\n",
       "                       'Uhr Lenbachhaus München 04 Juni bis 29 Juni Der Blaue '\n",
       "                       'Reiter Eine neue Sprache Sa. 07.06.2025 1000 1800 Uhr '\n",
       "                       'Lenbachhaus München 04 Juni bis 29 Juni Der Blaue '\n",
       "                       'Reiter Eine neue Sprache So. 08.06.2025 1000 1800 Uhr '\n",
       "                       'Lenbachhaus München 04 Juni bis 29 Juni Was zu '\n",
       "                       'verschwinden droht, wird Bild. So. 08.06.2025 1000 1800 '\n",
       "                       'Uhr Lenbachhaus München 04 Juni bis 29 Juni Der Blaue '\n",
       "                       'Reiter Eine neue Sprache Mo. 09.06.2025 1000 1800 Uhr '\n",
       "                       'Lenbachhaus München 04 Juni bis 29 Juni Was zu '\n",
       "                       'verschwinden droht, wird Bild. Di. 10.06.2025 1000 1800 '\n",
       "                       'Uhr Lenbachhaus München 04 Juni bis 29 Juni Der Blaue '\n",
       "                       'Reiter Eine neue Sprache Di. 10.06.2025 1000 1800 Uhr '\n",
       "                       'Lenbachhaus München 04 Juni bis 29 Juni Was zu '\n",
       "                       'verschwinden droht, wird Bild. Mi. 11.06.2025 1000 1800 '\n",
       "                       'Uhr Lenbachhaus München 04 Juni bis 29 Juni Der Blaue '\n",
       "                       'Reiter Eine neue Sprache Mi. 11.06.2025 1000 1800 Uhr '\n",
       "                       'Lenbachhaus München 04 Juni bis 29 Juni Der Blaue '\n",
       "                       'Reiter Eine neue Sprache Do. 12.06.2025 1000 2000 Uhr '\n",
       "                       'Lenbachhaus München 04 Juni bis 29 Juni Was zu '\n",
       "                       'verschwinden droht, wird Bild. Do. 12.06.2025 1000 2000 '\n",
       "                       'Uhr Lenbachhaus München 04 Juni bis 29 Juni Der Blaue '\n",
       "                       'Reiter Eine neue Sprache Fr. 13.06.2025 1000 1800 Uhr '\n",
       "                       'Lenbachhaus München 04 Juni bis 29 Juni Was zu '\n",
       "                       'verschwinden droht, wird Bild. Fr. 13.06.2025 1000 1800 '\n",
       "                       'Uhr Lenbachhaus München 04 Juni bis 29 Juni Der Blaue '\n",
       "                       'Reiter Eine neue Sprache Sa. 14.06.2025 1000 1800 Uhr '\n",
       "                       'Lenbachhaus München 04 Juni bis 29 Juni Was zu '\n",
       "                       'verschwinden droht, wird Bild. Sa. 14.06.2025 1000 1800 '\n",
       "                       'Uhr Lenbachhaus München 04 Juni bis 29 Juni Der Blaue '\n",
       "                       'Reiter Eine neue Sprache So. 15.06.2025 1000 1800 Uhr '\n",
       "                       'Lenbachhaus München 04 Juni bis 29 Juni Was zu '\n",
       "                       'verschwinden droht, wird Bild. So. 15.06.2025 1000 1800 '\n",
       "                       'Uhr Lenbachhaus München 04 Juni bis 29 Juni Der Blaue '\n",
       "                       'Reiter Eine neue Sprache Di. 17.06.2025 1000 1800 Uhr '\n",
       "                       'Lenbachhaus München 04 Juni bis 29 Juni Was zu '\n",
       "                       'verschwinden droht, wird Bild. Di. 17.06.2025 1000 1800 '\n",
       "                       'Uhr Lenbachhaus München 04 Juni bis 29 Juni Der Blaue '\n",
       "                       'Reiter Eine neue Sprache Mi. 18.06.2025 1000 1800 Uhr '\n",
       "                       'Lenbachhaus München 04 Juni bis 29 Juni Was zu '\n",
       "                       'verschwinden droht, wird Bild. Mi. 18.06.2025 1000 1800 '\n",
       "                       'Uhr Lenbachhaus München 04 Juni bis 29 Juni Was zu '\n",
       "                       'verschwinden droht, wird Bild. Do. 19.06.2025 1000 2000 '\n",
       "                       'Uhr Lenbachhaus München 04 Juni bis 29 Juni Der Blaue '\n",
       "                       'Reiter Eine neue Sprache Do. 19.06.2025 1000 1800 Uhr '\n",
       "                       'Lenbachhaus München 04 Juni bis 29 Juni Was zu '\n",
       "                       'verschwinden droht, wird Bild. Fr. 20.06.2025 1000 1800 '\n",
       "                       'Uhr Lenbachhaus München Seitennummerierung Erste Seite '\n",
       "                       '1 Seite 2 Letzte Seite Nächste Seite',\n",
       "               'url': 'https://www.muenchen.de/sehenswuerdigkeiten/museen/lenbachhaus-muenchen'},\n",
       "  'score': 0.576871872,\n",
       "  'values': []}]"
      ]
     },
     "execution_count": 63,
     "metadata": {},
     "output_type": "execute_result"
    }
   ],
   "source": [
    "query_from_pinecone('Ist die Ausstellung im Lenbachhaus eine Dauerveranstaltung oder endet sie irgendwann?')\n"
   ]
  },
  {
   "cell_type": "code",
   "execution_count": 64,
   "id": "6fe19665",
   "metadata": {},
   "outputs": [],
   "source": [
    "def test_query(query, expected_hash, language, top_k=10):\n",
    "        \n",
    "    results = query_from_pinecone(query, top_k=top_k)\n",
    "    top_result_correct = results[0]['id'] == expected_hash  # accuracy\n",
    "    result_in_pinecone_list = expected_hash in (r['id'] for r in results)  # Recall@top_k (10, etc)\n",
    "    return dict(\n",
    "        result_in_pinecone_list=result_in_pinecone_list, top_result_correct=top_result_correct,\n",
    "        language=language, expected_hash=expected_hash, top_hash=results[0]['id']\n",
    "    )"
   ]
  },
  {
   "cell_type": "code",
   "execution_count": 65,
   "id": "98bbbfac",
   "metadata": {},
   "outputs": [
    {
     "data": {
      "text/plain": [
       "{'result_in_pinecone_list': True,\n",
       " 'top_result_correct': False,\n",
       " 'language': 'german',\n",
       " 'expected_hash': '575aeafbc7ccd5e39ee4fdf278fbef1f',\n",
       " 'top_hash': '3e671623171074c828467b3b9061d371'}"
      ]
     },
     "execution_count": 65,
     "metadata": {},
     "output_type": "execute_result"
    }
   ],
   "source": [
    "test_query(**synthetic_questions[2])"
   ]
  },
  {
   "cell_type": "code",
   "execution_count": 66,
   "id": "26a2fa08",
   "metadata": {},
   "outputs": [
    {
     "name": "stderr",
     "output_type": "stream",
     "text": [
      "100%|██████████| 63/63 [00:26<00:00,  2.41it/s]\n"
     ]
    }
   ],
   "source": [
    "synthetic_test_results = []\n",
    "for synthetic_question in tqdm(synthetic_questions):\n",
    "    synthetic_test_results.append(test_query(**synthetic_question))"
   ]
  },
  {
   "cell_type": "code",
   "execution_count": 67,
   "id": "14085602",
   "metadata": {},
   "outputs": [
    {
     "name": "stdout",
     "output_type": "stream",
     "text": [
      "result_in_pinecone_list    0.857143\n",
      "top_result_correct         0.523810\n",
      "dtype: float64\n"
     ]
    },
    {
     "data": {
      "image/png": "[encoded data removed]",
      "text/plain": [
       "<Figure size 1200x600 with 1 Axes>"
      ]
     },
     "metadata": {},
     "output_type": "display_data"
    }
   ],
   "source": [
    "import pandas as pd\n",
    "results_df = pd.DataFrame(synthetic_test_results)\n",
    "\n",
    "print(results_df[['result_in_pinecone_list', 'top_result_correct']].mean())\n",
    "\n",
    "import matplotlib.pyplot as plt\n",
    "\n",
    "# Assuming you've already created results_df\n",
    "grouped_data = results_df.groupby('language')[['result_in_pinecone_list', 'top_result_correct']].mean()\n",
    "\n",
    "# Set the style and color palette\n",
    "plt.style.use('fivethirtyeight')\n",
    "# sns.set_palette(\"deep\")\n",
    "\n",
    "# Create the figure and axis\n",
    "fig, ax = plt.subplots(figsize=(12, 6))\n",
    "\n",
    "# Plot the data\n",
    "grouped_data.plot(kind='bar', ax=ax)\n",
    "\n",
    "# Customize the plot\n",
    "ax.set_title('Performance Metrics by Language (OpenAI only)', fontsize=16, pad=20)\n",
    "ax.set_xlabel('Language', fontsize=12)\n",
    "ax.set_ylabel('Mean Score', fontsize=12)\n",
    "ax.tick_params(axis='x', rotation=45)\n",
    "\n",
    "# Add value labels on top of each bar\n",
    "for i in ax.containers:\n",
    "    ax.bar_label(i, fmt='%.2f', padding=3)\n",
    "\n",
    "# Add a legend\n",
    "ax.legend(['Result in Pinecone List', 'Top Result Correct'], title='Metrics', loc='upper left', bbox_to_anchor=(1, 1))\n",
    "\n",
    "# Adjust layout and display the plot\n",
    "plt.tight_layout()\n",
    "plt.show()"
   ]
  },
  {
   "cell_type": "markdown",
   "id": "f0b7808d",
   "metadata": {},
   "source": [
    "### Making Retrieval Better with Cohere's Re-Rank"
   ]
  },
  {
   "cell_type": "code",
   "execution_count": 8,
   "id": "0e5c41f2",
   "metadata": {},
   "outputs": [],
   "source": [
    "import cohere\n",
    "from dotenv import load_dotenv\n",
    "\n",
    "load_dotenv()\n",
    "\n",
    "co = cohere.Client(os.environ.get('COHERE_API_KEY'))"
   ]
  },
  {
   "cell_type": "code",
   "execution_count": null,
   "id": "4d6a5e8c",
   "metadata": {},
   "outputs": [
    {
     "data": {
      "text/plain": [
       "'Washington, D.C. (also known as simply Washington or D.C., and officially as the District of Columbia) is the capital of the United States. It is a federal district.'"
      ]
     },
     "execution_count": 9,
     "metadata": {},
     "output_type": "execute_result"
    }
   ],
   "source": [
    "# Re-rank documents using Cohere's rerank model\n",
    "# MAximum up to 30 documents can be re-ranked at once\n",
    "\n",
    "docs = [\n",
    "    \"Carson City is the capital city of the American state of Nevada.\",\n",
    "    \"The Commonwealth of the Northern Mariana Islands is a group of islands in the Pacific Ocean. Its capital is Saipan.\",\n",
    "    \"Capitalization or capitalisation in English grammar is the use of a capital letter at the start of a word. English usage varies from capitalization in other languages.\",\n",
    "    \"Washington, D.C. (also known as simply Washington or D.C., and officially as the District of Columbia) is the capital of the United States. It is a federal district.\",\n",
    "    \"Capital punishment (the death penalty) has existed in the United States since beforethe United States was a country. As of 2017, capital punishment is legal in 30 of the 50 states.\",\n",
    "]\n",
    "\n",
    "response = co.rerank(\n",
    "    model=\"rerank-english-v3.0\",\n",
    "    query=\"What is the capital of the United States?\",\n",
    "    documents=docs,\n",
    "    top_n=1,\n",
    ")\n",
    "\n",
    "docs[response.results[0].index] # re-ranks the docs so that the first one is the most semantically similar"
   ]
  },
  {
   "cell_type": "code",
   "execution_count": 26,
   "id": "990d54c9",
   "metadata": {},
   "outputs": [],
   "source": [
    "def test_query_with_cohere(query, expected_hash, language, top_k=10):\n",
    "        \n",
    "    results = query_from_pinecone(query, top_k=top_k)\n",
    "    result_in_pinecone_list = expected_hash in (r['id'] for r in results)    \n",
    "    docs = [result['metadata']['text'] for result in results]   \n",
    "        \n",
    "    response = co.rerank(\n",
    "        model=\"rerank-multilingual-v3.0\",\n",
    "        query=query,\n",
    "        documents=docs,\n",
    "        top_n=1,\n",
    "    )\n",
    "\n",
    "    top_doc = docs[response.results[0].index]\n",
    "    top_result_correct = my_hash(top_doc) == expected_hash\n",
    "    \n",
    "    return dict(\n",
    "        result_in_pinecone_list=result_in_pinecone_list, top_result_correct=top_result_correct,\n",
    "        language=language, expected_hash=expected_hash, top_hash=results[0]['id']\n",
    "    )"
   ]
  },
  {
   "cell_type": "code",
   "execution_count": 68,
   "id": "e2dfd36b",
   "metadata": {},
   "outputs": [
    {
     "data": {
      "text/plain": [
       "{'result_in_pinecone_list': True,\n",
       " 'top_result_correct': True,\n",
       " 'language': 'german',\n",
       " 'expected_hash': '575aeafbc7ccd5e39ee4fdf278fbef1f',\n",
       " 'top_hash': '3e671623171074c828467b3b9061d371'}"
      ]
     },
     "execution_count": 68,
     "metadata": {},
     "output_type": "execute_result"
    }
   ],
   "source": [
    "test_query_with_cohere(**synthetic_questions[0])"
   ]
  },
  {
   "cell_type": "code",
   "execution_count": 69,
   "id": "6d92b4e0",
   "metadata": {},
   "outputs": [
    {
     "name": "stderr",
     "output_type": "stream",
     "text": [
      " 16%|█▌        | 10/63 [00:11<01:00,  1.13s/it]\n"
     ]
    },
    {
     "ename": "TooManyRequestsError",
     "evalue": "status_code: 429, body: {'message': \"You are using a Trial key, which is limited to 10 API calls / minute. You can continue to use the Trial key for free or upgrade to a Production key with higher rate limits at 'https://dashboard.cohere.com/api-keys'. Contact us on 'https://discord.gg/XW44jPfYJu' or email us at support@cohere.com with any questions\"}",
     "output_type": "error",
     "traceback": [
      "\u001b[31m---------------------------------------------------------------------------\u001b[39m",
      "\u001b[31mTooManyRequestsError\u001b[39m                      Traceback (most recent call last)",
      "\u001b[36mCell\u001b[39m\u001b[36m \u001b[39m\u001b[32mIn[69]\u001b[39m\u001b[32m, line 3\u001b[39m\n\u001b[32m      1\u001b[39m synthetic_test_results_cohere = []\n\u001b[32m      2\u001b[39m \u001b[38;5;28;01mfor\u001b[39;00m synthetic_question \u001b[38;5;129;01min\u001b[39;00m tqdm(synthetic_questions):\n\u001b[32m----> \u001b[39m\u001b[32m3\u001b[39m     synthetic_test_results_cohere.append(\u001b[43mtest_query_with_cohere\u001b[49m\u001b[43m(\u001b[49m\u001b[43m*\u001b[49m\u001b[43m*\u001b[49m\u001b[43msynthetic_question\u001b[49m\u001b[43m)\u001b[49m)\n",
      "\u001b[36mCell\u001b[39m\u001b[36m \u001b[39m\u001b[32mIn[26]\u001b[39m\u001b[32m, line 7\u001b[39m, in \u001b[36mtest_query_with_cohere\u001b[39m\u001b[34m(query, expected_hash, language, top_k)\u001b[39m\n\u001b[32m      4\u001b[39m result_in_pinecone_list = expected_hash \u001b[38;5;129;01min\u001b[39;00m (r[\u001b[33m'\u001b[39m\u001b[33mid\u001b[39m\u001b[33m'\u001b[39m] \u001b[38;5;28;01mfor\u001b[39;00m r \u001b[38;5;129;01min\u001b[39;00m results)    \n\u001b[32m      5\u001b[39m docs = [result[\u001b[33m'\u001b[39m\u001b[33mmetadata\u001b[39m\u001b[33m'\u001b[39m][\u001b[33m'\u001b[39m\u001b[33mtext\u001b[39m\u001b[33m'\u001b[39m] \u001b[38;5;28;01mfor\u001b[39;00m result \u001b[38;5;129;01min\u001b[39;00m results]   \n\u001b[32m----> \u001b[39m\u001b[32m7\u001b[39m response = \u001b[43mco\u001b[49m\u001b[43m.\u001b[49m\u001b[43mrerank\u001b[49m\u001b[43m(\u001b[49m\n\u001b[32m      8\u001b[39m \u001b[43m    \u001b[49m\u001b[43mmodel\u001b[49m\u001b[43m=\u001b[49m\u001b[33;43m\"\u001b[39;49m\u001b[33;43mrerank-multilingual-v3.0\u001b[39;49m\u001b[33;43m\"\u001b[39;49m\u001b[43m,\u001b[49m\n\u001b[32m      9\u001b[39m \u001b[43m    \u001b[49m\u001b[43mquery\u001b[49m\u001b[43m=\u001b[49m\u001b[43mquery\u001b[49m\u001b[43m,\u001b[49m\n\u001b[32m     10\u001b[39m \u001b[43m    \u001b[49m\u001b[43mdocuments\u001b[49m\u001b[43m=\u001b[49m\u001b[43mdocs\u001b[49m\u001b[43m,\u001b[49m\n\u001b[32m     11\u001b[39m \u001b[43m    \u001b[49m\u001b[43mtop_n\u001b[49m\u001b[43m=\u001b[49m\u001b[32;43m1\u001b[39;49m\u001b[43m,\u001b[49m\n\u001b[32m     12\u001b[39m \u001b[43m\u001b[49m\u001b[43m)\u001b[49m\n\u001b[32m     14\u001b[39m top_doc = docs[response.results[\u001b[32m0\u001b[39m].index]\n\u001b[32m     15\u001b[39m top_result_correct = my_hash(top_doc) == expected_hash\n",
      "\u001b[36mFile \u001b[39m\u001b[32mc:\\Users\\ruben\\github_repos\\rag-gen-ai\\.venv\\Lib\\site-packages\\cohere\\base_client.py:2102\u001b[39m, in \u001b[36mBaseCohere.rerank\u001b[39m\u001b[34m(self, query, documents, model, top_n, rank_fields, return_documents, max_chunks_per_doc, request_options)\u001b[39m\n\u001b[32m   2092\u001b[39m     \u001b[38;5;28;01mraise\u001b[39;00m UnprocessableEntityError(\n\u001b[32m   2093\u001b[39m         typing.cast(\n\u001b[32m   2094\u001b[39m             typing.Optional[typing.Any],\n\u001b[32m   (...)\u001b[39m\u001b[32m   2099\u001b[39m         )\n\u001b[32m   2100\u001b[39m     )\n\u001b[32m   2101\u001b[39m \u001b[38;5;28;01mif\u001b[39;00m _response.status_code == \u001b[32m429\u001b[39m:\n\u001b[32m-> \u001b[39m\u001b[32m2102\u001b[39m     \u001b[38;5;28;01mraise\u001b[39;00m TooManyRequestsError(\n\u001b[32m   2103\u001b[39m         typing.cast(\n\u001b[32m   2104\u001b[39m             typing.Optional[typing.Any],\n\u001b[32m   2105\u001b[39m             construct_type(\n\u001b[32m   2106\u001b[39m                 type_=typing.Optional[typing.Any],  \u001b[38;5;66;03m# type: ignore\u001b[39;00m\n\u001b[32m   2107\u001b[39m                 object_=_response.json(),\n\u001b[32m   2108\u001b[39m             ),\n\u001b[32m   2109\u001b[39m         )\n\u001b[32m   2110\u001b[39m     )\n\u001b[32m   2111\u001b[39m \u001b[38;5;28;01mif\u001b[39;00m _response.status_code == \u001b[32m498\u001b[39m:\n\u001b[32m   2112\u001b[39m     \u001b[38;5;28;01mraise\u001b[39;00m InvalidTokenError(\n\u001b[32m   2113\u001b[39m         typing.cast(\n\u001b[32m   2114\u001b[39m             typing.Optional[typing.Any],\n\u001b[32m   (...)\u001b[39m\u001b[32m   2119\u001b[39m         )\n\u001b[32m   2120\u001b[39m     )\n",
      "\u001b[31mTooManyRequestsError\u001b[39m: status_code: 429, body: {'message': \"You are using a Trial key, which is limited to 10 API calls / minute. You can continue to use the Trial key for free or upgrade to a Production key with higher rate limits at 'https://dashboard.cohere.com/api-keys'. Contact us on 'https://discord.gg/XW44jPfYJu' or email us at support@cohere.com with any questions\"}"
     ]
    }
   ],
   "source": [
    "synthetic_test_results_cohere = []\n",
    "for synthetic_question in tqdm(synthetic_questions):\n",
    "    synthetic_test_results_cohere.append(test_query_with_cohere(**synthetic_question))"
   ]
  },
  {
   "cell_type": "code",
   "execution_count": null,
   "id": "9e30edcc",
   "metadata": {},
   "outputs": [],
   "source": [
    "import matplotlib.pyplot as plt\n",
    "\n",
    "# Data\n",
    "data = {\n",
    "    'OpenAI + Cohere': pd.Series([s['top_result_correct'] for s in synthetic_test_results_cohere]).mean() * 100,\n",
    "    'OpenAI Only': pd.Series([s['top_result_correct'] for s in synthetic_test_results]).mean() * 100\n",
    "}\n",
    "\n",
    "percent_change = round((data['OpenAI + Cohere'] - data['OpenAI Only']) / data['OpenAI Only'] * 100, 2)\n",
    "\n",
    "# Set the style and color palette\n",
    "plt.style.use('fivethirtyeight')\n",
    "\n",
    "# Create the figure and axis\n",
    "fig, ax = plt.subplots(figsize=(8, 5))  # Reduced from (10, 6)\n",
    "\n",
    "# Plot the data\n",
    "bars = ax.bar(data.keys(), data.values())\n",
    "\n",
    "# Customize the plot\n",
    "ax.set_title(\n",
    "    f'{base_url.split(\"//\")[-1]} RAG Results ({percent_change}% {\"better\" if percent_change > 0 else \"worse\"} w/ Cohere)', \n",
    "    fontsize=16, pad=4)\n",
    "ax.set_ylabel('Top Result Accuracy (%)', fontsize=12)\n",
    "ax.tick_params(axis='x')\n",
    "\n",
    "# Add value labels on top of each bar\n",
    "ax.bar_label(bars, fmt='%.2f', padding=3)\n",
    "\n",
    "# Adjust y-axis to start from 0.7 for better visualization of differences\n",
    "ax.set_ylim(min(data.values()) - 5, max(data.values()) + 2)\n",
    "\n",
    "# Add a grid for better readability\n",
    "ax.grid(axis='y', linestyle='--', alpha=0.7)\n",
    "\n",
    "# Adjust layout and display the plot\n",
    "plt.tight_layout()\n",
    "plt.show()"
   ]
  },
  {
   "cell_type": "code",
   "execution_count": null,
   "id": "56cc8c2d",
   "metadata": {},
   "outputs": [],
   "source": [
    "import pandas as pd\n",
    "results_df = pd.DataFrame(synthetic_test_results_cohere)\n",
    "print(results_df[['result_in_pinecone_list', 'top_result_correct']].mean())\n",
    "\n",
    "grouped_data = results_df.groupby('language')[['result_in_pinecone_list', 'top_result_correct']].mean()\n",
    "\n",
    "# Set the style and color palette\n",
    "plt.style.use('fivethirtyeight')\n",
    "\n",
    "# Create the figure and axis\n",
    "fig, ax = plt.subplots(figsize=(12, 6))\n",
    "\n",
    "# Plot the data\n",
    "grouped_data.plot(kind='bar', ax=ax)\n",
    "\n",
    "# Customize the plot\n",
    "ax.set_title('Performance Metrics by Language (OpenAI + Cohere Rerank)', fontsize=16, pad=20)\n",
    "ax.set_xlabel('Language', fontsize=12)\n",
    "ax.set_ylabel('Mean Score', fontsize=12)\n",
    "ax.tick_params(axis='x', rotation=45)\n",
    "\n",
    "# Add value labels on top of each bar\n",
    "for i in ax.containers:\n",
    "    ax.bar_label(i, fmt='%.2f', padding=3)\n",
    "\n",
    "# Add a legend\n",
    "ax.legend(['Result in Pinecone List', 'Top Result Correct'], title='Metrics', loc='upper left', bbox_to_anchor=(1, 1))\n",
    "\n",
    "# Adjust layout and display the plot\n",
    "plt.tight_layout()\n",
    "plt.show()"
   ]
  }
 ],
 "metadata": {
  "kernelspec": {
   "display_name": ".venv",
   "language": "python",
   "name": "python3"
  },
  "language_info": {
   "codemirror_mode": {
    "name": "ipython",
    "version": 3
   },
   "file_extension": ".py",
   "mimetype": "text/x-python",
   "name": "python",
   "nbconvert_exporter": "python",
   "pygments_lexer": "ipython3",
   "version": "3.13.3"
  }
 },
 "nbformat": 4,
 "nbformat_minor": 5
}
