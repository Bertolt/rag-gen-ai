{
 "cells": [
  {
   "cell_type": "markdown",
   "id": "4c737281",
   "metadata": {},
   "source": [
    "# Putting the G in RAG"
   ]
  },
  {
   "cell_type": "code",
   "execution_count": 1,
   "id": "80bb6e17",
   "metadata": {},
   "outputs": [
    {
     "name": "stderr",
     "output_type": "stream",
     "text": [
      "c:\\Users\\kadda\\github_repos\\rag-gen-ai\\.venv\\Lib\\site-packages\\tqdm\\auto.py:21: TqdmWarning: IProgress not found. Please update jupyter and ipywidgets. See https://ipywidgets.readthedocs.io/en/stable/user_install.html\n",
      "  from .autonotebook import tqdm as notebook_tqdm\n"
     ]
    }
   ],
   "source": [
    "from supabase import create_client, Client\n",
    "import datetime\n",
    "from pinecone import Pinecone, ServerlessSpec\n",
    "\n",
    "from typing import Dict, Optional, Any\n",
    "import os\n",
    "from openai import OpenAI\n",
    "import pandas as pd\n",
    "\n",
    "from pydantic import BaseModel, Field\n",
    "from typing import List, Dict, Tuple\n",
    "\n",
    "from dotenv import load_dotenv"
   ]
  },
  {
   "cell_type": "code",
   "execution_count": 2,
   "id": "0fac3a75",
   "metadata": {},
   "outputs": [],
   "source": [
    "load_dotenv()\n",
    "\n",
    "url: str = os.getenv(\"SUPABASE_URL\")\n",
    "key: str = os.getenv(\"SUPABASE_KEY\")\n",
    "supabase: Client = create_client(url, key)"
   ]
  },
  {
   "cell_type": "code",
   "execution_count": 3,
   "id": "56bc78c6",
   "metadata": {},
   "outputs": [],
   "source": [
    "# Initialize the OpenAI client with the API key from user data\n",
    "openai_client = OpenAI(api_key=os.environ.get('OPENAI_API_KEY'))"
   ]
  },
  {
   "cell_type": "code",
   "execution_count": 4,
   "id": "7bc7be49",
   "metadata": {},
   "outputs": [
    {
     "data": {
      "text/plain": [
       "1536"
      ]
     },
     "execution_count": 4,
     "metadata": {},
     "output_type": "execute_result"
    }
   ],
   "source": [
    "pinecone_key = os.environ.get('PINECONE_API_KEY')\n",
    "INDEX_NAME = 'semantic-search-rag-index'\n",
    "ENGINE = 'text-embedding-3-small'\n",
    "NAMESPACE = 'default'\n",
    "\n",
    "pc = Pinecone(\n",
    "    api_key=pinecone_key\n",
    ")\n",
    "\n",
    "# helper functions to get lists of embeddings from the OpenAI API\n",
    "def get_embedding(text, engine=ENGINE):\n",
    "    response = openai_client.embeddings.create(\n",
    "        input=[text],\n",
    "        model=engine\n",
    "    )\n",
    "    return response.data[0].embedding\n",
    "\n",
    "len(get_embedding('hi'))"
   ]
  },
  {
   "cell_type": "code",
   "execution_count": 5,
   "id": "637c14f6",
   "metadata": {},
   "outputs": [
    {
     "data": {
      "text/plain": [
       "<pinecone.data.index.Index at 0x15a74942e40>"
      ]
     },
     "execution_count": 5,
     "metadata": {},
     "output_type": "execute_result"
    }
   ],
   "source": [
    "# Store the index as a variable\n",
    "index = pc.Index(name=INDEX_NAME)\n",
    "index"
   ]
  },
  {
   "cell_type": "code",
   "execution_count": 6,
   "id": "827c0f30",
   "metadata": {},
   "outputs": [
    {
     "data": {
      "text/plain": [
       "1"
      ]
     },
     "execution_count": 6,
     "metadata": {},
     "output_type": "execute_result"
    }
   ],
   "source": [
    "def query_from_pinecone(query, top_k=1, include_metadata=True):\n",
    "    # get embedding from THE SAME embedder as the documents\n",
    "    query_embedding = get_embedding(query, engine=ENGINE)\n",
    "\n",
    "    return index.query(\n",
    "      vector=query_embedding,\n",
    "      top_k=top_k,\n",
    "      namespace=NAMESPACE,\n",
    "      include_metadata=include_metadata   # gets the metadata (dates, text, etc)\n",
    "    ).get('matches')\n",
    "\n",
    "len(query_from_pinecone('KulturHighlights in Munchen'))"
   ]
  },
  {
   "cell_type": "code",
   "execution_count": 7,
   "id": "1dc42cf9",
   "metadata": {},
   "outputs": [
    {
     "data": {
      "text/plain": [
       "[{'id': '6ad9eeafc1a442c0a4c67b832832e3bf',\n",
       "  'metadata': {'date_uploaded': '2025-05-19T16:46:49.896040',\n",
       "               'text': 'us KulturHighlights Perlen der Münchner Kultur '\n",
       "                       'Konzertsäle, Museen, Theater HotelÜbersicht Unterkünfte '\n",
       "                       'in allen Preislagen buchen Hier im Überblick '\n",
       "                       'Sehenswürdigkeiten Bauwerke, Kirchen, Schlösser, Parks '\n",
       "                       'So schön ist München München mal anders Eure '\n",
       "                       'Stadtführung durch München mit oder ohne Guide LGBTIQ '\n",
       "                       'in München Tipps und Informationen für die queere '\n",
       "                       'Community Sehenswerte UBahnStationen Kunstwerke im '\n",
       "                       'Untergrund Sehenswerte UBahnhöfe Immer einen Besuch '\n",
       "                       'wert Museen in München Die wichtigsten Museen und '\n",
       "                       'Galerien Münchens Olympiapark Erholen, Staunen, Erleben '\n",
       "                       'im weitläufigen Park Besucherservice Tierpark '\n",
       "                       'Hellabrunn Infos zu Öffnungszeiten, Eintrittspreisen '\n",
       "                       'und Anfahrt ServiceTipps für den MünchenBesuch MVG '\n",
       "                       'Infos zu UBahn, Bus und Tram Tickets, Fahrpläne, '\n",
       "                       'LiveAuskunft, Mieträder Die Infos Touristeninformation '\n",
       "                       'Die wichtigsten InfoPoints Hier gibts Hinweise für '\n",
       "                       'Touristen Stadtrundfahrten in München. Eine Übersicht '\n",
       "                       'der Anbieter Stadtführungen Bei diesen Anbietern wird '\n",
       "                       'die Städtetour zum Erlebnis Umzugsunternehmen in '\n",
       "                       'München und Umgebung',\n",
       "               'url': 'https://www.muenchen.de/sehenswuerdigkeiten/tourismus'},\n",
       "  'score': 0.698859096,\n",
       "  'values': []}]"
      ]
     },
     "execution_count": 7,
     "metadata": {},
     "output_type": "execute_result"
    }
   ],
   "source": [
    "query_from_pinecone('KulturHighlights in Munchen')"
   ]
  },
  {
   "cell_type": "code",
   "execution_count": 8,
   "id": "51ccc13f",
   "metadata": {},
   "outputs": [],
   "source": [
    "FINAL_ANSWER_TOKEN = \"Assistant Response:\"\n",
    "STOP = '[END]'\n",
    "PROMPT_TEMPLATE = \"\"\"Today is {today} and you can retrieve information from a database. Respond to the user's input as best as you can.\n",
    "\n",
    "Here is an example of the conversation format:\n",
    "\n",
    "[START]\n",
    "User Input: the input question you must answer\n",
    "Context: retrieved context from the database\n",
    "Context URL: context url\n",
    "Context Score : a score from 0 - 1 of how strong the information is a match\n",
    "Assistant Thought: This context has sufficient information to answer the question.\n",
    "Assistant Response: your final answer to the original input question which could be I don't have sufficient information to answer the question.\n",
    "[END]\n",
    "[START]\n",
    "User Input: another input question you must answer\n",
    "Context: more retrieved context from the database\n",
    "Context URL: context url\n",
    "Context Score : another score from 0 - 1 of how strong the information is a match\n",
    "Assistant Thought: This context does not have sufficient information to answer the question.\n",
    "Assistant Response: your final answer to the second input question which could be I don't have sufficient information to answer the question.\n",
    "[END]\n",
    "[START]\n",
    "User Input: another input question you must answer\n",
    "Context: more retrieved context from the database\n",
    "Context URL: context url\n",
    "Context Score : another score from 0 - 1 of how strong the information is a match\n",
    "Assistant Thought: A previous piece of context has the answer to this question\n",
    "Assistant Response: your final answer to the second input question which could be I don't have sufficient information to answer the question.\n",
    "[END]\n",
    "[START]\n",
    "User Input: another input question you must answer\n",
    "Context: NO CONTEXT FOUND\n",
    "Context URL: NONE\n",
    "Context Score : 0\n",
    "Assistant Thought: We either could not find something or we don't need to look something up\n",
    "Assistant Response: I'm sorry I don't know.\n",
    "[END]\n",
    "\n",
    "Begin:\n",
    "\n",
    "{running_convo}\n",
    "\"\"\"\n",
    "\n",
    "class RagBot(BaseModel):\n",
    "    llm: Any\n",
    "    prompt_template: str = PROMPT_TEMPLATE\n",
    "    stop_pattern: List[str] = [STOP]\n",
    "    user_inputs: List[str] = []\n",
    "    ai_responses: List[str] = []\n",
    "    contexts: List[Tuple[str, float]] = []\n",
    "    verbose: bool = False\n",
    "    threshold: float = 0.6\n",
    "\n",
    "    def query_from_pinecone(self, query, top_k=2, include_metadata=True):\n",
    "        return query_from_pinecone(query, top_k, include_metadata)\n",
    "\n",
    "    @property\n",
    "    def running_convo(self):\n",
    "        convo = ''\n",
    "        for index in range(len(self.user_inputs)):\n",
    "            convo += f'[START]\\nUser Input: {self.user_inputs[index]}\\n'\n",
    "            convo += f'Context: {self.contexts[index][0]}\\nContext URL: {self.contexts[index][1]}\\nContext Score: {self.contexts[index][2]}\\n'\n",
    "            if len(self.ai_responses) > index:\n",
    "                convo += self.ai_responses[index]\n",
    "                convo += '\\n[END]\\n'\n",
    "        return convo.strip()\n",
    "\n",
    "    def run(self, question: str):\n",
    "        self.user_inputs.append(question)\n",
    "        top_response = self.query_from_pinecone(question)[0]\n",
    "        if self.verbose:\n",
    "            print(top_response['score'])\n",
    "        if top_response['score'] >= self.threshold:\n",
    "            self.contexts.append(\n",
    "                (top_response['metadata']['text'], top_response['metadata']['url'], top_response['score']))\n",
    "        else:\n",
    "            self.contexts.append(('NO CONTEXT FOUND', 'NONE', 0))\n",
    "\n",
    "        prompt = self.prompt_template.format(  # behold, the augmentation\n",
    "                today = datetime.date.today(),\n",
    "                running_convo=self.running_convo\n",
    "        )\n",
    "        if self.verbose:\n",
    "            print('--------')\n",
    "            print('PROMPT')\n",
    "            print('--------')\n",
    "            print(prompt)\n",
    "            print('--------')\n",
    "            print('END PROMPT')\n",
    "            print('--------')\n",
    "        generated = self.llm.generate(prompt, stop=self.stop_pattern)\n",
    "        if self.verbose:\n",
    "            print('--------')\n",
    "            print('GENERATED')\n",
    "            print('--------')\n",
    "            print(generated)\n",
    "            print('--------')\n",
    "            print('END GENERATED')\n",
    "            print('--------')\n",
    "        self.ai_responses.append(generated)\n",
    "        if FINAL_ANSWER_TOKEN in generated:\n",
    "            generated = generated.split(FINAL_ANSWER_TOKEN)[-1]\n",
    "        return generated"
   ]
  },
  {
   "cell_type": "markdown",
   "id": "d4af4744",
   "metadata": {},
   "source": [
    "## Using OpenAI as Generator"
   ]
  },
  {
   "cell_type": "code",
   "execution_count": 9,
   "id": "4d4340a8",
   "metadata": {},
   "outputs": [],
   "source": [
    "# Define a class for the Chat Language Model\n",
    "class OpenAIChatLLM(BaseModel):\n",
    "    model: str = 'gpt-4o'  # Default model to use\n",
    "    temperature: float = 0.5  # Default temperature for generating responses\n",
    "\n",
    "    # Method to generate a response from the model based on the provided prompt\n",
    "    def generate(self, prompt: str, stop: List[str] = None):\n",
    "        # Create a completion request to the OpenAI API with the given parameters\n",
    "        response = openai_client.chat.completions.create(\n",
    "            model=self.model,\n",
    "            messages=[{\"role\": \"user\", \"content\": prompt}],\n",
    "            temperature=self.temperature,\n",
    "            stop=stop\n",
    "        )\n",
    "\n",
    "        # Insert the details of the prompt and response into the 'cost_projecting' table in Supabase\n",
    "        supabase.table('cost_projecting').insert({\n",
    "            'prompt': prompt,\n",
    "            'response': response.choices[0].message.content,\n",
    "            'input_tokens': response.usage.prompt_tokens,\n",
    "            'output_tokens': response.usage.completion_tokens,\n",
    "            'model': self.model,\n",
    "            'inference_params': {\n",
    "                'temperature': self.temperature,\n",
    "                'stop': stop\n",
    "            },\n",
    "            'is_openai': True,\n",
    "            'app': 'RAG'\n",
    "        }).execute()\n",
    "\n",
    "        # Return the generated response content\n",
    "        return response.choices[0].message.content"
   ]
  },
  {
   "cell_type": "code",
   "execution_count": 10,
   "id": "ca046ede",
   "metadata": {},
   "outputs": [
    {
     "data": {
      "text/plain": [
       "'Hello! How can I assist you today?'"
      ]
     },
     "execution_count": 10,
     "metadata": {},
     "output_type": "execute_result"
    }
   ],
   "source": [
    "c = OpenAIChatLLM()\n",
    "c.generate('hi')"
   ]
  },
  {
   "cell_type": "code",
   "execution_count": 11,
   "id": "e9732482",
   "metadata": {},
   "outputs": [
    {
     "name": "stdout",
     "output_type": "stream",
     "text": [
      " München bietet eine Vielzahl von Kulturhighlights, darunter beeindruckende Museen, Theater und Konzertsäle. Zu den wichtigsten Museen zählen die Alte Pinakothek, die Neue Pinakothek und das Deutsche Museum. Der Olympiapark ist ein weiterer beliebter Ort, um sich zu erholen und die Architektur zu bewundern. Für weitere Informationen über Sehenswürdigkeiten und kulturelle Angebote in München, besuchen Sie bitte die [offizielle Website](https://www.muenchen.de/sehenswuerdigkeiten/tourismus).\n"
     ]
    }
   ],
   "source": [
    "openai_rag_bot = RagBot(llm=OpenAIChatLLM(temperature=0, model='gpt-4o-mini'), stop_pattern=['[END]'], verbose=False)\n",
    "print(openai_rag_bot.run('KulturHighlights in Munchen'))"
   ]
  },
  {
   "cell_type": "code",
   "execution_count": 12,
   "id": "fe37929f",
   "metadata": {},
   "outputs": [
    {
     "name": "stdout",
     "output_type": "stream",
     "text": [
      " I'm sorry I don't know.  \n",
      "\n"
     ]
    }
   ],
   "source": [
    "print(openai_rag_bot.run('which city again?'))"
   ]
  },
  {
   "cell_type": "code",
   "execution_count": 13,
   "id": "3dcde7db",
   "metadata": {},
   "outputs": [
    {
     "name": "stdout",
     "output_type": "stream",
     "text": [
      "[START]\n",
      "User Input: KulturHighlights in Munchen\n",
      "Context: us KulturHighlights Perlen der Münchner Kultur Konzertsäle, Museen, Theater HotelÜbersicht Unterkünfte in allen Preislagen buchen Hier im Überblick Sehenswürdigkeiten Bauwerke, Kirchen, Schlösser, Parks So schön ist München München mal anders Eure Stadtführung durch München mit oder ohne Guide LGBTIQ in München Tipps und Informationen für die queere Community Sehenswerte UBahnStationen Kunstwerke im Untergrund Sehenswerte UBahnhöfe Immer einen Besuch wert Museen in München Die wichtigsten Museen und Galerien Münchens Olympiapark Erholen, Staunen, Erleben im weitläufigen Park Besucherservice Tierpark Hellabrunn Infos zu Öffnungszeiten, Eintrittspreisen und Anfahrt ServiceTipps für den MünchenBesuch MVG Infos zu UBahn, Bus und Tram Tickets, Fahrpläne, LiveAuskunft, Mieträder Die Infos Touristeninformation Die wichtigsten InfoPoints Hier gibts Hinweise für Touristen Stadtrundfahrten in München. Eine Übersicht der Anbieter Stadtführungen Bei diesen Anbietern wird die Städtetour zum Erlebnis Umzugsunternehmen in München und Umgebung\n",
      "Context URL: https://www.muenchen.de/sehenswuerdigkeiten/tourismus\n",
      "Context Score: 0.698859096\n",
      "Assistant Thought: This context has sufficient information to answer the question.\n",
      "Assistant Response: München bietet eine Vielzahl von Kulturhighlights, darunter beeindruckende Museen, Theater und Konzertsäle. Zu den wichtigsten Museen zählen die Alte Pinakothek, die Neue Pinakothek und das Deutsche Museum. Der Olympiapark ist ein weiterer beliebter Ort, um sich zu erholen und die Architektur zu bewundern. Für weitere Informationen über Sehenswürdigkeiten und kulturelle Angebote in München, besuchen Sie bitte die [offizielle Website](https://www.muenchen.de/sehenswuerdigkeiten/tourismus). \n",
      "\n",
      "[END]\n",
      "[START]\n",
      "User Input: which city again?\n",
      "Context: NO CONTEXT FOUND\n",
      "Context URL: NONE\n",
      "Context Score: 0\n",
      "Assistant Thought: We either could not find something or we don't need to look something up.  \n",
      "Assistant Response: I'm sorry I don't know.  \n",
      "\n",
      "[END]\n"
     ]
    }
   ],
   "source": [
    "print(openai_rag_bot.running_convo)"
   ]
  },
  {
   "cell_type": "code",
   "execution_count": 14,
   "id": "269b046c",
   "metadata": {},
   "outputs": [
    {
     "name": "stdout",
     "output_type": "stream",
     "text": [
      " You're welcome! If you have any more questions, feel free to ask.  \n",
      "\n",
      "\n"
     ]
    }
   ],
   "source": [
    "print(openai_rag_bot.run('Amazing, thanks'))"
   ]
  },
  {
   "cell_type": "code",
   "execution_count": 15,
   "id": "4ea6d509",
   "metadata": {},
   "outputs": [
    {
     "name": "stdout",
     "output_type": "stream",
     "text": [
      "[START]\n",
      "User Input: KulturHighlights in Munchen\n",
      "Context: us KulturHighlights Perlen der Münchner Kultur Konzertsäle, Museen, Theater HotelÜbersicht Unterkünfte in allen Preislagen buchen Hier im Überblick Sehenswürdigkeiten Bauwerke, Kirchen, Schlösser, Parks So schön ist München München mal anders Eure Stadtführung durch München mit oder ohne Guide LGBTIQ in München Tipps und Informationen für die queere Community Sehenswerte UBahnStationen Kunstwerke im Untergrund Sehenswerte UBahnhöfe Immer einen Besuch wert Museen in München Die wichtigsten Museen und Galerien Münchens Olympiapark Erholen, Staunen, Erleben im weitläufigen Park Besucherservice Tierpark Hellabrunn Infos zu Öffnungszeiten, Eintrittspreisen und Anfahrt ServiceTipps für den MünchenBesuch MVG Infos zu UBahn, Bus und Tram Tickets, Fahrpläne, LiveAuskunft, Mieträder Die Infos Touristeninformation Die wichtigsten InfoPoints Hier gibts Hinweise für Touristen Stadtrundfahrten in München. Eine Übersicht der Anbieter Stadtführungen Bei diesen Anbietern wird die Städtetour zum Erlebnis Umzugsunternehmen in München und Umgebung\n",
      "Context URL: https://www.muenchen.de/sehenswuerdigkeiten/tourismus\n",
      "Context Score: 0.698859096\n",
      "Assistant Thought: This context has sufficient information to answer the question.\n",
      "Assistant Response: München bietet eine Vielzahl von Kulturhighlights, darunter beeindruckende Museen, Theater und Konzertsäle. Zu den wichtigsten Museen zählen die Alte Pinakothek, die Neue Pinakothek und das Deutsche Museum. Der Olympiapark ist ein weiterer beliebter Ort, um sich zu erholen und die Architektur zu bewundern. Für weitere Informationen über Sehenswürdigkeiten und kulturelle Angebote in München, besuchen Sie bitte die [offizielle Website](https://www.muenchen.de/sehenswuerdigkeiten/tourismus). \n",
      "\n",
      "[END]\n",
      "[START]\n",
      "User Input: which city again?\n",
      "Context: NO CONTEXT FOUND\n",
      "Context URL: NONE\n",
      "Context Score: 0\n",
      "Assistant Thought: We either could not find something or we don't need to look something up.  \n",
      "Assistant Response: I'm sorry I don't know.  \n",
      "\n",
      "[END]\n",
      "[START]\n",
      "User Input: Amazing, thanks\n",
      "Context: NO CONTEXT FOUND\n",
      "Context URL: NONE\n",
      "Context Score: 0\n",
      "Assistant Thought: We either could not find something or we don't need to look something up.  \n",
      "Assistant Response: You're welcome! If you have any more questions, feel free to ask.  \n",
      "\n",
      "\n",
      "[END]\n"
     ]
    }
   ],
   "source": [
    "print(openai_rag_bot.running_convo)"
   ]
  },
  {
   "cell_type": "code",
   "execution_count": 16,
   "id": "b0cc8212",
   "metadata": {},
   "outputs": [
    {
     "data": {
      "application/vnd.microsoft.datawrangler.viewer.v0+json": {
       "columns": [
        {
         "name": "created_at",
         "rawType": "datetime64[ns, UTC]",
         "type": "unknown"
        },
        {
         "name": "id",
         "rawType": "int64",
         "type": "integer"
        },
        {
         "name": "prompt",
         "rawType": "object",
         "type": "string"
        },
        {
         "name": "response",
         "rawType": "object",
         "type": "string"
        },
        {
         "name": "input_tokens",
         "rawType": "int64",
         "type": "integer"
        },
        {
         "name": "output_tokens",
         "rawType": "int64",
         "type": "integer"
        },
        {
         "name": "model",
         "rawType": "object",
         "type": "string"
        },
        {
         "name": "inference_params",
         "rawType": "object",
         "type": "unknown"
        },
        {
         "name": "is_openai",
         "rawType": "bool",
         "type": "boolean"
        },
        {
         "name": "app",
         "rawType": "object",
         "type": "string"
        },
        {
         "name": "created_at",
         "rawType": "object",
         "type": "string"
        }
       ],
       "conversionMethod": "pd.DataFrame",
       "ref": "914c8dd4-8ca6-4194-9e98-0261290ec31e",
       "rows": [
        [
         "2025-05-20 10:17:31.741047+00:00",
         "16",
         "Today is 2025-05-20 and you can retrieve information from a database. Respond to the user's input as best as you can.\n\nHere is an example of the conversation format:\n\n[START]\nUser Input: the input question you must answer\nContext: retrieved context from the database\nContext URL: context url\nContext Score : a score from 0 - 1 of how strong the information is a match\nAssistant Thought: This context has sufficient information to answer the question.\nAssistant Response: your final answer to the original input question which could be I don't have sufficient information to answer the question.\n[END]\n[START]\nUser Input: another input question you must answer\nContext: more retrieved context from the database\nContext URL: context url\nContext Score : another score from 0 - 1 of how strong the information is a match\nAssistant Thought: This context does not have sufficient information to answer the question.\nAssistant Response: your final answer to the second input question which could be I don't have sufficient information to answer the question.\n[END]\n[START]\nUser Input: another input question you must answer\nContext: more retrieved context from the database\nContext URL: context url\nContext Score : another score from 0 - 1 of how strong the information is a match\nAssistant Thought: A previous piece of context has the answer to this question\nAssistant Response: your final answer to the second input question which could be I don't have sufficient information to answer the question.\n[END]\n[START]\nUser Input: another input question you must answer\nContext: NO CONTEXT FOUND\nContext URL: NONE\nContext Score : 0\nAssistant Thought: We either could not find something or we don't need to look something up\nAssistant Response: I'm sorry I don't know.\n[END]\n\nBegin:\n\n[START]\nUser Input: KulturHighlights in Munchen\nContext: us KulturHighlights Perlen der Münchner Kultur Konzertsäle, Museen, Theater HotelÜbersicht Unterkünfte in allen Preislagen buchen Hier im Überblick Sehenswürdigkeiten Bauwerke, Kirchen, Schlösser, Parks So schön ist München München mal anders Eure Stadtführung durch München mit oder ohne Guide LGBTIQ in München Tipps und Informationen für die queere Community Sehenswerte UBahnStationen Kunstwerke im Untergrund Sehenswerte UBahnhöfe Immer einen Besuch wert Museen in München Die wichtigsten Museen und Galerien Münchens Olympiapark Erholen, Staunen, Erleben im weitläufigen Park Besucherservice Tierpark Hellabrunn Infos zu Öffnungszeiten, Eintrittspreisen und Anfahrt ServiceTipps für den MünchenBesuch MVG Infos zu UBahn, Bus und Tram Tickets, Fahrpläne, LiveAuskunft, Mieträder Die Infos Touristeninformation Die wichtigsten InfoPoints Hier gibts Hinweise für Touristen Stadtrundfahrten in München. Eine Übersicht der Anbieter Stadtführungen Bei diesen Anbietern wird die Städtetour zum Erlebnis Umzugsunternehmen in München und Umgebung\nContext URL: https://www.muenchen.de/sehenswuerdigkeiten/tourismus\nContext Score: 0.698859096\nAssistant Thought: This context has sufficient information to answer the question.\nAssistant Response: München bietet eine Vielzahl von Kulturhighlights, darunter beeindruckende Museen, Theater und Konzertsäle. Zu den wichtigsten Museen zählen die Alte Pinakothek, die Neue Pinakothek und das Deutsche Museum. Der Olympiapark ist ein weiterer beliebter Ort, um sich zu erholen und die Architektur zu bewundern. Für weitere Informationen über Sehenswürdigkeiten und kulturelle Angebote in München, besuchen Sie bitte die Webseite [muenchen.de](https://www.muenchen.de/sehenswuerdigkeiten/tourismus).\n[END]\n[START]\nUser Input: which city again?\nContext: NO CONTEXT FOUND\nContext URL: NONE\nContext Score: 0\nAssistant Thought: We either could not find something or we don't need to look something up.  \nAssistant Response: I'm sorry I don't know.  \n\n[END]\n[START]\nUser Input: Amazing, thanks\nContext: NO CONTEXT FOUND\nContext URL: NONE\nContext Score: 0\n",
         "Assistant Thought: We either could not find something or we don't need to look something up.  \nAssistant Response: You're welcome! If you have any more questions, feel free to ask.  \n",
         "865",
         "41",
         "gpt-4o-mini",
         "{'stop': ['[END]'], 'temperature': 0.0}",
         "True",
         "RAG",
         "2025-05-20T10:17:31.741047+00:00"
        ],
        [
         "2025-05-20 11:21:32.028085+00:00",
         "17",
         "hi",
         "Hello! How can I assist you today?",
         "8",
         "9",
         "gpt-4o",
         "{'stop': None, 'temperature': 0.5}",
         "True",
         "RAG",
         "2025-05-20T11:21:32.028085+00:00"
        ],
        [
         "2025-05-20 11:21:38.309521+00:00",
         "18",
         "Today is 2025-05-20 and you can retrieve information from a database. Respond to the user's input as best as you can.\n\nHere is an example of the conversation format:\n\n[START]\nUser Input: the input question you must answer\nContext: retrieved context from the database\nContext URL: context url\nContext Score : a score from 0 - 1 of how strong the information is a match\nAssistant Thought: This context has sufficient information to answer the question.\nAssistant Response: your final answer to the original input question which could be I don't have sufficient information to answer the question.\n[END]\n[START]\nUser Input: another input question you must answer\nContext: more retrieved context from the database\nContext URL: context url\nContext Score : another score from 0 - 1 of how strong the information is a match\nAssistant Thought: This context does not have sufficient information to answer the question.\nAssistant Response: your final answer to the second input question which could be I don't have sufficient information to answer the question.\n[END]\n[START]\nUser Input: another input question you must answer\nContext: more retrieved context from the database\nContext URL: context url\nContext Score : another score from 0 - 1 of how strong the information is a match\nAssistant Thought: A previous piece of context has the answer to this question\nAssistant Response: your final answer to the second input question which could be I don't have sufficient information to answer the question.\n[END]\n[START]\nUser Input: another input question you must answer\nContext: NO CONTEXT FOUND\nContext URL: NONE\nContext Score : 0\nAssistant Thought: We either could not find something or we don't need to look something up\nAssistant Response: I'm sorry I don't know.\n[END]\n\nBegin:\n\n[START]\nUser Input: KulturHighlights in Munchen\nContext: us KulturHighlights Perlen der Münchner Kultur Konzertsäle, Museen, Theater HotelÜbersicht Unterkünfte in allen Preislagen buchen Hier im Überblick Sehenswürdigkeiten Bauwerke, Kirchen, Schlösser, Parks So schön ist München München mal anders Eure Stadtführung durch München mit oder ohne Guide LGBTIQ in München Tipps und Informationen für die queere Community Sehenswerte UBahnStationen Kunstwerke im Untergrund Sehenswerte UBahnhöfe Immer einen Besuch wert Museen in München Die wichtigsten Museen und Galerien Münchens Olympiapark Erholen, Staunen, Erleben im weitläufigen Park Besucherservice Tierpark Hellabrunn Infos zu Öffnungszeiten, Eintrittspreisen und Anfahrt ServiceTipps für den MünchenBesuch MVG Infos zu UBahn, Bus und Tram Tickets, Fahrpläne, LiveAuskunft, Mieträder Die Infos Touristeninformation Die wichtigsten InfoPoints Hier gibts Hinweise für Touristen Stadtrundfahrten in München. Eine Übersicht der Anbieter Stadtführungen Bei diesen Anbietern wird die Städtetour zum Erlebnis Umzugsunternehmen in München und Umgebung\nContext URL: https://www.muenchen.de/sehenswuerdigkeiten/tourismus\nContext Score: 0.698859096\n",
         "Assistant Thought: This context has sufficient information to answer the question.\nAssistant Response: München bietet eine Vielzahl von Kulturhighlights, darunter beeindruckende Museen, Theater und Konzertsäle. Zu den wichtigsten Museen zählen die Alte Pinakothek, die Neue Pinakothek und das Deutsche Museum. Der Olympiapark ist ein weiterer beliebter Ort, um sich zu erholen und die Architektur zu bewundern. Für weitere Informationen über Sehenswürdigkeiten und kulturelle Angebote in München, besuchen Sie bitte die [offizielle Website](https://www.muenchen.de/sehenswuerdigkeiten/tourismus). \n",
         "649",
         "127",
         "gpt-4o-mini",
         "{'stop': ['[END]'], 'temperature': 0.0}",
         "True",
         "RAG",
         "2025-05-20T11:21:38.309521+00:00"
        ],
        [
         "2025-05-20 11:21:40.836605+00:00",
         "19",
         "Today is 2025-05-20 and you can retrieve information from a database. Respond to the user's input as best as you can.\n\nHere is an example of the conversation format:\n\n[START]\nUser Input: the input question you must answer\nContext: retrieved context from the database\nContext URL: context url\nContext Score : a score from 0 - 1 of how strong the information is a match\nAssistant Thought: This context has sufficient information to answer the question.\nAssistant Response: your final answer to the original input question which could be I don't have sufficient information to answer the question.\n[END]\n[START]\nUser Input: another input question you must answer\nContext: more retrieved context from the database\nContext URL: context url\nContext Score : another score from 0 - 1 of how strong the information is a match\nAssistant Thought: This context does not have sufficient information to answer the question.\nAssistant Response: your final answer to the second input question which could be I don't have sufficient information to answer the question.\n[END]\n[START]\nUser Input: another input question you must answer\nContext: more retrieved context from the database\nContext URL: context url\nContext Score : another score from 0 - 1 of how strong the information is a match\nAssistant Thought: A previous piece of context has the answer to this question\nAssistant Response: your final answer to the second input question which could be I don't have sufficient information to answer the question.\n[END]\n[START]\nUser Input: another input question you must answer\nContext: NO CONTEXT FOUND\nContext URL: NONE\nContext Score : 0\nAssistant Thought: We either could not find something or we don't need to look something up\nAssistant Response: I'm sorry I don't know.\n[END]\n\nBegin:\n\n[START]\nUser Input: KulturHighlights in Munchen\nContext: us KulturHighlights Perlen der Münchner Kultur Konzertsäle, Museen, Theater HotelÜbersicht Unterkünfte in allen Preislagen buchen Hier im Überblick Sehenswürdigkeiten Bauwerke, Kirchen, Schlösser, Parks So schön ist München München mal anders Eure Stadtführung durch München mit oder ohne Guide LGBTIQ in München Tipps und Informationen für die queere Community Sehenswerte UBahnStationen Kunstwerke im Untergrund Sehenswerte UBahnhöfe Immer einen Besuch wert Museen in München Die wichtigsten Museen und Galerien Münchens Olympiapark Erholen, Staunen, Erleben im weitläufigen Park Besucherservice Tierpark Hellabrunn Infos zu Öffnungszeiten, Eintrittspreisen und Anfahrt ServiceTipps für den MünchenBesuch MVG Infos zu UBahn, Bus und Tram Tickets, Fahrpläne, LiveAuskunft, Mieträder Die Infos Touristeninformation Die wichtigsten InfoPoints Hier gibts Hinweise für Touristen Stadtrundfahrten in München. Eine Übersicht der Anbieter Stadtführungen Bei diesen Anbietern wird die Städtetour zum Erlebnis Umzugsunternehmen in München und Umgebung\nContext URL: https://www.muenchen.de/sehenswuerdigkeiten/tourismus\nContext Score: 0.698859096\nAssistant Thought: This context has sufficient information to answer the question.\nAssistant Response: München bietet eine Vielzahl von Kulturhighlights, darunter beeindruckende Museen, Theater und Konzertsäle. Zu den wichtigsten Museen zählen die Alte Pinakothek, die Neue Pinakothek und das Deutsche Museum. Der Olympiapark ist ein weiterer beliebter Ort, um sich zu erholen und die Architektur zu bewundern. Für weitere Informationen über Sehenswürdigkeiten und kulturelle Angebote in München, besuchen Sie bitte die [offizielle Website](https://www.muenchen.de/sehenswuerdigkeiten/tourismus). \n\n[END]\n[START]\nUser Input: which city again?\nContext: NO CONTEXT FOUND\nContext URL: NONE\nContext Score: 0\n",
         "Assistant Thought: We either could not find something or we don't need to look something up.  \nAssistant Response: I'm sorry I don't know.  \n",
         "804",
         "32",
         "gpt-4o-mini",
         "{'stop': ['[END]'], 'temperature': 0.0}",
         "True",
         "RAG",
         "2025-05-20T11:21:40.836605+00:00"
        ],
        [
         "2025-05-20 11:21:44.920504+00:00",
         "20",
         "Today is 2025-05-20 and you can retrieve information from a database. Respond to the user's input as best as you can.\n\nHere is an example of the conversation format:\n\n[START]\nUser Input: the input question you must answer\nContext: retrieved context from the database\nContext URL: context url\nContext Score : a score from 0 - 1 of how strong the information is a match\nAssistant Thought: This context has sufficient information to answer the question.\nAssistant Response: your final answer to the original input question which could be I don't have sufficient information to answer the question.\n[END]\n[START]\nUser Input: another input question you must answer\nContext: more retrieved context from the database\nContext URL: context url\nContext Score : another score from 0 - 1 of how strong the information is a match\nAssistant Thought: This context does not have sufficient information to answer the question.\nAssistant Response: your final answer to the second input question which could be I don't have sufficient information to answer the question.\n[END]\n[START]\nUser Input: another input question you must answer\nContext: more retrieved context from the database\nContext URL: context url\nContext Score : another score from 0 - 1 of how strong the information is a match\nAssistant Thought: A previous piece of context has the answer to this question\nAssistant Response: your final answer to the second input question which could be I don't have sufficient information to answer the question.\n[END]\n[START]\nUser Input: another input question you must answer\nContext: NO CONTEXT FOUND\nContext URL: NONE\nContext Score : 0\nAssistant Thought: We either could not find something or we don't need to look something up\nAssistant Response: I'm sorry I don't know.\n[END]\n\nBegin:\n\n[START]\nUser Input: KulturHighlights in Munchen\nContext: us KulturHighlights Perlen der Münchner Kultur Konzertsäle, Museen, Theater HotelÜbersicht Unterkünfte in allen Preislagen buchen Hier im Überblick Sehenswürdigkeiten Bauwerke, Kirchen, Schlösser, Parks So schön ist München München mal anders Eure Stadtführung durch München mit oder ohne Guide LGBTIQ in München Tipps und Informationen für die queere Community Sehenswerte UBahnStationen Kunstwerke im Untergrund Sehenswerte UBahnhöfe Immer einen Besuch wert Museen in München Die wichtigsten Museen und Galerien Münchens Olympiapark Erholen, Staunen, Erleben im weitläufigen Park Besucherservice Tierpark Hellabrunn Infos zu Öffnungszeiten, Eintrittspreisen und Anfahrt ServiceTipps für den MünchenBesuch MVG Infos zu UBahn, Bus und Tram Tickets, Fahrpläne, LiveAuskunft, Mieträder Die Infos Touristeninformation Die wichtigsten InfoPoints Hier gibts Hinweise für Touristen Stadtrundfahrten in München. Eine Übersicht der Anbieter Stadtführungen Bei diesen Anbietern wird die Städtetour zum Erlebnis Umzugsunternehmen in München und Umgebung\nContext URL: https://www.muenchen.de/sehenswuerdigkeiten/tourismus\nContext Score: 0.698859096\nAssistant Thought: This context has sufficient information to answer the question.\nAssistant Response: München bietet eine Vielzahl von Kulturhighlights, darunter beeindruckende Museen, Theater und Konzertsäle. Zu den wichtigsten Museen zählen die Alte Pinakothek, die Neue Pinakothek und das Deutsche Museum. Der Olympiapark ist ein weiterer beliebter Ort, um sich zu erholen und die Architektur zu bewundern. Für weitere Informationen über Sehenswürdigkeiten und kulturelle Angebote in München, besuchen Sie bitte die [offizielle Website](https://www.muenchen.de/sehenswuerdigkeiten/tourismus). \n\n[END]\n[START]\nUser Input: which city again?\nContext: NO CONTEXT FOUND\nContext URL: NONE\nContext Score: 0\nAssistant Thought: We either could not find something or we don't need to look something up.  \nAssistant Response: I'm sorry I don't know.  \n\n[END]\n[START]\nUser Input: Amazing, thanks\nContext: NO CONTEXT FOUND\nContext URL: NONE\nContext Score: 0\n",
         "Assistant Thought: We either could not find something or we don't need to look something up.  \nAssistant Response: You're welcome! If you have any more questions, feel free to ask.  \n\n",
         "864",
         "41",
         "gpt-4o-mini",
         "{'stop': ['[END]'], 'temperature': 0.0}",
         "True",
         "RAG",
         "2025-05-20T11:21:44.920504+00:00"
        ]
       ],
       "shape": {
        "columns": 10,
        "rows": 5
       }
      },
      "text/html": [
       "<div>\n",
       "<style scoped>\n",
       "    .dataframe tbody tr th:only-of-type {\n",
       "        vertical-align: middle;\n",
       "    }\n",
       "\n",
       "    .dataframe tbody tr th {\n",
       "        vertical-align: top;\n",
       "    }\n",
       "\n",
       "    .dataframe thead th {\n",
       "        text-align: right;\n",
       "    }\n",
       "</style>\n",
       "<table border=\"1\" class=\"dataframe\">\n",
       "  <thead>\n",
       "    <tr style=\"text-align: right;\">\n",
       "      <th></th>\n",
       "      <th>id</th>\n",
       "      <th>prompt</th>\n",
       "      <th>response</th>\n",
       "      <th>input_tokens</th>\n",
       "      <th>output_tokens</th>\n",
       "      <th>model</th>\n",
       "      <th>inference_params</th>\n",
       "      <th>is_openai</th>\n",
       "      <th>app</th>\n",
       "      <th>created_at</th>\n",
       "    </tr>\n",
       "    <tr>\n",
       "      <th>created_at</th>\n",
       "      <th></th>\n",
       "      <th></th>\n",
       "      <th></th>\n",
       "      <th></th>\n",
       "      <th></th>\n",
       "      <th></th>\n",
       "      <th></th>\n",
       "      <th></th>\n",
       "      <th></th>\n",
       "      <th></th>\n",
       "    </tr>\n",
       "  </thead>\n",
       "  <tbody>\n",
       "    <tr>\n",
       "      <th>2025-05-20 10:17:31.741047+00:00</th>\n",
       "      <td>16</td>\n",
       "      <td>Today is 2025-05-20 and you can retrieve infor...</td>\n",
       "      <td>Assistant Thought: We either could not find so...</td>\n",
       "      <td>865</td>\n",
       "      <td>41</td>\n",
       "      <td>gpt-4o-mini</td>\n",
       "      <td>{'stop': ['[END]'], 'temperature': 0.0}</td>\n",
       "      <td>True</td>\n",
       "      <td>RAG</td>\n",
       "      <td>2025-05-20T10:17:31.741047+00:00</td>\n",
       "    </tr>\n",
       "    <tr>\n",
       "      <th>2025-05-20 11:21:32.028085+00:00</th>\n",
       "      <td>17</td>\n",
       "      <td>hi</td>\n",
       "      <td>Hello! How can I assist you today?</td>\n",
       "      <td>8</td>\n",
       "      <td>9</td>\n",
       "      <td>gpt-4o</td>\n",
       "      <td>{'stop': None, 'temperature': 0.5}</td>\n",
       "      <td>True</td>\n",
       "      <td>RAG</td>\n",
       "      <td>2025-05-20T11:21:32.028085+00:00</td>\n",
       "    </tr>\n",
       "    <tr>\n",
       "      <th>2025-05-20 11:21:38.309521+00:00</th>\n",
       "      <td>18</td>\n",
       "      <td>Today is 2025-05-20 and you can retrieve infor...</td>\n",
       "      <td>Assistant Thought: This context has sufficient...</td>\n",
       "      <td>649</td>\n",
       "      <td>127</td>\n",
       "      <td>gpt-4o-mini</td>\n",
       "      <td>{'stop': ['[END]'], 'temperature': 0.0}</td>\n",
       "      <td>True</td>\n",
       "      <td>RAG</td>\n",
       "      <td>2025-05-20T11:21:38.309521+00:00</td>\n",
       "    </tr>\n",
       "    <tr>\n",
       "      <th>2025-05-20 11:21:40.836605+00:00</th>\n",
       "      <td>19</td>\n",
       "      <td>Today is 2025-05-20 and you can retrieve infor...</td>\n",
       "      <td>Assistant Thought: We either could not find so...</td>\n",
       "      <td>804</td>\n",
       "      <td>32</td>\n",
       "      <td>gpt-4o-mini</td>\n",
       "      <td>{'stop': ['[END]'], 'temperature': 0.0}</td>\n",
       "      <td>True</td>\n",
       "      <td>RAG</td>\n",
       "      <td>2025-05-20T11:21:40.836605+00:00</td>\n",
       "    </tr>\n",
       "    <tr>\n",
       "      <th>2025-05-20 11:21:44.920504+00:00</th>\n",
       "      <td>20</td>\n",
       "      <td>Today is 2025-05-20 and you can retrieve infor...</td>\n",
       "      <td>Assistant Thought: We either could not find so...</td>\n",
       "      <td>864</td>\n",
       "      <td>41</td>\n",
       "      <td>gpt-4o-mini</td>\n",
       "      <td>{'stop': ['[END]'], 'temperature': 0.0}</td>\n",
       "      <td>True</td>\n",
       "      <td>RAG</td>\n",
       "      <td>2025-05-20T11:21:44.920504+00:00</td>\n",
       "    </tr>\n",
       "  </tbody>\n",
       "</table>\n",
       "</div>"
      ],
      "text/plain": [
       "                                  id  \\\n",
       "created_at                             \n",
       "2025-05-20 10:17:31.741047+00:00  16   \n",
       "2025-05-20 11:21:32.028085+00:00  17   \n",
       "2025-05-20 11:21:38.309521+00:00  18   \n",
       "2025-05-20 11:21:40.836605+00:00  19   \n",
       "2025-05-20 11:21:44.920504+00:00  20   \n",
       "\n",
       "                                                                             prompt  \\\n",
       "created_at                                                                            \n",
       "2025-05-20 10:17:31.741047+00:00  Today is 2025-05-20 and you can retrieve infor...   \n",
       "2025-05-20 11:21:32.028085+00:00                                                 hi   \n",
       "2025-05-20 11:21:38.309521+00:00  Today is 2025-05-20 and you can retrieve infor...   \n",
       "2025-05-20 11:21:40.836605+00:00  Today is 2025-05-20 and you can retrieve infor...   \n",
       "2025-05-20 11:21:44.920504+00:00  Today is 2025-05-20 and you can retrieve infor...   \n",
       "\n",
       "                                                                           response  \\\n",
       "created_at                                                                            \n",
       "2025-05-20 10:17:31.741047+00:00  Assistant Thought: We either could not find so...   \n",
       "2025-05-20 11:21:32.028085+00:00                 Hello! How can I assist you today?   \n",
       "2025-05-20 11:21:38.309521+00:00  Assistant Thought: This context has sufficient...   \n",
       "2025-05-20 11:21:40.836605+00:00  Assistant Thought: We either could not find so...   \n",
       "2025-05-20 11:21:44.920504+00:00  Assistant Thought: We either could not find so...   \n",
       "\n",
       "                                  input_tokens  output_tokens        model  \\\n",
       "created_at                                                                   \n",
       "2025-05-20 10:17:31.741047+00:00           865             41  gpt-4o-mini   \n",
       "2025-05-20 11:21:32.028085+00:00             8              9       gpt-4o   \n",
       "2025-05-20 11:21:38.309521+00:00           649            127  gpt-4o-mini   \n",
       "2025-05-20 11:21:40.836605+00:00           804             32  gpt-4o-mini   \n",
       "2025-05-20 11:21:44.920504+00:00           864             41  gpt-4o-mini   \n",
       "\n",
       "                                                         inference_params  \\\n",
       "created_at                                                                  \n",
       "2025-05-20 10:17:31.741047+00:00  {'stop': ['[END]'], 'temperature': 0.0}   \n",
       "2025-05-20 11:21:32.028085+00:00       {'stop': None, 'temperature': 0.5}   \n",
       "2025-05-20 11:21:38.309521+00:00  {'stop': ['[END]'], 'temperature': 0.0}   \n",
       "2025-05-20 11:21:40.836605+00:00  {'stop': ['[END]'], 'temperature': 0.0}   \n",
       "2025-05-20 11:21:44.920504+00:00  {'stop': ['[END]'], 'temperature': 0.0}   \n",
       "\n",
       "                                  is_openai  app  \\\n",
       "created_at                                         \n",
       "2025-05-20 10:17:31.741047+00:00       True  RAG   \n",
       "2025-05-20 11:21:32.028085+00:00       True  RAG   \n",
       "2025-05-20 11:21:38.309521+00:00       True  RAG   \n",
       "2025-05-20 11:21:40.836605+00:00       True  RAG   \n",
       "2025-05-20 11:21:44.920504+00:00       True  RAG   \n",
       "\n",
       "                                                        created_at  \n",
       "created_at                                                          \n",
       "2025-05-20 10:17:31.741047+00:00  2025-05-20T10:17:31.741047+00:00  \n",
       "2025-05-20 11:21:32.028085+00:00  2025-05-20T11:21:32.028085+00:00  \n",
       "2025-05-20 11:21:38.309521+00:00  2025-05-20T11:21:38.309521+00:00  \n",
       "2025-05-20 11:21:40.836605+00:00  2025-05-20T11:21:40.836605+00:00  \n",
       "2025-05-20 11:21:44.920504+00:00  2025-05-20T11:21:44.920504+00:00  "
      ]
     },
     "execution_count": 16,
     "metadata": {},
     "output_type": "execute_result"
    }
   ],
   "source": [
    "response = supabase.table('cost_projecting').select(\"*\").eq('app', 'RAG').execute()\n",
    "completions_df = pd.DataFrame(response.data)\n",
    "completions_df.index = pd.to_datetime(completions_df['created_at'])\n",
    "\n",
    "completions_df.tail()"
   ]
  },
  {
   "cell_type": "code",
   "execution_count": 17,
   "id": "6a120b5a",
   "metadata": {},
   "outputs": [
    {
     "name": "stdout",
     "output_type": "stream",
     "text": [
      "Total cost for the completions dataframe:\n",
      "GPT-3.5-Turbo cost: $0.012563\n",
      "GPT-4o-mini cost: $0.012563\n"
     ]
    }
   ],
   "source": [
    "prices = { # per 1M tokens\n",
    "    'gpt-3.5-turbo': {\n",
    "        'prompt': 0.5,\n",
    "        'completion': 1.5\n",
    "    },\n",
    "    'gpt-4o-mini': {\n",
    "        'prompt': 0.15,\n",
    "        'completion': 0.6\n",
    "    },\n",
    "    'gpt-4o': {\n",
    "        'prompt': 3,\n",
    "        'completion': 6\n",
    "    },\n",
    "    'gpt-4': {\n",
    "        'prompt': 10,\n",
    "        'completion': 30\n",
    "    },\n",
    "    'gpt-4-turbo': {\n",
    "        'prompt': 5,\n",
    "        'completion': 15\n",
    "    },\n",
    "    'text-embedding-3-small': {\n",
    "        'prompt': 0.02,\n",
    "        'completion': 0\n",
    "    },\n",
    "    'text-embedding-3-large': {\n",
    "        'prompt': 0.13,\n",
    "        'completion': 0\n",
    "    }\n",
    "}\n",
    "\n",
    "# generate current cost for the completions dataframe\n",
    "\n",
    "total_input_tokens = completions_df['input_tokens'].sum()\n",
    "total_output_tokens = completions_df['output_tokens'].sum()\n",
    "\n",
    "\n",
    "def calculate_cost(input_tokens, output_tokens, model):\n",
    "    if model not in prices:\n",
    "        return None\n",
    "\n",
    "    prompt_cost = input_tokens / 1e6\n",
    "    completion_cost = output_tokens / 1e6\n",
    "\n",
    "    return prompt_cost + completion_cost\n",
    "\n",
    "print('Total cost for the completions dataframe:')\n",
    "costs = calculate_cost(total_input_tokens, total_output_tokens, 'gpt-3.5-turbo'), calculate_cost(total_input_tokens, total_output_tokens, 'gpt-4o-mini')    \n",
    "print(f\"GPT-3.5-Turbo cost: ${float(costs[0]):.6f}\")\n",
    "print(f\"GPT-4o-mini cost: ${float(costs[1]):.6f}\")\n",
    "# calculate_cost(354, 400, 'gpt-3.5-turbo'), calculate_cost(354, 400, 'gpt-4o')\n",
    "# calculate_cost(total_input_tokens, total_output_tokens, 'gpt-4o-mini'), calculate_cost(total_input_tokens, total_output_tokens, 'gpt-4o')"
   ]
  },
  {
   "cell_type": "code",
   "execution_count": 18,
   "id": "6d940534",
   "metadata": {},
   "outputs": [],
   "source": [
    "# run calculate_cost over every row\n",
    "completions_df['cost'] = completions_df.apply(\n",
    "    lambda row: calculate_cost(row['input_tokens'], row['output_tokens'], row['model']), axis=1\n",
    "    )"
   ]
  },
  {
   "cell_type": "code",
   "execution_count": 19,
   "id": "7252080a",
   "metadata": {},
   "outputs": [
    {
     "data": {
      "text/plain": [
       "created_at\n",
       "2025-05-19 00:00:00+00:00    0.007495\n",
       "2025-05-26 00:00:00+00:00    0.005068\n",
       "Freq: W-MON, Name: cost, dtype: float64"
      ]
     },
     "execution_count": 19,
     "metadata": {},
     "output_type": "execute_result"
    }
   ],
   "source": [
    "completions_df['cost'].resample('W-Mon').sum().sort_index()"
   ]
  },
  {
   "cell_type": "code",
   "execution_count": 20,
   "id": "df7ff2f9",
   "metadata": {},
   "outputs": [
    {
     "data": {
      "text/plain": [
       "<Axes: xlabel='created_at'>"
      ]
     },
     "execution_count": 20,
     "metadata": {},
     "output_type": "execute_result"
    },
    {
     "data": {
      "image/png": "[encoded data removed]",
      "text/plain": [
       "<Figure size 640x480 with 1 Axes>"
      ]
     },
     "metadata": {},
     "output_type": "display_data"
    }
   ],
   "source": [
    "completions_df['cost'].resample('W-Mon').sum().sort_index().plot(kind='bar')"
   ]
  },
  {
   "cell_type": "markdown",
   "id": "3b038640",
   "metadata": {},
   "source": [
    "# Using Llama-3 8b as our Generator"
   ]
  },
  {
   "cell_type": "code",
   "execution_count": null,
   "id": "1d79553a",
   "metadata": {},
   "outputs": [],
   "source": [
    "from transformers import AutoTokenizer\n",
    "from huggingface_hub import login\n",
    "\n",
    "load_dotenv()\n",
    "login(token=os.environ.get('HUGGINGFACE_TOKEN'))\n",
    "\n",
    "\n",
    "tokenizer = AutoTokenizer.from_pretrained(\"meta-llama/Meta-Llama-3-8B-Instruct\")\n",
    "# Mistral's open model (similar performance to Llama-3)\n",
    "# tokenizer = AutoTokenizer.from_pretrained(\"mistralai/Mistral-7B-Instruct-v0.2\")\n",
    "\n",
    "# Or smaller but capable models\n",
    "# tokenizer = AutoTokenizer.from_pretrained(\"google/flan-t5-base\")"
   ]
  },
  {
   "cell_type": "code",
   "execution_count": null,
   "id": "b2006edb",
   "metadata": {},
   "outputs": [],
   "source": [
    "import requests\n",
    "\n",
    "terminators = [\n",
    "    tokenizer.eos_token_id,\n",
    "    tokenizer.convert_tokens_to_ids(\"<|eot_id|>\"),\n",
    "    tokenizer.convert_tokens_to_ids(\"assistant\"),\n",
    "]\n",
    "\n",
    "def test_prompt_llama_3_8b(prompt, suppress=False, **kwargs):\n",
    "\n",
    "    API_URL = \"https://my03m9749ssz7t6h.us-east-1.aws.endpoints.huggingface.cloud\"\n",
    "    headers = {\n",
    "    \t\"Accept\" : \"application/json\",\n",
    "    \t\"Authorization\": f\"Bearer {userdata.get('HUGGINGFACE_TOKEN')}\",\n",
    "    \t\"Content-Type\": \"application/json\"\n",
    "    }\n",
    "\n",
    "    llama_prompt = f\"<|begin_of_text|><|start_header_id|>user<|end_header_id|>\\n\\n{prompt}<|eot_id|><|start_header_id|>assistant<|end_header_id|>\\n\\n\"\n",
    "\n",
    "    def query(payload):\n",
    "    \tresponse = requests.post(API_URL, headers=headers, json=payload)\n",
    "    \treturn response.json()\n",
    "\n",
    "    kwargs[\"return_text\"] = False\n",
    "    kwargs[\"return_full_text\"] = False\n",
    "    kwargs['max_new_tokens'] = 512\n",
    "    kwargs['stop'] = [\"<|end_of_text|>\", \"<|eot_id|>\"]\n",
    "\n",
    "    output = query({\n",
    "    \t\"inputs\": llama_prompt,\n",
    "    \t\"parameters\": kwargs\n",
    "    })\n",
    "    answer = output[0]['generated_text']\n",
    "    if not suppress:\n",
    "        print(f'PROMPT:\\n------\\n{llama_prompt}\\n------\\nRESPONSE\\n------\\n{answer}')\n",
    "    else:\n",
    "        return answer\n",
    "\n",
    "test_prompt_llama_3_8b('1+1=?')"
   ]
  },
  {
   "cell_type": "code",
   "execution_count": null,
   "id": "5b4d0d8c",
   "metadata": {},
   "outputs": [],
   "source": [
    "test_prompt_llama_3_8b('1+1=?', suppress=True)"
   ]
  },
  {
   "cell_type": "code",
   "execution_count": null,
   "id": "81a0f43f",
   "metadata": {},
   "outputs": [],
   "source": [
    "class LlamaChatLLM(BaseModel):\n",
    "    temperature: float = 0.3\n",
    "    do_sample: bool = True\n",
    "    max_new_tokens: int = 256\n",
    "\n",
    "    def generate(self, prompt: str, stop: List[str] = None):\n",
    "        response = test_prompt_llama_3_8b(prompt, suppress=True)\n",
    "        return response"
   ]
  },
  {
   "cell_type": "code",
   "execution_count": null,
   "id": "46ee3474",
   "metadata": {},
   "outputs": [],
   "source": [
    "llama_rag = RagBot(llm=llama_llm, verbose=False, stop_pattern=['[END]'])\n",
    "print(llama_rag.run('I want to go to a museum in Munich'))"
   ]
  },
  {
   "cell_type": "code",
   "execution_count": null,
   "id": "e0f8f744",
   "metadata": {},
   "outputs": [],
   "source": [
    "llama_rag.user_inputs"
   ]
  },
  {
   "cell_type": "code",
   "execution_count": null,
   "id": "6d813ff5",
   "metadata": {},
   "outputs": [],
   "source": [
    "llama_rag.ai_responses"
   ]
  },
  {
   "cell_type": "code",
   "execution_count": null,
   "id": "dd37fd20",
   "metadata": {},
   "outputs": [],
   "source": [
    "llama_rag.contexts"
   ]
  },
  {
   "cell_type": "markdown",
   "id": "1a427687",
   "metadata": {},
   "source": [
    "## Using Ollama locally"
   ]
  },
  {
   "cell_type": "code",
   "execution_count": 9,
   "id": "e6c7709d",
   "metadata": {},
   "outputs": [],
   "source": [
    "import ollama\n",
    "\n",
    "class OllamaLLM(BaseModel):\n",
    "    model_name:str = \"llama3.2\"\n",
    "\n",
    "    def generate(self, prompt: str, stop: List[str] = None):\n",
    "        messages = [{'role': 'user', 'content': prompt}]\n",
    "        response = ollama.chat(model=self.model_name, messages=messages, options={'stop': stop})\n",
    "        return response['message']['content']"
   ]
  },
  {
   "cell_type": "code",
   "execution_count": 15,
   "id": "abe0eed6",
   "metadata": {},
   "outputs": [
    {
     "data": {
      "text/plain": [
       "'1 + 1 = 2.'"
      ]
     },
     "execution_count": 15,
     "metadata": {},
     "output_type": "execute_result"
    }
   ],
   "source": [
    "# run ollama locally\n",
    "# ollama run llama3.2\n",
    "\n",
    "o_llama = OllamaLLM()\n",
    "o_llama.generate('What is 1+1?')"
   ]
  },
  {
   "cell_type": "code",
   "execution_count": 12,
   "id": "014b6466",
   "metadata": {},
   "outputs": [
    {
     "name": "stdout",
     "output_type": "stream",
     "text": [
      " Es gibt viele Museen in Deutschland. Welches Museum sind Sie gerne besuchen? (There are many museums in Germany. Which museum would you like to visit?)\n",
      "[END]\n"
     ]
    }
   ],
   "source": [
    "o_llama_rag = RagBot(llm=o_llama, verbose=False, stop_pattern=[])  \n",
    "print(o_llama_rag.run('Ich will Museum besuchen'))"
   ]
  },
  {
   "cell_type": "code",
   "execution_count": 22,
   "id": "6e14cc5d",
   "metadata": {},
   "outputs": [
    {
     "data": {
      "text/plain": [
       "[\"[END]\\n[START]\\nUser Input: Ich will Museum besuchen\\nContext: NO CONTEXT FOUND\\nContext URL: NONE\\nContext Score : 0\\nAssistant Thought: We either could not find something or we don't need to look something up\\nAssistant Response: Ich empfehle dir, einen Museum in deiner Nähe zu suchen. Du kannst dies online tun oder dich nach Empfehlungen stellen.\"]"
      ]
     },
     "execution_count": 22,
     "metadata": {},
     "output_type": "execute_result"
    }
   ],
   "source": [
    "o_llama_rag.ai_responses"
   ]
  },
  {
   "cell_type": "code",
   "execution_count": 23,
   "id": "aa06426a",
   "metadata": {},
   "outputs": [
    {
     "name": "stdout",
     "output_type": "stream",
     "text": [
      "[START]\n",
      "User Input: Ich will Museum besuchen\n",
      "Context: NO CONTEXT FOUND\n",
      "Context URL: NONE\n",
      "Context Score: 0\n",
      "[END]\n",
      "[START]\n",
      "User Input: Ich will Museum besuchen\n",
      "Context: NO CONTEXT FOUND\n",
      "Context URL: NONE\n",
      "Context Score : 0\n",
      "Assistant Thought: We either could not find something or we don't need to look something up\n",
      "Assistant Response: Ich empfehle dir, einen Museum in deiner Nähe zu suchen. Du kannst dies online tun oder dich nach Empfehlungen stellen.\n",
      "[END]\n"
     ]
    }
   ],
   "source": [
    "print(o_llama_rag.running_convo)"
   ]
  },
  {
   "cell_type": "markdown",
   "id": "d3d56947",
   "metadata": {},
   "source": [
    "## Using Command-R as our Generator"
   ]
  },
  {
   "cell_type": "code",
   "execution_count": 9,
   "id": "42ace6a7",
   "metadata": {},
   "outputs": [
    {
     "name": "stdout",
     "output_type": "stream",
     "text": [
      "Requirement already satisfied: bitsandbytes in c:\\users\\kadda\\github_repos\\rag-gen-ai\\.venv\\lib\\site-packages (0.45.5)\n",
      "Requirement already satisfied: accelerate in c:\\users\\kadda\\github_repos\\rag-gen-ai\\.venv\\lib\\site-packages (1.7.0)\n",
      "Requirement already satisfied: torch[transformers] in c:\\users\\kadda\\github_repos\\rag-gen-ai\\.venv\\lib\\site-packages (2.7.0+cu128)\n",
      "Requirement already satisfied: numpy>=1.17 in c:\\users\\kadda\\github_repos\\rag-gen-ai\\.venv\\lib\\site-packages (from bitsandbytes) (2.2.6)\n",
      "Requirement already satisfied: filelock in c:\\users\\kadda\\github_repos\\rag-gen-ai\\.venv\\lib\\site-packages (from torch[transformers]) (3.18.0)\n",
      "Requirement already satisfied: typing-extensions>=4.10.0 in c:\\users\\kadda\\github_repos\\rag-gen-ai\\.venv\\lib\\site-packages (from torch[transformers]) (4.13.2)\n",
      "Requirement already satisfied: sympy>=1.13.3 in c:\\users\\kadda\\github_repos\\rag-gen-ai\\.venv\\lib\\site-packages (from torch[transformers]) (1.14.0)\n",
      "Requirement already satisfied: networkx in c:\\users\\kadda\\github_repos\\rag-gen-ai\\.venv\\lib\\site-packages (from torch[transformers]) (3.4.2)\n",
      "Requirement already satisfied: jinja2 in c:\\users\\kadda\\github_repos\\rag-gen-ai\\.venv\\lib\\site-packages (from torch[transformers]) (3.1.6)\n",
      "Requirement already satisfied: fsspec in c:\\users\\kadda\\github_repos\\rag-gen-ai\\.venv\\lib\\site-packages (from torch[transformers]) (2025.3.2)\n",
      "Requirement already satisfied: setuptools in c:\\users\\kadda\\github_repos\\rag-gen-ai\\.venv\\lib\\site-packages (from torch[transformers]) (80.7.1)\n",
      "Requirement already satisfied: packaging>=20.0 in c:\\users\\kadda\\github_repos\\rag-gen-ai\\.venv\\lib\\site-packages (from accelerate) (24.2)\n",
      "Requirement already satisfied: psutil in c:\\users\\kadda\\github_repos\\rag-gen-ai\\.venv\\lib\\site-packages (from accelerate) (7.0.0)\n",
      "Requirement already satisfied: pyyaml in c:\\users\\kadda\\github_repos\\rag-gen-ai\\.venv\\lib\\site-packages (from accelerate) (6.0.2)\n",
      "Requirement already satisfied: huggingface-hub>=0.21.0 in c:\\users\\kadda\\github_repos\\rag-gen-ai\\.venv\\lib\\site-packages (from accelerate) (0.31.4)\n",
      "Requirement already satisfied: safetensors>=0.4.3 in c:\\users\\kadda\\github_repos\\rag-gen-ai\\.venv\\lib\\site-packages (from accelerate) (0.5.3)\n",
      "Requirement already satisfied: requests in c:\\users\\kadda\\github_repos\\rag-gen-ai\\.venv\\lib\\site-packages (from huggingface-hub>=0.21.0->accelerate) (2.32.3)\n",
      "Requirement already satisfied: tqdm>=4.42.1 in c:\\users\\kadda\\github_repos\\rag-gen-ai\\.venv\\lib\\site-packages (from huggingface-hub>=0.21.0->accelerate) (4.67.1)\n",
      "Requirement already satisfied: mpmath<1.4,>=1.1.0 in c:\\users\\kadda\\github_repos\\rag-gen-ai\\.venv\\lib\\site-packages (from sympy>=1.13.3->torch[transformers]) (1.3.0)\n",
      "Requirement already satisfied: colorama in c:\\users\\kadda\\github_repos\\rag-gen-ai\\.venv\\lib\\site-packages (from tqdm>=4.42.1->huggingface-hub>=0.21.0->accelerate) (0.4.6)\n",
      "Requirement already satisfied: MarkupSafe>=2.0 in c:\\users\\kadda\\github_repos\\rag-gen-ai\\.venv\\lib\\site-packages (from jinja2->torch[transformers]) (3.0.2)\n",
      "Requirement already satisfied: charset-normalizer<4,>=2 in c:\\users\\kadda\\github_repos\\rag-gen-ai\\.venv\\lib\\site-packages (from requests->huggingface-hub>=0.21.0->accelerate) (3.4.2)\n",
      "Requirement already satisfied: idna<4,>=2.5 in c:\\users\\kadda\\github_repos\\rag-gen-ai\\.venv\\lib\\site-packages (from requests->huggingface-hub>=0.21.0->accelerate) (3.10)\n",
      "Requirement already satisfied: urllib3<3,>=1.21.1 in c:\\users\\kadda\\github_repos\\rag-gen-ai\\.venv\\lib\\site-packages (from requests->huggingface-hub>=0.21.0->accelerate) (2.4.0)\n",
      "Requirement already satisfied: certifi>=2017.4.17 in c:\\users\\kadda\\github_repos\\rag-gen-ai\\.venv\\lib\\site-packages (from requests->huggingface-hub>=0.21.0->accelerate) (2025.4.26)\n"
     ]
    },
    {
     "name": "stderr",
     "output_type": "stream",
     "text": [
      "WARNING: torch 2.7.0+cu128 does not provide the extra 'transformers'\n"
     ]
    }
   ],
   "source": [
    "!pip install bitsandbytes accelerate torch[transformers]"
   ]
  },
  {
   "cell_type": "code",
   "execution_count": 10,
   "id": "f09da46f",
   "metadata": {},
   "outputs": [
    {
     "name": "stdout",
     "output_type": "stream",
     "text": [
      "<BOS_TOKEN><|START_OF_TURN_TOKEN|><|SYSTEM_TOKEN|># Safety Preamble\n",
      "The instructions in this section override those in the task description and style guide sections. Don't answer questions that are harmful or immoral.\n",
      "\n",
      "# System Preamble\n",
      "## Basic Rules\n",
      "You are a powerful conversational AI trained by Cohere to help people. You are augmented by a number of tools, and your job is to use and consume the output of these tools to best help the user. You will see a conversation history between yourself and a user, ending with an utterance from the user. You will then see a specific instruction instructing you what kind of response to generate. When you answer the user's requests, you cite your sources in your answers, according to those instructions.\n",
      "\n",
      "# User Preamble\n",
      "## Task and Context\n",
      "You help people answer their questions and other requests interactively. You will be asked a very wide array of requests on all kinds of topics. You will be equipped with a wide range of search engines or similar tools to help you, which you use to research your answer. You should focus on serving the user's needs as best you can, which will be wide-ranging.\n",
      "\n",
      "## Style Guide\n",
      "Unless the user asks for a different style of answer, you should answer in full sentences, using proper grammar and spelling.<|END_OF_TURN_TOKEN|><|START_OF_TURN_TOKEN|><|USER_TOKEN|>Whats the biggest penguin in the world?<|END_OF_TURN_TOKEN|><|START_OF_TURN_TOKEN|><|SYSTEM_TOKEN|><results>\n",
      "Document: 0\n",
      "title: Tall penguins\n",
      "text: Emperor penguins are the tallest growing up to 122 cm in height.\n",
      "\n",
      "Document: 1\n",
      "title: Penguin habitats\n",
      "text: Emperor penguins only live in Antarctica.\n",
      "</results><|END_OF_TURN_TOKEN|><|START_OF_TURN_TOKEN|><|SYSTEM_TOKEN|>Carefully perform the following instructions, in order, starting each with a new line.\n",
      "Firstly, Decide which of the retrieved documents are relevant to the user's last input by writing 'Relevant Documents:' followed by comma-separated list of document numbers. If none are relevant, you should instead write 'None'.\n",
      "Secondly, Decide which of the retrieved documents contain facts that should be cited in a good answer to the user's last input by writing 'Cited Documents:' followed a comma-separated list of document numbers. If you dont want to cite any of them, you should instead write 'None'.\n",
      "Thirdly, Write 'Answer:' followed by a response to the user's last input in high quality natural english. Use the retrieved documents to help you. Do not insert any citations or grounding markup.\n",
      "Finally, Write 'Grounded answer:' followed by a response to the user's last input in high quality natural english. Use the symbols <co: doc> and </co: doc> to indicate when a fact comes from a document in the search result, e.g <co: 0>my fact</co: 0> for a fact from document 0.<|END_OF_TURN_TOKEN|><|START_OF_TURN_TOKEN|><|CHATBOT_TOKEN|>\n"
     ]
    }
   ],
   "source": [
    "from transformers import AutoTokenizer\n",
    "\n",
    "model_id = \"CohereForAI/c4ai-command-r-v01\"\n",
    "tokenizer = AutoTokenizer.from_pretrained(model_id)\n",
    "\n",
    "# define conversation input:\n",
    "conversation = [\n",
    "    {\"role\": \"user\", \"content\": \"Whats the biggest penguin in the world?\"}\n",
    "]\n",
    "# define documents to ground on:\n",
    "documents = [\n",
    "    { \"title\": \"Tall penguins\", \"text\": \"Emperor penguins are the tallest growing up to 122 cm in height.\" },\n",
    "    { \"title\": \"Penguin habitats\", \"text\": \"Emperor penguins only live in Antarctica.\"}\n",
    "]\n",
    "\n",
    "# render the tool use prompt as a string:\n",
    "grounded_generation_prompt = tokenizer.apply_grounded_generation_template(\n",
    "    conversation,\n",
    "    documents=documents,\n",
    "    citation_mode=\"accurate\", # or \"fast\"\n",
    "    tokenize=False,\n",
    "    add_generation_prompt=True,\n",
    ")\n",
    "print(grounded_generation_prompt)"
   ]
  },
  {
   "cell_type": "code",
   "execution_count": 11,
   "id": "ee3655ca",
   "metadata": {},
   "outputs": [
    {
     "name": "stdout",
     "output_type": "stream",
     "text": [
      "torch.Size([1, 579])\n"
     ]
    }
   ],
   "source": [
    "# Load the documents\n",
    "grounded_generation_tokens = tokenizer.apply_grounded_generation_template(\n",
    "    conversation,\n",
    "    documents=documents,\n",
    "    citation_mode=\"accurate\", # or \"fast\"\n",
    "    tokenize=True,\n",
    "    add_generation_prompt=True,\n",
    "    return_tensors=\"pt\"\n",
    ")\n",
    "print(grounded_generation_tokens.shape)"
   ]
  },
  {
   "cell_type": "code",
   "execution_count": 12,
   "id": "c9032017",
   "metadata": {},
   "outputs": [
    {
     "name": "stdout",
     "output_type": "stream",
     "text": [
      "PyTorch version: 2.7.0+cu128\n",
      "CUDA available: True\n",
      "CUDA device: NVIDIA GeForce RTX 2070\n"
     ]
    }
   ],
   "source": [
    "# debug the gpu\n",
    "import torch\n",
    "\n",
    "print(f\"PyTorch version: {torch.__version__}\")\n",
    "print(f\"CUDA available: {torch.cuda.is_available()}\")\n",
    "print(f\"CUDA device: {torch.cuda.get_device_name(0) if torch.cuda.is_available() else 'N/A'}\")\n",
    "\n",
    "# pip3 install torch torchvision torchaudio --index-url https://download.pytorch.org/whl/cu128\n",
    "\n"
   ]
  },
  {
   "cell_type": "code",
   "execution_count": null,
   "id": "cd429d0c",
   "metadata": {},
   "outputs": [],
   "source": [
    "from transformers import AutoTokenizer, AutoModelForCausalLM\n",
    "import torch\n",
    "\n",
    "# Set logging to see detailed errors\n",
    "import logging\n",
    "logging.basicConfig(level=logging.INFO)\n",
    "\n",
    "# Use specific parameters for 4-bit quantized loading\n",
    "model_id = \"CohereLabs/c4ai-command-r-v01-4bit\"\n",
    "tokenizer = AutoTokenizer.from_pretrained(model_id)\n",
    "\n",
    "# Load the model with explicit quantization parameters\n",
    "try:\n",
    "    model = AutoModelForCausalLM.from_pretrained(\n",
    "        model_id,\n",
    "        # device_map=\"auto\",  # Automatically place tensors on appropriate devices\n",
    "        # load_in_4bit=True,  # Explicitly use 4-bit quantization\n",
    "        # torch_dtype=torch.bfloat16,  # Use bfloat16 precision\n",
    "        # trust_remote_code=True,  # Needed for some models with custom code\n",
    "        # use_cache=True  # Enable KV caching for faster inference\n",
    "    )\n",
    "    print(\"Model loaded successfully!\")\n",
    "except Exception as e:\n",
    "    print(f\"Error loading model: {e}\")"
   ]
  },
  {
   "cell_type": "code",
   "execution_count": null,
   "id": "03e31032",
   "metadata": {},
   "outputs": [],
   "source": [
    "# # pip install 'transformers>=4.39.1' bitsandbytes accelerate\n",
    "# from transformers import AutoTokenizer, AutoModelForCausalLM\n",
    "\n",
    "# model_id = \"CohereLabs/c4ai-command-r-v01-4bit\"\n",
    "# tokenizer = AutoTokenizer.from_pretrained(model_id)\n",
    "# model = AutoModelForCausalLM.from_pretrained(model_id)"
   ]
  },
  {
   "cell_type": "code",
   "execution_count": null,
   "id": "3e2289c5",
   "metadata": {},
   "outputs": [],
   "source": [
    "gen_tokens = model.generate(\n",
    "    grounded_generation_tokens,\n",
    "    max_new_tokens=512,\n",
    "    do_sample=True,\n",
    "    temperature=0.3,\n",
    "    )\n",
    "\n",
    "gen_text = tokenizer.decode(gen_tokens[0])\n",
    "print(gen_text)\n"
   ]
  },
  {
   "cell_type": "code",
   "execution_count": null,
   "id": "ab1bd4e3",
   "metadata": {},
   "outputs": [],
   "source": [
    "def format_for_command_r(documents):\n",
    "    return [{'title': f'Document {index + 1}', 'text': document['metadata']['text']} for index, document in enumerate(documents)]\n",
    "\n",
    "command_r_docs = format_for_command_r(query_from_pinecone('I want to visit a Musuem in Munich', top_k=3, include_metadata=True))\n",
    "\n",
    "len(command_r_docs)"
   ]
  }
 ],
 "metadata": {
  "kernelspec": {
   "display_name": ".venv",
   "language": "python",
   "name": "python3"
  },
  "language_info": {
   "codemirror_mode": {
    "name": "ipython",
    "version": 3
   },
   "file_extension": ".py",
   "mimetype": "text/x-python",
   "name": "python",
   "nbconvert_exporter": "python",
   "pygments_lexer": "ipython3",
   "version": "3.13.3"
  }
 },
 "nbformat": 4,
 "nbformat_minor": 5
}
