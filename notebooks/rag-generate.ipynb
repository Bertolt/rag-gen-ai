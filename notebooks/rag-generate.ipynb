{
 "cells": [
  {
   "cell_type": "markdown",
   "id": "4c737281",
   "metadata": {},
   "source": [
    "# Putting the G in RAG"
   ]
  },
  {
   "cell_type": "code",
   "execution_count": 31,
   "id": "80bb6e17",
   "metadata": {},
   "outputs": [],
   "source": [
    "from supabase import create_client, Client\n",
    "import datetime\n",
    "from pinecone import Pinecone, ServerlessSpec\n",
    "\n",
    "from typing import Dict, Optional, Any\n",
    "import os\n",
    "from openai import OpenAI\n",
    "import pandas as pd\n",
    "\n",
    "from pydantic import BaseModel, Field\n",
    "from typing import List, Dict, Tuple\n",
    "\n",
    "from dotenv import load_dotenv"
   ]
  },
  {
   "cell_type": "code",
   "execution_count": 32,
   "id": "0fac3a75",
   "metadata": {},
   "outputs": [],
   "source": [
    "load_dotenv()\n",
    "\n",
    "url: str = os.getenv(\"SUPABASE_URL\")\n",
    "key: str = os.getenv(\"SUPABASE_KEY\")\n",
    "supabase: Client = create_client(url, key)"
   ]
  },
  {
   "cell_type": "code",
   "execution_count": 33,
   "id": "56bc78c6",
   "metadata": {},
   "outputs": [],
   "source": [
    "# Initialize the OpenAI client with the API key from user data\n",
    "openai_client = OpenAI(api_key=os.environ.get('OPENAI_API_KEY'))"
   ]
  },
  {
   "cell_type": "code",
   "execution_count": 34,
   "id": "7bc7be49",
   "metadata": {},
   "outputs": [
    {
     "data": {
      "text/plain": [
       "1536"
      ]
     },
     "execution_count": 34,
     "metadata": {},
     "output_type": "execute_result"
    }
   ],
   "source": [
    "pinecone_key = os.environ.get('PINECONE_API_KEY')\n",
    "INDEX_NAME = 'semantic-search-rag-index'\n",
    "ENGINE = 'text-embedding-3-small'\n",
    "NAMESPACE = 'default'\n",
    "\n",
    "pc = Pinecone(\n",
    "    api_key=pinecone_key\n",
    ")\n",
    "\n",
    "# helper functions to get lists of embeddings from the OpenAI API\n",
    "def get_embedding(text, engine=ENGINE):\n",
    "    response = openai_client.embeddings.create(\n",
    "        input=[text],\n",
    "        model=engine\n",
    "    )\n",
    "    return response.data[0].embedding\n",
    "\n",
    "len(get_embedding('hi'))"
   ]
  },
  {
   "cell_type": "code",
   "execution_count": 35,
   "id": "637c14f6",
   "metadata": {},
   "outputs": [
    {
     "data": {
      "text/plain": [
       "<pinecone.data.index.Index at 0x1df284c0640>"
      ]
     },
     "execution_count": 35,
     "metadata": {},
     "output_type": "execute_result"
    }
   ],
   "source": [
    "# Store the index as a variable\n",
    "index = pc.Index(name=INDEX_NAME)\n",
    "index"
   ]
  },
  {
   "cell_type": "code",
   "execution_count": 41,
   "id": "827c0f30",
   "metadata": {},
   "outputs": [
    {
     "data": {
      "text/plain": [
       "1"
      ]
     },
     "execution_count": 41,
     "metadata": {},
     "output_type": "execute_result"
    }
   ],
   "source": [
    "def query_from_pinecone(query, top_k=1, include_metadata=True):\n",
    "    # get embedding from THE SAME embedder as the documents\n",
    "    query_embedding = get_embedding(query, engine=ENGINE)\n",
    "\n",
    "    return index.query(\n",
    "      vector=query_embedding,\n",
    "      top_k=top_k,\n",
    "      namespace=NAMESPACE,\n",
    "      include_metadata=include_metadata   # gets the metadata (dates, text, etc)\n",
    "    ).get('matches')\n",
    "\n",
    "len(query_from_pinecone('KulturHighlights in Munchen'))"
   ]
  },
  {
   "cell_type": "code",
   "execution_count": 42,
   "id": "1dc42cf9",
   "metadata": {},
   "outputs": [
    {
     "data": {
      "text/plain": [
       "[{'id': '6ad9eeafc1a442c0a4c67b832832e3bf',\n",
       "  'metadata': {'date_uploaded': '2025-05-19T16:46:49.896040',\n",
       "               'text': 'us KulturHighlights Perlen der Münchner Kultur '\n",
       "                       'Konzertsäle, Museen, Theater HotelÜbersicht Unterkünfte '\n",
       "                       'in allen Preislagen buchen Hier im Überblick '\n",
       "                       'Sehenswürdigkeiten Bauwerke, Kirchen, Schlösser, Parks '\n",
       "                       'So schön ist München München mal anders Eure '\n",
       "                       'Stadtführung durch München mit oder ohne Guide LGBTIQ '\n",
       "                       'in München Tipps und Informationen für die queere '\n",
       "                       'Community Sehenswerte UBahnStationen Kunstwerke im '\n",
       "                       'Untergrund Sehenswerte UBahnhöfe Immer einen Besuch '\n",
       "                       'wert Museen in München Die wichtigsten Museen und '\n",
       "                       'Galerien Münchens Olympiapark Erholen, Staunen, Erleben '\n",
       "                       'im weitläufigen Park Besucherservice Tierpark '\n",
       "                       'Hellabrunn Infos zu Öffnungszeiten, Eintrittspreisen '\n",
       "                       'und Anfahrt ServiceTipps für den MünchenBesuch MVG '\n",
       "                       'Infos zu UBahn, Bus und Tram Tickets, Fahrpläne, '\n",
       "                       'LiveAuskunft, Mieträder Die Infos Touristeninformation '\n",
       "                       'Die wichtigsten InfoPoints Hier gibts Hinweise für '\n",
       "                       'Touristen Stadtrundfahrten in München. Eine Übersicht '\n",
       "                       'der Anbieter Stadtführungen Bei diesen Anbietern wird '\n",
       "                       'die Städtetour zum Erlebnis Umzugsunternehmen in '\n",
       "                       'München und Umgebung',\n",
       "               'url': 'https://www.muenchen.de/sehenswuerdigkeiten/tourismus'},\n",
       "  'score': 0.698851,\n",
       "  'values': []}]"
      ]
     },
     "execution_count": 42,
     "metadata": {},
     "output_type": "execute_result"
    }
   ],
   "source": [
    "query_from_pinecone('KulturHighlights in Munchen')"
   ]
  },
  {
   "cell_type": "code",
   "execution_count": 24,
   "id": "51ccc13f",
   "metadata": {},
   "outputs": [],
   "source": [
    "FINAL_ANSWER_TOKEN = \"Assistant Response:\"\n",
    "STOP = '[END]'\n",
    "PROMPT_TEMPLATE = \"\"\"Today is {today} and you can retrieve information from a database. Respond to the user's input as best as you can.\n",
    "\n",
    "Here is an example of the conversation format:\n",
    "\n",
    "[START]\n",
    "User Input: the input question you must answer\n",
    "Context: retrieved context from the database\n",
    "Context URL: context url\n",
    "Context Score : a score from 0 - 1 of how strong the information is a match\n",
    "Assistant Thought: This context has sufficient information to answer the question.\n",
    "Assistant Response: your final answer to the original input question which could be I don't have sufficient information to answer the question.\n",
    "[END]\n",
    "[START]\n",
    "User Input: another input question you must answer\n",
    "Context: more retrieved context from the database\n",
    "Context URL: context url\n",
    "Context Score : another score from 0 - 1 of how strong the information is a match\n",
    "Assistant Thought: This context does not have sufficient information to answer the question.\n",
    "Assistant Response: your final answer to the second input question which could be I don't have sufficient information to answer the question.\n",
    "[END]\n",
    "[START]\n",
    "User Input: another input question you must answer\n",
    "Context: more retrieved context from the database\n",
    "Context URL: context url\n",
    "Context Score : another score from 0 - 1 of how strong the information is a match\n",
    "Assistant Thought: A previous piece of context has the answer to this question\n",
    "Assistant Response: your final answer to the second input question which could be I don't have sufficient information to answer the question.\n",
    "[END]\n",
    "[START]\n",
    "User Input: another input question you must answer\n",
    "Context: NO CONTEXT FOUND\n",
    "Context URL: NONE\n",
    "Context Score : 0\n",
    "Assistant Thought: We either could not find something or we don't need to look something up\n",
    "Assistant Response: I'm sorry I don't know.\n",
    "[END]\n",
    "\n",
    "Begin:\n",
    "\n",
    "{running_convo}\n",
    "\"\"\"\n",
    "\n",
    "class RagBot(BaseModel):\n",
    "    llm: Any\n",
    "    prompt_template: str = PROMPT_TEMPLATE\n",
    "    stop_pattern: List[str] = [STOP]\n",
    "    user_inputs: List[str] = []\n",
    "    ai_responses: List[str] = []\n",
    "    contexts: List[Tuple[str, float]] = []\n",
    "    verbose: bool = False\n",
    "    threshold: float = 0.6\n",
    "\n",
    "    def query_from_pinecone(self, query, top_k=1, include_metadata=True):\n",
    "        return query_from_pinecone(query, top_k, include_metadata)\n",
    "\n",
    "    @property\n",
    "    def running_convo(self):\n",
    "        convo = ''\n",
    "        for index in range(len(self.user_inputs)):\n",
    "            convo += f'[START]\\nUser Input: {self.user_inputs[index]}\\n'\n",
    "            convo += f'Context: {self.contexts[index][0]}\\nContext URL: {self.contexts[index][1]}\\nContext Score: {self.contexts[index][2]}\\n'\n",
    "            if len(self.ai_responses) > index:\n",
    "                convo += self.ai_responses[index]\n",
    "                convo += '\\n[END]\\n'\n",
    "        return convo.strip()\n",
    "\n",
    "    def run(self, question: str):\n",
    "        self.user_inputs.append(question)\n",
    "        top_response = self.query_from_pinecone(question)[0]\n",
    "        if self.verbose:\n",
    "            print(top_response['score'])\n",
    "        if top_response['score'] >= self.threshold:\n",
    "            self.contexts.append(\n",
    "                (top_response['metadata']['text'], top_response['metadata']['url'], top_response['score']))\n",
    "        else:\n",
    "            self.contexts.append(('NO CONTEXT FOUND', 'NONE', 0))\n",
    "\n",
    "        prompt = self.prompt_template.format(  # behold, the augmentation\n",
    "                today = datetime.date.today(),\n",
    "                running_convo=self.running_convo\n",
    "        )\n",
    "        if self.verbose:\n",
    "            print('--------')\n",
    "            print('PROMPT')\n",
    "            print('--------')\n",
    "            print(prompt)\n",
    "            print('--------')\n",
    "            print('END PROMPT')\n",
    "            print('--------')\n",
    "        generated = self.llm.generate(prompt, stop=self.stop_pattern)\n",
    "        if self.verbose:\n",
    "            print('--------')\n",
    "            print('GENERATED')\n",
    "            print('--------')\n",
    "            print(generated)\n",
    "            print('--------')\n",
    "            print('END GENERATED')\n",
    "            print('--------')\n",
    "        self.ai_responses.append(generated)\n",
    "        if FINAL_ANSWER_TOKEN in generated:\n",
    "            generated = generated.split(FINAL_ANSWER_TOKEN)[-1]\n",
    "        return generated"
   ]
  },
  {
   "cell_type": "markdown",
   "id": "d4af4744",
   "metadata": {},
   "source": [
    "## Using OpenAI as Generator"
   ]
  },
  {
   "cell_type": "code",
   "execution_count": 51,
   "id": "4d4340a8",
   "metadata": {},
   "outputs": [],
   "source": [
    "# Define a class for the Chat Language Model\n",
    "class OpenAIChatLLM(BaseModel):\n",
    "    model: str = 'gpt-4o'  # Default model to use\n",
    "    temperature: float = 0.5  # Default temperature for generating responses\n",
    "\n",
    "    # Method to generate a response from the model based on the provided prompt\n",
    "    def generate(self, prompt: str, stop: List[str] = None):\n",
    "        # Create a completion request to the OpenAI API with the given parameters\n",
    "        response = openai_client.chat.completions.create(\n",
    "            model=self.model,\n",
    "            messages=[{\"role\": \"user\", \"content\": prompt}],\n",
    "            temperature=self.temperature,\n",
    "            stop=stop\n",
    "        )\n",
    "\n",
    "        # Insert the details of the prompt and response into the 'cost_projecting' table in Supabase\n",
    "        supabase.table('cost_projecting').insert({\n",
    "            'prompt': prompt,\n",
    "            'response': response.choices[0].message.content,\n",
    "            'input_tokens': response.usage.prompt_tokens,\n",
    "            'output_tokens': response.usage.completion_tokens,\n",
    "            'model': self.model,\n",
    "            'inference_params': {\n",
    "                'temperature': self.temperature,\n",
    "                'stop': stop\n",
    "            },\n",
    "            'is_openai': True,\n",
    "            'app': 'RAG'\n",
    "        }).execute()\n",
    "\n",
    "        # Return the generated response content\n",
    "        return response.choices[0].message.content"
   ]
  },
  {
   "cell_type": "code",
   "execution_count": 28,
   "id": "ca046ede",
   "metadata": {},
   "outputs": [
    {
     "data": {
      "text/plain": [
       "'Hello! How can I assist you today?'"
      ]
     },
     "execution_count": 28,
     "metadata": {},
     "output_type": "execute_result"
    }
   ],
   "source": [
    "c = OpenAIChatLLM()\n",
    "c.generate('hi')"
   ]
  },
  {
   "cell_type": "code",
   "execution_count": 52,
   "id": "e9732482",
   "metadata": {},
   "outputs": [
    {
     "name": "stdout",
     "output_type": "stream",
     "text": [
      " München bietet eine Vielzahl von Kulturhighlights, darunter beeindruckende Museen, Theater und Konzertsäle. Zu den wichtigsten Museen zählen die Alte Pinakothek, die Neue Pinakothek und das Deutsche Museum. Der Olympiapark ist ein weiterer beliebter Ort, um sich zu erholen und die Architektur zu bewundern. Für weitere Informationen über Sehenswürdigkeiten und kulturelle Angebote in München, besuchen Sie bitte die Webseite [muenchen.de](https://www.muenchen.de/sehenswuerdigkeiten/tourismus). \n",
      "\n"
     ]
    }
   ],
   "source": [
    "openai_rag_bot = RagBot(llm=OpenAIChatLLM(temperature=0, model='gpt-4o-mini'), stop_pattern=['[END]'], verbose=False)\n",
    "print(openai_rag_bot.run('KulturHighlights in Munchen'))"
   ]
  },
  {
   "cell_type": "code",
   "execution_count": 53,
   "id": "fe37929f",
   "metadata": {},
   "outputs": [
    {
     "name": "stdout",
     "output_type": "stream",
     "text": [
      " I'm sorry I don't know.  \n",
      "\n"
     ]
    }
   ],
   "source": [
    "print(openai_rag_bot.run('which city again?'))"
   ]
  },
  {
   "cell_type": "code",
   "execution_count": 54,
   "id": "3dcde7db",
   "metadata": {},
   "outputs": [
    {
     "name": "stdout",
     "output_type": "stream",
     "text": [
      "[START]\n",
      "User Input: KulturHighlights in Munchen\n",
      "Context: us KulturHighlights Perlen der Münchner Kultur Konzertsäle, Museen, Theater HotelÜbersicht Unterkünfte in allen Preislagen buchen Hier im Überblick Sehenswürdigkeiten Bauwerke, Kirchen, Schlösser, Parks So schön ist München München mal anders Eure Stadtführung durch München mit oder ohne Guide LGBTIQ in München Tipps und Informationen für die queere Community Sehenswerte UBahnStationen Kunstwerke im Untergrund Sehenswerte UBahnhöfe Immer einen Besuch wert Museen in München Die wichtigsten Museen und Galerien Münchens Olympiapark Erholen, Staunen, Erleben im weitläufigen Park Besucherservice Tierpark Hellabrunn Infos zu Öffnungszeiten, Eintrittspreisen und Anfahrt ServiceTipps für den MünchenBesuch MVG Infos zu UBahn, Bus und Tram Tickets, Fahrpläne, LiveAuskunft, Mieträder Die Infos Touristeninformation Die wichtigsten InfoPoints Hier gibts Hinweise für Touristen Stadtrundfahrten in München. Eine Übersicht der Anbieter Stadtführungen Bei diesen Anbietern wird die Städtetour zum Erlebnis Umzugsunternehmen in München und Umgebung\n",
      "Context URL: https://www.muenchen.de/sehenswuerdigkeiten/tourismus\n",
      "Context Score: 0.698853374\n",
      "Assistant Thought: This context has sufficient information to answer the question.\n",
      "Assistant Response: München bietet eine Vielzahl von Kulturhighlights, darunter beeindruckende Museen, Theater und Konzertsäle. Zu den wichtigsten Museen zählen die Alte Pinakothek, die Neue Pinakothek und das Deutsche Museum. Der Olympiapark ist ein weiterer beliebter Ort, um sich zu erholen und die Architektur zu bewundern. Für weitere Informationen über Sehenswürdigkeiten und kulturelle Angebote in München, besuchen Sie bitte die Webseite [muenchen.de](https://www.muenchen.de/sehenswuerdigkeiten/tourismus). \n",
      "\n",
      "[END]\n",
      "[START]\n",
      "User Input: which city again?\n",
      "Context: NO CONTEXT FOUND\n",
      "Context URL: NONE\n",
      "Context Score: 0\n",
      "Assistant Thought: We either could not find something or we don't need to look something up.  \n",
      "Assistant Response: I'm sorry I don't know.  \n",
      "\n",
      "[END]\n"
     ]
    }
   ],
   "source": [
    "print(openai_rag_bot.running_convo)"
   ]
  },
  {
   "cell_type": "code",
   "execution_count": 55,
   "id": "269b046c",
   "metadata": {},
   "outputs": [
    {
     "name": "stdout",
     "output_type": "stream",
     "text": [
      " I'm glad you found the information helpful! If you have any more questions, feel free to ask.  \n",
      "\n",
      "\n"
     ]
    }
   ],
   "source": [
    "print(openai_rag_bot.run('Amazing, thanks'))"
   ]
  },
  {
   "cell_type": "code",
   "execution_count": 56,
   "id": "4ea6d509",
   "metadata": {},
   "outputs": [
    {
     "name": "stdout",
     "output_type": "stream",
     "text": [
      "[START]\n",
      "User Input: KulturHighlights in Munchen\n",
      "Context: us KulturHighlights Perlen der Münchner Kultur Konzertsäle, Museen, Theater HotelÜbersicht Unterkünfte in allen Preislagen buchen Hier im Überblick Sehenswürdigkeiten Bauwerke, Kirchen, Schlösser, Parks So schön ist München München mal anders Eure Stadtführung durch München mit oder ohne Guide LGBTIQ in München Tipps und Informationen für die queere Community Sehenswerte UBahnStationen Kunstwerke im Untergrund Sehenswerte UBahnhöfe Immer einen Besuch wert Museen in München Die wichtigsten Museen und Galerien Münchens Olympiapark Erholen, Staunen, Erleben im weitläufigen Park Besucherservice Tierpark Hellabrunn Infos zu Öffnungszeiten, Eintrittspreisen und Anfahrt ServiceTipps für den MünchenBesuch MVG Infos zu UBahn, Bus und Tram Tickets, Fahrpläne, LiveAuskunft, Mieträder Die Infos Touristeninformation Die wichtigsten InfoPoints Hier gibts Hinweise für Touristen Stadtrundfahrten in München. Eine Übersicht der Anbieter Stadtführungen Bei diesen Anbietern wird die Städtetour zum Erlebnis Umzugsunternehmen in München und Umgebung\n",
      "Context URL: https://www.muenchen.de/sehenswuerdigkeiten/tourismus\n",
      "Context Score: 0.698853374\n",
      "Assistant Thought: This context has sufficient information to answer the question.\n",
      "Assistant Response: München bietet eine Vielzahl von Kulturhighlights, darunter beeindruckende Museen, Theater und Konzertsäle. Zu den wichtigsten Museen zählen die Alte Pinakothek, die Neue Pinakothek und das Deutsche Museum. Der Olympiapark ist ein weiterer beliebter Ort, um sich zu erholen und die Architektur zu bewundern. Für weitere Informationen über Sehenswürdigkeiten und kulturelle Angebote in München, besuchen Sie bitte die Webseite [muenchen.de](https://www.muenchen.de/sehenswuerdigkeiten/tourismus). \n",
      "\n",
      "[END]\n",
      "[START]\n",
      "User Input: which city again?\n",
      "Context: NO CONTEXT FOUND\n",
      "Context URL: NONE\n",
      "Context Score: 0\n",
      "Assistant Thought: We either could not find something or we don't need to look something up.  \n",
      "Assistant Response: I'm sorry I don't know.  \n",
      "\n",
      "[END]\n",
      "[START]\n",
      "User Input: Amazing, thanks\n",
      "Context: NO CONTEXT FOUND\n",
      "Context URL: NONE\n",
      "Context Score: 0\n",
      "Assistant Thought: We either could not find something or we don't need to look something up.  \n",
      "Assistant Response: I'm glad you found the information helpful! If you have any more questions, feel free to ask.  \n",
      "\n",
      "\n",
      "[END]\n"
     ]
    }
   ],
   "source": [
    "print(openai_rag_bot.running_convo)"
   ]
  },
  {
   "cell_type": "code",
   "execution_count": 68,
   "id": "b0cc8212",
   "metadata": {},
   "outputs": [
    {
     "data": {
      "application/vnd.microsoft.datawrangler.viewer.v0+json": {
       "columns": [
        {
         "name": "created_at",
         "rawType": "datetime64[ns, UTC]",
         "type": "unknown"
        },
        {
         "name": "id",
         "rawType": "int64",
         "type": "integer"
        },
        {
         "name": "prompt",
         "rawType": "object",
         "type": "string"
        },
        {
         "name": "response",
         "rawType": "object",
         "type": "string"
        },
        {
         "name": "input_tokens",
         "rawType": "int64",
         "type": "integer"
        },
        {
         "name": "output_tokens",
         "rawType": "int64",
         "type": "integer"
        },
        {
         "name": "model",
         "rawType": "object",
         "type": "string"
        },
        {
         "name": "inference_params",
         "rawType": "object",
         "type": "unknown"
        },
        {
         "name": "is_openai",
         "rawType": "bool",
         "type": "boolean"
        },
        {
         "name": "app",
         "rawType": "object",
         "type": "string"
        },
        {
         "name": "created_at",
         "rawType": "object",
         "type": "string"
        }
       ],
       "conversionMethod": "pd.DataFrame",
       "ref": "4b96521f-e3be-4d9f-bb25-7ef8e704a5c7",
       "rows": [
        [
         "2025-05-19 15:31:57.388163+00:00",
         "8",
         "Today is 2025-05-19 and you can retrieve information from a database. Respond to the user's input as best as you can.\n\nHere is an example of the conversation format:\n\n[START]\nUser Input: the input question you must answer\nContext: retrieved context from the database\nContext URL: context url\nContext Score : a score from 0 - 1 of how strong the information is a match\nAssistant Thought: This context has sufficient information to answer the question.\nAssistant Response: your final answer to the original input question which could be I don't have sufficient information to answer the question.\n[END]\n[START]\nUser Input: another input question you must answer\nContext: more retrieved context from the database\nContext URL: context url\nContext Score : another score from 0 - 1 of how strong the information is a match\nAssistant Thought: This context does not have sufficient information to answer the question.\nAssistant Response: your final answer to the second input question which could be I don't have sufficient information to answer the question.\n[END]\n[START]\nUser Input: another input question you must answer\nContext: more retrieved context from the database\nContext URL: context url\nContext Score : another score from 0 - 1 of how strong the information is a match\nAssistant Thought: A previous piece of context has the answer to this question\nAssistant Response: your final answer to the second input question which could be I don't have sufficient information to answer the question.\n[END]\n[START]\nUser Input: another input question you must answer\nContext: NO CONTEXT FOUND\nContext URL: NONE\nContext Score : 0\nAssistant Thought: We either could not find something or we don't need to look something up\nAssistant Response: I'm sorry I don't know.\n[END]\n\nBegin:\n\n[START]\nUser Input: KulturHighlights in Munchen\nContext: us KulturHighlights Perlen der Münchner Kultur Konzertsäle, Museen, Theater HotelÜbersicht Unterkünfte in allen Preislagen buchen Hier im Überblick Sehenswürdigkeiten Bauwerke, Kirchen, Schlösser, Parks So schön ist München München mal anders Eure Stadtführung durch München mit oder ohne Guide LGBTIQ in München Tipps und Informationen für die queere Community Sehenswerte UBahnStationen Kunstwerke im Untergrund Sehenswerte UBahnhöfe Immer einen Besuch wert Museen in München Die wichtigsten Museen und Galerien Münchens Olympiapark Erholen, Staunen, Erleben im weitläufigen Park Besucherservice Tierpark Hellabrunn Infos zu Öffnungszeiten, Eintrittspreisen und Anfahrt ServiceTipps für den MünchenBesuch MVG Infos zu UBahn, Bus und Tram Tickets, Fahrpläne, LiveAuskunft, Mieträder Die Infos Touristeninformation Die wichtigsten InfoPoints Hier gibts Hinweise für Touristen Stadtrundfahrten in München. Eine Übersicht der Anbieter Stadtführungen Bei diesen Anbietern wird die Städtetour zum Erlebnis Umzugsunternehmen in München und Umgebung\nContext URL: https://www.muenchen.de/sehenswuerdigkeiten/tourismus\nContext Score: 0.698859096\nAssistant Thought: This context has sufficient information to answer the question.\nAssistant Response: München bietet eine Vielzahl von Kulturhighlights, darunter beeindruckende Museen, Theater und Konzertsäle. Zu den wichtigsten Museen zählen die Alte Pinakothek, die Neue Pinakothek und das Deutsche Museum. Der Olympiapark ist ein weiterer beliebter Ort, um sich zu erholen und die Architektur zu bewundern. Für weitere Informationen über Sehenswürdigkeiten und kulturelle Angebote in München, besuchen Sie bitte die [offizielle Website](https://www.muenchen.de/sehenswuerdigkeiten/tourismus). \n\n[END]\n[START]\nUser Input: what is the location of the museum\nContext: NO CONTEXT FOUND\nContext URL: NONE\nContext Score: 0\n",
         "Assistant Thought: We either could not find something or we don't need to look something up.  \nAssistant Response: I'm sorry I don't know.  \n",
         "808",
         "32",
         "gpt-4o-mini",
         "{'stop': ['[END]'], 'temperature': 0.0}",
         "True",
         "RAG",
         "2025-05-19T15:31:57.388163+00:00"
        ],
        [
         "2025-05-19 15:33:56.793925+00:00",
         "9",
         "Today is 2025-05-19 and you can retrieve information from a database. Respond to the user's input as best as you can.\n\nHere is an example of the conversation format:\n\n[START]\nUser Input: the input question you must answer\nContext: retrieved context from the database\nContext URL: context url\nContext Score : a score from 0 - 1 of how strong the information is a match\nAssistant Thought: This context has sufficient information to answer the question.\nAssistant Response: your final answer to the original input question which could be I don't have sufficient information to answer the question.\n[END]\n[START]\nUser Input: another input question you must answer\nContext: more retrieved context from the database\nContext URL: context url\nContext Score : another score from 0 - 1 of how strong the information is a match\nAssistant Thought: This context does not have sufficient information to answer the question.\nAssistant Response: your final answer to the second input question which could be I don't have sufficient information to answer the question.\n[END]\n[START]\nUser Input: another input question you must answer\nContext: more retrieved context from the database\nContext URL: context url\nContext Score : another score from 0 - 1 of how strong the information is a match\nAssistant Thought: A previous piece of context has the answer to this question\nAssistant Response: your final answer to the second input question which could be I don't have sufficient information to answer the question.\n[END]\n[START]\nUser Input: another input question you must answer\nContext: NO CONTEXT FOUND\nContext URL: NONE\nContext Score : 0\nAssistant Thought: We either could not find something or we don't need to look something up\nAssistant Response: I'm sorry I don't know.\n[END]\n\nBegin:\n\n[START]\nUser Input: KulturHighlights in Munchen\nContext: us KulturHighlights Perlen der Münchner Kultur Konzertsäle, Museen, Theater HotelÜbersicht Unterkünfte in allen Preislagen buchen Hier im Überblick Sehenswürdigkeiten Bauwerke, Kirchen, Schlösser, Parks So schön ist München München mal anders Eure Stadtführung durch München mit oder ohne Guide LGBTIQ in München Tipps und Informationen für die queere Community Sehenswerte UBahnStationen Kunstwerke im Untergrund Sehenswerte UBahnhöfe Immer einen Besuch wert Museen in München Die wichtigsten Museen und Galerien Münchens Olympiapark Erholen, Staunen, Erleben im weitläufigen Park Besucherservice Tierpark Hellabrunn Infos zu Öffnungszeiten, Eintrittspreisen und Anfahrt ServiceTipps für den MünchenBesuch MVG Infos zu UBahn, Bus und Tram Tickets, Fahrpläne, LiveAuskunft, Mieträder Die Infos Touristeninformation Die wichtigsten InfoPoints Hier gibts Hinweise für Touristen Stadtrundfahrten in München. Eine Übersicht der Anbieter Stadtführungen Bei diesen Anbietern wird die Städtetour zum Erlebnis Umzugsunternehmen in München und Umgebung\nContext URL: https://www.muenchen.de/sehenswuerdigkeiten/tourismus\nContext Score: 0.698859096\nAssistant Thought: This context has sufficient information to answer the question.\nAssistant Response: München bietet eine Vielzahl von Kulturhighlights, darunter beeindruckende Museen, Theater und Konzertsäle. Zu den wichtigsten Museen zählen die Alte Pinakothek, die Neue Pinakothek und das Deutsche Museum. Der Olympiapark ist ein weiterer beliebter Ort, um sich zu erholen und die Architektur zu bewundern. Für weitere Informationen über Sehenswürdigkeiten und kulturelle Angebote in München, besuchen Sie bitte die [offizielle Website](https://www.muenchen.de/sehenswuerdigkeiten/tourismus). \n\n[END]\n[START]\nUser Input: what is the location of the museum\nContext: NO CONTEXT FOUND\nContext URL: NONE\nContext Score: 0\nAssistant Thought: We either could not find something or we don't need to look something up.  \nAssistant Response: I'm sorry I don't know.  \n\n[END]\n[START]\nUser Input: which city again?\nContext: NO CONTEXT FOUND\nContext URL: NONE\nContext Score: 0\n",
         "Assistant Thought: We either could not find something or we don't need to look something up.  \nAssistant Response: I'm sorry I don't know.  \n\n",
         "868",
         "32",
         "gpt-4o-mini",
         "{'stop': ['[END]'], 'temperature': 0.0}",
         "True",
         "RAG",
         "2025-05-19T15:33:56.793925+00:00"
        ],
        [
         "2025-05-19 15:34:56.806957+00:00",
         "10",
         "Today is 2025-05-19 and you can retrieve information from a database. Respond to the user's input as best as you can.\n\nHere is an example of the conversation format:\n\n[START]\nUser Input: the input question you must answer\nContext: retrieved context from the database\nContext URL: context url\nContext Score : a score from 0 - 1 of how strong the information is a match\nAssistant Thought: This context has sufficient information to answer the question.\nAssistant Response: your final answer to the original input question which could be I don't have sufficient information to answer the question.\n[END]\n[START]\nUser Input: another input question you must answer\nContext: more retrieved context from the database\nContext URL: context url\nContext Score : another score from 0 - 1 of how strong the information is a match\nAssistant Thought: This context does not have sufficient information to answer the question.\nAssistant Response: your final answer to the second input question which could be I don't have sufficient information to answer the question.\n[END]\n[START]\nUser Input: another input question you must answer\nContext: more retrieved context from the database\nContext URL: context url\nContext Score : another score from 0 - 1 of how strong the information is a match\nAssistant Thought: A previous piece of context has the answer to this question\nAssistant Response: your final answer to the second input question which could be I don't have sufficient information to answer the question.\n[END]\n[START]\nUser Input: another input question you must answer\nContext: NO CONTEXT FOUND\nContext URL: NONE\nContext Score : 0\nAssistant Thought: We either could not find something or we don't need to look something up\nAssistant Response: I'm sorry I don't know.\n[END]\n\nBegin:\n\n[START]\nUser Input: KulturHighlights in Munchen\nContext: us KulturHighlights Perlen der Münchner Kultur Konzertsäle, Museen, Theater HotelÜbersicht Unterkünfte in allen Preislagen buchen Hier im Überblick Sehenswürdigkeiten Bauwerke, Kirchen, Schlösser, Parks So schön ist München München mal anders Eure Stadtführung durch München mit oder ohne Guide LGBTIQ in München Tipps und Informationen für die queere Community Sehenswerte UBahnStationen Kunstwerke im Untergrund Sehenswerte UBahnhöfe Immer einen Besuch wert Museen in München Die wichtigsten Museen und Galerien Münchens Olympiapark Erholen, Staunen, Erleben im weitläufigen Park Besucherservice Tierpark Hellabrunn Infos zu Öffnungszeiten, Eintrittspreisen und Anfahrt ServiceTipps für den MünchenBesuch MVG Infos zu UBahn, Bus und Tram Tickets, Fahrpläne, LiveAuskunft, Mieträder Die Infos Touristeninformation Die wichtigsten InfoPoints Hier gibts Hinweise für Touristen Stadtrundfahrten in München. Eine Übersicht der Anbieter Stadtführungen Bei diesen Anbietern wird die Städtetour zum Erlebnis Umzugsunternehmen in München und Umgebung\nContext URL: https://www.muenchen.de/sehenswuerdigkeiten/tourismus\nContext Score: 0.698853374\n",
         "Assistant Thought: This context has sufficient information to answer the question.\nAssistant Response: München bietet eine Vielzahl von Kulturhighlights, darunter beeindruckende Museen, Theater und Konzertsäle. Zu den wichtigsten Museen zählen die Alte Pinakothek, die Neue Pinakothek und das Deutsche Museum. Der Olympiapark ist ein weiterer beliebter Ort, um sich zu erholen und die Architektur zu bewundern. Für weitere Informationen über Sehenswürdigkeiten und kulturelle Angebote in München, besuchen Sie bitte die Webseite [muenchen.de](https://www.muenchen.de/sehenswuerdigkeiten/tourismus). \n",
         "649",
         "129",
         "gpt-4o-mini",
         "{'stop': ['[END]'], 'temperature': 0.0}",
         "True",
         "RAG",
         "2025-05-19T15:34:56.806957+00:00"
        ],
        [
         "2025-05-19 15:34:59.960442+00:00",
         "11",
         "Today is 2025-05-19 and you can retrieve information from a database. Respond to the user's input as best as you can.\n\nHere is an example of the conversation format:\n\n[START]\nUser Input: the input question you must answer\nContext: retrieved context from the database\nContext URL: context url\nContext Score : a score from 0 - 1 of how strong the information is a match\nAssistant Thought: This context has sufficient information to answer the question.\nAssistant Response: your final answer to the original input question which could be I don't have sufficient information to answer the question.\n[END]\n[START]\nUser Input: another input question you must answer\nContext: more retrieved context from the database\nContext URL: context url\nContext Score : another score from 0 - 1 of how strong the information is a match\nAssistant Thought: This context does not have sufficient information to answer the question.\nAssistant Response: your final answer to the second input question which could be I don't have sufficient information to answer the question.\n[END]\n[START]\nUser Input: another input question you must answer\nContext: more retrieved context from the database\nContext URL: context url\nContext Score : another score from 0 - 1 of how strong the information is a match\nAssistant Thought: A previous piece of context has the answer to this question\nAssistant Response: your final answer to the second input question which could be I don't have sufficient information to answer the question.\n[END]\n[START]\nUser Input: another input question you must answer\nContext: NO CONTEXT FOUND\nContext URL: NONE\nContext Score : 0\nAssistant Thought: We either could not find something or we don't need to look something up\nAssistant Response: I'm sorry I don't know.\n[END]\n\nBegin:\n\n[START]\nUser Input: KulturHighlights in Munchen\nContext: us KulturHighlights Perlen der Münchner Kultur Konzertsäle, Museen, Theater HotelÜbersicht Unterkünfte in allen Preislagen buchen Hier im Überblick Sehenswürdigkeiten Bauwerke, Kirchen, Schlösser, Parks So schön ist München München mal anders Eure Stadtführung durch München mit oder ohne Guide LGBTIQ in München Tipps und Informationen für die queere Community Sehenswerte UBahnStationen Kunstwerke im Untergrund Sehenswerte UBahnhöfe Immer einen Besuch wert Museen in München Die wichtigsten Museen und Galerien Münchens Olympiapark Erholen, Staunen, Erleben im weitläufigen Park Besucherservice Tierpark Hellabrunn Infos zu Öffnungszeiten, Eintrittspreisen und Anfahrt ServiceTipps für den MünchenBesuch MVG Infos zu UBahn, Bus und Tram Tickets, Fahrpläne, LiveAuskunft, Mieträder Die Infos Touristeninformation Die wichtigsten InfoPoints Hier gibts Hinweise für Touristen Stadtrundfahrten in München. Eine Übersicht der Anbieter Stadtführungen Bei diesen Anbietern wird die Städtetour zum Erlebnis Umzugsunternehmen in München und Umgebung\nContext URL: https://www.muenchen.de/sehenswuerdigkeiten/tourismus\nContext Score: 0.698853374\nAssistant Thought: This context has sufficient information to answer the question.\nAssistant Response: München bietet eine Vielzahl von Kulturhighlights, darunter beeindruckende Museen, Theater und Konzertsäle. Zu den wichtigsten Museen zählen die Alte Pinakothek, die Neue Pinakothek und das Deutsche Museum. Der Olympiapark ist ein weiterer beliebter Ort, um sich zu erholen und die Architektur zu bewundern. Für weitere Informationen über Sehenswürdigkeiten und kulturelle Angebote in München, besuchen Sie bitte die Webseite [muenchen.de](https://www.muenchen.de/sehenswuerdigkeiten/tourismus). \n\n[END]\n[START]\nUser Input: which city again?\nContext: NO CONTEXT FOUND\nContext URL: NONE\nContext Score: 0\n",
         "Assistant Thought: We either could not find something or we don't need to look something up.  \nAssistant Response: I'm sorry I don't know.  \n",
         "806",
         "32",
         "gpt-4o-mini",
         "{'stop': ['[END]'], 'temperature': 0.0}",
         "True",
         "RAG",
         "2025-05-19T15:34:59.960442+00:00"
        ],
        [
         "2025-05-19 15:35:40.834758+00:00",
         "12",
         "Today is 2025-05-19 and you can retrieve information from a database. Respond to the user's input as best as you can.\n\nHere is an example of the conversation format:\n\n[START]\nUser Input: the input question you must answer\nContext: retrieved context from the database\nContext URL: context url\nContext Score : a score from 0 - 1 of how strong the information is a match\nAssistant Thought: This context has sufficient information to answer the question.\nAssistant Response: your final answer to the original input question which could be I don't have sufficient information to answer the question.\n[END]\n[START]\nUser Input: another input question you must answer\nContext: more retrieved context from the database\nContext URL: context url\nContext Score : another score from 0 - 1 of how strong the information is a match\nAssistant Thought: This context does not have sufficient information to answer the question.\nAssistant Response: your final answer to the second input question which could be I don't have sufficient information to answer the question.\n[END]\n[START]\nUser Input: another input question you must answer\nContext: more retrieved context from the database\nContext URL: context url\nContext Score : another score from 0 - 1 of how strong the information is a match\nAssistant Thought: A previous piece of context has the answer to this question\nAssistant Response: your final answer to the second input question which could be I don't have sufficient information to answer the question.\n[END]\n[START]\nUser Input: another input question you must answer\nContext: NO CONTEXT FOUND\nContext URL: NONE\nContext Score : 0\nAssistant Thought: We either could not find something or we don't need to look something up\nAssistant Response: I'm sorry I don't know.\n[END]\n\nBegin:\n\n[START]\nUser Input: KulturHighlights in Munchen\nContext: us KulturHighlights Perlen der Münchner Kultur Konzertsäle, Museen, Theater HotelÜbersicht Unterkünfte in allen Preislagen buchen Hier im Überblick Sehenswürdigkeiten Bauwerke, Kirchen, Schlösser, Parks So schön ist München München mal anders Eure Stadtführung durch München mit oder ohne Guide LGBTIQ in München Tipps und Informationen für die queere Community Sehenswerte UBahnStationen Kunstwerke im Untergrund Sehenswerte UBahnhöfe Immer einen Besuch wert Museen in München Die wichtigsten Museen und Galerien Münchens Olympiapark Erholen, Staunen, Erleben im weitläufigen Park Besucherservice Tierpark Hellabrunn Infos zu Öffnungszeiten, Eintrittspreisen und Anfahrt ServiceTipps für den MünchenBesuch MVG Infos zu UBahn, Bus und Tram Tickets, Fahrpläne, LiveAuskunft, Mieträder Die Infos Touristeninformation Die wichtigsten InfoPoints Hier gibts Hinweise für Touristen Stadtrundfahrten in München. Eine Übersicht der Anbieter Stadtführungen Bei diesen Anbietern wird die Städtetour zum Erlebnis Umzugsunternehmen in München und Umgebung\nContext URL: https://www.muenchen.de/sehenswuerdigkeiten/tourismus\nContext Score: 0.698853374\nAssistant Thought: This context has sufficient information to answer the question.\nAssistant Response: München bietet eine Vielzahl von Kulturhighlights, darunter beeindruckende Museen, Theater und Konzertsäle. Zu den wichtigsten Museen zählen die Alte Pinakothek, die Neue Pinakothek und das Deutsche Museum. Der Olympiapark ist ein weiterer beliebter Ort, um sich zu erholen und die Architektur zu bewundern. Für weitere Informationen über Sehenswürdigkeiten und kulturelle Angebote in München, besuchen Sie bitte die Webseite [muenchen.de](https://www.muenchen.de/sehenswuerdigkeiten/tourismus). \n\n[END]\n[START]\nUser Input: which city again?\nContext: NO CONTEXT FOUND\nContext URL: NONE\nContext Score: 0\nAssistant Thought: We either could not find something or we don't need to look something up.  \nAssistant Response: I'm sorry I don't know.  \n\n[END]\n[START]\nUser Input: Amazing, thanks\nContext: NO CONTEXT FOUND\nContext URL: NONE\nContext Score: 0\n",
         "Assistant Thought: We either could not find something or we don't need to look something up.  \nAssistant Response: I'm glad you found the information helpful! If you have any more questions, feel free to ask.  \n\n",
         "866",
         "46",
         "gpt-4o-mini",
         "{'stop': ['[END]'], 'temperature': 0.0}",
         "True",
         "RAG",
         "2025-05-19T15:35:40.834758+00:00"
        ]
       ],
       "shape": {
        "columns": 10,
        "rows": 5
       }
      },
      "text/html": [
       "<div>\n",
       "<style scoped>\n",
       "    .dataframe tbody tr th:only-of-type {\n",
       "        vertical-align: middle;\n",
       "    }\n",
       "\n",
       "    .dataframe tbody tr th {\n",
       "        vertical-align: top;\n",
       "    }\n",
       "\n",
       "    .dataframe thead th {\n",
       "        text-align: right;\n",
       "    }\n",
       "</style>\n",
       "<table border=\"1\" class=\"dataframe\">\n",
       "  <thead>\n",
       "    <tr style=\"text-align: right;\">\n",
       "      <th></th>\n",
       "      <th>id</th>\n",
       "      <th>prompt</th>\n",
       "      <th>response</th>\n",
       "      <th>input_tokens</th>\n",
       "      <th>output_tokens</th>\n",
       "      <th>model</th>\n",
       "      <th>inference_params</th>\n",
       "      <th>is_openai</th>\n",
       "      <th>app</th>\n",
       "      <th>created_at</th>\n",
       "    </tr>\n",
       "    <tr>\n",
       "      <th>created_at</th>\n",
       "      <th></th>\n",
       "      <th></th>\n",
       "      <th></th>\n",
       "      <th></th>\n",
       "      <th></th>\n",
       "      <th></th>\n",
       "      <th></th>\n",
       "      <th></th>\n",
       "      <th></th>\n",
       "      <th></th>\n",
       "    </tr>\n",
       "  </thead>\n",
       "  <tbody>\n",
       "    <tr>\n",
       "      <th>2025-05-19 15:31:57.388163+00:00</th>\n",
       "      <td>8</td>\n",
       "      <td>Today is 2025-05-19 and you can retrieve infor...</td>\n",
       "      <td>Assistant Thought: We either could not find so...</td>\n",
       "      <td>808</td>\n",
       "      <td>32</td>\n",
       "      <td>gpt-4o-mini</td>\n",
       "      <td>{'stop': ['[END]'], 'temperature': 0.0}</td>\n",
       "      <td>True</td>\n",
       "      <td>RAG</td>\n",
       "      <td>2025-05-19T15:31:57.388163+00:00</td>\n",
       "    </tr>\n",
       "    <tr>\n",
       "      <th>2025-05-19 15:33:56.793925+00:00</th>\n",
       "      <td>9</td>\n",
       "      <td>Today is 2025-05-19 and you can retrieve infor...</td>\n",
       "      <td>Assistant Thought: We either could not find so...</td>\n",
       "      <td>868</td>\n",
       "      <td>32</td>\n",
       "      <td>gpt-4o-mini</td>\n",
       "      <td>{'stop': ['[END]'], 'temperature': 0.0}</td>\n",
       "      <td>True</td>\n",
       "      <td>RAG</td>\n",
       "      <td>2025-05-19T15:33:56.793925+00:00</td>\n",
       "    </tr>\n",
       "    <tr>\n",
       "      <th>2025-05-19 15:34:56.806957+00:00</th>\n",
       "      <td>10</td>\n",
       "      <td>Today is 2025-05-19 and you can retrieve infor...</td>\n",
       "      <td>Assistant Thought: This context has sufficient...</td>\n",
       "      <td>649</td>\n",
       "      <td>129</td>\n",
       "      <td>gpt-4o-mini</td>\n",
       "      <td>{'stop': ['[END]'], 'temperature': 0.0}</td>\n",
       "      <td>True</td>\n",
       "      <td>RAG</td>\n",
       "      <td>2025-05-19T15:34:56.806957+00:00</td>\n",
       "    </tr>\n",
       "    <tr>\n",
       "      <th>2025-05-19 15:34:59.960442+00:00</th>\n",
       "      <td>11</td>\n",
       "      <td>Today is 2025-05-19 and you can retrieve infor...</td>\n",
       "      <td>Assistant Thought: We either could not find so...</td>\n",
       "      <td>806</td>\n",
       "      <td>32</td>\n",
       "      <td>gpt-4o-mini</td>\n",
       "      <td>{'stop': ['[END]'], 'temperature': 0.0}</td>\n",
       "      <td>True</td>\n",
       "      <td>RAG</td>\n",
       "      <td>2025-05-19T15:34:59.960442+00:00</td>\n",
       "    </tr>\n",
       "    <tr>\n",
       "      <th>2025-05-19 15:35:40.834758+00:00</th>\n",
       "      <td>12</td>\n",
       "      <td>Today is 2025-05-19 and you can retrieve infor...</td>\n",
       "      <td>Assistant Thought: We either could not find so...</td>\n",
       "      <td>866</td>\n",
       "      <td>46</td>\n",
       "      <td>gpt-4o-mini</td>\n",
       "      <td>{'stop': ['[END]'], 'temperature': 0.0}</td>\n",
       "      <td>True</td>\n",
       "      <td>RAG</td>\n",
       "      <td>2025-05-19T15:35:40.834758+00:00</td>\n",
       "    </tr>\n",
       "  </tbody>\n",
       "</table>\n",
       "</div>"
      ],
      "text/plain": [
       "                                  id  \\\n",
       "created_at                             \n",
       "2025-05-19 15:31:57.388163+00:00   8   \n",
       "2025-05-19 15:33:56.793925+00:00   9   \n",
       "2025-05-19 15:34:56.806957+00:00  10   \n",
       "2025-05-19 15:34:59.960442+00:00  11   \n",
       "2025-05-19 15:35:40.834758+00:00  12   \n",
       "\n",
       "                                                                             prompt  \\\n",
       "created_at                                                                            \n",
       "2025-05-19 15:31:57.388163+00:00  Today is 2025-05-19 and you can retrieve infor...   \n",
       "2025-05-19 15:33:56.793925+00:00  Today is 2025-05-19 and you can retrieve infor...   \n",
       "2025-05-19 15:34:56.806957+00:00  Today is 2025-05-19 and you can retrieve infor...   \n",
       "2025-05-19 15:34:59.960442+00:00  Today is 2025-05-19 and you can retrieve infor...   \n",
       "2025-05-19 15:35:40.834758+00:00  Today is 2025-05-19 and you can retrieve infor...   \n",
       "\n",
       "                                                                           response  \\\n",
       "created_at                                                                            \n",
       "2025-05-19 15:31:57.388163+00:00  Assistant Thought: We either could not find so...   \n",
       "2025-05-19 15:33:56.793925+00:00  Assistant Thought: We either could not find so...   \n",
       "2025-05-19 15:34:56.806957+00:00  Assistant Thought: This context has sufficient...   \n",
       "2025-05-19 15:34:59.960442+00:00  Assistant Thought: We either could not find so...   \n",
       "2025-05-19 15:35:40.834758+00:00  Assistant Thought: We either could not find so...   \n",
       "\n",
       "                                  input_tokens  output_tokens        model  \\\n",
       "created_at                                                                   \n",
       "2025-05-19 15:31:57.388163+00:00           808             32  gpt-4o-mini   \n",
       "2025-05-19 15:33:56.793925+00:00           868             32  gpt-4o-mini   \n",
       "2025-05-19 15:34:56.806957+00:00           649            129  gpt-4o-mini   \n",
       "2025-05-19 15:34:59.960442+00:00           806             32  gpt-4o-mini   \n",
       "2025-05-19 15:35:40.834758+00:00           866             46  gpt-4o-mini   \n",
       "\n",
       "                                                         inference_params  \\\n",
       "created_at                                                                  \n",
       "2025-05-19 15:31:57.388163+00:00  {'stop': ['[END]'], 'temperature': 0.0}   \n",
       "2025-05-19 15:33:56.793925+00:00  {'stop': ['[END]'], 'temperature': 0.0}   \n",
       "2025-05-19 15:34:56.806957+00:00  {'stop': ['[END]'], 'temperature': 0.0}   \n",
       "2025-05-19 15:34:59.960442+00:00  {'stop': ['[END]'], 'temperature': 0.0}   \n",
       "2025-05-19 15:35:40.834758+00:00  {'stop': ['[END]'], 'temperature': 0.0}   \n",
       "\n",
       "                                  is_openai  app  \\\n",
       "created_at                                         \n",
       "2025-05-19 15:31:57.388163+00:00       True  RAG   \n",
       "2025-05-19 15:33:56.793925+00:00       True  RAG   \n",
       "2025-05-19 15:34:56.806957+00:00       True  RAG   \n",
       "2025-05-19 15:34:59.960442+00:00       True  RAG   \n",
       "2025-05-19 15:35:40.834758+00:00       True  RAG   \n",
       "\n",
       "                                                        created_at  \n",
       "created_at                                                          \n",
       "2025-05-19 15:31:57.388163+00:00  2025-05-19T15:31:57.388163+00:00  \n",
       "2025-05-19 15:33:56.793925+00:00  2025-05-19T15:33:56.793925+00:00  \n",
       "2025-05-19 15:34:56.806957+00:00  2025-05-19T15:34:56.806957+00:00  \n",
       "2025-05-19 15:34:59.960442+00:00  2025-05-19T15:34:59.960442+00:00  \n",
       "2025-05-19 15:35:40.834758+00:00  2025-05-19T15:35:40.834758+00:00  "
      ]
     },
     "execution_count": 68,
     "metadata": {},
     "output_type": "execute_result"
    }
   ],
   "source": [
    "response = supabase.table('cost_projecting').select(\"*\").eq('app', 'RAG').execute()\n",
    "completions_df = pd.DataFrame(response.data)\n",
    "completions_df.index = pd.to_datetime(completions_df['created_at'])\n",
    "\n",
    "completions_df.tail()"
   ]
  },
  {
   "cell_type": "code",
   "execution_count": 64,
   "id": "6a120b5a",
   "metadata": {},
   "outputs": [
    {
     "name": "stdout",
     "output_type": "stream",
     "text": [
      "Total cost for the completions dataframe:\n",
      "GPT-3.5-Turbo cost: $0.007495\n",
      "GPT-4o-mini cost: $0.007495\n"
     ]
    }
   ],
   "source": [
    "prices = { # per 1M tokens\n",
    "    'gpt-3.5-turbo': {\n",
    "        'prompt': 0.5,\n",
    "        'completion': 1.5\n",
    "    },\n",
    "    'gpt-4o-mini': {\n",
    "        'prompt': 0.15,\n",
    "        'completion': 0.6\n",
    "    },\n",
    "    'gpt-4o': {\n",
    "        'prompt': 3,\n",
    "        'completion': 6\n",
    "    },\n",
    "    'gpt-4': {\n",
    "        'prompt': 10,\n",
    "        'completion': 30\n",
    "    },\n",
    "    'gpt-4-turbo': {\n",
    "        'prompt': 5,\n",
    "        'completion': 15\n",
    "    },\n",
    "    'text-embedding-3-small': {\n",
    "        'prompt': 0.02,\n",
    "        'completion': 0\n",
    "    },\n",
    "    'text-embedding-3-large': {\n",
    "        'prompt': 0.13,\n",
    "        'completion': 0\n",
    "    }\n",
    "}\n",
    "\n",
    "# generate current cost for the completions dataframe\n",
    "\n",
    "total_input_tokens = completions_df['input_tokens'].sum()\n",
    "total_output_tokens = completions_df['output_tokens'].sum()\n",
    "\n",
    "\n",
    "def calculate_cost(input_tokens, output_tokens, model):\n",
    "    if model not in prices:\n",
    "        return None\n",
    "\n",
    "    prompt_cost = input_tokens / 1e6\n",
    "    completion_cost = output_tokens / 1e6\n",
    "\n",
    "    return prompt_cost + completion_cost\n",
    "\n",
    "print('Total cost for the completions dataframe:')\n",
    "costs = calculate_cost(total_input_tokens, total_output_tokens, 'gpt-3.5-turbo'), calculate_cost(total_input_tokens, total_output_tokens, 'gpt-4o-mini')    \n",
    "print(f\"GPT-3.5-Turbo cost: ${float(costs[0]):.6f}\")\n",
    "print(f\"GPT-4o-mini cost: ${float(costs[1]):.6f}\")\n",
    "# calculate_cost(354, 400, 'gpt-3.5-turbo'), calculate_cost(354, 400, 'gpt-4o')\n",
    "# calculate_cost(total_input_tokens, total_output_tokens, 'gpt-4o-mini'), calculate_cost(total_input_tokens, total_output_tokens, 'gpt-4o')"
   ]
  },
  {
   "cell_type": "code",
   "execution_count": 65,
   "id": "6d940534",
   "metadata": {},
   "outputs": [],
   "source": [
    "# run calculate_cost over every row\n",
    "completions_df['cost'] = completions_df.apply(\n",
    "    lambda row: calculate_cost(row['input_tokens'], row['output_tokens'], row['model']), axis=1\n",
    "    )"
   ]
  },
  {
   "cell_type": "code",
   "execution_count": 66,
   "id": "7252080a",
   "metadata": {},
   "outputs": [
    {
     "data": {
      "text/plain": [
       "created_at\n",
       "2025-05-19 00:00:00+00:00    0.007495\n",
       "Freq: W-MON, Name: cost, dtype: float64"
      ]
     },
     "execution_count": 66,
     "metadata": {},
     "output_type": "execute_result"
    }
   ],
   "source": [
    "completions_df['cost'].resample('W-Mon').sum().sort_index()"
   ]
  },
  {
   "cell_type": "code",
   "execution_count": 67,
   "id": "df7ff2f9",
   "metadata": {},
   "outputs": [
    {
     "data": {
      "text/plain": [
       "<Axes: xlabel='created_at'>"
      ]
     },
     "execution_count": 67,
     "metadata": {},
     "output_type": "execute_result"
    },
    {
     "data": {
      "image/png": "[encoded data removed]",
      "text/plain": [
       "<Figure size 640x480 with 1 Axes>"
      ]
     },
     "metadata": {},
     "output_type": "display_data"
    }
   ],
   "source": [
    "completions_df['cost'].resample('W-Mon').sum().sort_index().plot(kind='bar')"
   ]
  }
 ],
 "metadata": {
  "kernelspec": {
   "display_name": ".venv",
   "language": "python",
   "name": "python3"
  },
  "language_info": {
   "codemirror_mode": {
    "name": "ipython",
    "version": 3
   },
   "file_extension": ".py",
   "mimetype": "text/x-python",
   "name": "python",
   "nbconvert_exporter": "python",
   "pygments_lexer": "ipython3",
   "version": "3.13.3"
  }
 },
 "nbformat": 4,
 "nbformat_minor": 5
}
